{
 "cells": [
  {
   "cell_type": "code",
   "execution_count": 5,
   "metadata": {},
   "outputs": [],
   "source": [
    "import numpy as np\n",
    "import random\n",
    "from tqdm import tqdm\n",
    "import math\n",
    "import torch"
   ]
  },
  {
   "cell_type": "markdown",
   "metadata": {},
   "source": [
    "## Multiarmed bandits"
   ]
  },
  {
   "cell_type": "code",
   "execution_count": 6,
   "metadata": {},
   "outputs": [],
   "source": [
    "# Function to convert episodes to trajectory sequence of codes\n",
    "def episodes_to_trajectory(episodes):\n",
    "    trajectory = []\n",
    "    for episode in episodes:\n",
    "        action = episode['action']\n",
    "        reward = episode['reward']\n",
    "        trajectory.extend([action, reward])\n",
    "    return trajectory\n",
    "\n",
    "def cumulative_reward_from_trajectory(trajectory):\n",
    "    cumulative_reward = 0\n",
    "    for i in range(0, len(trajectory), 2):\n",
    "        cumulative_reward += trajectory[i + 1]\n",
    "    return cumulative_reward\n",
    "\n",
    "def softmax(x):\n",
    "    e_x = np.exp(x - np.max(x))\n",
    "    return e_x / e_x.sum()"
   ]
  },
  {
   "cell_type": "code",
   "execution_count": 7,
   "metadata": {},
   "outputs": [
    {
     "name": "stderr",
     "output_type": "stream",
     "text": [
      "100%|██████████| 1000/1000 [00:00<00:00, 3314.87it/s]\n"
     ]
    }
   ],
   "source": [
    "def select_arm(epsilon):\n",
    "    if random.random() < epsilon:\n",
    "        return random.randint(0, n_arms - 1), 'random'  # Exploration\n",
    "    else:\n",
    "        return max(range(n_arms), key=lambda x: estimated_rewards[x]), 'greedy'  # Exploitation\n",
    "\n",
    "def update_reward(arm, reward):\n",
    "    counts[arm] += 1\n",
    "    estimated_rewards[arm] += (reward - estimated_rewards[arm]) / counts[arm]\n",
    "\n",
    "def generate_reward(arm, prob_high_value, high_value=10, low_value=1):\n",
    "    if random.random() < prob_high_value[arm]:\n",
    "        return high_value\n",
    "    else:\n",
    "        return low_value\n",
    "\n",
    "def epsilon_schedule(t):\n",
    "    return max(epsilon_min, epsilon_initial / math.log(t + decay_offset))\n",
    "\n",
    "# Function to convert episodes to trajectory sequence of codes\n",
    "def episodes_to_trajectory(episodes):\n",
    "    trajectory = []\n",
    "    for episode in episodes:\n",
    "        action = episode['action'] + 2\n",
    "        reward = 0 if episode['reward'] == 1 else 1\n",
    "        trajectory.extend([action, reward])\n",
    "    return trajectory\n",
    "\n",
    "def cumulative_reward_from_trajectory(trajectory):\n",
    "    cumulative_reward = 0\n",
    "    for i in range(0, len(trajectory), 2):\n",
    "        cumulative_reward += trajectory[i + 1]\n",
    "    return cumulative_reward\n",
    "\n",
    "num_trajectories = 1000\n",
    "trajectories = []\n",
    "\n",
    "for _ in tqdm(range(num_trajectories)):\n",
    "    #print('hello')\n",
    "    # Initialization\n",
    "    n_arms = 10\n",
    "    counts = [0] * n_arms\n",
    "    #rewards = [0.0] * n_arms\n",
    "    estimated_rewards = [0.0] * n_arms\n",
    "\n",
    "    epsilon_initial = 1.0\n",
    "    epsilon_min = 0.001\n",
    "    decay_offset = 1e-2  # Offset to avoid division by zero in log function\n",
    "\n",
    "    # Each arm has its own fixed reward probability\n",
    "    prob_high_value = np.ones(n_arms) * 0.1\n",
    "\n",
    "    # Randomly select 2 indices\n",
    "    indices = np.random.choice(n_arms, 2, replace=False)\n",
    "    prob_high_value[indices] = 0.9\n",
    "\n",
    "    high_value = 10\n",
    "    low_value = 1\n",
    "\n",
    "    episodes = []\n",
    "\n",
    "    # Run multiple episodes\n",
    "    for episode in range(1, 101):  # Number of episodes (1-indexed for log function)\n",
    "        # Decay epsilon over episodes\n",
    "        epsilon = epsilon_schedule(episode)\n",
    "        #epsilon=0.1\n",
    "        arm, arm_type = select_arm(epsilon)\n",
    "        if arm in indices:\n",
    "            selected_high = 1\n",
    "        else:\n",
    "            selected_high = 0\n",
    "        reward = generate_reward(arm, prob_high_value)\n",
    "        update_reward(arm, reward)\n",
    "        episodes.append({'state': {'counts': list(counts), 'rewards': list(estimated_rewards)}, 'action': arm, 'reward': reward, 'arm_type': arm_type, 'selected_high': selected_high})\n",
    "\n",
    "    # print()\n",
    "\n",
    "    trajectory = episodes_to_trajectory(episodes)\n",
    "    cumulative_reward = cumulative_reward_from_trajectory(trajectory)\n",
    "    #print(f\"Probabilities: {prob_high_value}\")\n",
    "    trajectories.append({'trajectory': trajectory, 'cumulative_reward': cumulative_reward, 'probabilities': prob_high_value,\n",
    "                         'selected_highs': [episode['selected_high'] for episode in episodes], 'arm_types': [episode['arm_type'] for episode in episodes]})\n"
   ]
  },
  {
   "cell_type": "code",
   "execution_count": 8,
   "metadata": {},
   "outputs": [
    {
     "data": {
      "application/vnd.plotly.v1+json": {
       "config": {
        "plotlyServerURL": "https://plot.ly"
       },
       "data": [
        {
         "hovertemplate": "Episode=%{x}<br>Probability of Selecting High Reward Arm=%{y}<extra></extra>",
         "legendgroup": "",
         "line": {
          "color": "#636efa",
          "dash": "solid"
         },
         "marker": {
          "symbol": "circle"
         },
         "mode": "lines",
         "name": "",
         "orientation": "v",
         "showlegend": false,
         "type": "scatter",
         "x": [
          0,
          1,
          2,
          3,
          4,
          5,
          6,
          7,
          8,
          9,
          10,
          11,
          12,
          13,
          14,
          15,
          16,
          17,
          18,
          19,
          20,
          21,
          22,
          23,
          24,
          25,
          26,
          27,
          28,
          29,
          30,
          31,
          32,
          33,
          34,
          35,
          36,
          37,
          38,
          39,
          40,
          41,
          42,
          43,
          44,
          45,
          46,
          47,
          48,
          49,
          50,
          51,
          52,
          53,
          54,
          55,
          56,
          57,
          58,
          59,
          60,
          61,
          62,
          63,
          64,
          65,
          66,
          67,
          68,
          69,
          70,
          71,
          72,
          73,
          74,
          75,
          76,
          77,
          78,
          79,
          80,
          81,
          82,
          83,
          84,
          85,
          86,
          87,
          88,
          89,
          90,
          91,
          92,
          93,
          94,
          95,
          96,
          97,
          98,
          99
         ],
         "xaxis": "x",
         "y": [
          0.209,
          0.205,
          0.2,
          0.246,
          0.295,
          0.332,
          0.383,
          0.393,
          0.441,
          0.452,
          0.477,
          0.488,
          0.524,
          0.554,
          0.556,
          0.551,
          0.585,
          0.593,
          0.606,
          0.638,
          0.637,
          0.64,
          0.648,
          0.658,
          0.655,
          0.663,
          0.678,
          0.675,
          0.699,
          0.689,
          0.691,
          0.712,
          0.72,
          0.733,
          0.729,
          0.725,
          0.744,
          0.773,
          0.734,
          0.759,
          0.72,
          0.759,
          0.761,
          0.767,
          0.746,
          0.756,
          0.765,
          0.764,
          0.744,
          0.786,
          0.774,
          0.772,
          0.763,
          0.751,
          0.775,
          0.796,
          0.8,
          0.818,
          0.778,
          0.81,
          0.8,
          0.793,
          0.797,
          0.816,
          0.787,
          0.793,
          0.806,
          0.78,
          0.807,
          0.818,
          0.792,
          0.793,
          0.799,
          0.809,
          0.806,
          0.813,
          0.805,
          0.814,
          0.825,
          0.803,
          0.803,
          0.82,
          0.818,
          0.802,
          0.824,
          0.814,
          0.83,
          0.818,
          0.815,
          0.815,
          0.784,
          0.822,
          0.781,
          0.818,
          0.817,
          0.802,
          0.811,
          0.82,
          0.813,
          0.835
         ],
         "yaxis": "y"
        }
       ],
       "layout": {
        "legend": {
         "tracegroupgap": 0
        },
        "margin": {
         "t": 60
        },
        "template": {
         "data": {
          "bar": [
           {
            "error_x": {
             "color": "#2a3f5f"
            },
            "error_y": {
             "color": "#2a3f5f"
            },
            "marker": {
             "line": {
              "color": "#E5ECF6",
              "width": 0.5
             },
             "pattern": {
              "fillmode": "overlay",
              "size": 10,
              "solidity": 0.2
             }
            },
            "type": "bar"
           }
          ],
          "barpolar": [
           {
            "marker": {
             "line": {
              "color": "#E5ECF6",
              "width": 0.5
             },
             "pattern": {
              "fillmode": "overlay",
              "size": 10,
              "solidity": 0.2
             }
            },
            "type": "barpolar"
           }
          ],
          "carpet": [
           {
            "aaxis": {
             "endlinecolor": "#2a3f5f",
             "gridcolor": "white",
             "linecolor": "white",
             "minorgridcolor": "white",
             "startlinecolor": "#2a3f5f"
            },
            "baxis": {
             "endlinecolor": "#2a3f5f",
             "gridcolor": "white",
             "linecolor": "white",
             "minorgridcolor": "white",
             "startlinecolor": "#2a3f5f"
            },
            "type": "carpet"
           }
          ],
          "choropleth": [
           {
            "colorbar": {
             "outlinewidth": 0,
             "ticks": ""
            },
            "type": "choropleth"
           }
          ],
          "contour": [
           {
            "colorbar": {
             "outlinewidth": 0,
             "ticks": ""
            },
            "colorscale": [
             [
              0,
              "#0d0887"
             ],
             [
              0.1111111111111111,
              "#46039f"
             ],
             [
              0.2222222222222222,
              "#7201a8"
             ],
             [
              0.3333333333333333,
              "#9c179e"
             ],
             [
              0.4444444444444444,
              "#bd3786"
             ],
             [
              0.5555555555555556,
              "#d8576b"
             ],
             [
              0.6666666666666666,
              "#ed7953"
             ],
             [
              0.7777777777777778,
              "#fb9f3a"
             ],
             [
              0.8888888888888888,
              "#fdca26"
             ],
             [
              1,
              "#f0f921"
             ]
            ],
            "type": "contour"
           }
          ],
          "contourcarpet": [
           {
            "colorbar": {
             "outlinewidth": 0,
             "ticks": ""
            },
            "type": "contourcarpet"
           }
          ],
          "heatmap": [
           {
            "colorbar": {
             "outlinewidth": 0,
             "ticks": ""
            },
            "colorscale": [
             [
              0,
              "#0d0887"
             ],
             [
              0.1111111111111111,
              "#46039f"
             ],
             [
              0.2222222222222222,
              "#7201a8"
             ],
             [
              0.3333333333333333,
              "#9c179e"
             ],
             [
              0.4444444444444444,
              "#bd3786"
             ],
             [
              0.5555555555555556,
              "#d8576b"
             ],
             [
              0.6666666666666666,
              "#ed7953"
             ],
             [
              0.7777777777777778,
              "#fb9f3a"
             ],
             [
              0.8888888888888888,
              "#fdca26"
             ],
             [
              1,
              "#f0f921"
             ]
            ],
            "type": "heatmap"
           }
          ],
          "heatmapgl": [
           {
            "colorbar": {
             "outlinewidth": 0,
             "ticks": ""
            },
            "colorscale": [
             [
              0,
              "#0d0887"
             ],
             [
              0.1111111111111111,
              "#46039f"
             ],
             [
              0.2222222222222222,
              "#7201a8"
             ],
             [
              0.3333333333333333,
              "#9c179e"
             ],
             [
              0.4444444444444444,
              "#bd3786"
             ],
             [
              0.5555555555555556,
              "#d8576b"
             ],
             [
              0.6666666666666666,
              "#ed7953"
             ],
             [
              0.7777777777777778,
              "#fb9f3a"
             ],
             [
              0.8888888888888888,
              "#fdca26"
             ],
             [
              1,
              "#f0f921"
             ]
            ],
            "type": "heatmapgl"
           }
          ],
          "histogram": [
           {
            "marker": {
             "pattern": {
              "fillmode": "overlay",
              "size": 10,
              "solidity": 0.2
             }
            },
            "type": "histogram"
           }
          ],
          "histogram2d": [
           {
            "colorbar": {
             "outlinewidth": 0,
             "ticks": ""
            },
            "colorscale": [
             [
              0,
              "#0d0887"
             ],
             [
              0.1111111111111111,
              "#46039f"
             ],
             [
              0.2222222222222222,
              "#7201a8"
             ],
             [
              0.3333333333333333,
              "#9c179e"
             ],
             [
              0.4444444444444444,
              "#bd3786"
             ],
             [
              0.5555555555555556,
              "#d8576b"
             ],
             [
              0.6666666666666666,
              "#ed7953"
             ],
             [
              0.7777777777777778,
              "#fb9f3a"
             ],
             [
              0.8888888888888888,
              "#fdca26"
             ],
             [
              1,
              "#f0f921"
             ]
            ],
            "type": "histogram2d"
           }
          ],
          "histogram2dcontour": [
           {
            "colorbar": {
             "outlinewidth": 0,
             "ticks": ""
            },
            "colorscale": [
             [
              0,
              "#0d0887"
             ],
             [
              0.1111111111111111,
              "#46039f"
             ],
             [
              0.2222222222222222,
              "#7201a8"
             ],
             [
              0.3333333333333333,
              "#9c179e"
             ],
             [
              0.4444444444444444,
              "#bd3786"
             ],
             [
              0.5555555555555556,
              "#d8576b"
             ],
             [
              0.6666666666666666,
              "#ed7953"
             ],
             [
              0.7777777777777778,
              "#fb9f3a"
             ],
             [
              0.8888888888888888,
              "#fdca26"
             ],
             [
              1,
              "#f0f921"
             ]
            ],
            "type": "histogram2dcontour"
           }
          ],
          "mesh3d": [
           {
            "colorbar": {
             "outlinewidth": 0,
             "ticks": ""
            },
            "type": "mesh3d"
           }
          ],
          "parcoords": [
           {
            "line": {
             "colorbar": {
              "outlinewidth": 0,
              "ticks": ""
             }
            },
            "type": "parcoords"
           }
          ],
          "pie": [
           {
            "automargin": true,
            "type": "pie"
           }
          ],
          "scatter": [
           {
            "fillpattern": {
             "fillmode": "overlay",
             "size": 10,
             "solidity": 0.2
            },
            "type": "scatter"
           }
          ],
          "scatter3d": [
           {
            "line": {
             "colorbar": {
              "outlinewidth": 0,
              "ticks": ""
             }
            },
            "marker": {
             "colorbar": {
              "outlinewidth": 0,
              "ticks": ""
             }
            },
            "type": "scatter3d"
           }
          ],
          "scattercarpet": [
           {
            "marker": {
             "colorbar": {
              "outlinewidth": 0,
              "ticks": ""
             }
            },
            "type": "scattercarpet"
           }
          ],
          "scattergeo": [
           {
            "marker": {
             "colorbar": {
              "outlinewidth": 0,
              "ticks": ""
             }
            },
            "type": "scattergeo"
           }
          ],
          "scattergl": [
           {
            "marker": {
             "colorbar": {
              "outlinewidth": 0,
              "ticks": ""
             }
            },
            "type": "scattergl"
           }
          ],
          "scattermapbox": [
           {
            "marker": {
             "colorbar": {
              "outlinewidth": 0,
              "ticks": ""
             }
            },
            "type": "scattermapbox"
           }
          ],
          "scatterpolar": [
           {
            "marker": {
             "colorbar": {
              "outlinewidth": 0,
              "ticks": ""
             }
            },
            "type": "scatterpolar"
           }
          ],
          "scatterpolargl": [
           {
            "marker": {
             "colorbar": {
              "outlinewidth": 0,
              "ticks": ""
             }
            },
            "type": "scatterpolargl"
           }
          ],
          "scatterternary": [
           {
            "marker": {
             "colorbar": {
              "outlinewidth": 0,
              "ticks": ""
             }
            },
            "type": "scatterternary"
           }
          ],
          "surface": [
           {
            "colorbar": {
             "outlinewidth": 0,
             "ticks": ""
            },
            "colorscale": [
             [
              0,
              "#0d0887"
             ],
             [
              0.1111111111111111,
              "#46039f"
             ],
             [
              0.2222222222222222,
              "#7201a8"
             ],
             [
              0.3333333333333333,
              "#9c179e"
             ],
             [
              0.4444444444444444,
              "#bd3786"
             ],
             [
              0.5555555555555556,
              "#d8576b"
             ],
             [
              0.6666666666666666,
              "#ed7953"
             ],
             [
              0.7777777777777778,
              "#fb9f3a"
             ],
             [
              0.8888888888888888,
              "#fdca26"
             ],
             [
              1,
              "#f0f921"
             ]
            ],
            "type": "surface"
           }
          ],
          "table": [
           {
            "cells": {
             "fill": {
              "color": "#EBF0F8"
             },
             "line": {
              "color": "white"
             }
            },
            "header": {
             "fill": {
              "color": "#C8D4E3"
             },
             "line": {
              "color": "white"
             }
            },
            "type": "table"
           }
          ]
         },
         "layout": {
          "annotationdefaults": {
           "arrowcolor": "#2a3f5f",
           "arrowhead": 0,
           "arrowwidth": 1
          },
          "autotypenumbers": "strict",
          "coloraxis": {
           "colorbar": {
            "outlinewidth": 0,
            "ticks": ""
           }
          },
          "colorscale": {
           "diverging": [
            [
             0,
             "#8e0152"
            ],
            [
             0.1,
             "#c51b7d"
            ],
            [
             0.2,
             "#de77ae"
            ],
            [
             0.3,
             "#f1b6da"
            ],
            [
             0.4,
             "#fde0ef"
            ],
            [
             0.5,
             "#f7f7f7"
            ],
            [
             0.6,
             "#e6f5d0"
            ],
            [
             0.7,
             "#b8e186"
            ],
            [
             0.8,
             "#7fbc41"
            ],
            [
             0.9,
             "#4d9221"
            ],
            [
             1,
             "#276419"
            ]
           ],
           "sequential": [
            [
             0,
             "#0d0887"
            ],
            [
             0.1111111111111111,
             "#46039f"
            ],
            [
             0.2222222222222222,
             "#7201a8"
            ],
            [
             0.3333333333333333,
             "#9c179e"
            ],
            [
             0.4444444444444444,
             "#bd3786"
            ],
            [
             0.5555555555555556,
             "#d8576b"
            ],
            [
             0.6666666666666666,
             "#ed7953"
            ],
            [
             0.7777777777777778,
             "#fb9f3a"
            ],
            [
             0.8888888888888888,
             "#fdca26"
            ],
            [
             1,
             "#f0f921"
            ]
           ],
           "sequentialminus": [
            [
             0,
             "#0d0887"
            ],
            [
             0.1111111111111111,
             "#46039f"
            ],
            [
             0.2222222222222222,
             "#7201a8"
            ],
            [
             0.3333333333333333,
             "#9c179e"
            ],
            [
             0.4444444444444444,
             "#bd3786"
            ],
            [
             0.5555555555555556,
             "#d8576b"
            ],
            [
             0.6666666666666666,
             "#ed7953"
            ],
            [
             0.7777777777777778,
             "#fb9f3a"
            ],
            [
             0.8888888888888888,
             "#fdca26"
            ],
            [
             1,
             "#f0f921"
            ]
           ]
          },
          "colorway": [
           "#636efa",
           "#EF553B",
           "#00cc96",
           "#ab63fa",
           "#FFA15A",
           "#19d3f3",
           "#FF6692",
           "#B6E880",
           "#FF97FF",
           "#FECB52"
          ],
          "font": {
           "color": "#2a3f5f"
          },
          "geo": {
           "bgcolor": "white",
           "lakecolor": "white",
           "landcolor": "#E5ECF6",
           "showlakes": true,
           "showland": true,
           "subunitcolor": "white"
          },
          "hoverlabel": {
           "align": "left"
          },
          "hovermode": "closest",
          "mapbox": {
           "style": "light"
          },
          "paper_bgcolor": "white",
          "plot_bgcolor": "#E5ECF6",
          "polar": {
           "angularaxis": {
            "gridcolor": "white",
            "linecolor": "white",
            "ticks": ""
           },
           "bgcolor": "#E5ECF6",
           "radialaxis": {
            "gridcolor": "white",
            "linecolor": "white",
            "ticks": ""
           }
          },
          "scene": {
           "xaxis": {
            "backgroundcolor": "#E5ECF6",
            "gridcolor": "white",
            "gridwidth": 2,
            "linecolor": "white",
            "showbackground": true,
            "ticks": "",
            "zerolinecolor": "white"
           },
           "yaxis": {
            "backgroundcolor": "#E5ECF6",
            "gridcolor": "white",
            "gridwidth": 2,
            "linecolor": "white",
            "showbackground": true,
            "ticks": "",
            "zerolinecolor": "white"
           },
           "zaxis": {
            "backgroundcolor": "#E5ECF6",
            "gridcolor": "white",
            "gridwidth": 2,
            "linecolor": "white",
            "showbackground": true,
            "ticks": "",
            "zerolinecolor": "white"
           }
          },
          "shapedefaults": {
           "line": {
            "color": "#2a3f5f"
           }
          },
          "ternary": {
           "aaxis": {
            "gridcolor": "white",
            "linecolor": "white",
            "ticks": ""
           },
           "baxis": {
            "gridcolor": "white",
            "linecolor": "white",
            "ticks": ""
           },
           "bgcolor": "#E5ECF6",
           "caxis": {
            "gridcolor": "white",
            "linecolor": "white",
            "ticks": ""
           }
          },
          "title": {
           "x": 0.05
          },
          "xaxis": {
           "automargin": true,
           "gridcolor": "white",
           "linecolor": "white",
           "ticks": "",
           "title": {
            "standoff": 15
           },
           "zerolinecolor": "white",
           "zerolinewidth": 2
          },
          "yaxis": {
           "automargin": true,
           "gridcolor": "white",
           "linecolor": "white",
           "ticks": "",
           "title": {
            "standoff": 15
           },
           "zerolinecolor": "white",
           "zerolinewidth": 2
          }
         }
        },
        "xaxis": {
         "anchor": "y",
         "domain": [
          0,
          1
         ],
         "title": {
          "text": "Episode"
         }
        },
        "yaxis": {
         "anchor": "x",
         "domain": [
          0,
          1
         ],
         "range": [
          0,
          1
         ],
         "title": {
          "text": "Probability of Selecting High Reward Arm"
         }
        }
       }
      }
     },
     "metadata": {},
     "output_type": "display_data"
    }
   ],
   "source": [
    "import plotly.express as px\n",
    "\n",
    "# Selected highs for each trajectory\n",
    "selected_highs = [trajectory['selected_highs'] for trajectory in trajectories]\n",
    "# Stack the selected highs\n",
    "selected_highs = np.stack(selected_highs, axis=0)\n",
    "# Mean over each position\n",
    "selected_highs = np.mean(selected_highs, axis=0)\n",
    "# Plotly line plot\n",
    "fig = px.line(y=selected_highs, labels={'x': 'Episode', 'y': 'Probability of Selecting High Reward Arm'})\n",
    "# Set y-axis to be between 0 and 1\n",
    "fig.update_yaxes(range=[0, 1])\n",
    "fig.show()"
   ]
  },
  {
   "cell_type": "code",
   "execution_count": 9,
   "metadata": {},
   "outputs": [
    {
     "data": {
      "application/vnd.plotly.v1+json": {
       "config": {
        "plotlyServerURL": "https://plot.ly"
       },
       "data": [
        {
         "hovertemplate": "Episode=%{x}<br>Probability of Selecting Greedy Action=%{y}<extra></extra>",
         "legendgroup": "",
         "line": {
          "color": "#636efa",
          "dash": "solid"
         },
         "marker": {
          "symbol": "circle"
         },
         "mode": "lines",
         "name": "",
         "orientation": "v",
         "showlegend": false,
         "type": "scatter",
         "x": [
          0,
          1,
          2,
          3,
          4,
          5,
          6,
          7,
          8,
          9,
          10,
          11,
          12,
          13,
          14,
          15,
          16,
          17,
          18,
          19,
          20,
          21,
          22,
          23,
          24,
          25,
          26,
          27,
          28,
          29,
          30,
          31,
          32,
          33,
          34,
          35,
          36,
          37,
          38,
          39,
          40,
          41,
          42,
          43,
          44,
          45,
          46,
          47,
          48,
          49,
          50,
          51,
          52,
          53,
          54,
          55,
          56,
          57,
          58,
          59,
          60,
          61,
          62,
          63,
          64,
          65,
          66,
          67,
          68,
          69,
          70,
          71,
          72,
          73,
          74,
          75,
          76,
          77,
          78,
          79,
          80,
          81,
          82,
          83,
          84,
          85,
          86,
          87,
          88,
          89,
          90,
          91,
          92,
          93,
          94,
          95,
          96,
          97,
          98,
          99
         ],
         "xaxis": "x",
         "y": [
          0,
          0,
          0.102,
          0.264,
          0.367,
          0.422,
          0.477,
          0.503,
          0.54,
          0.554,
          0.58,
          0.59,
          0.613,
          0.641,
          0.635,
          0.662,
          0.649,
          0.638,
          0.656,
          0.685,
          0.661,
          0.665,
          0.671,
          0.688,
          0.699,
          0.699,
          0.692,
          0.685,
          0.709,
          0.688,
          0.681,
          0.705,
          0.714,
          0.727,
          0.718,
          0.725,
          0.72,
          0.746,
          0.708,
          0.746,
          0.713,
          0.729,
          0.749,
          0.748,
          0.726,
          0.743,
          0.75,
          0.744,
          0.725,
          0.755,
          0.757,
          0.75,
          0.736,
          0.717,
          0.747,
          0.759,
          0.78,
          0.774,
          0.74,
          0.777,
          0.759,
          0.759,
          0.759,
          0.785,
          0.753,
          0.753,
          0.766,
          0.746,
          0.765,
          0.791,
          0.75,
          0.774,
          0.765,
          0.772,
          0.785,
          0.778,
          0.754,
          0.781,
          0.792,
          0.759,
          0.76,
          0.792,
          0.789,
          0.766,
          0.777,
          0.778,
          0.793,
          0.776,
          0.788,
          0.779,
          0.759,
          0.789,
          0.758,
          0.782,
          0.781,
          0.776,
          0.767,
          0.778,
          0.766,
          0.802
         ],
         "yaxis": "y"
        }
       ],
       "layout": {
        "legend": {
         "tracegroupgap": 0
        },
        "margin": {
         "t": 60
        },
        "template": {
         "data": {
          "bar": [
           {
            "error_x": {
             "color": "#2a3f5f"
            },
            "error_y": {
             "color": "#2a3f5f"
            },
            "marker": {
             "line": {
              "color": "#E5ECF6",
              "width": 0.5
             },
             "pattern": {
              "fillmode": "overlay",
              "size": 10,
              "solidity": 0.2
             }
            },
            "type": "bar"
           }
          ],
          "barpolar": [
           {
            "marker": {
             "line": {
              "color": "#E5ECF6",
              "width": 0.5
             },
             "pattern": {
              "fillmode": "overlay",
              "size": 10,
              "solidity": 0.2
             }
            },
            "type": "barpolar"
           }
          ],
          "carpet": [
           {
            "aaxis": {
             "endlinecolor": "#2a3f5f",
             "gridcolor": "white",
             "linecolor": "white",
             "minorgridcolor": "white",
             "startlinecolor": "#2a3f5f"
            },
            "baxis": {
             "endlinecolor": "#2a3f5f",
             "gridcolor": "white",
             "linecolor": "white",
             "minorgridcolor": "white",
             "startlinecolor": "#2a3f5f"
            },
            "type": "carpet"
           }
          ],
          "choropleth": [
           {
            "colorbar": {
             "outlinewidth": 0,
             "ticks": ""
            },
            "type": "choropleth"
           }
          ],
          "contour": [
           {
            "colorbar": {
             "outlinewidth": 0,
             "ticks": ""
            },
            "colorscale": [
             [
              0,
              "#0d0887"
             ],
             [
              0.1111111111111111,
              "#46039f"
             ],
             [
              0.2222222222222222,
              "#7201a8"
             ],
             [
              0.3333333333333333,
              "#9c179e"
             ],
             [
              0.4444444444444444,
              "#bd3786"
             ],
             [
              0.5555555555555556,
              "#d8576b"
             ],
             [
              0.6666666666666666,
              "#ed7953"
             ],
             [
              0.7777777777777778,
              "#fb9f3a"
             ],
             [
              0.8888888888888888,
              "#fdca26"
             ],
             [
              1,
              "#f0f921"
             ]
            ],
            "type": "contour"
           }
          ],
          "contourcarpet": [
           {
            "colorbar": {
             "outlinewidth": 0,
             "ticks": ""
            },
            "type": "contourcarpet"
           }
          ],
          "heatmap": [
           {
            "colorbar": {
             "outlinewidth": 0,
             "ticks": ""
            },
            "colorscale": [
             [
              0,
              "#0d0887"
             ],
             [
              0.1111111111111111,
              "#46039f"
             ],
             [
              0.2222222222222222,
              "#7201a8"
             ],
             [
              0.3333333333333333,
              "#9c179e"
             ],
             [
              0.4444444444444444,
              "#bd3786"
             ],
             [
              0.5555555555555556,
              "#d8576b"
             ],
             [
              0.6666666666666666,
              "#ed7953"
             ],
             [
              0.7777777777777778,
              "#fb9f3a"
             ],
             [
              0.8888888888888888,
              "#fdca26"
             ],
             [
              1,
              "#f0f921"
             ]
            ],
            "type": "heatmap"
           }
          ],
          "heatmapgl": [
           {
            "colorbar": {
             "outlinewidth": 0,
             "ticks": ""
            },
            "colorscale": [
             [
              0,
              "#0d0887"
             ],
             [
              0.1111111111111111,
              "#46039f"
             ],
             [
              0.2222222222222222,
              "#7201a8"
             ],
             [
              0.3333333333333333,
              "#9c179e"
             ],
             [
              0.4444444444444444,
              "#bd3786"
             ],
             [
              0.5555555555555556,
              "#d8576b"
             ],
             [
              0.6666666666666666,
              "#ed7953"
             ],
             [
              0.7777777777777778,
              "#fb9f3a"
             ],
             [
              0.8888888888888888,
              "#fdca26"
             ],
             [
              1,
              "#f0f921"
             ]
            ],
            "type": "heatmapgl"
           }
          ],
          "histogram": [
           {
            "marker": {
             "pattern": {
              "fillmode": "overlay",
              "size": 10,
              "solidity": 0.2
             }
            },
            "type": "histogram"
           }
          ],
          "histogram2d": [
           {
            "colorbar": {
             "outlinewidth": 0,
             "ticks": ""
            },
            "colorscale": [
             [
              0,
              "#0d0887"
             ],
             [
              0.1111111111111111,
              "#46039f"
             ],
             [
              0.2222222222222222,
              "#7201a8"
             ],
             [
              0.3333333333333333,
              "#9c179e"
             ],
             [
              0.4444444444444444,
              "#bd3786"
             ],
             [
              0.5555555555555556,
              "#d8576b"
             ],
             [
              0.6666666666666666,
              "#ed7953"
             ],
             [
              0.7777777777777778,
              "#fb9f3a"
             ],
             [
              0.8888888888888888,
              "#fdca26"
             ],
             [
              1,
              "#f0f921"
             ]
            ],
            "type": "histogram2d"
           }
          ],
          "histogram2dcontour": [
           {
            "colorbar": {
             "outlinewidth": 0,
             "ticks": ""
            },
            "colorscale": [
             [
              0,
              "#0d0887"
             ],
             [
              0.1111111111111111,
              "#46039f"
             ],
             [
              0.2222222222222222,
              "#7201a8"
             ],
             [
              0.3333333333333333,
              "#9c179e"
             ],
             [
              0.4444444444444444,
              "#bd3786"
             ],
             [
              0.5555555555555556,
              "#d8576b"
             ],
             [
              0.6666666666666666,
              "#ed7953"
             ],
             [
              0.7777777777777778,
              "#fb9f3a"
             ],
             [
              0.8888888888888888,
              "#fdca26"
             ],
             [
              1,
              "#f0f921"
             ]
            ],
            "type": "histogram2dcontour"
           }
          ],
          "mesh3d": [
           {
            "colorbar": {
             "outlinewidth": 0,
             "ticks": ""
            },
            "type": "mesh3d"
           }
          ],
          "parcoords": [
           {
            "line": {
             "colorbar": {
              "outlinewidth": 0,
              "ticks": ""
             }
            },
            "type": "parcoords"
           }
          ],
          "pie": [
           {
            "automargin": true,
            "type": "pie"
           }
          ],
          "scatter": [
           {
            "fillpattern": {
             "fillmode": "overlay",
             "size": 10,
             "solidity": 0.2
            },
            "type": "scatter"
           }
          ],
          "scatter3d": [
           {
            "line": {
             "colorbar": {
              "outlinewidth": 0,
              "ticks": ""
             }
            },
            "marker": {
             "colorbar": {
              "outlinewidth": 0,
              "ticks": ""
             }
            },
            "type": "scatter3d"
           }
          ],
          "scattercarpet": [
           {
            "marker": {
             "colorbar": {
              "outlinewidth": 0,
              "ticks": ""
             }
            },
            "type": "scattercarpet"
           }
          ],
          "scattergeo": [
           {
            "marker": {
             "colorbar": {
              "outlinewidth": 0,
              "ticks": ""
             }
            },
            "type": "scattergeo"
           }
          ],
          "scattergl": [
           {
            "marker": {
             "colorbar": {
              "outlinewidth": 0,
              "ticks": ""
             }
            },
            "type": "scattergl"
           }
          ],
          "scattermapbox": [
           {
            "marker": {
             "colorbar": {
              "outlinewidth": 0,
              "ticks": ""
             }
            },
            "type": "scattermapbox"
           }
          ],
          "scatterpolar": [
           {
            "marker": {
             "colorbar": {
              "outlinewidth": 0,
              "ticks": ""
             }
            },
            "type": "scatterpolar"
           }
          ],
          "scatterpolargl": [
           {
            "marker": {
             "colorbar": {
              "outlinewidth": 0,
              "ticks": ""
             }
            },
            "type": "scatterpolargl"
           }
          ],
          "scatterternary": [
           {
            "marker": {
             "colorbar": {
              "outlinewidth": 0,
              "ticks": ""
             }
            },
            "type": "scatterternary"
           }
          ],
          "surface": [
           {
            "colorbar": {
             "outlinewidth": 0,
             "ticks": ""
            },
            "colorscale": [
             [
              0,
              "#0d0887"
             ],
             [
              0.1111111111111111,
              "#46039f"
             ],
             [
              0.2222222222222222,
              "#7201a8"
             ],
             [
              0.3333333333333333,
              "#9c179e"
             ],
             [
              0.4444444444444444,
              "#bd3786"
             ],
             [
              0.5555555555555556,
              "#d8576b"
             ],
             [
              0.6666666666666666,
              "#ed7953"
             ],
             [
              0.7777777777777778,
              "#fb9f3a"
             ],
             [
              0.8888888888888888,
              "#fdca26"
             ],
             [
              1,
              "#f0f921"
             ]
            ],
            "type": "surface"
           }
          ],
          "table": [
           {
            "cells": {
             "fill": {
              "color": "#EBF0F8"
             },
             "line": {
              "color": "white"
             }
            },
            "header": {
             "fill": {
              "color": "#C8D4E3"
             },
             "line": {
              "color": "white"
             }
            },
            "type": "table"
           }
          ]
         },
         "layout": {
          "annotationdefaults": {
           "arrowcolor": "#2a3f5f",
           "arrowhead": 0,
           "arrowwidth": 1
          },
          "autotypenumbers": "strict",
          "coloraxis": {
           "colorbar": {
            "outlinewidth": 0,
            "ticks": ""
           }
          },
          "colorscale": {
           "diverging": [
            [
             0,
             "#8e0152"
            ],
            [
             0.1,
             "#c51b7d"
            ],
            [
             0.2,
             "#de77ae"
            ],
            [
             0.3,
             "#f1b6da"
            ],
            [
             0.4,
             "#fde0ef"
            ],
            [
             0.5,
             "#f7f7f7"
            ],
            [
             0.6,
             "#e6f5d0"
            ],
            [
             0.7,
             "#b8e186"
            ],
            [
             0.8,
             "#7fbc41"
            ],
            [
             0.9,
             "#4d9221"
            ],
            [
             1,
             "#276419"
            ]
           ],
           "sequential": [
            [
             0,
             "#0d0887"
            ],
            [
             0.1111111111111111,
             "#46039f"
            ],
            [
             0.2222222222222222,
             "#7201a8"
            ],
            [
             0.3333333333333333,
             "#9c179e"
            ],
            [
             0.4444444444444444,
             "#bd3786"
            ],
            [
             0.5555555555555556,
             "#d8576b"
            ],
            [
             0.6666666666666666,
             "#ed7953"
            ],
            [
             0.7777777777777778,
             "#fb9f3a"
            ],
            [
             0.8888888888888888,
             "#fdca26"
            ],
            [
             1,
             "#f0f921"
            ]
           ],
           "sequentialminus": [
            [
             0,
             "#0d0887"
            ],
            [
             0.1111111111111111,
             "#46039f"
            ],
            [
             0.2222222222222222,
             "#7201a8"
            ],
            [
             0.3333333333333333,
             "#9c179e"
            ],
            [
             0.4444444444444444,
             "#bd3786"
            ],
            [
             0.5555555555555556,
             "#d8576b"
            ],
            [
             0.6666666666666666,
             "#ed7953"
            ],
            [
             0.7777777777777778,
             "#fb9f3a"
            ],
            [
             0.8888888888888888,
             "#fdca26"
            ],
            [
             1,
             "#f0f921"
            ]
           ]
          },
          "colorway": [
           "#636efa",
           "#EF553B",
           "#00cc96",
           "#ab63fa",
           "#FFA15A",
           "#19d3f3",
           "#FF6692",
           "#B6E880",
           "#FF97FF",
           "#FECB52"
          ],
          "font": {
           "color": "#2a3f5f"
          },
          "geo": {
           "bgcolor": "white",
           "lakecolor": "white",
           "landcolor": "#E5ECF6",
           "showlakes": true,
           "showland": true,
           "subunitcolor": "white"
          },
          "hoverlabel": {
           "align": "left"
          },
          "hovermode": "closest",
          "mapbox": {
           "style": "light"
          },
          "paper_bgcolor": "white",
          "plot_bgcolor": "#E5ECF6",
          "polar": {
           "angularaxis": {
            "gridcolor": "white",
            "linecolor": "white",
            "ticks": ""
           },
           "bgcolor": "#E5ECF6",
           "radialaxis": {
            "gridcolor": "white",
            "linecolor": "white",
            "ticks": ""
           }
          },
          "scene": {
           "xaxis": {
            "backgroundcolor": "#E5ECF6",
            "gridcolor": "white",
            "gridwidth": 2,
            "linecolor": "white",
            "showbackground": true,
            "ticks": "",
            "zerolinecolor": "white"
           },
           "yaxis": {
            "backgroundcolor": "#E5ECF6",
            "gridcolor": "white",
            "gridwidth": 2,
            "linecolor": "white",
            "showbackground": true,
            "ticks": "",
            "zerolinecolor": "white"
           },
           "zaxis": {
            "backgroundcolor": "#E5ECF6",
            "gridcolor": "white",
            "gridwidth": 2,
            "linecolor": "white",
            "showbackground": true,
            "ticks": "",
            "zerolinecolor": "white"
           }
          },
          "shapedefaults": {
           "line": {
            "color": "#2a3f5f"
           }
          },
          "ternary": {
           "aaxis": {
            "gridcolor": "white",
            "linecolor": "white",
            "ticks": ""
           },
           "baxis": {
            "gridcolor": "white",
            "linecolor": "white",
            "ticks": ""
           },
           "bgcolor": "#E5ECF6",
           "caxis": {
            "gridcolor": "white",
            "linecolor": "white",
            "ticks": ""
           }
          },
          "title": {
           "x": 0.05
          },
          "xaxis": {
           "automargin": true,
           "gridcolor": "white",
           "linecolor": "white",
           "ticks": "",
           "title": {
            "standoff": 15
           },
           "zerolinecolor": "white",
           "zerolinewidth": 2
          },
          "yaxis": {
           "automargin": true,
           "gridcolor": "white",
           "linecolor": "white",
           "ticks": "",
           "title": {
            "standoff": 15
           },
           "zerolinecolor": "white",
           "zerolinewidth": 2
          }
         }
        },
        "xaxis": {
         "anchor": "y",
         "domain": [
          0,
          1
         ],
         "title": {
          "text": "Episode"
         }
        },
        "yaxis": {
         "anchor": "x",
         "domain": [
          0,
          1
         ],
         "title": {
          "text": "Probability of Selecting Greedy Action"
         }
        }
       }
      }
     },
     "metadata": {},
     "output_type": "display_data"
    }
   ],
   "source": [
    "# Arm types\n",
    "arm_types = [trajectory['arm_types'] for trajectory in trajectories]\n",
    "# Convert 'random' to 0 and 'greedy' to 1\n",
    "arm_types = [[0 if arm_type == 'random' else 1 for arm_type in trajectory] for trajectory in arm_types]\n",
    "# Stack the arm types\n",
    "arm_types = np.stack(arm_types, axis=0)\n",
    "# Mean over each position\n",
    "arm_types = np.mean(arm_types, axis=0)\n",
    "# Plotly line plot\n",
    "fig = px.line(y=arm_types, labels={'x': 'Episode', 'y': 'Probability of Selecting Greedy Action'})\n",
    "fig.show()"
   ]
  },
  {
   "cell_type": "code",
   "execution_count": 10,
   "metadata": {},
   "outputs": [
    {
     "name": "stdout",
     "output_type": "stream",
     "text": [
      "Mean Cumulative Reward: 66.20 ± 9.11\n"
     ]
    }
   ],
   "source": [
    "# Mean of cumulative reward in trajectories\n",
    "mean_cumulative_reward = np.mean([t['cumulative_reward'] for t in trajectories])\n",
    "std_cumulative_reward = np.std([t['cumulative_reward'] for t in trajectories])\n",
    "print(f\"Mean Cumulative Reward: {mean_cumulative_reward:.2f} ± {std_cumulative_reward:.2f}\")"
   ]
  },
  {
   "cell_type": "code",
   "execution_count": 11,
   "metadata": {},
   "outputs": [
    {
     "name": "stdout",
     "output_type": "stream",
     "text": [
      "torch.Size([1000, 10])\n"
     ]
    },
    {
     "data": {
      "text/plain": [
       "torch.Size([1000, 200])"
      ]
     },
     "execution_count": 11,
     "metadata": {},
     "output_type": "execute_result"
    }
   ],
   "source": [
    "probabilities = torch.stack([torch.tensor(t['probabilities']) for t in trajectories], dim=0)\n",
    "print(probabilities.shape)\n",
    "\n",
    "# Create stacked tensor of trajectories\n",
    "trajectories_tensor = torch.stack([torch.tensor(t['trajectory']) for t in trajectories], dim=0)\n",
    "trajectories_tensor.shape"
   ]
  },
  {
   "cell_type": "code",
   "execution_count": 12,
   "metadata": {},
   "outputs": [
    {
     "data": {
      "application/vnd.plotly.v1+json": {
       "config": {
        "plotlyServerURL": "https://plot.ly"
       },
       "data": [
        {
         "hovertemplate": "variable=0<br>index=%{x}<br>value=%{y}<extra></extra>",
         "legendgroup": "0",
         "line": {
          "color": "#636efa",
          "dash": "solid"
         },
         "marker": {
          "symbol": "circle"
         },
         "mode": "lines",
         "name": "0",
         "orientation": "v",
         "showlegend": true,
         "type": "scatter",
         "x": [
          0,
          1,
          2,
          3,
          4,
          5,
          6,
          7,
          8,
          9,
          10,
          11,
          12,
          13,
          14,
          15,
          16,
          17,
          18,
          19,
          20,
          21,
          22,
          23,
          24,
          25,
          26,
          27,
          28,
          29,
          30,
          31,
          32,
          33,
          34,
          35,
          36,
          37,
          38,
          39,
          40,
          41,
          42,
          43,
          44,
          45,
          46,
          47,
          48,
          49,
          50,
          51,
          52,
          53,
          54,
          55,
          56,
          57,
          58,
          59,
          60,
          61,
          62,
          63,
          64,
          65,
          66,
          67,
          68,
          69,
          70,
          71,
          72,
          73,
          74,
          75,
          76,
          77,
          78,
          79,
          80,
          81,
          82,
          83,
          84,
          85,
          86,
          87,
          88,
          89,
          90,
          91,
          92,
          93,
          94,
          95,
          96,
          97,
          98,
          99
         ],
         "xaxis": "x",
         "y": [
          0.256,
          0.265,
          0.264,
          0.3,
          0.326,
          0.375,
          0.407,
          0.417,
          0.443,
          0.452,
          0.496,
          0.498,
          0.526,
          0.542,
          0.54,
          0.534,
          0.567,
          0.574,
          0.578,
          0.6,
          0.606,
          0.614,
          0.627,
          0.617,
          0.612,
          0.654,
          0.643,
          0.64,
          0.653,
          0.629,
          0.653,
          0.67,
          0.67,
          0.69,
          0.677,
          0.673,
          0.704,
          0.719,
          0.687,
          0.704,
          0.657,
          0.698,
          0.704,
          0.717,
          0.694,
          0.691,
          0.706,
          0.698,
          0.68,
          0.73,
          0.726,
          0.721,
          0.707,
          0.705,
          0.726,
          0.745,
          0.74,
          0.741,
          0.719,
          0.761,
          0.736,
          0.747,
          0.737,
          0.74,
          0.727,
          0.748,
          0.745,
          0.733,
          0.756,
          0.756,
          0.734,
          0.733,
          0.739,
          0.744,
          0.763,
          0.75,
          0.737,
          0.753,
          0.758,
          0.73,
          0.746,
          0.771,
          0.768,
          0.737,
          0.758,
          0.754,
          0.774,
          0.751,
          0.755,
          0.734,
          0.729,
          0.754,
          0.708,
          0.744,
          0.736,
          0.747,
          0.751,
          0.745,
          0.737,
          0.771
         ],
         "yaxis": "y"
        },
        {
         "mode": "lines",
         "name": "Smoothed Mean Reward",
         "type": "scatter",
         "y": [
          0.256,
          0.256,
          0.256,
          0.256,
          0.256,
          0.256,
          0.256,
          0.256,
          0.256,
          0.35050002,
          0.3745,
          0.3978,
          0.42400002,
          0.44820005,
          0.46960002,
          0.48549995,
          0.5015,
          0.5172,
          0.53069997,
          0.5455,
          0.5565,
          0.5681,
          0.5782,
          0.5856999,
          0.5928999,
          0.6049,
          0.61249995,
          0.6191,
          0.6266,
          0.62950003,
          0.6342,
          0.63979995,
          0.6441,
          0.65139997,
          0.6579,
          0.6598,
          0.66590005,
          0.6738,
          0.67719996,
          0.6847,
          0.68509996,
          0.68789995,
          0.6913,
          0.69399995,
          0.6957,
          0.69750005,
          0.6977,
          0.69560003,
          0.6949,
          0.6975,
          0.70439994,
          0.70669997,
          0.70699996,
          0.70579994,
          0.709,
          0.7144,
          0.7178,
          0.72209996,
          0.72599995,
          0.72910005,
          0.7301,
          0.7327,
          0.7357,
          0.7392,
          0.7393,
          0.73960006,
          0.7401,
          0.7393001,
          0.74300003,
          0.7425,
          0.7423,
          0.7409,
          0.74109995,
          0.7415,
          0.74509996,
          0.74529994,
          0.7445,
          0.74649996,
          0.7467,
          0.7441,
          0.74529994,
          0.7491,
          0.752,
          0.7513,
          0.7508,
          0.7512,
          0.7549,
          0.75470006,
          0.7544001,
          0.7548,
          0.75310004,
          0.75140005,
          0.7454,
          0.74610007,
          0.74390006,
          0.74320006,
          0.7409,
          0.7403,
          0.7385,
          0.74219996
         ]
        }
       ],
       "layout": {
        "legend": {
         "title": {
          "text": "variable"
         },
         "tracegroupgap": 0
        },
        "template": {
         "data": {
          "bar": [
           {
            "error_x": {
             "color": "#2a3f5f"
            },
            "error_y": {
             "color": "#2a3f5f"
            },
            "marker": {
             "line": {
              "color": "#E5ECF6",
              "width": 0.5
             },
             "pattern": {
              "fillmode": "overlay",
              "size": 10,
              "solidity": 0.2
             }
            },
            "type": "bar"
           }
          ],
          "barpolar": [
           {
            "marker": {
             "line": {
              "color": "#E5ECF6",
              "width": 0.5
             },
             "pattern": {
              "fillmode": "overlay",
              "size": 10,
              "solidity": 0.2
             }
            },
            "type": "barpolar"
           }
          ],
          "carpet": [
           {
            "aaxis": {
             "endlinecolor": "#2a3f5f",
             "gridcolor": "white",
             "linecolor": "white",
             "minorgridcolor": "white",
             "startlinecolor": "#2a3f5f"
            },
            "baxis": {
             "endlinecolor": "#2a3f5f",
             "gridcolor": "white",
             "linecolor": "white",
             "minorgridcolor": "white",
             "startlinecolor": "#2a3f5f"
            },
            "type": "carpet"
           }
          ],
          "choropleth": [
           {
            "colorbar": {
             "outlinewidth": 0,
             "ticks": ""
            },
            "type": "choropleth"
           }
          ],
          "contour": [
           {
            "colorbar": {
             "outlinewidth": 0,
             "ticks": ""
            },
            "colorscale": [
             [
              0,
              "#0d0887"
             ],
             [
              0.1111111111111111,
              "#46039f"
             ],
             [
              0.2222222222222222,
              "#7201a8"
             ],
             [
              0.3333333333333333,
              "#9c179e"
             ],
             [
              0.4444444444444444,
              "#bd3786"
             ],
             [
              0.5555555555555556,
              "#d8576b"
             ],
             [
              0.6666666666666666,
              "#ed7953"
             ],
             [
              0.7777777777777778,
              "#fb9f3a"
             ],
             [
              0.8888888888888888,
              "#fdca26"
             ],
             [
              1,
              "#f0f921"
             ]
            ],
            "type": "contour"
           }
          ],
          "contourcarpet": [
           {
            "colorbar": {
             "outlinewidth": 0,
             "ticks": ""
            },
            "type": "contourcarpet"
           }
          ],
          "heatmap": [
           {
            "colorbar": {
             "outlinewidth": 0,
             "ticks": ""
            },
            "colorscale": [
             [
              0,
              "#0d0887"
             ],
             [
              0.1111111111111111,
              "#46039f"
             ],
             [
              0.2222222222222222,
              "#7201a8"
             ],
             [
              0.3333333333333333,
              "#9c179e"
             ],
             [
              0.4444444444444444,
              "#bd3786"
             ],
             [
              0.5555555555555556,
              "#d8576b"
             ],
             [
              0.6666666666666666,
              "#ed7953"
             ],
             [
              0.7777777777777778,
              "#fb9f3a"
             ],
             [
              0.8888888888888888,
              "#fdca26"
             ],
             [
              1,
              "#f0f921"
             ]
            ],
            "type": "heatmap"
           }
          ],
          "heatmapgl": [
           {
            "colorbar": {
             "outlinewidth": 0,
             "ticks": ""
            },
            "colorscale": [
             [
              0,
              "#0d0887"
             ],
             [
              0.1111111111111111,
              "#46039f"
             ],
             [
              0.2222222222222222,
              "#7201a8"
             ],
             [
              0.3333333333333333,
              "#9c179e"
             ],
             [
              0.4444444444444444,
              "#bd3786"
             ],
             [
              0.5555555555555556,
              "#d8576b"
             ],
             [
              0.6666666666666666,
              "#ed7953"
             ],
             [
              0.7777777777777778,
              "#fb9f3a"
             ],
             [
              0.8888888888888888,
              "#fdca26"
             ],
             [
              1,
              "#f0f921"
             ]
            ],
            "type": "heatmapgl"
           }
          ],
          "histogram": [
           {
            "marker": {
             "pattern": {
              "fillmode": "overlay",
              "size": 10,
              "solidity": 0.2
             }
            },
            "type": "histogram"
           }
          ],
          "histogram2d": [
           {
            "colorbar": {
             "outlinewidth": 0,
             "ticks": ""
            },
            "colorscale": [
             [
              0,
              "#0d0887"
             ],
             [
              0.1111111111111111,
              "#46039f"
             ],
             [
              0.2222222222222222,
              "#7201a8"
             ],
             [
              0.3333333333333333,
              "#9c179e"
             ],
             [
              0.4444444444444444,
              "#bd3786"
             ],
             [
              0.5555555555555556,
              "#d8576b"
             ],
             [
              0.6666666666666666,
              "#ed7953"
             ],
             [
              0.7777777777777778,
              "#fb9f3a"
             ],
             [
              0.8888888888888888,
              "#fdca26"
             ],
             [
              1,
              "#f0f921"
             ]
            ],
            "type": "histogram2d"
           }
          ],
          "histogram2dcontour": [
           {
            "colorbar": {
             "outlinewidth": 0,
             "ticks": ""
            },
            "colorscale": [
             [
              0,
              "#0d0887"
             ],
             [
              0.1111111111111111,
              "#46039f"
             ],
             [
              0.2222222222222222,
              "#7201a8"
             ],
             [
              0.3333333333333333,
              "#9c179e"
             ],
             [
              0.4444444444444444,
              "#bd3786"
             ],
             [
              0.5555555555555556,
              "#d8576b"
             ],
             [
              0.6666666666666666,
              "#ed7953"
             ],
             [
              0.7777777777777778,
              "#fb9f3a"
             ],
             [
              0.8888888888888888,
              "#fdca26"
             ],
             [
              1,
              "#f0f921"
             ]
            ],
            "type": "histogram2dcontour"
           }
          ],
          "mesh3d": [
           {
            "colorbar": {
             "outlinewidth": 0,
             "ticks": ""
            },
            "type": "mesh3d"
           }
          ],
          "parcoords": [
           {
            "line": {
             "colorbar": {
              "outlinewidth": 0,
              "ticks": ""
             }
            },
            "type": "parcoords"
           }
          ],
          "pie": [
           {
            "automargin": true,
            "type": "pie"
           }
          ],
          "scatter": [
           {
            "fillpattern": {
             "fillmode": "overlay",
             "size": 10,
             "solidity": 0.2
            },
            "type": "scatter"
           }
          ],
          "scatter3d": [
           {
            "line": {
             "colorbar": {
              "outlinewidth": 0,
              "ticks": ""
             }
            },
            "marker": {
             "colorbar": {
              "outlinewidth": 0,
              "ticks": ""
             }
            },
            "type": "scatter3d"
           }
          ],
          "scattercarpet": [
           {
            "marker": {
             "colorbar": {
              "outlinewidth": 0,
              "ticks": ""
             }
            },
            "type": "scattercarpet"
           }
          ],
          "scattergeo": [
           {
            "marker": {
             "colorbar": {
              "outlinewidth": 0,
              "ticks": ""
             }
            },
            "type": "scattergeo"
           }
          ],
          "scattergl": [
           {
            "marker": {
             "colorbar": {
              "outlinewidth": 0,
              "ticks": ""
             }
            },
            "type": "scattergl"
           }
          ],
          "scattermapbox": [
           {
            "marker": {
             "colorbar": {
              "outlinewidth": 0,
              "ticks": ""
             }
            },
            "type": "scattermapbox"
           }
          ],
          "scatterpolar": [
           {
            "marker": {
             "colorbar": {
              "outlinewidth": 0,
              "ticks": ""
             }
            },
            "type": "scatterpolar"
           }
          ],
          "scatterpolargl": [
           {
            "marker": {
             "colorbar": {
              "outlinewidth": 0,
              "ticks": ""
             }
            },
            "type": "scatterpolargl"
           }
          ],
          "scatterternary": [
           {
            "marker": {
             "colorbar": {
              "outlinewidth": 0,
              "ticks": ""
             }
            },
            "type": "scatterternary"
           }
          ],
          "surface": [
           {
            "colorbar": {
             "outlinewidth": 0,
             "ticks": ""
            },
            "colorscale": [
             [
              0,
              "#0d0887"
             ],
             [
              0.1111111111111111,
              "#46039f"
             ],
             [
              0.2222222222222222,
              "#7201a8"
             ],
             [
              0.3333333333333333,
              "#9c179e"
             ],
             [
              0.4444444444444444,
              "#bd3786"
             ],
             [
              0.5555555555555556,
              "#d8576b"
             ],
             [
              0.6666666666666666,
              "#ed7953"
             ],
             [
              0.7777777777777778,
              "#fb9f3a"
             ],
             [
              0.8888888888888888,
              "#fdca26"
             ],
             [
              1,
              "#f0f921"
             ]
            ],
            "type": "surface"
           }
          ],
          "table": [
           {
            "cells": {
             "fill": {
              "color": "#EBF0F8"
             },
             "line": {
              "color": "white"
             }
            },
            "header": {
             "fill": {
              "color": "#C8D4E3"
             },
             "line": {
              "color": "white"
             }
            },
            "type": "table"
           }
          ]
         },
         "layout": {
          "annotationdefaults": {
           "arrowcolor": "#2a3f5f",
           "arrowhead": 0,
           "arrowwidth": 1
          },
          "autotypenumbers": "strict",
          "coloraxis": {
           "colorbar": {
            "outlinewidth": 0,
            "ticks": ""
           }
          },
          "colorscale": {
           "diverging": [
            [
             0,
             "#8e0152"
            ],
            [
             0.1,
             "#c51b7d"
            ],
            [
             0.2,
             "#de77ae"
            ],
            [
             0.3,
             "#f1b6da"
            ],
            [
             0.4,
             "#fde0ef"
            ],
            [
             0.5,
             "#f7f7f7"
            ],
            [
             0.6,
             "#e6f5d0"
            ],
            [
             0.7,
             "#b8e186"
            ],
            [
             0.8,
             "#7fbc41"
            ],
            [
             0.9,
             "#4d9221"
            ],
            [
             1,
             "#276419"
            ]
           ],
           "sequential": [
            [
             0,
             "#0d0887"
            ],
            [
             0.1111111111111111,
             "#46039f"
            ],
            [
             0.2222222222222222,
             "#7201a8"
            ],
            [
             0.3333333333333333,
             "#9c179e"
            ],
            [
             0.4444444444444444,
             "#bd3786"
            ],
            [
             0.5555555555555556,
             "#d8576b"
            ],
            [
             0.6666666666666666,
             "#ed7953"
            ],
            [
             0.7777777777777778,
             "#fb9f3a"
            ],
            [
             0.8888888888888888,
             "#fdca26"
            ],
            [
             1,
             "#f0f921"
            ]
           ],
           "sequentialminus": [
            [
             0,
             "#0d0887"
            ],
            [
             0.1111111111111111,
             "#46039f"
            ],
            [
             0.2222222222222222,
             "#7201a8"
            ],
            [
             0.3333333333333333,
             "#9c179e"
            ],
            [
             0.4444444444444444,
             "#bd3786"
            ],
            [
             0.5555555555555556,
             "#d8576b"
            ],
            [
             0.6666666666666666,
             "#ed7953"
            ],
            [
             0.7777777777777778,
             "#fb9f3a"
            ],
            [
             0.8888888888888888,
             "#fdca26"
            ],
            [
             1,
             "#f0f921"
            ]
           ]
          },
          "colorway": [
           "#636efa",
           "#EF553B",
           "#00cc96",
           "#ab63fa",
           "#FFA15A",
           "#19d3f3",
           "#FF6692",
           "#B6E880",
           "#FF97FF",
           "#FECB52"
          ],
          "font": {
           "color": "#2a3f5f"
          },
          "geo": {
           "bgcolor": "white",
           "lakecolor": "white",
           "landcolor": "#E5ECF6",
           "showlakes": true,
           "showland": true,
           "subunitcolor": "white"
          },
          "hoverlabel": {
           "align": "left"
          },
          "hovermode": "closest",
          "mapbox": {
           "style": "light"
          },
          "paper_bgcolor": "white",
          "plot_bgcolor": "#E5ECF6",
          "polar": {
           "angularaxis": {
            "gridcolor": "white",
            "linecolor": "white",
            "ticks": ""
           },
           "bgcolor": "#E5ECF6",
           "radialaxis": {
            "gridcolor": "white",
            "linecolor": "white",
            "ticks": ""
           }
          },
          "scene": {
           "xaxis": {
            "backgroundcolor": "#E5ECF6",
            "gridcolor": "white",
            "gridwidth": 2,
            "linecolor": "white",
            "showbackground": true,
            "ticks": "",
            "zerolinecolor": "white"
           },
           "yaxis": {
            "backgroundcolor": "#E5ECF6",
            "gridcolor": "white",
            "gridwidth": 2,
            "linecolor": "white",
            "showbackground": true,
            "ticks": "",
            "zerolinecolor": "white"
           },
           "zaxis": {
            "backgroundcolor": "#E5ECF6",
            "gridcolor": "white",
            "gridwidth": 2,
            "linecolor": "white",
            "showbackground": true,
            "ticks": "",
            "zerolinecolor": "white"
           }
          },
          "shapedefaults": {
           "line": {
            "color": "#2a3f5f"
           }
          },
          "ternary": {
           "aaxis": {
            "gridcolor": "white",
            "linecolor": "white",
            "ticks": ""
           },
           "baxis": {
            "gridcolor": "white",
            "linecolor": "white",
            "ticks": ""
           },
           "bgcolor": "#E5ECF6",
           "caxis": {
            "gridcolor": "white",
            "linecolor": "white",
            "ticks": ""
           }
          },
          "title": {
           "x": 0.05
          },
          "xaxis": {
           "automargin": true,
           "gridcolor": "white",
           "linecolor": "white",
           "ticks": "",
           "title": {
            "standoff": 15
           },
           "zerolinecolor": "white",
           "zerolinewidth": 2
          },
          "yaxis": {
           "automargin": true,
           "gridcolor": "white",
           "linecolor": "white",
           "ticks": "",
           "title": {
            "standoff": 15
           },
           "zerolinecolor": "white",
           "zerolinewidth": 2
          }
         }
        },
        "title": {
         "text": "Mean Reward at Each Position"
        },
        "xaxis": {
         "anchor": "y",
         "domain": [
          0,
          1
         ],
         "title": {
          "text": "index"
         }
        },
        "yaxis": {
         "anchor": "x",
         "domain": [
          0,
          1
         ],
         "title": {
          "text": "value"
         }
        }
       }
      }
     },
     "metadata": {},
     "output_type": "display_data"
    }
   ],
   "source": [
    "# Get the reward tensor from the trajectories tensor\n",
    "rewards_tensor = trajectories_tensor[:, 1::2].float()\n",
    "\n",
    "# Get the mean reward at each position\n",
    "mean_rewards = rewards_tensor.mean(0)\n",
    "\n",
    "# Smooth the mean rewards \n",
    "smoothed_mean_rewards = mean_rewards.unfold(0, 10, 1).mean(1).view(-1)\n",
    "# Add zeros to the start of the smoothed mean rewards\n",
    "smoothed_mean_rewards = torch.cat((torch.ones(9)*mean_rewards[0], smoothed_mean_rewards))\n",
    "\n",
    "fig = px.line(mean_rewards, labels={'x': 'Position', 'y': 'Mean Reward'}, title='Mean Reward at Each Position')\n",
    "# Add smoothed mean rewards\n",
    "fig.add_scatter(y=smoothed_mean_rewards, mode='lines', name='Smoothed Mean Reward')\n",
    "fig.show()"
   ]
  },
  {
   "cell_type": "code",
   "execution_count": 14,
   "metadata": {},
   "outputs": [],
   "source": [
    "import tqdm\n",
    "import torch\n",
    "from torch.utils.data import Dataset, DataLoader, random_split\n",
    "\n",
    "class BanditDataset(Dataset):\n",
    "    def __init__(self, games_tensor, probabilities_tensor):\n",
    "        self.games_tensor = games_tensor\n",
    "        self.probabilities_tensor = probabilities_tensor\n",
    "\n",
    "    def __len__(self):\n",
    "        return self.games_tensor.size(0)\n",
    "\n",
    "    def __getitem__(self, idx):\n",
    "        return self.games_tensor[idx], self.probabilities_tensor[idx]\n",
    "\n",
    "# Assuming `all_games_tensor` is defined elsewhere\n",
    "games_dataset = BanditDataset(trajectories_tensor, probabilities)\n",
    "\n",
    "# Split the dataset into training and test sets (10% for testing)\n",
    "test_size = int(0.1 * len(games_dataset))\n",
    "train_size = len(games_dataset) - test_size\n",
    "train_dataset, test_dataset = random_split(games_dataset, [train_size, test_size])\n",
    "\n",
    "# Create DataLoaders for both training and testing\n",
    "train_loader = DataLoader(train_dataset, batch_size=32, shuffle=True)\n",
    "test_loader = DataLoader(test_dataset, batch_size=32, shuffle=False)"
   ]
  },
  {
   "cell_type": "code",
   "execution_count": 15,
   "metadata": {},
   "outputs": [],
   "source": [
    "from transformer_lens import HookedTransformer, HookedTransformerConfig\n",
    "\n",
    "batch_size = 32\n",
    "num_epochs = 50\n",
    "lr = 1e-4\n",
    "betas = (0.9, 0.95)\n",
    "max_grad_norm = 1.0\n",
    "wd = 0.01\n",
    "\n",
    "cfg = HookedTransformerConfig(\n",
    "    n_layers=4,\n",
    "    d_model=64,\n",
    "    d_head=64,\n",
    "    n_heads=4,\n",
    "    d_mlp=256,\n",
    "    d_vocab=12,\n",
    "    n_ctx=200,\n",
    "    act_fn=\"relu\",\n",
    "    normalization_type=\"LN\",\n",
    "    device='cpu'\n",
    ")\n",
    "model = HookedTransformer(cfg)\n",
    "\n",
    "\n",
    "optimizer = torch.optim.Adam(model.parameters(), lr=lr, betas=betas, weight_decay=wd)\n",
    "scheduler = torch.optim.lr_scheduler.LambdaLR(optimizer, lambda i: min(i / 100, 1.0))\n",
    "\n",
    "def loss_fn(logits, tokens, per_token=False):\n",
    "    # logit shape: [batch, pos, vocab]\n",
    "    # token shape: [batch, pos]\n",
    "    logits = logits[:, :-1, :]\n",
    "    tokens = tokens[:, 1:].long()\n",
    "    log_probs = logits.log_softmax(-1)\n",
    "    correct_log_probs = log_probs.gather(-1, tokens[..., None])[..., 0]\n",
    "    if per_token:\n",
    "        return -correct_log_probs\n",
    "    else:\n",
    "        return -correct_log_probs.mean()"
   ]
  },
  {
   "cell_type": "code",
   "execution_count": 16,
   "metadata": {},
   "outputs": [
    {
     "name": "stderr",
     "output_type": "stream",
     "text": [
      "  2%|▏         | 1/50 [00:07<06:00,  7.37s/it]"
     ]
    },
    {
     "name": "stdout",
     "output_type": "stream",
     "text": [
      "Epoch 0: Train loss: 2.4735 Test Loss: 2.2331\n"
     ]
    },
    {
     "name": "stderr",
     "output_type": "stream",
     "text": [
      "  4%|▍         | 2/50 [00:14<05:50,  7.30s/it]"
     ]
    },
    {
     "name": "stdout",
     "output_type": "stream",
     "text": [
      "Epoch 1: Train loss: 2.1341 Test Loss: 2.0298\n"
     ]
    },
    {
     "name": "stderr",
     "output_type": "stream",
     "text": [
      "  6%|▌         | 3/50 [00:21<05:42,  7.28s/it]"
     ]
    },
    {
     "name": "stdout",
     "output_type": "stream",
     "text": [
      "Epoch 2: Train loss: 1.8532 Test Loss: 1.6532\n"
     ]
    },
    {
     "name": "stderr",
     "output_type": "stream",
     "text": [
      "  8%|▊         | 4/50 [00:29<05:37,  7.33s/it]"
     ]
    },
    {
     "name": "stdout",
     "output_type": "stream",
     "text": [
      "Epoch 3: Train loss: 1.4449 Test Loss: 1.2946\n"
     ]
    },
    {
     "name": "stderr",
     "output_type": "stream",
     "text": [
      " 10%|█         | 5/50 [00:36<05:29,  7.32s/it]"
     ]
    },
    {
     "name": "stdout",
     "output_type": "stream",
     "text": [
      "Epoch 4: Train loss: 1.2163 Test Loss: 1.1669\n"
     ]
    },
    {
     "name": "stderr",
     "output_type": "stream",
     "text": [
      " 12%|█▏        | 6/50 [00:43<05:21,  7.31s/it]"
     ]
    },
    {
     "name": "stdout",
     "output_type": "stream",
     "text": [
      "Epoch 5: Train loss: 1.1299 Test Loss: 1.1136\n"
     ]
    },
    {
     "name": "stderr",
     "output_type": "stream",
     "text": [
      " 14%|█▍        | 7/50 [00:51<05:15,  7.34s/it]"
     ]
    },
    {
     "name": "stdout",
     "output_type": "stream",
     "text": [
      "Epoch 6: Train loss: 1.0864 Test Loss: 1.0710\n"
     ]
    },
    {
     "name": "stderr",
     "output_type": "stream",
     "text": [
      " 16%|█▌        | 8/50 [00:58<05:08,  7.34s/it]"
     ]
    },
    {
     "name": "stdout",
     "output_type": "stream",
     "text": [
      "Epoch 7: Train loss: 1.0599 Test Loss: 1.0452\n"
     ]
    },
    {
     "name": "stderr",
     "output_type": "stream",
     "text": [
      " 18%|█▊        | 9/50 [01:06<05:02,  7.38s/it]"
     ]
    },
    {
     "name": "stdout",
     "output_type": "stream",
     "text": [
      "Epoch 8: Train loss: 1.0353 Test Loss: 1.0248\n"
     ]
    },
    {
     "name": "stderr",
     "output_type": "stream",
     "text": [
      " 20%|██        | 10/50 [01:13<05:00,  7.51s/it]"
     ]
    },
    {
     "name": "stdout",
     "output_type": "stream",
     "text": [
      "Epoch 9: Train loss: 1.0111 Test Loss: 1.0083\n"
     ]
    },
    {
     "name": "stderr",
     "output_type": "stream",
     "text": [
      " 22%|██▏       | 11/50 [01:21<04:52,  7.50s/it]"
     ]
    },
    {
     "name": "stdout",
     "output_type": "stream",
     "text": [
      "Epoch 10: Train loss: 1.0021 Test Loss: 0.9928\n"
     ]
    },
    {
     "name": "stderr",
     "output_type": "stream",
     "text": [
      " 24%|██▍       | 12/50 [01:28<04:45,  7.52s/it]"
     ]
    },
    {
     "name": "stdout",
     "output_type": "stream",
     "text": [
      "Epoch 11: Train loss: 0.9853 Test Loss: 0.9804\n"
     ]
    },
    {
     "name": "stderr",
     "output_type": "stream",
     "text": [
      " 26%|██▌       | 13/50 [01:36<04:36,  7.48s/it]"
     ]
    },
    {
     "name": "stdout",
     "output_type": "stream",
     "text": [
      "Epoch 12: Train loss: 0.9738 Test Loss: 0.9684\n"
     ]
    },
    {
     "name": "stderr",
     "output_type": "stream",
     "text": [
      " 28%|██▊       | 14/50 [01:43<04:28,  7.46s/it]"
     ]
    },
    {
     "name": "stdout",
     "output_type": "stream",
     "text": [
      "Epoch 13: Train loss: 0.9624 Test Loss: 0.9595\n"
     ]
    },
    {
     "name": "stderr",
     "output_type": "stream",
     "text": [
      " 30%|███       | 15/50 [01:51<04:22,  7.49s/it]"
     ]
    },
    {
     "name": "stdout",
     "output_type": "stream",
     "text": [
      "Epoch 14: Train loss: 0.9498 Test Loss: 0.9495\n"
     ]
    },
    {
     "name": "stderr",
     "output_type": "stream",
     "text": [
      " 32%|███▏      | 16/50 [01:58<04:13,  7.45s/it]"
     ]
    },
    {
     "name": "stdout",
     "output_type": "stream",
     "text": [
      "Epoch 15: Train loss: 0.9443 Test Loss: 0.9433\n"
     ]
    },
    {
     "name": "stderr",
     "output_type": "stream",
     "text": [
      " 34%|███▍      | 17/50 [02:06<04:06,  7.47s/it]"
     ]
    },
    {
     "name": "stdout",
     "output_type": "stream",
     "text": [
      "Epoch 16: Train loss: 0.9368 Test Loss: 0.9377\n"
     ]
    },
    {
     "name": "stderr",
     "output_type": "stream",
     "text": [
      " 36%|███▌      | 18/50 [02:13<04:00,  7.50s/it]"
     ]
    },
    {
     "name": "stdout",
     "output_type": "stream",
     "text": [
      "Epoch 17: Train loss: 0.9306 Test Loss: 0.9312\n"
     ]
    },
    {
     "name": "stderr",
     "output_type": "stream",
     "text": [
      " 38%|███▊      | 19/50 [02:21<03:51,  7.46s/it]"
     ]
    },
    {
     "name": "stdout",
     "output_type": "stream",
     "text": [
      "Epoch 18: Train loss: 0.9261 Test Loss: 0.9277\n"
     ]
    },
    {
     "name": "stderr",
     "output_type": "stream",
     "text": [
      " 40%|████      | 20/50 [02:28<03:42,  7.43s/it]"
     ]
    },
    {
     "name": "stdout",
     "output_type": "stream",
     "text": [
      "Epoch 19: Train loss: 0.9240 Test Loss: 0.9253\n"
     ]
    },
    {
     "name": "stderr",
     "output_type": "stream",
     "text": [
      " 42%|████▏     | 21/50 [02:35<03:34,  7.41s/it]"
     ]
    },
    {
     "name": "stdout",
     "output_type": "stream",
     "text": [
      "Epoch 20: Train loss: 0.9169 Test Loss: 0.9214\n"
     ]
    },
    {
     "name": "stderr",
     "output_type": "stream",
     "text": [
      " 44%|████▍     | 22/50 [02:43<03:27,  7.40s/it]"
     ]
    },
    {
     "name": "stdout",
     "output_type": "stream",
     "text": [
      "Epoch 21: Train loss: 0.9226 Test Loss: 0.9196\n"
     ]
    },
    {
     "name": "stderr",
     "output_type": "stream",
     "text": [
      " 46%|████▌     | 23/50 [02:50<03:19,  7.39s/it]"
     ]
    },
    {
     "name": "stdout",
     "output_type": "stream",
     "text": [
      "Epoch 22: Train loss: 0.9166 Test Loss: 0.9170\n"
     ]
    },
    {
     "name": "stderr",
     "output_type": "stream",
     "text": [
      " 48%|████▊     | 24/50 [02:57<03:12,  7.39s/it]"
     ]
    },
    {
     "name": "stdout",
     "output_type": "stream",
     "text": [
      "Epoch 23: Train loss: 0.9081 Test Loss: 0.9145\n"
     ]
    },
    {
     "name": "stderr",
     "output_type": "stream",
     "text": [
      " 50%|█████     | 25/50 [03:05<03:04,  7.39s/it]"
     ]
    },
    {
     "name": "stdout",
     "output_type": "stream",
     "text": [
      "Epoch 24: Train loss: 0.9090 Test Loss: 0.9103\n"
     ]
    },
    {
     "name": "stderr",
     "output_type": "stream",
     "text": [
      " 52%|█████▏    | 26/50 [03:13<02:59,  7.49s/it]"
     ]
    },
    {
     "name": "stdout",
     "output_type": "stream",
     "text": [
      "Epoch 25: Train loss: 0.9035 Test Loss: 0.9090\n"
     ]
    },
    {
     "name": "stderr",
     "output_type": "stream",
     "text": [
      " 54%|█████▍    | 27/50 [03:20<02:52,  7.50s/it]"
     ]
    },
    {
     "name": "stdout",
     "output_type": "stream",
     "text": [
      "Epoch 26: Train loss: 0.9035 Test Loss: 0.9101\n"
     ]
    },
    {
     "name": "stderr",
     "output_type": "stream",
     "text": [
      " 56%|█████▌    | 28/50 [03:28<02:46,  7.56s/it]"
     ]
    },
    {
     "name": "stdout",
     "output_type": "stream",
     "text": [
      "Epoch 27: Train loss: 0.8983 Test Loss: 0.9063\n"
     ]
    },
    {
     "name": "stderr",
     "output_type": "stream",
     "text": [
      " 58%|█████▊    | 29/50 [03:36<02:39,  7.60s/it]"
     ]
    },
    {
     "name": "stdout",
     "output_type": "stream",
     "text": [
      "Epoch 28: Train loss: 0.8962 Test Loss: 0.9045\n"
     ]
    },
    {
     "name": "stderr",
     "output_type": "stream",
     "text": [
      " 60%|██████    | 30/50 [03:43<02:30,  7.55s/it]"
     ]
    },
    {
     "name": "stdout",
     "output_type": "stream",
     "text": [
      "Epoch 29: Train loss: 0.8923 Test Loss: 0.9015\n"
     ]
    },
    {
     "name": "stderr",
     "output_type": "stream",
     "text": [
      " 62%|██████▏   | 31/50 [03:50<02:22,  7.50s/it]"
     ]
    },
    {
     "name": "stdout",
     "output_type": "stream",
     "text": [
      "Epoch 30: Train loss: 0.8934 Test Loss: 0.9027\n"
     ]
    },
    {
     "name": "stderr",
     "output_type": "stream",
     "text": [
      " 64%|██████▍   | 32/50 [03:58<02:15,  7.51s/it]"
     ]
    },
    {
     "name": "stdout",
     "output_type": "stream",
     "text": [
      "Epoch 31: Train loss: 0.8952 Test Loss: 0.9003\n"
     ]
    },
    {
     "name": "stderr",
     "output_type": "stream",
     "text": [
      " 66%|██████▌   | 33/50 [04:05<02:08,  7.54s/it]"
     ]
    },
    {
     "name": "stdout",
     "output_type": "stream",
     "text": [
      "Epoch 32: Train loss: 0.8923 Test Loss: 0.8988\n"
     ]
    },
    {
     "name": "stderr",
     "output_type": "stream",
     "text": [
      " 68%|██████▊   | 34/50 [04:13<02:01,  7.59s/it]"
     ]
    },
    {
     "name": "stdout",
     "output_type": "stream",
     "text": [
      "Epoch 33: Train loss: 0.8906 Test Loss: 0.8994\n"
     ]
    },
    {
     "name": "stderr",
     "output_type": "stream",
     "text": [
      " 70%|███████   | 35/50 [04:21<01:54,  7.66s/it]"
     ]
    },
    {
     "name": "stdout",
     "output_type": "stream",
     "text": [
      "Epoch 34: Train loss: 0.8896 Test Loss: 0.9009\n"
     ]
    },
    {
     "name": "stderr",
     "output_type": "stream",
     "text": [
      " 72%|███████▏  | 36/50 [04:29<01:47,  7.64s/it]"
     ]
    },
    {
     "name": "stdout",
     "output_type": "stream",
     "text": [
      "Epoch 35: Train loss: 0.8883 Test Loss: 0.8958\n"
     ]
    },
    {
     "name": "stderr",
     "output_type": "stream",
     "text": [
      " 74%|███████▍  | 37/50 [04:36<01:39,  7.62s/it]"
     ]
    },
    {
     "name": "stdout",
     "output_type": "stream",
     "text": [
      "Epoch 36: Train loss: 0.8848 Test Loss: 0.8959\n"
     ]
    },
    {
     "name": "stderr",
     "output_type": "stream",
     "text": [
      " 76%|███████▌  | 38/50 [04:44<01:31,  7.63s/it]"
     ]
    },
    {
     "name": "stdout",
     "output_type": "stream",
     "text": [
      "Epoch 37: Train loss: 0.8842 Test Loss: 0.8953\n"
     ]
    },
    {
     "name": "stderr",
     "output_type": "stream",
     "text": [
      " 78%|███████▊  | 39/50 [04:51<01:23,  7.61s/it]"
     ]
    },
    {
     "name": "stdout",
     "output_type": "stream",
     "text": [
      "Epoch 38: Train loss: 0.8817 Test Loss: 0.8921\n"
     ]
    },
    {
     "name": "stderr",
     "output_type": "stream",
     "text": [
      " 80%|████████  | 40/50 [04:59<01:16,  7.63s/it]"
     ]
    },
    {
     "name": "stdout",
     "output_type": "stream",
     "text": [
      "Epoch 39: Train loss: 0.8790 Test Loss: 0.8921\n"
     ]
    },
    {
     "name": "stderr",
     "output_type": "stream",
     "text": [
      " 82%|████████▏ | 41/50 [05:07<01:08,  7.59s/it]"
     ]
    },
    {
     "name": "stdout",
     "output_type": "stream",
     "text": [
      "Epoch 40: Train loss: 0.8777 Test Loss: 0.8903\n"
     ]
    },
    {
     "name": "stderr",
     "output_type": "stream",
     "text": [
      " 84%|████████▍ | 42/50 [05:14<01:00,  7.52s/it]"
     ]
    },
    {
     "name": "stdout",
     "output_type": "stream",
     "text": [
      "Epoch 41: Train loss: 0.8761 Test Loss: 0.8908\n"
     ]
    },
    {
     "name": "stderr",
     "output_type": "stream",
     "text": [
      " 86%|████████▌ | 43/50 [05:21<00:52,  7.45s/it]"
     ]
    },
    {
     "name": "stdout",
     "output_type": "stream",
     "text": [
      "Epoch 42: Train loss: 0.8752 Test Loss: 0.8901\n"
     ]
    },
    {
     "name": "stderr",
     "output_type": "stream",
     "text": [
      " 88%|████████▊ | 44/50 [05:29<00:44,  7.41s/it]"
     ]
    },
    {
     "name": "stdout",
     "output_type": "stream",
     "text": [
      "Epoch 43: Train loss: 0.8748 Test Loss: 0.8882\n"
     ]
    },
    {
     "name": "stderr",
     "output_type": "stream",
     "text": [
      " 90%|█████████ | 45/50 [05:36<00:37,  7.47s/it]"
     ]
    },
    {
     "name": "stdout",
     "output_type": "stream",
     "text": [
      "Epoch 44: Train loss: 0.8756 Test Loss: 0.8867\n"
     ]
    },
    {
     "name": "stderr",
     "output_type": "stream",
     "text": [
      " 92%|█████████▏| 46/50 [05:44<00:29,  7.47s/it]"
     ]
    },
    {
     "name": "stdout",
     "output_type": "stream",
     "text": [
      "Epoch 45: Train loss: 0.8732 Test Loss: 0.8900\n"
     ]
    },
    {
     "name": "stderr",
     "output_type": "stream",
     "text": [
      " 94%|█████████▍| 47/50 [05:51<00:22,  7.48s/it]"
     ]
    },
    {
     "name": "stdout",
     "output_type": "stream",
     "text": [
      "Epoch 46: Train loss: 0.8767 Test Loss: 0.8869\n"
     ]
    },
    {
     "name": "stderr",
     "output_type": "stream",
     "text": [
      " 96%|█████████▌| 48/50 [05:59<00:15,  7.53s/it]"
     ]
    },
    {
     "name": "stdout",
     "output_type": "stream",
     "text": [
      "Epoch 47: Train loss: 0.8750 Test Loss: 0.8870\n"
     ]
    },
    {
     "name": "stderr",
     "output_type": "stream",
     "text": [
      " 98%|█████████▊| 49/50 [06:06<00:07,  7.57s/it]"
     ]
    },
    {
     "name": "stdout",
     "output_type": "stream",
     "text": [
      "Epoch 48: Train loss: 0.8708 Test Loss: 0.8869\n"
     ]
    },
    {
     "name": "stderr",
     "output_type": "stream",
     "text": [
      "100%|██████████| 50/50 [06:14<00:00,  7.49s/it]"
     ]
    },
    {
     "name": "stdout",
     "output_type": "stream",
     "text": [
      "Epoch 49: Train loss: 0.8708 Test Loss: 0.8854\n"
     ]
    },
    {
     "name": "stderr",
     "output_type": "stream",
     "text": [
      "\n"
     ]
    }
   ],
   "source": [
    "# Training loop \n",
    "train_losses = []\n",
    "test_losses = []\n",
    "\n",
    "for epoch in tqdm.tqdm(range(num_epochs)):\n",
    "    model.train()  # Set the model to training mode\n",
    "    running_loss = 0.0\n",
    "    for tokens, _ in train_loader:\n",
    "        # Uncomment the following line if you are using a GPU\n",
    "        # tokens = tokens.cuda()\n",
    "\n",
    "        logits = model(tokens)\n",
    "        loss = loss_fn(logits, tokens)\n",
    "        loss.backward()\n",
    "\n",
    "        # Gradient clipping\n",
    "        if max_grad_norm is not None:\n",
    "            torch.nn.utils.clip_grad_norm_(model.parameters(), max_grad_norm)\n",
    "\n",
    "        optimizer.step()\n",
    "        optimizer.zero_grad()\n",
    "        scheduler.step()\n",
    "\n",
    "        running_loss += loss.item()\n",
    "        train_losses.append(loss.item())\n",
    "\n",
    "    # Calculate average loss for the training epoch\n",
    "    average_train_loss = running_loss / len(train_loader)\n",
    "\n",
    "    # Evaluate on test set\n",
    "    model.eval()  # Set the model to evaluation mode\n",
    "    test_loss = 0.0\n",
    "    with torch.no_grad():\n",
    "        for tokens, _ in test_loader:\n",
    "            # Uncomment the following line if you are using a GPU\n",
    "            # tokens = tokens.cuda()\n",
    "\n",
    "            logits = model(tokens)\n",
    "            loss = loss_fn(logits, tokens)\n",
    "            test_loss += loss.item()\n",
    "\n",
    "    # Calculate average loss for the test epoch\n",
    "    average_test_loss = test_loss / len(test_loader)\n",
    "    test_losses.append(average_test_loss)\n",
    "    print(f\"Epoch {epoch}: Train loss: {average_train_loss:.4f} Test Loss: {average_test_loss:.4f}\")"
   ]
  },
  {
   "cell_type": "code",
   "execution_count": 17,
   "metadata": {},
   "outputs": [
    {
     "data": {
      "application/vnd.plotly.v1+json": {
       "config": {
        "plotlyServerURL": "https://plot.ly"
       },
       "data": [
        {
         "hovertemplate": "variable=0<br>index=%{x}<br>value=%{y}<extra></extra>",
         "legendgroup": "0",
         "line": {
          "color": "#636efa",
          "dash": "solid"
         },
         "marker": {
          "symbol": "circle"
         },
         "mode": "lines",
         "name": "0",
         "showlegend": true,
         "type": "scattergl",
         "x": [
          0,
          1,
          2,
          3,
          4,
          5,
          6,
          7,
          8,
          9,
          10,
          11,
          12,
          13,
          14,
          15,
          16,
          17,
          18,
          19,
          20,
          21,
          22,
          23,
          24,
          25,
          26,
          27,
          28,
          29,
          30,
          31,
          32,
          33,
          34,
          35,
          36,
          37,
          38,
          39,
          40,
          41,
          42,
          43,
          44,
          45,
          46,
          47,
          48,
          49,
          50,
          51,
          52,
          53,
          54,
          55,
          56,
          57,
          58,
          59,
          60,
          61,
          62,
          63,
          64,
          65,
          66,
          67,
          68,
          69,
          70,
          71,
          72,
          73,
          74,
          75,
          76,
          77,
          78,
          79,
          80,
          81,
          82,
          83,
          84,
          85,
          86,
          87,
          88,
          89,
          90,
          91,
          92,
          93,
          94,
          95,
          96,
          97,
          98,
          99,
          100,
          101,
          102,
          103,
          104,
          105,
          106,
          107,
          108,
          109,
          110,
          111,
          112,
          113,
          114,
          115,
          116,
          117,
          118,
          119,
          120,
          121,
          122,
          123,
          124,
          125,
          126,
          127,
          128,
          129,
          130,
          131,
          132,
          133,
          134,
          135,
          136,
          137,
          138,
          139,
          140,
          141,
          142,
          143,
          144,
          145,
          146,
          147,
          148,
          149,
          150,
          151,
          152,
          153,
          154,
          155,
          156,
          157,
          158,
          159,
          160,
          161,
          162,
          163,
          164,
          165,
          166,
          167,
          168,
          169,
          170,
          171,
          172,
          173,
          174,
          175,
          176,
          177,
          178,
          179,
          180,
          181,
          182,
          183,
          184,
          185,
          186,
          187,
          188,
          189,
          190,
          191,
          192,
          193,
          194,
          195,
          196,
          197,
          198,
          199,
          200,
          201,
          202,
          203,
          204,
          205,
          206,
          207,
          208,
          209,
          210,
          211,
          212,
          213,
          214,
          215,
          216,
          217,
          218,
          219,
          220,
          221,
          222,
          223,
          224,
          225,
          226,
          227,
          228,
          229,
          230,
          231,
          232,
          233,
          234,
          235,
          236,
          237,
          238,
          239,
          240,
          241,
          242,
          243,
          244,
          245,
          246,
          247,
          248,
          249,
          250,
          251,
          252,
          253,
          254,
          255,
          256,
          257,
          258,
          259,
          260,
          261,
          262,
          263,
          264,
          265,
          266,
          267,
          268,
          269,
          270,
          271,
          272,
          273,
          274,
          275,
          276,
          277,
          278,
          279,
          280,
          281,
          282,
          283,
          284,
          285,
          286,
          287,
          288,
          289,
          290,
          291,
          292,
          293,
          294,
          295,
          296,
          297,
          298,
          299,
          300,
          301,
          302,
          303,
          304,
          305,
          306,
          307,
          308,
          309,
          310,
          311,
          312,
          313,
          314,
          315,
          316,
          317,
          318,
          319,
          320,
          321,
          322,
          323,
          324,
          325,
          326,
          327,
          328,
          329,
          330,
          331,
          332,
          333,
          334,
          335,
          336,
          337,
          338,
          339,
          340,
          341,
          342,
          343,
          344,
          345,
          346,
          347,
          348,
          349,
          350,
          351,
          352,
          353,
          354,
          355,
          356,
          357,
          358,
          359,
          360,
          361,
          362,
          363,
          364,
          365,
          366,
          367,
          368,
          369,
          370,
          371,
          372,
          373,
          374,
          375,
          376,
          377,
          378,
          379,
          380,
          381,
          382,
          383,
          384,
          385,
          386,
          387,
          388,
          389,
          390,
          391,
          392,
          393,
          394,
          395,
          396,
          397,
          398,
          399,
          400,
          401,
          402,
          403,
          404,
          405,
          406,
          407,
          408,
          409,
          410,
          411,
          412,
          413,
          414,
          415,
          416,
          417,
          418,
          419,
          420,
          421,
          422,
          423,
          424,
          425,
          426,
          427,
          428,
          429,
          430,
          431,
          432,
          433,
          434,
          435,
          436,
          437,
          438,
          439,
          440,
          441,
          442,
          443,
          444,
          445,
          446,
          447,
          448,
          449,
          450,
          451,
          452,
          453,
          454,
          455,
          456,
          457,
          458,
          459,
          460,
          461,
          462,
          463,
          464,
          465,
          466,
          467,
          468,
          469,
          470,
          471,
          472,
          473,
          474,
          475,
          476,
          477,
          478,
          479,
          480,
          481,
          482,
          483,
          484,
          485,
          486,
          487,
          488,
          489,
          490,
          491,
          492,
          493,
          494,
          495,
          496,
          497,
          498,
          499,
          500,
          501,
          502,
          503,
          504,
          505,
          506,
          507,
          508,
          509,
          510,
          511,
          512,
          513,
          514,
          515,
          516,
          517,
          518,
          519,
          520,
          521,
          522,
          523,
          524,
          525,
          526,
          527,
          528,
          529,
          530,
          531,
          532,
          533,
          534,
          535,
          536,
          537,
          538,
          539,
          540,
          541,
          542,
          543,
          544,
          545,
          546,
          547,
          548,
          549,
          550,
          551,
          552,
          553,
          554,
          555,
          556,
          557,
          558,
          559,
          560,
          561,
          562,
          563,
          564,
          565,
          566,
          567,
          568,
          569,
          570,
          571,
          572,
          573,
          574,
          575,
          576,
          577,
          578,
          579,
          580,
          581,
          582,
          583,
          584,
          585,
          586,
          587,
          588,
          589,
          590,
          591,
          592,
          593,
          594,
          595,
          596,
          597,
          598,
          599,
          600,
          601,
          602,
          603,
          604,
          605,
          606,
          607,
          608,
          609,
          610,
          611,
          612,
          613,
          614,
          615,
          616,
          617,
          618,
          619,
          620,
          621,
          622,
          623,
          624,
          625,
          626,
          627,
          628,
          629,
          630,
          631,
          632,
          633,
          634,
          635,
          636,
          637,
          638,
          639,
          640,
          641,
          642,
          643,
          644,
          645,
          646,
          647,
          648,
          649,
          650,
          651,
          652,
          653,
          654,
          655,
          656,
          657,
          658,
          659,
          660,
          661,
          662,
          663,
          664,
          665,
          666,
          667,
          668,
          669,
          670,
          671,
          672,
          673,
          674,
          675,
          676,
          677,
          678,
          679,
          680,
          681,
          682,
          683,
          684,
          685,
          686,
          687,
          688,
          689,
          690,
          691,
          692,
          693,
          694,
          695,
          696,
          697,
          698,
          699,
          700,
          701,
          702,
          703,
          704,
          705,
          706,
          707,
          708,
          709,
          710,
          711,
          712,
          713,
          714,
          715,
          716,
          717,
          718,
          719,
          720,
          721,
          722,
          723,
          724,
          725,
          726,
          727,
          728,
          729,
          730,
          731,
          732,
          733,
          734,
          735,
          736,
          737,
          738,
          739,
          740,
          741,
          742,
          743,
          744,
          745,
          746,
          747,
          748,
          749,
          750,
          751,
          752,
          753,
          754,
          755,
          756,
          757,
          758,
          759,
          760,
          761,
          762,
          763,
          764,
          765,
          766,
          767,
          768,
          769,
          770,
          771,
          772,
          773,
          774,
          775,
          776,
          777,
          778,
          779,
          780,
          781,
          782,
          783,
          784,
          785,
          786,
          787,
          788,
          789,
          790,
          791,
          792,
          793,
          794,
          795,
          796,
          797,
          798,
          799,
          800,
          801,
          802,
          803,
          804,
          805,
          806,
          807,
          808,
          809,
          810,
          811,
          812,
          813,
          814,
          815,
          816,
          817,
          818,
          819,
          820,
          821,
          822,
          823,
          824,
          825,
          826,
          827,
          828,
          829,
          830,
          831,
          832,
          833,
          834,
          835,
          836,
          837,
          838,
          839,
          840,
          841,
          842,
          843,
          844,
          845,
          846,
          847,
          848,
          849,
          850,
          851,
          852,
          853,
          854,
          855,
          856,
          857,
          858,
          859,
          860,
          861,
          862,
          863,
          864,
          865,
          866,
          867,
          868,
          869,
          870,
          871,
          872,
          873,
          874,
          875,
          876,
          877,
          878,
          879,
          880,
          881,
          882,
          883,
          884,
          885,
          886,
          887,
          888,
          889,
          890,
          891,
          892,
          893,
          894,
          895,
          896,
          897,
          898,
          899,
          900,
          901,
          902,
          903,
          904,
          905,
          906,
          907,
          908,
          909,
          910,
          911,
          912,
          913,
          914,
          915,
          916,
          917,
          918,
          919,
          920,
          921,
          922,
          923,
          924,
          925,
          926,
          927,
          928,
          929,
          930,
          931,
          932,
          933,
          934,
          935,
          936,
          937,
          938,
          939,
          940,
          941,
          942,
          943,
          944,
          945,
          946,
          947,
          948,
          949,
          950,
          951,
          952,
          953,
          954,
          955,
          956,
          957,
          958,
          959,
          960,
          961,
          962,
          963,
          964,
          965,
          966,
          967,
          968,
          969,
          970,
          971,
          972,
          973,
          974,
          975,
          976,
          977,
          978,
          979,
          980,
          981,
          982,
          983,
          984,
          985,
          986,
          987,
          988,
          989,
          990,
          991,
          992,
          993,
          994,
          995,
          996,
          997,
          998,
          999,
          1000,
          1001,
          1002,
          1003,
          1004,
          1005,
          1006,
          1007,
          1008,
          1009,
          1010,
          1011,
          1012,
          1013,
          1014,
          1015,
          1016,
          1017,
          1018,
          1019,
          1020,
          1021,
          1022,
          1023,
          1024,
          1025,
          1026,
          1027,
          1028,
          1029,
          1030,
          1031,
          1032,
          1033,
          1034,
          1035,
          1036,
          1037,
          1038,
          1039,
          1040,
          1041,
          1042,
          1043,
          1044,
          1045,
          1046,
          1047,
          1048,
          1049,
          1050,
          1051,
          1052,
          1053,
          1054,
          1055,
          1056,
          1057,
          1058,
          1059,
          1060,
          1061,
          1062,
          1063,
          1064,
          1065,
          1066,
          1067,
          1068,
          1069,
          1070,
          1071,
          1072,
          1073,
          1074,
          1075,
          1076,
          1077,
          1078,
          1079,
          1080,
          1081,
          1082,
          1083,
          1084,
          1085,
          1086,
          1087,
          1088,
          1089,
          1090,
          1091,
          1092,
          1093,
          1094,
          1095,
          1096,
          1097,
          1098,
          1099,
          1100,
          1101,
          1102,
          1103,
          1104,
          1105,
          1106,
          1107,
          1108,
          1109,
          1110,
          1111,
          1112,
          1113,
          1114,
          1115,
          1116,
          1117,
          1118,
          1119,
          1120,
          1121,
          1122,
          1123,
          1124,
          1125,
          1126,
          1127,
          1128,
          1129,
          1130,
          1131,
          1132,
          1133,
          1134,
          1135,
          1136,
          1137,
          1138,
          1139,
          1140,
          1141,
          1142,
          1143,
          1144,
          1145,
          1146,
          1147,
          1148,
          1149,
          1150,
          1151,
          1152,
          1153,
          1154,
          1155,
          1156,
          1157,
          1158,
          1159,
          1160,
          1161,
          1162,
          1163,
          1164,
          1165,
          1166,
          1167,
          1168,
          1169,
          1170,
          1171,
          1172,
          1173,
          1174,
          1175,
          1176,
          1177,
          1178,
          1179,
          1180,
          1181,
          1182,
          1183,
          1184,
          1185,
          1186,
          1187,
          1188,
          1189,
          1190,
          1191,
          1192,
          1193,
          1194,
          1195,
          1196,
          1197,
          1198,
          1199,
          1200,
          1201,
          1202,
          1203,
          1204,
          1205,
          1206,
          1207,
          1208,
          1209,
          1210,
          1211,
          1212,
          1213,
          1214,
          1215,
          1216,
          1217,
          1218,
          1219,
          1220,
          1221,
          1222,
          1223,
          1224,
          1225,
          1226,
          1227,
          1228,
          1229,
          1230,
          1231,
          1232,
          1233,
          1234,
          1235,
          1236,
          1237,
          1238,
          1239,
          1240,
          1241,
          1242,
          1243,
          1244,
          1245,
          1246,
          1247,
          1248,
          1249,
          1250,
          1251,
          1252,
          1253,
          1254,
          1255,
          1256,
          1257,
          1258,
          1259,
          1260,
          1261,
          1262,
          1263,
          1264,
          1265,
          1266,
          1267,
          1268,
          1269,
          1270,
          1271,
          1272,
          1273,
          1274,
          1275,
          1276,
          1277,
          1278,
          1279,
          1280,
          1281,
          1282,
          1283,
          1284,
          1285,
          1286,
          1287,
          1288,
          1289,
          1290,
          1291,
          1292,
          1293,
          1294,
          1295,
          1296,
          1297,
          1298,
          1299,
          1300,
          1301,
          1302,
          1303,
          1304,
          1305,
          1306,
          1307,
          1308,
          1309,
          1310,
          1311,
          1312,
          1313,
          1314,
          1315,
          1316,
          1317,
          1318,
          1319,
          1320,
          1321,
          1322,
          1323,
          1324,
          1325,
          1326,
          1327,
          1328,
          1329,
          1330,
          1331,
          1332,
          1333,
          1334,
          1335,
          1336,
          1337,
          1338,
          1339,
          1340,
          1341,
          1342,
          1343,
          1344,
          1345,
          1346,
          1347,
          1348,
          1349,
          1350,
          1351,
          1352,
          1353,
          1354,
          1355,
          1356,
          1357,
          1358,
          1359,
          1360,
          1361,
          1362,
          1363,
          1364,
          1365,
          1366,
          1367,
          1368,
          1369,
          1370,
          1371,
          1372,
          1373,
          1374,
          1375,
          1376,
          1377,
          1378,
          1379,
          1380,
          1381,
          1382,
          1383,
          1384,
          1385,
          1386,
          1387,
          1388,
          1389,
          1390,
          1391,
          1392,
          1393,
          1394,
          1395,
          1396,
          1397,
          1398,
          1399,
          1400,
          1401,
          1402,
          1403,
          1404,
          1405,
          1406,
          1407,
          1408,
          1409,
          1410,
          1411,
          1412,
          1413,
          1414,
          1415,
          1416,
          1417,
          1418,
          1419,
          1420,
          1421,
          1422,
          1423,
          1424,
          1425,
          1426,
          1427,
          1428,
          1429,
          1430,
          1431,
          1432,
          1433,
          1434,
          1435,
          1436,
          1437,
          1438,
          1439,
          1440,
          1441,
          1442,
          1443,
          1444,
          1445,
          1446,
          1447,
          1448,
          1449
         ],
         "xaxis": "x",
         "y": [
          2.686448097229004,
          2.633603096008301,
          2.5747923851013184,
          2.5917253494262695,
          2.606964349746704,
          2.692087411880493,
          2.517282009124756,
          2.5871453285217285,
          2.5865139961242676,
          2.602546453475952,
          2.509876251220703,
          2.471543312072754,
          2.5613417625427246,
          2.513416051864624,
          2.4946494102478027,
          2.5104222297668457,
          2.4218008518218994,
          2.4466655254364014,
          2.4519195556640625,
          2.4044132232666016,
          2.34260630607605,
          2.359802007675171,
          2.343787670135498,
          2.287707567214966,
          2.3683009147644043,
          2.296595573425293,
          2.300288438796997,
          2.2747414112091064,
          2.2938005924224854,
          2.2026467323303223,
          2.227663040161133,
          2.206688642501831,
          2.215831756591797,
          2.1783952713012695,
          2.2565627098083496,
          2.203998565673828,
          2.209447145462036,
          2.148012638092041,
          2.174964666366577,
          2.192797899246216,
          2.142622470855713,
          2.1619205474853516,
          2.1507787704467773,
          2.1017706394195557,
          2.131948709487915,
          2.154341459274292,
          2.1082472801208496,
          2.121800661087036,
          2.076122283935547,
          2.0573654174804688,
          2.082369327545166,
          2.0964746475219727,
          2.0554702281951904,
          2.0634970664978027,
          2.0417733192443848,
          2.0428061485290527,
          2.028287887573242,
          2.05354642868042,
          1.9969654083251953,
          2.0046615600585938,
          2.007373571395874,
          1.989121675491333,
          1.989124059677124,
          1.9600073099136353,
          1.9472832679748535,
          1.9492954015731812,
          1.921248197555542,
          1.8958964347839355,
          1.8840681314468384,
          1.8900986909866333,
          1.9164156913757324,
          1.8797731399536133,
          1.8872839212417603,
          1.8476718664169312,
          1.8488454818725586,
          1.812074899673462,
          1.8157941102981567,
          1.8007566928863525,
          1.7747892141342163,
          1.752601146697998,
          1.783922791481018,
          1.7893471717834473,
          1.683908224105835,
          1.6940466165542603,
          1.694599986076355,
          1.6736716032028198,
          1.6535429954528809,
          1.6654983758926392,
          1.635382890701294,
          1.6122651100158691,
          1.56699800491333,
          1.5748928785324097,
          1.514521598815918,
          1.5604032278060913,
          1.4919697046279907,
          1.4768670797348022,
          1.5675134658813477,
          1.464936375617981,
          1.482011079788208,
          1.4223476648330688,
          1.4172265529632568,
          1.430311679840088,
          1.3892015218734741,
          1.4345771074295044,
          1.453768014907837,
          1.414194941520691,
          1.3652644157409668,
          1.3423441648483276,
          1.3813221454620361,
          1.346387505531311,
          1.3227474689483643,
          1.3664065599441528,
          1.3142280578613281,
          1.3005704879760742,
          1.2826855182647705,
          1.3056575059890747,
          1.2907472848892212,
          1.2995080947875977,
          1.2005358934402466,
          1.2766518592834473,
          1.2670260667800903,
          1.2097076177597046,
          1.2404321432113647,
          1.2713279724121094,
          1.2454164028167725,
          1.28896164894104,
          1.2483155727386475,
          1.1833471059799194,
          1.216691017150879,
          1.1701616048812866,
          1.2275710105895996,
          1.1550042629241943,
          1.2380186319351196,
          1.2156339883804321,
          1.1947429180145264,
          1.22068452835083,
          1.2267816066741943,
          1.1899698972702026,
          1.2060176134109497,
          1.168234944343567,
          1.194680094718933,
          1.14499032497406,
          1.159551739692688,
          1.1796470880508423,
          1.1413538455963135,
          1.160705804824829,
          1.1356756687164307,
          1.0945240259170532,
          1.1756917238235474,
          1.0851587057113647,
          1.1754659414291382,
          1.1485482454299927,
          1.1652439832687378,
          1.124337911605835,
          1.116066813468933,
          1.1259483098983765,
          1.15976881980896,
          1.0936226844787598,
          1.1624327898025513,
          1.116816759109497,
          1.1056853532791138,
          1.1611171960830688,
          1.132968544960022,
          1.1044659614562988,
          1.1195353269577026,
          1.1336627006530762,
          1.1232967376708984,
          1.0917400121688843,
          1.111159086227417,
          1.1846257448196411,
          1.0853455066680908,
          1.1016113758087158,
          1.1552965641021729,
          1.116843581199646,
          1.0680136680603027,
          1.0805857181549072,
          1.0996999740600586,
          1.1095168590545654,
          1.1067007780075073,
          1.1003222465515137,
          1.0681968927383423,
          1.0891906023025513,
          1.0897891521453857,
          1.100604772567749,
          1.115706443786621,
          1.1054670810699463,
          1.0917598009109497,
          1.1288893222808838,
          1.0988963842391968,
          1.0437967777252197,
          1.1341125965118408,
          1.0639930963516235,
          1.102539300918579,
          1.102211833000183,
          1.0725196599960327,
          1.058167576789856,
          1.0502593517303467,
          1.085736632347107,
          1.0725396871566772,
          1.0675294399261475,
          1.068139672279358,
          1.05649995803833,
          1.073813557624817,
          1.0909357070922852,
          1.101436734199524,
          1.0666120052337646,
          1.0341360569000244,
          1.0640794038772583,
          1.060728907585144,
          1.0166049003601074,
          1.026352047920227,
          1.0598043203353882,
          1.0668351650238037,
          1.0745242834091187,
          1.0480830669403076,
          1.0210813283920288,
          1.0119075775146484,
          1.0292961597442627,
          1.129134178161621,
          1.1183408498764038,
          1.0444660186767578,
          1.0395605564117432,
          1.035294532775879,
          1.06282377243042,
          1.0956705808639526,
          1.0341097116470337,
          1.0391626358032227,
          1.0302355289459229,
          1.0216413736343384,
          1.0470025539398193,
          1.0826674699783325,
          1.1834723949432373,
          0.9967266321182251,
          1.0262187719345093,
          1.0346380472183228,
          1.0282355546951294,
          1.0592944622039795,
          1.034030795097351,
          1.0292677879333496,
          1.067857027053833,
          1.0522702932357788,
          1.0475804805755615,
          1.0383837223052979,
          1.0349773168563843,
          1.0321552753448486,
          1.0293445587158203,
          0.9970809817314148,
          1.020462155342102,
          1.0544623136520386,
          1.020019292831421,
          1.0240155458450317,
          1.0209927558898926,
          1.02265202999115,
          1.0497870445251465,
          1.076776146888733,
          1.0606769323349,
          0.9996778964996338,
          1.014147400856018,
          1.0416569709777832,
          1.0385788679122925,
          1.0722968578338623,
          1.0029429197311401,
          1.0171544551849365,
          1.0472829341888428,
          0.9916315078735352,
          1.0074504613876343,
          1.0052564144134521,
          0.9781448245048523,
          1.0160630941390991,
          1.0346391201019287,
          1.0175981521606445,
          1.050074577331543,
          1.0099823474884033,
          1.0587657690048218,
          1.0440133810043335,
          1.0263946056365967,
          1.0279712677001953,
          1.0095220804214478,
          0.984856903553009,
          0.9936110377311707,
          1.01511549949646,
          1.0273635387420654,
          1.012549638748169,
          0.9777831435203552,
          1.0204010009765625,
          1.0071897506713867,
          1.0432246923446655,
          1.0243453979492188,
          1.0063369274139404,
          0.8640390038490295,
          1.0263381004333496,
          1.0079600811004639,
          0.9884688258171082,
          0.9798086881637573,
          1.0210570096969604,
          1.0025930404663086,
          1.0023692846298218,
          1.0182539224624634,
          1.0516928434371948,
          1.0246280431747437,
          1.0173914432525635,
          1.0403761863708496,
          0.9615879058837891,
          0.9727799892425537,
          1.01361083984375,
          0.9458383321762085,
          0.9659579992294312,
          0.988066554069519,
          1.011825442314148,
          1.0050796270370483,
          0.9640799164772034,
          1.0146311521530151,
          1.0156117677688599,
          0.9969263672828674,
          1.0162549018859863,
          0.9708797931671143,
          0.967629611492157,
          1.0065885782241821,
          1.0627459287643433,
          0.976328432559967,
          0.9910100698471069,
          0.9771313071250916,
          1.0256916284561157,
          0.9633920788764954,
          0.9800856709480286,
          0.9687811136245728,
          1.0174834728240967,
          0.9947081208229065,
          0.9895312190055847,
          0.9870429039001465,
          0.9490554332733154,
          0.9921826124191284,
          0.986049473285675,
          1.0103682279586792,
          0.975251317024231,
          0.9777845740318298,
          0.9940253496170044,
          0.9938279986381531,
          0.9849899411201477,
          0.9871885776519775,
          0.9746005535125732,
          0.9783488512039185,
          0.9635537266731262,
          1.00297212600708,
          0.980232834815979,
          0.9967491030693054,
          0.9685983061790466,
          0.9876686930656433,
          0.9638593792915344,
          0.9539065957069397,
          0.9638187289237976,
          0.9711925387382507,
          0.9934112429618835,
          0.9584720134735107,
          1.0040314197540283,
          0.9863271117210388,
          0.9373382329940796,
          1.0006067752838135,
          0.9568154215812683,
          0.9325001835823059,
          0.9607758522033691,
          0.9553678035736084,
          0.9916821718215942,
          0.9742392301559448,
          0.9605723023414612,
          1.0255095958709717,
          0.955345869064331,
          1.0012644529342651,
          0.9887800216674805,
          0.9704289436340332,
          0.9698836207389832,
          0.981377124786377,
          0.9751469492912292,
          0.9528049230575562,
          0.9611336588859558,
          0.9621325731277466,
          1.0315978527069092,
          0.9784353375434875,
          0.9674779772758484,
          0.9791489243507385,
          0.9874805808067322,
          0.9215696454048157,
          0.9858294129371643,
          0.987460196018219,
          0.9588749408721924,
          0.9610392451286316,
          0.9724963903427124,
          0.9934049844741821,
          0.9825884103775024,
          0.9517584443092346,
          0.9631036520004272,
          0.9628081917762756,
          0.9229163527488708,
          0.9508947134017944,
          0.9478759169578552,
          0.9878594279289246,
          0.9316693544387817,
          0.9291200041770935,
          0.9487111568450928,
          0.9440826177597046,
          0.9679000377655029,
          0.9573715925216675,
          0.9463750123977661,
          0.9374655485153198,
          0.9686645865440369,
          1.016585111618042,
          0.9565982818603516,
          0.9518555998802185,
          0.9591406583786011,
          0.9343069791793823,
          0.964107871055603,
          0.9720948338508606,
          0.953758955001831,
          0.9727293848991394,
          0.9393102526664734,
          0.9225487112998962,
          0.9800562262535095,
          0.9083878993988037,
          0.9396871328353882,
          0.9645140171051025,
          0.9509812593460083,
          0.9718319177627563,
          0.9183837175369263,
          0.9517360925674438,
          0.9563796520233154,
          0.9538875818252563,
          0.963925838470459,
          0.9589736461639404,
          0.9290046095848083,
          0.9387595653533936,
          0.9713581204414368,
          0.9719581007957458,
          0.9765282273292542,
          0.9460101127624512,
          0.8640000224113464,
          0.9647188186645508,
          0.9501250982284546,
          0.9626286029815674,
          0.9462321400642395,
          0.9434158205986023,
          0.9338901042938232,
          0.9320879578590393,
          0.9054242372512817,
          0.9668844938278198,
          0.9431021809577942,
          0.9355982542037964,
          0.9563742876052856,
          0.9296731352806091,
          0.938849687576294,
          0.9299887418746948,
          0.9484726786613464,
          0.9513986706733704,
          0.9321192502975464,
          0.9026593565940857,
          0.9395232200622559,
          0.963587760925293,
          0.9868215918540955,
          0.9621657133102417,
          0.9680157899856567,
          0.9409541487693787,
          0.9430025219917297,
          0.9538946151733398,
          0.9284300804138184,
          0.9260432720184326,
          0.9217951893806458,
          0.9765753149986267,
          0.933559775352478,
          0.9344765543937683,
          0.9585574269294739,
          0.9315145611763,
          0.9548604488372803,
          0.9299064874649048,
          0.9325620532035828,
          0.9741654992103577,
          0.91593337059021,
          0.9427880048751831,
          0.9380839467048645,
          0.8950050473213196,
          0.9220053553581238,
          0.9296990036964417,
          0.9384198188781738,
          0.9504132270812988,
          0.9521385431289673,
          0.9444757699966431,
          0.9288148283958435,
          0.9600856900215149,
          0.9423744678497314,
          0.9498059153556824,
          0.9436466097831726,
          0.9097924828529358,
          0.9156569838523865,
          0.9298038482666016,
          0.9099029898643494,
          0.9522889852523804,
          0.9120379090309143,
          0.9078099131584167,
          0.9264887571334839,
          0.9383825659751892,
          0.9636461138725281,
          0.9172705411911011,
          0.9526252150535583,
          0.9135918617248535,
          0.9418929815292358,
          0.9161441922187805,
          0.9576752781867981,
          0.8994646668434143,
          0.9269170165061951,
          0.9424684047698975,
          0.927486002445221,
          0.9261261224746704,
          0.9159358739852905,
          1.0041006803512573,
          0.8956421613693237,
          0.9285494685173035,
          0.9341893792152405,
          0.909176766872406,
          0.939053475856781,
          0.9324896931648254,
          0.9481850862503052,
          0.9330464005470276,
          0.9210598468780518,
          0.9027568697929382,
          0.9112985730171204,
          0.9524418115615845,
          0.9033427238464355,
          0.8809191584587097,
          0.9493341445922852,
          0.924884557723999,
          0.8915460705757141,
          0.9094053506851196,
          0.9645864367485046,
          0.9166808724403381,
          0.9562042355537415,
          0.96308434009552,
          0.9613194465637207,
          0.9629228115081787,
          0.9383729696273804,
          0.8870115280151367,
          0.9079976081848145,
          0.9401272535324097,
          0.9286032915115356,
          0.9183645844459534,
          0.9281490445137024,
          0.9156167507171631,
          0.9336161613464355,
          0.9376851916313171,
          0.9073033928871155,
          0.908958375453949,
          0.9201365113258362,
          0.924961268901825,
          0.911310613155365,
          0.896477997303009,
          0.9420762658119202,
          0.8954162001609802,
          0.9015883803367615,
          0.9523216485977173,
          0.9371006488800049,
          0.9151246547698975,
          0.8831724524497986,
          0.9343874454498291,
          0.9652445912361145,
          0.9068335890769958,
          0.9424394965171814,
          0.8971360325813293,
          0.9484185576438904,
          0.9769666790962219,
          0.9316097497940063,
          0.9166527390480042,
          0.8964094519615173,
          0.8800336122512817,
          0.9570159912109375,
          0.892573356628418,
          0.9540790319442749,
          0.9093710780143738,
          0.905521035194397,
          0.8989859223365784,
          0.9133435487747192,
          0.9456040263175964,
          0.9190390706062317,
          0.980124294757843,
          0.9247538447380066,
          0.936187207698822,
          0.9001750946044922,
          0.9267417192459106,
          0.9107217192649841,
          0.9217472672462463,
          0.9003525376319885,
          0.9034569263458252,
          0.9432477951049805,
          0.9157406687736511,
          0.8947563171386719,
          0.8933496475219727,
          0.9364957809448242,
          0.941076934337616,
          0.917329728603363,
          0.9690180420875549,
          0.92074054479599,
          0.9186146259307861,
          0.9535943269729614,
          0.921149492263794,
          0.8955776691436768,
          0.9110696315765381,
          0.9226357936859131,
          0.8950664401054382,
          0.8965624570846558,
          0.9308058619499207,
          0.8867122530937195,
          0.9248393177986145,
          0.8762302398681641,
          0.928770899772644,
          0.9157143831253052,
          0.9455922842025757,
          0.9547632932662964,
          0.8950744271278381,
          0.9367841482162476,
          0.9038829803466797,
          0.8966213464736938,
          0.8813833594322205,
          0.9260454773902893,
          0.9320663213729858,
          0.9305503368377686,
          0.9337217211723328,
          0.9321331977844238,
          0.9115141034126282,
          0.9045040607452393,
          0.9279881715774536,
          0.8881998658180237,
          0.8999578356742859,
          0.9004205465316772,
          0.8833510875701904,
          0.9323618412017822,
          0.8915860056877136,
          0.9145750999450684,
          0.9264209866523743,
          0.8869420289993286,
          0.9289349913597107,
          0.9174720048904419,
          1.1288586854934692,
          0.9013190865516663,
          0.9028905630111694,
          0.9640259742736816,
          0.9453856348991394,
          0.9291738867759705,
          0.9332554340362549,
          0.8770977854728699,
          0.9139736890792847,
          0.8970797061920166,
          0.9148845076560974,
          0.9081552028656006,
          0.9265162944793701,
          0.859524667263031,
          0.9012945890426636,
          0.921043872833252,
          0.9169397354125977,
          0.9247426390647888,
          0.9068849086761475,
          0.9138268828392029,
          0.9344913959503174,
          0.9027643799781799,
          0.8846551179885864,
          0.9051223993301392,
          0.915355920791626,
          0.8804619312286377,
          0.9369226694107056,
          0.913402795791626,
          0.9077917337417603,
          1.0413832664489746,
          0.8921865224838257,
          0.9484771490097046,
          0.931556761264801,
          0.9115701913833618,
          0.8790954351425171,
          0.8673291206359863,
          0.9314540028572083,
          0.9037336707115173,
          0.9264577627182007,
          0.8694318532943726,
          0.9032774567604065,
          0.9612353444099426,
          0.9087157845497131,
          0.9444595575332642,
          0.9259049296379089,
          0.8888483047485352,
          0.9030255079269409,
          0.9278072714805603,
          0.9359450340270996,
          0.9121087789535522,
          0.8979954719543457,
          0.9142560362815857,
          0.9013111591339111,
          0.8920094966888428,
          0.8850526809692383,
          0.8668577671051025,
          0.9063108563423157,
          0.942211925983429,
          0.8564598560333252,
          0.9151699542999268,
          0.9243096709251404,
          0.9180313944816589,
          0.9094758033752441,
          0.9299251437187195,
          0.9514579772949219,
          0.9070956110954285,
          0.8790146112442017,
          0.9079539179801941,
          0.885966420173645,
          0.9055299758911133,
          0.8753635287284851,
          0.9162876009941101,
          0.9134398698806763,
          0.9074373245239258,
          0.9082664847373962,
          0.9130352735519409,
          0.8702082633972168,
          0.9321577548980713,
          0.8663399815559387,
          0.9059906601905823,
          0.9187426567077637,
          0.9078957438468933,
          0.8908963799476624,
          0.8890488743782043,
          0.9072645902633667,
          0.9012250900268555,
          0.9284922480583191,
          0.9736976623535156,
          0.9223998785018921,
          0.8972040414810181,
          0.8992647528648376,
          0.8939094543457031,
          0.9290556907653809,
          0.9243605732917786,
          0.9140914082527161,
          0.8944714665412903,
          0.8649859428405762,
          0.873849093914032,
          0.8694546818733215,
          0.8713047504425049,
          0.9023414254188538,
          0.8864229321479797,
          0.8955188393592834,
          0.9158276319503784,
          0.9240773320198059,
          0.9209491014480591,
          0.9361677169799805,
          0.8735327124595642,
          0.9502646923065186,
          0.942010760307312,
          0.8826467990875244,
          0.9155139327049255,
          0.9183380007743835,
          0.9011412858963013,
          0.8848451972007751,
          0.8948501348495483,
          0.9024773240089417,
          0.9043796062469482,
          0.8936265110969543,
          0.8835654854774475,
          0.9144744277000427,
          0.8943995237350464,
          0.8846238255500793,
          0.8933499455451965,
          0.9269338846206665,
          0.9108457565307617,
          0.8839150667190552,
          0.9019087553024292,
          0.8609439134597778,
          0.8936448097229004,
          0.9254728555679321,
          0.9298821091651917,
          0.8802701234817505,
          0.8899478912353516,
          0.9128161668777466,
          0.8873037695884705,
          0.9369311928749084,
          0.9117607474327087,
          0.8955448269844055,
          0.9006046056747437,
          0.898287832736969,
          0.9135867357254028,
          0.914121687412262,
          0.8824887871742249,
          0.9187546968460083,
          0.9576155543327332,
          0.8926776051521301,
          0.9014050364494324,
          0.8890649080276489,
          0.9210392832756042,
          0.9036737084388733,
          0.9118331670761108,
          0.9112573266029358,
          0.8844708800315857,
          0.8700136542320251,
          0.8845975399017334,
          0.8973439931869507,
          0.8929007649421692,
          0.9640013575553894,
          0.917695939540863,
          0.8868659138679504,
          0.9130401015281677,
          0.8766382336616516,
          0.918658971786499,
          0.8795541524887085,
          0.8925387263298035,
          0.89155113697052,
          0.8865335583686829,
          0.8927561640739441,
          0.910054087638855,
          0.8974224925041199,
          0.8669173121452332,
          0.9292910099029541,
          0.9222950339317322,
          0.8444058299064636,
          0.895319938659668,
          0.8923130631446838,
          0.9246149659156799,
          0.8838479518890381,
          0.8734915852546692,
          0.8679232001304626,
          0.9066560864448547,
          0.8932020664215088,
          0.8426274657249451,
          0.9017640948295593,
          0.9127969145774841,
          0.9126917123794556,
          0.9048963189125061,
          0.8996453881263733,
          0.8962351679801941,
          0.8857991099357605,
          0.8956639170646667,
          0.8982433676719666,
          0.9098076224327087,
          0.9207311272621155,
          0.8881656527519226,
          0.8965906500816345,
          0.9159752726554871,
          0.8860241770744324,
          0.8899843096733093,
          0.9126993417739868,
          0.9241020679473877,
          0.9023105502128601,
          0.856791615486145,
          0.9108460545539856,
          0.8720422983169556,
          0.884791910648346,
          0.8975032567977905,
          0.9214668273925781,
          0.8888456225395203,
          0.896006166934967,
          0.9068699479103088,
          0.8747920393943787,
          0.9031475782394409,
          0.9066503047943115,
          0.9104681015014648,
          0.9073564410209656,
          0.8932390809059143,
          0.9218435883522034,
          0.8659738302230835,
          0.8921943306922913,
          0.8610173463821411,
          0.9085086584091187,
          0.8871422410011292,
          0.9295844435691833,
          0.8776326179504395,
          0.8695162534713745,
          0.8834781646728516,
          0.9180238246917725,
          0.9096478819847107,
          0.9087104201316833,
          0.8763579726219177,
          0.793552577495575,
          0.8883426785469055,
          0.9094923734664917,
          0.9013901352882385,
          0.8887951970100403,
          0.8837288022041321,
          0.8948684930801392,
          0.9339235424995422,
          0.8838734030723572,
          0.909701406955719,
          0.8993645906448364,
          0.8962631821632385,
          0.8744998574256897,
          0.8658567070960999,
          0.9068132638931274,
          0.8843333721160889,
          0.897113561630249,
          0.8884159326553345,
          0.9265648126602173,
          0.8786795139312744,
          0.889497697353363,
          0.8786475658416748,
          0.8855899572372437,
          0.9294795393943787,
          0.870841920375824,
          0.9209936857223511,
          0.8841356635093689,
          0.8882962465286255,
          0.8716779351234436,
          0.8776798844337463,
          0.9205039143562317,
          0.912851870059967,
          0.8766453266143799,
          0.9214890599250793,
          0.9065569639205933,
          0.8746945261955261,
          0.8839461207389832,
          0.8569320440292358,
          0.9047605395317078,
          0.897704005241394,
          0.8483909964561462,
          0.9252282381057739,
          0.8704506754875183,
          0.8745572566986084,
          0.8942817449569702,
          0.8698222637176514,
          0.9633122086524963,
          0.8804267644882202,
          0.8863846063613892,
          0.9038936495780945,
          0.9026992321014404,
          0.8638964295387268,
          0.8978899717330933,
          0.8742576837539673,
          0.8773747086524963,
          0.8782514333724976,
          0.9010004997253418,
          0.8955745100975037,
          0.9962896108627319,
          0.9029849171638489,
          0.8591903448104858,
          0.897063672542572,
          0.9138503074645996,
          0.8661673665046692,
          0.897579550743103,
          0.887805163860321,
          0.904137909412384,
          0.8760541677474976,
          0.9428466558456421,
          0.8639869689941406,
          0.8729681372642517,
          0.8714585900306702,
          0.8979135155677795,
          0.8940174579620361,
          0.8818982243537903,
          0.9014036655426025,
          0.8835487365722656,
          0.9322345852851868,
          0.8689363598823547,
          0.8753741383552551,
          0.9253404140472412,
          0.8958548307418823,
          0.8794833421707153,
          0.8778696656227112,
          0.8807697892189026,
          0.8645188212394714,
          0.9041364789009094,
          0.9569574594497681,
          0.879851758480072,
          0.8874225616455078,
          0.8901524543762207,
          0.8828713297843933,
          0.9026867151260376,
          0.8488714098930359,
          0.8937413096427917,
          0.9000402092933655,
          0.8734596967697144,
          0.8775460124015808,
          0.9316762089729309,
          0.891457200050354,
          0.8850991129875183,
          0.885960578918457,
          0.9101235866546631,
          0.8932517170906067,
          0.9282329082489014,
          0.832700788974762,
          0.8940770626068115,
          0.8847275972366333,
          0.8790798187255859,
          0.8670291900634766,
          0.9089745879173279,
          0.871800422668457,
          0.8972845673561096,
          0.8926077485084534,
          0.8870761394500732,
          0.9020240902900696,
          0.9466856122016907,
          0.9050940871238708,
          0.8770503401756287,
          0.908783495426178,
          0.8929882645606995,
          0.8723978996276855,
          0.895449697971344,
          0.8922163844108582,
          0.9069973230361938,
          0.896668553352356,
          0.9069728851318359,
          0.8921927213668823,
          0.8783025145530701,
          0.8609142899513245,
          0.8725407123565674,
          0.8464120030403137,
          0.8832358121871948,
          0.8924786448478699,
          0.8646764755249023,
          0.9053987264633179,
          0.8970873951911926,
          0.8950931429862976,
          0.8525546789169312,
          0.9036910533905029,
          0.8811292052268982,
          0.8904383778572083,
          0.893501341342926,
          0.8829002380371094,
          0.8760753870010376,
          0.976016104221344,
          0.9207836389541626,
          0.8606947660446167,
          0.8955209851264954,
          0.9320281744003296,
          0.8810137510299683,
          0.8953045606613159,
          0.8723540306091309,
          0.8573086261749268,
          0.8752289414405823,
          0.9163317084312439,
          0.8907232880592346,
          0.8630938529968262,
          0.8633162975311279,
          0.8725031018257141,
          0.8637230396270752,
          0.8890476226806641,
          0.8567531704902649,
          0.8692041039466858,
          0.8897480368614197,
          0.8851577639579773,
          0.890448808670044,
          0.8645480275154114,
          0.9179316163063049,
          0.8879956007003784,
          0.9089363217353821,
          0.90712970495224,
          0.8990895748138428,
          0.8962560296058655,
          0.9394325017929077,
          0.8570734262466431,
          0.8728018403053284,
          0.8915731310844421,
          0.9211227297782898,
          0.8879938125610352,
          0.8770567774772644,
          0.8939659595489502,
          0.9124215841293335,
          0.8874092102050781,
          0.8900730013847351,
          0.8631802797317505,
          0.863305926322937,
          0.9078531861305237,
          0.8984037637710571,
          0.8916598558425903,
          0.873297393321991,
          0.8948787450790405,
          0.866243302822113,
          0.889294445514679,
          0.9061442017555237,
          0.8435587882995605,
          0.9125678539276123,
          0.8572126030921936,
          0.8739880323410034,
          0.8824359178543091,
          0.8759207129478455,
          0.8894755840301514,
          0.866340696811676,
          0.9109015464782715,
          0.8385732173919678,
          0.8844423294067383,
          0.8711526989936829,
          0.8538815379142761,
          0.8673236966133118,
          0.8949406147003174,
          0.8889757394790649,
          0.8816589713096619,
          0.8803110718727112,
          0.8949542045593262,
          0.8497633337974548,
          0.9020481109619141,
          0.8714631795883179,
          0.8836472630500793,
          0.8911569118499756,
          0.898003876209259,
          0.9003415703773499,
          0.8830175399780273,
          0.8884616494178772,
          0.9069988131523132,
          0.8789793252944946,
          0.8890967965126038,
          0.8796008229255676,
          0.9027804136276245,
          0.8978632688522339,
          0.8452154397964478,
          0.9025118947029114,
          0.9145868420600891,
          0.898749589920044,
          0.8927745223045349,
          0.8931988477706909,
          0.8733196258544922,
          0.871681272983551,
          0.8914010524749756,
          0.8945981860160828,
          0.8804198503494263,
          0.8833733797073364,
          0.8866991400718689,
          0.8796761631965637,
          0.8567668795585632,
          0.9084199070930481,
          0.8954588174819946,
          0.8828389048576355,
          0.868344783782959,
          0.8611067533493042,
          0.870121955871582,
          0.8646950125694275,
          0.8807464838027954,
          0.8849711418151855,
          0.8743190765380859,
          0.880664587020874,
          0.8781266212463379,
          0.8767804503440857,
          0.8832924962043762,
          0.8705350756645203,
          0.8942619562149048,
          0.9008732438087463,
          0.8900966644287109,
          0.880281925201416,
          0.8558369278907776,
          0.8476338386535645,
          0.8981456756591797,
          0.8603922724723816,
          0.8891342282295227,
          0.8601975440979004,
          0.9134894013404846,
          0.8741986155509949,
          0.8910970091819763,
          0.8811291456222534,
          0.8877911567687988,
          0.8954052925109863,
          0.9223166108131409,
          0.9041335582733154,
          0.8950955271720886,
          0.8576733469963074,
          0.8794044852256775,
          0.9089310169219971,
          0.8833942413330078,
          0.8801429271697998,
          0.8688533902168274,
          0.8707405924797058,
          0.8636841177940369,
          0.8658542633056641,
          0.9078449010848999,
          0.8358374238014221,
          0.8927007913589478,
          0.8190600275993347,
          0.8754574060440063,
          0.8777036666870117,
          0.8925144076347351,
          0.853564441204071,
          0.868317723274231,
          0.8637553453445435,
          0.883337140083313,
          0.8607301712036133,
          0.9010697603225708,
          0.9027498960494995,
          0.8744738698005676,
          0.8922238945960999,
          0.8883297443389893,
          0.8606922626495361,
          0.8591592311859131,
          0.8692685961723328,
          0.8970679044723511,
          0.8945873975753784,
          0.8960270881652832,
          0.8580691814422607,
          0.87823486328125,
          0.8896990418434143,
          0.8567604422569275,
          0.9073340892791748,
          0.8939989805221558,
          0.8843610882759094,
          0.8880963325500488,
          0.868215024471283,
          0.8168434500694275,
          0.8746811747550964,
          0.8851503729820251,
          0.9043048620223999,
          0.8857073187828064,
          0.907261073589325,
          0.8775509595870972,
          0.8748770356178284,
          0.8710912466049194,
          0.8967854976654053,
          0.8449112176895142,
          0.8698766231536865,
          0.8909851312637329,
          0.9054096937179565,
          0.8920703530311584,
          0.8784660696983337,
          0.890204131603241,
          0.8306554555892944,
          0.9205474257469177,
          0.8563287854194641,
          0.8792886137962341,
          0.8646751046180725,
          0.8874000906944275,
          0.881310224533081,
          0.8684973120689392,
          0.8904193043708801,
          0.8337903022766113,
          0.8506202697753906,
          0.8929796814918518,
          0.8000574707984924,
          0.8692222237586975,
          0.8617575168609619,
          0.8844528794288635,
          0.8645297884941101,
          0.8887583613395691,
          0.8709909915924072,
          0.8737292885780334,
          0.8397923707962036,
          0.871160089969635,
          0.8799243569374084,
          0.8769916296005249,
          0.873968243598938,
          0.8897664546966553,
          0.8577191233634949,
          0.8839603662490845,
          0.8938345313072205,
          0.8854956030845642,
          0.8732395768165588,
          0.8842756748199463,
          0.8805767297744751,
          0.8720046877861023,
          0.9007402658462524,
          0.8730206489562988,
          0.9010015726089478,
          0.8792049884796143,
          0.8921903967857361,
          0.8595660328865051,
          0.8786494731903076,
          0.8203615546226501,
          0.865206778049469,
          0.8474336266517639,
          0.8942058086395264,
          0.8645897507667542,
          0.9099398851394653,
          0.87836754322052,
          0.8770209550857544,
          0.8820101618766785,
          0.884787917137146,
          0.8799757361412048,
          0.866436243057251,
          0.8380919098854065,
          0.8472378253936768,
          0.8770755529403687,
          0.8762801885604858,
          0.8820523023605347,
          0.8832431435585022,
          0.8483262658119202,
          0.898812472820282,
          0.8947872519493103,
          0.8767977952957153,
          0.8600766062736511,
          0.8704804182052612,
          0.8696436285972595,
          0.8648818135261536,
          0.9049109816551208,
          0.8863523602485657,
          0.8919407725334167,
          0.8471662998199463,
          0.8477001190185547,
          0.8582298755645752,
          0.8765468001365662,
          0.920958399772644,
          0.8692225217819214,
          0.8777464032173157,
          0.8829491138458252,
          0.8876914978027344,
          0.9099217057228088,
          0.8819583654403687,
          0.8949166536331177,
          0.8612540364265442,
          0.8826730251312256,
          0.8764932155609131,
          0.8517346978187561,
          0.8727152943611145,
          0.8408063650131226,
          0.8859038352966309,
          0.880033016204834,
          0.8906187415122986,
          0.8771581649780273,
          0.8576775193214417,
          0.8959744572639465,
          0.9015269875526428,
          0.853951096534729,
          0.8604193329811096,
          0.8677688837051392,
          0.8521016240119934,
          0.87485271692276,
          0.859430193901062,
          0.8969048261642456,
          0.8681986927986145,
          0.9003424644470215,
          0.8790795207023621,
          0.8734361529350281,
          0.9070164561271667,
          0.8204302787780762,
          0.892802357673645,
          0.863688588142395,
          0.883644700050354,
          0.8931680917739868,
          0.8776232600212097,
          0.8770591616630554,
          0.8762151002883911,
          0.8640348315238953,
          0.8918421864509583,
          0.8587461113929749,
          0.8628738522529602,
          0.8685362339019775,
          0.8653016090393066,
          0.8702543377876282,
          0.8663651347160339,
          0.8632397055625916,
          0.8939353227615356,
          0.8651173114776611,
          0.8668186068534851,
          0.8719576001167297,
          0.8437769412994385,
          0.8450780510902405,
          0.8437293767929077,
          0.8884192109107971,
          0.8817123174667358,
          0.8633085489273071,
          0.8768264651298523,
          0.8794442415237427,
          0.8558025360107422,
          0.9041900038719177,
          0.8859597444534302,
          0.8882207870483398,
          0.9033032059669495,
          0.8836091756820679,
          0.8409589529037476,
          0.8587641716003418,
          0.8754808306694031,
          0.8623499870300293,
          0.9016913771629333,
          0.868750810623169,
          0.8764989376068115,
          0.8696504235267639,
          0.8783085346221924,
          0.829715371131897,
          0.8539527654647827,
          0.8875707983970642,
          0.8860810995101929,
          0.830568253993988,
          0.9097723364830017,
          0.9932119846343994,
          0.8622637391090393,
          0.8680554628372192,
          0.906072199344635,
          0.8960537314414978,
          0.8752553462982178,
          0.8491562008857727,
          0.8612498641014099,
          0.8558153510093689,
          0.8601186275482178,
          0.8811053037643433,
          0.8290713429450989,
          0.8968309760093689,
          0.875144898891449,
          0.8646256327629089,
          0.869396448135376,
          0.8697959780693054,
          0.856372058391571,
          0.8853051066398621,
          0.873574435710907,
          0.8702277541160583,
          0.8860277533531189,
          0.8944545984268188,
          0.852241039276123,
          0.890311062335968,
          0.8539658188819885,
          0.8830808997154236,
          0.8969072699546814,
          0.8468494415283203,
          0.9670791029930115,
          0.883277416229248,
          0.8778520822525024,
          0.8619120121002197,
          0.8649327158927917,
          0.8459382057189941,
          0.8596012592315674,
          0.8444858193397522,
          0.8571150898933411,
          0.873204231262207,
          0.8719967603683472,
          0.8767028450965881,
          0.8874346017837524,
          0.8739449381828308,
          0.8925233483314514,
          0.8753688335418701,
          0.8856167197227478,
          0.8983272314071655,
          0.8526899814605713,
          0.8864702582359314,
          0.8896971940994263,
          0.8411954045295715,
          0.8753726482391357,
          0.873131275177002,
          0.8752986788749695,
          0.8808751106262207,
          0.8705045580863953,
          0.8583195209503174,
          0.8801907300949097,
          0.8382073044776917,
          0.9054429531097412,
          0.8392079472541809,
          0.8827035427093506,
          0.873299777507782,
          0.8573892116546631,
          0.842414915561676,
          0.8857796788215637,
          0.8796103000640869,
          0.8747475743293762,
          0.8675310015678406,
          0.8698329329490662,
          0.8579011559486389,
          0.8600281476974487,
          0.8590152263641357,
          0.8784481287002563,
          0.8666561245918274,
          0.8852009773254395,
          0.8605148792266846,
          0.8478891849517822,
          0.8452244997024536,
          0.9188045263290405,
          0.861137330532074,
          0.8853131532669067,
          0.875730574131012,
          0.8829190135002136,
          0.8766320943832397,
          0.8714694976806641,
          0.849884569644928,
          0.8918806910514832
         ],
         "yaxis": "y"
        }
       ],
       "layout": {
        "legend": {
         "title": {
          "text": "variable"
         },
         "tracegroupgap": 0
        },
        "template": {
         "data": {
          "bar": [
           {
            "error_x": {
             "color": "#2a3f5f"
            },
            "error_y": {
             "color": "#2a3f5f"
            },
            "marker": {
             "line": {
              "color": "#E5ECF6",
              "width": 0.5
             },
             "pattern": {
              "fillmode": "overlay",
              "size": 10,
              "solidity": 0.2
             }
            },
            "type": "bar"
           }
          ],
          "barpolar": [
           {
            "marker": {
             "line": {
              "color": "#E5ECF6",
              "width": 0.5
             },
             "pattern": {
              "fillmode": "overlay",
              "size": 10,
              "solidity": 0.2
             }
            },
            "type": "barpolar"
           }
          ],
          "carpet": [
           {
            "aaxis": {
             "endlinecolor": "#2a3f5f",
             "gridcolor": "white",
             "linecolor": "white",
             "minorgridcolor": "white",
             "startlinecolor": "#2a3f5f"
            },
            "baxis": {
             "endlinecolor": "#2a3f5f",
             "gridcolor": "white",
             "linecolor": "white",
             "minorgridcolor": "white",
             "startlinecolor": "#2a3f5f"
            },
            "type": "carpet"
           }
          ],
          "choropleth": [
           {
            "colorbar": {
             "outlinewidth": 0,
             "ticks": ""
            },
            "type": "choropleth"
           }
          ],
          "contour": [
           {
            "colorbar": {
             "outlinewidth": 0,
             "ticks": ""
            },
            "colorscale": [
             [
              0,
              "#0d0887"
             ],
             [
              0.1111111111111111,
              "#46039f"
             ],
             [
              0.2222222222222222,
              "#7201a8"
             ],
             [
              0.3333333333333333,
              "#9c179e"
             ],
             [
              0.4444444444444444,
              "#bd3786"
             ],
             [
              0.5555555555555556,
              "#d8576b"
             ],
             [
              0.6666666666666666,
              "#ed7953"
             ],
             [
              0.7777777777777778,
              "#fb9f3a"
             ],
             [
              0.8888888888888888,
              "#fdca26"
             ],
             [
              1,
              "#f0f921"
             ]
            ],
            "type": "contour"
           }
          ],
          "contourcarpet": [
           {
            "colorbar": {
             "outlinewidth": 0,
             "ticks": ""
            },
            "type": "contourcarpet"
           }
          ],
          "heatmap": [
           {
            "colorbar": {
             "outlinewidth": 0,
             "ticks": ""
            },
            "colorscale": [
             [
              0,
              "#0d0887"
             ],
             [
              0.1111111111111111,
              "#46039f"
             ],
             [
              0.2222222222222222,
              "#7201a8"
             ],
             [
              0.3333333333333333,
              "#9c179e"
             ],
             [
              0.4444444444444444,
              "#bd3786"
             ],
             [
              0.5555555555555556,
              "#d8576b"
             ],
             [
              0.6666666666666666,
              "#ed7953"
             ],
             [
              0.7777777777777778,
              "#fb9f3a"
             ],
             [
              0.8888888888888888,
              "#fdca26"
             ],
             [
              1,
              "#f0f921"
             ]
            ],
            "type": "heatmap"
           }
          ],
          "heatmapgl": [
           {
            "colorbar": {
             "outlinewidth": 0,
             "ticks": ""
            },
            "colorscale": [
             [
              0,
              "#0d0887"
             ],
             [
              0.1111111111111111,
              "#46039f"
             ],
             [
              0.2222222222222222,
              "#7201a8"
             ],
             [
              0.3333333333333333,
              "#9c179e"
             ],
             [
              0.4444444444444444,
              "#bd3786"
             ],
             [
              0.5555555555555556,
              "#d8576b"
             ],
             [
              0.6666666666666666,
              "#ed7953"
             ],
             [
              0.7777777777777778,
              "#fb9f3a"
             ],
             [
              0.8888888888888888,
              "#fdca26"
             ],
             [
              1,
              "#f0f921"
             ]
            ],
            "type": "heatmapgl"
           }
          ],
          "histogram": [
           {
            "marker": {
             "pattern": {
              "fillmode": "overlay",
              "size": 10,
              "solidity": 0.2
             }
            },
            "type": "histogram"
           }
          ],
          "histogram2d": [
           {
            "colorbar": {
             "outlinewidth": 0,
             "ticks": ""
            },
            "colorscale": [
             [
              0,
              "#0d0887"
             ],
             [
              0.1111111111111111,
              "#46039f"
             ],
             [
              0.2222222222222222,
              "#7201a8"
             ],
             [
              0.3333333333333333,
              "#9c179e"
             ],
             [
              0.4444444444444444,
              "#bd3786"
             ],
             [
              0.5555555555555556,
              "#d8576b"
             ],
             [
              0.6666666666666666,
              "#ed7953"
             ],
             [
              0.7777777777777778,
              "#fb9f3a"
             ],
             [
              0.8888888888888888,
              "#fdca26"
             ],
             [
              1,
              "#f0f921"
             ]
            ],
            "type": "histogram2d"
           }
          ],
          "histogram2dcontour": [
           {
            "colorbar": {
             "outlinewidth": 0,
             "ticks": ""
            },
            "colorscale": [
             [
              0,
              "#0d0887"
             ],
             [
              0.1111111111111111,
              "#46039f"
             ],
             [
              0.2222222222222222,
              "#7201a8"
             ],
             [
              0.3333333333333333,
              "#9c179e"
             ],
             [
              0.4444444444444444,
              "#bd3786"
             ],
             [
              0.5555555555555556,
              "#d8576b"
             ],
             [
              0.6666666666666666,
              "#ed7953"
             ],
             [
              0.7777777777777778,
              "#fb9f3a"
             ],
             [
              0.8888888888888888,
              "#fdca26"
             ],
             [
              1,
              "#f0f921"
             ]
            ],
            "type": "histogram2dcontour"
           }
          ],
          "mesh3d": [
           {
            "colorbar": {
             "outlinewidth": 0,
             "ticks": ""
            },
            "type": "mesh3d"
           }
          ],
          "parcoords": [
           {
            "line": {
             "colorbar": {
              "outlinewidth": 0,
              "ticks": ""
             }
            },
            "type": "parcoords"
           }
          ],
          "pie": [
           {
            "automargin": true,
            "type": "pie"
           }
          ],
          "scatter": [
           {
            "fillpattern": {
             "fillmode": "overlay",
             "size": 10,
             "solidity": 0.2
            },
            "type": "scatter"
           }
          ],
          "scatter3d": [
           {
            "line": {
             "colorbar": {
              "outlinewidth": 0,
              "ticks": ""
             }
            },
            "marker": {
             "colorbar": {
              "outlinewidth": 0,
              "ticks": ""
             }
            },
            "type": "scatter3d"
           }
          ],
          "scattercarpet": [
           {
            "marker": {
             "colorbar": {
              "outlinewidth": 0,
              "ticks": ""
             }
            },
            "type": "scattercarpet"
           }
          ],
          "scattergeo": [
           {
            "marker": {
             "colorbar": {
              "outlinewidth": 0,
              "ticks": ""
             }
            },
            "type": "scattergeo"
           }
          ],
          "scattergl": [
           {
            "marker": {
             "colorbar": {
              "outlinewidth": 0,
              "ticks": ""
             }
            },
            "type": "scattergl"
           }
          ],
          "scattermapbox": [
           {
            "marker": {
             "colorbar": {
              "outlinewidth": 0,
              "ticks": ""
             }
            },
            "type": "scattermapbox"
           }
          ],
          "scatterpolar": [
           {
            "marker": {
             "colorbar": {
              "outlinewidth": 0,
              "ticks": ""
             }
            },
            "type": "scatterpolar"
           }
          ],
          "scatterpolargl": [
           {
            "marker": {
             "colorbar": {
              "outlinewidth": 0,
              "ticks": ""
             }
            },
            "type": "scatterpolargl"
           }
          ],
          "scatterternary": [
           {
            "marker": {
             "colorbar": {
              "outlinewidth": 0,
              "ticks": ""
             }
            },
            "type": "scatterternary"
           }
          ],
          "surface": [
           {
            "colorbar": {
             "outlinewidth": 0,
             "ticks": ""
            },
            "colorscale": [
             [
              0,
              "#0d0887"
             ],
             [
              0.1111111111111111,
              "#46039f"
             ],
             [
              0.2222222222222222,
              "#7201a8"
             ],
             [
              0.3333333333333333,
              "#9c179e"
             ],
             [
              0.4444444444444444,
              "#bd3786"
             ],
             [
              0.5555555555555556,
              "#d8576b"
             ],
             [
              0.6666666666666666,
              "#ed7953"
             ],
             [
              0.7777777777777778,
              "#fb9f3a"
             ],
             [
              0.8888888888888888,
              "#fdca26"
             ],
             [
              1,
              "#f0f921"
             ]
            ],
            "type": "surface"
           }
          ],
          "table": [
           {
            "cells": {
             "fill": {
              "color": "#EBF0F8"
             },
             "line": {
              "color": "white"
             }
            },
            "header": {
             "fill": {
              "color": "#C8D4E3"
             },
             "line": {
              "color": "white"
             }
            },
            "type": "table"
           }
          ]
         },
         "layout": {
          "annotationdefaults": {
           "arrowcolor": "#2a3f5f",
           "arrowhead": 0,
           "arrowwidth": 1
          },
          "autotypenumbers": "strict",
          "coloraxis": {
           "colorbar": {
            "outlinewidth": 0,
            "ticks": ""
           }
          },
          "colorscale": {
           "diverging": [
            [
             0,
             "#8e0152"
            ],
            [
             0.1,
             "#c51b7d"
            ],
            [
             0.2,
             "#de77ae"
            ],
            [
             0.3,
             "#f1b6da"
            ],
            [
             0.4,
             "#fde0ef"
            ],
            [
             0.5,
             "#f7f7f7"
            ],
            [
             0.6,
             "#e6f5d0"
            ],
            [
             0.7,
             "#b8e186"
            ],
            [
             0.8,
             "#7fbc41"
            ],
            [
             0.9,
             "#4d9221"
            ],
            [
             1,
             "#276419"
            ]
           ],
           "sequential": [
            [
             0,
             "#0d0887"
            ],
            [
             0.1111111111111111,
             "#46039f"
            ],
            [
             0.2222222222222222,
             "#7201a8"
            ],
            [
             0.3333333333333333,
             "#9c179e"
            ],
            [
             0.4444444444444444,
             "#bd3786"
            ],
            [
             0.5555555555555556,
             "#d8576b"
            ],
            [
             0.6666666666666666,
             "#ed7953"
            ],
            [
             0.7777777777777778,
             "#fb9f3a"
            ],
            [
             0.8888888888888888,
             "#fdca26"
            ],
            [
             1,
             "#f0f921"
            ]
           ],
           "sequentialminus": [
            [
             0,
             "#0d0887"
            ],
            [
             0.1111111111111111,
             "#46039f"
            ],
            [
             0.2222222222222222,
             "#7201a8"
            ],
            [
             0.3333333333333333,
             "#9c179e"
            ],
            [
             0.4444444444444444,
             "#bd3786"
            ],
            [
             0.5555555555555556,
             "#d8576b"
            ],
            [
             0.6666666666666666,
             "#ed7953"
            ],
            [
             0.7777777777777778,
             "#fb9f3a"
            ],
            [
             0.8888888888888888,
             "#fdca26"
            ],
            [
             1,
             "#f0f921"
            ]
           ]
          },
          "colorway": [
           "#636efa",
           "#EF553B",
           "#00cc96",
           "#ab63fa",
           "#FFA15A",
           "#19d3f3",
           "#FF6692",
           "#B6E880",
           "#FF97FF",
           "#FECB52"
          ],
          "font": {
           "color": "#2a3f5f"
          },
          "geo": {
           "bgcolor": "white",
           "lakecolor": "white",
           "landcolor": "#E5ECF6",
           "showlakes": true,
           "showland": true,
           "subunitcolor": "white"
          },
          "hoverlabel": {
           "align": "left"
          },
          "hovermode": "closest",
          "mapbox": {
           "style": "light"
          },
          "paper_bgcolor": "white",
          "plot_bgcolor": "#E5ECF6",
          "polar": {
           "angularaxis": {
            "gridcolor": "white",
            "linecolor": "white",
            "ticks": ""
           },
           "bgcolor": "#E5ECF6",
           "radialaxis": {
            "gridcolor": "white",
            "linecolor": "white",
            "ticks": ""
           }
          },
          "scene": {
           "xaxis": {
            "backgroundcolor": "#E5ECF6",
            "gridcolor": "white",
            "gridwidth": 2,
            "linecolor": "white",
            "showbackground": true,
            "ticks": "",
            "zerolinecolor": "white"
           },
           "yaxis": {
            "backgroundcolor": "#E5ECF6",
            "gridcolor": "white",
            "gridwidth": 2,
            "linecolor": "white",
            "showbackground": true,
            "ticks": "",
            "zerolinecolor": "white"
           },
           "zaxis": {
            "backgroundcolor": "#E5ECF6",
            "gridcolor": "white",
            "gridwidth": 2,
            "linecolor": "white",
            "showbackground": true,
            "ticks": "",
            "zerolinecolor": "white"
           }
          },
          "shapedefaults": {
           "line": {
            "color": "#2a3f5f"
           }
          },
          "ternary": {
           "aaxis": {
            "gridcolor": "white",
            "linecolor": "white",
            "ticks": ""
           },
           "baxis": {
            "gridcolor": "white",
            "linecolor": "white",
            "ticks": ""
           },
           "bgcolor": "#E5ECF6",
           "caxis": {
            "gridcolor": "white",
            "linecolor": "white",
            "ticks": ""
           }
          },
          "title": {
           "x": 0.05
          },
          "xaxis": {
           "automargin": true,
           "gridcolor": "white",
           "linecolor": "white",
           "ticks": "",
           "title": {
            "standoff": 15
           },
           "zerolinecolor": "white",
           "zerolinewidth": 2
          },
          "yaxis": {
           "automargin": true,
           "gridcolor": "white",
           "linecolor": "white",
           "ticks": "",
           "title": {
            "standoff": 15
           },
           "zerolinecolor": "white",
           "zerolinewidth": 2
          }
         }
        },
        "title": {
         "text": "Training Loss"
        },
        "xaxis": {
         "anchor": "y",
         "domain": [
          0,
          1
         ],
         "title": {
          "text": "index"
         }
        },
        "yaxis": {
         "anchor": "x",
         "domain": [
          0,
          1
         ],
         "title": {
          "text": "value"
         }
        }
       }
      }
     },
     "metadata": {},
     "output_type": "display_data"
    }
   ],
   "source": [
    "# Plotly line plot of training losses\n",
    "fig = px.line(train_losses, labels={'x': 'Iteration', 'y': 'Loss'}, title='Training Loss')\n",
    "fig.show()"
   ]
  },
  {
   "cell_type": "code",
   "execution_count": 18,
   "metadata": {},
   "outputs": [],
   "source": [
    "# Get a random batch from the test loader\n",
    "tokens, probs = next(iter(test_loader))\n",
    "rand_idx = random.randint(0, len(tokens) - 1)\n",
    "tokens = tokens[rand_idx, :].unsqueeze(0)\n",
    "probs = probs[rand_idx, :]"
   ]
  },
  {
   "cell_type": "code",
   "execution_count": 19,
   "metadata": {},
   "outputs": [
    {
     "data": {
      "text/plain": [
       "(tensor([[ 3,  0,  2,  1,  6,  0,  2,  1, 10,  0,  3,  0,  3,  0,  2,  1, 11,  0,\n",
       "           9,  0,  2,  1,  2,  1,  2,  1,  2,  1,  2,  1,  9,  0,  2,  1,  5,  0,\n",
       "           2,  1,  7,  0,  9,  0,  2,  1,  2,  1,  2,  1,  2,  1,  2,  1,  2,  1,\n",
       "           2,  1,  2,  1,  2,  1,  2,  1,  2,  1,  2,  1,  2,  1,  2,  1,  2,  1,\n",
       "           2,  1,  2,  1,  2,  1,  2,  0,  2,  1,  2,  1,  2,  1,  2,  1,  9,  0,\n",
       "           2,  1,  2,  1,  2,  1,  2,  1, 11,  0,  7,  0,  7,  0, 10,  0,  2,  1,\n",
       "           2,  1,  7,  0,  2,  1,  2,  1,  2,  1,  2,  1,  2,  0,  2,  1,  2,  0,\n",
       "           2,  1,  2,  1,  5,  0,  5,  0,  2,  1,  4,  1,  4,  1,  4,  1,  4,  1,\n",
       "           7,  0,  3,  0,  4,  0,  2,  1,  2,  1,  2,  1,  5,  0,  2,  1,  2,  1,\n",
       "           2,  1,  2,  1,  4,  1, 10,  0,  2,  1,  3,  0,  2,  1,  2,  1, 10,  0,\n",
       "           2,  1,  7,  0,  2,  1,  2,  1,  2,  1,  3,  0,  2,  1,  2,  1,  2,  1,\n",
       "           5,  0]]),\n",
       " tensor([0.9000, 0.1000, 0.9000, 0.1000, 0.1000, 0.1000, 0.1000, 0.1000, 0.1000,\n",
       "         0.1000], dtype=torch.float64))"
      ]
     },
     "execution_count": 19,
     "metadata": {},
     "output_type": "execute_result"
    }
   ],
   "source": [
    "tokens, probs"
   ]
  },
  {
   "cell_type": "code",
   "execution_count": 20,
   "metadata": {},
   "outputs": [
    {
     "name": "stdout",
     "output_type": "stream",
     "text": [
      "Tokens = tensor([[3]]), Start = tensor([[3]])\n",
      "Predicted: 0 True: 0, Predicted with start: 0\n",
      "\n",
      "Tokens = tensor([[3, 0]]), Start = tensor([[3, 0]])\n",
      "Predicted: 3 True: 2, Predicted with start: 3\n",
      "\n",
      "Tokens = tensor([[3, 0, 2]]), Start = tensor([[3, 0, 3]])\n",
      "Predicted: 0 True: 1, Predicted with start: 0\n",
      "\n",
      "Tokens = tensor([[3, 0, 2, 1]]), Start = tensor([[3, 0, 3, 1]])\n",
      "Predicted: 2 True: 6, Predicted with start: 3\n",
      "\n",
      "Tokens = tensor([[3, 0, 2, 1, 6]]), Start = tensor([[3, 0, 3, 1, 2]])\n",
      "Predicted: 0 True: 0, Predicted with start: 0\n",
      "\n",
      "Tokens = tensor([[3, 0, 2, 1, 6, 0]]), Start = tensor([[3, 0, 3, 1, 2, 1]])\n",
      "Predicted: 2 True: 2, Predicted with start: 2\n",
      "\n",
      "Tokens = tensor([[3, 0, 2, 1, 6, 0, 2]]), Start = tensor([[3, 0, 3, 1, 2, 1, 2]])\n",
      "Predicted: 0 True: 1, Predicted with start: 1\n",
      "\n",
      "Tokens = tensor([[3, 0, 2, 1, 6, 0, 2, 1]]), Start = tensor([[3, 0, 3, 1, 2, 1, 2, 1]])\n",
      "Predicted: 2 True: 10, Predicted with start: 2\n",
      "\n",
      "Tokens = tensor([[ 3,  0,  2,  1,  6,  0,  2,  1, 10]]), Start = tensor([[3, 0, 3, 1, 2, 1, 2, 1, 2]])\n",
      "Predicted: 0 True: 0, Predicted with start: 1\n",
      "\n",
      "Tokens = tensor([[ 3,  0,  2,  1,  6,  0,  2,  1, 10,  0]]), Start = tensor([[3, 0, 3, 1, 2, 1, 2, 1, 2, 1]])\n",
      "Predicted: 2 True: 3, Predicted with start: 2\n",
      "\n",
      "Tokens = tensor([[ 3,  0,  2,  1,  6,  0,  2,  1, 10,  0,  3]]), Start = tensor([[3, 0, 3, 1, 2, 1, 2, 1, 2, 1, 2]])\n",
      "Predicted: 0 True: 0, Predicted with start: 1\n",
      "\n",
      "Tokens = tensor([[ 3,  0,  2,  1,  6,  0,  2,  1, 10,  0,  3,  0]]), Start = tensor([[3, 0, 3, 1, 2, 1, 2, 1, 2, 1, 2, 1]])\n",
      "Predicted: 3 True: 3, Predicted with start: 2\n",
      "\n",
      "Tokens = tensor([[ 3,  0,  2,  1,  6,  0,  2,  1, 10,  0,  3,  0,  3]]), Start = tensor([[3, 0, 3, 1, 2, 1, 2, 1, 2, 1, 2, 1, 3]])\n",
      "Predicted: 0 True: 0, Predicted with start: 0\n",
      "\n",
      "Tokens = tensor([[ 3,  0,  2,  1,  6,  0,  2,  1, 10,  0,  3,  0,  3,  0]]), Start = tensor([[3, 0, 3, 1, 2, 1, 2, 1, 2, 1, 2, 1, 3, 0]])\n",
      "Predicted: 3 True: 2, Predicted with start: 2\n",
      "\n",
      "Tokens = tensor([[ 3,  0,  2,  1,  6,  0,  2,  1, 10,  0,  3,  0,  3,  0,  2]]), Start = tensor([[3, 0, 3, 1, 2, 1, 2, 1, 2, 1, 2, 1, 3, 0, 3]])\n",
      "Predicted: 1 True: 1, Predicted with start: 1\n",
      "\n",
      "Tokens = tensor([[ 3,  0,  2,  1,  6,  0,  2,  1, 10,  0,  3,  0,  3,  0,  2,  1]]), Start = tensor([[3, 0, 3, 1, 2, 1, 2, 1, 2, 1, 2, 1, 3, 0, 3, 0]])\n",
      "Predicted: 3 True: 11, Predicted with start: 3\n",
      "\n",
      "Tokens = tensor([[ 3,  0,  2,  1,  6,  0,  2,  1, 10,  0,  3,  0,  3,  0,  2,  1, 11]]), Start = tensor([[3, 0, 3, 1, 2, 1, 2, 1, 2, 1, 2, 1, 3, 0, 3, 0, 3]])\n",
      "Predicted: 0 True: 0, Predicted with start: 1\n",
      "\n",
      "Tokens = tensor([[ 3,  0,  2,  1,  6,  0,  2,  1, 10,  0,  3,  0,  3,  0,  2,  1, 11,  0]]), Start = tensor([[3, 0, 3, 1, 2, 1, 2, 1, 2, 1, 2, 1, 3, 0, 3, 0, 3, 0]])\n",
      "Predicted: 2 True: 9, Predicted with start: 3\n",
      "\n",
      "Tokens = tensor([[ 3,  0,  2,  1,  6,  0,  2,  1, 10,  0,  3,  0,  3,  0,  2,  1, 11,  0,\n",
      "          9]]), Start = tensor([[3, 0, 3, 1, 2, 1, 2, 1, 2, 1, 2, 1, 3, 0, 3, 0, 3, 0, 2]])\n",
      "Predicted: 0 True: 0, Predicted with start: 1\n",
      "\n",
      "Tokens = tensor([[ 3,  0,  2,  1,  6,  0,  2,  1, 10,  0,  3,  0,  3,  0,  2,  1, 11,  0,\n",
      "          9,  0]]), Start = tensor([[3, 0, 3, 1, 2, 1, 2, 1, 2, 1, 2, 1, 3, 0, 3, 0, 3, 0, 2, 1]])\n",
      "Predicted: 3 True: 2, Predicted with start: 3\n",
      "\n",
      "Tokens = tensor([[ 3,  0,  2,  1,  6,  0,  2,  1, 10,  0,  3,  0,  3,  0,  2,  1, 11,  0,\n",
      "          9,  0,  2]]), Start = tensor([[3, 0, 3, 1, 2, 1, 2, 1, 2, 1, 2, 1, 3, 0, 3, 0, 3, 0, 2, 1, 3]])\n",
      "Predicted: 1 True: 1, Predicted with start: 1\n",
      "\n",
      "Tokens = tensor([[ 3,  0,  2,  1,  6,  0,  2,  1, 10,  0,  3,  0,  3,  0,  2,  1, 11,  0,\n",
      "          9,  0,  2,  1]]), Start = tensor([[3, 0, 3, 1, 2, 1, 2, 1, 2, 1, 2, 1, 3, 0, 3, 0, 3, 0, 2, 1, 3, 0]])\n",
      "Predicted: 2 True: 2, Predicted with start: 3\n",
      "\n",
      "Tokens = tensor([[ 3,  0,  2,  1,  6,  0,  2,  1, 10,  0,  3,  0,  3,  0,  2,  1, 11,  0,\n",
      "          9,  0,  2,  1,  2]]), Start = tensor([[3, 0, 3, 1, 2, 1, 2, 1, 2, 1, 2, 1, 3, 0, 3, 0, 3, 0, 2, 1, 3, 0, 2]])\n",
      "Predicted: 1 True: 1, Predicted with start: 1\n",
      "\n",
      "Tokens = tensor([[ 3,  0,  2,  1,  6,  0,  2,  1, 10,  0,  3,  0,  3,  0,  2,  1, 11,  0,\n",
      "          9,  0,  2,  1,  2,  1]]), Start = tensor([[3, 0, 3, 1, 2, 1, 2, 1, 2, 1, 2, 1, 3, 0, 3, 0, 3, 0, 2, 1, 3, 0, 2, 1]])\n",
      "Predicted: 2 True: 2, Predicted with start: 3\n",
      "\n",
      "Tokens = tensor([[ 3,  0,  2,  1,  6,  0,  2,  1, 10,  0,  3,  0,  3,  0,  2,  1, 11,  0,\n",
      "          9,  0,  2,  1,  2,  1,  2]]), Start = tensor([[3, 0, 3, 1, 2, 1, 2, 1, 2, 1, 2, 1, 3, 0, 3, 0, 3, 0, 2, 1, 3, 0, 2, 1,\n",
      "         2]])\n",
      "Predicted: 1 True: 1, Predicted with start: 1\n",
      "\n",
      "Tokens = tensor([[ 3,  0,  2,  1,  6,  0,  2,  1, 10,  0,  3,  0,  3,  0,  2,  1, 11,  0,\n",
      "          9,  0,  2,  1,  2,  1,  2,  1]]), Start = tensor([[3, 0, 3, 1, 2, 1, 2, 1, 2, 1, 2, 1, 3, 0, 3, 0, 3, 0, 2, 1, 3, 0, 2, 1,\n",
      "         2, 1]])\n",
      "Predicted: 2 True: 2, Predicted with start: 3\n",
      "\n",
      "Tokens = tensor([[ 3,  0,  2,  1,  6,  0,  2,  1, 10,  0,  3,  0,  3,  0,  2,  1, 11,  0,\n",
      "          9,  0,  2,  1,  2,  1,  2,  1,  2]]), Start = tensor([[3, 0, 3, 1, 2, 1, 2, 1, 2, 1, 2, 1, 3, 0, 3, 0, 3, 0, 2, 1, 3, 0, 2, 1,\n",
      "         2, 1, 2]])\n",
      "Predicted: 1 True: 1, Predicted with start: 1\n",
      "\n",
      "Tokens = tensor([[ 3,  0,  2,  1,  6,  0,  2,  1, 10,  0,  3,  0,  3,  0,  2,  1, 11,  0,\n",
      "          9,  0,  2,  1,  2,  1,  2,  1,  2,  1]]), Start = tensor([[3, 0, 3, 1, 2, 1, 2, 1, 2, 1, 2, 1, 3, 0, 3, 0, 3, 0, 2, 1, 3, 0, 2, 1,\n",
      "         2, 1, 2, 1]])\n",
      "Predicted: 2 True: 2, Predicted with start: 2\n",
      "\n",
      "Tokens = tensor([[ 3,  0,  2,  1,  6,  0,  2,  1, 10,  0,  3,  0,  3,  0,  2,  1, 11,  0,\n",
      "          9,  0,  2,  1,  2,  1,  2,  1,  2,  1,  2]]), Start = tensor([[3, 0, 3, 1, 2, 1, 2, 1, 2, 1, 2, 1, 3, 0, 3, 0, 3, 0, 2, 1, 3, 0, 2, 1,\n",
      "         2, 1, 2, 1, 2]])\n",
      "Predicted: 1 True: 1, Predicted with start: 1\n",
      "\n",
      "Tokens = tensor([[ 3,  0,  2,  1,  6,  0,  2,  1, 10,  0,  3,  0,  3,  0,  2,  1, 11,  0,\n",
      "          9,  0,  2,  1,  2,  1,  2,  1,  2,  1,  2,  1]]), Start = tensor([[3, 0, 3, 1, 2, 1, 2, 1, 2, 1, 2, 1, 3, 0, 3, 0, 3, 0, 2, 1, 3, 0, 2, 1,\n",
      "         2, 1, 2, 1, 2, 1]])\n",
      "Predicted: 2 True: 9, Predicted with start: 2\n",
      "\n",
      "Tokens = tensor([[ 3,  0,  2,  1,  6,  0,  2,  1, 10,  0,  3,  0,  3,  0,  2,  1, 11,  0,\n",
      "          9,  0,  2,  1,  2,  1,  2,  1,  2,  1,  2,  1,  9]]), Start = tensor([[3, 0, 3, 1, 2, 1, 2, 1, 2, 1, 2, 1, 3, 0, 3, 0, 3, 0, 2, 1, 3, 0, 2, 1,\n",
      "         2, 1, 2, 1, 2, 1, 2]])\n",
      "Predicted: 0 True: 0, Predicted with start: 1\n",
      "\n",
      "Tokens = tensor([[ 3,  0,  2,  1,  6,  0,  2,  1, 10,  0,  3,  0,  3,  0,  2,  1, 11,  0,\n",
      "          9,  0,  2,  1,  2,  1,  2,  1,  2,  1,  2,  1,  9,  0]]), Start = tensor([[3, 0, 3, 1, 2, 1, 2, 1, 2, 1, 2, 1, 3, 0, 3, 0, 3, 0, 2, 1, 3, 0, 2, 1,\n",
      "         2, 1, 2, 1, 2, 1, 2, 1]])\n",
      "Predicted: 2 True: 2, Predicted with start: 2\n",
      "\n",
      "Tokens = tensor([[ 3,  0,  2,  1,  6,  0,  2,  1, 10,  0,  3,  0,  3,  0,  2,  1, 11,  0,\n",
      "          9,  0,  2,  1,  2,  1,  2,  1,  2,  1,  2,  1,  9,  0,  2]]), Start = tensor([[3, 0, 3, 1, 2, 1, 2, 1, 2, 1, 2, 1, 3, 0, 3, 0, 3, 0, 2, 1, 3, 0, 2, 1,\n",
      "         2, 1, 2, 1, 2, 1, 2, 1, 2]])\n",
      "Predicted: 1 True: 1, Predicted with start: 1\n",
      "\n",
      "Tokens = tensor([[ 3,  0,  2,  1,  6,  0,  2,  1, 10,  0,  3,  0,  3,  0,  2,  1, 11,  0,\n",
      "          9,  0,  2,  1,  2,  1,  2,  1,  2,  1,  2,  1,  9,  0,  2,  1]]), Start = tensor([[3, 0, 3, 1, 2, 1, 2, 1, 2, 1, 2, 1, 3, 0, 3, 0, 3, 0, 2, 1, 3, 0, 2, 1,\n",
      "         2, 1, 2, 1, 2, 1, 2, 1, 2, 1]])\n",
      "Predicted: 2 True: 5, Predicted with start: 2\n",
      "\n",
      "Tokens = tensor([[ 3,  0,  2,  1,  6,  0,  2,  1, 10,  0,  3,  0,  3,  0,  2,  1, 11,  0,\n",
      "          9,  0,  2,  1,  2,  1,  2,  1,  2,  1,  2,  1,  9,  0,  2,  1,  5]]), Start = tensor([[3, 0, 3, 1, 2, 1, 2, 1, 2, 1, 2, 1, 3, 0, 3, 0, 3, 0, 2, 1, 3, 0, 2, 1,\n",
      "         2, 1, 2, 1, 2, 1, 2, 1, 2, 1, 2]])\n",
      "Predicted: 0 True: 0, Predicted with start: 1\n",
      "\n",
      "Tokens = tensor([[ 3,  0,  2,  1,  6,  0,  2,  1, 10,  0,  3,  0,  3,  0,  2,  1, 11,  0,\n",
      "          9,  0,  2,  1,  2,  1,  2,  1,  2,  1,  2,  1,  9,  0,  2,  1,  5,  0]]), Start = tensor([[3, 0, 3, 1, 2, 1, 2, 1, 2, 1, 2, 1, 3, 0, 3, 0, 3, 0, 2, 1, 3, 0, 2, 1,\n",
      "         2, 1, 2, 1, 2, 1, 2, 1, 2, 1, 2, 1]])\n",
      "Predicted: 2 True: 2, Predicted with start: 2\n",
      "\n",
      "Tokens = tensor([[ 3,  0,  2,  1,  6,  0,  2,  1, 10,  0,  3,  0,  3,  0,  2,  1, 11,  0,\n",
      "          9,  0,  2,  1,  2,  1,  2,  1,  2,  1,  2,  1,  9,  0,  2,  1,  5,  0,\n",
      "          2]]), Start = tensor([[3, 0, 3, 1, 2, 1, 2, 1, 2, 1, 2, 1, 3, 0, 3, 0, 3, 0, 2, 1, 3, 0, 2, 1,\n",
      "         2, 1, 2, 1, 2, 1, 2, 1, 2, 1, 2, 1, 2]])\n",
      "Predicted: 1 True: 1, Predicted with start: 1\n",
      "\n",
      "Tokens = tensor([[ 3,  0,  2,  1,  6,  0,  2,  1, 10,  0,  3,  0,  3,  0,  2,  1, 11,  0,\n",
      "          9,  0,  2,  1,  2,  1,  2,  1,  2,  1,  2,  1,  9,  0,  2,  1,  5,  0,\n",
      "          2,  1]]), Start = tensor([[3, 0, 3, 1, 2, 1, 2, 1, 2, 1, 2, 1, 3, 0, 3, 0, 3, 0, 2, 1, 3, 0, 2, 1,\n",
      "         2, 1, 2, 1, 2, 1, 2, 1, 2, 1, 2, 1, 2, 1]])\n",
      "Predicted: 2 True: 7, Predicted with start: 2\n",
      "\n",
      "Tokens = tensor([[ 3,  0,  2,  1,  6,  0,  2,  1, 10,  0,  3,  0,  3,  0,  2,  1, 11,  0,\n",
      "          9,  0,  2,  1,  2,  1,  2,  1,  2,  1,  2,  1,  9,  0,  2,  1,  5,  0,\n",
      "          2,  1,  7]]), Start = tensor([[3, 0, 3, 1, 2, 1, 2, 1, 2, 1, 2, 1, 3, 0, 3, 0, 3, 0, 2, 1, 3, 0, 2, 1,\n",
      "         2, 1, 2, 1, 2, 1, 2, 1, 2, 1, 2, 1, 2, 1, 2]])\n",
      "Predicted: 0 True: 0, Predicted with start: 1\n",
      "\n",
      "Tokens = tensor([[ 3,  0,  2,  1,  6,  0,  2,  1, 10,  0,  3,  0,  3,  0,  2,  1, 11,  0,\n",
      "          9,  0,  2,  1,  2,  1,  2,  1,  2,  1,  2,  1,  9,  0,  2,  1,  5,  0,\n",
      "          2,  1,  7,  0]]), Start = tensor([[3, 0, 3, 1, 2, 1, 2, 1, 2, 1, 2, 1, 3, 0, 3, 0, 3, 0, 2, 1, 3, 0, 2, 1,\n",
      "         2, 1, 2, 1, 2, 1, 2, 1, 2, 1, 2, 1, 2, 1, 2, 1]])\n",
      "Predicted: 2 True: 9, Predicted with start: 2\n",
      "\n",
      "Tokens = tensor([[ 3,  0,  2,  1,  6,  0,  2,  1, 10,  0,  3,  0,  3,  0,  2,  1, 11,  0,\n",
      "          9,  0,  2,  1,  2,  1,  2,  1,  2,  1,  2,  1,  9,  0,  2,  1,  5,  0,\n",
      "          2,  1,  7,  0,  9]]), Start = tensor([[3, 0, 3, 1, 2, 1, 2, 1, 2, 1, 2, 1, 3, 0, 3, 0, 3, 0, 2, 1, 3, 0, 2, 1,\n",
      "         2, 1, 2, 1, 2, 1, 2, 1, 2, 1, 2, 1, 2, 1, 2, 1, 2]])\n",
      "Predicted: 0 True: 0, Predicted with start: 1\n",
      "\n",
      "Tokens = tensor([[ 3,  0,  2,  1,  6,  0,  2,  1, 10,  0,  3,  0,  3,  0,  2,  1, 11,  0,\n",
      "          9,  0,  2,  1,  2,  1,  2,  1,  2,  1,  2,  1,  9,  0,  2,  1,  5,  0,\n",
      "          2,  1,  7,  0,  9,  0]]), Start = tensor([[3, 0, 3, 1, 2, 1, 2, 1, 2, 1, 2, 1, 3, 0, 3, 0, 3, 0, 2, 1, 3, 0, 2, 1,\n",
      "         2, 1, 2, 1, 2, 1, 2, 1, 2, 1, 2, 1, 2, 1, 2, 1, 2, 1]])\n",
      "Predicted: 2 True: 2, Predicted with start: 2\n",
      "\n",
      "Tokens = tensor([[ 3,  0,  2,  1,  6,  0,  2,  1, 10,  0,  3,  0,  3,  0,  2,  1, 11,  0,\n",
      "          9,  0,  2,  1,  2,  1,  2,  1,  2,  1,  2,  1,  9,  0,  2,  1,  5,  0,\n",
      "          2,  1,  7,  0,  9,  0,  2]]), Start = tensor([[3, 0, 3, 1, 2, 1, 2, 1, 2, 1, 2, 1, 3, 0, 3, 0, 3, 0, 2, 1, 3, 0, 2, 1,\n",
      "         2, 1, 2, 1, 2, 1, 2, 1, 2, 1, 2, 1, 2, 1, 2, 1, 2, 1, 2]])\n",
      "Predicted: 1 True: 1, Predicted with start: 1\n",
      "\n",
      "Tokens = tensor([[ 3,  0,  2,  1,  6,  0,  2,  1, 10,  0,  3,  0,  3,  0,  2,  1, 11,  0,\n",
      "          9,  0,  2,  1,  2,  1,  2,  1,  2,  1,  2,  1,  9,  0,  2,  1,  5,  0,\n",
      "          2,  1,  7,  0,  9,  0,  2,  1]]), Start = tensor([[3, 0, 3, 1, 2, 1, 2, 1, 2, 1, 2, 1, 3, 0, 3, 0, 3, 0, 2, 1, 3, 0, 2, 1,\n",
      "         2, 1, 2, 1, 2, 1, 2, 1, 2, 1, 2, 1, 2, 1, 2, 1, 2, 1, 2, 1]])\n",
      "Predicted: 2 True: 2, Predicted with start: 2\n",
      "\n",
      "Tokens = tensor([[ 3,  0,  2,  1,  6,  0,  2,  1, 10,  0,  3,  0,  3,  0,  2,  1, 11,  0,\n",
      "          9,  0,  2,  1,  2,  1,  2,  1,  2,  1,  2,  1,  9,  0,  2,  1,  5,  0,\n",
      "          2,  1,  7,  0,  9,  0,  2,  1,  2]]), Start = tensor([[3, 0, 3, 1, 2, 1, 2, 1, 2, 1, 2, 1, 3, 0, 3, 0, 3, 0, 2, 1, 3, 0, 2, 1,\n",
      "         2, 1, 2, 1, 2, 1, 2, 1, 2, 1, 2, 1, 2, 1, 2, 1, 2, 1, 2, 1, 2]])\n",
      "Predicted: 1 True: 1, Predicted with start: 1\n",
      "\n",
      "Tokens = tensor([[ 3,  0,  2,  1,  6,  0,  2,  1, 10,  0,  3,  0,  3,  0,  2,  1, 11,  0,\n",
      "          9,  0,  2,  1,  2,  1,  2,  1,  2,  1,  2,  1,  9,  0,  2,  1,  5,  0,\n",
      "          2,  1,  7,  0,  9,  0,  2,  1,  2,  1]]), Start = tensor([[3, 0, 3, 1, 2, 1, 2, 1, 2, 1, 2, 1, 3, 0, 3, 0, 3, 0, 2, 1, 3, 0, 2, 1,\n",
      "         2, 1, 2, 1, 2, 1, 2, 1, 2, 1, 2, 1, 2, 1, 2, 1, 2, 1, 2, 1, 2, 1]])\n",
      "Predicted: 2 True: 2, Predicted with start: 2\n",
      "\n",
      "Tokens = tensor([[ 3,  0,  2,  1,  6,  0,  2,  1, 10,  0,  3,  0,  3,  0,  2,  1, 11,  0,\n",
      "          9,  0,  2,  1,  2,  1,  2,  1,  2,  1,  2,  1,  9,  0,  2,  1,  5,  0,\n",
      "          2,  1,  7,  0,  9,  0,  2,  1,  2,  1,  2]]), Start = tensor([[3, 0, 3, 1, 2, 1, 2, 1, 2, 1, 2, 1, 3, 0, 3, 0, 3, 0, 2, 1, 3, 0, 2, 1,\n",
      "         2, 1, 2, 1, 2, 1, 2, 1, 2, 1, 2, 1, 2, 1, 2, 1, 2, 1, 2, 1, 2, 1, 2]])\n",
      "Predicted: 1 True: 1, Predicted with start: 1\n",
      "\n",
      "Tokens = tensor([[ 3,  0,  2,  1,  6,  0,  2,  1, 10,  0,  3,  0,  3,  0,  2,  1, 11,  0,\n",
      "          9,  0,  2,  1,  2,  1,  2,  1,  2,  1,  2,  1,  9,  0,  2,  1,  5,  0,\n",
      "          2,  1,  7,  0,  9,  0,  2,  1,  2,  1,  2,  1]]), Start = tensor([[3, 0, 3, 1, 2, 1, 2, 1, 2, 1, 2, 1, 3, 0, 3, 0, 3, 0, 2, 1, 3, 0, 2, 1,\n",
      "         2, 1, 2, 1, 2, 1, 2, 1, 2, 1, 2, 1, 2, 1, 2, 1, 2, 1, 2, 1, 2, 1, 2, 0]])\n",
      "Predicted: 2 True: 2, Predicted with start: 2\n",
      "\n",
      "Tokens = tensor([[ 3,  0,  2,  1,  6,  0,  2,  1, 10,  0,  3,  0,  3,  0,  2,  1, 11,  0,\n",
      "          9,  0,  2,  1,  2,  1,  2,  1,  2,  1,  2,  1,  9,  0,  2,  1,  5,  0,\n",
      "          2,  1,  7,  0,  9,  0,  2,  1,  2,  1,  2,  1,  2]]), Start = tensor([[3, 0, 3, 1, 2, 1, 2, 1, 2, 1, 2, 1, 3, 0, 3, 0, 3, 0, 2, 1, 3, 0, 2, 1,\n",
      "         2, 1, 2, 1, 2, 1, 2, 1, 2, 1, 2, 1, 2, 1, 2, 1, 2, 1, 2, 1, 2, 1, 2, 0,\n",
      "         2]])\n",
      "Predicted: 1 True: 1, Predicted with start: 1\n",
      "\n",
      "Tokens = tensor([[ 3,  0,  2,  1,  6,  0,  2,  1, 10,  0,  3,  0,  3,  0,  2,  1, 11,  0,\n",
      "          9,  0,  2,  1,  2,  1,  2,  1,  2,  1,  2,  1,  9,  0,  2,  1,  5,  0,\n",
      "          2,  1,  7,  0,  9,  0,  2,  1,  2,  1,  2,  1,  2,  1]]), Start = tensor([[3, 0, 3, 1, 2, 1, 2, 1, 2, 1, 2, 1, 3, 0, 3, 0, 3, 0, 2, 1, 3, 0, 2, 1,\n",
      "         2, 1, 2, 1, 2, 1, 2, 1, 2, 1, 2, 1, 2, 1, 2, 1, 2, 1, 2, 1, 2, 1, 2, 0,\n",
      "         2, 1]])\n",
      "Predicted: 2 True: 2, Predicted with start: 2\n",
      "\n",
      "Tokens = tensor([[ 3,  0,  2,  1,  6,  0,  2,  1, 10,  0,  3,  0,  3,  0,  2,  1, 11,  0,\n",
      "          9,  0,  2,  1,  2,  1,  2,  1,  2,  1,  2,  1,  9,  0,  2,  1,  5,  0,\n",
      "          2,  1,  7,  0,  9,  0,  2,  1,  2,  1,  2,  1,  2,  1,  2]]), Start = tensor([[3, 0, 3, 1, 2, 1, 2, 1, 2, 1, 2, 1, 3, 0, 3, 0, 3, 0, 2, 1, 3, 0, 2, 1,\n",
      "         2, 1, 2, 1, 2, 1, 2, 1, 2, 1, 2, 1, 2, 1, 2, 1, 2, 1, 2, 1, 2, 1, 2, 0,\n",
      "         2, 1, 2]])\n",
      "Predicted: 1 True: 1, Predicted with start: 1\n",
      "\n",
      "Tokens = tensor([[ 3,  0,  2,  1,  6,  0,  2,  1, 10,  0,  3,  0,  3,  0,  2,  1, 11,  0,\n",
      "          9,  0,  2,  1,  2,  1,  2,  1,  2,  1,  2,  1,  9,  0,  2,  1,  5,  0,\n",
      "          2,  1,  7,  0,  9,  0,  2,  1,  2,  1,  2,  1,  2,  1,  2,  1]]), Start = tensor([[3, 0, 3, 1, 2, 1, 2, 1, 2, 1, 2, 1, 3, 0, 3, 0, 3, 0, 2, 1, 3, 0, 2, 1,\n",
      "         2, 1, 2, 1, 2, 1, 2, 1, 2, 1, 2, 1, 2, 1, 2, 1, 2, 1, 2, 1, 2, 1, 2, 0,\n",
      "         2, 1, 2, 1]])\n",
      "Predicted: 2 True: 2, Predicted with start: 2\n",
      "\n",
      "Tokens = tensor([[ 3,  0,  2,  1,  6,  0,  2,  1, 10,  0,  3,  0,  3,  0,  2,  1, 11,  0,\n",
      "          9,  0,  2,  1,  2,  1,  2,  1,  2,  1,  2,  1,  9,  0,  2,  1,  5,  0,\n",
      "          2,  1,  7,  0,  9,  0,  2,  1,  2,  1,  2,  1,  2,  1,  2,  1,  2]]), Start = tensor([[3, 0, 3, 1, 2, 1, 2, 1, 2, 1, 2, 1, 3, 0, 3, 0, 3, 0, 2, 1, 3, 0, 2, 1,\n",
      "         2, 1, 2, 1, 2, 1, 2, 1, 2, 1, 2, 1, 2, 1, 2, 1, 2, 1, 2, 1, 2, 1, 2, 0,\n",
      "         2, 1, 2, 1, 2]])\n",
      "Predicted: 1 True: 1, Predicted with start: 1\n",
      "\n",
      "Tokens = tensor([[ 3,  0,  2,  1,  6,  0,  2,  1, 10,  0,  3,  0,  3,  0,  2,  1, 11,  0,\n",
      "          9,  0,  2,  1,  2,  1,  2,  1,  2,  1,  2,  1,  9,  0,  2,  1,  5,  0,\n",
      "          2,  1,  7,  0,  9,  0,  2,  1,  2,  1,  2,  1,  2,  1,  2,  1,  2,  1]]), Start = tensor([[3, 0, 3, 1, 2, 1, 2, 1, 2, 1, 2, 1, 3, 0, 3, 0, 3, 0, 2, 1, 3, 0, 2, 1,\n",
      "         2, 1, 2, 1, 2, 1, 2, 1, 2, 1, 2, 1, 2, 1, 2, 1, 2, 1, 2, 1, 2, 1, 2, 0,\n",
      "         2, 1, 2, 1, 2, 0]])\n",
      "Predicted: 2 True: 2, Predicted with start: 2\n",
      "\n",
      "Tokens = tensor([[ 3,  0,  2,  1,  6,  0,  2,  1, 10,  0,  3,  0,  3,  0,  2,  1, 11,  0,\n",
      "          9,  0,  2,  1,  2,  1,  2,  1,  2,  1,  2,  1,  9,  0,  2,  1,  5,  0,\n",
      "          2,  1,  7,  0,  9,  0,  2,  1,  2,  1,  2,  1,  2,  1,  2,  1,  2,  1,\n",
      "          2]]), Start = tensor([[3, 0, 3, 1, 2, 1, 2, 1, 2, 1, 2, 1, 3, 0, 3, 0, 3, 0, 2, 1, 3, 0, 2, 1,\n",
      "         2, 1, 2, 1, 2, 1, 2, 1, 2, 1, 2, 1, 2, 1, 2, 1, 2, 1, 2, 1, 2, 1, 2, 0,\n",
      "         2, 1, 2, 1, 2, 0, 2]])\n",
      "Predicted: 1 True: 1, Predicted with start: 1\n",
      "\n",
      "Tokens = tensor([[ 3,  0,  2,  1,  6,  0,  2,  1, 10,  0,  3,  0,  3,  0,  2,  1, 11,  0,\n",
      "          9,  0,  2,  1,  2,  1,  2,  1,  2,  1,  2,  1,  9,  0,  2,  1,  5,  0,\n",
      "          2,  1,  7,  0,  9,  0,  2,  1,  2,  1,  2,  1,  2,  1,  2,  1,  2,  1,\n",
      "          2,  1]]), Start = tensor([[3, 0, 3, 1, 2, 1, 2, 1, 2, 1, 2, 1, 3, 0, 3, 0, 3, 0, 2, 1, 3, 0, 2, 1,\n",
      "         2, 1, 2, 1, 2, 1, 2, 1, 2, 1, 2, 1, 2, 1, 2, 1, 2, 1, 2, 1, 2, 1, 2, 0,\n",
      "         2, 1, 2, 1, 2, 0, 2, 1]])\n",
      "Predicted: 2 True: 2, Predicted with start: 2\n",
      "\n",
      "Tokens = tensor([[ 3,  0,  2,  1,  6,  0,  2,  1, 10,  0,  3,  0,  3,  0,  2,  1, 11,  0,\n",
      "          9,  0,  2,  1,  2,  1,  2,  1,  2,  1,  2,  1,  9,  0,  2,  1,  5,  0,\n",
      "          2,  1,  7,  0,  9,  0,  2,  1,  2,  1,  2,  1,  2,  1,  2,  1,  2,  1,\n",
      "          2,  1,  2]]), Start = tensor([[3, 0, 3, 1, 2, 1, 2, 1, 2, 1, 2, 1, 3, 0, 3, 0, 3, 0, 2, 1, 3, 0, 2, 1,\n",
      "         2, 1, 2, 1, 2, 1, 2, 1, 2, 1, 2, 1, 2, 1, 2, 1, 2, 1, 2, 1, 2, 1, 2, 0,\n",
      "         2, 1, 2, 1, 2, 0, 2, 1, 2]])\n",
      "Predicted: 1 True: 1, Predicted with start: 1\n",
      "\n",
      "Tokens = tensor([[ 3,  0,  2,  1,  6,  0,  2,  1, 10,  0,  3,  0,  3,  0,  2,  1, 11,  0,\n",
      "          9,  0,  2,  1,  2,  1,  2,  1,  2,  1,  2,  1,  9,  0,  2,  1,  5,  0,\n",
      "          2,  1,  7,  0,  9,  0,  2,  1,  2,  1,  2,  1,  2,  1,  2,  1,  2,  1,\n",
      "          2,  1,  2,  1]]), Start = tensor([[3, 0, 3, 1, 2, 1, 2, 1, 2, 1, 2, 1, 3, 0, 3, 0, 3, 0, 2, 1, 3, 0, 2, 1,\n",
      "         2, 1, 2, 1, 2, 1, 2, 1, 2, 1, 2, 1, 2, 1, 2, 1, 2, 1, 2, 1, 2, 1, 2, 0,\n",
      "         2, 1, 2, 1, 2, 0, 2, 1, 2, 1]])\n",
      "Predicted: 2 True: 2, Predicted with start: 2\n",
      "\n",
      "Tokens = tensor([[ 3,  0,  2,  1,  6,  0,  2,  1, 10,  0,  3,  0,  3,  0,  2,  1, 11,  0,\n",
      "          9,  0,  2,  1,  2,  1,  2,  1,  2,  1,  2,  1,  9,  0,  2,  1,  5,  0,\n",
      "          2,  1,  7,  0,  9,  0,  2,  1,  2,  1,  2,  1,  2,  1,  2,  1,  2,  1,\n",
      "          2,  1,  2,  1,  2]]), Start = tensor([[3, 0, 3, 1, 2, 1, 2, 1, 2, 1, 2, 1, 3, 0, 3, 0, 3, 0, 2, 1, 3, 0, 2, 1,\n",
      "         2, 1, 2, 1, 2, 1, 2, 1, 2, 1, 2, 1, 2, 1, 2, 1, 2, 1, 2, 1, 2, 1, 2, 0,\n",
      "         2, 1, 2, 1, 2, 0, 2, 1, 2, 1, 2]])\n",
      "Predicted: 1 True: 1, Predicted with start: 1\n",
      "\n",
      "Tokens = tensor([[ 3,  0,  2,  1,  6,  0,  2,  1, 10,  0,  3,  0,  3,  0,  2,  1, 11,  0,\n",
      "          9,  0,  2,  1,  2,  1,  2,  1,  2,  1,  2,  1,  9,  0,  2,  1,  5,  0,\n",
      "          2,  1,  7,  0,  9,  0,  2,  1,  2,  1,  2,  1,  2,  1,  2,  1,  2,  1,\n",
      "          2,  1,  2,  1,  2,  1]]), Start = tensor([[3, 0, 3, 1, 2, 1, 2, 1, 2, 1, 2, 1, 3, 0, 3, 0, 3, 0, 2, 1, 3, 0, 2, 1,\n",
      "         2, 1, 2, 1, 2, 1, 2, 1, 2, 1, 2, 1, 2, 1, 2, 1, 2, 1, 2, 1, 2, 1, 2, 0,\n",
      "         2, 1, 2, 1, 2, 0, 2, 1, 2, 1, 2, 1]])\n",
      "Predicted: 2 True: 2, Predicted with start: 2\n",
      "\n",
      "Tokens = tensor([[ 3,  0,  2,  1,  6,  0,  2,  1, 10,  0,  3,  0,  3,  0,  2,  1, 11,  0,\n",
      "          9,  0,  2,  1,  2,  1,  2,  1,  2,  1,  2,  1,  9,  0,  2,  1,  5,  0,\n",
      "          2,  1,  7,  0,  9,  0,  2,  1,  2,  1,  2,  1,  2,  1,  2,  1,  2,  1,\n",
      "          2,  1,  2,  1,  2,  1,  2]]), Start = tensor([[3, 0, 3, 1, 2, 1, 2, 1, 2, 1, 2, 1, 3, 0, 3, 0, 3, 0, 2, 1, 3, 0, 2, 1,\n",
      "         2, 1, 2, 1, 2, 1, 2, 1, 2, 1, 2, 1, 2, 1, 2, 1, 2, 1, 2, 1, 2, 1, 2, 0,\n",
      "         2, 1, 2, 1, 2, 0, 2, 1, 2, 1, 2, 1, 2]])\n",
      "Predicted: 1 True: 1, Predicted with start: 1\n",
      "\n",
      "Tokens = tensor([[ 3,  0,  2,  1,  6,  0,  2,  1, 10,  0,  3,  0,  3,  0,  2,  1, 11,  0,\n",
      "          9,  0,  2,  1,  2,  1,  2,  1,  2,  1,  2,  1,  9,  0,  2,  1,  5,  0,\n",
      "          2,  1,  7,  0,  9,  0,  2,  1,  2,  1,  2,  1,  2,  1,  2,  1,  2,  1,\n",
      "          2,  1,  2,  1,  2,  1,  2,  1]]), Start = tensor([[3, 0, 3, 1, 2, 1, 2, 1, 2, 1, 2, 1, 3, 0, 3, 0, 3, 0, 2, 1, 3, 0, 2, 1,\n",
      "         2, 1, 2, 1, 2, 1, 2, 1, 2, 1, 2, 1, 2, 1, 2, 1, 2, 1, 2, 1, 2, 1, 2, 0,\n",
      "         2, 1, 2, 1, 2, 0, 2, 1, 2, 1, 2, 1, 2, 1]])\n",
      "Predicted: 2 True: 2, Predicted with start: 2\n",
      "\n",
      "Tokens = tensor([[ 3,  0,  2,  1,  6,  0,  2,  1, 10,  0,  3,  0,  3,  0,  2,  1, 11,  0,\n",
      "          9,  0,  2,  1,  2,  1,  2,  1,  2,  1,  2,  1,  9,  0,  2,  1,  5,  0,\n",
      "          2,  1,  7,  0,  9,  0,  2,  1,  2,  1,  2,  1,  2,  1,  2,  1,  2,  1,\n",
      "          2,  1,  2,  1,  2,  1,  2,  1,  2]]), Start = tensor([[3, 0, 3, 1, 2, 1, 2, 1, 2, 1, 2, 1, 3, 0, 3, 0, 3, 0, 2, 1, 3, 0, 2, 1,\n",
      "         2, 1, 2, 1, 2, 1, 2, 1, 2, 1, 2, 1, 2, 1, 2, 1, 2, 1, 2, 1, 2, 1, 2, 0,\n",
      "         2, 1, 2, 1, 2, 0, 2, 1, 2, 1, 2, 1, 2, 1, 2]])\n",
      "Predicted: 1 True: 1, Predicted with start: 1\n",
      "\n",
      "Tokens = tensor([[ 3,  0,  2,  1,  6,  0,  2,  1, 10,  0,  3,  0,  3,  0,  2,  1, 11,  0,\n",
      "          9,  0,  2,  1,  2,  1,  2,  1,  2,  1,  2,  1,  9,  0,  2,  1,  5,  0,\n",
      "          2,  1,  7,  0,  9,  0,  2,  1,  2,  1,  2,  1,  2,  1,  2,  1,  2,  1,\n",
      "          2,  1,  2,  1,  2,  1,  2,  1,  2,  1]]), Start = tensor([[3, 0, 3, 1, 2, 1, 2, 1, 2, 1, 2, 1, 3, 0, 3, 0, 3, 0, 2, 1, 3, 0, 2, 1,\n",
      "         2, 1, 2, 1, 2, 1, 2, 1, 2, 1, 2, 1, 2, 1, 2, 1, 2, 1, 2, 1, 2, 1, 2, 0,\n",
      "         2, 1, 2, 1, 2, 0, 2, 1, 2, 1, 2, 1, 2, 1, 2, 1]])\n",
      "Predicted: 2 True: 2, Predicted with start: 2\n",
      "\n",
      "Tokens = tensor([[ 3,  0,  2,  1,  6,  0,  2,  1, 10,  0,  3,  0,  3,  0,  2,  1, 11,  0,\n",
      "          9,  0,  2,  1,  2,  1,  2,  1,  2,  1,  2,  1,  9,  0,  2,  1,  5,  0,\n",
      "          2,  1,  7,  0,  9,  0,  2,  1,  2,  1,  2,  1,  2,  1,  2,  1,  2,  1,\n",
      "          2,  1,  2,  1,  2,  1,  2,  1,  2,  1,  2]]), Start = tensor([[3, 0, 3, 1, 2, 1, 2, 1, 2, 1, 2, 1, 3, 0, 3, 0, 3, 0, 2, 1, 3, 0, 2, 1,\n",
      "         2, 1, 2, 1, 2, 1, 2, 1, 2, 1, 2, 1, 2, 1, 2, 1, 2, 1, 2, 1, 2, 1, 2, 0,\n",
      "         2, 1, 2, 1, 2, 0, 2, 1, 2, 1, 2, 1, 2, 1, 2, 1, 2]])\n",
      "Predicted: 1 True: 1, Predicted with start: 1\n",
      "\n",
      "Tokens = tensor([[ 3,  0,  2,  1,  6,  0,  2,  1, 10,  0,  3,  0,  3,  0,  2,  1, 11,  0,\n",
      "          9,  0,  2,  1,  2,  1,  2,  1,  2,  1,  2,  1,  9,  0,  2,  1,  5,  0,\n",
      "          2,  1,  7,  0,  9,  0,  2,  1,  2,  1,  2,  1,  2,  1,  2,  1,  2,  1,\n",
      "          2,  1,  2,  1,  2,  1,  2,  1,  2,  1,  2,  1]]), Start = tensor([[3, 0, 3, 1, 2, 1, 2, 1, 2, 1, 2, 1, 3, 0, 3, 0, 3, 0, 2, 1, 3, 0, 2, 1,\n",
      "         2, 1, 2, 1, 2, 1, 2, 1, 2, 1, 2, 1, 2, 1, 2, 1, 2, 1, 2, 1, 2, 1, 2, 0,\n",
      "         2, 1, 2, 1, 2, 0, 2, 1, 2, 1, 2, 1, 2, 1, 2, 1, 2, 0]])\n",
      "Predicted: 2 True: 2, Predicted with start: 2\n",
      "\n",
      "Tokens = tensor([[ 3,  0,  2,  1,  6,  0,  2,  1, 10,  0,  3,  0,  3,  0,  2,  1, 11,  0,\n",
      "          9,  0,  2,  1,  2,  1,  2,  1,  2,  1,  2,  1,  9,  0,  2,  1,  5,  0,\n",
      "          2,  1,  7,  0,  9,  0,  2,  1,  2,  1,  2,  1,  2,  1,  2,  1,  2,  1,\n",
      "          2,  1,  2,  1,  2,  1,  2,  1,  2,  1,  2,  1,  2]]), Start = tensor([[3, 0, 3, 1, 2, 1, 2, 1, 2, 1, 2, 1, 3, 0, 3, 0, 3, 0, 2, 1, 3, 0, 2, 1,\n",
      "         2, 1, 2, 1, 2, 1, 2, 1, 2, 1, 2, 1, 2, 1, 2, 1, 2, 1, 2, 1, 2, 1, 2, 0,\n",
      "         2, 1, 2, 1, 2, 0, 2, 1, 2, 1, 2, 1, 2, 1, 2, 1, 2, 0, 2]])\n",
      "Predicted: 1 True: 1, Predicted with start: 1\n",
      "\n",
      "Tokens = tensor([[ 3,  0,  2,  1,  6,  0,  2,  1, 10,  0,  3,  0,  3,  0,  2,  1, 11,  0,\n",
      "          9,  0,  2,  1,  2,  1,  2,  1,  2,  1,  2,  1,  9,  0,  2,  1,  5,  0,\n",
      "          2,  1,  7,  0,  9,  0,  2,  1,  2,  1,  2,  1,  2,  1,  2,  1,  2,  1,\n",
      "          2,  1,  2,  1,  2,  1,  2,  1,  2,  1,  2,  1,  2,  1]]), Start = tensor([[3, 0, 3, 1, 2, 1, 2, 1, 2, 1, 2, 1, 3, 0, 3, 0, 3, 0, 2, 1, 3, 0, 2, 1,\n",
      "         2, 1, 2, 1, 2, 1, 2, 1, 2, 1, 2, 1, 2, 1, 2, 1, 2, 1, 2, 1, 2, 1, 2, 0,\n",
      "         2, 1, 2, 1, 2, 0, 2, 1, 2, 1, 2, 1, 2, 1, 2, 1, 2, 0, 2, 1]])\n",
      "Predicted: 2 True: 2, Predicted with start: 2\n",
      "\n",
      "Tokens = tensor([[ 3,  0,  2,  1,  6,  0,  2,  1, 10,  0,  3,  0,  3,  0,  2,  1, 11,  0,\n",
      "          9,  0,  2,  1,  2,  1,  2,  1,  2,  1,  2,  1,  9,  0,  2,  1,  5,  0,\n",
      "          2,  1,  7,  0,  9,  0,  2,  1,  2,  1,  2,  1,  2,  1,  2,  1,  2,  1,\n",
      "          2,  1,  2,  1,  2,  1,  2,  1,  2,  1,  2,  1,  2,  1,  2]]), Start = tensor([[3, 0, 3, 1, 2, 1, 2, 1, 2, 1, 2, 1, 3, 0, 3, 0, 3, 0, 2, 1, 3, 0, 2, 1,\n",
      "         2, 1, 2, 1, 2, 1, 2, 1, 2, 1, 2, 1, 2, 1, 2, 1, 2, 1, 2, 1, 2, 1, 2, 0,\n",
      "         2, 1, 2, 1, 2, 0, 2, 1, 2, 1, 2, 1, 2, 1, 2, 1, 2, 0, 2, 1, 2]])\n",
      "Predicted: 1 True: 1, Predicted with start: 1\n",
      "\n",
      "Tokens = tensor([[ 3,  0,  2,  1,  6,  0,  2,  1, 10,  0,  3,  0,  3,  0,  2,  1, 11,  0,\n",
      "          9,  0,  2,  1,  2,  1,  2,  1,  2,  1,  2,  1,  9,  0,  2,  1,  5,  0,\n",
      "          2,  1,  7,  0,  9,  0,  2,  1,  2,  1,  2,  1,  2,  1,  2,  1,  2,  1,\n",
      "          2,  1,  2,  1,  2,  1,  2,  1,  2,  1,  2,  1,  2,  1,  2,  1]]), Start = tensor([[3, 0, 3, 1, 2, 1, 2, 1, 2, 1, 2, 1, 3, 0, 3, 0, 3, 0, 2, 1, 3, 0, 2, 1,\n",
      "         2, 1, 2, 1, 2, 1, 2, 1, 2, 1, 2, 1, 2, 1, 2, 1, 2, 1, 2, 1, 2, 1, 2, 0,\n",
      "         2, 1, 2, 1, 2, 0, 2, 1, 2, 1, 2, 1, 2, 1, 2, 1, 2, 0, 2, 1, 2, 0]])\n",
      "Predicted: 2 True: 2, Predicted with start: 2\n",
      "\n",
      "Tokens = tensor([[ 3,  0,  2,  1,  6,  0,  2,  1, 10,  0,  3,  0,  3,  0,  2,  1, 11,  0,\n",
      "          9,  0,  2,  1,  2,  1,  2,  1,  2,  1,  2,  1,  9,  0,  2,  1,  5,  0,\n",
      "          2,  1,  7,  0,  9,  0,  2,  1,  2,  1,  2,  1,  2,  1,  2,  1,  2,  1,\n",
      "          2,  1,  2,  1,  2,  1,  2,  1,  2,  1,  2,  1,  2,  1,  2,  1,  2]]), Start = tensor([[3, 0, 3, 1, 2, 1, 2, 1, 2, 1, 2, 1, 3, 0, 3, 0, 3, 0, 2, 1, 3, 0, 2, 1,\n",
      "         2, 1, 2, 1, 2, 1, 2, 1, 2, 1, 2, 1, 2, 1, 2, 1, 2, 1, 2, 1, 2, 1, 2, 0,\n",
      "         2, 1, 2, 1, 2, 0, 2, 1, 2, 1, 2, 1, 2, 1, 2, 1, 2, 0, 2, 1, 2, 0, 2]])\n",
      "Predicted: 1 True: 1, Predicted with start: 1\n",
      "\n",
      "Tokens = tensor([[ 3,  0,  2,  1,  6,  0,  2,  1, 10,  0,  3,  0,  3,  0,  2,  1, 11,  0,\n",
      "          9,  0,  2,  1,  2,  1,  2,  1,  2,  1,  2,  1,  9,  0,  2,  1,  5,  0,\n",
      "          2,  1,  7,  0,  9,  0,  2,  1,  2,  1,  2,  1,  2,  1,  2,  1,  2,  1,\n",
      "          2,  1,  2,  1,  2,  1,  2,  1,  2,  1,  2,  1,  2,  1,  2,  1,  2,  1]]), Start = tensor([[3, 0, 3, 1, 2, 1, 2, 1, 2, 1, 2, 1, 3, 0, 3, 0, 3, 0, 2, 1, 3, 0, 2, 1,\n",
      "         2, 1, 2, 1, 2, 1, 2, 1, 2, 1, 2, 1, 2, 1, 2, 1, 2, 1, 2, 1, 2, 1, 2, 0,\n",
      "         2, 1, 2, 1, 2, 0, 2, 1, 2, 1, 2, 1, 2, 1, 2, 1, 2, 0, 2, 1, 2, 0, 2, 1]])\n",
      "Predicted: 2 True: 2, Predicted with start: 2\n",
      "\n",
      "Tokens = tensor([[ 3,  0,  2,  1,  6,  0,  2,  1, 10,  0,  3,  0,  3,  0,  2,  1, 11,  0,\n",
      "          9,  0,  2,  1,  2,  1,  2,  1,  2,  1,  2,  1,  9,  0,  2,  1,  5,  0,\n",
      "          2,  1,  7,  0,  9,  0,  2,  1,  2,  1,  2,  1,  2,  1,  2,  1,  2,  1,\n",
      "          2,  1,  2,  1,  2,  1,  2,  1,  2,  1,  2,  1,  2,  1,  2,  1,  2,  1,\n",
      "          2]]), Start = tensor([[3, 0, 3, 1, 2, 1, 2, 1, 2, 1, 2, 1, 3, 0, 3, 0, 3, 0, 2, 1, 3, 0, 2, 1,\n",
      "         2, 1, 2, 1, 2, 1, 2, 1, 2, 1, 2, 1, 2, 1, 2, 1, 2, 1, 2, 1, 2, 1, 2, 0,\n",
      "         2, 1, 2, 1, 2, 0, 2, 1, 2, 1, 2, 1, 2, 1, 2, 1, 2, 0, 2, 1, 2, 0, 2, 1,\n",
      "         2]])\n",
      "Predicted: 1 True: 1, Predicted with start: 1\n",
      "\n",
      "Tokens = tensor([[ 3,  0,  2,  1,  6,  0,  2,  1, 10,  0,  3,  0,  3,  0,  2,  1, 11,  0,\n",
      "          9,  0,  2,  1,  2,  1,  2,  1,  2,  1,  2,  1,  9,  0,  2,  1,  5,  0,\n",
      "          2,  1,  7,  0,  9,  0,  2,  1,  2,  1,  2,  1,  2,  1,  2,  1,  2,  1,\n",
      "          2,  1,  2,  1,  2,  1,  2,  1,  2,  1,  2,  1,  2,  1,  2,  1,  2,  1,\n",
      "          2,  1]]), Start = tensor([[3, 0, 3, 1, 2, 1, 2, 1, 2, 1, 2, 1, 3, 0, 3, 0, 3, 0, 2, 1, 3, 0, 2, 1,\n",
      "         2, 1, 2, 1, 2, 1, 2, 1, 2, 1, 2, 1, 2, 1, 2, 1, 2, 1, 2, 1, 2, 1, 2, 0,\n",
      "         2, 1, 2, 1, 2, 0, 2, 1, 2, 1, 2, 1, 2, 1, 2, 1, 2, 0, 2, 1, 2, 0, 2, 1,\n",
      "         2, 1]])\n",
      "Predicted: 2 True: 2, Predicted with start: 2\n",
      "\n",
      "Tokens = tensor([[ 3,  0,  2,  1,  6,  0,  2,  1, 10,  0,  3,  0,  3,  0,  2,  1, 11,  0,\n",
      "          9,  0,  2,  1,  2,  1,  2,  1,  2,  1,  2,  1,  9,  0,  2,  1,  5,  0,\n",
      "          2,  1,  7,  0,  9,  0,  2,  1,  2,  1,  2,  1,  2,  1,  2,  1,  2,  1,\n",
      "          2,  1,  2,  1,  2,  1,  2,  1,  2,  1,  2,  1,  2,  1,  2,  1,  2,  1,\n",
      "          2,  1,  2]]), Start = tensor([[3, 0, 3, 1, 2, 1, 2, 1, 2, 1, 2, 1, 3, 0, 3, 0, 3, 0, 2, 1, 3, 0, 2, 1,\n",
      "         2, 1, 2, 1, 2, 1, 2, 1, 2, 1, 2, 1, 2, 1, 2, 1, 2, 1, 2, 1, 2, 1, 2, 0,\n",
      "         2, 1, 2, 1, 2, 0, 2, 1, 2, 1, 2, 1, 2, 1, 2, 1, 2, 0, 2, 1, 2, 0, 2, 1,\n",
      "         2, 1, 2]])\n",
      "Predicted: 1 True: 1, Predicted with start: 1\n",
      "\n",
      "Tokens = tensor([[ 3,  0,  2,  1,  6,  0,  2,  1, 10,  0,  3,  0,  3,  0,  2,  1, 11,  0,\n",
      "          9,  0,  2,  1,  2,  1,  2,  1,  2,  1,  2,  1,  9,  0,  2,  1,  5,  0,\n",
      "          2,  1,  7,  0,  9,  0,  2,  1,  2,  1,  2,  1,  2,  1,  2,  1,  2,  1,\n",
      "          2,  1,  2,  1,  2,  1,  2,  1,  2,  1,  2,  1,  2,  1,  2,  1,  2,  1,\n",
      "          2,  1,  2,  1]]), Start = tensor([[3, 0, 3, 1, 2, 1, 2, 1, 2, 1, 2, 1, 3, 0, 3, 0, 3, 0, 2, 1, 3, 0, 2, 1,\n",
      "         2, 1, 2, 1, 2, 1, 2, 1, 2, 1, 2, 1, 2, 1, 2, 1, 2, 1, 2, 1, 2, 1, 2, 0,\n",
      "         2, 1, 2, 1, 2, 0, 2, 1, 2, 1, 2, 1, 2, 1, 2, 1, 2, 0, 2, 1, 2, 0, 2, 1,\n",
      "         2, 1, 2, 1]])\n",
      "Predicted: 2 True: 2, Predicted with start: 2\n",
      "\n",
      "Tokens = tensor([[ 3,  0,  2,  1,  6,  0,  2,  1, 10,  0,  3,  0,  3,  0,  2,  1, 11,  0,\n",
      "          9,  0,  2,  1,  2,  1,  2,  1,  2,  1,  2,  1,  9,  0,  2,  1,  5,  0,\n",
      "          2,  1,  7,  0,  9,  0,  2,  1,  2,  1,  2,  1,  2,  1,  2,  1,  2,  1,\n",
      "          2,  1,  2,  1,  2,  1,  2,  1,  2,  1,  2,  1,  2,  1,  2,  1,  2,  1,\n",
      "          2,  1,  2,  1,  2]]), Start = tensor([[3, 0, 3, 1, 2, 1, 2, 1, 2, 1, 2, 1, 3, 0, 3, 0, 3, 0, 2, 1, 3, 0, 2, 1,\n",
      "         2, 1, 2, 1, 2, 1, 2, 1, 2, 1, 2, 1, 2, 1, 2, 1, 2, 1, 2, 1, 2, 1, 2, 0,\n",
      "         2, 1, 2, 1, 2, 0, 2, 1, 2, 1, 2, 1, 2, 1, 2, 1, 2, 0, 2, 1, 2, 0, 2, 1,\n",
      "         2, 1, 2, 1, 2]])\n",
      "Predicted: 1 True: 1, Predicted with start: 1\n",
      "\n",
      "Tokens = tensor([[ 3,  0,  2,  1,  6,  0,  2,  1, 10,  0,  3,  0,  3,  0,  2,  1, 11,  0,\n",
      "          9,  0,  2,  1,  2,  1,  2,  1,  2,  1,  2,  1,  9,  0,  2,  1,  5,  0,\n",
      "          2,  1,  7,  0,  9,  0,  2,  1,  2,  1,  2,  1,  2,  1,  2,  1,  2,  1,\n",
      "          2,  1,  2,  1,  2,  1,  2,  1,  2,  1,  2,  1,  2,  1,  2,  1,  2,  1,\n",
      "          2,  1,  2,  1,  2,  1]]), Start = tensor([[3, 0, 3, 1, 2, 1, 2, 1, 2, 1, 2, 1, 3, 0, 3, 0, 3, 0, 2, 1, 3, 0, 2, 1,\n",
      "         2, 1, 2, 1, 2, 1, 2, 1, 2, 1, 2, 1, 2, 1, 2, 1, 2, 1, 2, 1, 2, 1, 2, 0,\n",
      "         2, 1, 2, 1, 2, 0, 2, 1, 2, 1, 2, 1, 2, 1, 2, 1, 2, 0, 2, 1, 2, 0, 2, 1,\n",
      "         2, 1, 2, 1, 2, 1]])\n",
      "Predicted: 2 True: 2, Predicted with start: 2\n",
      "\n",
      "Tokens = tensor([[ 3,  0,  2,  1,  6,  0,  2,  1, 10,  0,  3,  0,  3,  0,  2,  1, 11,  0,\n",
      "          9,  0,  2,  1,  2,  1,  2,  1,  2,  1,  2,  1,  9,  0,  2,  1,  5,  0,\n",
      "          2,  1,  7,  0,  9,  0,  2,  1,  2,  1,  2,  1,  2,  1,  2,  1,  2,  1,\n",
      "          2,  1,  2,  1,  2,  1,  2,  1,  2,  1,  2,  1,  2,  1,  2,  1,  2,  1,\n",
      "          2,  1,  2,  1,  2,  1,  2]]), Start = tensor([[3, 0, 3, 1, 2, 1, 2, 1, 2, 1, 2, 1, 3, 0, 3, 0, 3, 0, 2, 1, 3, 0, 2, 1,\n",
      "         2, 1, 2, 1, 2, 1, 2, 1, 2, 1, 2, 1, 2, 1, 2, 1, 2, 1, 2, 1, 2, 1, 2, 0,\n",
      "         2, 1, 2, 1, 2, 0, 2, 1, 2, 1, 2, 1, 2, 1, 2, 1, 2, 0, 2, 1, 2, 0, 2, 1,\n",
      "         2, 1, 2, 1, 2, 1, 2]])\n",
      "Predicted: 1 True: 0, Predicted with start: 1\n",
      "\n",
      "Tokens = tensor([[ 3,  0,  2,  1,  6,  0,  2,  1, 10,  0,  3,  0,  3,  0,  2,  1, 11,  0,\n",
      "          9,  0,  2,  1,  2,  1,  2,  1,  2,  1,  2,  1,  9,  0,  2,  1,  5,  0,\n",
      "          2,  1,  7,  0,  9,  0,  2,  1,  2,  1,  2,  1,  2,  1,  2,  1,  2,  1,\n",
      "          2,  1,  2,  1,  2,  1,  2,  1,  2,  1,  2,  1,  2,  1,  2,  1,  2,  1,\n",
      "          2,  1,  2,  1,  2,  1,  2,  0]]), Start = tensor([[3, 0, 3, 1, 2, 1, 2, 1, 2, 1, 2, 1, 3, 0, 3, 0, 3, 0, 2, 1, 3, 0, 2, 1,\n",
      "         2, 1, 2, 1, 2, 1, 2, 1, 2, 1, 2, 1, 2, 1, 2, 1, 2, 1, 2, 1, 2, 1, 2, 0,\n",
      "         2, 1, 2, 1, 2, 0, 2, 1, 2, 1, 2, 1, 2, 1, 2, 1, 2, 0, 2, 1, 2, 0, 2, 1,\n",
      "         2, 1, 2, 1, 2, 1, 2, 1]])\n",
      "Predicted: 2 True: 2, Predicted with start: 2\n",
      "\n",
      "Tokens = tensor([[ 3,  0,  2,  1,  6,  0,  2,  1, 10,  0,  3,  0,  3,  0,  2,  1, 11,  0,\n",
      "          9,  0,  2,  1,  2,  1,  2,  1,  2,  1,  2,  1,  9,  0,  2,  1,  5,  0,\n",
      "          2,  1,  7,  0,  9,  0,  2,  1,  2,  1,  2,  1,  2,  1,  2,  1,  2,  1,\n",
      "          2,  1,  2,  1,  2,  1,  2,  1,  2,  1,  2,  1,  2,  1,  2,  1,  2,  1,\n",
      "          2,  1,  2,  1,  2,  1,  2,  0,  2]]), Start = tensor([[3, 0, 3, 1, 2, 1, 2, 1, 2, 1, 2, 1, 3, 0, 3, 0, 3, 0, 2, 1, 3, 0, 2, 1,\n",
      "         2, 1, 2, 1, 2, 1, 2, 1, 2, 1, 2, 1, 2, 1, 2, 1, 2, 1, 2, 1, 2, 1, 2, 0,\n",
      "         2, 1, 2, 1, 2, 0, 2, 1, 2, 1, 2, 1, 2, 1, 2, 1, 2, 0, 2, 1, 2, 0, 2, 1,\n",
      "         2, 1, 2, 1, 2, 1, 2, 1, 2]])\n",
      "Predicted: 1 True: 1, Predicted with start: 1\n",
      "\n",
      "Tokens = tensor([[ 3,  0,  2,  1,  6,  0,  2,  1, 10,  0,  3,  0,  3,  0,  2,  1, 11,  0,\n",
      "          9,  0,  2,  1,  2,  1,  2,  1,  2,  1,  2,  1,  9,  0,  2,  1,  5,  0,\n",
      "          2,  1,  7,  0,  9,  0,  2,  1,  2,  1,  2,  1,  2,  1,  2,  1,  2,  1,\n",
      "          2,  1,  2,  1,  2,  1,  2,  1,  2,  1,  2,  1,  2,  1,  2,  1,  2,  1,\n",
      "          2,  1,  2,  1,  2,  1,  2,  0,  2,  1]]), Start = tensor([[3, 0, 3, 1, 2, 1, 2, 1, 2, 1, 2, 1, 3, 0, 3, 0, 3, 0, 2, 1, 3, 0, 2, 1,\n",
      "         2, 1, 2, 1, 2, 1, 2, 1, 2, 1, 2, 1, 2, 1, 2, 1, 2, 1, 2, 1, 2, 1, 2, 0,\n",
      "         2, 1, 2, 1, 2, 0, 2, 1, 2, 1, 2, 1, 2, 1, 2, 1, 2, 0, 2, 1, 2, 0, 2, 1,\n",
      "         2, 1, 2, 1, 2, 1, 2, 1, 2, 1]])\n",
      "Predicted: 2 True: 2, Predicted with start: 2\n",
      "\n",
      "Tokens = tensor([[ 3,  0,  2,  1,  6,  0,  2,  1, 10,  0,  3,  0,  3,  0,  2,  1, 11,  0,\n",
      "          9,  0,  2,  1,  2,  1,  2,  1,  2,  1,  2,  1,  9,  0,  2,  1,  5,  0,\n",
      "          2,  1,  7,  0,  9,  0,  2,  1,  2,  1,  2,  1,  2,  1,  2,  1,  2,  1,\n",
      "          2,  1,  2,  1,  2,  1,  2,  1,  2,  1,  2,  1,  2,  1,  2,  1,  2,  1,\n",
      "          2,  1,  2,  1,  2,  1,  2,  0,  2,  1,  2]]), Start = tensor([[3, 0, 3, 1, 2, 1, 2, 1, 2, 1, 2, 1, 3, 0, 3, 0, 3, 0, 2, 1, 3, 0, 2, 1,\n",
      "         2, 1, 2, 1, 2, 1, 2, 1, 2, 1, 2, 1, 2, 1, 2, 1, 2, 1, 2, 1, 2, 1, 2, 0,\n",
      "         2, 1, 2, 1, 2, 0, 2, 1, 2, 1, 2, 1, 2, 1, 2, 1, 2, 0, 2, 1, 2, 0, 2, 1,\n",
      "         2, 1, 2, 1, 2, 1, 2, 1, 2, 1, 2]])\n",
      "Predicted: 1 True: 1, Predicted with start: 1\n",
      "\n",
      "Tokens = tensor([[ 3,  0,  2,  1,  6,  0,  2,  1, 10,  0,  3,  0,  3,  0,  2,  1, 11,  0,\n",
      "          9,  0,  2,  1,  2,  1,  2,  1,  2,  1,  2,  1,  9,  0,  2,  1,  5,  0,\n",
      "          2,  1,  7,  0,  9,  0,  2,  1,  2,  1,  2,  1,  2,  1,  2,  1,  2,  1,\n",
      "          2,  1,  2,  1,  2,  1,  2,  1,  2,  1,  2,  1,  2,  1,  2,  1,  2,  1,\n",
      "          2,  1,  2,  1,  2,  1,  2,  0,  2,  1,  2,  1]]), Start = tensor([[3, 0, 3, 1, 2, 1, 2, 1, 2, 1, 2, 1, 3, 0, 3, 0, 3, 0, 2, 1, 3, 0, 2, 1,\n",
      "         2, 1, 2, 1, 2, 1, 2, 1, 2, 1, 2, 1, 2, 1, 2, 1, 2, 1, 2, 1, 2, 1, 2, 0,\n",
      "         2, 1, 2, 1, 2, 0, 2, 1, 2, 1, 2, 1, 2, 1, 2, 1, 2, 0, 2, 1, 2, 0, 2, 1,\n",
      "         2, 1, 2, 1, 2, 1, 2, 1, 2, 1, 2, 1]])\n",
      "Predicted: 2 True: 2, Predicted with start: 2\n",
      "\n",
      "Tokens = tensor([[ 3,  0,  2,  1,  6,  0,  2,  1, 10,  0,  3,  0,  3,  0,  2,  1, 11,  0,\n",
      "          9,  0,  2,  1,  2,  1,  2,  1,  2,  1,  2,  1,  9,  0,  2,  1,  5,  0,\n",
      "          2,  1,  7,  0,  9,  0,  2,  1,  2,  1,  2,  1,  2,  1,  2,  1,  2,  1,\n",
      "          2,  1,  2,  1,  2,  1,  2,  1,  2,  1,  2,  1,  2,  1,  2,  1,  2,  1,\n",
      "          2,  1,  2,  1,  2,  1,  2,  0,  2,  1,  2,  1,  2]]), Start = tensor([[3, 0, 3, 1, 2, 1, 2, 1, 2, 1, 2, 1, 3, 0, 3, 0, 3, 0, 2, 1, 3, 0, 2, 1,\n",
      "         2, 1, 2, 1, 2, 1, 2, 1, 2, 1, 2, 1, 2, 1, 2, 1, 2, 1, 2, 1, 2, 1, 2, 0,\n",
      "         2, 1, 2, 1, 2, 0, 2, 1, 2, 1, 2, 1, 2, 1, 2, 1, 2, 0, 2, 1, 2, 0, 2, 1,\n",
      "         2, 1, 2, 1, 2, 1, 2, 1, 2, 1, 2, 1, 2]])\n",
      "Predicted: 1 True: 1, Predicted with start: 1\n",
      "\n",
      "Tokens = tensor([[ 3,  0,  2,  1,  6,  0,  2,  1, 10,  0,  3,  0,  3,  0,  2,  1, 11,  0,\n",
      "          9,  0,  2,  1,  2,  1,  2,  1,  2,  1,  2,  1,  9,  0,  2,  1,  5,  0,\n",
      "          2,  1,  7,  0,  9,  0,  2,  1,  2,  1,  2,  1,  2,  1,  2,  1,  2,  1,\n",
      "          2,  1,  2,  1,  2,  1,  2,  1,  2,  1,  2,  1,  2,  1,  2,  1,  2,  1,\n",
      "          2,  1,  2,  1,  2,  1,  2,  0,  2,  1,  2,  1,  2,  1]]), Start = tensor([[3, 0, 3, 1, 2, 1, 2, 1, 2, 1, 2, 1, 3, 0, 3, 0, 3, 0, 2, 1, 3, 0, 2, 1,\n",
      "         2, 1, 2, 1, 2, 1, 2, 1, 2, 1, 2, 1, 2, 1, 2, 1, 2, 1, 2, 1, 2, 1, 2, 0,\n",
      "         2, 1, 2, 1, 2, 0, 2, 1, 2, 1, 2, 1, 2, 1, 2, 1, 2, 0, 2, 1, 2, 0, 2, 1,\n",
      "         2, 1, 2, 1, 2, 1, 2, 1, 2, 1, 2, 1, 2, 1]])\n",
      "Predicted: 2 True: 2, Predicted with start: 2\n",
      "\n",
      "Tokens = tensor([[ 3,  0,  2,  1,  6,  0,  2,  1, 10,  0,  3,  0,  3,  0,  2,  1, 11,  0,\n",
      "          9,  0,  2,  1,  2,  1,  2,  1,  2,  1,  2,  1,  9,  0,  2,  1,  5,  0,\n",
      "          2,  1,  7,  0,  9,  0,  2,  1,  2,  1,  2,  1,  2,  1,  2,  1,  2,  1,\n",
      "          2,  1,  2,  1,  2,  1,  2,  1,  2,  1,  2,  1,  2,  1,  2,  1,  2,  1,\n",
      "          2,  1,  2,  1,  2,  1,  2,  0,  2,  1,  2,  1,  2,  1,  2]]), Start = tensor([[3, 0, 3, 1, 2, 1, 2, 1, 2, 1, 2, 1, 3, 0, 3, 0, 3, 0, 2, 1, 3, 0, 2, 1,\n",
      "         2, 1, 2, 1, 2, 1, 2, 1, 2, 1, 2, 1, 2, 1, 2, 1, 2, 1, 2, 1, 2, 1, 2, 0,\n",
      "         2, 1, 2, 1, 2, 0, 2, 1, 2, 1, 2, 1, 2, 1, 2, 1, 2, 0, 2, 1, 2, 0, 2, 1,\n",
      "         2, 1, 2, 1, 2, 1, 2, 1, 2, 1, 2, 1, 2, 1, 2]])\n",
      "Predicted: 1 True: 1, Predicted with start: 1\n",
      "\n",
      "Tokens = tensor([[ 3,  0,  2,  1,  6,  0,  2,  1, 10,  0,  3,  0,  3,  0,  2,  1, 11,  0,\n",
      "          9,  0,  2,  1,  2,  1,  2,  1,  2,  1,  2,  1,  9,  0,  2,  1,  5,  0,\n",
      "          2,  1,  7,  0,  9,  0,  2,  1,  2,  1,  2,  1,  2,  1,  2,  1,  2,  1,\n",
      "          2,  1,  2,  1,  2,  1,  2,  1,  2,  1,  2,  1,  2,  1,  2,  1,  2,  1,\n",
      "          2,  1,  2,  1,  2,  1,  2,  0,  2,  1,  2,  1,  2,  1,  2,  1]]), Start = tensor([[3, 0, 3, 1, 2, 1, 2, 1, 2, 1, 2, 1, 3, 0, 3, 0, 3, 0, 2, 1, 3, 0, 2, 1,\n",
      "         2, 1, 2, 1, 2, 1, 2, 1, 2, 1, 2, 1, 2, 1, 2, 1, 2, 1, 2, 1, 2, 1, 2, 0,\n",
      "         2, 1, 2, 1, 2, 0, 2, 1, 2, 1, 2, 1, 2, 1, 2, 1, 2, 0, 2, 1, 2, 0, 2, 1,\n",
      "         2, 1, 2, 1, 2, 1, 2, 1, 2, 1, 2, 1, 2, 1, 2, 1]])\n",
      "Predicted: 2 True: 9, Predicted with start: 2\n",
      "\n",
      "Tokens = tensor([[ 3,  0,  2,  1,  6,  0,  2,  1, 10,  0,  3,  0,  3,  0,  2,  1, 11,  0,\n",
      "          9,  0,  2,  1,  2,  1,  2,  1,  2,  1,  2,  1,  9,  0,  2,  1,  5,  0,\n",
      "          2,  1,  7,  0,  9,  0,  2,  1,  2,  1,  2,  1,  2,  1,  2,  1,  2,  1,\n",
      "          2,  1,  2,  1,  2,  1,  2,  1,  2,  1,  2,  1,  2,  1,  2,  1,  2,  1,\n",
      "          2,  1,  2,  1,  2,  1,  2,  0,  2,  1,  2,  1,  2,  1,  2,  1,  9]]), Start = tensor([[3, 0, 3, 1, 2, 1, 2, 1, 2, 1, 2, 1, 3, 0, 3, 0, 3, 0, 2, 1, 3, 0, 2, 1,\n",
      "         2, 1, 2, 1, 2, 1, 2, 1, 2, 1, 2, 1, 2, 1, 2, 1, 2, 1, 2, 1, 2, 1, 2, 0,\n",
      "         2, 1, 2, 1, 2, 0, 2, 1, 2, 1, 2, 1, 2, 1, 2, 1, 2, 0, 2, 1, 2, 0, 2, 1,\n",
      "         2, 1, 2, 1, 2, 1, 2, 1, 2, 1, 2, 1, 2, 1, 2, 1, 2]])\n",
      "Predicted: 0 True: 0, Predicted with start: 1\n",
      "\n",
      "Tokens = tensor([[ 3,  0,  2,  1,  6,  0,  2,  1, 10,  0,  3,  0,  3,  0,  2,  1, 11,  0,\n",
      "          9,  0,  2,  1,  2,  1,  2,  1,  2,  1,  2,  1,  9,  0,  2,  1,  5,  0,\n",
      "          2,  1,  7,  0,  9,  0,  2,  1,  2,  1,  2,  1,  2,  1,  2,  1,  2,  1,\n",
      "          2,  1,  2,  1,  2,  1,  2,  1,  2,  1,  2,  1,  2,  1,  2,  1,  2,  1,\n",
      "          2,  1,  2,  1,  2,  1,  2,  0,  2,  1,  2,  1,  2,  1,  2,  1,  9,  0]]), Start = tensor([[3, 0, 3, 1, 2, 1, 2, 1, 2, 1, 2, 1, 3, 0, 3, 0, 3, 0, 2, 1, 3, 0, 2, 1,\n",
      "         2, 1, 2, 1, 2, 1, 2, 1, 2, 1, 2, 1, 2, 1, 2, 1, 2, 1, 2, 1, 2, 1, 2, 0,\n",
      "         2, 1, 2, 1, 2, 0, 2, 1, 2, 1, 2, 1, 2, 1, 2, 1, 2, 0, 2, 1, 2, 0, 2, 1,\n",
      "         2, 1, 2, 1, 2, 1, 2, 1, 2, 1, 2, 1, 2, 1, 2, 1, 2, 1]])\n",
      "Predicted: 2 True: 2, Predicted with start: 2\n",
      "\n",
      "Tokens = tensor([[ 3,  0,  2,  1,  6,  0,  2,  1, 10,  0,  3,  0,  3,  0,  2,  1, 11,  0,\n",
      "          9,  0,  2,  1,  2,  1,  2,  1,  2,  1,  2,  1,  9,  0,  2,  1,  5,  0,\n",
      "          2,  1,  7,  0,  9,  0,  2,  1,  2,  1,  2,  1,  2,  1,  2,  1,  2,  1,\n",
      "          2,  1,  2,  1,  2,  1,  2,  1,  2,  1,  2,  1,  2,  1,  2,  1,  2,  1,\n",
      "          2,  1,  2,  1,  2,  1,  2,  0,  2,  1,  2,  1,  2,  1,  2,  1,  9,  0,\n",
      "          2]]), Start = tensor([[3, 0, 3, 1, 2, 1, 2, 1, 2, 1, 2, 1, 3, 0, 3, 0, 3, 0, 2, 1, 3, 0, 2, 1,\n",
      "         2, 1, 2, 1, 2, 1, 2, 1, 2, 1, 2, 1, 2, 1, 2, 1, 2, 1, 2, 1, 2, 1, 2, 0,\n",
      "         2, 1, 2, 1, 2, 0, 2, 1, 2, 1, 2, 1, 2, 1, 2, 1, 2, 0, 2, 1, 2, 0, 2, 1,\n",
      "         2, 1, 2, 1, 2, 1, 2, 1, 2, 1, 2, 1, 2, 1, 2, 1, 2, 1, 2]])\n",
      "Predicted: 1 True: 1, Predicted with start: 1\n",
      "\n",
      "Tokens = tensor([[ 3,  0,  2,  1,  6,  0,  2,  1, 10,  0,  3,  0,  3,  0,  2,  1, 11,  0,\n",
      "          9,  0,  2,  1,  2,  1,  2,  1,  2,  1,  2,  1,  9,  0,  2,  1,  5,  0,\n",
      "          2,  1,  7,  0,  9,  0,  2,  1,  2,  1,  2,  1,  2,  1,  2,  1,  2,  1,\n",
      "          2,  1,  2,  1,  2,  1,  2,  1,  2,  1,  2,  1,  2,  1,  2,  1,  2,  1,\n",
      "          2,  1,  2,  1,  2,  1,  2,  0,  2,  1,  2,  1,  2,  1,  2,  1,  9,  0,\n",
      "          2,  1]]), Start = tensor([[3, 0, 3, 1, 2, 1, 2, 1, 2, 1, 2, 1, 3, 0, 3, 0, 3, 0, 2, 1, 3, 0, 2, 1,\n",
      "         2, 1, 2, 1, 2, 1, 2, 1, 2, 1, 2, 1, 2, 1, 2, 1, 2, 1, 2, 1, 2, 1, 2, 0,\n",
      "         2, 1, 2, 1, 2, 0, 2, 1, 2, 1, 2, 1, 2, 1, 2, 1, 2, 0, 2, 1, 2, 0, 2, 1,\n",
      "         2, 1, 2, 1, 2, 1, 2, 1, 2, 1, 2, 1, 2, 1, 2, 1, 2, 1, 2, 1]])\n",
      "Predicted: 2 True: 2, Predicted with start: 2\n",
      "\n",
      "Tokens = tensor([[ 3,  0,  2,  1,  6,  0,  2,  1, 10,  0,  3,  0,  3,  0,  2,  1, 11,  0,\n",
      "          9,  0,  2,  1,  2,  1,  2,  1,  2,  1,  2,  1,  9,  0,  2,  1,  5,  0,\n",
      "          2,  1,  7,  0,  9,  0,  2,  1,  2,  1,  2,  1,  2,  1,  2,  1,  2,  1,\n",
      "          2,  1,  2,  1,  2,  1,  2,  1,  2,  1,  2,  1,  2,  1,  2,  1,  2,  1,\n",
      "          2,  1,  2,  1,  2,  1,  2,  0,  2,  1,  2,  1,  2,  1,  2,  1,  9,  0,\n",
      "          2,  1,  2]]), Start = tensor([[3, 0, 3, 1, 2, 1, 2, 1, 2, 1, 2, 1, 3, 0, 3, 0, 3, 0, 2, 1, 3, 0, 2, 1,\n",
      "         2, 1, 2, 1, 2, 1, 2, 1, 2, 1, 2, 1, 2, 1, 2, 1, 2, 1, 2, 1, 2, 1, 2, 0,\n",
      "         2, 1, 2, 1, 2, 0, 2, 1, 2, 1, 2, 1, 2, 1, 2, 1, 2, 0, 2, 1, 2, 0, 2, 1,\n",
      "         2, 1, 2, 1, 2, 1, 2, 1, 2, 1, 2, 1, 2, 1, 2, 1, 2, 1, 2, 1, 2]])\n",
      "Predicted: 1 True: 1, Predicted with start: 1\n",
      "\n",
      "Tokens = tensor([[ 3,  0,  2,  1,  6,  0,  2,  1, 10,  0,  3,  0,  3,  0,  2,  1, 11,  0,\n",
      "          9,  0,  2,  1,  2,  1,  2,  1,  2,  1,  2,  1,  9,  0,  2,  1,  5,  0,\n",
      "          2,  1,  7,  0,  9,  0,  2,  1,  2,  1,  2,  1,  2,  1,  2,  1,  2,  1,\n",
      "          2,  1,  2,  1,  2,  1,  2,  1,  2,  1,  2,  1,  2,  1,  2,  1,  2,  1,\n",
      "          2,  1,  2,  1,  2,  1,  2,  0,  2,  1,  2,  1,  2,  1,  2,  1,  9,  0,\n",
      "          2,  1,  2,  1]]), Start = tensor([[3, 0, 3, 1, 2, 1, 2, 1, 2, 1, 2, 1, 3, 0, 3, 0, 3, 0, 2, 1, 3, 0, 2, 1,\n",
      "         2, 1, 2, 1, 2, 1, 2, 1, 2, 1, 2, 1, 2, 1, 2, 1, 2, 1, 2, 1, 2, 1, 2, 0,\n",
      "         2, 1, 2, 1, 2, 0, 2, 1, 2, 1, 2, 1, 2, 1, 2, 1, 2, 0, 2, 1, 2, 0, 2, 1,\n",
      "         2, 1, 2, 1, 2, 1, 2, 1, 2, 1, 2, 1, 2, 1, 2, 1, 2, 1, 2, 1, 2, 1]])\n",
      "Predicted: 2 True: 2, Predicted with start: 2\n",
      "\n",
      "Tokens = tensor([[ 3,  0,  2,  1,  6,  0,  2,  1, 10,  0,  3,  0,  3,  0,  2,  1, 11,  0,\n",
      "          9,  0,  2,  1,  2,  1,  2,  1,  2,  1,  2,  1,  9,  0,  2,  1,  5,  0,\n",
      "          2,  1,  7,  0,  9,  0,  2,  1,  2,  1,  2,  1,  2,  1,  2,  1,  2,  1,\n",
      "          2,  1,  2,  1,  2,  1,  2,  1,  2,  1,  2,  1,  2,  1,  2,  1,  2,  1,\n",
      "          2,  1,  2,  1,  2,  1,  2,  0,  2,  1,  2,  1,  2,  1,  2,  1,  9,  0,\n",
      "          2,  1,  2,  1,  2]]), Start = tensor([[3, 0, 3, 1, 2, 1, 2, 1, 2, 1, 2, 1, 3, 0, 3, 0, 3, 0, 2, 1, 3, 0, 2, 1,\n",
      "         2, 1, 2, 1, 2, 1, 2, 1, 2, 1, 2, 1, 2, 1, 2, 1, 2, 1, 2, 1, 2, 1, 2, 0,\n",
      "         2, 1, 2, 1, 2, 0, 2, 1, 2, 1, 2, 1, 2, 1, 2, 1, 2, 0, 2, 1, 2, 0, 2, 1,\n",
      "         2, 1, 2, 1, 2, 1, 2, 1, 2, 1, 2, 1, 2, 1, 2, 1, 2, 1, 2, 1, 2, 1, 2]])\n",
      "Predicted: 1 True: 1, Predicted with start: 1\n",
      "\n",
      "Tokens = tensor([[ 3,  0,  2,  1,  6,  0,  2,  1, 10,  0,  3,  0,  3,  0,  2,  1, 11,  0,\n",
      "          9,  0,  2,  1,  2,  1,  2,  1,  2,  1,  2,  1,  9,  0,  2,  1,  5,  0,\n",
      "          2,  1,  7,  0,  9,  0,  2,  1,  2,  1,  2,  1,  2,  1,  2,  1,  2,  1,\n",
      "          2,  1,  2,  1,  2,  1,  2,  1,  2,  1,  2,  1,  2,  1,  2,  1,  2,  1,\n",
      "          2,  1,  2,  1,  2,  1,  2,  0,  2,  1,  2,  1,  2,  1,  2,  1,  9,  0,\n",
      "          2,  1,  2,  1,  2,  1]]), Start = tensor([[3, 0, 3, 1, 2, 1, 2, 1, 2, 1, 2, 1, 3, 0, 3, 0, 3, 0, 2, 1, 3, 0, 2, 1,\n",
      "         2, 1, 2, 1, 2, 1, 2, 1, 2, 1, 2, 1, 2, 1, 2, 1, 2, 1, 2, 1, 2, 1, 2, 0,\n",
      "         2, 1, 2, 1, 2, 0, 2, 1, 2, 1, 2, 1, 2, 1, 2, 1, 2, 0, 2, 1, 2, 0, 2, 1,\n",
      "         2, 1, 2, 1, 2, 1, 2, 1, 2, 1, 2, 1, 2, 1, 2, 1, 2, 1, 2, 1, 2, 1, 2, 1]])\n",
      "Predicted: 2 True: 2, Predicted with start: 2\n",
      "\n",
      "Tokens = tensor([[ 3,  0,  2,  1,  6,  0,  2,  1, 10,  0,  3,  0,  3,  0,  2,  1, 11,  0,\n",
      "          9,  0,  2,  1,  2,  1,  2,  1,  2,  1,  2,  1,  9,  0,  2,  1,  5,  0,\n",
      "          2,  1,  7,  0,  9,  0,  2,  1,  2,  1,  2,  1,  2,  1,  2,  1,  2,  1,\n",
      "          2,  1,  2,  1,  2,  1,  2,  1,  2,  1,  2,  1,  2,  1,  2,  1,  2,  1,\n",
      "          2,  1,  2,  1,  2,  1,  2,  0,  2,  1,  2,  1,  2,  1,  2,  1,  9,  0,\n",
      "          2,  1,  2,  1,  2,  1,  2]]), Start = tensor([[3, 0, 3, 1, 2, 1, 2, 1, 2, 1, 2, 1, 3, 0, 3, 0, 3, 0, 2, 1, 3, 0, 2, 1,\n",
      "         2, 1, 2, 1, 2, 1, 2, 1, 2, 1, 2, 1, 2, 1, 2, 1, 2, 1, 2, 1, 2, 1, 2, 0,\n",
      "         2, 1, 2, 1, 2, 0, 2, 1, 2, 1, 2, 1, 2, 1, 2, 1, 2, 0, 2, 1, 2, 0, 2, 1,\n",
      "         2, 1, 2, 1, 2, 1, 2, 1, 2, 1, 2, 1, 2, 1, 2, 1, 2, 1, 2, 1, 2, 1, 2, 1,\n",
      "         2]])\n",
      "Predicted: 1 True: 1, Predicted with start: 1\n",
      "\n",
      "Tokens = tensor([[ 3,  0,  2,  1,  6,  0,  2,  1, 10,  0,  3,  0,  3,  0,  2,  1, 11,  0,\n",
      "          9,  0,  2,  1,  2,  1,  2,  1,  2,  1,  2,  1,  9,  0,  2,  1,  5,  0,\n",
      "          2,  1,  7,  0,  9,  0,  2,  1,  2,  1,  2,  1,  2,  1,  2,  1,  2,  1,\n",
      "          2,  1,  2,  1,  2,  1,  2,  1,  2,  1,  2,  1,  2,  1,  2,  1,  2,  1,\n",
      "          2,  1,  2,  1,  2,  1,  2,  0,  2,  1,  2,  1,  2,  1,  2,  1,  9,  0,\n",
      "          2,  1,  2,  1,  2,  1,  2,  1]]), Start = tensor([[3, 0, 3, 1, 2, 1, 2, 1, 2, 1, 2, 1, 3, 0, 3, 0, 3, 0, 2, 1, 3, 0, 2, 1,\n",
      "         2, 1, 2, 1, 2, 1, 2, 1, 2, 1, 2, 1, 2, 1, 2, 1, 2, 1, 2, 1, 2, 1, 2, 0,\n",
      "         2, 1, 2, 1, 2, 0, 2, 1, 2, 1, 2, 1, 2, 1, 2, 1, 2, 0, 2, 1, 2, 0, 2, 1,\n",
      "         2, 1, 2, 1, 2, 1, 2, 1, 2, 1, 2, 1, 2, 1, 2, 1, 2, 1, 2, 1, 2, 1, 2, 1,\n",
      "         2, 1]])\n",
      "Predicted: 2 True: 11, Predicted with start: 2\n",
      "\n",
      "Tokens = tensor([[ 3,  0,  2,  1,  6,  0,  2,  1, 10,  0,  3,  0,  3,  0,  2,  1, 11,  0,\n",
      "          9,  0,  2,  1,  2,  1,  2,  1,  2,  1,  2,  1,  9,  0,  2,  1,  5,  0,\n",
      "          2,  1,  7,  0,  9,  0,  2,  1,  2,  1,  2,  1,  2,  1,  2,  1,  2,  1,\n",
      "          2,  1,  2,  1,  2,  1,  2,  1,  2,  1,  2,  1,  2,  1,  2,  1,  2,  1,\n",
      "          2,  1,  2,  1,  2,  1,  2,  0,  2,  1,  2,  1,  2,  1,  2,  1,  9,  0,\n",
      "          2,  1,  2,  1,  2,  1,  2,  1, 11]]), Start = tensor([[3, 0, 3, 1, 2, 1, 2, 1, 2, 1, 2, 1, 3, 0, 3, 0, 3, 0, 2, 1, 3, 0, 2, 1,\n",
      "         2, 1, 2, 1, 2, 1, 2, 1, 2, 1, 2, 1, 2, 1, 2, 1, 2, 1, 2, 1, 2, 1, 2, 0,\n",
      "         2, 1, 2, 1, 2, 0, 2, 1, 2, 1, 2, 1, 2, 1, 2, 1, 2, 0, 2, 1, 2, 0, 2, 1,\n",
      "         2, 1, 2, 1, 2, 1, 2, 1, 2, 1, 2, 1, 2, 1, 2, 1, 2, 1, 2, 1, 2, 1, 2, 1,\n",
      "         2, 1, 2]])\n",
      "Predicted: 0 True: 0, Predicted with start: 1\n",
      "\n",
      "Tokens = tensor([[ 3,  0,  2,  1,  6,  0,  2,  1, 10,  0,  3,  0,  3,  0,  2,  1, 11,  0,\n",
      "          9,  0,  2,  1,  2,  1,  2,  1,  2,  1,  2,  1,  9,  0,  2,  1,  5,  0,\n",
      "          2,  1,  7,  0,  9,  0,  2,  1,  2,  1,  2,  1,  2,  1,  2,  1,  2,  1,\n",
      "          2,  1,  2,  1,  2,  1,  2,  1,  2,  1,  2,  1,  2,  1,  2,  1,  2,  1,\n",
      "          2,  1,  2,  1,  2,  1,  2,  0,  2,  1,  2,  1,  2,  1,  2,  1,  9,  0,\n",
      "          2,  1,  2,  1,  2,  1,  2,  1, 11,  0]]), Start = tensor([[3, 0, 3, 1, 2, 1, 2, 1, 2, 1, 2, 1, 3, 0, 3, 0, 3, 0, 2, 1, 3, 0, 2, 1,\n",
      "         2, 1, 2, 1, 2, 1, 2, 1, 2, 1, 2, 1, 2, 1, 2, 1, 2, 1, 2, 1, 2, 1, 2, 0,\n",
      "         2, 1, 2, 1, 2, 0, 2, 1, 2, 1, 2, 1, 2, 1, 2, 1, 2, 0, 2, 1, 2, 0, 2, 1,\n",
      "         2, 1, 2, 1, 2, 1, 2, 1, 2, 1, 2, 1, 2, 1, 2, 1, 2, 1, 2, 1, 2, 1, 2, 1,\n",
      "         2, 1, 2, 1]])\n",
      "Predicted: 2 True: 7, Predicted with start: 2\n",
      "\n",
      "Tokens = tensor([[ 3,  0,  2,  1,  6,  0,  2,  1, 10,  0,  3,  0,  3,  0,  2,  1, 11,  0,\n",
      "          9,  0,  2,  1,  2,  1,  2,  1,  2,  1,  2,  1,  9,  0,  2,  1,  5,  0,\n",
      "          2,  1,  7,  0,  9,  0,  2,  1,  2,  1,  2,  1,  2,  1,  2,  1,  2,  1,\n",
      "          2,  1,  2,  1,  2,  1,  2,  1,  2,  1,  2,  1,  2,  1,  2,  1,  2,  1,\n",
      "          2,  1,  2,  1,  2,  1,  2,  0,  2,  1,  2,  1,  2,  1,  2,  1,  9,  0,\n",
      "          2,  1,  2,  1,  2,  1,  2,  1, 11,  0,  7]]), Start = tensor([[3, 0, 3, 1, 2, 1, 2, 1, 2, 1, 2, 1, 3, 0, 3, 0, 3, 0, 2, 1, 3, 0, 2, 1,\n",
      "         2, 1, 2, 1, 2, 1, 2, 1, 2, 1, 2, 1, 2, 1, 2, 1, 2, 1, 2, 1, 2, 1, 2, 0,\n",
      "         2, 1, 2, 1, 2, 0, 2, 1, 2, 1, 2, 1, 2, 1, 2, 1, 2, 0, 2, 1, 2, 0, 2, 1,\n",
      "         2, 1, 2, 1, 2, 1, 2, 1, 2, 1, 2, 1, 2, 1, 2, 1, 2, 1, 2, 1, 2, 1, 2, 1,\n",
      "         2, 1, 2, 1, 2]])\n",
      "Predicted: 0 True: 0, Predicted with start: 1\n",
      "\n",
      "Tokens = tensor([[ 3,  0,  2,  1,  6,  0,  2,  1, 10,  0,  3,  0,  3,  0,  2,  1, 11,  0,\n",
      "          9,  0,  2,  1,  2,  1,  2,  1,  2,  1,  2,  1,  9,  0,  2,  1,  5,  0,\n",
      "          2,  1,  7,  0,  9,  0,  2,  1,  2,  1,  2,  1,  2,  1,  2,  1,  2,  1,\n",
      "          2,  1,  2,  1,  2,  1,  2,  1,  2,  1,  2,  1,  2,  1,  2,  1,  2,  1,\n",
      "          2,  1,  2,  1,  2,  1,  2,  0,  2,  1,  2,  1,  2,  1,  2,  1,  9,  0,\n",
      "          2,  1,  2,  1,  2,  1,  2,  1, 11,  0,  7,  0]]), Start = tensor([[3, 0, 3, 1, 2, 1, 2, 1, 2, 1, 2, 1, 3, 0, 3, 0, 3, 0, 2, 1, 3, 0, 2, 1,\n",
      "         2, 1, 2, 1, 2, 1, 2, 1, 2, 1, 2, 1, 2, 1, 2, 1, 2, 1, 2, 1, 2, 1, 2, 0,\n",
      "         2, 1, 2, 1, 2, 0, 2, 1, 2, 1, 2, 1, 2, 1, 2, 1, 2, 0, 2, 1, 2, 0, 2, 1,\n",
      "         2, 1, 2, 1, 2, 1, 2, 1, 2, 1, 2, 1, 2, 1, 2, 1, 2, 1, 2, 1, 2, 1, 2, 1,\n",
      "         2, 1, 2, 1, 2, 1]])\n",
      "Predicted: 2 True: 7, Predicted with start: 2\n",
      "\n",
      "Tokens = tensor([[ 3,  0,  2,  1,  6,  0,  2,  1, 10,  0,  3,  0,  3,  0,  2,  1, 11,  0,\n",
      "          9,  0,  2,  1,  2,  1,  2,  1,  2,  1,  2,  1,  9,  0,  2,  1,  5,  0,\n",
      "          2,  1,  7,  0,  9,  0,  2,  1,  2,  1,  2,  1,  2,  1,  2,  1,  2,  1,\n",
      "          2,  1,  2,  1,  2,  1,  2,  1,  2,  1,  2,  1,  2,  1,  2,  1,  2,  1,\n",
      "          2,  1,  2,  1,  2,  1,  2,  0,  2,  1,  2,  1,  2,  1,  2,  1,  9,  0,\n",
      "          2,  1,  2,  1,  2,  1,  2,  1, 11,  0,  7,  0,  7]]), Start = tensor([[3, 0, 3, 1, 2, 1, 2, 1, 2, 1, 2, 1, 3, 0, 3, 0, 3, 0, 2, 1, 3, 0, 2, 1,\n",
      "         2, 1, 2, 1, 2, 1, 2, 1, 2, 1, 2, 1, 2, 1, 2, 1, 2, 1, 2, 1, 2, 1, 2, 0,\n",
      "         2, 1, 2, 1, 2, 0, 2, 1, 2, 1, 2, 1, 2, 1, 2, 1, 2, 0, 2, 1, 2, 0, 2, 1,\n",
      "         2, 1, 2, 1, 2, 1, 2, 1, 2, 1, 2, 1, 2, 1, 2, 1, 2, 1, 2, 1, 2, 1, 2, 1,\n",
      "         2, 1, 2, 1, 2, 1, 2]])\n",
      "Predicted: 0 True: 0, Predicted with start: 1\n",
      "\n",
      "Tokens = tensor([[ 3,  0,  2,  1,  6,  0,  2,  1, 10,  0,  3,  0,  3,  0,  2,  1, 11,  0,\n",
      "          9,  0,  2,  1,  2,  1,  2,  1,  2,  1,  2,  1,  9,  0,  2,  1,  5,  0,\n",
      "          2,  1,  7,  0,  9,  0,  2,  1,  2,  1,  2,  1,  2,  1,  2,  1,  2,  1,\n",
      "          2,  1,  2,  1,  2,  1,  2,  1,  2,  1,  2,  1,  2,  1,  2,  1,  2,  1,\n",
      "          2,  1,  2,  1,  2,  1,  2,  0,  2,  1,  2,  1,  2,  1,  2,  1,  9,  0,\n",
      "          2,  1,  2,  1,  2,  1,  2,  1, 11,  0,  7,  0,  7,  0]]), Start = tensor([[3, 0, 3, 1, 2, 1, 2, 1, 2, 1, 2, 1, 3, 0, 3, 0, 3, 0, 2, 1, 3, 0, 2, 1,\n",
      "         2, 1, 2, 1, 2, 1, 2, 1, 2, 1, 2, 1, 2, 1, 2, 1, 2, 1, 2, 1, 2, 1, 2, 0,\n",
      "         2, 1, 2, 1, 2, 0, 2, 1, 2, 1, 2, 1, 2, 1, 2, 1, 2, 0, 2, 1, 2, 0, 2, 1,\n",
      "         2, 1, 2, 1, 2, 1, 2, 1, 2, 1, 2, 1, 2, 1, 2, 1, 2, 1, 2, 1, 2, 1, 2, 1,\n",
      "         2, 1, 2, 1, 2, 1, 2, 1]])\n",
      "Predicted: 2 True: 10, Predicted with start: 2\n",
      "\n",
      "Tokens = tensor([[ 3,  0,  2,  1,  6,  0,  2,  1, 10,  0,  3,  0,  3,  0,  2,  1, 11,  0,\n",
      "          9,  0,  2,  1,  2,  1,  2,  1,  2,  1,  2,  1,  9,  0,  2,  1,  5,  0,\n",
      "          2,  1,  7,  0,  9,  0,  2,  1,  2,  1,  2,  1,  2,  1,  2,  1,  2,  1,\n",
      "          2,  1,  2,  1,  2,  1,  2,  1,  2,  1,  2,  1,  2,  1,  2,  1,  2,  1,\n",
      "          2,  1,  2,  1,  2,  1,  2,  0,  2,  1,  2,  1,  2,  1,  2,  1,  9,  0,\n",
      "          2,  1,  2,  1,  2,  1,  2,  1, 11,  0,  7,  0,  7,  0, 10]]), Start = tensor([[3, 0, 3, 1, 2, 1, 2, 1, 2, 1, 2, 1, 3, 0, 3, 0, 3, 0, 2, 1, 3, 0, 2, 1,\n",
      "         2, 1, 2, 1, 2, 1, 2, 1, 2, 1, 2, 1, 2, 1, 2, 1, 2, 1, 2, 1, 2, 1, 2, 0,\n",
      "         2, 1, 2, 1, 2, 0, 2, 1, 2, 1, 2, 1, 2, 1, 2, 1, 2, 0, 2, 1, 2, 0, 2, 1,\n",
      "         2, 1, 2, 1, 2, 1, 2, 1, 2, 1, 2, 1, 2, 1, 2, 1, 2, 1, 2, 1, 2, 1, 2, 1,\n",
      "         2, 1, 2, 1, 2, 1, 2, 1, 2]])\n",
      "Predicted: 0 True: 0, Predicted with start: 1\n",
      "\n",
      "Tokens = tensor([[ 3,  0,  2,  1,  6,  0,  2,  1, 10,  0,  3,  0,  3,  0,  2,  1, 11,  0,\n",
      "          9,  0,  2,  1,  2,  1,  2,  1,  2,  1,  2,  1,  9,  0,  2,  1,  5,  0,\n",
      "          2,  1,  7,  0,  9,  0,  2,  1,  2,  1,  2,  1,  2,  1,  2,  1,  2,  1,\n",
      "          2,  1,  2,  1,  2,  1,  2,  1,  2,  1,  2,  1,  2,  1,  2,  1,  2,  1,\n",
      "          2,  1,  2,  1,  2,  1,  2,  0,  2,  1,  2,  1,  2,  1,  2,  1,  9,  0,\n",
      "          2,  1,  2,  1,  2,  1,  2,  1, 11,  0,  7,  0,  7,  0, 10,  0]]), Start = tensor([[3, 0, 3, 1, 2, 1, 2, 1, 2, 1, 2, 1, 3, 0, 3, 0, 3, 0, 2, 1, 3, 0, 2, 1,\n",
      "         2, 1, 2, 1, 2, 1, 2, 1, 2, 1, 2, 1, 2, 1, 2, 1, 2, 1, 2, 1, 2, 1, 2, 0,\n",
      "         2, 1, 2, 1, 2, 0, 2, 1, 2, 1, 2, 1, 2, 1, 2, 1, 2, 0, 2, 1, 2, 0, 2, 1,\n",
      "         2, 1, 2, 1, 2, 1, 2, 1, 2, 1, 2, 1, 2, 1, 2, 1, 2, 1, 2, 1, 2, 1, 2, 1,\n",
      "         2, 1, 2, 1, 2, 1, 2, 1, 2, 1]])\n",
      "Predicted: 2 True: 2, Predicted with start: 2\n",
      "\n",
      "Tokens = tensor([[ 3,  0,  2,  1,  6,  0,  2,  1, 10,  0,  3,  0,  3,  0,  2,  1, 11,  0,\n",
      "          9,  0,  2,  1,  2,  1,  2,  1,  2,  1,  2,  1,  9,  0,  2,  1,  5,  0,\n",
      "          2,  1,  7,  0,  9,  0,  2,  1,  2,  1,  2,  1,  2,  1,  2,  1,  2,  1,\n",
      "          2,  1,  2,  1,  2,  1,  2,  1,  2,  1,  2,  1,  2,  1,  2,  1,  2,  1,\n",
      "          2,  1,  2,  1,  2,  1,  2,  0,  2,  1,  2,  1,  2,  1,  2,  1,  9,  0,\n",
      "          2,  1,  2,  1,  2,  1,  2,  1, 11,  0,  7,  0,  7,  0, 10,  0,  2]]), Start = tensor([[3, 0, 3, 1, 2, 1, 2, 1, 2, 1, 2, 1, 3, 0, 3, 0, 3, 0, 2, 1, 3, 0, 2, 1,\n",
      "         2, 1, 2, 1, 2, 1, 2, 1, 2, 1, 2, 1, 2, 1, 2, 1, 2, 1, 2, 1, 2, 1, 2, 0,\n",
      "         2, 1, 2, 1, 2, 0, 2, 1, 2, 1, 2, 1, 2, 1, 2, 1, 2, 0, 2, 1, 2, 0, 2, 1,\n",
      "         2, 1, 2, 1, 2, 1, 2, 1, 2, 1, 2, 1, 2, 1, 2, 1, 2, 1, 2, 1, 2, 1, 2, 1,\n",
      "         2, 1, 2, 1, 2, 1, 2, 1, 2, 1, 2]])\n",
      "Predicted: 1 True: 1, Predicted with start: 1\n",
      "\n",
      "Tokens = tensor([[ 3,  0,  2,  1,  6,  0,  2,  1, 10,  0,  3,  0,  3,  0,  2,  1, 11,  0,\n",
      "          9,  0,  2,  1,  2,  1,  2,  1,  2,  1,  2,  1,  9,  0,  2,  1,  5,  0,\n",
      "          2,  1,  7,  0,  9,  0,  2,  1,  2,  1,  2,  1,  2,  1,  2,  1,  2,  1,\n",
      "          2,  1,  2,  1,  2,  1,  2,  1,  2,  1,  2,  1,  2,  1,  2,  1,  2,  1,\n",
      "          2,  1,  2,  1,  2,  1,  2,  0,  2,  1,  2,  1,  2,  1,  2,  1,  9,  0,\n",
      "          2,  1,  2,  1,  2,  1,  2,  1, 11,  0,  7,  0,  7,  0, 10,  0,  2,  1]]), Start = tensor([[3, 0, 3, 1, 2, 1, 2, 1, 2, 1, 2, 1, 3, 0, 3, 0, 3, 0, 2, 1, 3, 0, 2, 1,\n",
      "         2, 1, 2, 1, 2, 1, 2, 1, 2, 1, 2, 1, 2, 1, 2, 1, 2, 1, 2, 1, 2, 1, 2, 0,\n",
      "         2, 1, 2, 1, 2, 0, 2, 1, 2, 1, 2, 1, 2, 1, 2, 1, 2, 0, 2, 1, 2, 0, 2, 1,\n",
      "         2, 1, 2, 1, 2, 1, 2, 1, 2, 1, 2, 1, 2, 1, 2, 1, 2, 1, 2, 1, 2, 1, 2, 1,\n",
      "         2, 1, 2, 1, 2, 1, 2, 1, 2, 1, 2, 0]])\n",
      "Predicted: 2 True: 2, Predicted with start: 2\n",
      "\n",
      "Tokens = tensor([[ 3,  0,  2,  1,  6,  0,  2,  1, 10,  0,  3,  0,  3,  0,  2,  1, 11,  0,\n",
      "          9,  0,  2,  1,  2,  1,  2,  1,  2,  1,  2,  1,  9,  0,  2,  1,  5,  0,\n",
      "          2,  1,  7,  0,  9,  0,  2,  1,  2,  1,  2,  1,  2,  1,  2,  1,  2,  1,\n",
      "          2,  1,  2,  1,  2,  1,  2,  1,  2,  1,  2,  1,  2,  1,  2,  1,  2,  1,\n",
      "          2,  1,  2,  1,  2,  1,  2,  0,  2,  1,  2,  1,  2,  1,  2,  1,  9,  0,\n",
      "          2,  1,  2,  1,  2,  1,  2,  1, 11,  0,  7,  0,  7,  0, 10,  0,  2,  1,\n",
      "          2]]), Start = tensor([[3, 0, 3, 1, 2, 1, 2, 1, 2, 1, 2, 1, 3, 0, 3, 0, 3, 0, 2, 1, 3, 0, 2, 1,\n",
      "         2, 1, 2, 1, 2, 1, 2, 1, 2, 1, 2, 1, 2, 1, 2, 1, 2, 1, 2, 1, 2, 1, 2, 0,\n",
      "         2, 1, 2, 1, 2, 0, 2, 1, 2, 1, 2, 1, 2, 1, 2, 1, 2, 0, 2, 1, 2, 0, 2, 1,\n",
      "         2, 1, 2, 1, 2, 1, 2, 1, 2, 1, 2, 1, 2, 1, 2, 1, 2, 1, 2, 1, 2, 1, 2, 1,\n",
      "         2, 1, 2, 1, 2, 1, 2, 1, 2, 1, 2, 0, 2]])\n",
      "Predicted: 1 True: 1, Predicted with start: 1\n",
      "\n",
      "Tokens = tensor([[ 3,  0,  2,  1,  6,  0,  2,  1, 10,  0,  3,  0,  3,  0,  2,  1, 11,  0,\n",
      "          9,  0,  2,  1,  2,  1,  2,  1,  2,  1,  2,  1,  9,  0,  2,  1,  5,  0,\n",
      "          2,  1,  7,  0,  9,  0,  2,  1,  2,  1,  2,  1,  2,  1,  2,  1,  2,  1,\n",
      "          2,  1,  2,  1,  2,  1,  2,  1,  2,  1,  2,  1,  2,  1,  2,  1,  2,  1,\n",
      "          2,  1,  2,  1,  2,  1,  2,  0,  2,  1,  2,  1,  2,  1,  2,  1,  9,  0,\n",
      "          2,  1,  2,  1,  2,  1,  2,  1, 11,  0,  7,  0,  7,  0, 10,  0,  2,  1,\n",
      "          2,  1]]), Start = tensor([[3, 0, 3, 1, 2, 1, 2, 1, 2, 1, 2, 1, 3, 0, 3, 0, 3, 0, 2, 1, 3, 0, 2, 1,\n",
      "         2, 1, 2, 1, 2, 1, 2, 1, 2, 1, 2, 1, 2, 1, 2, 1, 2, 1, 2, 1, 2, 1, 2, 0,\n",
      "         2, 1, 2, 1, 2, 0, 2, 1, 2, 1, 2, 1, 2, 1, 2, 1, 2, 0, 2, 1, 2, 0, 2, 1,\n",
      "         2, 1, 2, 1, 2, 1, 2, 1, 2, 1, 2, 1, 2, 1, 2, 1, 2, 1, 2, 1, 2, 1, 2, 1,\n",
      "         2, 1, 2, 1, 2, 1, 2, 1, 2, 1, 2, 0, 2, 1]])\n",
      "Predicted: 2 True: 7, Predicted with start: 2\n",
      "\n",
      "Tokens = tensor([[ 3,  0,  2,  1,  6,  0,  2,  1, 10,  0,  3,  0,  3,  0,  2,  1, 11,  0,\n",
      "          9,  0,  2,  1,  2,  1,  2,  1,  2,  1,  2,  1,  9,  0,  2,  1,  5,  0,\n",
      "          2,  1,  7,  0,  9,  0,  2,  1,  2,  1,  2,  1,  2,  1,  2,  1,  2,  1,\n",
      "          2,  1,  2,  1,  2,  1,  2,  1,  2,  1,  2,  1,  2,  1,  2,  1,  2,  1,\n",
      "          2,  1,  2,  1,  2,  1,  2,  0,  2,  1,  2,  1,  2,  1,  2,  1,  9,  0,\n",
      "          2,  1,  2,  1,  2,  1,  2,  1, 11,  0,  7,  0,  7,  0, 10,  0,  2,  1,\n",
      "          2,  1,  7]]), Start = tensor([[3, 0, 3, 1, 2, 1, 2, 1, 2, 1, 2, 1, 3, 0, 3, 0, 3, 0, 2, 1, 3, 0, 2, 1,\n",
      "         2, 1, 2, 1, 2, 1, 2, 1, 2, 1, 2, 1, 2, 1, 2, 1, 2, 1, 2, 1, 2, 1, 2, 0,\n",
      "         2, 1, 2, 1, 2, 0, 2, 1, 2, 1, 2, 1, 2, 1, 2, 1, 2, 0, 2, 1, 2, 0, 2, 1,\n",
      "         2, 1, 2, 1, 2, 1, 2, 1, 2, 1, 2, 1, 2, 1, 2, 1, 2, 1, 2, 1, 2, 1, 2, 1,\n",
      "         2, 1, 2, 1, 2, 1, 2, 1, 2, 1, 2, 0, 2, 1, 2]])\n",
      "Predicted: 0 True: 0, Predicted with start: 1\n",
      "\n",
      "Tokens = tensor([[ 3,  0,  2,  1,  6,  0,  2,  1, 10,  0,  3,  0,  3,  0,  2,  1, 11,  0,\n",
      "          9,  0,  2,  1,  2,  1,  2,  1,  2,  1,  2,  1,  9,  0,  2,  1,  5,  0,\n",
      "          2,  1,  7,  0,  9,  0,  2,  1,  2,  1,  2,  1,  2,  1,  2,  1,  2,  1,\n",
      "          2,  1,  2,  1,  2,  1,  2,  1,  2,  1,  2,  1,  2,  1,  2,  1,  2,  1,\n",
      "          2,  1,  2,  1,  2,  1,  2,  0,  2,  1,  2,  1,  2,  1,  2,  1,  9,  0,\n",
      "          2,  1,  2,  1,  2,  1,  2,  1, 11,  0,  7,  0,  7,  0, 10,  0,  2,  1,\n",
      "          2,  1,  7,  0]]), Start = tensor([[3, 0, 3, 1, 2, 1, 2, 1, 2, 1, 2, 1, 3, 0, 3, 0, 3, 0, 2, 1, 3, 0, 2, 1,\n",
      "         2, 1, 2, 1, 2, 1, 2, 1, 2, 1, 2, 1, 2, 1, 2, 1, 2, 1, 2, 1, 2, 1, 2, 0,\n",
      "         2, 1, 2, 1, 2, 0, 2, 1, 2, 1, 2, 1, 2, 1, 2, 1, 2, 0, 2, 1, 2, 0, 2, 1,\n",
      "         2, 1, 2, 1, 2, 1, 2, 1, 2, 1, 2, 1, 2, 1, 2, 1, 2, 1, 2, 1, 2, 1, 2, 1,\n",
      "         2, 1, 2, 1, 2, 1, 2, 1, 2, 1, 2, 0, 2, 1, 2, 1]])\n",
      "Predicted: 2 True: 2, Predicted with start: 2\n",
      "\n",
      "Tokens = tensor([[ 3,  0,  2,  1,  6,  0,  2,  1, 10,  0,  3,  0,  3,  0,  2,  1, 11,  0,\n",
      "          9,  0,  2,  1,  2,  1,  2,  1,  2,  1,  2,  1,  9,  0,  2,  1,  5,  0,\n",
      "          2,  1,  7,  0,  9,  0,  2,  1,  2,  1,  2,  1,  2,  1,  2,  1,  2,  1,\n",
      "          2,  1,  2,  1,  2,  1,  2,  1,  2,  1,  2,  1,  2,  1,  2,  1,  2,  1,\n",
      "          2,  1,  2,  1,  2,  1,  2,  0,  2,  1,  2,  1,  2,  1,  2,  1,  9,  0,\n",
      "          2,  1,  2,  1,  2,  1,  2,  1, 11,  0,  7,  0,  7,  0, 10,  0,  2,  1,\n",
      "          2,  1,  7,  0,  2]]), Start = tensor([[3, 0, 3, 1, 2, 1, 2, 1, 2, 1, 2, 1, 3, 0, 3, 0, 3, 0, 2, 1, 3, 0, 2, 1,\n",
      "         2, 1, 2, 1, 2, 1, 2, 1, 2, 1, 2, 1, 2, 1, 2, 1, 2, 1, 2, 1, 2, 1, 2, 0,\n",
      "         2, 1, 2, 1, 2, 0, 2, 1, 2, 1, 2, 1, 2, 1, 2, 1, 2, 0, 2, 1, 2, 0, 2, 1,\n",
      "         2, 1, 2, 1, 2, 1, 2, 1, 2, 1, 2, 1, 2, 1, 2, 1, 2, 1, 2, 1, 2, 1, 2, 1,\n",
      "         2, 1, 2, 1, 2, 1, 2, 1, 2, 1, 2, 0, 2, 1, 2, 1, 2]])\n",
      "Predicted: 1 True: 1, Predicted with start: 1\n",
      "\n",
      "Tokens = tensor([[ 3,  0,  2,  1,  6,  0,  2,  1, 10,  0,  3,  0,  3,  0,  2,  1, 11,  0,\n",
      "          9,  0,  2,  1,  2,  1,  2,  1,  2,  1,  2,  1,  9,  0,  2,  1,  5,  0,\n",
      "          2,  1,  7,  0,  9,  0,  2,  1,  2,  1,  2,  1,  2,  1,  2,  1,  2,  1,\n",
      "          2,  1,  2,  1,  2,  1,  2,  1,  2,  1,  2,  1,  2,  1,  2,  1,  2,  1,\n",
      "          2,  1,  2,  1,  2,  1,  2,  0,  2,  1,  2,  1,  2,  1,  2,  1,  9,  0,\n",
      "          2,  1,  2,  1,  2,  1,  2,  1, 11,  0,  7,  0,  7,  0, 10,  0,  2,  1,\n",
      "          2,  1,  7,  0,  2,  1]]), Start = tensor([[3, 0, 3, 1, 2, 1, 2, 1, 2, 1, 2, 1, 3, 0, 3, 0, 3, 0, 2, 1, 3, 0, 2, 1,\n",
      "         2, 1, 2, 1, 2, 1, 2, 1, 2, 1, 2, 1, 2, 1, 2, 1, 2, 1, 2, 1, 2, 1, 2, 0,\n",
      "         2, 1, 2, 1, 2, 0, 2, 1, 2, 1, 2, 1, 2, 1, 2, 1, 2, 0, 2, 1, 2, 0, 2, 1,\n",
      "         2, 1, 2, 1, 2, 1, 2, 1, 2, 1, 2, 1, 2, 1, 2, 1, 2, 1, 2, 1, 2, 1, 2, 1,\n",
      "         2, 1, 2, 1, 2, 1, 2, 1, 2, 1, 2, 0, 2, 1, 2, 1, 2, 1]])\n",
      "Predicted: 2 True: 2, Predicted with start: 2\n",
      "\n",
      "Tokens = tensor([[ 3,  0,  2,  1,  6,  0,  2,  1, 10,  0,  3,  0,  3,  0,  2,  1, 11,  0,\n",
      "          9,  0,  2,  1,  2,  1,  2,  1,  2,  1,  2,  1,  9,  0,  2,  1,  5,  0,\n",
      "          2,  1,  7,  0,  9,  0,  2,  1,  2,  1,  2,  1,  2,  1,  2,  1,  2,  1,\n",
      "          2,  1,  2,  1,  2,  1,  2,  1,  2,  1,  2,  1,  2,  1,  2,  1,  2,  1,\n",
      "          2,  1,  2,  1,  2,  1,  2,  0,  2,  1,  2,  1,  2,  1,  2,  1,  9,  0,\n",
      "          2,  1,  2,  1,  2,  1,  2,  1, 11,  0,  7,  0,  7,  0, 10,  0,  2,  1,\n",
      "          2,  1,  7,  0,  2,  1,  2]]), Start = tensor([[3, 0, 3, 1, 2, 1, 2, 1, 2, 1, 2, 1, 3, 0, 3, 0, 3, 0, 2, 1, 3, 0, 2, 1,\n",
      "         2, 1, 2, 1, 2, 1, 2, 1, 2, 1, 2, 1, 2, 1, 2, 1, 2, 1, 2, 1, 2, 1, 2, 0,\n",
      "         2, 1, 2, 1, 2, 0, 2, 1, 2, 1, 2, 1, 2, 1, 2, 1, 2, 0, 2, 1, 2, 0, 2, 1,\n",
      "         2, 1, 2, 1, 2, 1, 2, 1, 2, 1, 2, 1, 2, 1, 2, 1, 2, 1, 2, 1, 2, 1, 2, 1,\n",
      "         2, 1, 2, 1, 2, 1, 2, 1, 2, 1, 2, 0, 2, 1, 2, 1, 2, 1, 2]])\n",
      "Predicted: 1 True: 1, Predicted with start: 1\n",
      "\n",
      "Tokens = tensor([[ 3,  0,  2,  1,  6,  0,  2,  1, 10,  0,  3,  0,  3,  0,  2,  1, 11,  0,\n",
      "          9,  0,  2,  1,  2,  1,  2,  1,  2,  1,  2,  1,  9,  0,  2,  1,  5,  0,\n",
      "          2,  1,  7,  0,  9,  0,  2,  1,  2,  1,  2,  1,  2,  1,  2,  1,  2,  1,\n",
      "          2,  1,  2,  1,  2,  1,  2,  1,  2,  1,  2,  1,  2,  1,  2,  1,  2,  1,\n",
      "          2,  1,  2,  1,  2,  1,  2,  0,  2,  1,  2,  1,  2,  1,  2,  1,  9,  0,\n",
      "          2,  1,  2,  1,  2,  1,  2,  1, 11,  0,  7,  0,  7,  0, 10,  0,  2,  1,\n",
      "          2,  1,  7,  0,  2,  1,  2,  1]]), Start = tensor([[3, 0, 3, 1, 2, 1, 2, 1, 2, 1, 2, 1, 3, 0, 3, 0, 3, 0, 2, 1, 3, 0, 2, 1,\n",
      "         2, 1, 2, 1, 2, 1, 2, 1, 2, 1, 2, 1, 2, 1, 2, 1, 2, 1, 2, 1, 2, 1, 2, 0,\n",
      "         2, 1, 2, 1, 2, 0, 2, 1, 2, 1, 2, 1, 2, 1, 2, 1, 2, 0, 2, 1, 2, 0, 2, 1,\n",
      "         2, 1, 2, 1, 2, 1, 2, 1, 2, 1, 2, 1, 2, 1, 2, 1, 2, 1, 2, 1, 2, 1, 2, 1,\n",
      "         2, 1, 2, 1, 2, 1, 2, 1, 2, 1, 2, 0, 2, 1, 2, 1, 2, 1, 2, 1]])\n",
      "Predicted: 2 True: 2, Predicted with start: 2\n",
      "\n",
      "Tokens = tensor([[ 3,  0,  2,  1,  6,  0,  2,  1, 10,  0,  3,  0,  3,  0,  2,  1, 11,  0,\n",
      "          9,  0,  2,  1,  2,  1,  2,  1,  2,  1,  2,  1,  9,  0,  2,  1,  5,  0,\n",
      "          2,  1,  7,  0,  9,  0,  2,  1,  2,  1,  2,  1,  2,  1,  2,  1,  2,  1,\n",
      "          2,  1,  2,  1,  2,  1,  2,  1,  2,  1,  2,  1,  2,  1,  2,  1,  2,  1,\n",
      "          2,  1,  2,  1,  2,  1,  2,  0,  2,  1,  2,  1,  2,  1,  2,  1,  9,  0,\n",
      "          2,  1,  2,  1,  2,  1,  2,  1, 11,  0,  7,  0,  7,  0, 10,  0,  2,  1,\n",
      "          2,  1,  7,  0,  2,  1,  2,  1,  2]]), Start = tensor([[3, 0, 3, 1, 2, 1, 2, 1, 2, 1, 2, 1, 3, 0, 3, 0, 3, 0, 2, 1, 3, 0, 2, 1,\n",
      "         2, 1, 2, 1, 2, 1, 2, 1, 2, 1, 2, 1, 2, 1, 2, 1, 2, 1, 2, 1, 2, 1, 2, 0,\n",
      "         2, 1, 2, 1, 2, 0, 2, 1, 2, 1, 2, 1, 2, 1, 2, 1, 2, 0, 2, 1, 2, 0, 2, 1,\n",
      "         2, 1, 2, 1, 2, 1, 2, 1, 2, 1, 2, 1, 2, 1, 2, 1, 2, 1, 2, 1, 2, 1, 2, 1,\n",
      "         2, 1, 2, 1, 2, 1, 2, 1, 2, 1, 2, 0, 2, 1, 2, 1, 2, 1, 2, 1, 2]])\n",
      "Predicted: 1 True: 1, Predicted with start: 1\n",
      "\n",
      "Tokens = tensor([[ 3,  0,  2,  1,  6,  0,  2,  1, 10,  0,  3,  0,  3,  0,  2,  1, 11,  0,\n",
      "          9,  0,  2,  1,  2,  1,  2,  1,  2,  1,  2,  1,  9,  0,  2,  1,  5,  0,\n",
      "          2,  1,  7,  0,  9,  0,  2,  1,  2,  1,  2,  1,  2,  1,  2,  1,  2,  1,\n",
      "          2,  1,  2,  1,  2,  1,  2,  1,  2,  1,  2,  1,  2,  1,  2,  1,  2,  1,\n",
      "          2,  1,  2,  1,  2,  1,  2,  0,  2,  1,  2,  1,  2,  1,  2,  1,  9,  0,\n",
      "          2,  1,  2,  1,  2,  1,  2,  1, 11,  0,  7,  0,  7,  0, 10,  0,  2,  1,\n",
      "          2,  1,  7,  0,  2,  1,  2,  1,  2,  1]]), Start = tensor([[3, 0, 3, 1, 2, 1, 2, 1, 2, 1, 2, 1, 3, 0, 3, 0, 3, 0, 2, 1, 3, 0, 2, 1,\n",
      "         2, 1, 2, 1, 2, 1, 2, 1, 2, 1, 2, 1, 2, 1, 2, 1, 2, 1, 2, 1, 2, 1, 2, 0,\n",
      "         2, 1, 2, 1, 2, 0, 2, 1, 2, 1, 2, 1, 2, 1, 2, 1, 2, 0, 2, 1, 2, 0, 2, 1,\n",
      "         2, 1, 2, 1, 2, 1, 2, 1, 2, 1, 2, 1, 2, 1, 2, 1, 2, 1, 2, 1, 2, 1, 2, 1,\n",
      "         2, 1, 2, 1, 2, 1, 2, 1, 2, 1, 2, 0, 2, 1, 2, 1, 2, 1, 2, 1, 2, 1]])\n",
      "Predicted: 2 True: 2, Predicted with start: 2\n",
      "\n",
      "Tokens = tensor([[ 3,  0,  2,  1,  6,  0,  2,  1, 10,  0,  3,  0,  3,  0,  2,  1, 11,  0,\n",
      "          9,  0,  2,  1,  2,  1,  2,  1,  2,  1,  2,  1,  9,  0,  2,  1,  5,  0,\n",
      "          2,  1,  7,  0,  9,  0,  2,  1,  2,  1,  2,  1,  2,  1,  2,  1,  2,  1,\n",
      "          2,  1,  2,  1,  2,  1,  2,  1,  2,  1,  2,  1,  2,  1,  2,  1,  2,  1,\n",
      "          2,  1,  2,  1,  2,  1,  2,  0,  2,  1,  2,  1,  2,  1,  2,  1,  9,  0,\n",
      "          2,  1,  2,  1,  2,  1,  2,  1, 11,  0,  7,  0,  7,  0, 10,  0,  2,  1,\n",
      "          2,  1,  7,  0,  2,  1,  2,  1,  2,  1,  2]]), Start = tensor([[3, 0, 3, 1, 2, 1, 2, 1, 2, 1, 2, 1, 3, 0, 3, 0, 3, 0, 2, 1, 3, 0, 2, 1,\n",
      "         2, 1, 2, 1, 2, 1, 2, 1, 2, 1, 2, 1, 2, 1, 2, 1, 2, 1, 2, 1, 2, 1, 2, 0,\n",
      "         2, 1, 2, 1, 2, 0, 2, 1, 2, 1, 2, 1, 2, 1, 2, 1, 2, 0, 2, 1, 2, 0, 2, 1,\n",
      "         2, 1, 2, 1, 2, 1, 2, 1, 2, 1, 2, 1, 2, 1, 2, 1, 2, 1, 2, 1, 2, 1, 2, 1,\n",
      "         2, 1, 2, 1, 2, 1, 2, 1, 2, 1, 2, 0, 2, 1, 2, 1, 2, 1, 2, 1, 2, 1, 2]])\n",
      "Predicted: 1 True: 1, Predicted with start: 1\n",
      "\n",
      "Tokens = tensor([[ 3,  0,  2,  1,  6,  0,  2,  1, 10,  0,  3,  0,  3,  0,  2,  1, 11,  0,\n",
      "          9,  0,  2,  1,  2,  1,  2,  1,  2,  1,  2,  1,  9,  0,  2,  1,  5,  0,\n",
      "          2,  1,  7,  0,  9,  0,  2,  1,  2,  1,  2,  1,  2,  1,  2,  1,  2,  1,\n",
      "          2,  1,  2,  1,  2,  1,  2,  1,  2,  1,  2,  1,  2,  1,  2,  1,  2,  1,\n",
      "          2,  1,  2,  1,  2,  1,  2,  0,  2,  1,  2,  1,  2,  1,  2,  1,  9,  0,\n",
      "          2,  1,  2,  1,  2,  1,  2,  1, 11,  0,  7,  0,  7,  0, 10,  0,  2,  1,\n",
      "          2,  1,  7,  0,  2,  1,  2,  1,  2,  1,  2,  1]]), Start = tensor([[3, 0, 3, 1, 2, 1, 2, 1, 2, 1, 2, 1, 3, 0, 3, 0, 3, 0, 2, 1, 3, 0, 2, 1,\n",
      "         2, 1, 2, 1, 2, 1, 2, 1, 2, 1, 2, 1, 2, 1, 2, 1, 2, 1, 2, 1, 2, 1, 2, 0,\n",
      "         2, 1, 2, 1, 2, 0, 2, 1, 2, 1, 2, 1, 2, 1, 2, 1, 2, 0, 2, 1, 2, 0, 2, 1,\n",
      "         2, 1, 2, 1, 2, 1, 2, 1, 2, 1, 2, 1, 2, 1, 2, 1, 2, 1, 2, 1, 2, 1, 2, 1,\n",
      "         2, 1, 2, 1, 2, 1, 2, 1, 2, 1, 2, 0, 2, 1, 2, 1, 2, 1, 2, 1, 2, 1, 2, 1]])\n",
      "Predicted: 2 True: 2, Predicted with start: 2\n",
      "\n",
      "Tokens = tensor([[ 3,  0,  2,  1,  6,  0,  2,  1, 10,  0,  3,  0,  3,  0,  2,  1, 11,  0,\n",
      "          9,  0,  2,  1,  2,  1,  2,  1,  2,  1,  2,  1,  9,  0,  2,  1,  5,  0,\n",
      "          2,  1,  7,  0,  9,  0,  2,  1,  2,  1,  2,  1,  2,  1,  2,  1,  2,  1,\n",
      "          2,  1,  2,  1,  2,  1,  2,  1,  2,  1,  2,  1,  2,  1,  2,  1,  2,  1,\n",
      "          2,  1,  2,  1,  2,  1,  2,  0,  2,  1,  2,  1,  2,  1,  2,  1,  9,  0,\n",
      "          2,  1,  2,  1,  2,  1,  2,  1, 11,  0,  7,  0,  7,  0, 10,  0,  2,  1,\n",
      "          2,  1,  7,  0,  2,  1,  2,  1,  2,  1,  2,  1,  2]]), Start = tensor([[3, 0, 3, 1, 2, 1, 2, 1, 2, 1, 2, 1, 3, 0, 3, 0, 3, 0, 2, 1, 3, 0, 2, 1,\n",
      "         2, 1, 2, 1, 2, 1, 2, 1, 2, 1, 2, 1, 2, 1, 2, 1, 2, 1, 2, 1, 2, 1, 2, 0,\n",
      "         2, 1, 2, 1, 2, 0, 2, 1, 2, 1, 2, 1, 2, 1, 2, 1, 2, 0, 2, 1, 2, 0, 2, 1,\n",
      "         2, 1, 2, 1, 2, 1, 2, 1, 2, 1, 2, 1, 2, 1, 2, 1, 2, 1, 2, 1, 2, 1, 2, 1,\n",
      "         2, 1, 2, 1, 2, 1, 2, 1, 2, 1, 2, 0, 2, 1, 2, 1, 2, 1, 2, 1, 2, 1, 2, 1,\n",
      "         2]])\n",
      "Predicted: 1 True: 0, Predicted with start: 1\n",
      "\n",
      "Tokens = tensor([[ 3,  0,  2,  1,  6,  0,  2,  1, 10,  0,  3,  0,  3,  0,  2,  1, 11,  0,\n",
      "          9,  0,  2,  1,  2,  1,  2,  1,  2,  1,  2,  1,  9,  0,  2,  1,  5,  0,\n",
      "          2,  1,  7,  0,  9,  0,  2,  1,  2,  1,  2,  1,  2,  1,  2,  1,  2,  1,\n",
      "          2,  1,  2,  1,  2,  1,  2,  1,  2,  1,  2,  1,  2,  1,  2,  1,  2,  1,\n",
      "          2,  1,  2,  1,  2,  1,  2,  0,  2,  1,  2,  1,  2,  1,  2,  1,  9,  0,\n",
      "          2,  1,  2,  1,  2,  1,  2,  1, 11,  0,  7,  0,  7,  0, 10,  0,  2,  1,\n",
      "          2,  1,  7,  0,  2,  1,  2,  1,  2,  1,  2,  1,  2,  0]]), Start = tensor([[3, 0, 3, 1, 2, 1, 2, 1, 2, 1, 2, 1, 3, 0, 3, 0, 3, 0, 2, 1, 3, 0, 2, 1,\n",
      "         2, 1, 2, 1, 2, 1, 2, 1, 2, 1, 2, 1, 2, 1, 2, 1, 2, 1, 2, 1, 2, 1, 2, 0,\n",
      "         2, 1, 2, 1, 2, 0, 2, 1, 2, 1, 2, 1, 2, 1, 2, 1, 2, 0, 2, 1, 2, 0, 2, 1,\n",
      "         2, 1, 2, 1, 2, 1, 2, 1, 2, 1, 2, 1, 2, 1, 2, 1, 2, 1, 2, 1, 2, 1, 2, 1,\n",
      "         2, 1, 2, 1, 2, 1, 2, 1, 2, 1, 2, 0, 2, 1, 2, 1, 2, 1, 2, 1, 2, 1, 2, 1,\n",
      "         2, 1]])\n",
      "Predicted: 2 True: 2, Predicted with start: 2\n",
      "\n",
      "Tokens = tensor([[ 3,  0,  2,  1,  6,  0,  2,  1, 10,  0,  3,  0,  3,  0,  2,  1, 11,  0,\n",
      "          9,  0,  2,  1,  2,  1,  2,  1,  2,  1,  2,  1,  9,  0,  2,  1,  5,  0,\n",
      "          2,  1,  7,  0,  9,  0,  2,  1,  2,  1,  2,  1,  2,  1,  2,  1,  2,  1,\n",
      "          2,  1,  2,  1,  2,  1,  2,  1,  2,  1,  2,  1,  2,  1,  2,  1,  2,  1,\n",
      "          2,  1,  2,  1,  2,  1,  2,  0,  2,  1,  2,  1,  2,  1,  2,  1,  9,  0,\n",
      "          2,  1,  2,  1,  2,  1,  2,  1, 11,  0,  7,  0,  7,  0, 10,  0,  2,  1,\n",
      "          2,  1,  7,  0,  2,  1,  2,  1,  2,  1,  2,  1,  2,  0,  2]]), Start = tensor([[3, 0, 3, 1, 2, 1, 2, 1, 2, 1, 2, 1, 3, 0, 3, 0, 3, 0, 2, 1, 3, 0, 2, 1,\n",
      "         2, 1, 2, 1, 2, 1, 2, 1, 2, 1, 2, 1, 2, 1, 2, 1, 2, 1, 2, 1, 2, 1, 2, 0,\n",
      "         2, 1, 2, 1, 2, 0, 2, 1, 2, 1, 2, 1, 2, 1, 2, 1, 2, 0, 2, 1, 2, 0, 2, 1,\n",
      "         2, 1, 2, 1, 2, 1, 2, 1, 2, 1, 2, 1, 2, 1, 2, 1, 2, 1, 2, 1, 2, 1, 2, 1,\n",
      "         2, 1, 2, 1, 2, 1, 2, 1, 2, 1, 2, 0, 2, 1, 2, 1, 2, 1, 2, 1, 2, 1, 2, 1,\n",
      "         2, 1, 2]])\n",
      "Predicted: 1 True: 1, Predicted with start: 1\n",
      "\n",
      "Tokens = tensor([[ 3,  0,  2,  1,  6,  0,  2,  1, 10,  0,  3,  0,  3,  0,  2,  1, 11,  0,\n",
      "          9,  0,  2,  1,  2,  1,  2,  1,  2,  1,  2,  1,  9,  0,  2,  1,  5,  0,\n",
      "          2,  1,  7,  0,  9,  0,  2,  1,  2,  1,  2,  1,  2,  1,  2,  1,  2,  1,\n",
      "          2,  1,  2,  1,  2,  1,  2,  1,  2,  1,  2,  1,  2,  1,  2,  1,  2,  1,\n",
      "          2,  1,  2,  1,  2,  1,  2,  0,  2,  1,  2,  1,  2,  1,  2,  1,  9,  0,\n",
      "          2,  1,  2,  1,  2,  1,  2,  1, 11,  0,  7,  0,  7,  0, 10,  0,  2,  1,\n",
      "          2,  1,  7,  0,  2,  1,  2,  1,  2,  1,  2,  1,  2,  0,  2,  1]]), Start = tensor([[3, 0, 3, 1, 2, 1, 2, 1, 2, 1, 2, 1, 3, 0, 3, 0, 3, 0, 2, 1, 3, 0, 2, 1,\n",
      "         2, 1, 2, 1, 2, 1, 2, 1, 2, 1, 2, 1, 2, 1, 2, 1, 2, 1, 2, 1, 2, 1, 2, 0,\n",
      "         2, 1, 2, 1, 2, 0, 2, 1, 2, 1, 2, 1, 2, 1, 2, 1, 2, 0, 2, 1, 2, 0, 2, 1,\n",
      "         2, 1, 2, 1, 2, 1, 2, 1, 2, 1, 2, 1, 2, 1, 2, 1, 2, 1, 2, 1, 2, 1, 2, 1,\n",
      "         2, 1, 2, 1, 2, 1, 2, 1, 2, 1, 2, 0, 2, 1, 2, 1, 2, 1, 2, 1, 2, 1, 2, 1,\n",
      "         2, 1, 2, 1]])\n",
      "Predicted: 2 True: 2, Predicted with start: 2\n",
      "\n",
      "Tokens = tensor([[ 3,  0,  2,  1,  6,  0,  2,  1, 10,  0,  3,  0,  3,  0,  2,  1, 11,  0,\n",
      "          9,  0,  2,  1,  2,  1,  2,  1,  2,  1,  2,  1,  9,  0,  2,  1,  5,  0,\n",
      "          2,  1,  7,  0,  9,  0,  2,  1,  2,  1,  2,  1,  2,  1,  2,  1,  2,  1,\n",
      "          2,  1,  2,  1,  2,  1,  2,  1,  2,  1,  2,  1,  2,  1,  2,  1,  2,  1,\n",
      "          2,  1,  2,  1,  2,  1,  2,  0,  2,  1,  2,  1,  2,  1,  2,  1,  9,  0,\n",
      "          2,  1,  2,  1,  2,  1,  2,  1, 11,  0,  7,  0,  7,  0, 10,  0,  2,  1,\n",
      "          2,  1,  7,  0,  2,  1,  2,  1,  2,  1,  2,  1,  2,  0,  2,  1,  2]]), Start = tensor([[3, 0, 3, 1, 2, 1, 2, 1, 2, 1, 2, 1, 3, 0, 3, 0, 3, 0, 2, 1, 3, 0, 2, 1,\n",
      "         2, 1, 2, 1, 2, 1, 2, 1, 2, 1, 2, 1, 2, 1, 2, 1, 2, 1, 2, 1, 2, 1, 2, 0,\n",
      "         2, 1, 2, 1, 2, 0, 2, 1, 2, 1, 2, 1, 2, 1, 2, 1, 2, 0, 2, 1, 2, 0, 2, 1,\n",
      "         2, 1, 2, 1, 2, 1, 2, 1, 2, 1, 2, 1, 2, 1, 2, 1, 2, 1, 2, 1, 2, 1, 2, 1,\n",
      "         2, 1, 2, 1, 2, 1, 2, 1, 2, 1, 2, 0, 2, 1, 2, 1, 2, 1, 2, 1, 2, 1, 2, 1,\n",
      "         2, 1, 2, 1, 2]])\n",
      "Predicted: 1 True: 0, Predicted with start: 1\n",
      "\n",
      "Tokens = tensor([[ 3,  0,  2,  1,  6,  0,  2,  1, 10,  0,  3,  0,  3,  0,  2,  1, 11,  0,\n",
      "          9,  0,  2,  1,  2,  1,  2,  1,  2,  1,  2,  1,  9,  0,  2,  1,  5,  0,\n",
      "          2,  1,  7,  0,  9,  0,  2,  1,  2,  1,  2,  1,  2,  1,  2,  1,  2,  1,\n",
      "          2,  1,  2,  1,  2,  1,  2,  1,  2,  1,  2,  1,  2,  1,  2,  1,  2,  1,\n",
      "          2,  1,  2,  1,  2,  1,  2,  0,  2,  1,  2,  1,  2,  1,  2,  1,  9,  0,\n",
      "          2,  1,  2,  1,  2,  1,  2,  1, 11,  0,  7,  0,  7,  0, 10,  0,  2,  1,\n",
      "          2,  1,  7,  0,  2,  1,  2,  1,  2,  1,  2,  1,  2,  0,  2,  1,  2,  0]]), Start = tensor([[3, 0, 3, 1, 2, 1, 2, 1, 2, 1, 2, 1, 3, 0, 3, 0, 3, 0, 2, 1, 3, 0, 2, 1,\n",
      "         2, 1, 2, 1, 2, 1, 2, 1, 2, 1, 2, 1, 2, 1, 2, 1, 2, 1, 2, 1, 2, 1, 2, 0,\n",
      "         2, 1, 2, 1, 2, 0, 2, 1, 2, 1, 2, 1, 2, 1, 2, 1, 2, 0, 2, 1, 2, 0, 2, 1,\n",
      "         2, 1, 2, 1, 2, 1, 2, 1, 2, 1, 2, 1, 2, 1, 2, 1, 2, 1, 2, 1, 2, 1, 2, 1,\n",
      "         2, 1, 2, 1, 2, 1, 2, 1, 2, 1, 2, 0, 2, 1, 2, 1, 2, 1, 2, 1, 2, 1, 2, 1,\n",
      "         2, 1, 2, 1, 2, 1]])\n",
      "Predicted: 2 True: 2, Predicted with start: 2\n",
      "\n",
      "Tokens = tensor([[ 3,  0,  2,  1,  6,  0,  2,  1, 10,  0,  3,  0,  3,  0,  2,  1, 11,  0,\n",
      "          9,  0,  2,  1,  2,  1,  2,  1,  2,  1,  2,  1,  9,  0,  2,  1,  5,  0,\n",
      "          2,  1,  7,  0,  9,  0,  2,  1,  2,  1,  2,  1,  2,  1,  2,  1,  2,  1,\n",
      "          2,  1,  2,  1,  2,  1,  2,  1,  2,  1,  2,  1,  2,  1,  2,  1,  2,  1,\n",
      "          2,  1,  2,  1,  2,  1,  2,  0,  2,  1,  2,  1,  2,  1,  2,  1,  9,  0,\n",
      "          2,  1,  2,  1,  2,  1,  2,  1, 11,  0,  7,  0,  7,  0, 10,  0,  2,  1,\n",
      "          2,  1,  7,  0,  2,  1,  2,  1,  2,  1,  2,  1,  2,  0,  2,  1,  2,  0,\n",
      "          2]]), Start = tensor([[3, 0, 3, 1, 2, 1, 2, 1, 2, 1, 2, 1, 3, 0, 3, 0, 3, 0, 2, 1, 3, 0, 2, 1,\n",
      "         2, 1, 2, 1, 2, 1, 2, 1, 2, 1, 2, 1, 2, 1, 2, 1, 2, 1, 2, 1, 2, 1, 2, 0,\n",
      "         2, 1, 2, 1, 2, 0, 2, 1, 2, 1, 2, 1, 2, 1, 2, 1, 2, 0, 2, 1, 2, 0, 2, 1,\n",
      "         2, 1, 2, 1, 2, 1, 2, 1, 2, 1, 2, 1, 2, 1, 2, 1, 2, 1, 2, 1, 2, 1, 2, 1,\n",
      "         2, 1, 2, 1, 2, 1, 2, 1, 2, 1, 2, 0, 2, 1, 2, 1, 2, 1, 2, 1, 2, 1, 2, 1,\n",
      "         2, 1, 2, 1, 2, 1, 2]])\n",
      "Predicted: 1 True: 1, Predicted with start: 1\n",
      "\n",
      "Tokens = tensor([[ 3,  0,  2,  1,  6,  0,  2,  1, 10,  0,  3,  0,  3,  0,  2,  1, 11,  0,\n",
      "          9,  0,  2,  1,  2,  1,  2,  1,  2,  1,  2,  1,  9,  0,  2,  1,  5,  0,\n",
      "          2,  1,  7,  0,  9,  0,  2,  1,  2,  1,  2,  1,  2,  1,  2,  1,  2,  1,\n",
      "          2,  1,  2,  1,  2,  1,  2,  1,  2,  1,  2,  1,  2,  1,  2,  1,  2,  1,\n",
      "          2,  1,  2,  1,  2,  1,  2,  0,  2,  1,  2,  1,  2,  1,  2,  1,  9,  0,\n",
      "          2,  1,  2,  1,  2,  1,  2,  1, 11,  0,  7,  0,  7,  0, 10,  0,  2,  1,\n",
      "          2,  1,  7,  0,  2,  1,  2,  1,  2,  1,  2,  1,  2,  0,  2,  1,  2,  0,\n",
      "          2,  1]]), Start = tensor([[3, 0, 3, 1, 2, 1, 2, 1, 2, 1, 2, 1, 3, 0, 3, 0, 3, 0, 2, 1, 3, 0, 2, 1,\n",
      "         2, 1, 2, 1, 2, 1, 2, 1, 2, 1, 2, 1, 2, 1, 2, 1, 2, 1, 2, 1, 2, 1, 2, 0,\n",
      "         2, 1, 2, 1, 2, 0, 2, 1, 2, 1, 2, 1, 2, 1, 2, 1, 2, 0, 2, 1, 2, 0, 2, 1,\n",
      "         2, 1, 2, 1, 2, 1, 2, 1, 2, 1, 2, 1, 2, 1, 2, 1, 2, 1, 2, 1, 2, 1, 2, 1,\n",
      "         2, 1, 2, 1, 2, 1, 2, 1, 2, 1, 2, 0, 2, 1, 2, 1, 2, 1, 2, 1, 2, 1, 2, 1,\n",
      "         2, 1, 2, 1, 2, 1, 2, 0]])\n",
      "Predicted: 2 True: 2, Predicted with start: 2\n",
      "\n",
      "Tokens = tensor([[ 3,  0,  2,  1,  6,  0,  2,  1, 10,  0,  3,  0,  3,  0,  2,  1, 11,  0,\n",
      "          9,  0,  2,  1,  2,  1,  2,  1,  2,  1,  2,  1,  9,  0,  2,  1,  5,  0,\n",
      "          2,  1,  7,  0,  9,  0,  2,  1,  2,  1,  2,  1,  2,  1,  2,  1,  2,  1,\n",
      "          2,  1,  2,  1,  2,  1,  2,  1,  2,  1,  2,  1,  2,  1,  2,  1,  2,  1,\n",
      "          2,  1,  2,  1,  2,  1,  2,  0,  2,  1,  2,  1,  2,  1,  2,  1,  9,  0,\n",
      "          2,  1,  2,  1,  2,  1,  2,  1, 11,  0,  7,  0,  7,  0, 10,  0,  2,  1,\n",
      "          2,  1,  7,  0,  2,  1,  2,  1,  2,  1,  2,  1,  2,  0,  2,  1,  2,  0,\n",
      "          2,  1,  2]]), Start = tensor([[3, 0, 3, 1, 2, 1, 2, 1, 2, 1, 2, 1, 3, 0, 3, 0, 3, 0, 2, 1, 3, 0, 2, 1,\n",
      "         2, 1, 2, 1, 2, 1, 2, 1, 2, 1, 2, 1, 2, 1, 2, 1, 2, 1, 2, 1, 2, 1, 2, 0,\n",
      "         2, 1, 2, 1, 2, 0, 2, 1, 2, 1, 2, 1, 2, 1, 2, 1, 2, 0, 2, 1, 2, 0, 2, 1,\n",
      "         2, 1, 2, 1, 2, 1, 2, 1, 2, 1, 2, 1, 2, 1, 2, 1, 2, 1, 2, 1, 2, 1, 2, 1,\n",
      "         2, 1, 2, 1, 2, 1, 2, 1, 2, 1, 2, 0, 2, 1, 2, 1, 2, 1, 2, 1, 2, 1, 2, 1,\n",
      "         2, 1, 2, 1, 2, 1, 2, 0, 2]])\n",
      "Predicted: 1 True: 1, Predicted with start: 1\n",
      "\n",
      "Tokens = tensor([[ 3,  0,  2,  1,  6,  0,  2,  1, 10,  0,  3,  0,  3,  0,  2,  1, 11,  0,\n",
      "          9,  0,  2,  1,  2,  1,  2,  1,  2,  1,  2,  1,  9,  0,  2,  1,  5,  0,\n",
      "          2,  1,  7,  0,  9,  0,  2,  1,  2,  1,  2,  1,  2,  1,  2,  1,  2,  1,\n",
      "          2,  1,  2,  1,  2,  1,  2,  1,  2,  1,  2,  1,  2,  1,  2,  1,  2,  1,\n",
      "          2,  1,  2,  1,  2,  1,  2,  0,  2,  1,  2,  1,  2,  1,  2,  1,  9,  0,\n",
      "          2,  1,  2,  1,  2,  1,  2,  1, 11,  0,  7,  0,  7,  0, 10,  0,  2,  1,\n",
      "          2,  1,  7,  0,  2,  1,  2,  1,  2,  1,  2,  1,  2,  0,  2,  1,  2,  0,\n",
      "          2,  1,  2,  1]]), Start = tensor([[3, 0, 3, 1, 2, 1, 2, 1, 2, 1, 2, 1, 3, 0, 3, 0, 3, 0, 2, 1, 3, 0, 2, 1,\n",
      "         2, 1, 2, 1, 2, 1, 2, 1, 2, 1, 2, 1, 2, 1, 2, 1, 2, 1, 2, 1, 2, 1, 2, 0,\n",
      "         2, 1, 2, 1, 2, 0, 2, 1, 2, 1, 2, 1, 2, 1, 2, 1, 2, 0, 2, 1, 2, 0, 2, 1,\n",
      "         2, 1, 2, 1, 2, 1, 2, 1, 2, 1, 2, 1, 2, 1, 2, 1, 2, 1, 2, 1, 2, 1, 2, 1,\n",
      "         2, 1, 2, 1, 2, 1, 2, 1, 2, 1, 2, 0, 2, 1, 2, 1, 2, 1, 2, 1, 2, 1, 2, 1,\n",
      "         2, 1, 2, 1, 2, 1, 2, 0, 2, 1]])\n",
      "Predicted: 2 True: 5, Predicted with start: 2\n",
      "\n",
      "Tokens = tensor([[ 3,  0,  2,  1,  6,  0,  2,  1, 10,  0,  3,  0,  3,  0,  2,  1, 11,  0,\n",
      "          9,  0,  2,  1,  2,  1,  2,  1,  2,  1,  2,  1,  9,  0,  2,  1,  5,  0,\n",
      "          2,  1,  7,  0,  9,  0,  2,  1,  2,  1,  2,  1,  2,  1,  2,  1,  2,  1,\n",
      "          2,  1,  2,  1,  2,  1,  2,  1,  2,  1,  2,  1,  2,  1,  2,  1,  2,  1,\n",
      "          2,  1,  2,  1,  2,  1,  2,  0,  2,  1,  2,  1,  2,  1,  2,  1,  9,  0,\n",
      "          2,  1,  2,  1,  2,  1,  2,  1, 11,  0,  7,  0,  7,  0, 10,  0,  2,  1,\n",
      "          2,  1,  7,  0,  2,  1,  2,  1,  2,  1,  2,  1,  2,  0,  2,  1,  2,  0,\n",
      "          2,  1,  2,  1,  5]]), Start = tensor([[3, 0, 3, 1, 2, 1, 2, 1, 2, 1, 2, 1, 3, 0, 3, 0, 3, 0, 2, 1, 3, 0, 2, 1,\n",
      "         2, 1, 2, 1, 2, 1, 2, 1, 2, 1, 2, 1, 2, 1, 2, 1, 2, 1, 2, 1, 2, 1, 2, 0,\n",
      "         2, 1, 2, 1, 2, 0, 2, 1, 2, 1, 2, 1, 2, 1, 2, 1, 2, 0, 2, 1, 2, 0, 2, 1,\n",
      "         2, 1, 2, 1, 2, 1, 2, 1, 2, 1, 2, 1, 2, 1, 2, 1, 2, 1, 2, 1, 2, 1, 2, 1,\n",
      "         2, 1, 2, 1, 2, 1, 2, 1, 2, 1, 2, 0, 2, 1, 2, 1, 2, 1, 2, 1, 2, 1, 2, 1,\n",
      "         2, 1, 2, 1, 2, 1, 2, 0, 2, 1, 2]])\n",
      "Predicted: 0 True: 0, Predicted with start: 1\n",
      "\n",
      "Tokens = tensor([[ 3,  0,  2,  1,  6,  0,  2,  1, 10,  0,  3,  0,  3,  0,  2,  1, 11,  0,\n",
      "          9,  0,  2,  1,  2,  1,  2,  1,  2,  1,  2,  1,  9,  0,  2,  1,  5,  0,\n",
      "          2,  1,  7,  0,  9,  0,  2,  1,  2,  1,  2,  1,  2,  1,  2,  1,  2,  1,\n",
      "          2,  1,  2,  1,  2,  1,  2,  1,  2,  1,  2,  1,  2,  1,  2,  1,  2,  1,\n",
      "          2,  1,  2,  1,  2,  1,  2,  0,  2,  1,  2,  1,  2,  1,  2,  1,  9,  0,\n",
      "          2,  1,  2,  1,  2,  1,  2,  1, 11,  0,  7,  0,  7,  0, 10,  0,  2,  1,\n",
      "          2,  1,  7,  0,  2,  1,  2,  1,  2,  1,  2,  1,  2,  0,  2,  1,  2,  0,\n",
      "          2,  1,  2,  1,  5,  0]]), Start = tensor([[3, 0, 3, 1, 2, 1, 2, 1, 2, 1, 2, 1, 3, 0, 3, 0, 3, 0, 2, 1, 3, 0, 2, 1,\n",
      "         2, 1, 2, 1, 2, 1, 2, 1, 2, 1, 2, 1, 2, 1, 2, 1, 2, 1, 2, 1, 2, 1, 2, 0,\n",
      "         2, 1, 2, 1, 2, 0, 2, 1, 2, 1, 2, 1, 2, 1, 2, 1, 2, 0, 2, 1, 2, 0, 2, 1,\n",
      "         2, 1, 2, 1, 2, 1, 2, 1, 2, 1, 2, 1, 2, 1, 2, 1, 2, 1, 2, 1, 2, 1, 2, 1,\n",
      "         2, 1, 2, 1, 2, 1, 2, 1, 2, 1, 2, 0, 2, 1, 2, 1, 2, 1, 2, 1, 2, 1, 2, 1,\n",
      "         2, 1, 2, 1, 2, 1, 2, 0, 2, 1, 2, 1]])\n",
      "Predicted: 2 True: 5, Predicted with start: 2\n",
      "\n",
      "Tokens = tensor([[ 3,  0,  2,  1,  6,  0,  2,  1, 10,  0,  3,  0,  3,  0,  2,  1, 11,  0,\n",
      "          9,  0,  2,  1,  2,  1,  2,  1,  2,  1,  2,  1,  9,  0,  2,  1,  5,  0,\n",
      "          2,  1,  7,  0,  9,  0,  2,  1,  2,  1,  2,  1,  2,  1,  2,  1,  2,  1,\n",
      "          2,  1,  2,  1,  2,  1,  2,  1,  2,  1,  2,  1,  2,  1,  2,  1,  2,  1,\n",
      "          2,  1,  2,  1,  2,  1,  2,  0,  2,  1,  2,  1,  2,  1,  2,  1,  9,  0,\n",
      "          2,  1,  2,  1,  2,  1,  2,  1, 11,  0,  7,  0,  7,  0, 10,  0,  2,  1,\n",
      "          2,  1,  7,  0,  2,  1,  2,  1,  2,  1,  2,  1,  2,  0,  2,  1,  2,  0,\n",
      "          2,  1,  2,  1,  5,  0,  5]]), Start = tensor([[3, 0, 3, 1, 2, 1, 2, 1, 2, 1, 2, 1, 3, 0, 3, 0, 3, 0, 2, 1, 3, 0, 2, 1,\n",
      "         2, 1, 2, 1, 2, 1, 2, 1, 2, 1, 2, 1, 2, 1, 2, 1, 2, 1, 2, 1, 2, 1, 2, 0,\n",
      "         2, 1, 2, 1, 2, 0, 2, 1, 2, 1, 2, 1, 2, 1, 2, 1, 2, 0, 2, 1, 2, 0, 2, 1,\n",
      "         2, 1, 2, 1, 2, 1, 2, 1, 2, 1, 2, 1, 2, 1, 2, 1, 2, 1, 2, 1, 2, 1, 2, 1,\n",
      "         2, 1, 2, 1, 2, 1, 2, 1, 2, 1, 2, 0, 2, 1, 2, 1, 2, 1, 2, 1, 2, 1, 2, 1,\n",
      "         2, 1, 2, 1, 2, 1, 2, 0, 2, 1, 2, 1, 2]])\n",
      "Predicted: 0 True: 0, Predicted with start: 1\n",
      "\n",
      "Tokens = tensor([[ 3,  0,  2,  1,  6,  0,  2,  1, 10,  0,  3,  0,  3,  0,  2,  1, 11,  0,\n",
      "          9,  0,  2,  1,  2,  1,  2,  1,  2,  1,  2,  1,  9,  0,  2,  1,  5,  0,\n",
      "          2,  1,  7,  0,  9,  0,  2,  1,  2,  1,  2,  1,  2,  1,  2,  1,  2,  1,\n",
      "          2,  1,  2,  1,  2,  1,  2,  1,  2,  1,  2,  1,  2,  1,  2,  1,  2,  1,\n",
      "          2,  1,  2,  1,  2,  1,  2,  0,  2,  1,  2,  1,  2,  1,  2,  1,  9,  0,\n",
      "          2,  1,  2,  1,  2,  1,  2,  1, 11,  0,  7,  0,  7,  0, 10,  0,  2,  1,\n",
      "          2,  1,  7,  0,  2,  1,  2,  1,  2,  1,  2,  1,  2,  0,  2,  1,  2,  0,\n",
      "          2,  1,  2,  1,  5,  0,  5,  0]]), Start = tensor([[3, 0, 3, 1, 2, 1, 2, 1, 2, 1, 2, 1, 3, 0, 3, 0, 3, 0, 2, 1, 3, 0, 2, 1,\n",
      "         2, 1, 2, 1, 2, 1, 2, 1, 2, 1, 2, 1, 2, 1, 2, 1, 2, 1, 2, 1, 2, 1, 2, 0,\n",
      "         2, 1, 2, 1, 2, 0, 2, 1, 2, 1, 2, 1, 2, 1, 2, 1, 2, 0, 2, 1, 2, 0, 2, 1,\n",
      "         2, 1, 2, 1, 2, 1, 2, 1, 2, 1, 2, 1, 2, 1, 2, 1, 2, 1, 2, 1, 2, 1, 2, 1,\n",
      "         2, 1, 2, 1, 2, 1, 2, 1, 2, 1, 2, 0, 2, 1, 2, 1, 2, 1, 2, 1, 2, 1, 2, 1,\n",
      "         2, 1, 2, 1, 2, 1, 2, 0, 2, 1, 2, 1, 2, 1]])\n",
      "Predicted: 2 True: 2, Predicted with start: 2\n",
      "\n",
      "Tokens = tensor([[ 3,  0,  2,  1,  6,  0,  2,  1, 10,  0,  3,  0,  3,  0,  2,  1, 11,  0,\n",
      "          9,  0,  2,  1,  2,  1,  2,  1,  2,  1,  2,  1,  9,  0,  2,  1,  5,  0,\n",
      "          2,  1,  7,  0,  9,  0,  2,  1,  2,  1,  2,  1,  2,  1,  2,  1,  2,  1,\n",
      "          2,  1,  2,  1,  2,  1,  2,  1,  2,  1,  2,  1,  2,  1,  2,  1,  2,  1,\n",
      "          2,  1,  2,  1,  2,  1,  2,  0,  2,  1,  2,  1,  2,  1,  2,  1,  9,  0,\n",
      "          2,  1,  2,  1,  2,  1,  2,  1, 11,  0,  7,  0,  7,  0, 10,  0,  2,  1,\n",
      "          2,  1,  7,  0,  2,  1,  2,  1,  2,  1,  2,  1,  2,  0,  2,  1,  2,  0,\n",
      "          2,  1,  2,  1,  5,  0,  5,  0,  2]]), Start = tensor([[3, 0, 3, 1, 2, 1, 2, 1, 2, 1, 2, 1, 3, 0, 3, 0, 3, 0, 2, 1, 3, 0, 2, 1,\n",
      "         2, 1, 2, 1, 2, 1, 2, 1, 2, 1, 2, 1, 2, 1, 2, 1, 2, 1, 2, 1, 2, 1, 2, 0,\n",
      "         2, 1, 2, 1, 2, 0, 2, 1, 2, 1, 2, 1, 2, 1, 2, 1, 2, 0, 2, 1, 2, 0, 2, 1,\n",
      "         2, 1, 2, 1, 2, 1, 2, 1, 2, 1, 2, 1, 2, 1, 2, 1, 2, 1, 2, 1, 2, 1, 2, 1,\n",
      "         2, 1, 2, 1, 2, 1, 2, 1, 2, 1, 2, 0, 2, 1, 2, 1, 2, 1, 2, 1, 2, 1, 2, 1,\n",
      "         2, 1, 2, 1, 2, 1, 2, 0, 2, 1, 2, 1, 2, 1, 2]])\n",
      "Predicted: 1 True: 1, Predicted with start: 1\n",
      "\n",
      "Tokens = tensor([[ 3,  0,  2,  1,  6,  0,  2,  1, 10,  0,  3,  0,  3,  0,  2,  1, 11,  0,\n",
      "          9,  0,  2,  1,  2,  1,  2,  1,  2,  1,  2,  1,  9,  0,  2,  1,  5,  0,\n",
      "          2,  1,  7,  0,  9,  0,  2,  1,  2,  1,  2,  1,  2,  1,  2,  1,  2,  1,\n",
      "          2,  1,  2,  1,  2,  1,  2,  1,  2,  1,  2,  1,  2,  1,  2,  1,  2,  1,\n",
      "          2,  1,  2,  1,  2,  1,  2,  0,  2,  1,  2,  1,  2,  1,  2,  1,  9,  0,\n",
      "          2,  1,  2,  1,  2,  1,  2,  1, 11,  0,  7,  0,  7,  0, 10,  0,  2,  1,\n",
      "          2,  1,  7,  0,  2,  1,  2,  1,  2,  1,  2,  1,  2,  0,  2,  1,  2,  0,\n",
      "          2,  1,  2,  1,  5,  0,  5,  0,  2,  1]]), Start = tensor([[3, 0, 3, 1, 2, 1, 2, 1, 2, 1, 2, 1, 3, 0, 3, 0, 3, 0, 2, 1, 3, 0, 2, 1,\n",
      "         2, 1, 2, 1, 2, 1, 2, 1, 2, 1, 2, 1, 2, 1, 2, 1, 2, 1, 2, 1, 2, 1, 2, 0,\n",
      "         2, 1, 2, 1, 2, 0, 2, 1, 2, 1, 2, 1, 2, 1, 2, 1, 2, 0, 2, 1, 2, 0, 2, 1,\n",
      "         2, 1, 2, 1, 2, 1, 2, 1, 2, 1, 2, 1, 2, 1, 2, 1, 2, 1, 2, 1, 2, 1, 2, 1,\n",
      "         2, 1, 2, 1, 2, 1, 2, 1, 2, 1, 2, 0, 2, 1, 2, 1, 2, 1, 2, 1, 2, 1, 2, 1,\n",
      "         2, 1, 2, 1, 2, 1, 2, 0, 2, 1, 2, 1, 2, 1, 2, 1]])\n",
      "Predicted: 2 True: 4, Predicted with start: 2\n",
      "\n",
      "Tokens = tensor([[ 3,  0,  2,  1,  6,  0,  2,  1, 10,  0,  3,  0,  3,  0,  2,  1, 11,  0,\n",
      "          9,  0,  2,  1,  2,  1,  2,  1,  2,  1,  2,  1,  9,  0,  2,  1,  5,  0,\n",
      "          2,  1,  7,  0,  9,  0,  2,  1,  2,  1,  2,  1,  2,  1,  2,  1,  2,  1,\n",
      "          2,  1,  2,  1,  2,  1,  2,  1,  2,  1,  2,  1,  2,  1,  2,  1,  2,  1,\n",
      "          2,  1,  2,  1,  2,  1,  2,  0,  2,  1,  2,  1,  2,  1,  2,  1,  9,  0,\n",
      "          2,  1,  2,  1,  2,  1,  2,  1, 11,  0,  7,  0,  7,  0, 10,  0,  2,  1,\n",
      "          2,  1,  7,  0,  2,  1,  2,  1,  2,  1,  2,  1,  2,  0,  2,  1,  2,  0,\n",
      "          2,  1,  2,  1,  5,  0,  5,  0,  2,  1,  4]]), Start = tensor([[3, 0, 3, 1, 2, 1, 2, 1, 2, 1, 2, 1, 3, 0, 3, 0, 3, 0, 2, 1, 3, 0, 2, 1,\n",
      "         2, 1, 2, 1, 2, 1, 2, 1, 2, 1, 2, 1, 2, 1, 2, 1, 2, 1, 2, 1, 2, 1, 2, 0,\n",
      "         2, 1, 2, 1, 2, 0, 2, 1, 2, 1, 2, 1, 2, 1, 2, 1, 2, 0, 2, 1, 2, 0, 2, 1,\n",
      "         2, 1, 2, 1, 2, 1, 2, 1, 2, 1, 2, 1, 2, 1, 2, 1, 2, 1, 2, 1, 2, 1, 2, 1,\n",
      "         2, 1, 2, 1, 2, 1, 2, 1, 2, 1, 2, 0, 2, 1, 2, 1, 2, 1, 2, 1, 2, 1, 2, 1,\n",
      "         2, 1, 2, 1, 2, 1, 2, 0, 2, 1, 2, 1, 2, 1, 2, 1, 2]])\n",
      "Predicted: 0 True: 1, Predicted with start: 1\n",
      "\n",
      "Tokens = tensor([[ 3,  0,  2,  1,  6,  0,  2,  1, 10,  0,  3,  0,  3,  0,  2,  1, 11,  0,\n",
      "          9,  0,  2,  1,  2,  1,  2,  1,  2,  1,  2,  1,  9,  0,  2,  1,  5,  0,\n",
      "          2,  1,  7,  0,  9,  0,  2,  1,  2,  1,  2,  1,  2,  1,  2,  1,  2,  1,\n",
      "          2,  1,  2,  1,  2,  1,  2,  1,  2,  1,  2,  1,  2,  1,  2,  1,  2,  1,\n",
      "          2,  1,  2,  1,  2,  1,  2,  0,  2,  1,  2,  1,  2,  1,  2,  1,  9,  0,\n",
      "          2,  1,  2,  1,  2,  1,  2,  1, 11,  0,  7,  0,  7,  0, 10,  0,  2,  1,\n",
      "          2,  1,  7,  0,  2,  1,  2,  1,  2,  1,  2,  1,  2,  0,  2,  1,  2,  0,\n",
      "          2,  1,  2,  1,  5,  0,  5,  0,  2,  1,  4,  1]]), Start = tensor([[3, 0, 3, 1, 2, 1, 2, 1, 2, 1, 2, 1, 3, 0, 3, 0, 3, 0, 2, 1, 3, 0, 2, 1,\n",
      "         2, 1, 2, 1, 2, 1, 2, 1, 2, 1, 2, 1, 2, 1, 2, 1, 2, 1, 2, 1, 2, 1, 2, 0,\n",
      "         2, 1, 2, 1, 2, 0, 2, 1, 2, 1, 2, 1, 2, 1, 2, 1, 2, 0, 2, 1, 2, 0, 2, 1,\n",
      "         2, 1, 2, 1, 2, 1, 2, 1, 2, 1, 2, 1, 2, 1, 2, 1, 2, 1, 2, 1, 2, 1, 2, 1,\n",
      "         2, 1, 2, 1, 2, 1, 2, 1, 2, 1, 2, 0, 2, 1, 2, 1, 2, 1, 2, 1, 2, 1, 2, 1,\n",
      "         2, 1, 2, 1, 2, 1, 2, 0, 2, 1, 2, 1, 2, 1, 2, 1, 2, 1]])\n",
      "Predicted: 2 True: 4, Predicted with start: 2\n",
      "\n",
      "Tokens = tensor([[ 3,  0,  2,  1,  6,  0,  2,  1, 10,  0,  3,  0,  3,  0,  2,  1, 11,  0,\n",
      "          9,  0,  2,  1,  2,  1,  2,  1,  2,  1,  2,  1,  9,  0,  2,  1,  5,  0,\n",
      "          2,  1,  7,  0,  9,  0,  2,  1,  2,  1,  2,  1,  2,  1,  2,  1,  2,  1,\n",
      "          2,  1,  2,  1,  2,  1,  2,  1,  2,  1,  2,  1,  2,  1,  2,  1,  2,  1,\n",
      "          2,  1,  2,  1,  2,  1,  2,  0,  2,  1,  2,  1,  2,  1,  2,  1,  9,  0,\n",
      "          2,  1,  2,  1,  2,  1,  2,  1, 11,  0,  7,  0,  7,  0, 10,  0,  2,  1,\n",
      "          2,  1,  7,  0,  2,  1,  2,  1,  2,  1,  2,  1,  2,  0,  2,  1,  2,  0,\n",
      "          2,  1,  2,  1,  5,  0,  5,  0,  2,  1,  4,  1,  4]]), Start = tensor([[3, 0, 3, 1, 2, 1, 2, 1, 2, 1, 2, 1, 3, 0, 3, 0, 3, 0, 2, 1, 3, 0, 2, 1,\n",
      "         2, 1, 2, 1, 2, 1, 2, 1, 2, 1, 2, 1, 2, 1, 2, 1, 2, 1, 2, 1, 2, 1, 2, 0,\n",
      "         2, 1, 2, 1, 2, 0, 2, 1, 2, 1, 2, 1, 2, 1, 2, 1, 2, 0, 2, 1, 2, 0, 2, 1,\n",
      "         2, 1, 2, 1, 2, 1, 2, 1, 2, 1, 2, 1, 2, 1, 2, 1, 2, 1, 2, 1, 2, 1, 2, 1,\n",
      "         2, 1, 2, 1, 2, 1, 2, 1, 2, 1, 2, 0, 2, 1, 2, 1, 2, 1, 2, 1, 2, 1, 2, 1,\n",
      "         2, 1, 2, 1, 2, 1, 2, 0, 2, 1, 2, 1, 2, 1, 2, 1, 2, 1, 2]])\n",
      "Predicted: 0 True: 1, Predicted with start: 1\n",
      "\n",
      "Tokens = tensor([[ 3,  0,  2,  1,  6,  0,  2,  1, 10,  0,  3,  0,  3,  0,  2,  1, 11,  0,\n",
      "          9,  0,  2,  1,  2,  1,  2,  1,  2,  1,  2,  1,  9,  0,  2,  1,  5,  0,\n",
      "          2,  1,  7,  0,  9,  0,  2,  1,  2,  1,  2,  1,  2,  1,  2,  1,  2,  1,\n",
      "          2,  1,  2,  1,  2,  1,  2,  1,  2,  1,  2,  1,  2,  1,  2,  1,  2,  1,\n",
      "          2,  1,  2,  1,  2,  1,  2,  0,  2,  1,  2,  1,  2,  1,  2,  1,  9,  0,\n",
      "          2,  1,  2,  1,  2,  1,  2,  1, 11,  0,  7,  0,  7,  0, 10,  0,  2,  1,\n",
      "          2,  1,  7,  0,  2,  1,  2,  1,  2,  1,  2,  1,  2,  0,  2,  1,  2,  0,\n",
      "          2,  1,  2,  1,  5,  0,  5,  0,  2,  1,  4,  1,  4,  1]]), Start = tensor([[3, 0, 3, 1, 2, 1, 2, 1, 2, 1, 2, 1, 3, 0, 3, 0, 3, 0, 2, 1, 3, 0, 2, 1,\n",
      "         2, 1, 2, 1, 2, 1, 2, 1, 2, 1, 2, 1, 2, 1, 2, 1, 2, 1, 2, 1, 2, 1, 2, 0,\n",
      "         2, 1, 2, 1, 2, 0, 2, 1, 2, 1, 2, 1, 2, 1, 2, 1, 2, 0, 2, 1, 2, 0, 2, 1,\n",
      "         2, 1, 2, 1, 2, 1, 2, 1, 2, 1, 2, 1, 2, 1, 2, 1, 2, 1, 2, 1, 2, 1, 2, 1,\n",
      "         2, 1, 2, 1, 2, 1, 2, 1, 2, 1, 2, 0, 2, 1, 2, 1, 2, 1, 2, 1, 2, 1, 2, 1,\n",
      "         2, 1, 2, 1, 2, 1, 2, 0, 2, 1, 2, 1, 2, 1, 2, 1, 2, 1, 2, 1]])\n",
      "Predicted: 2 True: 4, Predicted with start: 2\n",
      "\n",
      "Tokens = tensor([[ 3,  0,  2,  1,  6,  0,  2,  1, 10,  0,  3,  0,  3,  0,  2,  1, 11,  0,\n",
      "          9,  0,  2,  1,  2,  1,  2,  1,  2,  1,  2,  1,  9,  0,  2,  1,  5,  0,\n",
      "          2,  1,  7,  0,  9,  0,  2,  1,  2,  1,  2,  1,  2,  1,  2,  1,  2,  1,\n",
      "          2,  1,  2,  1,  2,  1,  2,  1,  2,  1,  2,  1,  2,  1,  2,  1,  2,  1,\n",
      "          2,  1,  2,  1,  2,  1,  2,  0,  2,  1,  2,  1,  2,  1,  2,  1,  9,  0,\n",
      "          2,  1,  2,  1,  2,  1,  2,  1, 11,  0,  7,  0,  7,  0, 10,  0,  2,  1,\n",
      "          2,  1,  7,  0,  2,  1,  2,  1,  2,  1,  2,  1,  2,  0,  2,  1,  2,  0,\n",
      "          2,  1,  2,  1,  5,  0,  5,  0,  2,  1,  4,  1,  4,  1,  4]]), Start = tensor([[3, 0, 3, 1, 2, 1, 2, 1, 2, 1, 2, 1, 3, 0, 3, 0, 3, 0, 2, 1, 3, 0, 2, 1,\n",
      "         2, 1, 2, 1, 2, 1, 2, 1, 2, 1, 2, 1, 2, 1, 2, 1, 2, 1, 2, 1, 2, 1, 2, 0,\n",
      "         2, 1, 2, 1, 2, 0, 2, 1, 2, 1, 2, 1, 2, 1, 2, 1, 2, 0, 2, 1, 2, 0, 2, 1,\n",
      "         2, 1, 2, 1, 2, 1, 2, 1, 2, 1, 2, 1, 2, 1, 2, 1, 2, 1, 2, 1, 2, 1, 2, 1,\n",
      "         2, 1, 2, 1, 2, 1, 2, 1, 2, 1, 2, 0, 2, 1, 2, 1, 2, 1, 2, 1, 2, 1, 2, 1,\n",
      "         2, 1, 2, 1, 2, 1, 2, 0, 2, 1, 2, 1, 2, 1, 2, 1, 2, 1, 2, 1, 2]])\n",
      "Predicted: 0 True: 1, Predicted with start: 1\n",
      "\n",
      "Tokens = tensor([[ 3,  0,  2,  1,  6,  0,  2,  1, 10,  0,  3,  0,  3,  0,  2,  1, 11,  0,\n",
      "          9,  0,  2,  1,  2,  1,  2,  1,  2,  1,  2,  1,  9,  0,  2,  1,  5,  0,\n",
      "          2,  1,  7,  0,  9,  0,  2,  1,  2,  1,  2,  1,  2,  1,  2,  1,  2,  1,\n",
      "          2,  1,  2,  1,  2,  1,  2,  1,  2,  1,  2,  1,  2,  1,  2,  1,  2,  1,\n",
      "          2,  1,  2,  1,  2,  1,  2,  0,  2,  1,  2,  1,  2,  1,  2,  1,  9,  0,\n",
      "          2,  1,  2,  1,  2,  1,  2,  1, 11,  0,  7,  0,  7,  0, 10,  0,  2,  1,\n",
      "          2,  1,  7,  0,  2,  1,  2,  1,  2,  1,  2,  1,  2,  0,  2,  1,  2,  0,\n",
      "          2,  1,  2,  1,  5,  0,  5,  0,  2,  1,  4,  1,  4,  1,  4,  1]]), Start = tensor([[3, 0, 3, 1, 2, 1, 2, 1, 2, 1, 2, 1, 3, 0, 3, 0, 3, 0, 2, 1, 3, 0, 2, 1,\n",
      "         2, 1, 2, 1, 2, 1, 2, 1, 2, 1, 2, 1, 2, 1, 2, 1, 2, 1, 2, 1, 2, 1, 2, 0,\n",
      "         2, 1, 2, 1, 2, 0, 2, 1, 2, 1, 2, 1, 2, 1, 2, 1, 2, 0, 2, 1, 2, 0, 2, 1,\n",
      "         2, 1, 2, 1, 2, 1, 2, 1, 2, 1, 2, 1, 2, 1, 2, 1, 2, 1, 2, 1, 2, 1, 2, 1,\n",
      "         2, 1, 2, 1, 2, 1, 2, 1, 2, 1, 2, 0, 2, 1, 2, 1, 2, 1, 2, 1, 2, 1, 2, 1,\n",
      "         2, 1, 2, 1, 2, 1, 2, 0, 2, 1, 2, 1, 2, 1, 2, 1, 2, 1, 2, 1, 2, 1]])\n",
      "Predicted: 2 True: 4, Predicted with start: 2\n",
      "\n",
      "Tokens = tensor([[ 3,  0,  2,  1,  6,  0,  2,  1, 10,  0,  3,  0,  3,  0,  2,  1, 11,  0,\n",
      "          9,  0,  2,  1,  2,  1,  2,  1,  2,  1,  2,  1,  9,  0,  2,  1,  5,  0,\n",
      "          2,  1,  7,  0,  9,  0,  2,  1,  2,  1,  2,  1,  2,  1,  2,  1,  2,  1,\n",
      "          2,  1,  2,  1,  2,  1,  2,  1,  2,  1,  2,  1,  2,  1,  2,  1,  2,  1,\n",
      "          2,  1,  2,  1,  2,  1,  2,  0,  2,  1,  2,  1,  2,  1,  2,  1,  9,  0,\n",
      "          2,  1,  2,  1,  2,  1,  2,  1, 11,  0,  7,  0,  7,  0, 10,  0,  2,  1,\n",
      "          2,  1,  7,  0,  2,  1,  2,  1,  2,  1,  2,  1,  2,  0,  2,  1,  2,  0,\n",
      "          2,  1,  2,  1,  5,  0,  5,  0,  2,  1,  4,  1,  4,  1,  4,  1,  4]]), Start = tensor([[3, 0, 3, 1, 2, 1, 2, 1, 2, 1, 2, 1, 3, 0, 3, 0, 3, 0, 2, 1, 3, 0, 2, 1,\n",
      "         2, 1, 2, 1, 2, 1, 2, 1, 2, 1, 2, 1, 2, 1, 2, 1, 2, 1, 2, 1, 2, 1, 2, 0,\n",
      "         2, 1, 2, 1, 2, 0, 2, 1, 2, 1, 2, 1, 2, 1, 2, 1, 2, 0, 2, 1, 2, 0, 2, 1,\n",
      "         2, 1, 2, 1, 2, 1, 2, 1, 2, 1, 2, 1, 2, 1, 2, 1, 2, 1, 2, 1, 2, 1, 2, 1,\n",
      "         2, 1, 2, 1, 2, 1, 2, 1, 2, 1, 2, 0, 2, 1, 2, 1, 2, 1, 2, 1, 2, 1, 2, 1,\n",
      "         2, 1, 2, 1, 2, 1, 2, 0, 2, 1, 2, 1, 2, 1, 2, 1, 2, 1, 2, 1, 2, 1, 2]])\n",
      "Predicted: 0 True: 1, Predicted with start: 1\n",
      "\n",
      "Tokens = tensor([[ 3,  0,  2,  1,  6,  0,  2,  1, 10,  0,  3,  0,  3,  0,  2,  1, 11,  0,\n",
      "          9,  0,  2,  1,  2,  1,  2,  1,  2,  1,  2,  1,  9,  0,  2,  1,  5,  0,\n",
      "          2,  1,  7,  0,  9,  0,  2,  1,  2,  1,  2,  1,  2,  1,  2,  1,  2,  1,\n",
      "          2,  1,  2,  1,  2,  1,  2,  1,  2,  1,  2,  1,  2,  1,  2,  1,  2,  1,\n",
      "          2,  1,  2,  1,  2,  1,  2,  0,  2,  1,  2,  1,  2,  1,  2,  1,  9,  0,\n",
      "          2,  1,  2,  1,  2,  1,  2,  1, 11,  0,  7,  0,  7,  0, 10,  0,  2,  1,\n",
      "          2,  1,  7,  0,  2,  1,  2,  1,  2,  1,  2,  1,  2,  0,  2,  1,  2,  0,\n",
      "          2,  1,  2,  1,  5,  0,  5,  0,  2,  1,  4,  1,  4,  1,  4,  1,  4,  1]]), Start = tensor([[3, 0, 3, 1, 2, 1, 2, 1, 2, 1, 2, 1, 3, 0, 3, 0, 3, 0, 2, 1, 3, 0, 2, 1,\n",
      "         2, 1, 2, 1, 2, 1, 2, 1, 2, 1, 2, 1, 2, 1, 2, 1, 2, 1, 2, 1, 2, 1, 2, 0,\n",
      "         2, 1, 2, 1, 2, 0, 2, 1, 2, 1, 2, 1, 2, 1, 2, 1, 2, 0, 2, 1, 2, 0, 2, 1,\n",
      "         2, 1, 2, 1, 2, 1, 2, 1, 2, 1, 2, 1, 2, 1, 2, 1, 2, 1, 2, 1, 2, 1, 2, 1,\n",
      "         2, 1, 2, 1, 2, 1, 2, 1, 2, 1, 2, 0, 2, 1, 2, 1, 2, 1, 2, 1, 2, 1, 2, 1,\n",
      "         2, 1, 2, 1, 2, 1, 2, 0, 2, 1, 2, 1, 2, 1, 2, 1, 2, 1, 2, 1, 2, 1, 2, 1]])\n",
      "Predicted: 2 True: 7, Predicted with start: 2\n",
      "\n",
      "Tokens = tensor([[ 3,  0,  2,  1,  6,  0,  2,  1, 10,  0,  3,  0,  3,  0,  2,  1, 11,  0,\n",
      "          9,  0,  2,  1,  2,  1,  2,  1,  2,  1,  2,  1,  9,  0,  2,  1,  5,  0,\n",
      "          2,  1,  7,  0,  9,  0,  2,  1,  2,  1,  2,  1,  2,  1,  2,  1,  2,  1,\n",
      "          2,  1,  2,  1,  2,  1,  2,  1,  2,  1,  2,  1,  2,  1,  2,  1,  2,  1,\n",
      "          2,  1,  2,  1,  2,  1,  2,  0,  2,  1,  2,  1,  2,  1,  2,  1,  9,  0,\n",
      "          2,  1,  2,  1,  2,  1,  2,  1, 11,  0,  7,  0,  7,  0, 10,  0,  2,  1,\n",
      "          2,  1,  7,  0,  2,  1,  2,  1,  2,  1,  2,  1,  2,  0,  2,  1,  2,  0,\n",
      "          2,  1,  2,  1,  5,  0,  5,  0,  2,  1,  4,  1,  4,  1,  4,  1,  4,  1,\n",
      "          7]]), Start = tensor([[3, 0, 3, 1, 2, 1, 2, 1, 2, 1, 2, 1, 3, 0, 3, 0, 3, 0, 2, 1, 3, 0, 2, 1,\n",
      "         2, 1, 2, 1, 2, 1, 2, 1, 2, 1, 2, 1, 2, 1, 2, 1, 2, 1, 2, 1, 2, 1, 2, 0,\n",
      "         2, 1, 2, 1, 2, 0, 2, 1, 2, 1, 2, 1, 2, 1, 2, 1, 2, 0, 2, 1, 2, 0, 2, 1,\n",
      "         2, 1, 2, 1, 2, 1, 2, 1, 2, 1, 2, 1, 2, 1, 2, 1, 2, 1, 2, 1, 2, 1, 2, 1,\n",
      "         2, 1, 2, 1, 2, 1, 2, 1, 2, 1, 2, 0, 2, 1, 2, 1, 2, 1, 2, 1, 2, 1, 2, 1,\n",
      "         2, 1, 2, 1, 2, 1, 2, 0, 2, 1, 2, 1, 2, 1, 2, 1, 2, 1, 2, 1, 2, 1, 2, 1,\n",
      "         2]])\n",
      "Predicted: 0 True: 0, Predicted with start: 1\n",
      "\n",
      "Tokens = tensor([[ 3,  0,  2,  1,  6,  0,  2,  1, 10,  0,  3,  0,  3,  0,  2,  1, 11,  0,\n",
      "          9,  0,  2,  1,  2,  1,  2,  1,  2,  1,  2,  1,  9,  0,  2,  1,  5,  0,\n",
      "          2,  1,  7,  0,  9,  0,  2,  1,  2,  1,  2,  1,  2,  1,  2,  1,  2,  1,\n",
      "          2,  1,  2,  1,  2,  1,  2,  1,  2,  1,  2,  1,  2,  1,  2,  1,  2,  1,\n",
      "          2,  1,  2,  1,  2,  1,  2,  0,  2,  1,  2,  1,  2,  1,  2,  1,  9,  0,\n",
      "          2,  1,  2,  1,  2,  1,  2,  1, 11,  0,  7,  0,  7,  0, 10,  0,  2,  1,\n",
      "          2,  1,  7,  0,  2,  1,  2,  1,  2,  1,  2,  1,  2,  0,  2,  1,  2,  0,\n",
      "          2,  1,  2,  1,  5,  0,  5,  0,  2,  1,  4,  1,  4,  1,  4,  1,  4,  1,\n",
      "          7,  0]]), Start = tensor([[3, 0, 3, 1, 2, 1, 2, 1, 2, 1, 2, 1, 3, 0, 3, 0, 3, 0, 2, 1, 3, 0, 2, 1,\n",
      "         2, 1, 2, 1, 2, 1, 2, 1, 2, 1, 2, 1, 2, 1, 2, 1, 2, 1, 2, 1, 2, 1, 2, 0,\n",
      "         2, 1, 2, 1, 2, 0, 2, 1, 2, 1, 2, 1, 2, 1, 2, 1, 2, 0, 2, 1, 2, 0, 2, 1,\n",
      "         2, 1, 2, 1, 2, 1, 2, 1, 2, 1, 2, 1, 2, 1, 2, 1, 2, 1, 2, 1, 2, 1, 2, 1,\n",
      "         2, 1, 2, 1, 2, 1, 2, 1, 2, 1, 2, 0, 2, 1, 2, 1, 2, 1, 2, 1, 2, 1, 2, 1,\n",
      "         2, 1, 2, 1, 2, 1, 2, 0, 2, 1, 2, 1, 2, 1, 2, 1, 2, 1, 2, 1, 2, 1, 2, 1,\n",
      "         2, 1]])\n",
      "Predicted: 2 True: 3, Predicted with start: 2\n",
      "\n",
      "Tokens = tensor([[ 3,  0,  2,  1,  6,  0,  2,  1, 10,  0,  3,  0,  3,  0,  2,  1, 11,  0,\n",
      "          9,  0,  2,  1,  2,  1,  2,  1,  2,  1,  2,  1,  9,  0,  2,  1,  5,  0,\n",
      "          2,  1,  7,  0,  9,  0,  2,  1,  2,  1,  2,  1,  2,  1,  2,  1,  2,  1,\n",
      "          2,  1,  2,  1,  2,  1,  2,  1,  2,  1,  2,  1,  2,  1,  2,  1,  2,  1,\n",
      "          2,  1,  2,  1,  2,  1,  2,  0,  2,  1,  2,  1,  2,  1,  2,  1,  9,  0,\n",
      "          2,  1,  2,  1,  2,  1,  2,  1, 11,  0,  7,  0,  7,  0, 10,  0,  2,  1,\n",
      "          2,  1,  7,  0,  2,  1,  2,  1,  2,  1,  2,  1,  2,  0,  2,  1,  2,  0,\n",
      "          2,  1,  2,  1,  5,  0,  5,  0,  2,  1,  4,  1,  4,  1,  4,  1,  4,  1,\n",
      "          7,  0,  3]]), Start = tensor([[3, 0, 3, 1, 2, 1, 2, 1, 2, 1, 2, 1, 3, 0, 3, 0, 3, 0, 2, 1, 3, 0, 2, 1,\n",
      "         2, 1, 2, 1, 2, 1, 2, 1, 2, 1, 2, 1, 2, 1, 2, 1, 2, 1, 2, 1, 2, 1, 2, 0,\n",
      "         2, 1, 2, 1, 2, 0, 2, 1, 2, 1, 2, 1, 2, 1, 2, 1, 2, 0, 2, 1, 2, 0, 2, 1,\n",
      "         2, 1, 2, 1, 2, 1, 2, 1, 2, 1, 2, 1, 2, 1, 2, 1, 2, 1, 2, 1, 2, 1, 2, 1,\n",
      "         2, 1, 2, 1, 2, 1, 2, 1, 2, 1, 2, 0, 2, 1, 2, 1, 2, 1, 2, 1, 2, 1, 2, 1,\n",
      "         2, 1, 2, 1, 2, 1, 2, 0, 2, 1, 2, 1, 2, 1, 2, 1, 2, 1, 2, 1, 2, 1, 2, 1,\n",
      "         2, 1, 2]])\n",
      "Predicted: 0 True: 0, Predicted with start: 1\n",
      "\n",
      "Tokens = tensor([[ 3,  0,  2,  1,  6,  0,  2,  1, 10,  0,  3,  0,  3,  0,  2,  1, 11,  0,\n",
      "          9,  0,  2,  1,  2,  1,  2,  1,  2,  1,  2,  1,  9,  0,  2,  1,  5,  0,\n",
      "          2,  1,  7,  0,  9,  0,  2,  1,  2,  1,  2,  1,  2,  1,  2,  1,  2,  1,\n",
      "          2,  1,  2,  1,  2,  1,  2,  1,  2,  1,  2,  1,  2,  1,  2,  1,  2,  1,\n",
      "          2,  1,  2,  1,  2,  1,  2,  0,  2,  1,  2,  1,  2,  1,  2,  1,  9,  0,\n",
      "          2,  1,  2,  1,  2,  1,  2,  1, 11,  0,  7,  0,  7,  0, 10,  0,  2,  1,\n",
      "          2,  1,  7,  0,  2,  1,  2,  1,  2,  1,  2,  1,  2,  0,  2,  1,  2,  0,\n",
      "          2,  1,  2,  1,  5,  0,  5,  0,  2,  1,  4,  1,  4,  1,  4,  1,  4,  1,\n",
      "          7,  0,  3,  0]]), Start = tensor([[3, 0, 3, 1, 2, 1, 2, 1, 2, 1, 2, 1, 3, 0, 3, 0, 3, 0, 2, 1, 3, 0, 2, 1,\n",
      "         2, 1, 2, 1, 2, 1, 2, 1, 2, 1, 2, 1, 2, 1, 2, 1, 2, 1, 2, 1, 2, 1, 2, 0,\n",
      "         2, 1, 2, 1, 2, 0, 2, 1, 2, 1, 2, 1, 2, 1, 2, 1, 2, 0, 2, 1, 2, 0, 2, 1,\n",
      "         2, 1, 2, 1, 2, 1, 2, 1, 2, 1, 2, 1, 2, 1, 2, 1, 2, 1, 2, 1, 2, 1, 2, 1,\n",
      "         2, 1, 2, 1, 2, 1, 2, 1, 2, 1, 2, 0, 2, 1, 2, 1, 2, 1, 2, 1, 2, 1, 2, 1,\n",
      "         2, 1, 2, 1, 2, 1, 2, 0, 2, 1, 2, 1, 2, 1, 2, 1, 2, 1, 2, 1, 2, 1, 2, 1,\n",
      "         2, 1, 2, 1]])\n",
      "Predicted: 2 True: 4, Predicted with start: 2\n",
      "\n",
      "Tokens = tensor([[ 3,  0,  2,  1,  6,  0,  2,  1, 10,  0,  3,  0,  3,  0,  2,  1, 11,  0,\n",
      "          9,  0,  2,  1,  2,  1,  2,  1,  2,  1,  2,  1,  9,  0,  2,  1,  5,  0,\n",
      "          2,  1,  7,  0,  9,  0,  2,  1,  2,  1,  2,  1,  2,  1,  2,  1,  2,  1,\n",
      "          2,  1,  2,  1,  2,  1,  2,  1,  2,  1,  2,  1,  2,  1,  2,  1,  2,  1,\n",
      "          2,  1,  2,  1,  2,  1,  2,  0,  2,  1,  2,  1,  2,  1,  2,  1,  9,  0,\n",
      "          2,  1,  2,  1,  2,  1,  2,  1, 11,  0,  7,  0,  7,  0, 10,  0,  2,  1,\n",
      "          2,  1,  7,  0,  2,  1,  2,  1,  2,  1,  2,  1,  2,  0,  2,  1,  2,  0,\n",
      "          2,  1,  2,  1,  5,  0,  5,  0,  2,  1,  4,  1,  4,  1,  4,  1,  4,  1,\n",
      "          7,  0,  3,  0,  4]]), Start = tensor([[3, 0, 3, 1, 2, 1, 2, 1, 2, 1, 2, 1, 3, 0, 3, 0, 3, 0, 2, 1, 3, 0, 2, 1,\n",
      "         2, 1, 2, 1, 2, 1, 2, 1, 2, 1, 2, 1, 2, 1, 2, 1, 2, 1, 2, 1, 2, 1, 2, 0,\n",
      "         2, 1, 2, 1, 2, 0, 2, 1, 2, 1, 2, 1, 2, 1, 2, 1, 2, 0, 2, 1, 2, 0, 2, 1,\n",
      "         2, 1, 2, 1, 2, 1, 2, 1, 2, 1, 2, 1, 2, 1, 2, 1, 2, 1, 2, 1, 2, 1, 2, 1,\n",
      "         2, 1, 2, 1, 2, 1, 2, 1, 2, 1, 2, 0, 2, 1, 2, 1, 2, 1, 2, 1, 2, 1, 2, 1,\n",
      "         2, 1, 2, 1, 2, 1, 2, 0, 2, 1, 2, 1, 2, 1, 2, 1, 2, 1, 2, 1, 2, 1, 2, 1,\n",
      "         2, 1, 2, 1, 2]])\n",
      "Predicted: 0 True: 0, Predicted with start: 1\n",
      "\n",
      "Tokens = tensor([[ 3,  0,  2,  1,  6,  0,  2,  1, 10,  0,  3,  0,  3,  0,  2,  1, 11,  0,\n",
      "          9,  0,  2,  1,  2,  1,  2,  1,  2,  1,  2,  1,  9,  0,  2,  1,  5,  0,\n",
      "          2,  1,  7,  0,  9,  0,  2,  1,  2,  1,  2,  1,  2,  1,  2,  1,  2,  1,\n",
      "          2,  1,  2,  1,  2,  1,  2,  1,  2,  1,  2,  1,  2,  1,  2,  1,  2,  1,\n",
      "          2,  1,  2,  1,  2,  1,  2,  0,  2,  1,  2,  1,  2,  1,  2,  1,  9,  0,\n",
      "          2,  1,  2,  1,  2,  1,  2,  1, 11,  0,  7,  0,  7,  0, 10,  0,  2,  1,\n",
      "          2,  1,  7,  0,  2,  1,  2,  1,  2,  1,  2,  1,  2,  0,  2,  1,  2,  0,\n",
      "          2,  1,  2,  1,  5,  0,  5,  0,  2,  1,  4,  1,  4,  1,  4,  1,  4,  1,\n",
      "          7,  0,  3,  0,  4,  0]]), Start = tensor([[3, 0, 3, 1, 2, 1, 2, 1, 2, 1, 2, 1, 3, 0, 3, 0, 3, 0, 2, 1, 3, 0, 2, 1,\n",
      "         2, 1, 2, 1, 2, 1, 2, 1, 2, 1, 2, 1, 2, 1, 2, 1, 2, 1, 2, 1, 2, 1, 2, 0,\n",
      "         2, 1, 2, 1, 2, 0, 2, 1, 2, 1, 2, 1, 2, 1, 2, 1, 2, 0, 2, 1, 2, 0, 2, 1,\n",
      "         2, 1, 2, 1, 2, 1, 2, 1, 2, 1, 2, 1, 2, 1, 2, 1, 2, 1, 2, 1, 2, 1, 2, 1,\n",
      "         2, 1, 2, 1, 2, 1, 2, 1, 2, 1, 2, 0, 2, 1, 2, 1, 2, 1, 2, 1, 2, 1, 2, 1,\n",
      "         2, 1, 2, 1, 2, 1, 2, 0, 2, 1, 2, 1, 2, 1, 2, 1, 2, 1, 2, 1, 2, 1, 2, 1,\n",
      "         2, 1, 2, 1, 2, 1]])\n",
      "Predicted: 2 True: 2, Predicted with start: 2\n",
      "\n",
      "Tokens = tensor([[ 3,  0,  2,  1,  6,  0,  2,  1, 10,  0,  3,  0,  3,  0,  2,  1, 11,  0,\n",
      "          9,  0,  2,  1,  2,  1,  2,  1,  2,  1,  2,  1,  9,  0,  2,  1,  5,  0,\n",
      "          2,  1,  7,  0,  9,  0,  2,  1,  2,  1,  2,  1,  2,  1,  2,  1,  2,  1,\n",
      "          2,  1,  2,  1,  2,  1,  2,  1,  2,  1,  2,  1,  2,  1,  2,  1,  2,  1,\n",
      "          2,  1,  2,  1,  2,  1,  2,  0,  2,  1,  2,  1,  2,  1,  2,  1,  9,  0,\n",
      "          2,  1,  2,  1,  2,  1,  2,  1, 11,  0,  7,  0,  7,  0, 10,  0,  2,  1,\n",
      "          2,  1,  7,  0,  2,  1,  2,  1,  2,  1,  2,  1,  2,  0,  2,  1,  2,  0,\n",
      "          2,  1,  2,  1,  5,  0,  5,  0,  2,  1,  4,  1,  4,  1,  4,  1,  4,  1,\n",
      "          7,  0,  3,  0,  4,  0,  2]]), Start = tensor([[3, 0, 3, 1, 2, 1, 2, 1, 2, 1, 2, 1, 3, 0, 3, 0, 3, 0, 2, 1, 3, 0, 2, 1,\n",
      "         2, 1, 2, 1, 2, 1, 2, 1, 2, 1, 2, 1, 2, 1, 2, 1, 2, 1, 2, 1, 2, 1, 2, 0,\n",
      "         2, 1, 2, 1, 2, 0, 2, 1, 2, 1, 2, 1, 2, 1, 2, 1, 2, 0, 2, 1, 2, 0, 2, 1,\n",
      "         2, 1, 2, 1, 2, 1, 2, 1, 2, 1, 2, 1, 2, 1, 2, 1, 2, 1, 2, 1, 2, 1, 2, 1,\n",
      "         2, 1, 2, 1, 2, 1, 2, 1, 2, 1, 2, 0, 2, 1, 2, 1, 2, 1, 2, 1, 2, 1, 2, 1,\n",
      "         2, 1, 2, 1, 2, 1, 2, 0, 2, 1, 2, 1, 2, 1, 2, 1, 2, 1, 2, 1, 2, 1, 2, 1,\n",
      "         2, 1, 2, 1, 2, 1, 2]])\n",
      "Predicted: 1 True: 1, Predicted with start: 1\n",
      "\n",
      "Tokens = tensor([[ 3,  0,  2,  1,  6,  0,  2,  1, 10,  0,  3,  0,  3,  0,  2,  1, 11,  0,\n",
      "          9,  0,  2,  1,  2,  1,  2,  1,  2,  1,  2,  1,  9,  0,  2,  1,  5,  0,\n",
      "          2,  1,  7,  0,  9,  0,  2,  1,  2,  1,  2,  1,  2,  1,  2,  1,  2,  1,\n",
      "          2,  1,  2,  1,  2,  1,  2,  1,  2,  1,  2,  1,  2,  1,  2,  1,  2,  1,\n",
      "          2,  1,  2,  1,  2,  1,  2,  0,  2,  1,  2,  1,  2,  1,  2,  1,  9,  0,\n",
      "          2,  1,  2,  1,  2,  1,  2,  1, 11,  0,  7,  0,  7,  0, 10,  0,  2,  1,\n",
      "          2,  1,  7,  0,  2,  1,  2,  1,  2,  1,  2,  1,  2,  0,  2,  1,  2,  0,\n",
      "          2,  1,  2,  1,  5,  0,  5,  0,  2,  1,  4,  1,  4,  1,  4,  1,  4,  1,\n",
      "          7,  0,  3,  0,  4,  0,  2,  1]]), Start = tensor([[3, 0, 3, 1, 2, 1, 2, 1, 2, 1, 2, 1, 3, 0, 3, 0, 3, 0, 2, 1, 3, 0, 2, 1,\n",
      "         2, 1, 2, 1, 2, 1, 2, 1, 2, 1, 2, 1, 2, 1, 2, 1, 2, 1, 2, 1, 2, 1, 2, 0,\n",
      "         2, 1, 2, 1, 2, 0, 2, 1, 2, 1, 2, 1, 2, 1, 2, 1, 2, 0, 2, 1, 2, 0, 2, 1,\n",
      "         2, 1, 2, 1, 2, 1, 2, 1, 2, 1, 2, 1, 2, 1, 2, 1, 2, 1, 2, 1, 2, 1, 2, 1,\n",
      "         2, 1, 2, 1, 2, 1, 2, 1, 2, 1, 2, 0, 2, 1, 2, 1, 2, 1, 2, 1, 2, 1, 2, 1,\n",
      "         2, 1, 2, 1, 2, 1, 2, 0, 2, 1, 2, 1, 2, 1, 2, 1, 2, 1, 2, 1, 2, 1, 2, 1,\n",
      "         2, 1, 2, 1, 2, 1, 2, 1]])\n",
      "Predicted: 2 True: 2, Predicted with start: 2\n",
      "\n",
      "Tokens = tensor([[ 3,  0,  2,  1,  6,  0,  2,  1, 10,  0,  3,  0,  3,  0,  2,  1, 11,  0,\n",
      "          9,  0,  2,  1,  2,  1,  2,  1,  2,  1,  2,  1,  9,  0,  2,  1,  5,  0,\n",
      "          2,  1,  7,  0,  9,  0,  2,  1,  2,  1,  2,  1,  2,  1,  2,  1,  2,  1,\n",
      "          2,  1,  2,  1,  2,  1,  2,  1,  2,  1,  2,  1,  2,  1,  2,  1,  2,  1,\n",
      "          2,  1,  2,  1,  2,  1,  2,  0,  2,  1,  2,  1,  2,  1,  2,  1,  9,  0,\n",
      "          2,  1,  2,  1,  2,  1,  2,  1, 11,  0,  7,  0,  7,  0, 10,  0,  2,  1,\n",
      "          2,  1,  7,  0,  2,  1,  2,  1,  2,  1,  2,  1,  2,  0,  2,  1,  2,  0,\n",
      "          2,  1,  2,  1,  5,  0,  5,  0,  2,  1,  4,  1,  4,  1,  4,  1,  4,  1,\n",
      "          7,  0,  3,  0,  4,  0,  2,  1,  2]]), Start = tensor([[3, 0, 3, 1, 2, 1, 2, 1, 2, 1, 2, 1, 3, 0, 3, 0, 3, 0, 2, 1, 3, 0, 2, 1,\n",
      "         2, 1, 2, 1, 2, 1, 2, 1, 2, 1, 2, 1, 2, 1, 2, 1, 2, 1, 2, 1, 2, 1, 2, 0,\n",
      "         2, 1, 2, 1, 2, 0, 2, 1, 2, 1, 2, 1, 2, 1, 2, 1, 2, 0, 2, 1, 2, 0, 2, 1,\n",
      "         2, 1, 2, 1, 2, 1, 2, 1, 2, 1, 2, 1, 2, 1, 2, 1, 2, 1, 2, 1, 2, 1, 2, 1,\n",
      "         2, 1, 2, 1, 2, 1, 2, 1, 2, 1, 2, 0, 2, 1, 2, 1, 2, 1, 2, 1, 2, 1, 2, 1,\n",
      "         2, 1, 2, 1, 2, 1, 2, 0, 2, 1, 2, 1, 2, 1, 2, 1, 2, 1, 2, 1, 2, 1, 2, 1,\n",
      "         2, 1, 2, 1, 2, 1, 2, 1, 2]])\n",
      "Predicted: 1 True: 1, Predicted with start: 1\n",
      "\n",
      "Tokens = tensor([[ 3,  0,  2,  1,  6,  0,  2,  1, 10,  0,  3,  0,  3,  0,  2,  1, 11,  0,\n",
      "          9,  0,  2,  1,  2,  1,  2,  1,  2,  1,  2,  1,  9,  0,  2,  1,  5,  0,\n",
      "          2,  1,  7,  0,  9,  0,  2,  1,  2,  1,  2,  1,  2,  1,  2,  1,  2,  1,\n",
      "          2,  1,  2,  1,  2,  1,  2,  1,  2,  1,  2,  1,  2,  1,  2,  1,  2,  1,\n",
      "          2,  1,  2,  1,  2,  1,  2,  0,  2,  1,  2,  1,  2,  1,  2,  1,  9,  0,\n",
      "          2,  1,  2,  1,  2,  1,  2,  1, 11,  0,  7,  0,  7,  0, 10,  0,  2,  1,\n",
      "          2,  1,  7,  0,  2,  1,  2,  1,  2,  1,  2,  1,  2,  0,  2,  1,  2,  0,\n",
      "          2,  1,  2,  1,  5,  0,  5,  0,  2,  1,  4,  1,  4,  1,  4,  1,  4,  1,\n",
      "          7,  0,  3,  0,  4,  0,  2,  1,  2,  1]]), Start = tensor([[3, 0, 3, 1, 2, 1, 2, 1, 2, 1, 2, 1, 3, 0, 3, 0, 3, 0, 2, 1, 3, 0, 2, 1,\n",
      "         2, 1, 2, 1, 2, 1, 2, 1, 2, 1, 2, 1, 2, 1, 2, 1, 2, 1, 2, 1, 2, 1, 2, 0,\n",
      "         2, 1, 2, 1, 2, 0, 2, 1, 2, 1, 2, 1, 2, 1, 2, 1, 2, 0, 2, 1, 2, 0, 2, 1,\n",
      "         2, 1, 2, 1, 2, 1, 2, 1, 2, 1, 2, 1, 2, 1, 2, 1, 2, 1, 2, 1, 2, 1, 2, 1,\n",
      "         2, 1, 2, 1, 2, 1, 2, 1, 2, 1, 2, 0, 2, 1, 2, 1, 2, 1, 2, 1, 2, 1, 2, 1,\n",
      "         2, 1, 2, 1, 2, 1, 2, 0, 2, 1, 2, 1, 2, 1, 2, 1, 2, 1, 2, 1, 2, 1, 2, 1,\n",
      "         2, 1, 2, 1, 2, 1, 2, 1, 2, 0]])\n",
      "Predicted: 2 True: 2, Predicted with start: 2\n",
      "\n",
      "Tokens = tensor([[ 3,  0,  2,  1,  6,  0,  2,  1, 10,  0,  3,  0,  3,  0,  2,  1, 11,  0,\n",
      "          9,  0,  2,  1,  2,  1,  2,  1,  2,  1,  2,  1,  9,  0,  2,  1,  5,  0,\n",
      "          2,  1,  7,  0,  9,  0,  2,  1,  2,  1,  2,  1,  2,  1,  2,  1,  2,  1,\n",
      "          2,  1,  2,  1,  2,  1,  2,  1,  2,  1,  2,  1,  2,  1,  2,  1,  2,  1,\n",
      "          2,  1,  2,  1,  2,  1,  2,  0,  2,  1,  2,  1,  2,  1,  2,  1,  9,  0,\n",
      "          2,  1,  2,  1,  2,  1,  2,  1, 11,  0,  7,  0,  7,  0, 10,  0,  2,  1,\n",
      "          2,  1,  7,  0,  2,  1,  2,  1,  2,  1,  2,  1,  2,  0,  2,  1,  2,  0,\n",
      "          2,  1,  2,  1,  5,  0,  5,  0,  2,  1,  4,  1,  4,  1,  4,  1,  4,  1,\n",
      "          7,  0,  3,  0,  4,  0,  2,  1,  2,  1,  2]]), Start = tensor([[3, 0, 3, 1, 2, 1, 2, 1, 2, 1, 2, 1, 3, 0, 3, 0, 3, 0, 2, 1, 3, 0, 2, 1,\n",
      "         2, 1, 2, 1, 2, 1, 2, 1, 2, 1, 2, 1, 2, 1, 2, 1, 2, 1, 2, 1, 2, 1, 2, 0,\n",
      "         2, 1, 2, 1, 2, 0, 2, 1, 2, 1, 2, 1, 2, 1, 2, 1, 2, 0, 2, 1, 2, 0, 2, 1,\n",
      "         2, 1, 2, 1, 2, 1, 2, 1, 2, 1, 2, 1, 2, 1, 2, 1, 2, 1, 2, 1, 2, 1, 2, 1,\n",
      "         2, 1, 2, 1, 2, 1, 2, 1, 2, 1, 2, 0, 2, 1, 2, 1, 2, 1, 2, 1, 2, 1, 2, 1,\n",
      "         2, 1, 2, 1, 2, 1, 2, 0, 2, 1, 2, 1, 2, 1, 2, 1, 2, 1, 2, 1, 2, 1, 2, 1,\n",
      "         2, 1, 2, 1, 2, 1, 2, 1, 2, 0, 2]])\n",
      "Predicted: 1 True: 1, Predicted with start: 1\n",
      "\n",
      "Tokens = tensor([[ 3,  0,  2,  1,  6,  0,  2,  1, 10,  0,  3,  0,  3,  0,  2,  1, 11,  0,\n",
      "          9,  0,  2,  1,  2,  1,  2,  1,  2,  1,  2,  1,  9,  0,  2,  1,  5,  0,\n",
      "          2,  1,  7,  0,  9,  0,  2,  1,  2,  1,  2,  1,  2,  1,  2,  1,  2,  1,\n",
      "          2,  1,  2,  1,  2,  1,  2,  1,  2,  1,  2,  1,  2,  1,  2,  1,  2,  1,\n",
      "          2,  1,  2,  1,  2,  1,  2,  0,  2,  1,  2,  1,  2,  1,  2,  1,  9,  0,\n",
      "          2,  1,  2,  1,  2,  1,  2,  1, 11,  0,  7,  0,  7,  0, 10,  0,  2,  1,\n",
      "          2,  1,  7,  0,  2,  1,  2,  1,  2,  1,  2,  1,  2,  0,  2,  1,  2,  0,\n",
      "          2,  1,  2,  1,  5,  0,  5,  0,  2,  1,  4,  1,  4,  1,  4,  1,  4,  1,\n",
      "          7,  0,  3,  0,  4,  0,  2,  1,  2,  1,  2,  1]]), Start = tensor([[3, 0, 3, 1, 2, 1, 2, 1, 2, 1, 2, 1, 3, 0, 3, 0, 3, 0, 2, 1, 3, 0, 2, 1,\n",
      "         2, 1, 2, 1, 2, 1, 2, 1, 2, 1, 2, 1, 2, 1, 2, 1, 2, 1, 2, 1, 2, 1, 2, 0,\n",
      "         2, 1, 2, 1, 2, 0, 2, 1, 2, 1, 2, 1, 2, 1, 2, 1, 2, 0, 2, 1, 2, 0, 2, 1,\n",
      "         2, 1, 2, 1, 2, 1, 2, 1, 2, 1, 2, 1, 2, 1, 2, 1, 2, 1, 2, 1, 2, 1, 2, 1,\n",
      "         2, 1, 2, 1, 2, 1, 2, 1, 2, 1, 2, 0, 2, 1, 2, 1, 2, 1, 2, 1, 2, 1, 2, 1,\n",
      "         2, 1, 2, 1, 2, 1, 2, 0, 2, 1, 2, 1, 2, 1, 2, 1, 2, 1, 2, 1, 2, 1, 2, 1,\n",
      "         2, 1, 2, 1, 2, 1, 2, 1, 2, 0, 2, 0]])\n",
      "Predicted: 2 True: 5, Predicted with start: 2\n",
      "\n",
      "Tokens = tensor([[ 3,  0,  2,  1,  6,  0,  2,  1, 10,  0,  3,  0,  3,  0,  2,  1, 11,  0,\n",
      "          9,  0,  2,  1,  2,  1,  2,  1,  2,  1,  2,  1,  9,  0,  2,  1,  5,  0,\n",
      "          2,  1,  7,  0,  9,  0,  2,  1,  2,  1,  2,  1,  2,  1,  2,  1,  2,  1,\n",
      "          2,  1,  2,  1,  2,  1,  2,  1,  2,  1,  2,  1,  2,  1,  2,  1,  2,  1,\n",
      "          2,  1,  2,  1,  2,  1,  2,  0,  2,  1,  2,  1,  2,  1,  2,  1,  9,  0,\n",
      "          2,  1,  2,  1,  2,  1,  2,  1, 11,  0,  7,  0,  7,  0, 10,  0,  2,  1,\n",
      "          2,  1,  7,  0,  2,  1,  2,  1,  2,  1,  2,  1,  2,  0,  2,  1,  2,  0,\n",
      "          2,  1,  2,  1,  5,  0,  5,  0,  2,  1,  4,  1,  4,  1,  4,  1,  4,  1,\n",
      "          7,  0,  3,  0,  4,  0,  2,  1,  2,  1,  2,  1,  5]]), Start = tensor([[3, 0, 3, 1, 2, 1, 2, 1, 2, 1, 2, 1, 3, 0, 3, 0, 3, 0, 2, 1, 3, 0, 2, 1,\n",
      "         2, 1, 2, 1, 2, 1, 2, 1, 2, 1, 2, 1, 2, 1, 2, 1, 2, 1, 2, 1, 2, 1, 2, 0,\n",
      "         2, 1, 2, 1, 2, 0, 2, 1, 2, 1, 2, 1, 2, 1, 2, 1, 2, 0, 2, 1, 2, 0, 2, 1,\n",
      "         2, 1, 2, 1, 2, 1, 2, 1, 2, 1, 2, 1, 2, 1, 2, 1, 2, 1, 2, 1, 2, 1, 2, 1,\n",
      "         2, 1, 2, 1, 2, 1, 2, 1, 2, 1, 2, 0, 2, 1, 2, 1, 2, 1, 2, 1, 2, 1, 2, 1,\n",
      "         2, 1, 2, 1, 2, 1, 2, 0, 2, 1, 2, 1, 2, 1, 2, 1, 2, 1, 2, 1, 2, 1, 2, 1,\n",
      "         2, 1, 2, 1, 2, 1, 2, 1, 2, 0, 2, 0, 2]])\n",
      "Predicted: 0 True: 0, Predicted with start: 1\n",
      "\n",
      "Tokens = tensor([[ 3,  0,  2,  1,  6,  0,  2,  1, 10,  0,  3,  0,  3,  0,  2,  1, 11,  0,\n",
      "          9,  0,  2,  1,  2,  1,  2,  1,  2,  1,  2,  1,  9,  0,  2,  1,  5,  0,\n",
      "          2,  1,  7,  0,  9,  0,  2,  1,  2,  1,  2,  1,  2,  1,  2,  1,  2,  1,\n",
      "          2,  1,  2,  1,  2,  1,  2,  1,  2,  1,  2,  1,  2,  1,  2,  1,  2,  1,\n",
      "          2,  1,  2,  1,  2,  1,  2,  0,  2,  1,  2,  1,  2,  1,  2,  1,  9,  0,\n",
      "          2,  1,  2,  1,  2,  1,  2,  1, 11,  0,  7,  0,  7,  0, 10,  0,  2,  1,\n",
      "          2,  1,  7,  0,  2,  1,  2,  1,  2,  1,  2,  1,  2,  0,  2,  1,  2,  0,\n",
      "          2,  1,  2,  1,  5,  0,  5,  0,  2,  1,  4,  1,  4,  1,  4,  1,  4,  1,\n",
      "          7,  0,  3,  0,  4,  0,  2,  1,  2,  1,  2,  1,  5,  0]]), Start = tensor([[3, 0, 3, 1, 2, 1, 2, 1, 2, 1, 2, 1, 3, 0, 3, 0, 3, 0, 2, 1, 3, 0, 2, 1,\n",
      "         2, 1, 2, 1, 2, 1, 2, 1, 2, 1, 2, 1, 2, 1, 2, 1, 2, 1, 2, 1, 2, 1, 2, 0,\n",
      "         2, 1, 2, 1, 2, 0, 2, 1, 2, 1, 2, 1, 2, 1, 2, 1, 2, 0, 2, 1, 2, 0, 2, 1,\n",
      "         2, 1, 2, 1, 2, 1, 2, 1, 2, 1, 2, 1, 2, 1, 2, 1, 2, 1, 2, 1, 2, 1, 2, 1,\n",
      "         2, 1, 2, 1, 2, 1, 2, 1, 2, 1, 2, 0, 2, 1, 2, 1, 2, 1, 2, 1, 2, 1, 2, 1,\n",
      "         2, 1, 2, 1, 2, 1, 2, 0, 2, 1, 2, 1, 2, 1, 2, 1, 2, 1, 2, 1, 2, 1, 2, 1,\n",
      "         2, 1, 2, 1, 2, 1, 2, 1, 2, 0, 2, 0, 2, 1]])\n",
      "Predicted: 2 True: 2, Predicted with start: 2\n",
      "\n",
      "Tokens = tensor([[ 3,  0,  2,  1,  6,  0,  2,  1, 10,  0,  3,  0,  3,  0,  2,  1, 11,  0,\n",
      "          9,  0,  2,  1,  2,  1,  2,  1,  2,  1,  2,  1,  9,  0,  2,  1,  5,  0,\n",
      "          2,  1,  7,  0,  9,  0,  2,  1,  2,  1,  2,  1,  2,  1,  2,  1,  2,  1,\n",
      "          2,  1,  2,  1,  2,  1,  2,  1,  2,  1,  2,  1,  2,  1,  2,  1,  2,  1,\n",
      "          2,  1,  2,  1,  2,  1,  2,  0,  2,  1,  2,  1,  2,  1,  2,  1,  9,  0,\n",
      "          2,  1,  2,  1,  2,  1,  2,  1, 11,  0,  7,  0,  7,  0, 10,  0,  2,  1,\n",
      "          2,  1,  7,  0,  2,  1,  2,  1,  2,  1,  2,  1,  2,  0,  2,  1,  2,  0,\n",
      "          2,  1,  2,  1,  5,  0,  5,  0,  2,  1,  4,  1,  4,  1,  4,  1,  4,  1,\n",
      "          7,  0,  3,  0,  4,  0,  2,  1,  2,  1,  2,  1,  5,  0,  2]]), Start = tensor([[3, 0, 3, 1, 2, 1, 2, 1, 2, 1, 2, 1, 3, 0, 3, 0, 3, 0, 2, 1, 3, 0, 2, 1,\n",
      "         2, 1, 2, 1, 2, 1, 2, 1, 2, 1, 2, 1, 2, 1, 2, 1, 2, 1, 2, 1, 2, 1, 2, 0,\n",
      "         2, 1, 2, 1, 2, 0, 2, 1, 2, 1, 2, 1, 2, 1, 2, 1, 2, 0, 2, 1, 2, 0, 2, 1,\n",
      "         2, 1, 2, 1, 2, 1, 2, 1, 2, 1, 2, 1, 2, 1, 2, 1, 2, 1, 2, 1, 2, 1, 2, 1,\n",
      "         2, 1, 2, 1, 2, 1, 2, 1, 2, 1, 2, 0, 2, 1, 2, 1, 2, 1, 2, 1, 2, 1, 2, 1,\n",
      "         2, 1, 2, 1, 2, 1, 2, 0, 2, 1, 2, 1, 2, 1, 2, 1, 2, 1, 2, 1, 2, 1, 2, 1,\n",
      "         2, 1, 2, 1, 2, 1, 2, 1, 2, 0, 2, 0, 2, 1, 2]])\n",
      "Predicted: 1 True: 1, Predicted with start: 1\n",
      "\n",
      "Tokens = tensor([[ 3,  0,  2,  1,  6,  0,  2,  1, 10,  0,  3,  0,  3,  0,  2,  1, 11,  0,\n",
      "          9,  0,  2,  1,  2,  1,  2,  1,  2,  1,  2,  1,  9,  0,  2,  1,  5,  0,\n",
      "          2,  1,  7,  0,  9,  0,  2,  1,  2,  1,  2,  1,  2,  1,  2,  1,  2,  1,\n",
      "          2,  1,  2,  1,  2,  1,  2,  1,  2,  1,  2,  1,  2,  1,  2,  1,  2,  1,\n",
      "          2,  1,  2,  1,  2,  1,  2,  0,  2,  1,  2,  1,  2,  1,  2,  1,  9,  0,\n",
      "          2,  1,  2,  1,  2,  1,  2,  1, 11,  0,  7,  0,  7,  0, 10,  0,  2,  1,\n",
      "          2,  1,  7,  0,  2,  1,  2,  1,  2,  1,  2,  1,  2,  0,  2,  1,  2,  0,\n",
      "          2,  1,  2,  1,  5,  0,  5,  0,  2,  1,  4,  1,  4,  1,  4,  1,  4,  1,\n",
      "          7,  0,  3,  0,  4,  0,  2,  1,  2,  1,  2,  1,  5,  0,  2,  1]]), Start = tensor([[3, 0, 3, 1, 2, 1, 2, 1, 2, 1, 2, 1, 3, 0, 3, 0, 3, 0, 2, 1, 3, 0, 2, 1,\n",
      "         2, 1, 2, 1, 2, 1, 2, 1, 2, 1, 2, 1, 2, 1, 2, 1, 2, 1, 2, 1, 2, 1, 2, 0,\n",
      "         2, 1, 2, 1, 2, 0, 2, 1, 2, 1, 2, 1, 2, 1, 2, 1, 2, 0, 2, 1, 2, 0, 2, 1,\n",
      "         2, 1, 2, 1, 2, 1, 2, 1, 2, 1, 2, 1, 2, 1, 2, 1, 2, 1, 2, 1, 2, 1, 2, 1,\n",
      "         2, 1, 2, 1, 2, 1, 2, 1, 2, 1, 2, 0, 2, 1, 2, 1, 2, 1, 2, 1, 2, 1, 2, 1,\n",
      "         2, 1, 2, 1, 2, 1, 2, 0, 2, 1, 2, 1, 2, 1, 2, 1, 2, 1, 2, 1, 2, 1, 2, 1,\n",
      "         2, 1, 2, 1, 2, 1, 2, 1, 2, 0, 2, 0, 2, 1, 2, 1]])\n",
      "Predicted: 2 True: 2, Predicted with start: 2\n",
      "\n",
      "Tokens = tensor([[ 3,  0,  2,  1,  6,  0,  2,  1, 10,  0,  3,  0,  3,  0,  2,  1, 11,  0,\n",
      "          9,  0,  2,  1,  2,  1,  2,  1,  2,  1,  2,  1,  9,  0,  2,  1,  5,  0,\n",
      "          2,  1,  7,  0,  9,  0,  2,  1,  2,  1,  2,  1,  2,  1,  2,  1,  2,  1,\n",
      "          2,  1,  2,  1,  2,  1,  2,  1,  2,  1,  2,  1,  2,  1,  2,  1,  2,  1,\n",
      "          2,  1,  2,  1,  2,  1,  2,  0,  2,  1,  2,  1,  2,  1,  2,  1,  9,  0,\n",
      "          2,  1,  2,  1,  2,  1,  2,  1, 11,  0,  7,  0,  7,  0, 10,  0,  2,  1,\n",
      "          2,  1,  7,  0,  2,  1,  2,  1,  2,  1,  2,  1,  2,  0,  2,  1,  2,  0,\n",
      "          2,  1,  2,  1,  5,  0,  5,  0,  2,  1,  4,  1,  4,  1,  4,  1,  4,  1,\n",
      "          7,  0,  3,  0,  4,  0,  2,  1,  2,  1,  2,  1,  5,  0,  2,  1,  2]]), Start = tensor([[3, 0, 3, 1, 2, 1, 2, 1, 2, 1, 2, 1, 3, 0, 3, 0, 3, 0, 2, 1, 3, 0, 2, 1,\n",
      "         2, 1, 2, 1, 2, 1, 2, 1, 2, 1, 2, 1, 2, 1, 2, 1, 2, 1, 2, 1, 2, 1, 2, 0,\n",
      "         2, 1, 2, 1, 2, 0, 2, 1, 2, 1, 2, 1, 2, 1, 2, 1, 2, 0, 2, 1, 2, 0, 2, 1,\n",
      "         2, 1, 2, 1, 2, 1, 2, 1, 2, 1, 2, 1, 2, 1, 2, 1, 2, 1, 2, 1, 2, 1, 2, 1,\n",
      "         2, 1, 2, 1, 2, 1, 2, 1, 2, 1, 2, 0, 2, 1, 2, 1, 2, 1, 2, 1, 2, 1, 2, 1,\n",
      "         2, 1, 2, 1, 2, 1, 2, 0, 2, 1, 2, 1, 2, 1, 2, 1, 2, 1, 2, 1, 2, 1, 2, 1,\n",
      "         2, 1, 2, 1, 2, 1, 2, 1, 2, 0, 2, 0, 2, 1, 2, 1, 2]])\n",
      "Predicted: 1 True: 1, Predicted with start: 1\n",
      "\n",
      "Tokens = tensor([[ 3,  0,  2,  1,  6,  0,  2,  1, 10,  0,  3,  0,  3,  0,  2,  1, 11,  0,\n",
      "          9,  0,  2,  1,  2,  1,  2,  1,  2,  1,  2,  1,  9,  0,  2,  1,  5,  0,\n",
      "          2,  1,  7,  0,  9,  0,  2,  1,  2,  1,  2,  1,  2,  1,  2,  1,  2,  1,\n",
      "          2,  1,  2,  1,  2,  1,  2,  1,  2,  1,  2,  1,  2,  1,  2,  1,  2,  1,\n",
      "          2,  1,  2,  1,  2,  1,  2,  0,  2,  1,  2,  1,  2,  1,  2,  1,  9,  0,\n",
      "          2,  1,  2,  1,  2,  1,  2,  1, 11,  0,  7,  0,  7,  0, 10,  0,  2,  1,\n",
      "          2,  1,  7,  0,  2,  1,  2,  1,  2,  1,  2,  1,  2,  0,  2,  1,  2,  0,\n",
      "          2,  1,  2,  1,  5,  0,  5,  0,  2,  1,  4,  1,  4,  1,  4,  1,  4,  1,\n",
      "          7,  0,  3,  0,  4,  0,  2,  1,  2,  1,  2,  1,  5,  0,  2,  1,  2,  1]]), Start = tensor([[3, 0, 3, 1, 2, 1, 2, 1, 2, 1, 2, 1, 3, 0, 3, 0, 3, 0, 2, 1, 3, 0, 2, 1,\n",
      "         2, 1, 2, 1, 2, 1, 2, 1, 2, 1, 2, 1, 2, 1, 2, 1, 2, 1, 2, 1, 2, 1, 2, 0,\n",
      "         2, 1, 2, 1, 2, 0, 2, 1, 2, 1, 2, 1, 2, 1, 2, 1, 2, 0, 2, 1, 2, 0, 2, 1,\n",
      "         2, 1, 2, 1, 2, 1, 2, 1, 2, 1, 2, 1, 2, 1, 2, 1, 2, 1, 2, 1, 2, 1, 2, 1,\n",
      "         2, 1, 2, 1, 2, 1, 2, 1, 2, 1, 2, 0, 2, 1, 2, 1, 2, 1, 2, 1, 2, 1, 2, 1,\n",
      "         2, 1, 2, 1, 2, 1, 2, 0, 2, 1, 2, 1, 2, 1, 2, 1, 2, 1, 2, 1, 2, 1, 2, 1,\n",
      "         2, 1, 2, 1, 2, 1, 2, 1, 2, 0, 2, 0, 2, 1, 2, 1, 2, 1]])\n",
      "Predicted: 2 True: 2, Predicted with start: 2\n",
      "\n",
      "Tokens = tensor([[ 3,  0,  2,  1,  6,  0,  2,  1, 10,  0,  3,  0,  3,  0,  2,  1, 11,  0,\n",
      "          9,  0,  2,  1,  2,  1,  2,  1,  2,  1,  2,  1,  9,  0,  2,  1,  5,  0,\n",
      "          2,  1,  7,  0,  9,  0,  2,  1,  2,  1,  2,  1,  2,  1,  2,  1,  2,  1,\n",
      "          2,  1,  2,  1,  2,  1,  2,  1,  2,  1,  2,  1,  2,  1,  2,  1,  2,  1,\n",
      "          2,  1,  2,  1,  2,  1,  2,  0,  2,  1,  2,  1,  2,  1,  2,  1,  9,  0,\n",
      "          2,  1,  2,  1,  2,  1,  2,  1, 11,  0,  7,  0,  7,  0, 10,  0,  2,  1,\n",
      "          2,  1,  7,  0,  2,  1,  2,  1,  2,  1,  2,  1,  2,  0,  2,  1,  2,  0,\n",
      "          2,  1,  2,  1,  5,  0,  5,  0,  2,  1,  4,  1,  4,  1,  4,  1,  4,  1,\n",
      "          7,  0,  3,  0,  4,  0,  2,  1,  2,  1,  2,  1,  5,  0,  2,  1,  2,  1,\n",
      "          2]]), Start = tensor([[3, 0, 3, 1, 2, 1, 2, 1, 2, 1, 2, 1, 3, 0, 3, 0, 3, 0, 2, 1, 3, 0, 2, 1,\n",
      "         2, 1, 2, 1, 2, 1, 2, 1, 2, 1, 2, 1, 2, 1, 2, 1, 2, 1, 2, 1, 2, 1, 2, 0,\n",
      "         2, 1, 2, 1, 2, 0, 2, 1, 2, 1, 2, 1, 2, 1, 2, 1, 2, 0, 2, 1, 2, 0, 2, 1,\n",
      "         2, 1, 2, 1, 2, 1, 2, 1, 2, 1, 2, 1, 2, 1, 2, 1, 2, 1, 2, 1, 2, 1, 2, 1,\n",
      "         2, 1, 2, 1, 2, 1, 2, 1, 2, 1, 2, 0, 2, 1, 2, 1, 2, 1, 2, 1, 2, 1, 2, 1,\n",
      "         2, 1, 2, 1, 2, 1, 2, 0, 2, 1, 2, 1, 2, 1, 2, 1, 2, 1, 2, 1, 2, 1, 2, 1,\n",
      "         2, 1, 2, 1, 2, 1, 2, 1, 2, 0, 2, 0, 2, 1, 2, 1, 2, 1, 2]])\n",
      "Predicted: 1 True: 1, Predicted with start: 1\n",
      "\n",
      "Tokens = tensor([[ 3,  0,  2,  1,  6,  0,  2,  1, 10,  0,  3,  0,  3,  0,  2,  1, 11,  0,\n",
      "          9,  0,  2,  1,  2,  1,  2,  1,  2,  1,  2,  1,  9,  0,  2,  1,  5,  0,\n",
      "          2,  1,  7,  0,  9,  0,  2,  1,  2,  1,  2,  1,  2,  1,  2,  1,  2,  1,\n",
      "          2,  1,  2,  1,  2,  1,  2,  1,  2,  1,  2,  1,  2,  1,  2,  1,  2,  1,\n",
      "          2,  1,  2,  1,  2,  1,  2,  0,  2,  1,  2,  1,  2,  1,  2,  1,  9,  0,\n",
      "          2,  1,  2,  1,  2,  1,  2,  1, 11,  0,  7,  0,  7,  0, 10,  0,  2,  1,\n",
      "          2,  1,  7,  0,  2,  1,  2,  1,  2,  1,  2,  1,  2,  0,  2,  1,  2,  0,\n",
      "          2,  1,  2,  1,  5,  0,  5,  0,  2,  1,  4,  1,  4,  1,  4,  1,  4,  1,\n",
      "          7,  0,  3,  0,  4,  0,  2,  1,  2,  1,  2,  1,  5,  0,  2,  1,  2,  1,\n",
      "          2,  1]]), Start = tensor([[3, 0, 3, 1, 2, 1, 2, 1, 2, 1, 2, 1, 3, 0, 3, 0, 3, 0, 2, 1, 3, 0, 2, 1,\n",
      "         2, 1, 2, 1, 2, 1, 2, 1, 2, 1, 2, 1, 2, 1, 2, 1, 2, 1, 2, 1, 2, 1, 2, 0,\n",
      "         2, 1, 2, 1, 2, 0, 2, 1, 2, 1, 2, 1, 2, 1, 2, 1, 2, 0, 2, 1, 2, 0, 2, 1,\n",
      "         2, 1, 2, 1, 2, 1, 2, 1, 2, 1, 2, 1, 2, 1, 2, 1, 2, 1, 2, 1, 2, 1, 2, 1,\n",
      "         2, 1, 2, 1, 2, 1, 2, 1, 2, 1, 2, 0, 2, 1, 2, 1, 2, 1, 2, 1, 2, 1, 2, 1,\n",
      "         2, 1, 2, 1, 2, 1, 2, 0, 2, 1, 2, 1, 2, 1, 2, 1, 2, 1, 2, 1, 2, 1, 2, 1,\n",
      "         2, 1, 2, 1, 2, 1, 2, 1, 2, 0, 2, 0, 2, 1, 2, 1, 2, 1, 2, 1]])\n",
      "Predicted: 2 True: 2, Predicted with start: 2\n",
      "\n",
      "Tokens = tensor([[ 3,  0,  2,  1,  6,  0,  2,  1, 10,  0,  3,  0,  3,  0,  2,  1, 11,  0,\n",
      "          9,  0,  2,  1,  2,  1,  2,  1,  2,  1,  2,  1,  9,  0,  2,  1,  5,  0,\n",
      "          2,  1,  7,  0,  9,  0,  2,  1,  2,  1,  2,  1,  2,  1,  2,  1,  2,  1,\n",
      "          2,  1,  2,  1,  2,  1,  2,  1,  2,  1,  2,  1,  2,  1,  2,  1,  2,  1,\n",
      "          2,  1,  2,  1,  2,  1,  2,  0,  2,  1,  2,  1,  2,  1,  2,  1,  9,  0,\n",
      "          2,  1,  2,  1,  2,  1,  2,  1, 11,  0,  7,  0,  7,  0, 10,  0,  2,  1,\n",
      "          2,  1,  7,  0,  2,  1,  2,  1,  2,  1,  2,  1,  2,  0,  2,  1,  2,  0,\n",
      "          2,  1,  2,  1,  5,  0,  5,  0,  2,  1,  4,  1,  4,  1,  4,  1,  4,  1,\n",
      "          7,  0,  3,  0,  4,  0,  2,  1,  2,  1,  2,  1,  5,  0,  2,  1,  2,  1,\n",
      "          2,  1,  2]]), Start = tensor([[3, 0, 3, 1, 2, 1, 2, 1, 2, 1, 2, 1, 3, 0, 3, 0, 3, 0, 2, 1, 3, 0, 2, 1,\n",
      "         2, 1, 2, 1, 2, 1, 2, 1, 2, 1, 2, 1, 2, 1, 2, 1, 2, 1, 2, 1, 2, 1, 2, 0,\n",
      "         2, 1, 2, 1, 2, 0, 2, 1, 2, 1, 2, 1, 2, 1, 2, 1, 2, 0, 2, 1, 2, 0, 2, 1,\n",
      "         2, 1, 2, 1, 2, 1, 2, 1, 2, 1, 2, 1, 2, 1, 2, 1, 2, 1, 2, 1, 2, 1, 2, 1,\n",
      "         2, 1, 2, 1, 2, 1, 2, 1, 2, 1, 2, 0, 2, 1, 2, 1, 2, 1, 2, 1, 2, 1, 2, 1,\n",
      "         2, 1, 2, 1, 2, 1, 2, 0, 2, 1, 2, 1, 2, 1, 2, 1, 2, 1, 2, 1, 2, 1, 2, 1,\n",
      "         2, 1, 2, 1, 2, 1, 2, 1, 2, 0, 2, 0, 2, 1, 2, 1, 2, 1, 2, 1, 2]])\n",
      "Predicted: 1 True: 1, Predicted with start: 1\n",
      "\n",
      "Tokens = tensor([[ 3,  0,  2,  1,  6,  0,  2,  1, 10,  0,  3,  0,  3,  0,  2,  1, 11,  0,\n",
      "          9,  0,  2,  1,  2,  1,  2,  1,  2,  1,  2,  1,  9,  0,  2,  1,  5,  0,\n",
      "          2,  1,  7,  0,  9,  0,  2,  1,  2,  1,  2,  1,  2,  1,  2,  1,  2,  1,\n",
      "          2,  1,  2,  1,  2,  1,  2,  1,  2,  1,  2,  1,  2,  1,  2,  1,  2,  1,\n",
      "          2,  1,  2,  1,  2,  1,  2,  0,  2,  1,  2,  1,  2,  1,  2,  1,  9,  0,\n",
      "          2,  1,  2,  1,  2,  1,  2,  1, 11,  0,  7,  0,  7,  0, 10,  0,  2,  1,\n",
      "          2,  1,  7,  0,  2,  1,  2,  1,  2,  1,  2,  1,  2,  0,  2,  1,  2,  0,\n",
      "          2,  1,  2,  1,  5,  0,  5,  0,  2,  1,  4,  1,  4,  1,  4,  1,  4,  1,\n",
      "          7,  0,  3,  0,  4,  0,  2,  1,  2,  1,  2,  1,  5,  0,  2,  1,  2,  1,\n",
      "          2,  1,  2,  1]]), Start = tensor([[3, 0, 3, 1, 2, 1, 2, 1, 2, 1, 2, 1, 3, 0, 3, 0, 3, 0, 2, 1, 3, 0, 2, 1,\n",
      "         2, 1, 2, 1, 2, 1, 2, 1, 2, 1, 2, 1, 2, 1, 2, 1, 2, 1, 2, 1, 2, 1, 2, 0,\n",
      "         2, 1, 2, 1, 2, 0, 2, 1, 2, 1, 2, 1, 2, 1, 2, 1, 2, 0, 2, 1, 2, 0, 2, 1,\n",
      "         2, 1, 2, 1, 2, 1, 2, 1, 2, 1, 2, 1, 2, 1, 2, 1, 2, 1, 2, 1, 2, 1, 2, 1,\n",
      "         2, 1, 2, 1, 2, 1, 2, 1, 2, 1, 2, 0, 2, 1, 2, 1, 2, 1, 2, 1, 2, 1, 2, 1,\n",
      "         2, 1, 2, 1, 2, 1, 2, 0, 2, 1, 2, 1, 2, 1, 2, 1, 2, 1, 2, 1, 2, 1, 2, 1,\n",
      "         2, 1, 2, 1, 2, 1, 2, 1, 2, 0, 2, 0, 2, 1, 2, 1, 2, 1, 2, 1, 2, 0]])\n",
      "Predicted: 2 True: 4, Predicted with start: 2\n",
      "\n",
      "Tokens = tensor([[ 3,  0,  2,  1,  6,  0,  2,  1, 10,  0,  3,  0,  3,  0,  2,  1, 11,  0,\n",
      "          9,  0,  2,  1,  2,  1,  2,  1,  2,  1,  2,  1,  9,  0,  2,  1,  5,  0,\n",
      "          2,  1,  7,  0,  9,  0,  2,  1,  2,  1,  2,  1,  2,  1,  2,  1,  2,  1,\n",
      "          2,  1,  2,  1,  2,  1,  2,  1,  2,  1,  2,  1,  2,  1,  2,  1,  2,  1,\n",
      "          2,  1,  2,  1,  2,  1,  2,  0,  2,  1,  2,  1,  2,  1,  2,  1,  9,  0,\n",
      "          2,  1,  2,  1,  2,  1,  2,  1, 11,  0,  7,  0,  7,  0, 10,  0,  2,  1,\n",
      "          2,  1,  7,  0,  2,  1,  2,  1,  2,  1,  2,  1,  2,  0,  2,  1,  2,  0,\n",
      "          2,  1,  2,  1,  5,  0,  5,  0,  2,  1,  4,  1,  4,  1,  4,  1,  4,  1,\n",
      "          7,  0,  3,  0,  4,  0,  2,  1,  2,  1,  2,  1,  5,  0,  2,  1,  2,  1,\n",
      "          2,  1,  2,  1,  4]]), Start = tensor([[3, 0, 3, 1, 2, 1, 2, 1, 2, 1, 2, 1, 3, 0, 3, 0, 3, 0, 2, 1, 3, 0, 2, 1,\n",
      "         2, 1, 2, 1, 2, 1, 2, 1, 2, 1, 2, 1, 2, 1, 2, 1, 2, 1, 2, 1, 2, 1, 2, 0,\n",
      "         2, 1, 2, 1, 2, 0, 2, 1, 2, 1, 2, 1, 2, 1, 2, 1, 2, 0, 2, 1, 2, 0, 2, 1,\n",
      "         2, 1, 2, 1, 2, 1, 2, 1, 2, 1, 2, 1, 2, 1, 2, 1, 2, 1, 2, 1, 2, 1, 2, 1,\n",
      "         2, 1, 2, 1, 2, 1, 2, 1, 2, 1, 2, 0, 2, 1, 2, 1, 2, 1, 2, 1, 2, 1, 2, 1,\n",
      "         2, 1, 2, 1, 2, 1, 2, 0, 2, 1, 2, 1, 2, 1, 2, 1, 2, 1, 2, 1, 2, 1, 2, 1,\n",
      "         2, 1, 2, 1, 2, 1, 2, 1, 2, 0, 2, 0, 2, 1, 2, 1, 2, 1, 2, 1, 2, 0, 2]])\n",
      "Predicted: 0 True: 1, Predicted with start: 1\n",
      "\n",
      "Tokens = tensor([[ 3,  0,  2,  1,  6,  0,  2,  1, 10,  0,  3,  0,  3,  0,  2,  1, 11,  0,\n",
      "          9,  0,  2,  1,  2,  1,  2,  1,  2,  1,  2,  1,  9,  0,  2,  1,  5,  0,\n",
      "          2,  1,  7,  0,  9,  0,  2,  1,  2,  1,  2,  1,  2,  1,  2,  1,  2,  1,\n",
      "          2,  1,  2,  1,  2,  1,  2,  1,  2,  1,  2,  1,  2,  1,  2,  1,  2,  1,\n",
      "          2,  1,  2,  1,  2,  1,  2,  0,  2,  1,  2,  1,  2,  1,  2,  1,  9,  0,\n",
      "          2,  1,  2,  1,  2,  1,  2,  1, 11,  0,  7,  0,  7,  0, 10,  0,  2,  1,\n",
      "          2,  1,  7,  0,  2,  1,  2,  1,  2,  1,  2,  1,  2,  0,  2,  1,  2,  0,\n",
      "          2,  1,  2,  1,  5,  0,  5,  0,  2,  1,  4,  1,  4,  1,  4,  1,  4,  1,\n",
      "          7,  0,  3,  0,  4,  0,  2,  1,  2,  1,  2,  1,  5,  0,  2,  1,  2,  1,\n",
      "          2,  1,  2,  1,  4,  1]]), Start = tensor([[3, 0, 3, 1, 2, 1, 2, 1, 2, 1, 2, 1, 3, 0, 3, 0, 3, 0, 2, 1, 3, 0, 2, 1,\n",
      "         2, 1, 2, 1, 2, 1, 2, 1, 2, 1, 2, 1, 2, 1, 2, 1, 2, 1, 2, 1, 2, 1, 2, 0,\n",
      "         2, 1, 2, 1, 2, 0, 2, 1, 2, 1, 2, 1, 2, 1, 2, 1, 2, 0, 2, 1, 2, 0, 2, 1,\n",
      "         2, 1, 2, 1, 2, 1, 2, 1, 2, 1, 2, 1, 2, 1, 2, 1, 2, 1, 2, 1, 2, 1, 2, 1,\n",
      "         2, 1, 2, 1, 2, 1, 2, 1, 2, 1, 2, 0, 2, 1, 2, 1, 2, 1, 2, 1, 2, 1, 2, 1,\n",
      "         2, 1, 2, 1, 2, 1, 2, 0, 2, 1, 2, 1, 2, 1, 2, 1, 2, 1, 2, 1, 2, 1, 2, 1,\n",
      "         2, 1, 2, 1, 2, 1, 2, 1, 2, 0, 2, 0, 2, 1, 2, 1, 2, 1, 2, 1, 2, 0, 2, 1]])\n",
      "Predicted: 2 True: 10, Predicted with start: 2\n",
      "\n",
      "Tokens = tensor([[ 3,  0,  2,  1,  6,  0,  2,  1, 10,  0,  3,  0,  3,  0,  2,  1, 11,  0,\n",
      "          9,  0,  2,  1,  2,  1,  2,  1,  2,  1,  2,  1,  9,  0,  2,  1,  5,  0,\n",
      "          2,  1,  7,  0,  9,  0,  2,  1,  2,  1,  2,  1,  2,  1,  2,  1,  2,  1,\n",
      "          2,  1,  2,  1,  2,  1,  2,  1,  2,  1,  2,  1,  2,  1,  2,  1,  2,  1,\n",
      "          2,  1,  2,  1,  2,  1,  2,  0,  2,  1,  2,  1,  2,  1,  2,  1,  9,  0,\n",
      "          2,  1,  2,  1,  2,  1,  2,  1, 11,  0,  7,  0,  7,  0, 10,  0,  2,  1,\n",
      "          2,  1,  7,  0,  2,  1,  2,  1,  2,  1,  2,  1,  2,  0,  2,  1,  2,  0,\n",
      "          2,  1,  2,  1,  5,  0,  5,  0,  2,  1,  4,  1,  4,  1,  4,  1,  4,  1,\n",
      "          7,  0,  3,  0,  4,  0,  2,  1,  2,  1,  2,  1,  5,  0,  2,  1,  2,  1,\n",
      "          2,  1,  2,  1,  4,  1, 10]]), Start = tensor([[3, 0, 3, 1, 2, 1, 2, 1, 2, 1, 2, 1, 3, 0, 3, 0, 3, 0, 2, 1, 3, 0, 2, 1,\n",
      "         2, 1, 2, 1, 2, 1, 2, 1, 2, 1, 2, 1, 2, 1, 2, 1, 2, 1, 2, 1, 2, 1, 2, 0,\n",
      "         2, 1, 2, 1, 2, 0, 2, 1, 2, 1, 2, 1, 2, 1, 2, 1, 2, 0, 2, 1, 2, 0, 2, 1,\n",
      "         2, 1, 2, 1, 2, 1, 2, 1, 2, 1, 2, 1, 2, 1, 2, 1, 2, 1, 2, 1, 2, 1, 2, 1,\n",
      "         2, 1, 2, 1, 2, 1, 2, 1, 2, 1, 2, 0, 2, 1, 2, 1, 2, 1, 2, 1, 2, 1, 2, 1,\n",
      "         2, 1, 2, 1, 2, 1, 2, 0, 2, 1, 2, 1, 2, 1, 2, 1, 2, 1, 2, 1, 2, 1, 2, 1,\n",
      "         2, 1, 2, 1, 2, 1, 2, 1, 2, 0, 2, 0, 2, 1, 2, 1, 2, 1, 2, 1, 2, 0, 2, 1,\n",
      "         2]])\n",
      "Predicted: 0 True: 0, Predicted with start: 1\n",
      "\n",
      "Tokens = tensor([[ 3,  0,  2,  1,  6,  0,  2,  1, 10,  0,  3,  0,  3,  0,  2,  1, 11,  0,\n",
      "          9,  0,  2,  1,  2,  1,  2,  1,  2,  1,  2,  1,  9,  0,  2,  1,  5,  0,\n",
      "          2,  1,  7,  0,  9,  0,  2,  1,  2,  1,  2,  1,  2,  1,  2,  1,  2,  1,\n",
      "          2,  1,  2,  1,  2,  1,  2,  1,  2,  1,  2,  1,  2,  1,  2,  1,  2,  1,\n",
      "          2,  1,  2,  1,  2,  1,  2,  0,  2,  1,  2,  1,  2,  1,  2,  1,  9,  0,\n",
      "          2,  1,  2,  1,  2,  1,  2,  1, 11,  0,  7,  0,  7,  0, 10,  0,  2,  1,\n",
      "          2,  1,  7,  0,  2,  1,  2,  1,  2,  1,  2,  1,  2,  0,  2,  1,  2,  0,\n",
      "          2,  1,  2,  1,  5,  0,  5,  0,  2,  1,  4,  1,  4,  1,  4,  1,  4,  1,\n",
      "          7,  0,  3,  0,  4,  0,  2,  1,  2,  1,  2,  1,  5,  0,  2,  1,  2,  1,\n",
      "          2,  1,  2,  1,  4,  1, 10,  0]]), Start = tensor([[3, 0, 3, 1, 2, 1, 2, 1, 2, 1, 2, 1, 3, 0, 3, 0, 3, 0, 2, 1, 3, 0, 2, 1,\n",
      "         2, 1, 2, 1, 2, 1, 2, 1, 2, 1, 2, 1, 2, 1, 2, 1, 2, 1, 2, 1, 2, 1, 2, 0,\n",
      "         2, 1, 2, 1, 2, 0, 2, 1, 2, 1, 2, 1, 2, 1, 2, 1, 2, 0, 2, 1, 2, 0, 2, 1,\n",
      "         2, 1, 2, 1, 2, 1, 2, 1, 2, 1, 2, 1, 2, 1, 2, 1, 2, 1, 2, 1, 2, 1, 2, 1,\n",
      "         2, 1, 2, 1, 2, 1, 2, 1, 2, 1, 2, 0, 2, 1, 2, 1, 2, 1, 2, 1, 2, 1, 2, 1,\n",
      "         2, 1, 2, 1, 2, 1, 2, 0, 2, 1, 2, 1, 2, 1, 2, 1, 2, 1, 2, 1, 2, 1, 2, 1,\n",
      "         2, 1, 2, 1, 2, 1, 2, 1, 2, 0, 2, 0, 2, 1, 2, 1, 2, 1, 2, 1, 2, 0, 2, 1,\n",
      "         2, 0]])\n",
      "Predicted: 2 True: 2, Predicted with start: 2\n",
      "\n",
      "Tokens = tensor([[ 3,  0,  2,  1,  6,  0,  2,  1, 10,  0,  3,  0,  3,  0,  2,  1, 11,  0,\n",
      "          9,  0,  2,  1,  2,  1,  2,  1,  2,  1,  2,  1,  9,  0,  2,  1,  5,  0,\n",
      "          2,  1,  7,  0,  9,  0,  2,  1,  2,  1,  2,  1,  2,  1,  2,  1,  2,  1,\n",
      "          2,  1,  2,  1,  2,  1,  2,  1,  2,  1,  2,  1,  2,  1,  2,  1,  2,  1,\n",
      "          2,  1,  2,  1,  2,  1,  2,  0,  2,  1,  2,  1,  2,  1,  2,  1,  9,  0,\n",
      "          2,  1,  2,  1,  2,  1,  2,  1, 11,  0,  7,  0,  7,  0, 10,  0,  2,  1,\n",
      "          2,  1,  7,  0,  2,  1,  2,  1,  2,  1,  2,  1,  2,  0,  2,  1,  2,  0,\n",
      "          2,  1,  2,  1,  5,  0,  5,  0,  2,  1,  4,  1,  4,  1,  4,  1,  4,  1,\n",
      "          7,  0,  3,  0,  4,  0,  2,  1,  2,  1,  2,  1,  5,  0,  2,  1,  2,  1,\n",
      "          2,  1,  2,  1,  4,  1, 10,  0,  2]]), Start = tensor([[3, 0, 3, 1, 2, 1, 2, 1, 2, 1, 2, 1, 3, 0, 3, 0, 3, 0, 2, 1, 3, 0, 2, 1,\n",
      "         2, 1, 2, 1, 2, 1, 2, 1, 2, 1, 2, 1, 2, 1, 2, 1, 2, 1, 2, 1, 2, 1, 2, 0,\n",
      "         2, 1, 2, 1, 2, 0, 2, 1, 2, 1, 2, 1, 2, 1, 2, 1, 2, 0, 2, 1, 2, 0, 2, 1,\n",
      "         2, 1, 2, 1, 2, 1, 2, 1, 2, 1, 2, 1, 2, 1, 2, 1, 2, 1, 2, 1, 2, 1, 2, 1,\n",
      "         2, 1, 2, 1, 2, 1, 2, 1, 2, 1, 2, 0, 2, 1, 2, 1, 2, 1, 2, 1, 2, 1, 2, 1,\n",
      "         2, 1, 2, 1, 2, 1, 2, 0, 2, 1, 2, 1, 2, 1, 2, 1, 2, 1, 2, 1, 2, 1, 2, 1,\n",
      "         2, 1, 2, 1, 2, 1, 2, 1, 2, 0, 2, 0, 2, 1, 2, 1, 2, 1, 2, 1, 2, 0, 2, 1,\n",
      "         2, 0, 2]])\n",
      "Predicted: 1 True: 1, Predicted with start: 1\n",
      "\n",
      "Tokens = tensor([[ 3,  0,  2,  1,  6,  0,  2,  1, 10,  0,  3,  0,  3,  0,  2,  1, 11,  0,\n",
      "          9,  0,  2,  1,  2,  1,  2,  1,  2,  1,  2,  1,  9,  0,  2,  1,  5,  0,\n",
      "          2,  1,  7,  0,  9,  0,  2,  1,  2,  1,  2,  1,  2,  1,  2,  1,  2,  1,\n",
      "          2,  1,  2,  1,  2,  1,  2,  1,  2,  1,  2,  1,  2,  1,  2,  1,  2,  1,\n",
      "          2,  1,  2,  1,  2,  1,  2,  0,  2,  1,  2,  1,  2,  1,  2,  1,  9,  0,\n",
      "          2,  1,  2,  1,  2,  1,  2,  1, 11,  0,  7,  0,  7,  0, 10,  0,  2,  1,\n",
      "          2,  1,  7,  0,  2,  1,  2,  1,  2,  1,  2,  1,  2,  0,  2,  1,  2,  0,\n",
      "          2,  1,  2,  1,  5,  0,  5,  0,  2,  1,  4,  1,  4,  1,  4,  1,  4,  1,\n",
      "          7,  0,  3,  0,  4,  0,  2,  1,  2,  1,  2,  1,  5,  0,  2,  1,  2,  1,\n",
      "          2,  1,  2,  1,  4,  1, 10,  0,  2,  1]]), Start = tensor([[3, 0, 3, 1, 2, 1, 2, 1, 2, 1, 2, 1, 3, 0, 3, 0, 3, 0, 2, 1, 3, 0, 2, 1,\n",
      "         2, 1, 2, 1, 2, 1, 2, 1, 2, 1, 2, 1, 2, 1, 2, 1, 2, 1, 2, 1, 2, 1, 2, 0,\n",
      "         2, 1, 2, 1, 2, 0, 2, 1, 2, 1, 2, 1, 2, 1, 2, 1, 2, 0, 2, 1, 2, 0, 2, 1,\n",
      "         2, 1, 2, 1, 2, 1, 2, 1, 2, 1, 2, 1, 2, 1, 2, 1, 2, 1, 2, 1, 2, 1, 2, 1,\n",
      "         2, 1, 2, 1, 2, 1, 2, 1, 2, 1, 2, 0, 2, 1, 2, 1, 2, 1, 2, 1, 2, 1, 2, 1,\n",
      "         2, 1, 2, 1, 2, 1, 2, 0, 2, 1, 2, 1, 2, 1, 2, 1, 2, 1, 2, 1, 2, 1, 2, 1,\n",
      "         2, 1, 2, 1, 2, 1, 2, 1, 2, 0, 2, 0, 2, 1, 2, 1, 2, 1, 2, 1, 2, 0, 2, 1,\n",
      "         2, 0, 2, 1]])\n",
      "Predicted: 2 True: 3, Predicted with start: 2\n",
      "\n",
      "Tokens = tensor([[ 3,  0,  2,  1,  6,  0,  2,  1, 10,  0,  3,  0,  3,  0,  2,  1, 11,  0,\n",
      "          9,  0,  2,  1,  2,  1,  2,  1,  2,  1,  2,  1,  9,  0,  2,  1,  5,  0,\n",
      "          2,  1,  7,  0,  9,  0,  2,  1,  2,  1,  2,  1,  2,  1,  2,  1,  2,  1,\n",
      "          2,  1,  2,  1,  2,  1,  2,  1,  2,  1,  2,  1,  2,  1,  2,  1,  2,  1,\n",
      "          2,  1,  2,  1,  2,  1,  2,  0,  2,  1,  2,  1,  2,  1,  2,  1,  9,  0,\n",
      "          2,  1,  2,  1,  2,  1,  2,  1, 11,  0,  7,  0,  7,  0, 10,  0,  2,  1,\n",
      "          2,  1,  7,  0,  2,  1,  2,  1,  2,  1,  2,  1,  2,  0,  2,  1,  2,  0,\n",
      "          2,  1,  2,  1,  5,  0,  5,  0,  2,  1,  4,  1,  4,  1,  4,  1,  4,  1,\n",
      "          7,  0,  3,  0,  4,  0,  2,  1,  2,  1,  2,  1,  5,  0,  2,  1,  2,  1,\n",
      "          2,  1,  2,  1,  4,  1, 10,  0,  2,  1,  3]]), Start = tensor([[3, 0, 3, 1, 2, 1, 2, 1, 2, 1, 2, 1, 3, 0, 3, 0, 3, 0, 2, 1, 3, 0, 2, 1,\n",
      "         2, 1, 2, 1, 2, 1, 2, 1, 2, 1, 2, 1, 2, 1, 2, 1, 2, 1, 2, 1, 2, 1, 2, 0,\n",
      "         2, 1, 2, 1, 2, 0, 2, 1, 2, 1, 2, 1, 2, 1, 2, 1, 2, 0, 2, 1, 2, 0, 2, 1,\n",
      "         2, 1, 2, 1, 2, 1, 2, 1, 2, 1, 2, 1, 2, 1, 2, 1, 2, 1, 2, 1, 2, 1, 2, 1,\n",
      "         2, 1, 2, 1, 2, 1, 2, 1, 2, 1, 2, 0, 2, 1, 2, 1, 2, 1, 2, 1, 2, 1, 2, 1,\n",
      "         2, 1, 2, 1, 2, 1, 2, 0, 2, 1, 2, 1, 2, 1, 2, 1, 2, 1, 2, 1, 2, 1, 2, 1,\n",
      "         2, 1, 2, 1, 2, 1, 2, 1, 2, 0, 2, 0, 2, 1, 2, 1, 2, 1, 2, 1, 2, 0, 2, 1,\n",
      "         2, 0, 2, 1, 2]])\n",
      "Predicted: 0 True: 0, Predicted with start: 1\n",
      "\n",
      "Tokens = tensor([[ 3,  0,  2,  1,  6,  0,  2,  1, 10,  0,  3,  0,  3,  0,  2,  1, 11,  0,\n",
      "          9,  0,  2,  1,  2,  1,  2,  1,  2,  1,  2,  1,  9,  0,  2,  1,  5,  0,\n",
      "          2,  1,  7,  0,  9,  0,  2,  1,  2,  1,  2,  1,  2,  1,  2,  1,  2,  1,\n",
      "          2,  1,  2,  1,  2,  1,  2,  1,  2,  1,  2,  1,  2,  1,  2,  1,  2,  1,\n",
      "          2,  1,  2,  1,  2,  1,  2,  0,  2,  1,  2,  1,  2,  1,  2,  1,  9,  0,\n",
      "          2,  1,  2,  1,  2,  1,  2,  1, 11,  0,  7,  0,  7,  0, 10,  0,  2,  1,\n",
      "          2,  1,  7,  0,  2,  1,  2,  1,  2,  1,  2,  1,  2,  0,  2,  1,  2,  0,\n",
      "          2,  1,  2,  1,  5,  0,  5,  0,  2,  1,  4,  1,  4,  1,  4,  1,  4,  1,\n",
      "          7,  0,  3,  0,  4,  0,  2,  1,  2,  1,  2,  1,  5,  0,  2,  1,  2,  1,\n",
      "          2,  1,  2,  1,  4,  1, 10,  0,  2,  1,  3,  0]]), Start = tensor([[3, 0, 3, 1, 2, 1, 2, 1, 2, 1, 2, 1, 3, 0, 3, 0, 3, 0, 2, 1, 3, 0, 2, 1,\n",
      "         2, 1, 2, 1, 2, 1, 2, 1, 2, 1, 2, 1, 2, 1, 2, 1, 2, 1, 2, 1, 2, 1, 2, 0,\n",
      "         2, 1, 2, 1, 2, 0, 2, 1, 2, 1, 2, 1, 2, 1, 2, 1, 2, 0, 2, 1, 2, 0, 2, 1,\n",
      "         2, 1, 2, 1, 2, 1, 2, 1, 2, 1, 2, 1, 2, 1, 2, 1, 2, 1, 2, 1, 2, 1, 2, 1,\n",
      "         2, 1, 2, 1, 2, 1, 2, 1, 2, 1, 2, 0, 2, 1, 2, 1, 2, 1, 2, 1, 2, 1, 2, 1,\n",
      "         2, 1, 2, 1, 2, 1, 2, 0, 2, 1, 2, 1, 2, 1, 2, 1, 2, 1, 2, 1, 2, 1, 2, 1,\n",
      "         2, 1, 2, 1, 2, 1, 2, 1, 2, 0, 2, 0, 2, 1, 2, 1, 2, 1, 2, 1, 2, 0, 2, 1,\n",
      "         2, 0, 2, 1, 2, 1]])\n",
      "Predicted: 2 True: 2, Predicted with start: 2\n",
      "\n",
      "Tokens = tensor([[ 3,  0,  2,  1,  6,  0,  2,  1, 10,  0,  3,  0,  3,  0,  2,  1, 11,  0,\n",
      "          9,  0,  2,  1,  2,  1,  2,  1,  2,  1,  2,  1,  9,  0,  2,  1,  5,  0,\n",
      "          2,  1,  7,  0,  9,  0,  2,  1,  2,  1,  2,  1,  2,  1,  2,  1,  2,  1,\n",
      "          2,  1,  2,  1,  2,  1,  2,  1,  2,  1,  2,  1,  2,  1,  2,  1,  2,  1,\n",
      "          2,  1,  2,  1,  2,  1,  2,  0,  2,  1,  2,  1,  2,  1,  2,  1,  9,  0,\n",
      "          2,  1,  2,  1,  2,  1,  2,  1, 11,  0,  7,  0,  7,  0, 10,  0,  2,  1,\n",
      "          2,  1,  7,  0,  2,  1,  2,  1,  2,  1,  2,  1,  2,  0,  2,  1,  2,  0,\n",
      "          2,  1,  2,  1,  5,  0,  5,  0,  2,  1,  4,  1,  4,  1,  4,  1,  4,  1,\n",
      "          7,  0,  3,  0,  4,  0,  2,  1,  2,  1,  2,  1,  5,  0,  2,  1,  2,  1,\n",
      "          2,  1,  2,  1,  4,  1, 10,  0,  2,  1,  3,  0,  2]]), Start = tensor([[3, 0, 3, 1, 2, 1, 2, 1, 2, 1, 2, 1, 3, 0, 3, 0, 3, 0, 2, 1, 3, 0, 2, 1,\n",
      "         2, 1, 2, 1, 2, 1, 2, 1, 2, 1, 2, 1, 2, 1, 2, 1, 2, 1, 2, 1, 2, 1, 2, 0,\n",
      "         2, 1, 2, 1, 2, 0, 2, 1, 2, 1, 2, 1, 2, 1, 2, 1, 2, 0, 2, 1, 2, 0, 2, 1,\n",
      "         2, 1, 2, 1, 2, 1, 2, 1, 2, 1, 2, 1, 2, 1, 2, 1, 2, 1, 2, 1, 2, 1, 2, 1,\n",
      "         2, 1, 2, 1, 2, 1, 2, 1, 2, 1, 2, 0, 2, 1, 2, 1, 2, 1, 2, 1, 2, 1, 2, 1,\n",
      "         2, 1, 2, 1, 2, 1, 2, 0, 2, 1, 2, 1, 2, 1, 2, 1, 2, 1, 2, 1, 2, 1, 2, 1,\n",
      "         2, 1, 2, 1, 2, 1, 2, 1, 2, 0, 2, 0, 2, 1, 2, 1, 2, 1, 2, 1, 2, 0, 2, 1,\n",
      "         2, 0, 2, 1, 2, 1, 2]])\n",
      "Predicted: 1 True: 1, Predicted with start: 1\n",
      "\n",
      "Tokens = tensor([[ 3,  0,  2,  1,  6,  0,  2,  1, 10,  0,  3,  0,  3,  0,  2,  1, 11,  0,\n",
      "          9,  0,  2,  1,  2,  1,  2,  1,  2,  1,  2,  1,  9,  0,  2,  1,  5,  0,\n",
      "          2,  1,  7,  0,  9,  0,  2,  1,  2,  1,  2,  1,  2,  1,  2,  1,  2,  1,\n",
      "          2,  1,  2,  1,  2,  1,  2,  1,  2,  1,  2,  1,  2,  1,  2,  1,  2,  1,\n",
      "          2,  1,  2,  1,  2,  1,  2,  0,  2,  1,  2,  1,  2,  1,  2,  1,  9,  0,\n",
      "          2,  1,  2,  1,  2,  1,  2,  1, 11,  0,  7,  0,  7,  0, 10,  0,  2,  1,\n",
      "          2,  1,  7,  0,  2,  1,  2,  1,  2,  1,  2,  1,  2,  0,  2,  1,  2,  0,\n",
      "          2,  1,  2,  1,  5,  0,  5,  0,  2,  1,  4,  1,  4,  1,  4,  1,  4,  1,\n",
      "          7,  0,  3,  0,  4,  0,  2,  1,  2,  1,  2,  1,  5,  0,  2,  1,  2,  1,\n",
      "          2,  1,  2,  1,  4,  1, 10,  0,  2,  1,  3,  0,  2,  1]]), Start = tensor([[3, 0, 3, 1, 2, 1, 2, 1, 2, 1, 2, 1, 3, 0, 3, 0, 3, 0, 2, 1, 3, 0, 2, 1,\n",
      "         2, 1, 2, 1, 2, 1, 2, 1, 2, 1, 2, 1, 2, 1, 2, 1, 2, 1, 2, 1, 2, 1, 2, 0,\n",
      "         2, 1, 2, 1, 2, 0, 2, 1, 2, 1, 2, 1, 2, 1, 2, 1, 2, 0, 2, 1, 2, 0, 2, 1,\n",
      "         2, 1, 2, 1, 2, 1, 2, 1, 2, 1, 2, 1, 2, 1, 2, 1, 2, 1, 2, 1, 2, 1, 2, 1,\n",
      "         2, 1, 2, 1, 2, 1, 2, 1, 2, 1, 2, 0, 2, 1, 2, 1, 2, 1, 2, 1, 2, 1, 2, 1,\n",
      "         2, 1, 2, 1, 2, 1, 2, 0, 2, 1, 2, 1, 2, 1, 2, 1, 2, 1, 2, 1, 2, 1, 2, 1,\n",
      "         2, 1, 2, 1, 2, 1, 2, 1, 2, 0, 2, 0, 2, 1, 2, 1, 2, 1, 2, 1, 2, 0, 2, 1,\n",
      "         2, 0, 2, 1, 2, 1, 2, 1]])\n",
      "Predicted: 2 True: 2, Predicted with start: 2\n",
      "\n",
      "Tokens = tensor([[ 3,  0,  2,  1,  6,  0,  2,  1, 10,  0,  3,  0,  3,  0,  2,  1, 11,  0,\n",
      "          9,  0,  2,  1,  2,  1,  2,  1,  2,  1,  2,  1,  9,  0,  2,  1,  5,  0,\n",
      "          2,  1,  7,  0,  9,  0,  2,  1,  2,  1,  2,  1,  2,  1,  2,  1,  2,  1,\n",
      "          2,  1,  2,  1,  2,  1,  2,  1,  2,  1,  2,  1,  2,  1,  2,  1,  2,  1,\n",
      "          2,  1,  2,  1,  2,  1,  2,  0,  2,  1,  2,  1,  2,  1,  2,  1,  9,  0,\n",
      "          2,  1,  2,  1,  2,  1,  2,  1, 11,  0,  7,  0,  7,  0, 10,  0,  2,  1,\n",
      "          2,  1,  7,  0,  2,  1,  2,  1,  2,  1,  2,  1,  2,  0,  2,  1,  2,  0,\n",
      "          2,  1,  2,  1,  5,  0,  5,  0,  2,  1,  4,  1,  4,  1,  4,  1,  4,  1,\n",
      "          7,  0,  3,  0,  4,  0,  2,  1,  2,  1,  2,  1,  5,  0,  2,  1,  2,  1,\n",
      "          2,  1,  2,  1,  4,  1, 10,  0,  2,  1,  3,  0,  2,  1,  2]]), Start = tensor([[3, 0, 3, 1, 2, 1, 2, 1, 2, 1, 2, 1, 3, 0, 3, 0, 3, 0, 2, 1, 3, 0, 2, 1,\n",
      "         2, 1, 2, 1, 2, 1, 2, 1, 2, 1, 2, 1, 2, 1, 2, 1, 2, 1, 2, 1, 2, 1, 2, 0,\n",
      "         2, 1, 2, 1, 2, 0, 2, 1, 2, 1, 2, 1, 2, 1, 2, 1, 2, 0, 2, 1, 2, 0, 2, 1,\n",
      "         2, 1, 2, 1, 2, 1, 2, 1, 2, 1, 2, 1, 2, 1, 2, 1, 2, 1, 2, 1, 2, 1, 2, 1,\n",
      "         2, 1, 2, 1, 2, 1, 2, 1, 2, 1, 2, 0, 2, 1, 2, 1, 2, 1, 2, 1, 2, 1, 2, 1,\n",
      "         2, 1, 2, 1, 2, 1, 2, 0, 2, 1, 2, 1, 2, 1, 2, 1, 2, 1, 2, 1, 2, 1, 2, 1,\n",
      "         2, 1, 2, 1, 2, 1, 2, 1, 2, 0, 2, 0, 2, 1, 2, 1, 2, 1, 2, 1, 2, 0, 2, 1,\n",
      "         2, 0, 2, 1, 2, 1, 2, 1, 2]])\n",
      "Predicted: 1 True: 1, Predicted with start: 1\n",
      "\n",
      "Tokens = tensor([[ 3,  0,  2,  1,  6,  0,  2,  1, 10,  0,  3,  0,  3,  0,  2,  1, 11,  0,\n",
      "          9,  0,  2,  1,  2,  1,  2,  1,  2,  1,  2,  1,  9,  0,  2,  1,  5,  0,\n",
      "          2,  1,  7,  0,  9,  0,  2,  1,  2,  1,  2,  1,  2,  1,  2,  1,  2,  1,\n",
      "          2,  1,  2,  1,  2,  1,  2,  1,  2,  1,  2,  1,  2,  1,  2,  1,  2,  1,\n",
      "          2,  1,  2,  1,  2,  1,  2,  0,  2,  1,  2,  1,  2,  1,  2,  1,  9,  0,\n",
      "          2,  1,  2,  1,  2,  1,  2,  1, 11,  0,  7,  0,  7,  0, 10,  0,  2,  1,\n",
      "          2,  1,  7,  0,  2,  1,  2,  1,  2,  1,  2,  1,  2,  0,  2,  1,  2,  0,\n",
      "          2,  1,  2,  1,  5,  0,  5,  0,  2,  1,  4,  1,  4,  1,  4,  1,  4,  1,\n",
      "          7,  0,  3,  0,  4,  0,  2,  1,  2,  1,  2,  1,  5,  0,  2,  1,  2,  1,\n",
      "          2,  1,  2,  1,  4,  1, 10,  0,  2,  1,  3,  0,  2,  1,  2,  1]]), Start = tensor([[3, 0, 3, 1, 2, 1, 2, 1, 2, 1, 2, 1, 3, 0, 3, 0, 3, 0, 2, 1, 3, 0, 2, 1,\n",
      "         2, 1, 2, 1, 2, 1, 2, 1, 2, 1, 2, 1, 2, 1, 2, 1, 2, 1, 2, 1, 2, 1, 2, 0,\n",
      "         2, 1, 2, 1, 2, 0, 2, 1, 2, 1, 2, 1, 2, 1, 2, 1, 2, 0, 2, 1, 2, 0, 2, 1,\n",
      "         2, 1, 2, 1, 2, 1, 2, 1, 2, 1, 2, 1, 2, 1, 2, 1, 2, 1, 2, 1, 2, 1, 2, 1,\n",
      "         2, 1, 2, 1, 2, 1, 2, 1, 2, 1, 2, 0, 2, 1, 2, 1, 2, 1, 2, 1, 2, 1, 2, 1,\n",
      "         2, 1, 2, 1, 2, 1, 2, 0, 2, 1, 2, 1, 2, 1, 2, 1, 2, 1, 2, 1, 2, 1, 2, 1,\n",
      "         2, 1, 2, 1, 2, 1, 2, 1, 2, 0, 2, 0, 2, 1, 2, 1, 2, 1, 2, 1, 2, 0, 2, 1,\n",
      "         2, 0, 2, 1, 2, 1, 2, 1, 2, 1]])\n",
      "Predicted: 2 True: 10, Predicted with start: 2\n",
      "\n",
      "Tokens = tensor([[ 3,  0,  2,  1,  6,  0,  2,  1, 10,  0,  3,  0,  3,  0,  2,  1, 11,  0,\n",
      "          9,  0,  2,  1,  2,  1,  2,  1,  2,  1,  2,  1,  9,  0,  2,  1,  5,  0,\n",
      "          2,  1,  7,  0,  9,  0,  2,  1,  2,  1,  2,  1,  2,  1,  2,  1,  2,  1,\n",
      "          2,  1,  2,  1,  2,  1,  2,  1,  2,  1,  2,  1,  2,  1,  2,  1,  2,  1,\n",
      "          2,  1,  2,  1,  2,  1,  2,  0,  2,  1,  2,  1,  2,  1,  2,  1,  9,  0,\n",
      "          2,  1,  2,  1,  2,  1,  2,  1, 11,  0,  7,  0,  7,  0, 10,  0,  2,  1,\n",
      "          2,  1,  7,  0,  2,  1,  2,  1,  2,  1,  2,  1,  2,  0,  2,  1,  2,  0,\n",
      "          2,  1,  2,  1,  5,  0,  5,  0,  2,  1,  4,  1,  4,  1,  4,  1,  4,  1,\n",
      "          7,  0,  3,  0,  4,  0,  2,  1,  2,  1,  2,  1,  5,  0,  2,  1,  2,  1,\n",
      "          2,  1,  2,  1,  4,  1, 10,  0,  2,  1,  3,  0,  2,  1,  2,  1, 10]]), Start = tensor([[3, 0, 3, 1, 2, 1, 2, 1, 2, 1, 2, 1, 3, 0, 3, 0, 3, 0, 2, 1, 3, 0, 2, 1,\n",
      "         2, 1, 2, 1, 2, 1, 2, 1, 2, 1, 2, 1, 2, 1, 2, 1, 2, 1, 2, 1, 2, 1, 2, 0,\n",
      "         2, 1, 2, 1, 2, 0, 2, 1, 2, 1, 2, 1, 2, 1, 2, 1, 2, 0, 2, 1, 2, 0, 2, 1,\n",
      "         2, 1, 2, 1, 2, 1, 2, 1, 2, 1, 2, 1, 2, 1, 2, 1, 2, 1, 2, 1, 2, 1, 2, 1,\n",
      "         2, 1, 2, 1, 2, 1, 2, 1, 2, 1, 2, 0, 2, 1, 2, 1, 2, 1, 2, 1, 2, 1, 2, 1,\n",
      "         2, 1, 2, 1, 2, 1, 2, 0, 2, 1, 2, 1, 2, 1, 2, 1, 2, 1, 2, 1, 2, 1, 2, 1,\n",
      "         2, 1, 2, 1, 2, 1, 2, 1, 2, 0, 2, 0, 2, 1, 2, 1, 2, 1, 2, 1, 2, 0, 2, 1,\n",
      "         2, 0, 2, 1, 2, 1, 2, 1, 2, 1, 2]])\n",
      "Predicted: 0 True: 0, Predicted with start: 1\n",
      "\n",
      "Tokens = tensor([[ 3,  0,  2,  1,  6,  0,  2,  1, 10,  0,  3,  0,  3,  0,  2,  1, 11,  0,\n",
      "          9,  0,  2,  1,  2,  1,  2,  1,  2,  1,  2,  1,  9,  0,  2,  1,  5,  0,\n",
      "          2,  1,  7,  0,  9,  0,  2,  1,  2,  1,  2,  1,  2,  1,  2,  1,  2,  1,\n",
      "          2,  1,  2,  1,  2,  1,  2,  1,  2,  1,  2,  1,  2,  1,  2,  1,  2,  1,\n",
      "          2,  1,  2,  1,  2,  1,  2,  0,  2,  1,  2,  1,  2,  1,  2,  1,  9,  0,\n",
      "          2,  1,  2,  1,  2,  1,  2,  1, 11,  0,  7,  0,  7,  0, 10,  0,  2,  1,\n",
      "          2,  1,  7,  0,  2,  1,  2,  1,  2,  1,  2,  1,  2,  0,  2,  1,  2,  0,\n",
      "          2,  1,  2,  1,  5,  0,  5,  0,  2,  1,  4,  1,  4,  1,  4,  1,  4,  1,\n",
      "          7,  0,  3,  0,  4,  0,  2,  1,  2,  1,  2,  1,  5,  0,  2,  1,  2,  1,\n",
      "          2,  1,  2,  1,  4,  1, 10,  0,  2,  1,  3,  0,  2,  1,  2,  1, 10,  0]]), Start = tensor([[3, 0, 3, 1, 2, 1, 2, 1, 2, 1, 2, 1, 3, 0, 3, 0, 3, 0, 2, 1, 3, 0, 2, 1,\n",
      "         2, 1, 2, 1, 2, 1, 2, 1, 2, 1, 2, 1, 2, 1, 2, 1, 2, 1, 2, 1, 2, 1, 2, 0,\n",
      "         2, 1, 2, 1, 2, 0, 2, 1, 2, 1, 2, 1, 2, 1, 2, 1, 2, 0, 2, 1, 2, 0, 2, 1,\n",
      "         2, 1, 2, 1, 2, 1, 2, 1, 2, 1, 2, 1, 2, 1, 2, 1, 2, 1, 2, 1, 2, 1, 2, 1,\n",
      "         2, 1, 2, 1, 2, 1, 2, 1, 2, 1, 2, 0, 2, 1, 2, 1, 2, 1, 2, 1, 2, 1, 2, 1,\n",
      "         2, 1, 2, 1, 2, 1, 2, 0, 2, 1, 2, 1, 2, 1, 2, 1, 2, 1, 2, 1, 2, 1, 2, 1,\n",
      "         2, 1, 2, 1, 2, 1, 2, 1, 2, 0, 2, 0, 2, 1, 2, 1, 2, 1, 2, 1, 2, 0, 2, 1,\n",
      "         2, 0, 2, 1, 2, 1, 2, 1, 2, 1, 2, 1]])\n",
      "Predicted: 2 True: 2, Predicted with start: 2\n",
      "\n",
      "Tokens = tensor([[ 3,  0,  2,  1,  6,  0,  2,  1, 10,  0,  3,  0,  3,  0,  2,  1, 11,  0,\n",
      "          9,  0,  2,  1,  2,  1,  2,  1,  2,  1,  2,  1,  9,  0,  2,  1,  5,  0,\n",
      "          2,  1,  7,  0,  9,  0,  2,  1,  2,  1,  2,  1,  2,  1,  2,  1,  2,  1,\n",
      "          2,  1,  2,  1,  2,  1,  2,  1,  2,  1,  2,  1,  2,  1,  2,  1,  2,  1,\n",
      "          2,  1,  2,  1,  2,  1,  2,  0,  2,  1,  2,  1,  2,  1,  2,  1,  9,  0,\n",
      "          2,  1,  2,  1,  2,  1,  2,  1, 11,  0,  7,  0,  7,  0, 10,  0,  2,  1,\n",
      "          2,  1,  7,  0,  2,  1,  2,  1,  2,  1,  2,  1,  2,  0,  2,  1,  2,  0,\n",
      "          2,  1,  2,  1,  5,  0,  5,  0,  2,  1,  4,  1,  4,  1,  4,  1,  4,  1,\n",
      "          7,  0,  3,  0,  4,  0,  2,  1,  2,  1,  2,  1,  5,  0,  2,  1,  2,  1,\n",
      "          2,  1,  2,  1,  4,  1, 10,  0,  2,  1,  3,  0,  2,  1,  2,  1, 10,  0,\n",
      "          2]]), Start = tensor([[3, 0, 3, 1, 2, 1, 2, 1, 2, 1, 2, 1, 3, 0, 3, 0, 3, 0, 2, 1, 3, 0, 2, 1,\n",
      "         2, 1, 2, 1, 2, 1, 2, 1, 2, 1, 2, 1, 2, 1, 2, 1, 2, 1, 2, 1, 2, 1, 2, 0,\n",
      "         2, 1, 2, 1, 2, 0, 2, 1, 2, 1, 2, 1, 2, 1, 2, 1, 2, 0, 2, 1, 2, 0, 2, 1,\n",
      "         2, 1, 2, 1, 2, 1, 2, 1, 2, 1, 2, 1, 2, 1, 2, 1, 2, 1, 2, 1, 2, 1, 2, 1,\n",
      "         2, 1, 2, 1, 2, 1, 2, 1, 2, 1, 2, 0, 2, 1, 2, 1, 2, 1, 2, 1, 2, 1, 2, 1,\n",
      "         2, 1, 2, 1, 2, 1, 2, 0, 2, 1, 2, 1, 2, 1, 2, 1, 2, 1, 2, 1, 2, 1, 2, 1,\n",
      "         2, 1, 2, 1, 2, 1, 2, 1, 2, 0, 2, 0, 2, 1, 2, 1, 2, 1, 2, 1, 2, 0, 2, 1,\n",
      "         2, 0, 2, 1, 2, 1, 2, 1, 2, 1, 2, 1, 2]])\n",
      "Predicted: 1 True: 1, Predicted with start: 1\n",
      "\n",
      "Tokens = tensor([[ 3,  0,  2,  1,  6,  0,  2,  1, 10,  0,  3,  0,  3,  0,  2,  1, 11,  0,\n",
      "          9,  0,  2,  1,  2,  1,  2,  1,  2,  1,  2,  1,  9,  0,  2,  1,  5,  0,\n",
      "          2,  1,  7,  0,  9,  0,  2,  1,  2,  1,  2,  1,  2,  1,  2,  1,  2,  1,\n",
      "          2,  1,  2,  1,  2,  1,  2,  1,  2,  1,  2,  1,  2,  1,  2,  1,  2,  1,\n",
      "          2,  1,  2,  1,  2,  1,  2,  0,  2,  1,  2,  1,  2,  1,  2,  1,  9,  0,\n",
      "          2,  1,  2,  1,  2,  1,  2,  1, 11,  0,  7,  0,  7,  0, 10,  0,  2,  1,\n",
      "          2,  1,  7,  0,  2,  1,  2,  1,  2,  1,  2,  1,  2,  0,  2,  1,  2,  0,\n",
      "          2,  1,  2,  1,  5,  0,  5,  0,  2,  1,  4,  1,  4,  1,  4,  1,  4,  1,\n",
      "          7,  0,  3,  0,  4,  0,  2,  1,  2,  1,  2,  1,  5,  0,  2,  1,  2,  1,\n",
      "          2,  1,  2,  1,  4,  1, 10,  0,  2,  1,  3,  0,  2,  1,  2,  1, 10,  0,\n",
      "          2,  1]]), Start = tensor([[3, 0, 3, 1, 2, 1, 2, 1, 2, 1, 2, 1, 3, 0, 3, 0, 3, 0, 2, 1, 3, 0, 2, 1,\n",
      "         2, 1, 2, 1, 2, 1, 2, 1, 2, 1, 2, 1, 2, 1, 2, 1, 2, 1, 2, 1, 2, 1, 2, 0,\n",
      "         2, 1, 2, 1, 2, 0, 2, 1, 2, 1, 2, 1, 2, 1, 2, 1, 2, 0, 2, 1, 2, 0, 2, 1,\n",
      "         2, 1, 2, 1, 2, 1, 2, 1, 2, 1, 2, 1, 2, 1, 2, 1, 2, 1, 2, 1, 2, 1, 2, 1,\n",
      "         2, 1, 2, 1, 2, 1, 2, 1, 2, 1, 2, 0, 2, 1, 2, 1, 2, 1, 2, 1, 2, 1, 2, 1,\n",
      "         2, 1, 2, 1, 2, 1, 2, 0, 2, 1, 2, 1, 2, 1, 2, 1, 2, 1, 2, 1, 2, 1, 2, 1,\n",
      "         2, 1, 2, 1, 2, 1, 2, 1, 2, 0, 2, 0, 2, 1, 2, 1, 2, 1, 2, 1, 2, 0, 2, 1,\n",
      "         2, 0, 2, 1, 2, 1, 2, 1, 2, 1, 2, 1, 2, 1]])\n",
      "Predicted: 2 True: 7, Predicted with start: 2\n",
      "\n",
      "Tokens = tensor([[ 3,  0,  2,  1,  6,  0,  2,  1, 10,  0,  3,  0,  3,  0,  2,  1, 11,  0,\n",
      "          9,  0,  2,  1,  2,  1,  2,  1,  2,  1,  2,  1,  9,  0,  2,  1,  5,  0,\n",
      "          2,  1,  7,  0,  9,  0,  2,  1,  2,  1,  2,  1,  2,  1,  2,  1,  2,  1,\n",
      "          2,  1,  2,  1,  2,  1,  2,  1,  2,  1,  2,  1,  2,  1,  2,  1,  2,  1,\n",
      "          2,  1,  2,  1,  2,  1,  2,  0,  2,  1,  2,  1,  2,  1,  2,  1,  9,  0,\n",
      "          2,  1,  2,  1,  2,  1,  2,  1, 11,  0,  7,  0,  7,  0, 10,  0,  2,  1,\n",
      "          2,  1,  7,  0,  2,  1,  2,  1,  2,  1,  2,  1,  2,  0,  2,  1,  2,  0,\n",
      "          2,  1,  2,  1,  5,  0,  5,  0,  2,  1,  4,  1,  4,  1,  4,  1,  4,  1,\n",
      "          7,  0,  3,  0,  4,  0,  2,  1,  2,  1,  2,  1,  5,  0,  2,  1,  2,  1,\n",
      "          2,  1,  2,  1,  4,  1, 10,  0,  2,  1,  3,  0,  2,  1,  2,  1, 10,  0,\n",
      "          2,  1,  7]]), Start = tensor([[3, 0, 3, 1, 2, 1, 2, 1, 2, 1, 2, 1, 3, 0, 3, 0, 3, 0, 2, 1, 3, 0, 2, 1,\n",
      "         2, 1, 2, 1, 2, 1, 2, 1, 2, 1, 2, 1, 2, 1, 2, 1, 2, 1, 2, 1, 2, 1, 2, 0,\n",
      "         2, 1, 2, 1, 2, 0, 2, 1, 2, 1, 2, 1, 2, 1, 2, 1, 2, 0, 2, 1, 2, 0, 2, 1,\n",
      "         2, 1, 2, 1, 2, 1, 2, 1, 2, 1, 2, 1, 2, 1, 2, 1, 2, 1, 2, 1, 2, 1, 2, 1,\n",
      "         2, 1, 2, 1, 2, 1, 2, 1, 2, 1, 2, 0, 2, 1, 2, 1, 2, 1, 2, 1, 2, 1, 2, 1,\n",
      "         2, 1, 2, 1, 2, 1, 2, 0, 2, 1, 2, 1, 2, 1, 2, 1, 2, 1, 2, 1, 2, 1, 2, 1,\n",
      "         2, 1, 2, 1, 2, 1, 2, 1, 2, 0, 2, 0, 2, 1, 2, 1, 2, 1, 2, 1, 2, 0, 2, 1,\n",
      "         2, 0, 2, 1, 2, 1, 2, 1, 2, 1, 2, 1, 2, 1, 2]])\n",
      "Predicted: 0 True: 0, Predicted with start: 1\n",
      "\n",
      "Tokens = tensor([[ 3,  0,  2,  1,  6,  0,  2,  1, 10,  0,  3,  0,  3,  0,  2,  1, 11,  0,\n",
      "          9,  0,  2,  1,  2,  1,  2,  1,  2,  1,  2,  1,  9,  0,  2,  1,  5,  0,\n",
      "          2,  1,  7,  0,  9,  0,  2,  1,  2,  1,  2,  1,  2,  1,  2,  1,  2,  1,\n",
      "          2,  1,  2,  1,  2,  1,  2,  1,  2,  1,  2,  1,  2,  1,  2,  1,  2,  1,\n",
      "          2,  1,  2,  1,  2,  1,  2,  0,  2,  1,  2,  1,  2,  1,  2,  1,  9,  0,\n",
      "          2,  1,  2,  1,  2,  1,  2,  1, 11,  0,  7,  0,  7,  0, 10,  0,  2,  1,\n",
      "          2,  1,  7,  0,  2,  1,  2,  1,  2,  1,  2,  1,  2,  0,  2,  1,  2,  0,\n",
      "          2,  1,  2,  1,  5,  0,  5,  0,  2,  1,  4,  1,  4,  1,  4,  1,  4,  1,\n",
      "          7,  0,  3,  0,  4,  0,  2,  1,  2,  1,  2,  1,  5,  0,  2,  1,  2,  1,\n",
      "          2,  1,  2,  1,  4,  1, 10,  0,  2,  1,  3,  0,  2,  1,  2,  1, 10,  0,\n",
      "          2,  1,  7,  0]]), Start = tensor([[3, 0, 3, 1, 2, 1, 2, 1, 2, 1, 2, 1, 3, 0, 3, 0, 3, 0, 2, 1, 3, 0, 2, 1,\n",
      "         2, 1, 2, 1, 2, 1, 2, 1, 2, 1, 2, 1, 2, 1, 2, 1, 2, 1, 2, 1, 2, 1, 2, 0,\n",
      "         2, 1, 2, 1, 2, 0, 2, 1, 2, 1, 2, 1, 2, 1, 2, 1, 2, 0, 2, 1, 2, 0, 2, 1,\n",
      "         2, 1, 2, 1, 2, 1, 2, 1, 2, 1, 2, 1, 2, 1, 2, 1, 2, 1, 2, 1, 2, 1, 2, 1,\n",
      "         2, 1, 2, 1, 2, 1, 2, 1, 2, 1, 2, 0, 2, 1, 2, 1, 2, 1, 2, 1, 2, 1, 2, 1,\n",
      "         2, 1, 2, 1, 2, 1, 2, 0, 2, 1, 2, 1, 2, 1, 2, 1, 2, 1, 2, 1, 2, 1, 2, 1,\n",
      "         2, 1, 2, 1, 2, 1, 2, 1, 2, 0, 2, 0, 2, 1, 2, 1, 2, 1, 2, 1, 2, 0, 2, 1,\n",
      "         2, 0, 2, 1, 2, 1, 2, 1, 2, 1, 2, 1, 2, 1, 2, 1]])\n",
      "Predicted: 2 True: 2, Predicted with start: 2\n",
      "\n",
      "Tokens = tensor([[ 3,  0,  2,  1,  6,  0,  2,  1, 10,  0,  3,  0,  3,  0,  2,  1, 11,  0,\n",
      "          9,  0,  2,  1,  2,  1,  2,  1,  2,  1,  2,  1,  9,  0,  2,  1,  5,  0,\n",
      "          2,  1,  7,  0,  9,  0,  2,  1,  2,  1,  2,  1,  2,  1,  2,  1,  2,  1,\n",
      "          2,  1,  2,  1,  2,  1,  2,  1,  2,  1,  2,  1,  2,  1,  2,  1,  2,  1,\n",
      "          2,  1,  2,  1,  2,  1,  2,  0,  2,  1,  2,  1,  2,  1,  2,  1,  9,  0,\n",
      "          2,  1,  2,  1,  2,  1,  2,  1, 11,  0,  7,  0,  7,  0, 10,  0,  2,  1,\n",
      "          2,  1,  7,  0,  2,  1,  2,  1,  2,  1,  2,  1,  2,  0,  2,  1,  2,  0,\n",
      "          2,  1,  2,  1,  5,  0,  5,  0,  2,  1,  4,  1,  4,  1,  4,  1,  4,  1,\n",
      "          7,  0,  3,  0,  4,  0,  2,  1,  2,  1,  2,  1,  5,  0,  2,  1,  2,  1,\n",
      "          2,  1,  2,  1,  4,  1, 10,  0,  2,  1,  3,  0,  2,  1,  2,  1, 10,  0,\n",
      "          2,  1,  7,  0,  2]]), Start = tensor([[3, 0, 3, 1, 2, 1, 2, 1, 2, 1, 2, 1, 3, 0, 3, 0, 3, 0, 2, 1, 3, 0, 2, 1,\n",
      "         2, 1, 2, 1, 2, 1, 2, 1, 2, 1, 2, 1, 2, 1, 2, 1, 2, 1, 2, 1, 2, 1, 2, 0,\n",
      "         2, 1, 2, 1, 2, 0, 2, 1, 2, 1, 2, 1, 2, 1, 2, 1, 2, 0, 2, 1, 2, 0, 2, 1,\n",
      "         2, 1, 2, 1, 2, 1, 2, 1, 2, 1, 2, 1, 2, 1, 2, 1, 2, 1, 2, 1, 2, 1, 2, 1,\n",
      "         2, 1, 2, 1, 2, 1, 2, 1, 2, 1, 2, 0, 2, 1, 2, 1, 2, 1, 2, 1, 2, 1, 2, 1,\n",
      "         2, 1, 2, 1, 2, 1, 2, 0, 2, 1, 2, 1, 2, 1, 2, 1, 2, 1, 2, 1, 2, 1, 2, 1,\n",
      "         2, 1, 2, 1, 2, 1, 2, 1, 2, 0, 2, 0, 2, 1, 2, 1, 2, 1, 2, 1, 2, 0, 2, 1,\n",
      "         2, 0, 2, 1, 2, 1, 2, 1, 2, 1, 2, 1, 2, 1, 2, 1, 2]])\n",
      "Predicted: 1 True: 1, Predicted with start: 1\n",
      "\n",
      "Tokens = tensor([[ 3,  0,  2,  1,  6,  0,  2,  1, 10,  0,  3,  0,  3,  0,  2,  1, 11,  0,\n",
      "          9,  0,  2,  1,  2,  1,  2,  1,  2,  1,  2,  1,  9,  0,  2,  1,  5,  0,\n",
      "          2,  1,  7,  0,  9,  0,  2,  1,  2,  1,  2,  1,  2,  1,  2,  1,  2,  1,\n",
      "          2,  1,  2,  1,  2,  1,  2,  1,  2,  1,  2,  1,  2,  1,  2,  1,  2,  1,\n",
      "          2,  1,  2,  1,  2,  1,  2,  0,  2,  1,  2,  1,  2,  1,  2,  1,  9,  0,\n",
      "          2,  1,  2,  1,  2,  1,  2,  1, 11,  0,  7,  0,  7,  0, 10,  0,  2,  1,\n",
      "          2,  1,  7,  0,  2,  1,  2,  1,  2,  1,  2,  1,  2,  0,  2,  1,  2,  0,\n",
      "          2,  1,  2,  1,  5,  0,  5,  0,  2,  1,  4,  1,  4,  1,  4,  1,  4,  1,\n",
      "          7,  0,  3,  0,  4,  0,  2,  1,  2,  1,  2,  1,  5,  0,  2,  1,  2,  1,\n",
      "          2,  1,  2,  1,  4,  1, 10,  0,  2,  1,  3,  0,  2,  1,  2,  1, 10,  0,\n",
      "          2,  1,  7,  0,  2,  1]]), Start = tensor([[3, 0, 3, 1, 2, 1, 2, 1, 2, 1, 2, 1, 3, 0, 3, 0, 3, 0, 2, 1, 3, 0, 2, 1,\n",
      "         2, 1, 2, 1, 2, 1, 2, 1, 2, 1, 2, 1, 2, 1, 2, 1, 2, 1, 2, 1, 2, 1, 2, 0,\n",
      "         2, 1, 2, 1, 2, 0, 2, 1, 2, 1, 2, 1, 2, 1, 2, 1, 2, 0, 2, 1, 2, 0, 2, 1,\n",
      "         2, 1, 2, 1, 2, 1, 2, 1, 2, 1, 2, 1, 2, 1, 2, 1, 2, 1, 2, 1, 2, 1, 2, 1,\n",
      "         2, 1, 2, 1, 2, 1, 2, 1, 2, 1, 2, 0, 2, 1, 2, 1, 2, 1, 2, 1, 2, 1, 2, 1,\n",
      "         2, 1, 2, 1, 2, 1, 2, 0, 2, 1, 2, 1, 2, 1, 2, 1, 2, 1, 2, 1, 2, 1, 2, 1,\n",
      "         2, 1, 2, 1, 2, 1, 2, 1, 2, 0, 2, 0, 2, 1, 2, 1, 2, 1, 2, 1, 2, 0, 2, 1,\n",
      "         2, 0, 2, 1, 2, 1, 2, 1, 2, 1, 2, 1, 2, 1, 2, 1, 2, 1]])\n",
      "Predicted: 2 True: 2, Predicted with start: 2\n",
      "\n",
      "Tokens = tensor([[ 3,  0,  2,  1,  6,  0,  2,  1, 10,  0,  3,  0,  3,  0,  2,  1, 11,  0,\n",
      "          9,  0,  2,  1,  2,  1,  2,  1,  2,  1,  2,  1,  9,  0,  2,  1,  5,  0,\n",
      "          2,  1,  7,  0,  9,  0,  2,  1,  2,  1,  2,  1,  2,  1,  2,  1,  2,  1,\n",
      "          2,  1,  2,  1,  2,  1,  2,  1,  2,  1,  2,  1,  2,  1,  2,  1,  2,  1,\n",
      "          2,  1,  2,  1,  2,  1,  2,  0,  2,  1,  2,  1,  2,  1,  2,  1,  9,  0,\n",
      "          2,  1,  2,  1,  2,  1,  2,  1, 11,  0,  7,  0,  7,  0, 10,  0,  2,  1,\n",
      "          2,  1,  7,  0,  2,  1,  2,  1,  2,  1,  2,  1,  2,  0,  2,  1,  2,  0,\n",
      "          2,  1,  2,  1,  5,  0,  5,  0,  2,  1,  4,  1,  4,  1,  4,  1,  4,  1,\n",
      "          7,  0,  3,  0,  4,  0,  2,  1,  2,  1,  2,  1,  5,  0,  2,  1,  2,  1,\n",
      "          2,  1,  2,  1,  4,  1, 10,  0,  2,  1,  3,  0,  2,  1,  2,  1, 10,  0,\n",
      "          2,  1,  7,  0,  2,  1,  2]]), Start = tensor([[3, 0, 3, 1, 2, 1, 2, 1, 2, 1, 2, 1, 3, 0, 3, 0, 3, 0, 2, 1, 3, 0, 2, 1,\n",
      "         2, 1, 2, 1, 2, 1, 2, 1, 2, 1, 2, 1, 2, 1, 2, 1, 2, 1, 2, 1, 2, 1, 2, 0,\n",
      "         2, 1, 2, 1, 2, 0, 2, 1, 2, 1, 2, 1, 2, 1, 2, 1, 2, 0, 2, 1, 2, 0, 2, 1,\n",
      "         2, 1, 2, 1, 2, 1, 2, 1, 2, 1, 2, 1, 2, 1, 2, 1, 2, 1, 2, 1, 2, 1, 2, 1,\n",
      "         2, 1, 2, 1, 2, 1, 2, 1, 2, 1, 2, 0, 2, 1, 2, 1, 2, 1, 2, 1, 2, 1, 2, 1,\n",
      "         2, 1, 2, 1, 2, 1, 2, 0, 2, 1, 2, 1, 2, 1, 2, 1, 2, 1, 2, 1, 2, 1, 2, 1,\n",
      "         2, 1, 2, 1, 2, 1, 2, 1, 2, 0, 2, 0, 2, 1, 2, 1, 2, 1, 2, 1, 2, 0, 2, 1,\n",
      "         2, 0, 2, 1, 2, 1, 2, 1, 2, 1, 2, 1, 2, 1, 2, 1, 2, 1, 2]])\n",
      "Predicted: 1 True: 1, Predicted with start: 1\n",
      "\n",
      "Tokens = tensor([[ 3,  0,  2,  1,  6,  0,  2,  1, 10,  0,  3,  0,  3,  0,  2,  1, 11,  0,\n",
      "          9,  0,  2,  1,  2,  1,  2,  1,  2,  1,  2,  1,  9,  0,  2,  1,  5,  0,\n",
      "          2,  1,  7,  0,  9,  0,  2,  1,  2,  1,  2,  1,  2,  1,  2,  1,  2,  1,\n",
      "          2,  1,  2,  1,  2,  1,  2,  1,  2,  1,  2,  1,  2,  1,  2,  1,  2,  1,\n",
      "          2,  1,  2,  1,  2,  1,  2,  0,  2,  1,  2,  1,  2,  1,  2,  1,  9,  0,\n",
      "          2,  1,  2,  1,  2,  1,  2,  1, 11,  0,  7,  0,  7,  0, 10,  0,  2,  1,\n",
      "          2,  1,  7,  0,  2,  1,  2,  1,  2,  1,  2,  1,  2,  0,  2,  1,  2,  0,\n",
      "          2,  1,  2,  1,  5,  0,  5,  0,  2,  1,  4,  1,  4,  1,  4,  1,  4,  1,\n",
      "          7,  0,  3,  0,  4,  0,  2,  1,  2,  1,  2,  1,  5,  0,  2,  1,  2,  1,\n",
      "          2,  1,  2,  1,  4,  1, 10,  0,  2,  1,  3,  0,  2,  1,  2,  1, 10,  0,\n",
      "          2,  1,  7,  0,  2,  1,  2,  1]]), Start = tensor([[3, 0, 3, 1, 2, 1, 2, 1, 2, 1, 2, 1, 3, 0, 3, 0, 3, 0, 2, 1, 3, 0, 2, 1,\n",
      "         2, 1, 2, 1, 2, 1, 2, 1, 2, 1, 2, 1, 2, 1, 2, 1, 2, 1, 2, 1, 2, 1, 2, 0,\n",
      "         2, 1, 2, 1, 2, 0, 2, 1, 2, 1, 2, 1, 2, 1, 2, 1, 2, 0, 2, 1, 2, 0, 2, 1,\n",
      "         2, 1, 2, 1, 2, 1, 2, 1, 2, 1, 2, 1, 2, 1, 2, 1, 2, 1, 2, 1, 2, 1, 2, 1,\n",
      "         2, 1, 2, 1, 2, 1, 2, 1, 2, 1, 2, 0, 2, 1, 2, 1, 2, 1, 2, 1, 2, 1, 2, 1,\n",
      "         2, 1, 2, 1, 2, 1, 2, 0, 2, 1, 2, 1, 2, 1, 2, 1, 2, 1, 2, 1, 2, 1, 2, 1,\n",
      "         2, 1, 2, 1, 2, 1, 2, 1, 2, 0, 2, 0, 2, 1, 2, 1, 2, 1, 2, 1, 2, 0, 2, 1,\n",
      "         2, 0, 2, 1, 2, 1, 2, 1, 2, 1, 2, 1, 2, 1, 2, 1, 2, 1, 2, 1]])\n",
      "Predicted: 2 True: 2, Predicted with start: 2\n",
      "\n",
      "Tokens = tensor([[ 3,  0,  2,  1,  6,  0,  2,  1, 10,  0,  3,  0,  3,  0,  2,  1, 11,  0,\n",
      "          9,  0,  2,  1,  2,  1,  2,  1,  2,  1,  2,  1,  9,  0,  2,  1,  5,  0,\n",
      "          2,  1,  7,  0,  9,  0,  2,  1,  2,  1,  2,  1,  2,  1,  2,  1,  2,  1,\n",
      "          2,  1,  2,  1,  2,  1,  2,  1,  2,  1,  2,  1,  2,  1,  2,  1,  2,  1,\n",
      "          2,  1,  2,  1,  2,  1,  2,  0,  2,  1,  2,  1,  2,  1,  2,  1,  9,  0,\n",
      "          2,  1,  2,  1,  2,  1,  2,  1, 11,  0,  7,  0,  7,  0, 10,  0,  2,  1,\n",
      "          2,  1,  7,  0,  2,  1,  2,  1,  2,  1,  2,  1,  2,  0,  2,  1,  2,  0,\n",
      "          2,  1,  2,  1,  5,  0,  5,  0,  2,  1,  4,  1,  4,  1,  4,  1,  4,  1,\n",
      "          7,  0,  3,  0,  4,  0,  2,  1,  2,  1,  2,  1,  5,  0,  2,  1,  2,  1,\n",
      "          2,  1,  2,  1,  4,  1, 10,  0,  2,  1,  3,  0,  2,  1,  2,  1, 10,  0,\n",
      "          2,  1,  7,  0,  2,  1,  2,  1,  2]]), Start = tensor([[3, 0, 3, 1, 2, 1, 2, 1, 2, 1, 2, 1, 3, 0, 3, 0, 3, 0, 2, 1, 3, 0, 2, 1,\n",
      "         2, 1, 2, 1, 2, 1, 2, 1, 2, 1, 2, 1, 2, 1, 2, 1, 2, 1, 2, 1, 2, 1, 2, 0,\n",
      "         2, 1, 2, 1, 2, 0, 2, 1, 2, 1, 2, 1, 2, 1, 2, 1, 2, 0, 2, 1, 2, 0, 2, 1,\n",
      "         2, 1, 2, 1, 2, 1, 2, 1, 2, 1, 2, 1, 2, 1, 2, 1, 2, 1, 2, 1, 2, 1, 2, 1,\n",
      "         2, 1, 2, 1, 2, 1, 2, 1, 2, 1, 2, 0, 2, 1, 2, 1, 2, 1, 2, 1, 2, 1, 2, 1,\n",
      "         2, 1, 2, 1, 2, 1, 2, 0, 2, 1, 2, 1, 2, 1, 2, 1, 2, 1, 2, 1, 2, 1, 2, 1,\n",
      "         2, 1, 2, 1, 2, 1, 2, 1, 2, 0, 2, 0, 2, 1, 2, 1, 2, 1, 2, 1, 2, 0, 2, 1,\n",
      "         2, 0, 2, 1, 2, 1, 2, 1, 2, 1, 2, 1, 2, 1, 2, 1, 2, 1, 2, 1, 2]])\n",
      "Predicted: 1 True: 1, Predicted with start: 1\n",
      "\n",
      "Tokens = tensor([[ 3,  0,  2,  1,  6,  0,  2,  1, 10,  0,  3,  0,  3,  0,  2,  1, 11,  0,\n",
      "          9,  0,  2,  1,  2,  1,  2,  1,  2,  1,  2,  1,  9,  0,  2,  1,  5,  0,\n",
      "          2,  1,  7,  0,  9,  0,  2,  1,  2,  1,  2,  1,  2,  1,  2,  1,  2,  1,\n",
      "          2,  1,  2,  1,  2,  1,  2,  1,  2,  1,  2,  1,  2,  1,  2,  1,  2,  1,\n",
      "          2,  1,  2,  1,  2,  1,  2,  0,  2,  1,  2,  1,  2,  1,  2,  1,  9,  0,\n",
      "          2,  1,  2,  1,  2,  1,  2,  1, 11,  0,  7,  0,  7,  0, 10,  0,  2,  1,\n",
      "          2,  1,  7,  0,  2,  1,  2,  1,  2,  1,  2,  1,  2,  0,  2,  1,  2,  0,\n",
      "          2,  1,  2,  1,  5,  0,  5,  0,  2,  1,  4,  1,  4,  1,  4,  1,  4,  1,\n",
      "          7,  0,  3,  0,  4,  0,  2,  1,  2,  1,  2,  1,  5,  0,  2,  1,  2,  1,\n",
      "          2,  1,  2,  1,  4,  1, 10,  0,  2,  1,  3,  0,  2,  1,  2,  1, 10,  0,\n",
      "          2,  1,  7,  0,  2,  1,  2,  1,  2,  1]]), Start = tensor([[3, 0, 3, 1, 2, 1, 2, 1, 2, 1, 2, 1, 3, 0, 3, 0, 3, 0, 2, 1, 3, 0, 2, 1,\n",
      "         2, 1, 2, 1, 2, 1, 2, 1, 2, 1, 2, 1, 2, 1, 2, 1, 2, 1, 2, 1, 2, 1, 2, 0,\n",
      "         2, 1, 2, 1, 2, 0, 2, 1, 2, 1, 2, 1, 2, 1, 2, 1, 2, 0, 2, 1, 2, 0, 2, 1,\n",
      "         2, 1, 2, 1, 2, 1, 2, 1, 2, 1, 2, 1, 2, 1, 2, 1, 2, 1, 2, 1, 2, 1, 2, 1,\n",
      "         2, 1, 2, 1, 2, 1, 2, 1, 2, 1, 2, 0, 2, 1, 2, 1, 2, 1, 2, 1, 2, 1, 2, 1,\n",
      "         2, 1, 2, 1, 2, 1, 2, 0, 2, 1, 2, 1, 2, 1, 2, 1, 2, 1, 2, 1, 2, 1, 2, 1,\n",
      "         2, 1, 2, 1, 2, 1, 2, 1, 2, 0, 2, 0, 2, 1, 2, 1, 2, 1, 2, 1, 2, 0, 2, 1,\n",
      "         2, 0, 2, 1, 2, 1, 2, 1, 2, 1, 2, 1, 2, 1, 2, 1, 2, 1, 2, 1, 2, 1]])\n",
      "Predicted: 2 True: 3, Predicted with start: 2\n",
      "\n",
      "Tokens = tensor([[ 3,  0,  2,  1,  6,  0,  2,  1, 10,  0,  3,  0,  3,  0,  2,  1, 11,  0,\n",
      "          9,  0,  2,  1,  2,  1,  2,  1,  2,  1,  2,  1,  9,  0,  2,  1,  5,  0,\n",
      "          2,  1,  7,  0,  9,  0,  2,  1,  2,  1,  2,  1,  2,  1,  2,  1,  2,  1,\n",
      "          2,  1,  2,  1,  2,  1,  2,  1,  2,  1,  2,  1,  2,  1,  2,  1,  2,  1,\n",
      "          2,  1,  2,  1,  2,  1,  2,  0,  2,  1,  2,  1,  2,  1,  2,  1,  9,  0,\n",
      "          2,  1,  2,  1,  2,  1,  2,  1, 11,  0,  7,  0,  7,  0, 10,  0,  2,  1,\n",
      "          2,  1,  7,  0,  2,  1,  2,  1,  2,  1,  2,  1,  2,  0,  2,  1,  2,  0,\n",
      "          2,  1,  2,  1,  5,  0,  5,  0,  2,  1,  4,  1,  4,  1,  4,  1,  4,  1,\n",
      "          7,  0,  3,  0,  4,  0,  2,  1,  2,  1,  2,  1,  5,  0,  2,  1,  2,  1,\n",
      "          2,  1,  2,  1,  4,  1, 10,  0,  2,  1,  3,  0,  2,  1,  2,  1, 10,  0,\n",
      "          2,  1,  7,  0,  2,  1,  2,  1,  2,  1,  3]]), Start = tensor([[3, 0, 3, 1, 2, 1, 2, 1, 2, 1, 2, 1, 3, 0, 3, 0, 3, 0, 2, 1, 3, 0, 2, 1,\n",
      "         2, 1, 2, 1, 2, 1, 2, 1, 2, 1, 2, 1, 2, 1, 2, 1, 2, 1, 2, 1, 2, 1, 2, 0,\n",
      "         2, 1, 2, 1, 2, 0, 2, 1, 2, 1, 2, 1, 2, 1, 2, 1, 2, 0, 2, 1, 2, 0, 2, 1,\n",
      "         2, 1, 2, 1, 2, 1, 2, 1, 2, 1, 2, 1, 2, 1, 2, 1, 2, 1, 2, 1, 2, 1, 2, 1,\n",
      "         2, 1, 2, 1, 2, 1, 2, 1, 2, 1, 2, 0, 2, 1, 2, 1, 2, 1, 2, 1, 2, 1, 2, 1,\n",
      "         2, 1, 2, 1, 2, 1, 2, 0, 2, 1, 2, 1, 2, 1, 2, 1, 2, 1, 2, 1, 2, 1, 2, 1,\n",
      "         2, 1, 2, 1, 2, 1, 2, 1, 2, 0, 2, 0, 2, 1, 2, 1, 2, 1, 2, 1, 2, 0, 2, 1,\n",
      "         2, 0, 2, 1, 2, 1, 2, 1, 2, 1, 2, 1, 2, 1, 2, 1, 2, 1, 2, 1, 2, 1, 2]])\n",
      "Predicted: 0 True: 0, Predicted with start: 1\n",
      "\n",
      "Tokens = tensor([[ 3,  0,  2,  1,  6,  0,  2,  1, 10,  0,  3,  0,  3,  0,  2,  1, 11,  0,\n",
      "          9,  0,  2,  1,  2,  1,  2,  1,  2,  1,  2,  1,  9,  0,  2,  1,  5,  0,\n",
      "          2,  1,  7,  0,  9,  0,  2,  1,  2,  1,  2,  1,  2,  1,  2,  1,  2,  1,\n",
      "          2,  1,  2,  1,  2,  1,  2,  1,  2,  1,  2,  1,  2,  1,  2,  1,  2,  1,\n",
      "          2,  1,  2,  1,  2,  1,  2,  0,  2,  1,  2,  1,  2,  1,  2,  1,  9,  0,\n",
      "          2,  1,  2,  1,  2,  1,  2,  1, 11,  0,  7,  0,  7,  0, 10,  0,  2,  1,\n",
      "          2,  1,  7,  0,  2,  1,  2,  1,  2,  1,  2,  1,  2,  0,  2,  1,  2,  0,\n",
      "          2,  1,  2,  1,  5,  0,  5,  0,  2,  1,  4,  1,  4,  1,  4,  1,  4,  1,\n",
      "          7,  0,  3,  0,  4,  0,  2,  1,  2,  1,  2,  1,  5,  0,  2,  1,  2,  1,\n",
      "          2,  1,  2,  1,  4,  1, 10,  0,  2,  1,  3,  0,  2,  1,  2,  1, 10,  0,\n",
      "          2,  1,  7,  0,  2,  1,  2,  1,  2,  1,  3,  0]]), Start = tensor([[3, 0, 3, 1, 2, 1, 2, 1, 2, 1, 2, 1, 3, 0, 3, 0, 3, 0, 2, 1, 3, 0, 2, 1,\n",
      "         2, 1, 2, 1, 2, 1, 2, 1, 2, 1, 2, 1, 2, 1, 2, 1, 2, 1, 2, 1, 2, 1, 2, 0,\n",
      "         2, 1, 2, 1, 2, 0, 2, 1, 2, 1, 2, 1, 2, 1, 2, 1, 2, 0, 2, 1, 2, 0, 2, 1,\n",
      "         2, 1, 2, 1, 2, 1, 2, 1, 2, 1, 2, 1, 2, 1, 2, 1, 2, 1, 2, 1, 2, 1, 2, 1,\n",
      "         2, 1, 2, 1, 2, 1, 2, 1, 2, 1, 2, 0, 2, 1, 2, 1, 2, 1, 2, 1, 2, 1, 2, 1,\n",
      "         2, 1, 2, 1, 2, 1, 2, 0, 2, 1, 2, 1, 2, 1, 2, 1, 2, 1, 2, 1, 2, 1, 2, 1,\n",
      "         2, 1, 2, 1, 2, 1, 2, 1, 2, 0, 2, 0, 2, 1, 2, 1, 2, 1, 2, 1, 2, 0, 2, 1,\n",
      "         2, 0, 2, 1, 2, 1, 2, 1, 2, 1, 2, 1, 2, 1, 2, 1, 2, 1, 2, 1, 2, 1, 2, 1]])\n",
      "Predicted: 2 True: 2, Predicted with start: 2\n",
      "\n",
      "Tokens = tensor([[ 3,  0,  2,  1,  6,  0,  2,  1, 10,  0,  3,  0,  3,  0,  2,  1, 11,  0,\n",
      "          9,  0,  2,  1,  2,  1,  2,  1,  2,  1,  2,  1,  9,  0,  2,  1,  5,  0,\n",
      "          2,  1,  7,  0,  9,  0,  2,  1,  2,  1,  2,  1,  2,  1,  2,  1,  2,  1,\n",
      "          2,  1,  2,  1,  2,  1,  2,  1,  2,  1,  2,  1,  2,  1,  2,  1,  2,  1,\n",
      "          2,  1,  2,  1,  2,  1,  2,  0,  2,  1,  2,  1,  2,  1,  2,  1,  9,  0,\n",
      "          2,  1,  2,  1,  2,  1,  2,  1, 11,  0,  7,  0,  7,  0, 10,  0,  2,  1,\n",
      "          2,  1,  7,  0,  2,  1,  2,  1,  2,  1,  2,  1,  2,  0,  2,  1,  2,  0,\n",
      "          2,  1,  2,  1,  5,  0,  5,  0,  2,  1,  4,  1,  4,  1,  4,  1,  4,  1,\n",
      "          7,  0,  3,  0,  4,  0,  2,  1,  2,  1,  2,  1,  5,  0,  2,  1,  2,  1,\n",
      "          2,  1,  2,  1,  4,  1, 10,  0,  2,  1,  3,  0,  2,  1,  2,  1, 10,  0,\n",
      "          2,  1,  7,  0,  2,  1,  2,  1,  2,  1,  3,  0,  2]]), Start = tensor([[3, 0, 3, 1, 2, 1, 2, 1, 2, 1, 2, 1, 3, 0, 3, 0, 3, 0, 2, 1, 3, 0, 2, 1,\n",
      "         2, 1, 2, 1, 2, 1, 2, 1, 2, 1, 2, 1, 2, 1, 2, 1, 2, 1, 2, 1, 2, 1, 2, 0,\n",
      "         2, 1, 2, 1, 2, 0, 2, 1, 2, 1, 2, 1, 2, 1, 2, 1, 2, 0, 2, 1, 2, 0, 2, 1,\n",
      "         2, 1, 2, 1, 2, 1, 2, 1, 2, 1, 2, 1, 2, 1, 2, 1, 2, 1, 2, 1, 2, 1, 2, 1,\n",
      "         2, 1, 2, 1, 2, 1, 2, 1, 2, 1, 2, 0, 2, 1, 2, 1, 2, 1, 2, 1, 2, 1, 2, 1,\n",
      "         2, 1, 2, 1, 2, 1, 2, 0, 2, 1, 2, 1, 2, 1, 2, 1, 2, 1, 2, 1, 2, 1, 2, 1,\n",
      "         2, 1, 2, 1, 2, 1, 2, 1, 2, 0, 2, 0, 2, 1, 2, 1, 2, 1, 2, 1, 2, 0, 2, 1,\n",
      "         2, 0, 2, 1, 2, 1, 2, 1, 2, 1, 2, 1, 2, 1, 2, 1, 2, 1, 2, 1, 2, 1, 2, 1,\n",
      "         2]])\n",
      "Predicted: 1 True: 1, Predicted with start: 1\n",
      "\n",
      "Tokens = tensor([[ 3,  0,  2,  1,  6,  0,  2,  1, 10,  0,  3,  0,  3,  0,  2,  1, 11,  0,\n",
      "          9,  0,  2,  1,  2,  1,  2,  1,  2,  1,  2,  1,  9,  0,  2,  1,  5,  0,\n",
      "          2,  1,  7,  0,  9,  0,  2,  1,  2,  1,  2,  1,  2,  1,  2,  1,  2,  1,\n",
      "          2,  1,  2,  1,  2,  1,  2,  1,  2,  1,  2,  1,  2,  1,  2,  1,  2,  1,\n",
      "          2,  1,  2,  1,  2,  1,  2,  0,  2,  1,  2,  1,  2,  1,  2,  1,  9,  0,\n",
      "          2,  1,  2,  1,  2,  1,  2,  1, 11,  0,  7,  0,  7,  0, 10,  0,  2,  1,\n",
      "          2,  1,  7,  0,  2,  1,  2,  1,  2,  1,  2,  1,  2,  0,  2,  1,  2,  0,\n",
      "          2,  1,  2,  1,  5,  0,  5,  0,  2,  1,  4,  1,  4,  1,  4,  1,  4,  1,\n",
      "          7,  0,  3,  0,  4,  0,  2,  1,  2,  1,  2,  1,  5,  0,  2,  1,  2,  1,\n",
      "          2,  1,  2,  1,  4,  1, 10,  0,  2,  1,  3,  0,  2,  1,  2,  1, 10,  0,\n",
      "          2,  1,  7,  0,  2,  1,  2,  1,  2,  1,  3,  0,  2,  1]]), Start = tensor([[3, 0, 3, 1, 2, 1, 2, 1, 2, 1, 2, 1, 3, 0, 3, 0, 3, 0, 2, 1, 3, 0, 2, 1,\n",
      "         2, 1, 2, 1, 2, 1, 2, 1, 2, 1, 2, 1, 2, 1, 2, 1, 2, 1, 2, 1, 2, 1, 2, 0,\n",
      "         2, 1, 2, 1, 2, 0, 2, 1, 2, 1, 2, 1, 2, 1, 2, 1, 2, 0, 2, 1, 2, 0, 2, 1,\n",
      "         2, 1, 2, 1, 2, 1, 2, 1, 2, 1, 2, 1, 2, 1, 2, 1, 2, 1, 2, 1, 2, 1, 2, 1,\n",
      "         2, 1, 2, 1, 2, 1, 2, 1, 2, 1, 2, 0, 2, 1, 2, 1, 2, 1, 2, 1, 2, 1, 2, 1,\n",
      "         2, 1, 2, 1, 2, 1, 2, 0, 2, 1, 2, 1, 2, 1, 2, 1, 2, 1, 2, 1, 2, 1, 2, 1,\n",
      "         2, 1, 2, 1, 2, 1, 2, 1, 2, 0, 2, 0, 2, 1, 2, 1, 2, 1, 2, 1, 2, 0, 2, 1,\n",
      "         2, 0, 2, 1, 2, 1, 2, 1, 2, 1, 2, 1, 2, 1, 2, 1, 2, 1, 2, 1, 2, 1, 2, 1,\n",
      "         2, 1]])\n",
      "Predicted: 2 True: 2, Predicted with start: 2\n",
      "\n",
      "Tokens = tensor([[ 3,  0,  2,  1,  6,  0,  2,  1, 10,  0,  3,  0,  3,  0,  2,  1, 11,  0,\n",
      "          9,  0,  2,  1,  2,  1,  2,  1,  2,  1,  2,  1,  9,  0,  2,  1,  5,  0,\n",
      "          2,  1,  7,  0,  9,  0,  2,  1,  2,  1,  2,  1,  2,  1,  2,  1,  2,  1,\n",
      "          2,  1,  2,  1,  2,  1,  2,  1,  2,  1,  2,  1,  2,  1,  2,  1,  2,  1,\n",
      "          2,  1,  2,  1,  2,  1,  2,  0,  2,  1,  2,  1,  2,  1,  2,  1,  9,  0,\n",
      "          2,  1,  2,  1,  2,  1,  2,  1, 11,  0,  7,  0,  7,  0, 10,  0,  2,  1,\n",
      "          2,  1,  7,  0,  2,  1,  2,  1,  2,  1,  2,  1,  2,  0,  2,  1,  2,  0,\n",
      "          2,  1,  2,  1,  5,  0,  5,  0,  2,  1,  4,  1,  4,  1,  4,  1,  4,  1,\n",
      "          7,  0,  3,  0,  4,  0,  2,  1,  2,  1,  2,  1,  5,  0,  2,  1,  2,  1,\n",
      "          2,  1,  2,  1,  4,  1, 10,  0,  2,  1,  3,  0,  2,  1,  2,  1, 10,  0,\n",
      "          2,  1,  7,  0,  2,  1,  2,  1,  2,  1,  3,  0,  2,  1,  2]]), Start = tensor([[3, 0, 3, 1, 2, 1, 2, 1, 2, 1, 2, 1, 3, 0, 3, 0, 3, 0, 2, 1, 3, 0, 2, 1,\n",
      "         2, 1, 2, 1, 2, 1, 2, 1, 2, 1, 2, 1, 2, 1, 2, 1, 2, 1, 2, 1, 2, 1, 2, 0,\n",
      "         2, 1, 2, 1, 2, 0, 2, 1, 2, 1, 2, 1, 2, 1, 2, 1, 2, 0, 2, 1, 2, 0, 2, 1,\n",
      "         2, 1, 2, 1, 2, 1, 2, 1, 2, 1, 2, 1, 2, 1, 2, 1, 2, 1, 2, 1, 2, 1, 2, 1,\n",
      "         2, 1, 2, 1, 2, 1, 2, 1, 2, 1, 2, 0, 2, 1, 2, 1, 2, 1, 2, 1, 2, 1, 2, 1,\n",
      "         2, 1, 2, 1, 2, 1, 2, 0, 2, 1, 2, 1, 2, 1, 2, 1, 2, 1, 2, 1, 2, 1, 2, 1,\n",
      "         2, 1, 2, 1, 2, 1, 2, 1, 2, 0, 2, 0, 2, 1, 2, 1, 2, 1, 2, 1, 2, 0, 2, 1,\n",
      "         2, 0, 2, 1, 2, 1, 2, 1, 2, 1, 2, 1, 2, 1, 2, 1, 2, 1, 2, 1, 2, 1, 2, 1,\n",
      "         2, 1, 2]])\n",
      "Predicted: 1 True: 1, Predicted with start: 1\n",
      "\n",
      "Tokens = tensor([[ 3,  0,  2,  1,  6,  0,  2,  1, 10,  0,  3,  0,  3,  0,  2,  1, 11,  0,\n",
      "          9,  0,  2,  1,  2,  1,  2,  1,  2,  1,  2,  1,  9,  0,  2,  1,  5,  0,\n",
      "          2,  1,  7,  0,  9,  0,  2,  1,  2,  1,  2,  1,  2,  1,  2,  1,  2,  1,\n",
      "          2,  1,  2,  1,  2,  1,  2,  1,  2,  1,  2,  1,  2,  1,  2,  1,  2,  1,\n",
      "          2,  1,  2,  1,  2,  1,  2,  0,  2,  1,  2,  1,  2,  1,  2,  1,  9,  0,\n",
      "          2,  1,  2,  1,  2,  1,  2,  1, 11,  0,  7,  0,  7,  0, 10,  0,  2,  1,\n",
      "          2,  1,  7,  0,  2,  1,  2,  1,  2,  1,  2,  1,  2,  0,  2,  1,  2,  0,\n",
      "          2,  1,  2,  1,  5,  0,  5,  0,  2,  1,  4,  1,  4,  1,  4,  1,  4,  1,\n",
      "          7,  0,  3,  0,  4,  0,  2,  1,  2,  1,  2,  1,  5,  0,  2,  1,  2,  1,\n",
      "          2,  1,  2,  1,  4,  1, 10,  0,  2,  1,  3,  0,  2,  1,  2,  1, 10,  0,\n",
      "          2,  1,  7,  0,  2,  1,  2,  1,  2,  1,  3,  0,  2,  1,  2,  1]]), Start = tensor([[3, 0, 3, 1, 2, 1, 2, 1, 2, 1, 2, 1, 3, 0, 3, 0, 3, 0, 2, 1, 3, 0, 2, 1,\n",
      "         2, 1, 2, 1, 2, 1, 2, 1, 2, 1, 2, 1, 2, 1, 2, 1, 2, 1, 2, 1, 2, 1, 2, 0,\n",
      "         2, 1, 2, 1, 2, 0, 2, 1, 2, 1, 2, 1, 2, 1, 2, 1, 2, 0, 2, 1, 2, 0, 2, 1,\n",
      "         2, 1, 2, 1, 2, 1, 2, 1, 2, 1, 2, 1, 2, 1, 2, 1, 2, 1, 2, 1, 2, 1, 2, 1,\n",
      "         2, 1, 2, 1, 2, 1, 2, 1, 2, 1, 2, 0, 2, 1, 2, 1, 2, 1, 2, 1, 2, 1, 2, 1,\n",
      "         2, 1, 2, 1, 2, 1, 2, 0, 2, 1, 2, 1, 2, 1, 2, 1, 2, 1, 2, 1, 2, 1, 2, 1,\n",
      "         2, 1, 2, 1, 2, 1, 2, 1, 2, 0, 2, 0, 2, 1, 2, 1, 2, 1, 2, 1, 2, 0, 2, 1,\n",
      "         2, 0, 2, 1, 2, 1, 2, 1, 2, 1, 2, 1, 2, 1, 2, 1, 2, 1, 2, 1, 2, 1, 2, 1,\n",
      "         2, 1, 2, 1]])\n",
      "Predicted: 2 True: 2, Predicted with start: 2\n",
      "\n",
      "Tokens = tensor([[ 3,  0,  2,  1,  6,  0,  2,  1, 10,  0,  3,  0,  3,  0,  2,  1, 11,  0,\n",
      "          9,  0,  2,  1,  2,  1,  2,  1,  2,  1,  2,  1,  9,  0,  2,  1,  5,  0,\n",
      "          2,  1,  7,  0,  9,  0,  2,  1,  2,  1,  2,  1,  2,  1,  2,  1,  2,  1,\n",
      "          2,  1,  2,  1,  2,  1,  2,  1,  2,  1,  2,  1,  2,  1,  2,  1,  2,  1,\n",
      "          2,  1,  2,  1,  2,  1,  2,  0,  2,  1,  2,  1,  2,  1,  2,  1,  9,  0,\n",
      "          2,  1,  2,  1,  2,  1,  2,  1, 11,  0,  7,  0,  7,  0, 10,  0,  2,  1,\n",
      "          2,  1,  7,  0,  2,  1,  2,  1,  2,  1,  2,  1,  2,  0,  2,  1,  2,  0,\n",
      "          2,  1,  2,  1,  5,  0,  5,  0,  2,  1,  4,  1,  4,  1,  4,  1,  4,  1,\n",
      "          7,  0,  3,  0,  4,  0,  2,  1,  2,  1,  2,  1,  5,  0,  2,  1,  2,  1,\n",
      "          2,  1,  2,  1,  4,  1, 10,  0,  2,  1,  3,  0,  2,  1,  2,  1, 10,  0,\n",
      "          2,  1,  7,  0,  2,  1,  2,  1,  2,  1,  3,  0,  2,  1,  2,  1,  2]]), Start = tensor([[3, 0, 3, 1, 2, 1, 2, 1, 2, 1, 2, 1, 3, 0, 3, 0, 3, 0, 2, 1, 3, 0, 2, 1,\n",
      "         2, 1, 2, 1, 2, 1, 2, 1, 2, 1, 2, 1, 2, 1, 2, 1, 2, 1, 2, 1, 2, 1, 2, 0,\n",
      "         2, 1, 2, 1, 2, 0, 2, 1, 2, 1, 2, 1, 2, 1, 2, 1, 2, 0, 2, 1, 2, 0, 2, 1,\n",
      "         2, 1, 2, 1, 2, 1, 2, 1, 2, 1, 2, 1, 2, 1, 2, 1, 2, 1, 2, 1, 2, 1, 2, 1,\n",
      "         2, 1, 2, 1, 2, 1, 2, 1, 2, 1, 2, 0, 2, 1, 2, 1, 2, 1, 2, 1, 2, 1, 2, 1,\n",
      "         2, 1, 2, 1, 2, 1, 2, 0, 2, 1, 2, 1, 2, 1, 2, 1, 2, 1, 2, 1, 2, 1, 2, 1,\n",
      "         2, 1, 2, 1, 2, 1, 2, 1, 2, 0, 2, 0, 2, 1, 2, 1, 2, 1, 2, 1, 2, 0, 2, 1,\n",
      "         2, 0, 2, 1, 2, 1, 2, 1, 2, 1, 2, 1, 2, 1, 2, 1, 2, 1, 2, 1, 2, 1, 2, 1,\n",
      "         2, 1, 2, 1, 2]])\n",
      "Predicted: 1 True: 1, Predicted with start: 1\n",
      "\n",
      "Tokens = tensor([[ 3,  0,  2,  1,  6,  0,  2,  1, 10,  0,  3,  0,  3,  0,  2,  1, 11,  0,\n",
      "          9,  0,  2,  1,  2,  1,  2,  1,  2,  1,  2,  1,  9,  0,  2,  1,  5,  0,\n",
      "          2,  1,  7,  0,  9,  0,  2,  1,  2,  1,  2,  1,  2,  1,  2,  1,  2,  1,\n",
      "          2,  1,  2,  1,  2,  1,  2,  1,  2,  1,  2,  1,  2,  1,  2,  1,  2,  1,\n",
      "          2,  1,  2,  1,  2,  1,  2,  0,  2,  1,  2,  1,  2,  1,  2,  1,  9,  0,\n",
      "          2,  1,  2,  1,  2,  1,  2,  1, 11,  0,  7,  0,  7,  0, 10,  0,  2,  1,\n",
      "          2,  1,  7,  0,  2,  1,  2,  1,  2,  1,  2,  1,  2,  0,  2,  1,  2,  0,\n",
      "          2,  1,  2,  1,  5,  0,  5,  0,  2,  1,  4,  1,  4,  1,  4,  1,  4,  1,\n",
      "          7,  0,  3,  0,  4,  0,  2,  1,  2,  1,  2,  1,  5,  0,  2,  1,  2,  1,\n",
      "          2,  1,  2,  1,  4,  1, 10,  0,  2,  1,  3,  0,  2,  1,  2,  1, 10,  0,\n",
      "          2,  1,  7,  0,  2,  1,  2,  1,  2,  1,  3,  0,  2,  1,  2,  1,  2,  1]]), Start = tensor([[3, 0, 3, 1, 2, 1, 2, 1, 2, 1, 2, 1, 3, 0, 3, 0, 3, 0, 2, 1, 3, 0, 2, 1,\n",
      "         2, 1, 2, 1, 2, 1, 2, 1, 2, 1, 2, 1, 2, 1, 2, 1, 2, 1, 2, 1, 2, 1, 2, 0,\n",
      "         2, 1, 2, 1, 2, 0, 2, 1, 2, 1, 2, 1, 2, 1, 2, 1, 2, 0, 2, 1, 2, 0, 2, 1,\n",
      "         2, 1, 2, 1, 2, 1, 2, 1, 2, 1, 2, 1, 2, 1, 2, 1, 2, 1, 2, 1, 2, 1, 2, 1,\n",
      "         2, 1, 2, 1, 2, 1, 2, 1, 2, 1, 2, 0, 2, 1, 2, 1, 2, 1, 2, 1, 2, 1, 2, 1,\n",
      "         2, 1, 2, 1, 2, 1, 2, 0, 2, 1, 2, 1, 2, 1, 2, 1, 2, 1, 2, 1, 2, 1, 2, 1,\n",
      "         2, 1, 2, 1, 2, 1, 2, 1, 2, 0, 2, 0, 2, 1, 2, 1, 2, 1, 2, 1, 2, 0, 2, 1,\n",
      "         2, 0, 2, 1, 2, 1, 2, 1, 2, 1, 2, 1, 2, 1, 2, 1, 2, 1, 2, 1, 2, 1, 2, 1,\n",
      "         2, 1, 2, 1, 2, 1]])\n",
      "Predicted: 2 True: 5, Predicted with start: 2\n",
      "\n",
      "Tokens = tensor([[ 3,  0,  2,  1,  6,  0,  2,  1, 10,  0,  3,  0,  3,  0,  2,  1, 11,  0,\n",
      "          9,  0,  2,  1,  2,  1,  2,  1,  2,  1,  2,  1,  9,  0,  2,  1,  5,  0,\n",
      "          2,  1,  7,  0,  9,  0,  2,  1,  2,  1,  2,  1,  2,  1,  2,  1,  2,  1,\n",
      "          2,  1,  2,  1,  2,  1,  2,  1,  2,  1,  2,  1,  2,  1,  2,  1,  2,  1,\n",
      "          2,  1,  2,  1,  2,  1,  2,  0,  2,  1,  2,  1,  2,  1,  2,  1,  9,  0,\n",
      "          2,  1,  2,  1,  2,  1,  2,  1, 11,  0,  7,  0,  7,  0, 10,  0,  2,  1,\n",
      "          2,  1,  7,  0,  2,  1,  2,  1,  2,  1,  2,  1,  2,  0,  2,  1,  2,  0,\n",
      "          2,  1,  2,  1,  5,  0,  5,  0,  2,  1,  4,  1,  4,  1,  4,  1,  4,  1,\n",
      "          7,  0,  3,  0,  4,  0,  2,  1,  2,  1,  2,  1,  5,  0,  2,  1,  2,  1,\n",
      "          2,  1,  2,  1,  4,  1, 10,  0,  2,  1,  3,  0,  2,  1,  2,  1, 10,  0,\n",
      "          2,  1,  7,  0,  2,  1,  2,  1,  2,  1,  3,  0,  2,  1,  2,  1,  2,  1,\n",
      "          5]]), Start = tensor([[3, 0, 3, 1, 2, 1, 2, 1, 2, 1, 2, 1, 3, 0, 3, 0, 3, 0, 2, 1, 3, 0, 2, 1,\n",
      "         2, 1, 2, 1, 2, 1, 2, 1, 2, 1, 2, 1, 2, 1, 2, 1, 2, 1, 2, 1, 2, 1, 2, 0,\n",
      "         2, 1, 2, 1, 2, 0, 2, 1, 2, 1, 2, 1, 2, 1, 2, 1, 2, 0, 2, 1, 2, 0, 2, 1,\n",
      "         2, 1, 2, 1, 2, 1, 2, 1, 2, 1, 2, 1, 2, 1, 2, 1, 2, 1, 2, 1, 2, 1, 2, 1,\n",
      "         2, 1, 2, 1, 2, 1, 2, 1, 2, 1, 2, 0, 2, 1, 2, 1, 2, 1, 2, 1, 2, 1, 2, 1,\n",
      "         2, 1, 2, 1, 2, 1, 2, 0, 2, 1, 2, 1, 2, 1, 2, 1, 2, 1, 2, 1, 2, 1, 2, 1,\n",
      "         2, 1, 2, 1, 2, 1, 2, 1, 2, 0, 2, 0, 2, 1, 2, 1, 2, 1, 2, 1, 2, 0, 2, 1,\n",
      "         2, 0, 2, 1, 2, 1, 2, 1, 2, 1, 2, 1, 2, 1, 2, 1, 2, 1, 2, 1, 2, 1, 2, 1,\n",
      "         2, 1, 2, 1, 2, 1, 2]])\n",
      "Predicted: 0 True: 0, Predicted with start: 1\n",
      "\n",
      "\n",
      "Final tokens: tensor([[ 3,  0,  2,  1,  6,  0,  2,  1, 10,  0,  3,  0,  3,  0,  2,  1, 11,  0,\n",
      "          9,  0,  2,  1,  2,  1,  2,  1,  2,  1,  2,  1,  9,  0,  2,  1,  5,  0,\n",
      "          2,  1,  7,  0,  9,  0,  2,  1,  2,  1,  2,  1,  2,  1,  2,  1,  2,  1,\n",
      "          2,  1,  2,  1,  2,  1,  2,  1,  2,  1,  2,  1,  2,  1,  2,  1,  2,  1,\n",
      "          2,  1,  2,  1,  2,  1,  2,  0,  2,  1,  2,  1,  2,  1,  2,  1,  9,  0,\n",
      "          2,  1,  2,  1,  2,  1,  2,  1, 11,  0,  7,  0,  7,  0, 10,  0,  2,  1,\n",
      "          2,  1,  7,  0,  2,  1,  2,  1,  2,  1,  2,  1,  2,  0,  2,  1,  2,  0,\n",
      "          2,  1,  2,  1,  5,  0,  5,  0,  2,  1,  4,  1,  4,  1,  4,  1,  4,  1,\n",
      "          7,  0,  3,  0,  4,  0,  2,  1,  2,  1,  2,  1,  5,  0,  2,  1,  2,  1,\n",
      "          2,  1,  2,  1,  4,  1, 10,  0,  2,  1,  3,  0,  2,  1,  2,  1, 10,  0,\n",
      "          2,  1,  7,  0,  2,  1,  2,  1,  2,  1,  3,  0,  2,  1,  2,  1,  2,  1,\n",
      "          5,  0]])\n",
      "Final start: tensor([[3, 0, 3, 1, 2, 1, 2, 1, 2, 1, 2, 1, 3, 0, 3, 0, 3, 0, 2, 1, 3, 0, 2, 1,\n",
      "         2, 1, 2, 1, 2, 1, 2, 1, 2, 1, 2, 1, 2, 1, 2, 1, 2, 1, 2, 1, 2, 1, 2, 0,\n",
      "         2, 1, 2, 1, 2, 0, 2, 1, 2, 1, 2, 1, 2, 1, 2, 1, 2, 0, 2, 1, 2, 0, 2, 1,\n",
      "         2, 1, 2, 1, 2, 1, 2, 1, 2, 1, 2, 1, 2, 1, 2, 1, 2, 1, 2, 1, 2, 1, 2, 1,\n",
      "         2, 1, 2, 1, 2, 1, 2, 1, 2, 1, 2, 0, 2, 1, 2, 1, 2, 1, 2, 1, 2, 1, 2, 1,\n",
      "         2, 1, 2, 1, 2, 1, 2, 0, 2, 1, 2, 1, 2, 1, 2, 1, 2, 1, 2, 1, 2, 1, 2, 1,\n",
      "         2, 1, 2, 1, 2, 1, 2, 1, 2, 0, 2, 0, 2, 1, 2, 1, 2, 1, 2, 1, 2, 0, 2, 1,\n",
      "         2, 0, 2, 1, 2, 1, 2, 1, 2, 1, 2, 1, 2, 1, 2, 1, 2, 1, 2, 1, 2, 1, 2, 1,\n",
      "         2, 1, 2, 1, 2, 1, 2, 1]])\n"
     ]
    }
   ],
   "source": [
    "# Get one batch of tokens from the test loader\n",
    "#tokens = next(iter(test_loader))\n",
    "# tokens = trajectories_tensor[0, :].unsqueeze(0)\n",
    "# print(tokens.shape)\n",
    "\n",
    "# TO-DO: bug here with probs not lining up with tokens\n",
    "\n",
    "# idx = 103\n",
    "# tokens = trajectories_tensor[idx, :].unsqueeze(0)\n",
    "# probs = probabilities[idx]\n",
    "\n",
    "model.eval()\n",
    "with torch.no_grad():\n",
    "    # Go through tokens from just one to get the predictions\n",
    "    start = tokens[:, :1]\n",
    "    for i in range(tokens.shape[1]-1):\n",
    "        logits = model(tokens[:, :i+1])\n",
    "        logits_with_previous = model(start)\n",
    "        \n",
    "        # Get the next prediction\n",
    "        next_token = logits.argmax(-1)[:, -1]\n",
    "        next_token_with_previous = logits_with_previous.argmax(-1)[:, -1]   \n",
    "        # Get the true next token\n",
    "        true_next_token = tokens[:, i+1]\n",
    "        print(f\"Tokens = {tokens[:, :i+1]}, Start = {start}\")\n",
    "        print(f\"Predicted: {next_token.item()} True: {true_next_token.item()}, Predicted with start: {next_token_with_previous.item()}\\n\")\n",
    "\n",
    "        # Add to start\n",
    "        #if true_next_token > 1:\n",
    "        if (i+1) % 2 == 0:\n",
    "            start = torch.cat([start, next_token.unsqueeze(1)], dim=1)\n",
    "        else:\n",
    "            # Get reward from probs\n",
    "            rand_num = np.random.rand()\n",
    "            # Previous action\n",
    "            prev_action = start[:, -1]\n",
    "            #print(f\"Previous action: {prev_action.item()}\")\n",
    "            reward = 1 if rand_num < probs[prev_action-2] else 0\n",
    "            start = torch.cat([start, torch.tensor([reward]).unsqueeze(0)], dim=1)\n",
    "            #start = torch.cat([start, true_next_token.unsqueeze(1)], dim=1)\n",
    "\n",
    "print()\n",
    "print(f\"Final tokens: {tokens}\")\n",
    "print(f\"Final start: {start}\")"
   ]
  },
  {
   "cell_type": "code",
   "execution_count": 21,
   "metadata": {},
   "outputs": [
    {
     "data": {
      "text/plain": [
       "(85, 68)"
      ]
     },
     "execution_count": 21,
     "metadata": {},
     "output_type": "execute_result"
    }
   ],
   "source": [
    "def evaluate_trajectory(trajectory, original_seq):\n",
    "\n",
    "    # Calculate cumulative reward for both\n",
    "    cumulative_reward = 0\n",
    "    original_cumulative_reward = 0\n",
    "    for i in range(0, len(trajectory), 2):\n",
    "        cumulative_reward += trajectory[i + 1]\n",
    "        original_cumulative_reward += original_seq[i + 1]\n",
    "    \n",
    "    return cumulative_reward, original_cumulative_reward\n",
    "\n",
    "\n",
    "evaluate_trajectory(start.squeeze(0).tolist(), tokens.squeeze(0).tolist())"
   ]
  },
  {
   "cell_type": "code",
   "execution_count": 55,
   "metadata": {},
   "outputs": [],
   "source": [
    "iter_test_loader = iter(test_loader)"
   ]
  },
  {
   "cell_type": "code",
   "execution_count": 61,
   "metadata": {},
   "outputs": [
    {
     "name": "stderr",
     "output_type": "stream",
     "text": [
      "100%|██████████| 199/199 [00:06<00:00, 29.63it/s]\n"
     ]
    }
   ],
   "source": [
    "# Get a random batch from the test loader\n",
    "tokens, probs = next(iter_test_loader)\n",
    "\n",
    "def generate_bandit_predictions(model, initial_tokens, arm_probabilities):\n",
    "    model.eval()\n",
    "    with torch.no_grad():\n",
    "        # Initialize the prediction sequence with the first token\n",
    "        prediction_sequence = initial_tokens[:, :1]\n",
    "        \n",
    "        # Loop through each token in the sequence\n",
    "        for token_index in tqdm.tqdm(range(initial_tokens.shape[1] - 1)):\n",
    "            \n",
    "            # Odd indices: Generate the next prediction\n",
    "            if (token_index + 1) % 2 == 0:\n",
    "                model_logits = model(prediction_sequence)\n",
    "                next_prediction = model_logits.argmax(-1)[:, -1]\n",
    "                prediction_sequence = torch.cat([prediction_sequence, next_prediction.unsqueeze(1)], dim=1)\n",
    "            \n",
    "            # Even indices: Generate the reward based on probabilities\n",
    "            else:\n",
    "                previous_action = prediction_sequence[:, -1]\n",
    "                random_numbers = torch.rand(previous_action.shape[0])\n",
    "                reward_probabilities = arm_probabilities[torch.arange(previous_action.shape[0]), previous_action - 2]\n",
    "                reward_token = (random_numbers < reward_probabilities).long().unsqueeze(1)\n",
    "                prediction_sequence = torch.cat([prediction_sequence, reward_token], dim=1)\n",
    "\n",
    "    return prediction_sequence, initial_tokens\n",
    "\n",
    "# Example usage\n",
    "# Assuming 'model' is a trained transformer model and 'tokens' and 'probs' are from test_loader\n",
    "predicted_sequence, actual_sequence = generate_bandit_predictions(model, tokens, probs)"
   ]
  },
  {
   "cell_type": "code",
   "execution_count": 62,
   "metadata": {},
   "outputs": [
    {
     "name": "stdout",
     "output_type": "stream",
     "text": [
      "Cumulative reward: 59.5, Original cumulative reward: 54.17499923706055\n"
     ]
    }
   ],
   "source": [
    "cum_rewards, original_rewards = evaluate_trajectory(predicted_sequence, actual_sequence)\n",
    "print(f\"Cumulative reward: {cum_rewards.float().mean()}, Original cumulative reward: {original_rewards.float().mean()}\")"
   ]
  },
  {
   "cell_type": "code",
   "execution_count": null,
   "metadata": {},
   "outputs": [],
   "source": []
  }
 ],
 "metadata": {
  "kernelspec": {
   "display_name": "anu",
   "language": "python",
   "name": "python3"
  },
  "language_info": {
   "codemirror_mode": {
    "name": "ipython",
    "version": 3
   },
   "file_extension": ".py",
   "mimetype": "text/x-python",
   "name": "python",
   "nbconvert_exporter": "python",
   "pygments_lexer": "ipython3",
   "version": "3.12.1"
  }
 },
 "nbformat": 4,
 "nbformat_minor": 2
}

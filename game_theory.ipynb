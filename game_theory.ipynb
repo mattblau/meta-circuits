{
 "cells": [
  {
   "cell_type": "code",
   "execution_count": 5,
   "metadata": {},
   "outputs": [],
   "source": [
    "import numpy as np\n",
    "import random\n",
    "from tqdm import tqdm\n",
    "import math\n",
    "import torch"
   ]
  },
  {
   "cell_type": "markdown",
   "metadata": {},
   "source": [
    "## Multiarmed bandits"
   ]
  },
  {
   "cell_type": "code",
   "execution_count": 6,
   "metadata": {},
   "outputs": [],
   "source": [
    "# Function to convert episodes to trajectory sequence of codes\n",
    "def episodes_to_trajectory(episodes):\n",
    "    trajectory = []\n",
    "    for episode in episodes:\n",
    "        action = episode['action']\n",
    "        reward = episode['reward']\n",
    "        trajectory.extend([action, reward])\n",
    "    return trajectory\n",
    "\n",
    "def cumulative_reward_from_trajectory(trajectory):\n",
    "    cumulative_reward = 0\n",
    "    for i in range(0, len(trajectory), 2):\n",
    "        cumulative_reward += trajectory[i + 1]\n",
    "    return cumulative_reward\n",
    "\n",
    "def softmax(x):\n",
    "    e_x = np.exp(x - np.max(x))\n",
    "    return e_x / e_x.sum()"
   ]
  },
  {
   "cell_type": "code",
   "execution_count": 7,
   "metadata": {},
   "outputs": [
    {
     "name": "stderr",
     "output_type": "stream",
     "text": [
      "100%|██████████| 1000/1000 [00:00<00:00, 3314.87it/s]\n"
     ]
    }
   ],
   "source": [
    "def select_arm(epsilon):\n",
    "    if random.random() < epsilon:\n",
    "        return random.randint(0, n_arms - 1), 'random'  # Exploration\n",
    "    else:\n",
    "        return max(range(n_arms), key=lambda x: estimated_rewards[x]), 'greedy'  # Exploitation\n",
    "\n",
    "def update_reward(arm, reward):\n",
    "    counts[arm] += 1\n",
    "    estimated_rewards[arm] += (reward - estimated_rewards[arm]) / counts[arm]\n",
    "\n",
    "def generate_reward(arm, prob_high_value, high_value=10, low_value=1):\n",
    "    if random.random() < prob_high_value[arm]:\n",
    "        return high_value\n",
    "    else:\n",
    "        return low_value\n",
    "\n",
    "def epsilon_schedule(t):\n",
    "    return max(epsilon_min, epsilon_initial / math.log(t + decay_offset))\n",
    "\n",
    "# Function to convert episodes to trajectory sequence of codes\n",
    "def episodes_to_trajectory(episodes):\n",
    "    trajectory = []\n",
    "    for episode in episodes:\n",
    "        action = episode['action'] + 2\n",
    "        reward = 0 if episode['reward'] == 1 else 1\n",
    "        trajectory.extend([action, reward])\n",
    "    return trajectory\n",
    "\n",
    "def cumulative_reward_from_trajectory(trajectory):\n",
    "    cumulative_reward = 0\n",
    "    for i in range(0, len(trajectory), 2):\n",
    "        cumulative_reward += trajectory[i + 1]\n",
    "    return cumulative_reward\n",
    "\n",
    "num_trajectories = 1000\n",
    "trajectories = []\n",
    "\n",
    "for _ in tqdm(range(num_trajectories)):\n",
    "    #print('hello')\n",
    "    # Initialization\n",
    "    n_arms = 10\n",
    "    counts = [0] * n_arms\n",
    "    #rewards = [0.0] * n_arms\n",
    "    estimated_rewards = [0.0] * n_arms\n",
    "\n",
    "    epsilon_initial = 1.0\n",
    "    epsilon_min = 0.001\n",
    "    decay_offset = 1e-2  # Offset to avoid division by zero in log function\n",
    "\n",
    "    # Each arm has its own fixed reward probability\n",
    "    prob_high_value = np.ones(n_arms) * 0.1\n",
    "\n",
    "    # Randomly select 2 indices\n",
    "    indices = np.random.choice(n_arms, 2, replace=False)\n",
    "    prob_high_value[indices] = 0.9\n",
    "\n",
    "    high_value = 10\n",
    "    low_value = 1\n",
    "\n",
    "    episodes = []\n",
    "\n",
    "    # Run multiple episodes\n",
    "    for episode in range(1, 101):  # Number of episodes (1-indexed for log function)\n",
    "        # Decay epsilon over episodes\n",
    "        epsilon = epsilon_schedule(episode)\n",
    "        #epsilon=0.1\n",
    "        arm, arm_type = select_arm(epsilon)\n",
    "        if arm in indices:\n",
    "            selected_high = 1\n",
    "        else:\n",
    "            selected_high = 0\n",
    "        reward = generate_reward(arm, prob_high_value)\n",
    "        update_reward(arm, reward)\n",
    "        episodes.append({'state': {'counts': list(counts), 'rewards': list(estimated_rewards)}, 'action': arm, 'reward': reward, 'arm_type': arm_type, 'selected_high': selected_high})\n",
    "\n",
    "    # print()\n",
    "\n",
    "    trajectory = episodes_to_trajectory(episodes)\n",
    "    cumulative_reward = cumulative_reward_from_trajectory(trajectory)\n",
    "    #print(f\"Probabilities: {prob_high_value}\")\n",
    "    trajectories.append({'trajectory': trajectory, 'cumulative_reward': cumulative_reward, 'probabilities': prob_high_value,\n",
    "                         'selected_highs': [episode['selected_high'] for episode in episodes], 'arm_types': [episode['arm_type'] for episode in episodes]})\n"
   ]
  },
  {
   "cell_type": "code",
   "execution_count": 8,
   "metadata": {},
   "outputs": [
    {
     "data": {
      "application/vnd.plotly.v1+json": {
       "config": {
        "plotlyServerURL": "https://plot.ly"
       },
       "data": [
        {
         "hovertemplate": "Episode=%{x}<br>Probability of Selecting High Reward Arm=%{y}<extra></extra>",
         "legendgroup": "",
         "line": {
          "color": "#636efa",
          "dash": "solid"
         },
         "marker": {
          "symbol": "circle"
         },
         "mode": "lines",
         "name": "",
         "orientation": "v",
         "showlegend": false,
         "type": "scatter",
         "x": [
          0,
          1,
          2,
          3,
          4,
          5,
          6,
          7,
          8,
          9,
          10,
          11,
          12,
          13,
          14,
          15,
          16,
          17,
          18,
          19,
          20,
          21,
          22,
          23,
          24,
          25,
          26,
          27,
          28,
          29,
          30,
          31,
          32,
          33,
          34,
          35,
          36,
          37,
          38,
          39,
          40,
          41,
          42,
          43,
          44,
          45,
          46,
          47,
          48,
          49,
          50,
          51,
          52,
          53,
          54,
          55,
          56,
          57,
          58,
          59,
          60,
          61,
          62,
          63,
          64,
          65,
          66,
          67,
          68,
          69,
          70,
          71,
          72,
          73,
          74,
          75,
          76,
          77,
          78,
          79,
          80,
          81,
          82,
          83,
          84,
          85,
          86,
          87,
          88,
          89,
          90,
          91,
          92,
          93,
          94,
          95,
          96,
          97,
          98,
          99
         ],
         "xaxis": "x",
         "y": [
          0.209,
          0.205,
          0.2,
          0.246,
          0.295,
          0.332,
          0.383,
          0.393,
          0.441,
          0.452,
          0.477,
          0.488,
          0.524,
          0.554,
          0.556,
          0.551,
          0.585,
          0.593,
          0.606,
          0.638,
          0.637,
          0.64,
          0.648,
          0.658,
          0.655,
          0.663,
          0.678,
          0.675,
          0.699,
          0.689,
          0.691,
          0.712,
          0.72,
          0.733,
          0.729,
          0.725,
          0.744,
          0.773,
          0.734,
          0.759,
          0.72,
          0.759,
          0.761,
          0.767,
          0.746,
          0.756,
          0.765,
          0.764,
          0.744,
          0.786,
          0.774,
          0.772,
          0.763,
          0.751,
          0.775,
          0.796,
          0.8,
          0.818,
          0.778,
          0.81,
          0.8,
          0.793,
          0.797,
          0.816,
          0.787,
          0.793,
          0.806,
          0.78,
          0.807,
          0.818,
          0.792,
          0.793,
          0.799,
          0.809,
          0.806,
          0.813,
          0.805,
          0.814,
          0.825,
          0.803,
          0.803,
          0.82,
          0.818,
          0.802,
          0.824,
          0.814,
          0.83,
          0.818,
          0.815,
          0.815,
          0.784,
          0.822,
          0.781,
          0.818,
          0.817,
          0.802,
          0.811,
          0.82,
          0.813,
          0.835
         ],
         "yaxis": "y"
        }
       ],
       "layout": {
        "legend": {
         "tracegroupgap": 0
        },
        "margin": {
         "t": 60
        },
        "template": {
         "data": {
          "bar": [
           {
            "error_x": {
             "color": "#2a3f5f"
            },
            "error_y": {
             "color": "#2a3f5f"
            },
            "marker": {
             "line": {
              "color": "#E5ECF6",
              "width": 0.5
             },
             "pattern": {
              "fillmode": "overlay",
              "size": 10,
              "solidity": 0.2
             }
            },
            "type": "bar"
           }
          ],
          "barpolar": [
           {
            "marker": {
             "line": {
              "color": "#E5ECF6",
              "width": 0.5
             },
             "pattern": {
              "fillmode": "overlay",
              "size": 10,
              "solidity": 0.2
             }
            },
            "type": "barpolar"
           }
          ],
          "carpet": [
           {
            "aaxis": {
             "endlinecolor": "#2a3f5f",
             "gridcolor": "white",
             "linecolor": "white",
             "minorgridcolor": "white",
             "startlinecolor": "#2a3f5f"
            },
            "baxis": {
             "endlinecolor": "#2a3f5f",
             "gridcolor": "white",
             "linecolor": "white",
             "minorgridcolor": "white",
             "startlinecolor": "#2a3f5f"
            },
            "type": "carpet"
           }
          ],
          "choropleth": [
           {
            "colorbar": {
             "outlinewidth": 0,
             "ticks": ""
            },
            "type": "choropleth"
           }
          ],
          "contour": [
           {
            "colorbar": {
             "outlinewidth": 0,
             "ticks": ""
            },
            "colorscale": [
             [
              0,
              "#0d0887"
             ],
             [
              0.1111111111111111,
              "#46039f"
             ],
             [
              0.2222222222222222,
              "#7201a8"
             ],
             [
              0.3333333333333333,
              "#9c179e"
             ],
             [
              0.4444444444444444,
              "#bd3786"
             ],
             [
              0.5555555555555556,
              "#d8576b"
             ],
             [
              0.6666666666666666,
              "#ed7953"
             ],
             [
              0.7777777777777778,
              "#fb9f3a"
             ],
             [
              0.8888888888888888,
              "#fdca26"
             ],
             [
              1,
              "#f0f921"
             ]
            ],
            "type": "contour"
           }
          ],
          "contourcarpet": [
           {
            "colorbar": {
             "outlinewidth": 0,
             "ticks": ""
            },
            "type": "contourcarpet"
           }
          ],
          "heatmap": [
           {
            "colorbar": {
             "outlinewidth": 0,
             "ticks": ""
            },
            "colorscale": [
             [
              0,
              "#0d0887"
             ],
             [
              0.1111111111111111,
              "#46039f"
             ],
             [
              0.2222222222222222,
              "#7201a8"
             ],
             [
              0.3333333333333333,
              "#9c179e"
             ],
             [
              0.4444444444444444,
              "#bd3786"
             ],
             [
              0.5555555555555556,
              "#d8576b"
             ],
             [
              0.6666666666666666,
              "#ed7953"
             ],
             [
              0.7777777777777778,
              "#fb9f3a"
             ],
             [
              0.8888888888888888,
              "#fdca26"
             ],
             [
              1,
              "#f0f921"
             ]
            ],
            "type": "heatmap"
           }
          ],
          "heatmapgl": [
           {
            "colorbar": {
             "outlinewidth": 0,
             "ticks": ""
            },
            "colorscale": [
             [
              0,
              "#0d0887"
             ],
             [
              0.1111111111111111,
              "#46039f"
             ],
             [
              0.2222222222222222,
              "#7201a8"
             ],
             [
              0.3333333333333333,
              "#9c179e"
             ],
             [
              0.4444444444444444,
              "#bd3786"
             ],
             [
              0.5555555555555556,
              "#d8576b"
             ],
             [
              0.6666666666666666,
              "#ed7953"
             ],
             [
              0.7777777777777778,
              "#fb9f3a"
             ],
             [
              0.8888888888888888,
              "#fdca26"
             ],
             [
              1,
              "#f0f921"
             ]
            ],
            "type": "heatmapgl"
           }
          ],
          "histogram": [
           {
            "marker": {
             "pattern": {
              "fillmode": "overlay",
              "size": 10,
              "solidity": 0.2
             }
            },
            "type": "histogram"
           }
          ],
          "histogram2d": [
           {
            "colorbar": {
             "outlinewidth": 0,
             "ticks": ""
            },
            "colorscale": [
             [
              0,
              "#0d0887"
             ],
             [
              0.1111111111111111,
              "#46039f"
             ],
             [
              0.2222222222222222,
              "#7201a8"
             ],
             [
              0.3333333333333333,
              "#9c179e"
             ],
             [
              0.4444444444444444,
              "#bd3786"
             ],
             [
              0.5555555555555556,
              "#d8576b"
             ],
             [
              0.6666666666666666,
              "#ed7953"
             ],
             [
              0.7777777777777778,
              "#fb9f3a"
             ],
             [
              0.8888888888888888,
              "#fdca26"
             ],
             [
              1,
              "#f0f921"
             ]
            ],
            "type": "histogram2d"
           }
          ],
          "histogram2dcontour": [
           {
            "colorbar": {
             "outlinewidth": 0,
             "ticks": ""
            },
            "colorscale": [
             [
              0,
              "#0d0887"
             ],
             [
              0.1111111111111111,
              "#46039f"
             ],
             [
              0.2222222222222222,
              "#7201a8"
             ],
             [
              0.3333333333333333,
              "#9c179e"
             ],
             [
              0.4444444444444444,
              "#bd3786"
             ],
             [
              0.5555555555555556,
              "#d8576b"
             ],
             [
              0.6666666666666666,
              "#ed7953"
             ],
             [
              0.7777777777777778,
              "#fb9f3a"
             ],
             [
              0.8888888888888888,
              "#fdca26"
             ],
             [
              1,
              "#f0f921"
             ]
            ],
            "type": "histogram2dcontour"
           }
          ],
          "mesh3d": [
           {
            "colorbar": {
             "outlinewidth": 0,
             "ticks": ""
            },
            "type": "mesh3d"
           }
          ],
          "parcoords": [
           {
            "line": {
             "colorbar": {
              "outlinewidth": 0,
              "ticks": ""
             }
            },
            "type": "parcoords"
           }
          ],
          "pie": [
           {
            "automargin": true,
            "type": "pie"
           }
          ],
          "scatter": [
           {
            "fillpattern": {
             "fillmode": "overlay",
             "size": 10,
             "solidity": 0.2
            },
            "type": "scatter"
           }
          ],
          "scatter3d": [
           {
            "line": {
             "colorbar": {
              "outlinewidth": 0,
              "ticks": ""
             }
            },
            "marker": {
             "colorbar": {
              "outlinewidth": 0,
              "ticks": ""
             }
            },
            "type": "scatter3d"
           }
          ],
          "scattercarpet": [
           {
            "marker": {
             "colorbar": {
              "outlinewidth": 0,
              "ticks": ""
             }
            },
            "type": "scattercarpet"
           }
          ],
          "scattergeo": [
           {
            "marker": {
             "colorbar": {
              "outlinewidth": 0,
              "ticks": ""
             }
            },
            "type": "scattergeo"
           }
          ],
          "scattergl": [
           {
            "marker": {
             "colorbar": {
              "outlinewidth": 0,
              "ticks": ""
             }
            },
            "type": "scattergl"
           }
          ],
          "scattermapbox": [
           {
            "marker": {
             "colorbar": {
              "outlinewidth": 0,
              "ticks": ""
             }
            },
            "type": "scattermapbox"
           }
          ],
          "scatterpolar": [
           {
            "marker": {
             "colorbar": {
              "outlinewidth": 0,
              "ticks": ""
             }
            },
            "type": "scatterpolar"
           }
          ],
          "scatterpolargl": [
           {
            "marker": {
             "colorbar": {
              "outlinewidth": 0,
              "ticks": ""
             }
            },
            "type": "scatterpolargl"
           }
          ],
          "scatterternary": [
           {
            "marker": {
             "colorbar": {
              "outlinewidth": 0,
              "ticks": ""
             }
            },
            "type": "scatterternary"
           }
          ],
          "surface": [
           {
            "colorbar": {
             "outlinewidth": 0,
             "ticks": ""
            },
            "colorscale": [
             [
              0,
              "#0d0887"
             ],
             [
              0.1111111111111111,
              "#46039f"
             ],
             [
              0.2222222222222222,
              "#7201a8"
             ],
             [
              0.3333333333333333,
              "#9c179e"
             ],
             [
              0.4444444444444444,
              "#bd3786"
             ],
             [
              0.5555555555555556,
              "#d8576b"
             ],
             [
              0.6666666666666666,
              "#ed7953"
             ],
             [
              0.7777777777777778,
              "#fb9f3a"
             ],
             [
              0.8888888888888888,
              "#fdca26"
             ],
             [
              1,
              "#f0f921"
             ]
            ],
            "type": "surface"
           }
          ],
          "table": [
           {
            "cells": {
             "fill": {
              "color": "#EBF0F8"
             },
             "line": {
              "color": "white"
             }
            },
            "header": {
             "fill": {
              "color": "#C8D4E3"
             },
             "line": {
              "color": "white"
             }
            },
            "type": "table"
           }
          ]
         },
         "layout": {
          "annotationdefaults": {
           "arrowcolor": "#2a3f5f",
           "arrowhead": 0,
           "arrowwidth": 1
          },
          "autotypenumbers": "strict",
          "coloraxis": {
           "colorbar": {
            "outlinewidth": 0,
            "ticks": ""
           }
          },
          "colorscale": {
           "diverging": [
            [
             0,
             "#8e0152"
            ],
            [
             0.1,
             "#c51b7d"
            ],
            [
             0.2,
             "#de77ae"
            ],
            [
             0.3,
             "#f1b6da"
            ],
            [
             0.4,
             "#fde0ef"
            ],
            [
             0.5,
             "#f7f7f7"
            ],
            [
             0.6,
             "#e6f5d0"
            ],
            [
             0.7,
             "#b8e186"
            ],
            [
             0.8,
             "#7fbc41"
            ],
            [
             0.9,
             "#4d9221"
            ],
            [
             1,
             "#276419"
            ]
           ],
           "sequential": [
            [
             0,
             "#0d0887"
            ],
            [
             0.1111111111111111,
             "#46039f"
            ],
            [
             0.2222222222222222,
             "#7201a8"
            ],
            [
             0.3333333333333333,
             "#9c179e"
            ],
            [
             0.4444444444444444,
             "#bd3786"
            ],
            [
             0.5555555555555556,
             "#d8576b"
            ],
            [
             0.6666666666666666,
             "#ed7953"
            ],
            [
             0.7777777777777778,
             "#fb9f3a"
            ],
            [
             0.8888888888888888,
             "#fdca26"
            ],
            [
             1,
             "#f0f921"
            ]
           ],
           "sequentialminus": [
            [
             0,
             "#0d0887"
            ],
            [
             0.1111111111111111,
             "#46039f"
            ],
            [
             0.2222222222222222,
             "#7201a8"
            ],
            [
             0.3333333333333333,
             "#9c179e"
            ],
            [
             0.4444444444444444,
             "#bd3786"
            ],
            [
             0.5555555555555556,
             "#d8576b"
            ],
            [
             0.6666666666666666,
             "#ed7953"
            ],
            [
             0.7777777777777778,
             "#fb9f3a"
            ],
            [
             0.8888888888888888,
             "#fdca26"
            ],
            [
             1,
             "#f0f921"
            ]
           ]
          },
          "colorway": [
           "#636efa",
           "#EF553B",
           "#00cc96",
           "#ab63fa",
           "#FFA15A",
           "#19d3f3",
           "#FF6692",
           "#B6E880",
           "#FF97FF",
           "#FECB52"
          ],
          "font": {
           "color": "#2a3f5f"
          },
          "geo": {
           "bgcolor": "white",
           "lakecolor": "white",
           "landcolor": "#E5ECF6",
           "showlakes": true,
           "showland": true,
           "subunitcolor": "white"
          },
          "hoverlabel": {
           "align": "left"
          },
          "hovermode": "closest",
          "mapbox": {
           "style": "light"
          },
          "paper_bgcolor": "white",
          "plot_bgcolor": "#E5ECF6",
          "polar": {
           "angularaxis": {
            "gridcolor": "white",
            "linecolor": "white",
            "ticks": ""
           },
           "bgcolor": "#E5ECF6",
           "radialaxis": {
            "gridcolor": "white",
            "linecolor": "white",
            "ticks": ""
           }
          },
          "scene": {
           "xaxis": {
            "backgroundcolor": "#E5ECF6",
            "gridcolor": "white",
            "gridwidth": 2,
            "linecolor": "white",
            "showbackground": true,
            "ticks": "",
            "zerolinecolor": "white"
           },
           "yaxis": {
            "backgroundcolor": "#E5ECF6",
            "gridcolor": "white",
            "gridwidth": 2,
            "linecolor": "white",
            "showbackground": true,
            "ticks": "",
            "zerolinecolor": "white"
           },
           "zaxis": {
            "backgroundcolor": "#E5ECF6",
            "gridcolor": "white",
            "gridwidth": 2,
            "linecolor": "white",
            "showbackground": true,
            "ticks": "",
            "zerolinecolor": "white"
           }
          },
          "shapedefaults": {
           "line": {
            "color": "#2a3f5f"
           }
          },
          "ternary": {
           "aaxis": {
            "gridcolor": "white",
            "linecolor": "white",
            "ticks": ""
           },
           "baxis": {
            "gridcolor": "white",
            "linecolor": "white",
            "ticks": ""
           },
           "bgcolor": "#E5ECF6",
           "caxis": {
            "gridcolor": "white",
            "linecolor": "white",
            "ticks": ""
           }
          },
          "title": {
           "x": 0.05
          },
          "xaxis": {
           "automargin": true,
           "gridcolor": "white",
           "linecolor": "white",
           "ticks": "",
           "title": {
            "standoff": 15
           },
           "zerolinecolor": "white",
           "zerolinewidth": 2
          },
          "yaxis": {
           "automargin": true,
           "gridcolor": "white",
           "linecolor": "white",
           "ticks": "",
           "title": {
            "standoff": 15
           },
           "zerolinecolor": "white",
           "zerolinewidth": 2
          }
         }
        },
        "xaxis": {
         "anchor": "y",
         "domain": [
          0,
          1
         ],
         "title": {
          "text": "Episode"
         }
        },
        "yaxis": {
         "anchor": "x",
         "domain": [
          0,
          1
         ],
         "range": [
          0,
          1
         ],
         "title": {
          "text": "Probability of Selecting High Reward Arm"
         }
        }
       }
      }
     },
     "metadata": {},
     "output_type": "display_data"
    }
   ],
   "source": [
    "import plotly.express as px\n",
    "\n",
    "# Selected highs for each trajectory\n",
    "selected_highs = [trajectory['selected_highs'] for trajectory in trajectories]\n",
    "# Stack the selected highs\n",
    "selected_highs = np.stack(selected_highs, axis=0)\n",
    "# Mean over each position\n",
    "selected_highs = np.mean(selected_highs, axis=0)\n",
    "# Plotly line plot\n",
    "fig = px.line(y=selected_highs, labels={'x': 'Episode', 'y': 'Probability of Selecting High Reward Arm'})\n",
    "# Set y-axis to be between 0 and 1\n",
    "fig.update_yaxes(range=[0, 1])\n",
    "fig.show()"
   ]
  },
  {
   "cell_type": "code",
   "execution_count": 9,
   "metadata": {},
   "outputs": [
    {
     "data": {
      "application/vnd.plotly.v1+json": {
       "config": {
        "plotlyServerURL": "https://plot.ly"
       },
       "data": [
        {
         "hovertemplate": "Episode=%{x}<br>Probability of Selecting Greedy Action=%{y}<extra></extra>",
         "legendgroup": "",
         "line": {
          "color": "#636efa",
          "dash": "solid"
         },
         "marker": {
          "symbol": "circle"
         },
         "mode": "lines",
         "name": "",
         "orientation": "v",
         "showlegend": false,
         "type": "scatter",
         "x": [
          0,
          1,
          2,
          3,
          4,
          5,
          6,
          7,
          8,
          9,
          10,
          11,
          12,
          13,
          14,
          15,
          16,
          17,
          18,
          19,
          20,
          21,
          22,
          23,
          24,
          25,
          26,
          27,
          28,
          29,
          30,
          31,
          32,
          33,
          34,
          35,
          36,
          37,
          38,
          39,
          40,
          41,
          42,
          43,
          44,
          45,
          46,
          47,
          48,
          49,
          50,
          51,
          52,
          53,
          54,
          55,
          56,
          57,
          58,
          59,
          60,
          61,
          62,
          63,
          64,
          65,
          66,
          67,
          68,
          69,
          70,
          71,
          72,
          73,
          74,
          75,
          76,
          77,
          78,
          79,
          80,
          81,
          82,
          83,
          84,
          85,
          86,
          87,
          88,
          89,
          90,
          91,
          92,
          93,
          94,
          95,
          96,
          97,
          98,
          99
         ],
         "xaxis": "x",
         "y": [
          0,
          0,
          0.102,
          0.264,
          0.367,
          0.422,
          0.477,
          0.503,
          0.54,
          0.554,
          0.58,
          0.59,
          0.613,
          0.641,
          0.635,
          0.662,
          0.649,
          0.638,
          0.656,
          0.685,
          0.661,
          0.665,
          0.671,
          0.688,
          0.699,
          0.699,
          0.692,
          0.685,
          0.709,
          0.688,
          0.681,
          0.705,
          0.714,
          0.727,
          0.718,
          0.725,
          0.72,
          0.746,
          0.708,
          0.746,
          0.713,
          0.729,
          0.749,
          0.748,
          0.726,
          0.743,
          0.75,
          0.744,
          0.725,
          0.755,
          0.757,
          0.75,
          0.736,
          0.717,
          0.747,
          0.759,
          0.78,
          0.774,
          0.74,
          0.777,
          0.759,
          0.759,
          0.759,
          0.785,
          0.753,
          0.753,
          0.766,
          0.746,
          0.765,
          0.791,
          0.75,
          0.774,
          0.765,
          0.772,
          0.785,
          0.778,
          0.754,
          0.781,
          0.792,
          0.759,
          0.76,
          0.792,
          0.789,
          0.766,
          0.777,
          0.778,
          0.793,
          0.776,
          0.788,
          0.779,
          0.759,
          0.789,
          0.758,
          0.782,
          0.781,
          0.776,
          0.767,
          0.778,
          0.766,
          0.802
         ],
         "yaxis": "y"
        }
       ],
       "layout": {
        "legend": {
         "tracegroupgap": 0
        },
        "margin": {
         "t": 60
        },
        "template": {
         "data": {
          "bar": [
           {
            "error_x": {
             "color": "#2a3f5f"
            },
            "error_y": {
             "color": "#2a3f5f"
            },
            "marker": {
             "line": {
              "color": "#E5ECF6",
              "width": 0.5
             },
             "pattern": {
              "fillmode": "overlay",
              "size": 10,
              "solidity": 0.2
             }
            },
            "type": "bar"
           }
          ],
          "barpolar": [
           {
            "marker": {
             "line": {
              "color": "#E5ECF6",
              "width": 0.5
             },
             "pattern": {
              "fillmode": "overlay",
              "size": 10,
              "solidity": 0.2
             }
            },
            "type": "barpolar"
           }
          ],
          "carpet": [
           {
            "aaxis": {
             "endlinecolor": "#2a3f5f",
             "gridcolor": "white",
             "linecolor": "white",
             "minorgridcolor": "white",
             "startlinecolor": "#2a3f5f"
            },
            "baxis": {
             "endlinecolor": "#2a3f5f",
             "gridcolor": "white",
             "linecolor": "white",
             "minorgridcolor": "white",
             "startlinecolor": "#2a3f5f"
            },
            "type": "carpet"
           }
          ],
          "choropleth": [
           {
            "colorbar": {
             "outlinewidth": 0,
             "ticks": ""
            },
            "type": "choropleth"
           }
          ],
          "contour": [
           {
            "colorbar": {
             "outlinewidth": 0,
             "ticks": ""
            },
            "colorscale": [
             [
              0,
              "#0d0887"
             ],
             [
              0.1111111111111111,
              "#46039f"
             ],
             [
              0.2222222222222222,
              "#7201a8"
             ],
             [
              0.3333333333333333,
              "#9c179e"
             ],
             [
              0.4444444444444444,
              "#bd3786"
             ],
             [
              0.5555555555555556,
              "#d8576b"
             ],
             [
              0.6666666666666666,
              "#ed7953"
             ],
             [
              0.7777777777777778,
              "#fb9f3a"
             ],
             [
              0.8888888888888888,
              "#fdca26"
             ],
             [
              1,
              "#f0f921"
             ]
            ],
            "type": "contour"
           }
          ],
          "contourcarpet": [
           {
            "colorbar": {
             "outlinewidth": 0,
             "ticks": ""
            },
            "type": "contourcarpet"
           }
          ],
          "heatmap": [
           {
            "colorbar": {
             "outlinewidth": 0,
             "ticks": ""
            },
            "colorscale": [
             [
              0,
              "#0d0887"
             ],
             [
              0.1111111111111111,
              "#46039f"
             ],
             [
              0.2222222222222222,
              "#7201a8"
             ],
             [
              0.3333333333333333,
              "#9c179e"
             ],
             [
              0.4444444444444444,
              "#bd3786"
             ],
             [
              0.5555555555555556,
              "#d8576b"
             ],
             [
              0.6666666666666666,
              "#ed7953"
             ],
             [
              0.7777777777777778,
              "#fb9f3a"
             ],
             [
              0.8888888888888888,
              "#fdca26"
             ],
             [
              1,
              "#f0f921"
             ]
            ],
            "type": "heatmap"
           }
          ],
          "heatmapgl": [
           {
            "colorbar": {
             "outlinewidth": 0,
             "ticks": ""
            },
            "colorscale": [
             [
              0,
              "#0d0887"
             ],
             [
              0.1111111111111111,
              "#46039f"
             ],
             [
              0.2222222222222222,
              "#7201a8"
             ],
             [
              0.3333333333333333,
              "#9c179e"
             ],
             [
              0.4444444444444444,
              "#bd3786"
             ],
             [
              0.5555555555555556,
              "#d8576b"
             ],
             [
              0.6666666666666666,
              "#ed7953"
             ],
             [
              0.7777777777777778,
              "#fb9f3a"
             ],
             [
              0.8888888888888888,
              "#fdca26"
             ],
             [
              1,
              "#f0f921"
             ]
            ],
            "type": "heatmapgl"
           }
          ],
          "histogram": [
           {
            "marker": {
             "pattern": {
              "fillmode": "overlay",
              "size": 10,
              "solidity": 0.2
             }
            },
            "type": "histogram"
           }
          ],
          "histogram2d": [
           {
            "colorbar": {
             "outlinewidth": 0,
             "ticks": ""
            },
            "colorscale": [
             [
              0,
              "#0d0887"
             ],
             [
              0.1111111111111111,
              "#46039f"
             ],
             [
              0.2222222222222222,
              "#7201a8"
             ],
             [
              0.3333333333333333,
              "#9c179e"
             ],
             [
              0.4444444444444444,
              "#bd3786"
             ],
             [
              0.5555555555555556,
              "#d8576b"
             ],
             [
              0.6666666666666666,
              "#ed7953"
             ],
             [
              0.7777777777777778,
              "#fb9f3a"
             ],
             [
              0.8888888888888888,
              "#fdca26"
             ],
             [
              1,
              "#f0f921"
             ]
            ],
            "type": "histogram2d"
           }
          ],
          "histogram2dcontour": [
           {
            "colorbar": {
             "outlinewidth": 0,
             "ticks": ""
            },
            "colorscale": [
             [
              0,
              "#0d0887"
             ],
             [
              0.1111111111111111,
              "#46039f"
             ],
             [
              0.2222222222222222,
              "#7201a8"
             ],
             [
              0.3333333333333333,
              "#9c179e"
             ],
             [
              0.4444444444444444,
              "#bd3786"
             ],
             [
              0.5555555555555556,
              "#d8576b"
             ],
             [
              0.6666666666666666,
              "#ed7953"
             ],
             [
              0.7777777777777778,
              "#fb9f3a"
             ],
             [
              0.8888888888888888,
              "#fdca26"
             ],
             [
              1,
              "#f0f921"
             ]
            ],
            "type": "histogram2dcontour"
           }
          ],
          "mesh3d": [
           {
            "colorbar": {
             "outlinewidth": 0,
             "ticks": ""
            },
            "type": "mesh3d"
           }
          ],
          "parcoords": [
           {
            "line": {
             "colorbar": {
              "outlinewidth": 0,
              "ticks": ""
             }
            },
            "type": "parcoords"
           }
          ],
          "pie": [
           {
            "automargin": true,
            "type": "pie"
           }
          ],
          "scatter": [
           {
            "fillpattern": {
             "fillmode": "overlay",
             "size": 10,
             "solidity": 0.2
            },
            "type": "scatter"
           }
          ],
          "scatter3d": [
           {
            "line": {
             "colorbar": {
              "outlinewidth": 0,
              "ticks": ""
             }
            },
            "marker": {
             "colorbar": {
              "outlinewidth": 0,
              "ticks": ""
             }
            },
            "type": "scatter3d"
           }
          ],
          "scattercarpet": [
           {
            "marker": {
             "colorbar": {
              "outlinewidth": 0,
              "ticks": ""
             }
            },
            "type": "scattercarpet"
           }
          ],
          "scattergeo": [
           {
            "marker": {
             "colorbar": {
              "outlinewidth": 0,
              "ticks": ""
             }
            },
            "type": "scattergeo"
           }
          ],
          "scattergl": [
           {
            "marker": {
             "colorbar": {
              "outlinewidth": 0,
              "ticks": ""
             }
            },
            "type": "scattergl"
           }
          ],
          "scattermapbox": [
           {
            "marker": {
             "colorbar": {
              "outlinewidth": 0,
              "ticks": ""
             }
            },
            "type": "scattermapbox"
           }
          ],
          "scatterpolar": [
           {
            "marker": {
             "colorbar": {
              "outlinewidth": 0,
              "ticks": ""
             }
            },
            "type": "scatterpolar"
           }
          ],
          "scatterpolargl": [
           {
            "marker": {
             "colorbar": {
              "outlinewidth": 0,
              "ticks": ""
             }
            },
            "type": "scatterpolargl"
           }
          ],
          "scatterternary": [
           {
            "marker": {
             "colorbar": {
              "outlinewidth": 0,
              "ticks": ""
             }
            },
            "type": "scatterternary"
           }
          ],
          "surface": [
           {
            "colorbar": {
             "outlinewidth": 0,
             "ticks": ""
            },
            "colorscale": [
             [
              0,
              "#0d0887"
             ],
             [
              0.1111111111111111,
              "#46039f"
             ],
             [
              0.2222222222222222,
              "#7201a8"
             ],
             [
              0.3333333333333333,
              "#9c179e"
             ],
             [
              0.4444444444444444,
              "#bd3786"
             ],
             [
              0.5555555555555556,
              "#d8576b"
             ],
             [
              0.6666666666666666,
              "#ed7953"
             ],
             [
              0.7777777777777778,
              "#fb9f3a"
             ],
             [
              0.8888888888888888,
              "#fdca26"
             ],
             [
              1,
              "#f0f921"
             ]
            ],
            "type": "surface"
           }
          ],
          "table": [
           {
            "cells": {
             "fill": {
              "color": "#EBF0F8"
             },
             "line": {
              "color": "white"
             }
            },
            "header": {
             "fill": {
              "color": "#C8D4E3"
             },
             "line": {
              "color": "white"
             }
            },
            "type": "table"
           }
          ]
         },
         "layout": {
          "annotationdefaults": {
           "arrowcolor": "#2a3f5f",
           "arrowhead": 0,
           "arrowwidth": 1
          },
          "autotypenumbers": "strict",
          "coloraxis": {
           "colorbar": {
            "outlinewidth": 0,
            "ticks": ""
           }
          },
          "colorscale": {
           "diverging": [
            [
             0,
             "#8e0152"
            ],
            [
             0.1,
             "#c51b7d"
            ],
            [
             0.2,
             "#de77ae"
            ],
            [
             0.3,
             "#f1b6da"
            ],
            [
             0.4,
             "#fde0ef"
            ],
            [
             0.5,
             "#f7f7f7"
            ],
            [
             0.6,
             "#e6f5d0"
            ],
            [
             0.7,
             "#b8e186"
            ],
            [
             0.8,
             "#7fbc41"
            ],
            [
             0.9,
             "#4d9221"
            ],
            [
             1,
             "#276419"
            ]
           ],
           "sequential": [
            [
             0,
             "#0d0887"
            ],
            [
             0.1111111111111111,
             "#46039f"
            ],
            [
             0.2222222222222222,
             "#7201a8"
            ],
            [
             0.3333333333333333,
             "#9c179e"
            ],
            [
             0.4444444444444444,
             "#bd3786"
            ],
            [
             0.5555555555555556,
             "#d8576b"
            ],
            [
             0.6666666666666666,
             "#ed7953"
            ],
            [
             0.7777777777777778,
             "#fb9f3a"
            ],
            [
             0.8888888888888888,
             "#fdca26"
            ],
            [
             1,
             "#f0f921"
            ]
           ],
           "sequentialminus": [
            [
             0,
             "#0d0887"
            ],
            [
             0.1111111111111111,
             "#46039f"
            ],
            [
             0.2222222222222222,
             "#7201a8"
            ],
            [
             0.3333333333333333,
             "#9c179e"
            ],
            [
             0.4444444444444444,
             "#bd3786"
            ],
            [
             0.5555555555555556,
             "#d8576b"
            ],
            [
             0.6666666666666666,
             "#ed7953"
            ],
            [
             0.7777777777777778,
             "#fb9f3a"
            ],
            [
             0.8888888888888888,
             "#fdca26"
            ],
            [
             1,
             "#f0f921"
            ]
           ]
          },
          "colorway": [
           "#636efa",
           "#EF553B",
           "#00cc96",
           "#ab63fa",
           "#FFA15A",
           "#19d3f3",
           "#FF6692",
           "#B6E880",
           "#FF97FF",
           "#FECB52"
          ],
          "font": {
           "color": "#2a3f5f"
          },
          "geo": {
           "bgcolor": "white",
           "lakecolor": "white",
           "landcolor": "#E5ECF6",
           "showlakes": true,
           "showland": true,
           "subunitcolor": "white"
          },
          "hoverlabel": {
           "align": "left"
          },
          "hovermode": "closest",
          "mapbox": {
           "style": "light"
          },
          "paper_bgcolor": "white",
          "plot_bgcolor": "#E5ECF6",
          "polar": {
           "angularaxis": {
            "gridcolor": "white",
            "linecolor": "white",
            "ticks": ""
           },
           "bgcolor": "#E5ECF6",
           "radialaxis": {
            "gridcolor": "white",
            "linecolor": "white",
            "ticks": ""
           }
          },
          "scene": {
           "xaxis": {
            "backgroundcolor": "#E5ECF6",
            "gridcolor": "white",
            "gridwidth": 2,
            "linecolor": "white",
            "showbackground": true,
            "ticks": "",
            "zerolinecolor": "white"
           },
           "yaxis": {
            "backgroundcolor": "#E5ECF6",
            "gridcolor": "white",
            "gridwidth": 2,
            "linecolor": "white",
            "showbackground": true,
            "ticks": "",
            "zerolinecolor": "white"
           },
           "zaxis": {
            "backgroundcolor": "#E5ECF6",
            "gridcolor": "white",
            "gridwidth": 2,
            "linecolor": "white",
            "showbackground": true,
            "ticks": "",
            "zerolinecolor": "white"
           }
          },
          "shapedefaults": {
           "line": {
            "color": "#2a3f5f"
           }
          },
          "ternary": {
           "aaxis": {
            "gridcolor": "white",
            "linecolor": "white",
            "ticks": ""
           },
           "baxis": {
            "gridcolor": "white",
            "linecolor": "white",
            "ticks": ""
           },
           "bgcolor": "#E5ECF6",
           "caxis": {
            "gridcolor": "white",
            "linecolor": "white",
            "ticks": ""
           }
          },
          "title": {
           "x": 0.05
          },
          "xaxis": {
           "automargin": true,
           "gridcolor": "white",
           "linecolor": "white",
           "ticks": "",
           "title": {
            "standoff": 15
           },
           "zerolinecolor": "white",
           "zerolinewidth": 2
          },
          "yaxis": {
           "automargin": true,
           "gridcolor": "white",
           "linecolor": "white",
           "ticks": "",
           "title": {
            "standoff": 15
           },
           "zerolinecolor": "white",
           "zerolinewidth": 2
          }
         }
        },
        "xaxis": {
         "anchor": "y",
         "domain": [
          0,
          1
         ],
         "title": {
          "text": "Episode"
         }
        },
        "yaxis": {
         "anchor": "x",
         "domain": [
          0,
          1
         ],
         "title": {
          "text": "Probability of Selecting Greedy Action"
         }
        }
       }
      }
     },
     "metadata": {},
     "output_type": "display_data"
    }
   ],
   "source": [
    "# Arm types\n",
    "arm_types = [trajectory['arm_types'] for trajectory in trajectories]\n",
    "# Convert 'random' to 0 and 'greedy' to 1\n",
    "arm_types = [[0 if arm_type == 'random' else 1 for arm_type in trajectory] for trajectory in arm_types]\n",
    "# Stack the arm types\n",
    "arm_types = np.stack(arm_types, axis=0)\n",
    "# Mean over each position\n",
    "arm_types = np.mean(arm_types, axis=0)\n",
    "# Plotly line plot\n",
    "fig = px.line(y=arm_types, labels={'x': 'Episode', 'y': 'Probability of Selecting Greedy Action'})\n",
    "fig.show()"
   ]
  },
  {
   "cell_type": "code",
   "execution_count": 10,
   "metadata": {},
   "outputs": [
    {
     "name": "stdout",
     "output_type": "stream",
     "text": [
      "Mean Cumulative Reward: 66.20 ± 9.11\n"
     ]
    }
   ],
   "source": [
    "# Mean of cumulative reward in trajectories\n",
    "mean_cumulative_reward = np.mean([t['cumulative_reward'] for t in trajectories])\n",
    "std_cumulative_reward = np.std([t['cumulative_reward'] for t in trajectories])\n",
    "print(f\"Mean Cumulative Reward: {mean_cumulative_reward:.2f} ± {std_cumulative_reward:.2f}\")"
   ]
  },
  {
   "cell_type": "code",
   "execution_count": 11,
   "metadata": {},
   "outputs": [
    {
     "name": "stdout",
     "output_type": "stream",
     "text": [
      "torch.Size([1000, 10])\n"
     ]
    },
    {
     "data": {
      "text/plain": [
       "torch.Size([1000, 200])"
      ]
     },
     "execution_count": 11,
     "metadata": {},
     "output_type": "execute_result"
    }
   ],
   "source": [
    "probabilities = torch.stack([torch.tensor(t['probabilities']) for t in trajectories], dim=0)\n",
    "print(probabilities.shape)\n",
    "\n",
    "# Create stacked tensor of trajectories\n",
    "trajectories_tensor = torch.stack([torch.tensor(t['trajectory']) for t in trajectories], dim=0)\n",
    "trajectories_tensor.shape"
   ]
  },
  {
   "cell_type": "code",
   "execution_count": 12,
   "metadata": {},
   "outputs": [
    {
     "data": {
      "application/vnd.plotly.v1+json": {
       "config": {
        "plotlyServerURL": "https://plot.ly"
       },
       "data": [
        {
         "hovertemplate": "variable=0<br>index=%{x}<br>value=%{y}<extra></extra>",
         "legendgroup": "0",
         "line": {
          "color": "#636efa",
          "dash": "solid"
         },
         "marker": {
          "symbol": "circle"
         },
         "mode": "lines",
         "name": "0",
         "orientation": "v",
         "showlegend": true,
         "type": "scatter",
         "x": [
          0,
          1,
          2,
          3,
          4,
          5,
          6,
          7,
          8,
          9,
          10,
          11,
          12,
          13,
          14,
          15,
          16,
          17,
          18,
          19,
          20,
          21,
          22,
          23,
          24,
          25,
          26,
          27,
          28,
          29,
          30,
          31,
          32,
          33,
          34,
          35,
          36,
          37,
          38,
          39,
          40,
          41,
          42,
          43,
          44,
          45,
          46,
          47,
          48,
          49,
          50,
          51,
          52,
          53,
          54,
          55,
          56,
          57,
          58,
          59,
          60,
          61,
          62,
          63,
          64,
          65,
          66,
          67,
          68,
          69,
          70,
          71,
          72,
          73,
          74,
          75,
          76,
          77,
          78,
          79,
          80,
          81,
          82,
          83,
          84,
          85,
          86,
          87,
          88,
          89,
          90,
          91,
          92,
          93,
          94,
          95,
          96,
          97,
          98,
          99
         ],
         "xaxis": "x",
         "y": [
          0.256,
          0.265,
          0.264,
          0.3,
          0.326,
          0.375,
          0.407,
          0.417,
          0.443,
          0.452,
          0.496,
          0.498,
          0.526,
          0.542,
          0.54,
          0.534,
          0.567,
          0.574,
          0.578,
          0.6,
          0.606,
          0.614,
          0.627,
          0.617,
          0.612,
          0.654,
          0.643,
          0.64,
          0.653,
          0.629,
          0.653,
          0.67,
          0.67,
          0.69,
          0.677,
          0.673,
          0.704,
          0.719,
          0.687,
          0.704,
          0.657,
          0.698,
          0.704,
          0.717,
          0.694,
          0.691,
          0.706,
          0.698,
          0.68,
          0.73,
          0.726,
          0.721,
          0.707,
          0.705,
          0.726,
          0.745,
          0.74,
          0.741,
          0.719,
          0.761,
          0.736,
          0.747,
          0.737,
          0.74,
          0.727,
          0.748,
          0.745,
          0.733,
          0.756,
          0.756,
          0.734,
          0.733,
          0.739,
          0.744,
          0.763,
          0.75,
          0.737,
          0.753,
          0.758,
          0.73,
          0.746,
          0.771,
          0.768,
          0.737,
          0.758,
          0.754,
          0.774,
          0.751,
          0.755,
          0.734,
          0.729,
          0.754,
          0.708,
          0.744,
          0.736,
          0.747,
          0.751,
          0.745,
          0.737,
          0.771
         ],
         "yaxis": "y"
        },
        {
         "mode": "lines",
         "name": "Smoothed Mean Reward",
         "type": "scatter",
         "y": [
          0.256,
          0.256,
          0.256,
          0.256,
          0.256,
          0.256,
          0.256,
          0.256,
          0.256,
          0.35050002,
          0.3745,
          0.3978,
          0.42400002,
          0.44820005,
          0.46960002,
          0.48549995,
          0.5015,
          0.5172,
          0.53069997,
          0.5455,
          0.5565,
          0.5681,
          0.5782,
          0.5856999,
          0.5928999,
          0.6049,
          0.61249995,
          0.6191,
          0.6266,
          0.62950003,
          0.6342,
          0.63979995,
          0.6441,
          0.65139997,
          0.6579,
          0.6598,
          0.66590005,
          0.6738,
          0.67719996,
          0.6847,
          0.68509996,
          0.68789995,
          0.6913,
          0.69399995,
          0.6957,
          0.69750005,
          0.6977,
          0.69560003,
          0.6949,
          0.6975,
          0.70439994,
          0.70669997,
          0.70699996,
          0.70579994,
          0.709,
          0.7144,
          0.7178,
          0.72209996,
          0.72599995,
          0.72910005,
          0.7301,
          0.7327,
          0.7357,
          0.7392,
          0.7393,
          0.73960006,
          0.7401,
          0.7393001,
          0.74300003,
          0.7425,
          0.7423,
          0.7409,
          0.74109995,
          0.7415,
          0.74509996,
          0.74529994,
          0.7445,
          0.74649996,
          0.7467,
          0.7441,
          0.74529994,
          0.7491,
          0.752,
          0.7513,
          0.7508,
          0.7512,
          0.7549,
          0.75470006,
          0.7544001,
          0.7548,
          0.75310004,
          0.75140005,
          0.7454,
          0.74610007,
          0.74390006,
          0.74320006,
          0.7409,
          0.7403,
          0.7385,
          0.74219996
         ]
        }
       ],
       "layout": {
        "legend": {
         "title": {
          "text": "variable"
         },
         "tracegroupgap": 0
        },
        "template": {
         "data": {
          "bar": [
           {
            "error_x": {
             "color": "#2a3f5f"
            },
            "error_y": {
             "color": "#2a3f5f"
            },
            "marker": {
             "line": {
              "color": "#E5ECF6",
              "width": 0.5
             },
             "pattern": {
              "fillmode": "overlay",
              "size": 10,
              "solidity": 0.2
             }
            },
            "type": "bar"
           }
          ],
          "barpolar": [
           {
            "marker": {
             "line": {
              "color": "#E5ECF6",
              "width": 0.5
             },
             "pattern": {
              "fillmode": "overlay",
              "size": 10,
              "solidity": 0.2
             }
            },
            "type": "barpolar"
           }
          ],
          "carpet": [
           {
            "aaxis": {
             "endlinecolor": "#2a3f5f",
             "gridcolor": "white",
             "linecolor": "white",
             "minorgridcolor": "white",
             "startlinecolor": "#2a3f5f"
            },
            "baxis": {
             "endlinecolor": "#2a3f5f",
             "gridcolor": "white",
             "linecolor": "white",
             "minorgridcolor": "white",
             "startlinecolor": "#2a3f5f"
            },
            "type": "carpet"
           }
          ],
          "choropleth": [
           {
            "colorbar": {
             "outlinewidth": 0,
             "ticks": ""
            },
            "type": "choropleth"
           }
          ],
          "contour": [
           {
            "colorbar": {
             "outlinewidth": 0,
             "ticks": ""
            },
            "colorscale": [
             [
              0,
              "#0d0887"
             ],
             [
              0.1111111111111111,
              "#46039f"
             ],
             [
              0.2222222222222222,
              "#7201a8"
             ],
             [
              0.3333333333333333,
              "#9c179e"
             ],
             [
              0.4444444444444444,
              "#bd3786"
             ],
             [
              0.5555555555555556,
              "#d8576b"
             ],
             [
              0.6666666666666666,
              "#ed7953"
             ],
             [
              0.7777777777777778,
              "#fb9f3a"
             ],
             [
              0.8888888888888888,
              "#fdca26"
             ],
             [
              1,
              "#f0f921"
             ]
            ],
            "type": "contour"
           }
          ],
          "contourcarpet": [
           {
            "colorbar": {
             "outlinewidth": 0,
             "ticks": ""
            },
            "type": "contourcarpet"
           }
          ],
          "heatmap": [
           {
            "colorbar": {
             "outlinewidth": 0,
             "ticks": ""
            },
            "colorscale": [
             [
              0,
              "#0d0887"
             ],
             [
              0.1111111111111111,
              "#46039f"
             ],
             [
              0.2222222222222222,
              "#7201a8"
             ],
             [
              0.3333333333333333,
              "#9c179e"
             ],
             [
              0.4444444444444444,
              "#bd3786"
             ],
             [
              0.5555555555555556,
              "#d8576b"
             ],
             [
              0.6666666666666666,
              "#ed7953"
             ],
             [
              0.7777777777777778,
              "#fb9f3a"
             ],
             [
              0.8888888888888888,
              "#fdca26"
             ],
             [
              1,
              "#f0f921"
             ]
            ],
            "type": "heatmap"
           }
          ],
          "heatmapgl": [
           {
            "colorbar": {
             "outlinewidth": 0,
             "ticks": ""
            },
            "colorscale": [
             [
              0,
              "#0d0887"
             ],
             [
              0.1111111111111111,
              "#46039f"
             ],
             [
              0.2222222222222222,
              "#7201a8"
             ],
             [
              0.3333333333333333,
              "#9c179e"
             ],
             [
              0.4444444444444444,
              "#bd3786"
             ],
             [
              0.5555555555555556,
              "#d8576b"
             ],
             [
              0.6666666666666666,
              "#ed7953"
             ],
             [
              0.7777777777777778,
              "#fb9f3a"
             ],
             [
              0.8888888888888888,
              "#fdca26"
             ],
             [
              1,
              "#f0f921"
             ]
            ],
            "type": "heatmapgl"
           }
          ],
          "histogram": [
           {
            "marker": {
             "pattern": {
              "fillmode": "overlay",
              "size": 10,
              "solidity": 0.2
             }
            },
            "type": "histogram"
           }
          ],
          "histogram2d": [
           {
            "colorbar": {
             "outlinewidth": 0,
             "ticks": ""
            },
            "colorscale": [
             [
              0,
              "#0d0887"
             ],
             [
              0.1111111111111111,
              "#46039f"
             ],
             [
              0.2222222222222222,
              "#7201a8"
             ],
             [
              0.3333333333333333,
              "#9c179e"
             ],
             [
              0.4444444444444444,
              "#bd3786"
             ],
             [
              0.5555555555555556,
              "#d8576b"
             ],
             [
              0.6666666666666666,
              "#ed7953"
             ],
             [
              0.7777777777777778,
              "#fb9f3a"
             ],
             [
              0.8888888888888888,
              "#fdca26"
             ],
             [
              1,
              "#f0f921"
             ]
            ],
            "type": "histogram2d"
           }
          ],
          "histogram2dcontour": [
           {
            "colorbar": {
             "outlinewidth": 0,
             "ticks": ""
            },
            "colorscale": [
             [
              0,
              "#0d0887"
             ],
             [
              0.1111111111111111,
              "#46039f"
             ],
             [
              0.2222222222222222,
              "#7201a8"
             ],
             [
              0.3333333333333333,
              "#9c179e"
             ],
             [
              0.4444444444444444,
              "#bd3786"
             ],
             [
              0.5555555555555556,
              "#d8576b"
             ],
             [
              0.6666666666666666,
              "#ed7953"
             ],
             [
              0.7777777777777778,
              "#fb9f3a"
             ],
             [
              0.8888888888888888,
              "#fdca26"
             ],
             [
              1,
              "#f0f921"
             ]
            ],
            "type": "histogram2dcontour"
           }
          ],
          "mesh3d": [
           {
            "colorbar": {
             "outlinewidth": 0,
             "ticks": ""
            },
            "type": "mesh3d"
           }
          ],
          "parcoords": [
           {
            "line": {
             "colorbar": {
              "outlinewidth": 0,
              "ticks": ""
             }
            },
            "type": "parcoords"
           }
          ],
          "pie": [
           {
            "automargin": true,
            "type": "pie"
           }
          ],
          "scatter": [
           {
            "fillpattern": {
             "fillmode": "overlay",
             "size": 10,
             "solidity": 0.2
            },
            "type": "scatter"
           }
          ],
          "scatter3d": [
           {
            "line": {
             "colorbar": {
              "outlinewidth": 0,
              "ticks": ""
             }
            },
            "marker": {
             "colorbar": {
              "outlinewidth": 0,
              "ticks": ""
             }
            },
            "type": "scatter3d"
           }
          ],
          "scattercarpet": [
           {
            "marker": {
             "colorbar": {
              "outlinewidth": 0,
              "ticks": ""
             }
            },
            "type": "scattercarpet"
           }
          ],
          "scattergeo": [
           {
            "marker": {
             "colorbar": {
              "outlinewidth": 0,
              "ticks": ""
             }
            },
            "type": "scattergeo"
           }
          ],
          "scattergl": [
           {
            "marker": {
             "colorbar": {
              "outlinewidth": 0,
              "ticks": ""
             }
            },
            "type": "scattergl"
           }
          ],
          "scattermapbox": [
           {
            "marker": {
             "colorbar": {
              "outlinewidth": 0,
              "ticks": ""
             }
            },
            "type": "scattermapbox"
           }
          ],
          "scatterpolar": [
           {
            "marker": {
             "colorbar": {
              "outlinewidth": 0,
              "ticks": ""
             }
            },
            "type": "scatterpolar"
           }
          ],
          "scatterpolargl": [
           {
            "marker": {
             "colorbar": {
              "outlinewidth": 0,
              "ticks": ""
             }
            },
            "type": "scatterpolargl"
           }
          ],
          "scatterternary": [
           {
            "marker": {
             "colorbar": {
              "outlinewidth": 0,
              "ticks": ""
             }
            },
            "type": "scatterternary"
           }
          ],
          "surface": [
           {
            "colorbar": {
             "outlinewidth": 0,
             "ticks": ""
            },
            "colorscale": [
             [
              0,
              "#0d0887"
             ],
             [
              0.1111111111111111,
              "#46039f"
             ],
             [
              0.2222222222222222,
              "#7201a8"
             ],
             [
              0.3333333333333333,
              "#9c179e"
             ],
             [
              0.4444444444444444,
              "#bd3786"
             ],
             [
              0.5555555555555556,
              "#d8576b"
             ],
             [
              0.6666666666666666,
              "#ed7953"
             ],
             [
              0.7777777777777778,
              "#fb9f3a"
             ],
             [
              0.8888888888888888,
              "#fdca26"
             ],
             [
              1,
              "#f0f921"
             ]
            ],
            "type": "surface"
           }
          ],
          "table": [
           {
            "cells": {
             "fill": {
              "color": "#EBF0F8"
             },
             "line": {
              "color": "white"
             }
            },
            "header": {
             "fill": {
              "color": "#C8D4E3"
             },
             "line": {
              "color": "white"
             }
            },
            "type": "table"
           }
          ]
         },
         "layout": {
          "annotationdefaults": {
           "arrowcolor": "#2a3f5f",
           "arrowhead": 0,
           "arrowwidth": 1
          },
          "autotypenumbers": "strict",
          "coloraxis": {
           "colorbar": {
            "outlinewidth": 0,
            "ticks": ""
           }
          },
          "colorscale": {
           "diverging": [
            [
             0,
             "#8e0152"
            ],
            [
             0.1,
             "#c51b7d"
            ],
            [
             0.2,
             "#de77ae"
            ],
            [
             0.3,
             "#f1b6da"
            ],
            [
             0.4,
             "#fde0ef"
            ],
            [
             0.5,
             "#f7f7f7"
            ],
            [
             0.6,
             "#e6f5d0"
            ],
            [
             0.7,
             "#b8e186"
            ],
            [
             0.8,
             "#7fbc41"
            ],
            [
             0.9,
             "#4d9221"
            ],
            [
             1,
             "#276419"
            ]
           ],
           "sequential": [
            [
             0,
             "#0d0887"
            ],
            [
             0.1111111111111111,
             "#46039f"
            ],
            [
             0.2222222222222222,
             "#7201a8"
            ],
            [
             0.3333333333333333,
             "#9c179e"
            ],
            [
             0.4444444444444444,
             "#bd3786"
            ],
            [
             0.5555555555555556,
             "#d8576b"
            ],
            [
             0.6666666666666666,
             "#ed7953"
            ],
            [
             0.7777777777777778,
             "#fb9f3a"
            ],
            [
             0.8888888888888888,
             "#fdca26"
            ],
            [
             1,
             "#f0f921"
            ]
           ],
           "sequentialminus": [
            [
             0,
             "#0d0887"
            ],
            [
             0.1111111111111111,
             "#46039f"
            ],
            [
             0.2222222222222222,
             "#7201a8"
            ],
            [
             0.3333333333333333,
             "#9c179e"
            ],
            [
             0.4444444444444444,
             "#bd3786"
            ],
            [
             0.5555555555555556,
             "#d8576b"
            ],
            [
             0.6666666666666666,
             "#ed7953"
            ],
            [
             0.7777777777777778,
             "#fb9f3a"
            ],
            [
             0.8888888888888888,
             "#fdca26"
            ],
            [
             1,
             "#f0f921"
            ]
           ]
          },
          "colorway": [
           "#636efa",
           "#EF553B",
           "#00cc96",
           "#ab63fa",
           "#FFA15A",
           "#19d3f3",
           "#FF6692",
           "#B6E880",
           "#FF97FF",
           "#FECB52"
          ],
          "font": {
           "color": "#2a3f5f"
          },
          "geo": {
           "bgcolor": "white",
           "lakecolor": "white",
           "landcolor": "#E5ECF6",
           "showlakes": true,
           "showland": true,
           "subunitcolor": "white"
          },
          "hoverlabel": {
           "align": "left"
          },
          "hovermode": "closest",
          "mapbox": {
           "style": "light"
          },
          "paper_bgcolor": "white",
          "plot_bgcolor": "#E5ECF6",
          "polar": {
           "angularaxis": {
            "gridcolor": "white",
            "linecolor": "white",
            "ticks": ""
           },
           "bgcolor": "#E5ECF6",
           "radialaxis": {
            "gridcolor": "white",
            "linecolor": "white",
            "ticks": ""
           }
          },
          "scene": {
           "xaxis": {
            "backgroundcolor": "#E5ECF6",
            "gridcolor": "white",
            "gridwidth": 2,
            "linecolor": "white",
            "showbackground": true,
            "ticks": "",
            "zerolinecolor": "white"
           },
           "yaxis": {
            "backgroundcolor": "#E5ECF6",
            "gridcolor": "white",
            "gridwidth": 2,
            "linecolor": "white",
            "showbackground": true,
            "ticks": "",
            "zerolinecolor": "white"
           },
           "zaxis": {
            "backgroundcolor": "#E5ECF6",
            "gridcolor": "white",
            "gridwidth": 2,
            "linecolor": "white",
            "showbackground": true,
            "ticks": "",
            "zerolinecolor": "white"
           }
          },
          "shapedefaults": {
           "line": {
            "color": "#2a3f5f"
           }
          },
          "ternary": {
           "aaxis": {
            "gridcolor": "white",
            "linecolor": "white",
            "ticks": ""
           },
           "baxis": {
            "gridcolor": "white",
            "linecolor": "white",
            "ticks": ""
           },
           "bgcolor": "#E5ECF6",
           "caxis": {
            "gridcolor": "white",
            "linecolor": "white",
            "ticks": ""
           }
          },
          "title": {
           "x": 0.05
          },
          "xaxis": {
           "automargin": true,
           "gridcolor": "white",
           "linecolor": "white",
           "ticks": "",
           "title": {
            "standoff": 15
           },
           "zerolinecolor": "white",
           "zerolinewidth": 2
          },
          "yaxis": {
           "automargin": true,
           "gridcolor": "white",
           "linecolor": "white",
           "ticks": "",
           "title": {
            "standoff": 15
           },
           "zerolinecolor": "white",
           "zerolinewidth": 2
          }
         }
        },
        "title": {
         "text": "Mean Reward at Each Position"
        },
        "xaxis": {
         "anchor": "y",
         "domain": [
          0,
          1
         ],
         "title": {
          "text": "index"
         }
        },
        "yaxis": {
         "anchor": "x",
         "domain": [
          0,
          1
         ],
         "title": {
          "text": "value"
         }
        }
       }
      }
     },
     "metadata": {},
     "output_type": "display_data"
    }
   ],
   "source": [
    "# Get the reward tensor from the trajectories tensor\n",
    "rewards_tensor = trajectories_tensor[:, 1::2].float()\n",
    "\n",
    "# Get the mean reward at each position\n",
    "mean_rewards = rewards_tensor.mean(0)\n",
    "\n",
    "# Smooth the mean rewards \n",
    "smoothed_mean_rewards = mean_rewards.unfold(0, 10, 1).mean(1).view(-1)\n",
    "# Add zeros to the start of the smoothed mean rewards\n",
    "smoothed_mean_rewards = torch.cat((torch.ones(9)*mean_rewards[0], smoothed_mean_rewards))\n",
    "\n",
    "fig = px.line(mean_rewards, labels={'x': 'Position', 'y': 'Mean Reward'}, title='Mean Reward at Each Position')\n",
    "# Add smoothed mean rewards\n",
    "fig.add_scatter(y=smoothed_mean_rewards, mode='lines', name='Smoothed Mean Reward')\n",
    "fig.show()"
   ]
  },
  {
   "cell_type": "code",
   "execution_count": 13,
   "metadata": {},
   "outputs": [],
   "source": [
    "import tqdm\n",
    "import torch\n",
    "from torch.utils.data import Dataset, DataLoader, random_split\n",
    "\n",
    "class BanditDataset(Dataset):\n",
    "    def __init__(self, games_tensor, probabilities_tensor):\n",
    "        self.games_tensor = games_tensor\n",
    "        self.probabilities_tensor = probabilities_tensor\n",
    "\n",
    "    def __len__(self):\n",
    "        return self.games_tensor.size(0)\n",
    "\n",
    "    def __getitem__(self, idx):\n",
    "        return self.games_tensor[idx], self.probabilities_tensor[idx]\n",
    "\n",
    "# Assuming `all_games_tensor` is defined elsewhere\n",
    "games_dataset = BanditDataset(trajectories_tensor, probabilities)\n",
    "\n",
    "# Split the dataset into training and test sets (10% for testing)\n",
    "test_size = int(0.1 * len(games_dataset))\n",
    "train_size = len(games_dataset) - test_size\n",
    "train_dataset, test_dataset = random_split(games_dataset, [train_size, test_size])\n",
    "\n",
    "# Create DataLoaders for both training and testing\n",
    "train_loader = DataLoader(train_dataset, batch_size=32, shuffle=True)\n",
    "test_loader = DataLoader(test_dataset, batch_size=32, shuffle=False)"
   ]
  },
  {
   "cell_type": "code",
   "execution_count": 78,
   "metadata": {},
   "outputs": [],
   "source": [
    "from transformer_lens import HookedTransformer, HookedTransformerConfig\n",
    "\n",
    "batch_size = 32\n",
    "num_epochs = 50\n",
    "lr = 1e-4\n",
    "betas = (0.9, 0.95)\n",
    "max_grad_norm = 1.0\n",
    "wd = 0.01\n",
    "\n",
    "cfg = HookedTransformerConfig(\n",
    "    n_layers=4,\n",
    "    d_model=64,\n",
    "    d_head=64,\n",
    "    n_heads=4,\n",
    "    d_mlp=256,\n",
    "    d_vocab=12,\n",
    "    n_ctx=200,\n",
    "    act_fn=\"relu\",\n",
    "    normalization_type=\"LN\",\n",
    "    device='cpu'\n",
    ")\n",
    "model = HookedTransformer(cfg)\n",
    "\n",
    "\n",
    "optimizer = torch.optim.Adam(model.parameters(), lr=lr, betas=betas, weight_decay=wd)\n",
    "scheduler = torch.optim.lr_scheduler.LambdaLR(optimizer, lambda i: min(i / 100, 1.0))\n",
    "\n",
    "def loss_fn(logits, tokens, per_token=False):\n",
    "    # logit shape: [batch, pos, vocab]\n",
    "    # token shape: [batch, pos]\n",
    "\n",
    "\n",
    "    # logits = logits[:, 1:]\n",
    "    # tokens = tokens[:, :-1].long()\n",
    "    logits = logits[:, :-1, :]\n",
    "    tokens = tokens[:, 1:].long()\n",
    "    log_probs = logits.log_softmax(-1)\n",
    "    correct_log_probs = log_probs.gather(-1, tokens[..., None])[..., 0]\n",
    "    if per_token:\n",
    "        return -correct_log_probs\n",
    "    else:\n",
    "        return -correct_log_probs.mean()"
   ]
  },
  {
   "cell_type": "code",
   "execution_count": 79,
   "metadata": {},
   "outputs": [
    {
     "name": "stderr",
     "output_type": "stream",
     "text": [
      "  2%|▏         | 1/50 [00:07<05:56,  7.27s/it]"
     ]
    },
    {
     "name": "stdout",
     "output_type": "stream",
     "text": [
      "Epoch 0: Train loss: 2.5082 Test Loss: 2.2936\n"
     ]
    },
    {
     "name": "stderr",
     "output_type": "stream",
     "text": [
      "  4%|▍         | 2/50 [00:14<05:45,  7.19s/it]"
     ]
    },
    {
     "name": "stdout",
     "output_type": "stream",
     "text": [
      "Epoch 1: Train loss: 2.2105 Test Loss: 2.0768\n"
     ]
    },
    {
     "name": "stderr",
     "output_type": "stream",
     "text": [
      "  6%|▌         | 3/50 [00:21<05:36,  7.15s/it]"
     ]
    },
    {
     "name": "stdout",
     "output_type": "stream",
     "text": [
      "Epoch 2: Train loss: 2.0110 Test Loss: 1.8507\n"
     ]
    },
    {
     "name": "stderr",
     "output_type": "stream",
     "text": [
      "  8%|▊         | 4/50 [00:28<05:29,  7.16s/it]"
     ]
    },
    {
     "name": "stdout",
     "output_type": "stream",
     "text": [
      "Epoch 3: Train loss: 1.6690 Test Loss: 1.3881\n"
     ]
    },
    {
     "name": "stderr",
     "output_type": "stream",
     "text": [
      " 10%|█         | 5/50 [00:35<05:17,  7.06s/it]"
     ]
    },
    {
     "name": "stdout",
     "output_type": "stream",
     "text": [
      "Epoch 4: Train loss: 1.3226 Test Loss: 1.1873\n"
     ]
    },
    {
     "name": "stderr",
     "output_type": "stream",
     "text": [
      " 12%|█▏        | 6/50 [00:42<05:04,  6.91s/it]"
     ]
    },
    {
     "name": "stdout",
     "output_type": "stream",
     "text": [
      "Epoch 5: Train loss: 1.1892 Test Loss: 1.1123\n"
     ]
    },
    {
     "name": "stderr",
     "output_type": "stream",
     "text": [
      " 14%|█▍        | 7/50 [00:48<04:53,  6.82s/it]"
     ]
    },
    {
     "name": "stdout",
     "output_type": "stream",
     "text": [
      "Epoch 6: Train loss: 1.1262 Test Loss: 1.0768\n"
     ]
    },
    {
     "name": "stderr",
     "output_type": "stream",
     "text": [
      " 16%|█▌        | 8/50 [00:55<04:48,  6.86s/it]"
     ]
    },
    {
     "name": "stdout",
     "output_type": "stream",
     "text": [
      "Epoch 7: Train loss: 1.0912 Test Loss: 1.0468\n"
     ]
    },
    {
     "name": "stderr",
     "output_type": "stream",
     "text": [
      " 18%|█▊        | 9/50 [01:02<04:40,  6.85s/it]"
     ]
    },
    {
     "name": "stdout",
     "output_type": "stream",
     "text": [
      "Epoch 8: Train loss: 1.0647 Test Loss: 1.0335\n"
     ]
    },
    {
     "name": "stderr",
     "output_type": "stream",
     "text": [
      " 20%|██        | 10/50 [01:09<04:33,  6.84s/it]"
     ]
    },
    {
     "name": "stdout",
     "output_type": "stream",
     "text": [
      "Epoch 9: Train loss: 1.0468 Test Loss: 1.0192\n"
     ]
    },
    {
     "name": "stderr",
     "output_type": "stream",
     "text": [
      " 22%|██▏       | 11/50 [01:16<04:26,  6.82s/it]"
     ]
    },
    {
     "name": "stdout",
     "output_type": "stream",
     "text": [
      "Epoch 10: Train loss: 1.0256 Test Loss: 1.0143\n"
     ]
    },
    {
     "name": "stderr",
     "output_type": "stream",
     "text": [
      " 24%|██▍       | 12/50 [01:22<04:18,  6.80s/it]"
     ]
    },
    {
     "name": "stdout",
     "output_type": "stream",
     "text": [
      "Epoch 11: Train loss: 1.0204 Test Loss: 0.9929\n"
     ]
    },
    {
     "name": "stderr",
     "output_type": "stream",
     "text": [
      " 26%|██▌       | 13/50 [01:29<04:12,  6.82s/it]"
     ]
    },
    {
     "name": "stdout",
     "output_type": "stream",
     "text": [
      "Epoch 12: Train loss: 1.0030 Test Loss: 0.9851\n"
     ]
    },
    {
     "name": "stderr",
     "output_type": "stream",
     "text": [
      " 28%|██▊       | 14/50 [01:36<04:07,  6.86s/it]"
     ]
    },
    {
     "name": "stdout",
     "output_type": "stream",
     "text": [
      "Epoch 13: Train loss: 0.9895 Test Loss: 0.9760\n"
     ]
    },
    {
     "name": "stderr",
     "output_type": "stream",
     "text": [
      " 30%|███       | 15/50 [01:43<04:01,  6.90s/it]"
     ]
    },
    {
     "name": "stdout",
     "output_type": "stream",
     "text": [
      "Epoch 14: Train loss: 0.9771 Test Loss: 0.9658\n"
     ]
    },
    {
     "name": "stderr",
     "output_type": "stream",
     "text": [
      " 32%|███▏      | 16/50 [01:50<03:56,  6.97s/it]"
     ]
    },
    {
     "name": "stdout",
     "output_type": "stream",
     "text": [
      "Epoch 15: Train loss: 0.9722 Test Loss: 0.9629\n"
     ]
    },
    {
     "name": "stderr",
     "output_type": "stream",
     "text": [
      " 34%|███▍      | 17/50 [01:57<03:48,  6.92s/it]"
     ]
    },
    {
     "name": "stdout",
     "output_type": "stream",
     "text": [
      "Epoch 16: Train loss: 0.9639 Test Loss: 0.9530\n"
     ]
    },
    {
     "name": "stderr",
     "output_type": "stream",
     "text": [
      " 36%|███▌      | 18/50 [02:04<03:41,  6.93s/it]"
     ]
    },
    {
     "name": "stdout",
     "output_type": "stream",
     "text": [
      "Epoch 17: Train loss: 0.9597 Test Loss: 0.9514\n"
     ]
    },
    {
     "name": "stderr",
     "output_type": "stream",
     "text": [
      " 38%|███▊      | 19/50 [02:11<03:35,  6.94s/it]"
     ]
    },
    {
     "name": "stdout",
     "output_type": "stream",
     "text": [
      "Epoch 18: Train loss: 0.9488 Test Loss: 0.9439\n"
     ]
    },
    {
     "name": "stderr",
     "output_type": "stream",
     "text": [
      " 40%|████      | 20/50 [02:18<03:27,  6.93s/it]"
     ]
    },
    {
     "name": "stdout",
     "output_type": "stream",
     "text": [
      "Epoch 19: Train loss: 0.9424 Test Loss: 0.9412\n"
     ]
    },
    {
     "name": "stderr",
     "output_type": "stream",
     "text": [
      " 42%|████▏     | 21/50 [02:25<03:22,  6.97s/it]"
     ]
    },
    {
     "name": "stdout",
     "output_type": "stream",
     "text": [
      "Epoch 20: Train loss: 0.9387 Test Loss: 0.9394\n"
     ]
    },
    {
     "name": "stderr",
     "output_type": "stream",
     "text": [
      " 44%|████▍     | 22/50 [02:32<03:13,  6.92s/it]"
     ]
    },
    {
     "name": "stdout",
     "output_type": "stream",
     "text": [
      "Epoch 21: Train loss: 0.9330 Test Loss: 0.9369\n"
     ]
    },
    {
     "name": "stderr",
     "output_type": "stream",
     "text": [
      " 46%|████▌     | 23/50 [02:39<03:07,  6.93s/it]"
     ]
    },
    {
     "name": "stdout",
     "output_type": "stream",
     "text": [
      "Epoch 22: Train loss: 0.9271 Test Loss: 0.9313\n"
     ]
    },
    {
     "name": "stderr",
     "output_type": "stream",
     "text": [
      " 48%|████▊     | 24/50 [02:46<02:59,  6.91s/it]"
     ]
    },
    {
     "name": "stdout",
     "output_type": "stream",
     "text": [
      "Epoch 23: Train loss: 0.9232 Test Loss: 0.9287\n"
     ]
    },
    {
     "name": "stderr",
     "output_type": "stream",
     "text": [
      " 50%|█████     | 25/50 [02:53<02:53,  6.95s/it]"
     ]
    },
    {
     "name": "stdout",
     "output_type": "stream",
     "text": [
      "Epoch 24: Train loss: 0.9227 Test Loss: 0.9254\n"
     ]
    },
    {
     "name": "stderr",
     "output_type": "stream",
     "text": [
      " 52%|█████▏    | 26/50 [03:00<02:48,  7.01s/it]"
     ]
    },
    {
     "name": "stdout",
     "output_type": "stream",
     "text": [
      "Epoch 25: Train loss: 0.9214 Test Loss: 0.9226\n"
     ]
    },
    {
     "name": "stderr",
     "output_type": "stream",
     "text": [
      " 54%|█████▍    | 27/50 [03:07<02:40,  6.98s/it]"
     ]
    },
    {
     "name": "stdout",
     "output_type": "stream",
     "text": [
      "Epoch 26: Train loss: 0.9146 Test Loss: 0.9230\n"
     ]
    },
    {
     "name": "stderr",
     "output_type": "stream",
     "text": [
      " 56%|█████▌    | 28/50 [03:14<02:32,  6.94s/it]"
     ]
    },
    {
     "name": "stdout",
     "output_type": "stream",
     "text": [
      "Epoch 27: Train loss: 0.9109 Test Loss: 0.9190\n"
     ]
    },
    {
     "name": "stderr",
     "output_type": "stream",
     "text": [
      " 58%|█████▊    | 29/50 [03:21<02:26,  7.00s/it]"
     ]
    },
    {
     "name": "stdout",
     "output_type": "stream",
     "text": [
      "Epoch 28: Train loss: 0.9063 Test Loss: 0.9178\n"
     ]
    },
    {
     "name": "stderr",
     "output_type": "stream",
     "text": [
      " 60%|██████    | 30/50 [03:28<02:18,  6.92s/it]"
     ]
    },
    {
     "name": "stdout",
     "output_type": "stream",
     "text": [
      "Epoch 29: Train loss: 0.9072 Test Loss: 0.9153\n"
     ]
    },
    {
     "name": "stderr",
     "output_type": "stream",
     "text": [
      " 62%|██████▏   | 31/50 [03:34<02:11,  6.90s/it]"
     ]
    },
    {
     "name": "stdout",
     "output_type": "stream",
     "text": [
      "Epoch 30: Train loss: 0.9038 Test Loss: 0.9160\n"
     ]
    },
    {
     "name": "stderr",
     "output_type": "stream",
     "text": [
      " 64%|██████▍   | 32/50 [03:41<02:03,  6.88s/it]"
     ]
    },
    {
     "name": "stdout",
     "output_type": "stream",
     "text": [
      "Epoch 31: Train loss: 0.9007 Test Loss: 0.9104\n"
     ]
    },
    {
     "name": "stderr",
     "output_type": "stream",
     "text": [
      " 66%|██████▌   | 33/50 [03:48<01:57,  6.94s/it]"
     ]
    },
    {
     "name": "stdout",
     "output_type": "stream",
     "text": [
      "Epoch 32: Train loss: 0.8989 Test Loss: 0.9157\n"
     ]
    },
    {
     "name": "stderr",
     "output_type": "stream",
     "text": [
      " 68%|██████▊   | 34/50 [03:55<01:51,  6.94s/it]"
     ]
    },
    {
     "name": "stdout",
     "output_type": "stream",
     "text": [
      "Epoch 33: Train loss: 0.8985 Test Loss: 0.9095\n"
     ]
    },
    {
     "name": "stderr",
     "output_type": "stream",
     "text": [
      " 70%|███████   | 35/50 [04:02<01:44,  6.94s/it]"
     ]
    },
    {
     "name": "stdout",
     "output_type": "stream",
     "text": [
      "Epoch 34: Train loss: 0.8973 Test Loss: 0.9070\n"
     ]
    },
    {
     "name": "stderr",
     "output_type": "stream",
     "text": [
      " 72%|███████▏  | 36/50 [04:09<01:36,  6.90s/it]"
     ]
    },
    {
     "name": "stdout",
     "output_type": "stream",
     "text": [
      "Epoch 35: Train loss: 0.8954 Test Loss: 0.9097\n"
     ]
    },
    {
     "name": "stderr",
     "output_type": "stream",
     "text": [
      " 74%|███████▍  | 37/50 [04:16<01:29,  6.90s/it]"
     ]
    },
    {
     "name": "stdout",
     "output_type": "stream",
     "text": [
      "Epoch 36: Train loss: 0.8980 Test Loss: 0.9086\n"
     ]
    },
    {
     "name": "stderr",
     "output_type": "stream",
     "text": [
      " 76%|███████▌  | 38/50 [04:23<01:21,  6.83s/it]"
     ]
    },
    {
     "name": "stdout",
     "output_type": "stream",
     "text": [
      "Epoch 37: Train loss: 0.8944 Test Loss: 0.9065\n"
     ]
    },
    {
     "name": "stderr",
     "output_type": "stream",
     "text": [
      " 78%|███████▊  | 39/50 [04:29<01:14,  6.79s/it]"
     ]
    },
    {
     "name": "stdout",
     "output_type": "stream",
     "text": [
      "Epoch 38: Train loss: 0.8879 Test Loss: 0.9052\n"
     ]
    },
    {
     "name": "stderr",
     "output_type": "stream",
     "text": [
      " 80%|████████  | 40/50 [04:36<01:08,  6.81s/it]"
     ]
    },
    {
     "name": "stdout",
     "output_type": "stream",
     "text": [
      "Epoch 39: Train loss: 0.8888 Test Loss: 0.9021\n"
     ]
    },
    {
     "name": "stderr",
     "output_type": "stream",
     "text": [
      " 82%|████████▏ | 41/50 [04:43<01:01,  6.83s/it]"
     ]
    },
    {
     "name": "stdout",
     "output_type": "stream",
     "text": [
      "Epoch 40: Train loss: 0.8859 Test Loss: 0.9028\n"
     ]
    },
    {
     "name": "stderr",
     "output_type": "stream",
     "text": [
      " 84%|████████▍ | 42/50 [04:50<00:54,  6.86s/it]"
     ]
    },
    {
     "name": "stdout",
     "output_type": "stream",
     "text": [
      "Epoch 41: Train loss: 0.8866 Test Loss: 0.9005\n"
     ]
    },
    {
     "name": "stderr",
     "output_type": "stream",
     "text": [
      " 86%|████████▌ | 43/50 [04:57<00:48,  6.87s/it]"
     ]
    },
    {
     "name": "stdout",
     "output_type": "stream",
     "text": [
      "Epoch 42: Train loss: 0.8844 Test Loss: 0.9017\n"
     ]
    },
    {
     "name": "stderr",
     "output_type": "stream",
     "text": [
      " 88%|████████▊ | 44/50 [05:04<00:41,  6.90s/it]"
     ]
    },
    {
     "name": "stdout",
     "output_type": "stream",
     "text": [
      "Epoch 43: Train loss: 0.8849 Test Loss: 0.9028\n"
     ]
    },
    {
     "name": "stderr",
     "output_type": "stream",
     "text": [
      " 90%|█████████ | 45/50 [05:11<00:34,  6.95s/it]"
     ]
    },
    {
     "name": "stdout",
     "output_type": "stream",
     "text": [
      "Epoch 44: Train loss: 0.8822 Test Loss: 0.8983\n"
     ]
    },
    {
     "name": "stderr",
     "output_type": "stream",
     "text": [
      " 92%|█████████▏| 46/50 [05:18<00:27,  6.97s/it]"
     ]
    },
    {
     "name": "stdout",
     "output_type": "stream",
     "text": [
      "Epoch 45: Train loss: 0.8806 Test Loss: 0.9026\n"
     ]
    },
    {
     "name": "stderr",
     "output_type": "stream",
     "text": [
      " 94%|█████████▍| 47/50 [05:25<00:20,  6.94s/it]"
     ]
    },
    {
     "name": "stdout",
     "output_type": "stream",
     "text": [
      "Epoch 46: Train loss: 0.8806 Test Loss: 0.9030\n"
     ]
    },
    {
     "name": "stderr",
     "output_type": "stream",
     "text": [
      " 96%|█████████▌| 48/50 [05:32<00:13,  6.94s/it]"
     ]
    },
    {
     "name": "stdout",
     "output_type": "stream",
     "text": [
      "Epoch 47: Train loss: 0.8819 Test Loss: 0.9014\n"
     ]
    },
    {
     "name": "stderr",
     "output_type": "stream",
     "text": [
      " 98%|█████████▊| 49/50 [05:39<00:06,  6.94s/it]"
     ]
    },
    {
     "name": "stdout",
     "output_type": "stream",
     "text": [
      "Epoch 48: Train loss: 0.8790 Test Loss: 0.8982\n"
     ]
    },
    {
     "name": "stderr",
     "output_type": "stream",
     "text": [
      "100%|██████████| 50/50 [05:46<00:00,  6.92s/it]"
     ]
    },
    {
     "name": "stdout",
     "output_type": "stream",
     "text": [
      "Epoch 49: Train loss: 0.8782 Test Loss: 0.8965\n"
     ]
    },
    {
     "name": "stderr",
     "output_type": "stream",
     "text": [
      "\n"
     ]
    }
   ],
   "source": [
    "# Training loop \n",
    "train_losses = []\n",
    "test_losses = []\n",
    "\n",
    "for epoch in tqdm.tqdm(range(num_epochs)):\n",
    "    model.train()  # Set the model to training mode\n",
    "    running_loss = 0.0\n",
    "    for tokens, _ in train_loader:\n",
    "        # Uncomment the following line if you are using a GPU\n",
    "        # tokens = tokens.cuda()\n",
    "\n",
    "        logits = model(tokens)\n",
    "        loss = loss_fn(logits, tokens)\n",
    "        loss.backward()\n",
    "\n",
    "        # Gradient clipping\n",
    "        if max_grad_norm is not None:\n",
    "            torch.nn.utils.clip_grad_norm_(model.parameters(), max_grad_norm)\n",
    "\n",
    "        optimizer.step()\n",
    "        optimizer.zero_grad()\n",
    "        scheduler.step()\n",
    "\n",
    "        running_loss += loss.item()\n",
    "        train_losses.append(loss.item())\n",
    "\n",
    "    # Calculate average loss for the training epoch\n",
    "    average_train_loss = running_loss / len(train_loader)\n",
    "\n",
    "    # Evaluate on test set\n",
    "    model.eval()  # Set the model to evaluation mode\n",
    "    test_loss = 0.0\n",
    "    with torch.no_grad():\n",
    "        for tokens, _ in test_loader:\n",
    "            # Uncomment the following line if you are using a GPU\n",
    "            # tokens = tokens.cuda()\n",
    "\n",
    "            logits = model(tokens)\n",
    "            loss = loss_fn(logits, tokens)\n",
    "            test_loss += loss.item()\n",
    "\n",
    "    # Calculate average loss for the test epoch\n",
    "    average_test_loss = test_loss / len(test_loader)\n",
    "    test_losses.append(average_test_loss)\n",
    "    print(f\"Epoch {epoch}: Train loss: {average_train_loss:.4f} Test Loss: {average_test_loss:.4f}\")"
   ]
  },
  {
   "cell_type": "code",
   "execution_count": 80,
   "metadata": {},
   "outputs": [
    {
     "data": {
      "application/vnd.plotly.v1+json": {
       "config": {
        "plotlyServerURL": "https://plot.ly"
       },
       "data": [
        {
         "hovertemplate": "variable=0<br>index=%{x}<br>value=%{y}<extra></extra>",
         "legendgroup": "0",
         "line": {
          "color": "#636efa",
          "dash": "solid"
         },
         "marker": {
          "symbol": "circle"
         },
         "mode": "lines",
         "name": "0",
         "showlegend": true,
         "type": "scattergl",
         "x": [
          0,
          1,
          2,
          3,
          4,
          5,
          6,
          7,
          8,
          9,
          10,
          11,
          12,
          13,
          14,
          15,
          16,
          17,
          18,
          19,
          20,
          21,
          22,
          23,
          24,
          25,
          26,
          27,
          28,
          29,
          30,
          31,
          32,
          33,
          34,
          35,
          36,
          37,
          38,
          39,
          40,
          41,
          42,
          43,
          44,
          45,
          46,
          47,
          48,
          49,
          50,
          51,
          52,
          53,
          54,
          55,
          56,
          57,
          58,
          59,
          60,
          61,
          62,
          63,
          64,
          65,
          66,
          67,
          68,
          69,
          70,
          71,
          72,
          73,
          74,
          75,
          76,
          77,
          78,
          79,
          80,
          81,
          82,
          83,
          84,
          85,
          86,
          87,
          88,
          89,
          90,
          91,
          92,
          93,
          94,
          95,
          96,
          97,
          98,
          99,
          100,
          101,
          102,
          103,
          104,
          105,
          106,
          107,
          108,
          109,
          110,
          111,
          112,
          113,
          114,
          115,
          116,
          117,
          118,
          119,
          120,
          121,
          122,
          123,
          124,
          125,
          126,
          127,
          128,
          129,
          130,
          131,
          132,
          133,
          134,
          135,
          136,
          137,
          138,
          139,
          140,
          141,
          142,
          143,
          144,
          145,
          146,
          147,
          148,
          149,
          150,
          151,
          152,
          153,
          154,
          155,
          156,
          157,
          158,
          159,
          160,
          161,
          162,
          163,
          164,
          165,
          166,
          167,
          168,
          169,
          170,
          171,
          172,
          173,
          174,
          175,
          176,
          177,
          178,
          179,
          180,
          181,
          182,
          183,
          184,
          185,
          186,
          187,
          188,
          189,
          190,
          191,
          192,
          193,
          194,
          195,
          196,
          197,
          198,
          199,
          200,
          201,
          202,
          203,
          204,
          205,
          206,
          207,
          208,
          209,
          210,
          211,
          212,
          213,
          214,
          215,
          216,
          217,
          218,
          219,
          220,
          221,
          222,
          223,
          224,
          225,
          226,
          227,
          228,
          229,
          230,
          231,
          232,
          233,
          234,
          235,
          236,
          237,
          238,
          239,
          240,
          241,
          242,
          243,
          244,
          245,
          246,
          247,
          248,
          249,
          250,
          251,
          252,
          253,
          254,
          255,
          256,
          257,
          258,
          259,
          260,
          261,
          262,
          263,
          264,
          265,
          266,
          267,
          268,
          269,
          270,
          271,
          272,
          273,
          274,
          275,
          276,
          277,
          278,
          279,
          280,
          281,
          282,
          283,
          284,
          285,
          286,
          287,
          288,
          289,
          290,
          291,
          292,
          293,
          294,
          295,
          296,
          297,
          298,
          299,
          300,
          301,
          302,
          303,
          304,
          305,
          306,
          307,
          308,
          309,
          310,
          311,
          312,
          313,
          314,
          315,
          316,
          317,
          318,
          319,
          320,
          321,
          322,
          323,
          324,
          325,
          326,
          327,
          328,
          329,
          330,
          331,
          332,
          333,
          334,
          335,
          336,
          337,
          338,
          339,
          340,
          341,
          342,
          343,
          344,
          345,
          346,
          347,
          348,
          349,
          350,
          351,
          352,
          353,
          354,
          355,
          356,
          357,
          358,
          359,
          360,
          361,
          362,
          363,
          364,
          365,
          366,
          367,
          368,
          369,
          370,
          371,
          372,
          373,
          374,
          375,
          376,
          377,
          378,
          379,
          380,
          381,
          382,
          383,
          384,
          385,
          386,
          387,
          388,
          389,
          390,
          391,
          392,
          393,
          394,
          395,
          396,
          397,
          398,
          399,
          400,
          401,
          402,
          403,
          404,
          405,
          406,
          407,
          408,
          409,
          410,
          411,
          412,
          413,
          414,
          415,
          416,
          417,
          418,
          419,
          420,
          421,
          422,
          423,
          424,
          425,
          426,
          427,
          428,
          429,
          430,
          431,
          432,
          433,
          434,
          435,
          436,
          437,
          438,
          439,
          440,
          441,
          442,
          443,
          444,
          445,
          446,
          447,
          448,
          449,
          450,
          451,
          452,
          453,
          454,
          455,
          456,
          457,
          458,
          459,
          460,
          461,
          462,
          463,
          464,
          465,
          466,
          467,
          468,
          469,
          470,
          471,
          472,
          473,
          474,
          475,
          476,
          477,
          478,
          479,
          480,
          481,
          482,
          483,
          484,
          485,
          486,
          487,
          488,
          489,
          490,
          491,
          492,
          493,
          494,
          495,
          496,
          497,
          498,
          499,
          500,
          501,
          502,
          503,
          504,
          505,
          506,
          507,
          508,
          509,
          510,
          511,
          512,
          513,
          514,
          515,
          516,
          517,
          518,
          519,
          520,
          521,
          522,
          523,
          524,
          525,
          526,
          527,
          528,
          529,
          530,
          531,
          532,
          533,
          534,
          535,
          536,
          537,
          538,
          539,
          540,
          541,
          542,
          543,
          544,
          545,
          546,
          547,
          548,
          549,
          550,
          551,
          552,
          553,
          554,
          555,
          556,
          557,
          558,
          559,
          560,
          561,
          562,
          563,
          564,
          565,
          566,
          567,
          568,
          569,
          570,
          571,
          572,
          573,
          574,
          575,
          576,
          577,
          578,
          579,
          580,
          581,
          582,
          583,
          584,
          585,
          586,
          587,
          588,
          589,
          590,
          591,
          592,
          593,
          594,
          595,
          596,
          597,
          598,
          599,
          600,
          601,
          602,
          603,
          604,
          605,
          606,
          607,
          608,
          609,
          610,
          611,
          612,
          613,
          614,
          615,
          616,
          617,
          618,
          619,
          620,
          621,
          622,
          623,
          624,
          625,
          626,
          627,
          628,
          629,
          630,
          631,
          632,
          633,
          634,
          635,
          636,
          637,
          638,
          639,
          640,
          641,
          642,
          643,
          644,
          645,
          646,
          647,
          648,
          649,
          650,
          651,
          652,
          653,
          654,
          655,
          656,
          657,
          658,
          659,
          660,
          661,
          662,
          663,
          664,
          665,
          666,
          667,
          668,
          669,
          670,
          671,
          672,
          673,
          674,
          675,
          676,
          677,
          678,
          679,
          680,
          681,
          682,
          683,
          684,
          685,
          686,
          687,
          688,
          689,
          690,
          691,
          692,
          693,
          694,
          695,
          696,
          697,
          698,
          699,
          700,
          701,
          702,
          703,
          704,
          705,
          706,
          707,
          708,
          709,
          710,
          711,
          712,
          713,
          714,
          715,
          716,
          717,
          718,
          719,
          720,
          721,
          722,
          723,
          724,
          725,
          726,
          727,
          728,
          729,
          730,
          731,
          732,
          733,
          734,
          735,
          736,
          737,
          738,
          739,
          740,
          741,
          742,
          743,
          744,
          745,
          746,
          747,
          748,
          749,
          750,
          751,
          752,
          753,
          754,
          755,
          756,
          757,
          758,
          759,
          760,
          761,
          762,
          763,
          764,
          765,
          766,
          767,
          768,
          769,
          770,
          771,
          772,
          773,
          774,
          775,
          776,
          777,
          778,
          779,
          780,
          781,
          782,
          783,
          784,
          785,
          786,
          787,
          788,
          789,
          790,
          791,
          792,
          793,
          794,
          795,
          796,
          797,
          798,
          799,
          800,
          801,
          802,
          803,
          804,
          805,
          806,
          807,
          808,
          809,
          810,
          811,
          812,
          813,
          814,
          815,
          816,
          817,
          818,
          819,
          820,
          821,
          822,
          823,
          824,
          825,
          826,
          827,
          828,
          829,
          830,
          831,
          832,
          833,
          834,
          835,
          836,
          837,
          838,
          839,
          840,
          841,
          842,
          843,
          844,
          845,
          846,
          847,
          848,
          849,
          850,
          851,
          852,
          853,
          854,
          855,
          856,
          857,
          858,
          859,
          860,
          861,
          862,
          863,
          864,
          865,
          866,
          867,
          868,
          869,
          870,
          871,
          872,
          873,
          874,
          875,
          876,
          877,
          878,
          879,
          880,
          881,
          882,
          883,
          884,
          885,
          886,
          887,
          888,
          889,
          890,
          891,
          892,
          893,
          894,
          895,
          896,
          897,
          898,
          899,
          900,
          901,
          902,
          903,
          904,
          905,
          906,
          907,
          908,
          909,
          910,
          911,
          912,
          913,
          914,
          915,
          916,
          917,
          918,
          919,
          920,
          921,
          922,
          923,
          924,
          925,
          926,
          927,
          928,
          929,
          930,
          931,
          932,
          933,
          934,
          935,
          936,
          937,
          938,
          939,
          940,
          941,
          942,
          943,
          944,
          945,
          946,
          947,
          948,
          949,
          950,
          951,
          952,
          953,
          954,
          955,
          956,
          957,
          958,
          959,
          960,
          961,
          962,
          963,
          964,
          965,
          966,
          967,
          968,
          969,
          970,
          971,
          972,
          973,
          974,
          975,
          976,
          977,
          978,
          979,
          980,
          981,
          982,
          983,
          984,
          985,
          986,
          987,
          988,
          989,
          990,
          991,
          992,
          993,
          994,
          995,
          996,
          997,
          998,
          999,
          1000,
          1001,
          1002,
          1003,
          1004,
          1005,
          1006,
          1007,
          1008,
          1009,
          1010,
          1011,
          1012,
          1013,
          1014,
          1015,
          1016,
          1017,
          1018,
          1019,
          1020,
          1021,
          1022,
          1023,
          1024,
          1025,
          1026,
          1027,
          1028,
          1029,
          1030,
          1031,
          1032,
          1033,
          1034,
          1035,
          1036,
          1037,
          1038,
          1039,
          1040,
          1041,
          1042,
          1043,
          1044,
          1045,
          1046,
          1047,
          1048,
          1049,
          1050,
          1051,
          1052,
          1053,
          1054,
          1055,
          1056,
          1057,
          1058,
          1059,
          1060,
          1061,
          1062,
          1063,
          1064,
          1065,
          1066,
          1067,
          1068,
          1069,
          1070,
          1071,
          1072,
          1073,
          1074,
          1075,
          1076,
          1077,
          1078,
          1079,
          1080,
          1081,
          1082,
          1083,
          1084,
          1085,
          1086,
          1087,
          1088,
          1089,
          1090,
          1091,
          1092,
          1093,
          1094,
          1095,
          1096,
          1097,
          1098,
          1099,
          1100,
          1101,
          1102,
          1103,
          1104,
          1105,
          1106,
          1107,
          1108,
          1109,
          1110,
          1111,
          1112,
          1113,
          1114,
          1115,
          1116,
          1117,
          1118,
          1119,
          1120,
          1121,
          1122,
          1123,
          1124,
          1125,
          1126,
          1127,
          1128,
          1129,
          1130,
          1131,
          1132,
          1133,
          1134,
          1135,
          1136,
          1137,
          1138,
          1139,
          1140,
          1141,
          1142,
          1143,
          1144,
          1145,
          1146,
          1147,
          1148,
          1149,
          1150,
          1151,
          1152,
          1153,
          1154,
          1155,
          1156,
          1157,
          1158,
          1159,
          1160,
          1161,
          1162,
          1163,
          1164,
          1165,
          1166,
          1167,
          1168,
          1169,
          1170,
          1171,
          1172,
          1173,
          1174,
          1175,
          1176,
          1177,
          1178,
          1179,
          1180,
          1181,
          1182,
          1183,
          1184,
          1185,
          1186,
          1187,
          1188,
          1189,
          1190,
          1191,
          1192,
          1193,
          1194,
          1195,
          1196,
          1197,
          1198,
          1199,
          1200,
          1201,
          1202,
          1203,
          1204,
          1205,
          1206,
          1207,
          1208,
          1209,
          1210,
          1211,
          1212,
          1213,
          1214,
          1215,
          1216,
          1217,
          1218,
          1219,
          1220,
          1221,
          1222,
          1223,
          1224,
          1225,
          1226,
          1227,
          1228,
          1229,
          1230,
          1231,
          1232,
          1233,
          1234,
          1235,
          1236,
          1237,
          1238,
          1239,
          1240,
          1241,
          1242,
          1243,
          1244,
          1245,
          1246,
          1247,
          1248,
          1249,
          1250,
          1251,
          1252,
          1253,
          1254,
          1255,
          1256,
          1257,
          1258,
          1259,
          1260,
          1261,
          1262,
          1263,
          1264,
          1265,
          1266,
          1267,
          1268,
          1269,
          1270,
          1271,
          1272,
          1273,
          1274,
          1275,
          1276,
          1277,
          1278,
          1279,
          1280,
          1281,
          1282,
          1283,
          1284,
          1285,
          1286,
          1287,
          1288,
          1289,
          1290,
          1291,
          1292,
          1293,
          1294,
          1295,
          1296,
          1297,
          1298,
          1299,
          1300,
          1301,
          1302,
          1303,
          1304,
          1305,
          1306,
          1307,
          1308,
          1309,
          1310,
          1311,
          1312,
          1313,
          1314,
          1315,
          1316,
          1317,
          1318,
          1319,
          1320,
          1321,
          1322,
          1323,
          1324,
          1325,
          1326,
          1327,
          1328,
          1329,
          1330,
          1331,
          1332,
          1333,
          1334,
          1335,
          1336,
          1337,
          1338,
          1339,
          1340,
          1341,
          1342,
          1343,
          1344,
          1345,
          1346,
          1347,
          1348,
          1349,
          1350,
          1351,
          1352,
          1353,
          1354,
          1355,
          1356,
          1357,
          1358,
          1359,
          1360,
          1361,
          1362,
          1363,
          1364,
          1365,
          1366,
          1367,
          1368,
          1369,
          1370,
          1371,
          1372,
          1373,
          1374,
          1375,
          1376,
          1377,
          1378,
          1379,
          1380,
          1381,
          1382,
          1383,
          1384,
          1385,
          1386,
          1387,
          1388,
          1389,
          1390,
          1391,
          1392,
          1393,
          1394,
          1395,
          1396,
          1397,
          1398,
          1399,
          1400,
          1401,
          1402,
          1403,
          1404,
          1405,
          1406,
          1407,
          1408,
          1409,
          1410,
          1411,
          1412,
          1413,
          1414,
          1415,
          1416,
          1417,
          1418,
          1419,
          1420,
          1421,
          1422,
          1423,
          1424,
          1425,
          1426,
          1427,
          1428,
          1429,
          1430,
          1431,
          1432,
          1433,
          1434,
          1435,
          1436,
          1437,
          1438,
          1439,
          1440,
          1441,
          1442,
          1443,
          1444,
          1445,
          1446,
          1447,
          1448,
          1449
         ],
         "xaxis": "x",
         "y": [
          2.625030279159546,
          2.645132303237915,
          2.620469093322754,
          2.645198345184326,
          2.671823501586914,
          2.590798854827881,
          2.6632919311523438,
          2.614649772644043,
          2.594061851501465,
          2.5731825828552246,
          2.5663774013519287,
          2.580047130584717,
          2.4922914505004883,
          2.601184606552124,
          2.509361982345581,
          2.471557855606079,
          2.4505605697631836,
          2.4394094944000244,
          2.436345338821411,
          2.4252800941467285,
          2.375720500946045,
          2.4253883361816406,
          2.4143238067626953,
          2.409444570541382,
          2.3595004081726074,
          2.4186785221099854,
          2.3006157875061035,
          2.379053831100464,
          2.4381814002990723,
          2.3212459087371826,
          2.341745376586914,
          2.304647207260132,
          2.279254674911499,
          2.2818431854248047,
          2.2801055908203125,
          2.2647581100463867,
          2.3051230907440186,
          2.2914621829986572,
          2.2122061252593994,
          2.2153522968292236,
          2.2241857051849365,
          2.204533576965332,
          2.223322868347168,
          2.214094400405884,
          2.1733617782592773,
          2.167518138885498,
          2.1818270683288574,
          2.1825966835021973,
          2.138411283493042,
          2.1406614780426025,
          2.1756513118743896,
          2.160194158554077,
          2.1067919731140137,
          2.1129794120788574,
          2.125096082687378,
          2.106304168701172,
          2.112743854522705,
          2.256918430328369,
          2.0687568187713623,
          2.099536657333374,
          2.1206796169281006,
          2.0816287994384766,
          2.095597743988037,
          2.0472378730773926,
          2.0586068630218506,
          2.075310707092285,
          2.0542702674865723,
          2.059823751449585,
          2.041700601577759,
          2.0439600944519043,
          2.0457770824432373,
          2.0329959392547607,
          2.0151174068450928,
          2.029365062713623,
          1.9913283586502075,
          1.9880874156951904,
          2.0077855587005615,
          1.9975167512893677,
          1.9666439294815063,
          1.9936432838439941,
          1.969892144203186,
          1.9502497911453247,
          1.9115965366363525,
          1.9142922163009644,
          1.9091217517852783,
          1.9204812049865723,
          1.828141212463379,
          1.894276738166809,
          1.8349947929382324,
          1.8456988334655762,
          1.8378493785858154,
          1.850157618522644,
          1.8416473865509033,
          1.8278354406356812,
          1.7748504877090454,
          1.7703990936279297,
          1.7611165046691895,
          1.727917194366455,
          1.7142210006713867,
          1.646474838256836,
          1.6873745918273926,
          1.6695834398269653,
          1.6719881296157837,
          1.6483476161956787,
          1.6323906183242798,
          1.5793383121490479,
          1.627207636833191,
          1.5459504127502441,
          1.530931830406189,
          1.5598353147506714,
          1.528789758682251,
          1.488876461982727,
          1.4702072143554688,
          1.5024479627609253,
          1.4473196268081665,
          1.4825242757797241,
          1.4331060647964478,
          1.3870470523834229,
          1.528313398361206,
          1.4047874212265015,
          1.3898811340332031,
          1.3837814331054688,
          1.4219269752502441,
          1.4236726760864258,
          1.3801145553588867,
          1.3403958082199097,
          1.2946664094924927,
          1.305600881576538,
          1.395584225654602,
          1.358902096748352,
          1.2327994108200073,
          1.3426129817962646,
          1.30580472946167,
          1.2209067344665527,
          1.2236008644104004,
          1.2258086204528809,
          1.2790178060531616,
          1.2576780319213867,
          1.2688723802566528,
          1.2923007011413574,
          1.31615149974823,
          1.2499829530715942,
          1.2448471784591675,
          1.2132004499435425,
          1.2330538034439087,
          1.2464046478271484,
          1.2126742601394653,
          1.2368237972259521,
          1.2359577417373657,
          1.1483477354049683,
          1.1881183385849,
          1.2164018154144287,
          1.2169384956359863,
          1.1811169385910034,
          1.1938910484313965,
          1.2382426261901855,
          1.1670056581497192,
          1.2366193532943726,
          1.1807193756103516,
          1.1595298051834106,
          1.1840803623199463,
          1.179645299911499,
          1.2455204725265503,
          1.1619044542312622,
          1.1670827865600586,
          1.1316194534301758,
          1.192773461341858,
          1.119245171546936,
          1.1683909893035889,
          1.1678181886672974,
          1.1510382890701294,
          1.155338168144226,
          1.11444091796875,
          1.2900424003601074,
          1.1234755516052246,
          1.1734027862548828,
          1.098928689956665,
          1.158982753753662,
          1.145247220993042,
          1.0999999046325684,
          1.129448413848877,
          1.0910099744796753,
          1.1200809478759766,
          1.1325000524520874,
          1.149985671043396,
          1.1345584392547607,
          1.1350032091140747,
          1.1445653438568115,
          1.1239521503448486,
          1.14701509475708,
          1.0790719985961914,
          1.1322520971298218,
          1.1691352128982544,
          1.1284563541412354,
          1.1350445747375488,
          1.1204053163528442,
          1.0973299741744995,
          1.1443114280700684,
          1.1032018661499023,
          1.098874568939209,
          1.1035884618759155,
          1.106718897819519,
          1.134055256843567,
          1.1312251091003418,
          1.1416893005371094,
          1.059735655784607,
          1.1125575304031372,
          1.1427857875823975,
          1.1149089336395264,
          1.1002644300460815,
          1.1193677186965942,
          1.1081748008728027,
          1.15385103225708,
          1.0637478828430176,
          1.0866458415985107,
          1.0568420886993408,
          1.074912190437317,
          1.0712003707885742,
          1.1024835109710693,
          1.080094814300537,
          1.0749338865280151,
          1.0516910552978516,
          1.0888516902923584,
          1.08334219455719,
          1.0564359426498413,
          1.0783239603042603,
          1.0631402730941772,
          1.0878814458847046,
          1.079292893409729,
          1.083577275276184,
          1.1025865077972412,
          1.0731807947158813,
          1.079210638999939,
          1.0971589088439941,
          1.0504919290542603,
          1.064233422279358,
          1.0598490238189697,
          1.0565240383148193,
          1.086413025856018,
          1.0470571517944336,
          1.0416604280471802,
          1.0936578512191772,
          1.0731823444366455,
          1.066851258277893,
          1.0459768772125244,
          1.068213939666748,
          1.0876210927963257,
          1.0874016284942627,
          1.0583467483520508,
          1.0716383457183838,
          1.0387719869613647,
          1.059970498085022,
          1.0621668100357056,
          1.0809303522109985,
          1.0497347116470337,
          1.0414727926254272,
          1.0851426124572754,
          1.0456866025924683,
          1.0653871297836304,
          1.0658701658248901,
          1.0470550060272217,
          1.0920228958129883,
          1.0578609704971313,
          1.0566354990005493,
          1.0534306764602661,
          1.0908526182174683,
          1.0570400953292847,
          1.0517492294311523,
          1.064683198928833,
          1.0839604139328003,
          0.9969927072525024,
          0.9986164569854736,
          1.0646394491195679,
          1.0712121725082397,
          1.0696321725845337,
          1.0326679944992065,
          1.0481226444244385,
          1.0065382719039917,
          1.010880470275879,
          1.0709422826766968,
          1.0426974296569824,
          0.9948655962944031,
          1.0147043466567993,
          1.0172653198242188,
          1.0383328199386597,
          1.0260374546051025,
          1.073952317237854,
          1.0387827157974243,
          1.080873966217041,
          1.0508995056152344,
          1.0191659927368164,
          1.0345735549926758,
          1.0398958921432495,
          1.0251306295394897,
          1.0385679006576538,
          1.035140872001648,
          1.0256977081298828,
          1.0245978832244873,
          1.0411571264266968,
          1.0189764499664307,
          1.0462720394134521,
          1.0185266733169556,
          0.9999544024467468,
          1.0504584312438965,
          1.0321329832077026,
          1.0113906860351562,
          1.0230967998504639,
          1.0325019359588623,
          1.0141880512237549,
          1.0473442077636719,
          1.086029052734375,
          1.0150445699691772,
          1.0267581939697266,
          1.013144850730896,
          1.0253832340240479,
          1.0301839113235474,
          1.0152934789657593,
          1.047041654586792,
          0.9056650996208191,
          1.0242358446121216,
          1.0293303728103638,
          1.0067912340164185,
          1.01753830909729,
          1.0682638883590698,
          0.9990590214729309,
          1.0345994234085083,
          0.9965712428092957,
          1.034759283065796,
          1.0315020084381104,
          1.0060433149337769,
          1.0467761754989624,
          0.9789305925369263,
          1.0217666625976562,
          1.0173779726028442,
          1.0275672674179077,
          1.0045803785324097,
          1.0178189277648926,
          0.9899155497550964,
          1.034318447113037,
          1.008147954940796,
          1.022852897644043,
          1.0095170736312866,
          1.06016206741333,
          0.9660546183586121,
          0.9979022145271301,
          1.009387731552124,
          1.010360598564148,
          1.1180915832519531,
          1.0084919929504395,
          1.0106333494186401,
          1.0053715705871582,
          1.0483273267745972,
          0.9713196754455566,
          0.9933835864067078,
          1.0272746086120605,
          0.9803878664970398,
          0.9895544648170471,
          1.0104234218597412,
          0.9927858710289001,
          1.0311754941940308,
          1.0195642709732056,
          1.0028173923492432,
          0.9975334405899048,
          0.9973886609077454,
          0.996431827545166,
          1.0006390810012817,
          1.0004500150680542,
          1.0218225717544556,
          1.022536039352417,
          0.9405223727226257,
          1.008647084236145,
          1.0149834156036377,
          1.0143877267837524,
          0.9988821148872375,
          0.9816926717758179,
          1.00323486328125,
          0.9959760308265686,
          1.0058854818344116,
          1.0390727519989014,
          0.9851124882698059,
          1.0042086839675903,
          1.0195921659469604,
          0.9851492643356323,
          1.0065453052520752,
          1.0053273439407349,
          0.9871766567230225,
          0.9394716024398804,
          1.0231257677078247,
          0.9865842461585999,
          1.0315712690353394,
          0.9783983826637268,
          1.0131398439407349,
          0.9787958264350891,
          0.9876335859298706,
          0.9680877923965454,
          0.9842144250869751,
          1.0067952871322632,
          0.9594635367393494,
          0.9607349038124084,
          0.9725920557975769,
          1.0340585708618164,
          0.9902509450912476,
          0.991059422492981,
          0.9850168824195862,
          0.9550372362136841,
          0.9099897742271423,
          1.0290554761886597,
          0.9930979609489441,
          0.9747434854507446,
          0.9782439470291138,
          0.9431225061416626,
          0.9573663473129272,
          1.022267460823059,
          0.9752790927886963,
          0.9948950409889221,
          0.9919158816337585,
          0.9940698742866516,
          0.955052375793457,
          0.9984609484672546,
          0.9996931552886963,
          0.9724627733230591,
          0.9797565937042236,
          0.9763497710227966,
          0.9898296594619751,
          1.005737066268921,
          0.9780064821243286,
          0.9839789867401123,
          0.9617405533790588,
          0.9589109420776367,
          0.9721584320068359,
          0.9809950590133667,
          0.9701870679855347,
          0.9969133734703064,
          0.9443448185920715,
          0.8566145896911621,
          0.962610125541687,
          0.9514901041984558,
          1.0070208311080933,
          0.971917450428009,
          0.9960315823554993,
          0.9634179472923279,
          0.9440346956253052,
          0.934994101524353,
          0.9522358775138855,
          0.9636560082435608,
          1.007910966873169,
          0.9715787172317505,
          0.9308749437332153,
          0.9578316807746887,
          0.9938440322875977,
          1.0006836652755737,
          0.9526835083961487,
          0.9418408274650574,
          0.9953680038452148,
          0.9917877316474915,
          0.9624452590942383,
          0.9897932410240173,
          0.9934002161026001,
          0.9907869100570679,
          0.9561063647270203,
          0.9681838154792786,
          0.979682981967926,
          0.9545885324478149,
          1.0071096420288086,
          0.953704297542572,
          0.9890989661216736,
          0.9279552698135376,
          0.9430370926856995,
          0.9692776799201965,
          0.9840759038925171,
          0.9004674553871155,
          0.957617998123169,
          1.011038064956665,
          0.9775986671447754,
          0.941565752029419,
          0.957451581954956,
          0.9804226160049438,
          1.0114476680755615,
          0.9454899430274963,
          0.9678002595901489,
          1.006296157836914,
          0.9314673542976379,
          0.9618635177612305,
          0.9757447838783264,
          0.9756696820259094,
          0.9716894030570984,
          0.9249058961868286,
          0.9681999087333679,
          0.9659868478775024,
          0.9491557478904724,
          0.9485119581222534,
          0.9554643630981445,
          0.999694287776947,
          0.9582741856575012,
          0.9616187810897827,
          0.9667513966560364,
          0.952693521976471,
          0.9483211040496826,
          0.9976927638053894,
          0.9386008381843567,
          0.9468701481819153,
          0.9352344274520874,
          0.9740675687789917,
          0.9186599850654602,
          0.948528528213501,
          0.9713257551193237,
          0.9333927035331726,
          0.9848929643630981,
          0.9420669674873352,
          0.9119168519973755,
          0.9163868427276611,
          0.9624615907669067,
          0.9320319890975952,
          0.9348822832107544,
          0.9838877320289612,
          0.9855489134788513,
          0.949673056602478,
          0.9387392401695251,
          0.9511091709136963,
          0.9788475632667542,
          0.939067006111145,
          1.1675174236297607,
          0.9607484936714172,
          0.9563611149787903,
          0.9515659809112549,
          0.955329418182373,
          0.9531421661376953,
          0.9197452068328857,
          0.9267704486846924,
          0.9453833699226379,
          0.9673660397529602,
          0.9456464052200317,
          0.9362913966178894,
          0.9676756262779236,
          0.936375617980957,
          0.926800549030304,
          0.9589539170265198,
          0.9722723364830017,
          0.8956261873245239,
          0.9527318477630615,
          0.9510960578918457,
          0.9523569345474243,
          0.8875617384910583,
          0.9471678137779236,
          0.9308172464370728,
          0.9387434124946594,
          0.9686675667762756,
          0.9851634502410889,
          0.956019937992096,
          0.9904600381851196,
          0.9775487184524536,
          0.9463990926742554,
          0.9346027374267578,
          0.9534114003181458,
          0.9462096095085144,
          0.9500177502632141,
          0.9422152042388916,
          0.9741141200065613,
          0.9817065000534058,
          0.9265881180763245,
          0.9447533488273621,
          0.9668369889259338,
          0.9359968304634094,
          0.9087213277816772,
          0.9275871515274048,
          0.9295856952667236,
          0.9360249042510986,
          0.9394122362136841,
          0.9335616230964661,
          0.9274495244026184,
          0.9399257898330688,
          0.9132173657417297,
          0.9201379418373108,
          0.9564016461372375,
          0.9503272771835327,
          0.942478358745575,
          0.9482513070106506,
          0.9487653374671936,
          0.943967878818512,
          0.961025059223175,
          0.9215763211250305,
          0.9203639030456543,
          0.9477336406707764,
          0.9469552636146545,
          0.9281902313232422,
          0.9467481374740601,
          0.9334853887557983,
          0.9500253796577454,
          0.9378600716590881,
          0.9217772483825684,
          0.9198100566864014,
          0.9374469518661499,
          0.9306705594062805,
          0.9442912936210632,
          0.9574707746505737,
          0.9525352120399475,
          0.9260171055793762,
          0.9261983633041382,
          0.9523454904556274,
          0.9801189303398132,
          0.9262149333953857,
          0.9145722389221191,
          0.9037227034568787,
          0.9581406116485596,
          0.9019513130187988,
          0.9607035517692566,
          0.9306599497795105,
          0.9419748187065125,
          1.0014560222625732,
          0.9376553297042847,
          0.8849045634269714,
          0.9266934990882874,
          0.9209181666374207,
          0.9843581318855286,
          0.9368816614151001,
          0.9281330704689026,
          0.9634996056556702,
          0.9486202001571655,
          0.9247795939445496,
          0.9490081071853638,
          0.9630951285362244,
          0.9197073578834534,
          0.9241549372673035,
          0.9253385066986084,
          0.9693669676780701,
          0.909844160079956,
          0.9414790272712708,
          0.8846185803413391,
          0.9417086839675903,
          0.906546950340271,
          0.9077414274215698,
          0.9468415975570679,
          0.8967993855476379,
          0.9305596351623535,
          0.9168781638145447,
          0.9580303430557251,
          0.9602894186973572,
          0.9484240412712097,
          0.9429236650466919,
          0.9137380123138428,
          0.9653622508049011,
          0.9264417290687561,
          0.9050748348236084,
          0.909672737121582,
          0.9395117163658142,
          0.9274265766143799,
          0.9061638712882996,
          0.9294015765190125,
          0.9164465665817261,
          0.9478821158409119,
          0.919529914855957,
          0.916572093963623,
          0.9232895374298096,
          0.9387409687042236,
          0.9164093732833862,
          0.9111746549606323,
          0.9432819485664368,
          0.9159947037696838,
          0.9018421769142151,
          0.9168135523796082,
          0.9763700366020203,
          0.9556739330291748,
          0.9164252281188965,
          0.9275961518287659,
          0.9244145750999451,
          0.9387798309326172,
          0.911555826663971,
          0.9277123212814331,
          0.9291073083877563,
          0.9393040537834167,
          0.914695680141449,
          0.9351150393486023,
          0.8750877976417542,
          0.8925616145133972,
          0.9135715961456299,
          0.9308198690414429,
          0.9772459268569946,
          0.9329957962036133,
          0.9381253719329834,
          0.8954633474349976,
          0.9373576641082764,
          0.9246105551719666,
          0.9182316660881042,
          0.9219161868095398,
          0.95623779296875,
          0.895295262336731,
          0.9002920389175415,
          0.9195652008056641,
          0.8981654644012451,
          0.9367448687553406,
          0.9364296793937683,
          0.9027619361877441,
          0.9558470249176025,
          0.9581979513168335,
          0.9170928001403809,
          0.8930310010910034,
          0.9250312447547913,
          0.9332545399665833,
          0.9292390942573547,
          0.9278808236122131,
          0.9351187348365784,
          0.9233211278915405,
          0.9199357628822327,
          0.9294566512107849,
          0.9088660478591919,
          0.9185243248939514,
          0.9344106912612915,
          0.935955822467804,
          0.8869317770004272,
          0.9007353782653809,
          0.8867771625518799,
          0.953245997428894,
          0.9143698811531067,
          0.9295433759689331,
          0.9153572916984558,
          0.9070008993148804,
          0.894783079624176,
          0.9221215844154358,
          0.897430419921875,
          0.9707490801811218,
          0.9422732591629028,
          0.8944016098976135,
          0.9288104772567749,
          0.8897975087165833,
          1.0030715465545654,
          0.9381879568099976,
          0.925449013710022,
          0.9235737919807434,
          0.9063848257064819,
          0.9001599550247192,
          0.9248841404914856,
          0.9254447817802429,
          0.9185507297515869,
          0.8956893086433411,
          0.9146162867546082,
          0.9077908396720886,
          0.9285004734992981,
          0.9121537804603577,
          0.8974911570549011,
          0.9086354374885559,
          0.9161844849586487,
          0.892627477645874,
          0.8478589653968811,
          0.9319502711296082,
          0.9498267769813538,
          0.9000915884971619,
          0.9544650316238403,
          0.913665771484375,
          0.9233263731002808,
          0.9205405712127686,
          0.9134637117385864,
          0.9340217113494873,
          0.9498686790466309,
          1.0457309484481812,
          0.9485120177268982,
          0.9016704559326172,
          0.9254326224327087,
          0.9352684020996094,
          0.8860971927642822,
          0.8946279287338257,
          0.9283995628356934,
          0.8735761642456055,
          0.897711992263794,
          0.9250917434692383,
          0.8966296911239624,
          0.9102721810340881,
          0.912670373916626,
          0.918605625629425,
          0.9127358198165894,
          0.909932553768158,
          0.9002987146377563,
          0.9209074378013611,
          0.938072144985199,
          0.9217062592506409,
          0.9026909470558167,
          0.9461506009101868,
          0.9175602197647095,
          0.9119908809661865,
          0.9271281361579895,
          0.8862003087997437,
          0.9261490702629089,
          0.910774290561676,
          0.9379488825798035,
          0.9066148996353149,
          0.8856222629547119,
          0.8990471363067627,
          0.896115243434906,
          0.9181703329086304,
          0.9167895317077637,
          0.9322046041488647,
          0.9361544847488403,
          0.8907700181007385,
          0.9060601592063904,
          0.9345839619636536,
          0.9034838080406189,
          0.8472147583961487,
          0.9363738894462585,
          0.9393735527992249,
          0.9049371480941772,
          0.9035258889198303,
          0.9210967421531677,
          0.9163705706596375,
          0.9462766647338867,
          0.9214692711830139,
          0.8764417767524719,
          0.9194059371948242,
          0.9119400978088379,
          0.9485521912574768,
          0.9021316766738892,
          0.9253504872322083,
          0.8680827617645264,
          0.9026721715927124,
          0.8794533610343933,
          0.902220606803894,
          0.911496102809906,
          0.8964391946792603,
          0.946235179901123,
          0.9466148614883423,
          0.9131107330322266,
          0.9105135798454285,
          0.8603606820106506,
          0.882379949092865,
          0.8915029764175415,
          0.9333167672157288,
          0.9197285175323486,
          0.9342871308326721,
          0.9109960794448853,
          0.9131221175193787,
          0.9100874066352844,
          0.890467643737793,
          0.9197144508361816,
          0.8923858404159546,
          0.8967711329460144,
          0.90336012840271,
          0.9283203482627869,
          0.9229687452316284,
          0.8959671258926392,
          0.9292463660240173,
          0.9183438420295715,
          0.8828276991844177,
          0.8402329683303833,
          0.9483976364135742,
          0.9241335988044739,
          0.903810441493988,
          0.8846305012702942,
          0.8933244943618774,
          0.8672578930854797,
          0.8990154266357422,
          0.8696802854537964,
          0.939490795135498,
          0.9069405794143677,
          0.9078676104545593,
          0.8772911429405212,
          0.9166391491889954,
          0.9356377124786377,
          0.9003376364707947,
          0.9114679098129272,
          0.9027147889137268,
          0.9286134243011475,
          0.9474449157714844,
          0.9053993225097656,
          0.8828481435775757,
          0.9235122799873352,
          0.8999515175819397,
          0.9240832924842834,
          0.8933694958686829,
          0.8739790916442871,
          0.8935273289680481,
          0.9168380498886108,
          0.9315649271011353,
          0.8741546273231506,
          0.9437351226806641,
          0.9207310676574707,
          0.932887077331543,
          0.9178297519683838,
          0.9380702972412109,
          0.9064845442771912,
          0.9091776013374329,
          0.8839132785797119,
          0.9289988875389099,
          0.8952666521072388,
          0.8786117434501648,
          0.898856520652771,
          0.8779283165931702,
          0.902461051940918,
          0.9297434687614441,
          0.9279635548591614,
          0.9029704332351685,
          0.8927226066589355,
          0.9010127782821655,
          0.9203864336013794,
          0.8937094211578369,
          0.8968404531478882,
          0.9134467840194702,
          0.8801707625389099,
          0.8502202033996582,
          0.8912568688392639,
          0.9070565104484558,
          0.895013689994812,
          0.9083784818649292,
          0.9039547443389893,
          0.9280142188072205,
          0.8755638003349304,
          0.9105057716369629,
          0.8918810486793518,
          0.8519346714019775,
          0.8852327466011047,
          0.8972551226615906,
          0.919169545173645,
          0.883054256439209,
          0.9301952719688416,
          0.9185212850570679,
          0.9128040075302124,
          0.8923511505126953,
          0.9205895066261292,
          0.9069525003433228,
          0.8933520317077637,
          0.9205247759819031,
          0.9205405116081238,
          0.8830116391181946,
          0.8811420798301697,
          0.8330872654914856,
          0.9005153775215149,
          0.9388077259063721,
          0.9083283543586731,
          0.9327864050865173,
          0.9189425706863403,
          0.8536964058876038,
          0.8688355088233948,
          0.8804383277893066,
          0.8760329484939575,
          0.8676334619522095,
          0.8597597479820251,
          0.9115838408470154,
          0.9330925941467285,
          0.8979823589324951,
          0.9046076536178589,
          0.911884069442749,
          0.8989421725273132,
          0.909935712814331,
          0.8795961737632751,
          0.8782777786254883,
          0.8877074122428894,
          0.8987793326377869,
          0.931976854801178,
          0.9399868845939636,
          0.9000611901283264,
          0.8990288376808167,
          0.8932751417160034,
          0.8912788033485413,
          0.9049460291862488,
          0.9078824520111084,
          0.9044610261917114,
          0.9498175382614136,
          0.9167038798332214,
          0.9241847991943359,
          0.8404840230941772,
          0.9156895875930786,
          0.9010508060455322,
          0.902827262878418,
          0.850648045539856,
          0.8894163966178894,
          0.871405839920044,
          0.8953434824943542,
          0.907401442527771,
          0.9027062654495239,
          0.9300879240036011,
          0.9070897102355957,
          0.862027645111084,
          0.9174326062202454,
          0.9242907762527466,
          0.8899306654930115,
          0.8941180109977722,
          0.875270664691925,
          0.8811704516410828,
          0.9072006940841675,
          0.9178656339645386,
          0.8862208127975464,
          0.9077662229537964,
          0.9075197577476501,
          0.9169726967811584,
          0.8742988705635071,
          0.9259033203125,
          0.8928845524787903,
          0.9136601090431213,
          0.8876177072525024,
          0.8917979598045349,
          0.911139190196991,
          0.9159327149391174,
          0.9200423955917358,
          0.8727210760116577,
          0.8822569251060486,
          0.9000774025917053,
          0.84763503074646,
          0.9109579920768738,
          0.9212239384651184,
          0.9015302062034607,
          0.8820837736129761,
          0.8985216021537781,
          0.8845573663711548,
          0.9096840023994446,
          0.8990211486816406,
          0.8829470872879028,
          0.9396843910217285,
          0.8830140233039856,
          0.873927652835846,
          0.9157660603523254,
          0.8912294507026672,
          0.8765257000923157,
          0.9042727947235107,
          0.9086935520172119,
          0.8832314610481262,
          0.916871190071106,
          0.890960693359375,
          0.9052078127861023,
          0.932772696018219,
          0.9173651337623596,
          0.8899906277656555,
          0.8605260848999023,
          0.8895381689071655,
          0.8759747743606567,
          0.9054641127586365,
          0.8915261030197144,
          0.8995310068130493,
          0.914912223815918,
          0.8926443457603455,
          0.8350757956504822,
          0.9014009833335876,
          0.8809417486190796,
          0.894143283367157,
          0.9027458429336548,
          0.9053879976272583,
          0.9196012020111084,
          0.9086035490036011,
          0.8987962603569031,
          0.8820691108703613,
          0.9121437072753906,
          0.8902290463447571,
          0.9078233242034912,
          0.882082462310791,
          0.899786114692688,
          0.8780627846717834,
          0.8972668051719666,
          0.8988811373710632,
          0.9021012187004089,
          0.9062748551368713,
          0.9001820087432861,
          0.9473591446876526,
          0.8870373964309692,
          0.8749014735221863,
          0.904988169670105,
          0.8624929785728455,
          0.8912050724029541,
          0.9365397095680237,
          0.8950851559638977,
          0.8838438987731934,
          0.8875043988227844,
          0.8949240446090698,
          0.869419515132904,
          0.8856204152107239,
          0.8752899765968323,
          0.8858027458190918,
          0.9109893441200256,
          0.8625043630599976,
          0.8745343089103699,
          0.8866488337516785,
          0.8729438185691833,
          0.9077039361000061,
          0.8875629901885986,
          0.9211815595626831,
          0.8733430504798889,
          0.933353841304779,
          1.0209788084030151,
          0.8913037180900574,
          0.8919544219970703,
          0.8605178594589233,
          0.8864304423332214,
          0.8898170590400696,
          0.8629785776138306,
          0.8783025741577148,
          0.8689261674880981,
          0.8944111466407776,
          0.9048710465431213,
          0.8964548707008362,
          0.8788730502128601,
          0.8986060619354248,
          0.8995081186294556,
          0.8983076810836792,
          0.9315581917762756,
          0.9032905697822571,
          0.9055716395378113,
          0.8872383236885071,
          0.8972147107124329,
          0.9012896418571472,
          0.895043671131134,
          0.8980525732040405,
          0.8971586227416992,
          0.9103822112083435,
          0.9151800870895386,
          0.8915619850158691,
          0.8338689208030701,
          0.9688289761543274,
          0.9263831377029419,
          0.9039320945739746,
          0.8783435225486755,
          0.9067473411560059,
          0.8994917869567871,
          0.8714478611946106,
          0.879940927028656,
          0.9216911792755127,
          0.8504095673561096,
          0.8722976446151733,
          0.8953977227210999,
          0.8996025919914246,
          0.9001592397689819,
          0.8947978019714355,
          0.8836613893508911,
          0.9254248738288879,
          0.8737207651138306,
          0.8757122755050659,
          0.871509313583374,
          0.8818754553794861,
          0.8751518130302429,
          0.8632820844650269,
          0.9180487990379333,
          0.8912063837051392,
          0.8930869698524475,
          0.8919434547424316,
          0.8932459354400635,
          0.8901082873344421,
          0.8194562196731567,
          0.884145200252533,
          0.8495054244995117,
          0.8898235559463501,
          0.9072560667991638,
          0.8868756294250488,
          0.8650521636009216,
          0.8854913711547852,
          0.8856208324432373,
          0.9168474078178406,
          0.9130451679229736,
          0.8954124450683594,
          0.8898895382881165,
          0.8852851390838623,
          0.8844871520996094,
          0.8715443015098572,
          0.8885744214057922,
          0.8800865411758423,
          0.8731313943862915,
          0.8700160980224609,
          0.8999729156494141,
          0.8702216148376465,
          0.906333327293396,
          0.8894655704498291,
          0.8785896301269531,
          0.8947449326515198,
          0.9056805372238159,
          0.9247861504554749,
          0.8915563225746155,
          0.891229510307312,
          0.9060043096542358,
          0.8833866119384766,
          0.9009972214698792,
          0.8711797595024109,
          0.8955856561660767,
          0.8914068937301636,
          0.921488881111145,
          0.8779551982879639,
          0.8584402799606323,
          0.8800866007804871,
          0.900971531867981,
          0.8907706141471863,
          0.8765100836753845,
          0.9131788015365601,
          0.8713403344154358,
          0.8650909662246704,
          0.8813165426254272,
          0.8804912567138672,
          0.8805456757545471,
          0.8837177753448486,
          0.905245840549469,
          0.8478168249130249,
          0.9257912039756775,
          0.8973693251609802,
          0.8833500146865845,
          0.8766499161720276,
          0.8779354095458984,
          0.8943817019462585,
          0.8514419794082642,
          0.8892069458961487,
          0.9003769755363464,
          0.8664146065711975,
          0.8574466705322266,
          0.9021474719047546,
          0.8633173108100891,
          0.8792880177497864,
          0.9122754335403442,
          0.9010981917381287,
          0.8839379549026489,
          0.8870018720626831,
          0.8914947509765625,
          0.8876513242721558,
          0.911689043045044,
          0.8772267699241638,
          0.8909631967544556,
          0.8582032918930054,
          0.870868444442749,
          0.856952428817749,
          0.9224061369895935,
          0.8690721392631531,
          0.8705412149429321,
          0.9144856333732605,
          0.8511450886726379,
          0.9009482264518738,
          0.902734637260437,
          0.9204923510551453,
          0.8782857656478882,
          0.8925179839134216,
          0.9106113910675049,
          0.8622077107429504,
          0.868185818195343,
          0.8912681937217712,
          0.9037006497383118,
          0.867808997631073,
          0.8720548152923584,
          0.8582803606987,
          0.9238126873970032,
          0.9148700833320618,
          0.8844023942947388,
          0.9069544076919556,
          0.8978386521339417,
          0.8886046409606934,
          0.8870681524276733,
          0.8703404664993286,
          0.9061617255210876,
          0.8948864936828613,
          0.87828528881073,
          0.884010374546051,
          0.8885235786437988,
          0.8719016909599304,
          0.8791685104370117,
          0.9018027186393738,
          0.8868464827537537,
          0.8881090879440308,
          0.8658457398414612,
          0.885247528553009,
          0.8079894781112671,
          0.8927437663078308,
          0.8904100656509399,
          0.8803911805152893,
          0.8574264049530029,
          0.8966024518013,
          0.8716066479682922,
          0.8466852307319641,
          0.8783760070800781,
          0.8865228891372681,
          0.8613364100456238,
          0.88765949010849,
          0.8991497755050659,
          0.8503597974777222,
          0.8840191960334778,
          0.8895363211631775,
          0.8709250092506409,
          0.880410373210907,
          0.9029072523117065,
          0.8772783279418945,
          0.9005836248397827,
          0.8766987323760986,
          0.8869398832321167,
          0.9039936661720276,
          0.8718426823616028,
          0.9213347434997559,
          0.9227771759033203,
          0.8731066584587097,
          0.8876345753669739,
          0.9121538996696472,
          0.8890825510025024,
          0.8857362866401672,
          0.8656011819839478,
          0.8707168102264404,
          0.9178236126899719,
          0.8982273936271667,
          0.8793347477912903,
          0.8894493579864502,
          0.8756580352783203,
          0.8623215556144714,
          0.883369505405426,
          0.8551739454269409,
          0.90042644739151,
          0.8930788040161133,
          0.9001799821853638,
          0.8988155126571655,
          0.8949477672576904,
          0.8952886462211609,
          0.8618038892745972,
          0.8876827955245972,
          0.8815864324569702,
          0.8935937881469727,
          0.9107387065887451,
          0.8702978491783142,
          0.8652271628379822,
          0.9066515564918518,
          0.8595165610313416,
          0.8429702520370483,
          0.8488144874572754,
          0.9091457724571228,
          0.8852287530899048,
          0.8772681355476379,
          0.8917666673660278,
          0.864678144454956,
          0.8911407589912415,
          0.8538782596588135,
          0.8700968027114868,
          0.8825977444648743,
          0.8795115351676941,
          0.9155073165893555,
          0.859459400177002,
          0.8630177974700928,
          0.911714494228363,
          0.8822458386421204,
          0.8878564238548279,
          0.8919624090194702,
          0.8779054284095764,
          0.9051122069358826,
          0.8578467965126038,
          0.8855699896812439,
          0.8807733654975891,
          0.856648862361908,
          0.9008500576019287,
          0.8473154902458191,
          0.9029942750930786,
          0.8845693469047546,
          0.8704211115837097,
          0.8500163555145264,
          0.9056081175804138,
          0.8433074951171875,
          0.8772299885749817,
          0.8409990668296814,
          0.8673352003097534,
          0.9000011682510376,
          0.8709071278572083,
          0.8825468420982361,
          0.8944675922393799,
          0.8642168641090393,
          0.8791417479515076,
          0.8987242579460144,
          0.8629204034805298,
          0.8521602153778076,
          0.9247797727584839,
          0.8584728837013245,
          0.8765071034431458,
          0.8949068188667297,
          0.8752341866493225,
          0.8813000917434692,
          0.8767186999320984,
          0.8677827715873718,
          0.9094278812408447,
          0.888830840587616,
          0.9011786580085754,
          0.8966963887214661,
          0.875506579875946,
          0.9036073684692383,
          0.8670142292976379,
          0.8809381723403931,
          0.9140234589576721,
          0.8758072853088379,
          0.8792199492454529,
          0.8887497782707214,
          0.9053177833557129,
          0.8378362059593201,
          0.8672621846199036,
          0.8473753929138184,
          0.8640952706336975,
          0.8802599906921387,
          0.8630668520927429,
          0.8803609609603882,
          0.8760778307914734,
          0.907742977142334,
          0.8745918273925781,
          0.8976842164993286,
          0.915284276008606,
          0.8722734451293945,
          0.8701966404914856,
          0.8832756280899048,
          0.9122073650360107,
          0.8797838091850281,
          0.8800747394561768,
          0.8821853399276733,
          0.8442168235778809,
          0.893342137336731,
          0.8783092498779297,
          0.9225299954414368,
          0.9083150029182434,
          0.8826870322227478,
          0.9117995500564575,
          0.8804313540458679,
          0.8701475262641907,
          0.8767651915550232,
          0.8806224465370178,
          0.8380475044250488,
          0.8347128629684448,
          0.903162956237793,
          0.8597865104675293,
          0.8731287717819214,
          0.8711937665939331,
          0.907565176486969,
          0.8849772810935974,
          0.9307031631469727,
          0.9005652070045471,
          0.9012916088104248,
          0.8580284118652344,
          0.8390554785728455,
          0.8878120183944702,
          0.858391284942627,
          0.9076431393623352,
          0.8594591021537781,
          0.8562836647033691,
          0.8787304759025574,
          0.8818250298500061,
          0.8943644762039185,
          0.8539040088653564,
          0.8625675439834595,
          0.8349336981773376,
          0.9011774063110352,
          0.8449947237968445,
          0.864330530166626,
          0.8994672894477844,
          0.8886351585388184,
          0.8962587118148804,
          0.9138054251670837,
          0.8713579773902893,
          0.8798956871032715,
          0.8978773951530457,
          0.8673145771026611,
          0.9133487939834595,
          0.8737563490867615,
          0.8565975427627563,
          0.895871102809906,
          0.8101524710655212,
          0.8633514642715454,
          0.9029687643051147,
          0.9013814330101013,
          0.8630363345146179,
          0.8641805052757263,
          0.8836707472801208,
          0.8912060856819153,
          0.9140104651451111,
          0.881044328212738,
          0.8825929760932922,
          0.8466437458992004
         ],
         "yaxis": "y"
        }
       ],
       "layout": {
        "legend": {
         "title": {
          "text": "variable"
         },
         "tracegroupgap": 0
        },
        "template": {
         "data": {
          "bar": [
           {
            "error_x": {
             "color": "#2a3f5f"
            },
            "error_y": {
             "color": "#2a3f5f"
            },
            "marker": {
             "line": {
              "color": "#E5ECF6",
              "width": 0.5
             },
             "pattern": {
              "fillmode": "overlay",
              "size": 10,
              "solidity": 0.2
             }
            },
            "type": "bar"
           }
          ],
          "barpolar": [
           {
            "marker": {
             "line": {
              "color": "#E5ECF6",
              "width": 0.5
             },
             "pattern": {
              "fillmode": "overlay",
              "size": 10,
              "solidity": 0.2
             }
            },
            "type": "barpolar"
           }
          ],
          "carpet": [
           {
            "aaxis": {
             "endlinecolor": "#2a3f5f",
             "gridcolor": "white",
             "linecolor": "white",
             "minorgridcolor": "white",
             "startlinecolor": "#2a3f5f"
            },
            "baxis": {
             "endlinecolor": "#2a3f5f",
             "gridcolor": "white",
             "linecolor": "white",
             "minorgridcolor": "white",
             "startlinecolor": "#2a3f5f"
            },
            "type": "carpet"
           }
          ],
          "choropleth": [
           {
            "colorbar": {
             "outlinewidth": 0,
             "ticks": ""
            },
            "type": "choropleth"
           }
          ],
          "contour": [
           {
            "colorbar": {
             "outlinewidth": 0,
             "ticks": ""
            },
            "colorscale": [
             [
              0,
              "#0d0887"
             ],
             [
              0.1111111111111111,
              "#46039f"
             ],
             [
              0.2222222222222222,
              "#7201a8"
             ],
             [
              0.3333333333333333,
              "#9c179e"
             ],
             [
              0.4444444444444444,
              "#bd3786"
             ],
             [
              0.5555555555555556,
              "#d8576b"
             ],
             [
              0.6666666666666666,
              "#ed7953"
             ],
             [
              0.7777777777777778,
              "#fb9f3a"
             ],
             [
              0.8888888888888888,
              "#fdca26"
             ],
             [
              1,
              "#f0f921"
             ]
            ],
            "type": "contour"
           }
          ],
          "contourcarpet": [
           {
            "colorbar": {
             "outlinewidth": 0,
             "ticks": ""
            },
            "type": "contourcarpet"
           }
          ],
          "heatmap": [
           {
            "colorbar": {
             "outlinewidth": 0,
             "ticks": ""
            },
            "colorscale": [
             [
              0,
              "#0d0887"
             ],
             [
              0.1111111111111111,
              "#46039f"
             ],
             [
              0.2222222222222222,
              "#7201a8"
             ],
             [
              0.3333333333333333,
              "#9c179e"
             ],
             [
              0.4444444444444444,
              "#bd3786"
             ],
             [
              0.5555555555555556,
              "#d8576b"
             ],
             [
              0.6666666666666666,
              "#ed7953"
             ],
             [
              0.7777777777777778,
              "#fb9f3a"
             ],
             [
              0.8888888888888888,
              "#fdca26"
             ],
             [
              1,
              "#f0f921"
             ]
            ],
            "type": "heatmap"
           }
          ],
          "heatmapgl": [
           {
            "colorbar": {
             "outlinewidth": 0,
             "ticks": ""
            },
            "colorscale": [
             [
              0,
              "#0d0887"
             ],
             [
              0.1111111111111111,
              "#46039f"
             ],
             [
              0.2222222222222222,
              "#7201a8"
             ],
             [
              0.3333333333333333,
              "#9c179e"
             ],
             [
              0.4444444444444444,
              "#bd3786"
             ],
             [
              0.5555555555555556,
              "#d8576b"
             ],
             [
              0.6666666666666666,
              "#ed7953"
             ],
             [
              0.7777777777777778,
              "#fb9f3a"
             ],
             [
              0.8888888888888888,
              "#fdca26"
             ],
             [
              1,
              "#f0f921"
             ]
            ],
            "type": "heatmapgl"
           }
          ],
          "histogram": [
           {
            "marker": {
             "pattern": {
              "fillmode": "overlay",
              "size": 10,
              "solidity": 0.2
             }
            },
            "type": "histogram"
           }
          ],
          "histogram2d": [
           {
            "colorbar": {
             "outlinewidth": 0,
             "ticks": ""
            },
            "colorscale": [
             [
              0,
              "#0d0887"
             ],
             [
              0.1111111111111111,
              "#46039f"
             ],
             [
              0.2222222222222222,
              "#7201a8"
             ],
             [
              0.3333333333333333,
              "#9c179e"
             ],
             [
              0.4444444444444444,
              "#bd3786"
             ],
             [
              0.5555555555555556,
              "#d8576b"
             ],
             [
              0.6666666666666666,
              "#ed7953"
             ],
             [
              0.7777777777777778,
              "#fb9f3a"
             ],
             [
              0.8888888888888888,
              "#fdca26"
             ],
             [
              1,
              "#f0f921"
             ]
            ],
            "type": "histogram2d"
           }
          ],
          "histogram2dcontour": [
           {
            "colorbar": {
             "outlinewidth": 0,
             "ticks": ""
            },
            "colorscale": [
             [
              0,
              "#0d0887"
             ],
             [
              0.1111111111111111,
              "#46039f"
             ],
             [
              0.2222222222222222,
              "#7201a8"
             ],
             [
              0.3333333333333333,
              "#9c179e"
             ],
             [
              0.4444444444444444,
              "#bd3786"
             ],
             [
              0.5555555555555556,
              "#d8576b"
             ],
             [
              0.6666666666666666,
              "#ed7953"
             ],
             [
              0.7777777777777778,
              "#fb9f3a"
             ],
             [
              0.8888888888888888,
              "#fdca26"
             ],
             [
              1,
              "#f0f921"
             ]
            ],
            "type": "histogram2dcontour"
           }
          ],
          "mesh3d": [
           {
            "colorbar": {
             "outlinewidth": 0,
             "ticks": ""
            },
            "type": "mesh3d"
           }
          ],
          "parcoords": [
           {
            "line": {
             "colorbar": {
              "outlinewidth": 0,
              "ticks": ""
             }
            },
            "type": "parcoords"
           }
          ],
          "pie": [
           {
            "automargin": true,
            "type": "pie"
           }
          ],
          "scatter": [
           {
            "fillpattern": {
             "fillmode": "overlay",
             "size": 10,
             "solidity": 0.2
            },
            "type": "scatter"
           }
          ],
          "scatter3d": [
           {
            "line": {
             "colorbar": {
              "outlinewidth": 0,
              "ticks": ""
             }
            },
            "marker": {
             "colorbar": {
              "outlinewidth": 0,
              "ticks": ""
             }
            },
            "type": "scatter3d"
           }
          ],
          "scattercarpet": [
           {
            "marker": {
             "colorbar": {
              "outlinewidth": 0,
              "ticks": ""
             }
            },
            "type": "scattercarpet"
           }
          ],
          "scattergeo": [
           {
            "marker": {
             "colorbar": {
              "outlinewidth": 0,
              "ticks": ""
             }
            },
            "type": "scattergeo"
           }
          ],
          "scattergl": [
           {
            "marker": {
             "colorbar": {
              "outlinewidth": 0,
              "ticks": ""
             }
            },
            "type": "scattergl"
           }
          ],
          "scattermapbox": [
           {
            "marker": {
             "colorbar": {
              "outlinewidth": 0,
              "ticks": ""
             }
            },
            "type": "scattermapbox"
           }
          ],
          "scatterpolar": [
           {
            "marker": {
             "colorbar": {
              "outlinewidth": 0,
              "ticks": ""
             }
            },
            "type": "scatterpolar"
           }
          ],
          "scatterpolargl": [
           {
            "marker": {
             "colorbar": {
              "outlinewidth": 0,
              "ticks": ""
             }
            },
            "type": "scatterpolargl"
           }
          ],
          "scatterternary": [
           {
            "marker": {
             "colorbar": {
              "outlinewidth": 0,
              "ticks": ""
             }
            },
            "type": "scatterternary"
           }
          ],
          "surface": [
           {
            "colorbar": {
             "outlinewidth": 0,
             "ticks": ""
            },
            "colorscale": [
             [
              0,
              "#0d0887"
             ],
             [
              0.1111111111111111,
              "#46039f"
             ],
             [
              0.2222222222222222,
              "#7201a8"
             ],
             [
              0.3333333333333333,
              "#9c179e"
             ],
             [
              0.4444444444444444,
              "#bd3786"
             ],
             [
              0.5555555555555556,
              "#d8576b"
             ],
             [
              0.6666666666666666,
              "#ed7953"
             ],
             [
              0.7777777777777778,
              "#fb9f3a"
             ],
             [
              0.8888888888888888,
              "#fdca26"
             ],
             [
              1,
              "#f0f921"
             ]
            ],
            "type": "surface"
           }
          ],
          "table": [
           {
            "cells": {
             "fill": {
              "color": "#EBF0F8"
             },
             "line": {
              "color": "white"
             }
            },
            "header": {
             "fill": {
              "color": "#C8D4E3"
             },
             "line": {
              "color": "white"
             }
            },
            "type": "table"
           }
          ]
         },
         "layout": {
          "annotationdefaults": {
           "arrowcolor": "#2a3f5f",
           "arrowhead": 0,
           "arrowwidth": 1
          },
          "autotypenumbers": "strict",
          "coloraxis": {
           "colorbar": {
            "outlinewidth": 0,
            "ticks": ""
           }
          },
          "colorscale": {
           "diverging": [
            [
             0,
             "#8e0152"
            ],
            [
             0.1,
             "#c51b7d"
            ],
            [
             0.2,
             "#de77ae"
            ],
            [
             0.3,
             "#f1b6da"
            ],
            [
             0.4,
             "#fde0ef"
            ],
            [
             0.5,
             "#f7f7f7"
            ],
            [
             0.6,
             "#e6f5d0"
            ],
            [
             0.7,
             "#b8e186"
            ],
            [
             0.8,
             "#7fbc41"
            ],
            [
             0.9,
             "#4d9221"
            ],
            [
             1,
             "#276419"
            ]
           ],
           "sequential": [
            [
             0,
             "#0d0887"
            ],
            [
             0.1111111111111111,
             "#46039f"
            ],
            [
             0.2222222222222222,
             "#7201a8"
            ],
            [
             0.3333333333333333,
             "#9c179e"
            ],
            [
             0.4444444444444444,
             "#bd3786"
            ],
            [
             0.5555555555555556,
             "#d8576b"
            ],
            [
             0.6666666666666666,
             "#ed7953"
            ],
            [
             0.7777777777777778,
             "#fb9f3a"
            ],
            [
             0.8888888888888888,
             "#fdca26"
            ],
            [
             1,
             "#f0f921"
            ]
           ],
           "sequentialminus": [
            [
             0,
             "#0d0887"
            ],
            [
             0.1111111111111111,
             "#46039f"
            ],
            [
             0.2222222222222222,
             "#7201a8"
            ],
            [
             0.3333333333333333,
             "#9c179e"
            ],
            [
             0.4444444444444444,
             "#bd3786"
            ],
            [
             0.5555555555555556,
             "#d8576b"
            ],
            [
             0.6666666666666666,
             "#ed7953"
            ],
            [
             0.7777777777777778,
             "#fb9f3a"
            ],
            [
             0.8888888888888888,
             "#fdca26"
            ],
            [
             1,
             "#f0f921"
            ]
           ]
          },
          "colorway": [
           "#636efa",
           "#EF553B",
           "#00cc96",
           "#ab63fa",
           "#FFA15A",
           "#19d3f3",
           "#FF6692",
           "#B6E880",
           "#FF97FF",
           "#FECB52"
          ],
          "font": {
           "color": "#2a3f5f"
          },
          "geo": {
           "bgcolor": "white",
           "lakecolor": "white",
           "landcolor": "#E5ECF6",
           "showlakes": true,
           "showland": true,
           "subunitcolor": "white"
          },
          "hoverlabel": {
           "align": "left"
          },
          "hovermode": "closest",
          "mapbox": {
           "style": "light"
          },
          "paper_bgcolor": "white",
          "plot_bgcolor": "#E5ECF6",
          "polar": {
           "angularaxis": {
            "gridcolor": "white",
            "linecolor": "white",
            "ticks": ""
           },
           "bgcolor": "#E5ECF6",
           "radialaxis": {
            "gridcolor": "white",
            "linecolor": "white",
            "ticks": ""
           }
          },
          "scene": {
           "xaxis": {
            "backgroundcolor": "#E5ECF6",
            "gridcolor": "white",
            "gridwidth": 2,
            "linecolor": "white",
            "showbackground": true,
            "ticks": "",
            "zerolinecolor": "white"
           },
           "yaxis": {
            "backgroundcolor": "#E5ECF6",
            "gridcolor": "white",
            "gridwidth": 2,
            "linecolor": "white",
            "showbackground": true,
            "ticks": "",
            "zerolinecolor": "white"
           },
           "zaxis": {
            "backgroundcolor": "#E5ECF6",
            "gridcolor": "white",
            "gridwidth": 2,
            "linecolor": "white",
            "showbackground": true,
            "ticks": "",
            "zerolinecolor": "white"
           }
          },
          "shapedefaults": {
           "line": {
            "color": "#2a3f5f"
           }
          },
          "ternary": {
           "aaxis": {
            "gridcolor": "white",
            "linecolor": "white",
            "ticks": ""
           },
           "baxis": {
            "gridcolor": "white",
            "linecolor": "white",
            "ticks": ""
           },
           "bgcolor": "#E5ECF6",
           "caxis": {
            "gridcolor": "white",
            "linecolor": "white",
            "ticks": ""
           }
          },
          "title": {
           "x": 0.05
          },
          "xaxis": {
           "automargin": true,
           "gridcolor": "white",
           "linecolor": "white",
           "ticks": "",
           "title": {
            "standoff": 15
           },
           "zerolinecolor": "white",
           "zerolinewidth": 2
          },
          "yaxis": {
           "automargin": true,
           "gridcolor": "white",
           "linecolor": "white",
           "ticks": "",
           "title": {
            "standoff": 15
           },
           "zerolinecolor": "white",
           "zerolinewidth": 2
          }
         }
        },
        "title": {
         "text": "Training Loss"
        },
        "xaxis": {
         "anchor": "y",
         "domain": [
          0,
          1
         ],
         "title": {
          "text": "index"
         }
        },
        "yaxis": {
         "anchor": "x",
         "domain": [
          0,
          1
         ],
         "title": {
          "text": "value"
         }
        }
       }
      }
     },
     "metadata": {},
     "output_type": "display_data"
    }
   ],
   "source": [
    "# Plotly line plot of training losses\n",
    "fig = px.line(train_losses, labels={'x': 'Iteration', 'y': 'Loss'}, title='Training Loss')\n",
    "fig.show()"
   ]
  },
  {
   "cell_type": "code",
   "execution_count": 81,
   "metadata": {},
   "outputs": [
    {
     "data": {
      "text/plain": [
       "torch.Size([1000, 200])"
      ]
     },
     "execution_count": 81,
     "metadata": {},
     "output_type": "execute_result"
    }
   ],
   "source": [
    "trajectories_tensor.shape"
   ]
  },
  {
   "cell_type": "code",
   "execution_count": 107,
   "metadata": {},
   "outputs": [],
   "source": [
    "# Get a random batch from the test loader\n",
    "tokens, probs = next(iter(test_loader))\n",
    "rand_idx = random.randint(0, len(tokens) - 1)\n",
    "tokens = tokens[rand_idx, :].unsqueeze(0)\n",
    "probs = probs[rand_idx, :]"
   ]
  },
  {
   "cell_type": "code",
   "execution_count": 108,
   "metadata": {},
   "outputs": [
    {
     "data": {
      "text/plain": [
       "(tensor([[10,  0,  2,  0,  2,  1, 10,  0,  2,  0,  7,  0, 11,  1, 11,  0,  8,  1,\n",
       "           8,  1,  8,  1,  8,  1,  8,  1,  8,  1,  8,  1,  3,  0,  8,  1,  3,  0,\n",
       "           8,  0,  8,  1,  8,  1,  8,  0,  8,  1,  8,  1,  8,  1,  8,  1,  8,  1,\n",
       "           8,  1,  8,  1,  2,  0,  8,  1,  8,  1,  8,  1,  8,  1,  4,  1,  4,  0,\n",
       "           8,  0,  8,  1,  8,  1,  8,  1,  8,  1,  8,  1,  8,  1, 10,  0,  8,  1,\n",
       "           8,  1,  8,  1,  8,  1,  8,  1, 10,  0,  8,  1,  8,  1,  4,  0,  8,  1,\n",
       "           8,  0, 10,  0,  8,  1,  8,  1,  8,  1, 11,  0, 11,  0,  8,  0,  8,  1,\n",
       "           8,  1,  8,  1,  8,  1,  8,  1,  8,  1,  8,  1,  7,  0,  8,  1,  8,  1,\n",
       "           8,  1,  8,  0,  8,  1,  8,  0,  8,  1,  8,  1,  8,  0,  8,  1,  8,  1,\n",
       "           6,  1,  6,  0,  8,  1,  8,  1,  8,  1,  8,  1, 11,  1,  8,  1,  8,  1,\n",
       "           8,  1, 11,  0,  8,  1,  8,  1,  8,  0,  8,  1,  8,  0,  2,  0,  8,  1,\n",
       "           4,  1]]),\n",
       " tensor([0.1000, 0.1000, 0.9000, 0.1000, 0.1000, 0.1000, 0.9000, 0.1000, 0.1000,\n",
       "         0.1000], dtype=torch.float64))"
      ]
     },
     "execution_count": 108,
     "metadata": {},
     "output_type": "execute_result"
    }
   ],
   "source": [
    "tokens, probs"
   ]
  },
  {
   "cell_type": "code",
   "execution_count": 113,
   "metadata": {},
   "outputs": [
    {
     "name": "stdout",
     "output_type": "stream",
     "text": [
      "Tokens = tensor([[10]]), Start = tensor([[10]])\n",
      "Predicted: 0 True: 0, Predicted with start: 0\n",
      "\n",
      "Tokens = tensor([[10,  0]]), Start = tensor([[10,  0]])\n",
      "Predicted: 10 True: 2, Predicted with start: 10\n",
      "\n",
      "Tokens = tensor([[10,  0,  2]]), Start = tensor([[10,  0, 10]])\n",
      "Predicted: 0 True: 0, Predicted with start: 0\n",
      "\n",
      "Tokens = tensor([[10,  0,  2,  0]]), Start = tensor([[10,  0, 10,  0]])\n",
      "Predicted: 2 True: 2, Predicted with start: 10\n",
      "\n",
      "Tokens = tensor([[10,  0,  2,  0,  2]]), Start = tensor([[10,  0, 10,  0,  2]])\n",
      "Predicted: 0 True: 1, Predicted with start: 0\n",
      "\n",
      "Tokens = tensor([[10,  0,  2,  0,  2,  1]]), Start = tensor([[10,  0, 10,  0,  2,  0]])\n",
      "Predicted: 2 True: 10, Predicted with start: 2\n",
      "\n",
      "Tokens = tensor([[10,  0,  2,  0,  2,  1, 10]]), Start = tensor([[10,  0, 10,  0,  2,  0,  2]])\n",
      "Predicted: 0 True: 0, Predicted with start: 0\n",
      "\n",
      "Tokens = tensor([[10,  0,  2,  0,  2,  1, 10,  0]]), Start = tensor([[10,  0, 10,  0,  2,  0,  2,  0]])\n",
      "Predicted: 2 True: 2, Predicted with start: 2\n",
      "\n",
      "Tokens = tensor([[10,  0,  2,  0,  2,  1, 10,  0,  2]]), Start = tensor([[10,  0, 10,  0,  2,  0,  2,  0,  2]])\n",
      "Predicted: 0 True: 0, Predicted with start: 0\n",
      "\n",
      "Tokens = tensor([[10,  0,  2,  0,  2,  1, 10,  0,  2,  0]]), Start = tensor([[10,  0, 10,  0,  2,  0,  2,  0,  2,  0]])\n",
      "Predicted: 2 True: 7, Predicted with start: 2\n",
      "\n",
      "Tokens = tensor([[10,  0,  2,  0,  2,  1, 10,  0,  2,  0,  7]]), Start = tensor([[10,  0, 10,  0,  2,  0,  2,  0,  2,  0,  2]])\n",
      "Predicted: 0 True: 0, Predicted with start: 0\n",
      "\n",
      "Tokens = tensor([[10,  0,  2,  0,  2,  1, 10,  0,  2,  0,  7,  0]]), Start = tensor([[10,  0, 10,  0,  2,  0,  2,  0,  2,  0,  2,  0]])\n",
      "Predicted: 2 True: 11, Predicted with start: 2\n",
      "\n",
      "Tokens = tensor([[10,  0,  2,  0,  2,  1, 10,  0,  2,  0,  7,  0, 11]]), Start = tensor([[10,  0, 10,  0,  2,  0,  2,  0,  2,  0,  2,  0,  2]])\n",
      "Predicted: 0 True: 1, Predicted with start: 0\n",
      "\n",
      "Tokens = tensor([[10,  0,  2,  0,  2,  1, 10,  0,  2,  0,  7,  0, 11,  1]]), Start = tensor([[10,  0, 10,  0,  2,  0,  2,  0,  2,  0,  2,  0,  2,  1]])\n",
      "Predicted: 2 True: 11, Predicted with start: 2\n",
      "\n",
      "Tokens = tensor([[10,  0,  2,  0,  2,  1, 10,  0,  2,  0,  7,  0, 11,  1, 11]]), Start = tensor([[10,  0, 10,  0,  2,  0,  2,  0,  2,  0,  2,  0,  2,  1,  2]])\n",
      "Predicted: 0 True: 0, Predicted with start: 0\n",
      "\n",
      "Tokens = tensor([[10,  0,  2,  0,  2,  1, 10,  0,  2,  0,  7,  0, 11,  1, 11,  0]]), Start = tensor([[10,  0, 10,  0,  2,  0,  2,  0,  2,  0,  2,  0,  2,  1,  2,  0]])\n",
      "Predicted: 11 True: 8, Predicted with start: 2\n",
      "\n",
      "Tokens = tensor([[10,  0,  2,  0,  2,  1, 10,  0,  2,  0,  7,  0, 11,  1, 11,  0,  8]]), Start = tensor([[10,  0, 10,  0,  2,  0,  2,  0,  2,  0,  2,  0,  2,  1,  2,  0, 11]])\n",
      "Predicted: 0 True: 1, Predicted with start: 0\n",
      "\n",
      "Tokens = tensor([[10,  0,  2,  0,  2,  1, 10,  0,  2,  0,  7,  0, 11,  1, 11,  0,  8,  1]]), Start = tensor([[10,  0, 10,  0,  2,  0,  2,  0,  2,  0,  2,  0,  2,  1,  2,  0, 11,  0]])\n",
      "Predicted: 11 True: 8, Predicted with start: 2\n",
      "\n",
      "Tokens = tensor([[10,  0,  2,  0,  2,  1, 10,  0,  2,  0,  7,  0, 11,  1, 11,  0,  8,  1,\n",
      "          8]]), Start = tensor([[10,  0, 10,  0,  2,  0,  2,  0,  2,  0,  2,  0,  2,  1,  2,  0, 11,  0,\n",
      "         11]])\n",
      "Predicted: 0 True: 1, Predicted with start: 0\n",
      "\n",
      "Tokens = tensor([[10,  0,  2,  0,  2,  1, 10,  0,  2,  0,  7,  0, 11,  1, 11,  0,  8,  1,\n",
      "          8,  1]]), Start = tensor([[10,  0, 10,  0,  2,  0,  2,  0,  2,  0,  2,  0,  2,  1,  2,  0, 11,  0,\n",
      "         11,  1]])\n",
      "Predicted: 8 True: 8, Predicted with start: 11\n",
      "\n",
      "Tokens = tensor([[10,  0,  2,  0,  2,  1, 10,  0,  2,  0,  7,  0, 11,  1, 11,  0,  8,  1,\n",
      "          8,  1,  8]]), Start = tensor([[10,  0, 10,  0,  2,  0,  2,  0,  2,  0,  2,  0,  2,  1,  2,  0, 11,  0,\n",
      "         11,  1,  8]])\n",
      "Predicted: 1 True: 1, Predicted with start: 0\n",
      "\n",
      "Tokens = tensor([[10,  0,  2,  0,  2,  1, 10,  0,  2,  0,  7,  0, 11,  1, 11,  0,  8,  1,\n",
      "          8,  1,  8,  1]]), Start = tensor([[10,  0, 10,  0,  2,  0,  2,  0,  2,  0,  2,  0,  2,  1,  2,  0, 11,  0,\n",
      "         11,  1,  8,  1]])\n",
      "Predicted: 8 True: 8, Predicted with start: 11\n",
      "\n",
      "Tokens = tensor([[10,  0,  2,  0,  2,  1, 10,  0,  2,  0,  7,  0, 11,  1, 11,  0,  8,  1,\n",
      "          8,  1,  8,  1,  8]]), Start = tensor([[10,  0, 10,  0,  2,  0,  2,  0,  2,  0,  2,  0,  2,  1,  2,  0, 11,  0,\n",
      "         11,  1,  8,  1,  8]])\n",
      "Predicted: 1 True: 1, Predicted with start: 1\n",
      "\n",
      "Tokens = tensor([[10,  0,  2,  0,  2,  1, 10,  0,  2,  0,  7,  0, 11,  1, 11,  0,  8,  1,\n",
      "          8,  1,  8,  1,  8,  1]]), Start = tensor([[10,  0, 10,  0,  2,  0,  2,  0,  2,  0,  2,  0,  2,  1,  2,  0, 11,  0,\n",
      "         11,  1,  8,  1,  8,  1]])\n",
      "Predicted: 8 True: 8, Predicted with start: 8\n",
      "\n",
      "Tokens = tensor([[10,  0,  2,  0,  2,  1, 10,  0,  2,  0,  7,  0, 11,  1, 11,  0,  8,  1,\n",
      "          8,  1,  8,  1,  8,  1,  8]]), Start = tensor([[10,  0, 10,  0,  2,  0,  2,  0,  2,  0,  2,  0,  2,  1,  2,  0, 11,  0,\n",
      "         11,  1,  8,  1,  8,  1,  8]])\n",
      "Predicted: 1 True: 1, Predicted with start: 0\n",
      "\n",
      "Tokens = tensor([[10,  0,  2,  0,  2,  1, 10,  0,  2,  0,  7,  0, 11,  1, 11,  0,  8,  1,\n",
      "          8,  1,  8,  1,  8,  1,  8,  1]]), Start = tensor([[10,  0, 10,  0,  2,  0,  2,  0,  2,  0,  2,  0,  2,  1,  2,  0, 11,  0,\n",
      "         11,  1,  8,  1,  8,  1,  8,  1]])\n",
      "Predicted: 8 True: 8, Predicted with start: 8\n",
      "\n",
      "Tokens = tensor([[10,  0,  2,  0,  2,  1, 10,  0,  2,  0,  7,  0, 11,  1, 11,  0,  8,  1,\n",
      "          8,  1,  8,  1,  8,  1,  8,  1,  8]]), Start = tensor([[10,  0, 10,  0,  2,  0,  2,  0,  2,  0,  2,  0,  2,  1,  2,  0, 11,  0,\n",
      "         11,  1,  8,  1,  8,  1,  8,  1,  8]])\n",
      "Predicted: 1 True: 1, Predicted with start: 1\n",
      "\n",
      "Tokens = tensor([[10,  0,  2,  0,  2,  1, 10,  0,  2,  0,  7,  0, 11,  1, 11,  0,  8,  1,\n",
      "          8,  1,  8,  1,  8,  1,  8,  1,  8,  1]]), Start = tensor([[10,  0, 10,  0,  2,  0,  2,  0,  2,  0,  2,  0,  2,  1,  2,  0, 11,  0,\n",
      "         11,  1,  8,  1,  8,  1,  8,  1,  8,  0]])\n",
      "Predicted: 8 True: 8, Predicted with start: 8\n",
      "\n",
      "Tokens = tensor([[10,  0,  2,  0,  2,  1, 10,  0,  2,  0,  7,  0, 11,  1, 11,  0,  8,  1,\n",
      "          8,  1,  8,  1,  8,  1,  8,  1,  8,  1,  8]]), Start = tensor([[10,  0, 10,  0,  2,  0,  2,  0,  2,  0,  2,  0,  2,  1,  2,  0, 11,  0,\n",
      "         11,  1,  8,  1,  8,  1,  8,  1,  8,  0,  8]])\n",
      "Predicted: 1 True: 1, Predicted with start: 1\n",
      "\n",
      "Tokens = tensor([[10,  0,  2,  0,  2,  1, 10,  0,  2,  0,  7,  0, 11,  1, 11,  0,  8,  1,\n",
      "          8,  1,  8,  1,  8,  1,  8,  1,  8,  1,  8,  1]]), Start = tensor([[10,  0, 10,  0,  2,  0,  2,  0,  2,  0,  2,  0,  2,  1,  2,  0, 11,  0,\n",
      "         11,  1,  8,  1,  8,  1,  8,  1,  8,  0,  8,  1]])\n",
      "Predicted: 8 True: 3, Predicted with start: 8\n",
      "\n",
      "Tokens = tensor([[10,  0,  2,  0,  2,  1, 10,  0,  2,  0,  7,  0, 11,  1, 11,  0,  8,  1,\n",
      "          8,  1,  8,  1,  8,  1,  8,  1,  8,  1,  8,  1,  3]]), Start = tensor([[10,  0, 10,  0,  2,  0,  2,  0,  2,  0,  2,  0,  2,  1,  2,  0, 11,  0,\n",
      "         11,  1,  8,  1,  8,  1,  8,  1,  8,  0,  8,  1,  8]])\n",
      "Predicted: 0 True: 0, Predicted with start: 1\n",
      "\n",
      "Tokens = tensor([[10,  0,  2,  0,  2,  1, 10,  0,  2,  0,  7,  0, 11,  1, 11,  0,  8,  1,\n",
      "          8,  1,  8,  1,  8,  1,  8,  1,  8,  1,  8,  1,  3,  0]]), Start = tensor([[10,  0, 10,  0,  2,  0,  2,  0,  2,  0,  2,  0,  2,  1,  2,  0, 11,  0,\n",
      "         11,  1,  8,  1,  8,  1,  8,  1,  8,  0,  8,  1,  8,  1]])\n",
      "Predicted: 8 True: 8, Predicted with start: 8\n",
      "\n",
      "Tokens = tensor([[10,  0,  2,  0,  2,  1, 10,  0,  2,  0,  7,  0, 11,  1, 11,  0,  8,  1,\n",
      "          8,  1,  8,  1,  8,  1,  8,  1,  8,  1,  8,  1,  3,  0,  8]]), Start = tensor([[10,  0, 10,  0,  2,  0,  2,  0,  2,  0,  2,  0,  2,  1,  2,  0, 11,  0,\n",
      "         11,  1,  8,  1,  8,  1,  8,  1,  8,  0,  8,  1,  8,  1,  8]])\n",
      "Predicted: 1 True: 1, Predicted with start: 1\n",
      "\n",
      "Tokens = tensor([[10,  0,  2,  0,  2,  1, 10,  0,  2,  0,  7,  0, 11,  1, 11,  0,  8,  1,\n",
      "          8,  1,  8,  1,  8,  1,  8,  1,  8,  1,  8,  1,  3,  0,  8,  1]]), Start = tensor([[10,  0, 10,  0,  2,  0,  2,  0,  2,  0,  2,  0,  2,  1,  2,  0, 11,  0,\n",
      "         11,  1,  8,  1,  8,  1,  8,  1,  8,  0,  8,  1,  8,  1,  8,  1]])\n",
      "Predicted: 8 True: 3, Predicted with start: 8\n",
      "\n",
      "Tokens = tensor([[10,  0,  2,  0,  2,  1, 10,  0,  2,  0,  7,  0, 11,  1, 11,  0,  8,  1,\n",
      "          8,  1,  8,  1,  8,  1,  8,  1,  8,  1,  8,  1,  3,  0,  8,  1,  3]]), Start = tensor([[10,  0, 10,  0,  2,  0,  2,  0,  2,  0,  2,  0,  2,  1,  2,  0, 11,  0,\n",
      "         11,  1,  8,  1,  8,  1,  8,  1,  8,  0,  8,  1,  8,  1,  8,  1,  8]])\n",
      "Predicted: 0 True: 0, Predicted with start: 1\n",
      "\n",
      "Tokens = tensor([[10,  0,  2,  0,  2,  1, 10,  0,  2,  0,  7,  0, 11,  1, 11,  0,  8,  1,\n",
      "          8,  1,  8,  1,  8,  1,  8,  1,  8,  1,  8,  1,  3,  0,  8,  1,  3,  0]]), Start = tensor([[10,  0, 10,  0,  2,  0,  2,  0,  2,  0,  2,  0,  2,  1,  2,  0, 11,  0,\n",
      "         11,  1,  8,  1,  8,  1,  8,  1,  8,  0,  8,  1,  8,  1,  8,  1,  8,  1]])\n",
      "Predicted: 8 True: 8, Predicted with start: 8\n",
      "\n",
      "Tokens = tensor([[10,  0,  2,  0,  2,  1, 10,  0,  2,  0,  7,  0, 11,  1, 11,  0,  8,  1,\n",
      "          8,  1,  8,  1,  8,  1,  8,  1,  8,  1,  8,  1,  3,  0,  8,  1,  3,  0,\n",
      "          8]]), Start = tensor([[10,  0, 10,  0,  2,  0,  2,  0,  2,  0,  2,  0,  2,  1,  2,  0, 11,  0,\n",
      "         11,  1,  8,  1,  8,  1,  8,  1,  8,  0,  8,  1,  8,  1,  8,  1,  8,  1,\n",
      "          8]])\n",
      "Predicted: 1 True: 0, Predicted with start: 1\n",
      "\n",
      "Tokens = tensor([[10,  0,  2,  0,  2,  1, 10,  0,  2,  0,  7,  0, 11,  1, 11,  0,  8,  1,\n",
      "          8,  1,  8,  1,  8,  1,  8,  1,  8,  1,  8,  1,  3,  0,  8,  1,  3,  0,\n",
      "          8,  0]]), Start = tensor([[10,  0, 10,  0,  2,  0,  2,  0,  2,  0,  2,  0,  2,  1,  2,  0, 11,  0,\n",
      "         11,  1,  8,  1,  8,  1,  8,  1,  8,  0,  8,  1,  8,  1,  8,  1,  8,  1,\n",
      "          8,  1]])\n",
      "Predicted: 8 True: 8, Predicted with start: 8\n",
      "\n",
      "Tokens = tensor([[10,  0,  2,  0,  2,  1, 10,  0,  2,  0,  7,  0, 11,  1, 11,  0,  8,  1,\n",
      "          8,  1,  8,  1,  8,  1,  8,  1,  8,  1,  8,  1,  3,  0,  8,  1,  3,  0,\n",
      "          8,  0,  8]]), Start = tensor([[10,  0, 10,  0,  2,  0,  2,  0,  2,  0,  2,  0,  2,  1,  2,  0, 11,  0,\n",
      "         11,  1,  8,  1,  8,  1,  8,  1,  8,  0,  8,  1,  8,  1,  8,  1,  8,  1,\n",
      "          8,  1,  8]])\n",
      "Predicted: 1 True: 1, Predicted with start: 1\n",
      "\n",
      "Tokens = tensor([[10,  0,  2,  0,  2,  1, 10,  0,  2,  0,  7,  0, 11,  1, 11,  0,  8,  1,\n",
      "          8,  1,  8,  1,  8,  1,  8,  1,  8,  1,  8,  1,  3,  0,  8,  1,  3,  0,\n",
      "          8,  0,  8,  1]]), Start = tensor([[10,  0, 10,  0,  2,  0,  2,  0,  2,  0,  2,  0,  2,  1,  2,  0, 11,  0,\n",
      "         11,  1,  8,  1,  8,  1,  8,  1,  8,  0,  8,  1,  8,  1,  8,  1,  8,  1,\n",
      "          8,  1,  8,  1]])\n",
      "Predicted: 8 True: 8, Predicted with start: 8\n",
      "\n",
      "Tokens = tensor([[10,  0,  2,  0,  2,  1, 10,  0,  2,  0,  7,  0, 11,  1, 11,  0,  8,  1,\n",
      "          8,  1,  8,  1,  8,  1,  8,  1,  8,  1,  8,  1,  3,  0,  8,  1,  3,  0,\n",
      "          8,  0,  8,  1,  8]]), Start = tensor([[10,  0, 10,  0,  2,  0,  2,  0,  2,  0,  2,  0,  2,  1,  2,  0, 11,  0,\n",
      "         11,  1,  8,  1,  8,  1,  8,  1,  8,  0,  8,  1,  8,  1,  8,  1,  8,  1,\n",
      "          8,  1,  8,  1,  8]])\n",
      "Predicted: 1 True: 1, Predicted with start: 1\n",
      "\n",
      "Tokens = tensor([[10,  0,  2,  0,  2,  1, 10,  0,  2,  0,  7,  0, 11,  1, 11,  0,  8,  1,\n",
      "          8,  1,  8,  1,  8,  1,  8,  1,  8,  1,  8,  1,  3,  0,  8,  1,  3,  0,\n",
      "          8,  0,  8,  1,  8,  1]]), Start = tensor([[10,  0, 10,  0,  2,  0,  2,  0,  2,  0,  2,  0,  2,  1,  2,  0, 11,  0,\n",
      "         11,  1,  8,  1,  8,  1,  8,  1,  8,  0,  8,  1,  8,  1,  8,  1,  8,  1,\n",
      "          8,  1,  8,  1,  8,  1]])\n",
      "Predicted: 8 True: 8, Predicted with start: 8\n",
      "\n",
      "Tokens = tensor([[10,  0,  2,  0,  2,  1, 10,  0,  2,  0,  7,  0, 11,  1, 11,  0,  8,  1,\n",
      "          8,  1,  8,  1,  8,  1,  8,  1,  8,  1,  8,  1,  3,  0,  8,  1,  3,  0,\n",
      "          8,  0,  8,  1,  8,  1,  8]]), Start = tensor([[10,  0, 10,  0,  2,  0,  2,  0,  2,  0,  2,  0,  2,  1,  2,  0, 11,  0,\n",
      "         11,  1,  8,  1,  8,  1,  8,  1,  8,  0,  8,  1,  8,  1,  8,  1,  8,  1,\n",
      "          8,  1,  8,  1,  8,  1,  8]])\n",
      "Predicted: 1 True: 0, Predicted with start: 1\n",
      "\n",
      "Tokens = tensor([[10,  0,  2,  0,  2,  1, 10,  0,  2,  0,  7,  0, 11,  1, 11,  0,  8,  1,\n",
      "          8,  1,  8,  1,  8,  1,  8,  1,  8,  1,  8,  1,  3,  0,  8,  1,  3,  0,\n",
      "          8,  0,  8,  1,  8,  1,  8,  0]]), Start = tensor([[10,  0, 10,  0,  2,  0,  2,  0,  2,  0,  2,  0,  2,  1,  2,  0, 11,  0,\n",
      "         11,  1,  8,  1,  8,  1,  8,  1,  8,  0,  8,  1,  8,  1,  8,  1,  8,  1,\n",
      "          8,  1,  8,  1,  8,  1,  8,  1]])\n",
      "Predicted: 8 True: 8, Predicted with start: 8\n",
      "\n",
      "Tokens = tensor([[10,  0,  2,  0,  2,  1, 10,  0,  2,  0,  7,  0, 11,  1, 11,  0,  8,  1,\n",
      "          8,  1,  8,  1,  8,  1,  8,  1,  8,  1,  8,  1,  3,  0,  8,  1,  3,  0,\n",
      "          8,  0,  8,  1,  8,  1,  8,  0,  8]]), Start = tensor([[10,  0, 10,  0,  2,  0,  2,  0,  2,  0,  2,  0,  2,  1,  2,  0, 11,  0,\n",
      "         11,  1,  8,  1,  8,  1,  8,  1,  8,  0,  8,  1,  8,  1,  8,  1,  8,  1,\n",
      "          8,  1,  8,  1,  8,  1,  8,  1,  8]])\n",
      "Predicted: 1 True: 1, Predicted with start: 1\n",
      "\n",
      "Tokens = tensor([[10,  0,  2,  0,  2,  1, 10,  0,  2,  0,  7,  0, 11,  1, 11,  0,  8,  1,\n",
      "          8,  1,  8,  1,  8,  1,  8,  1,  8,  1,  8,  1,  3,  0,  8,  1,  3,  0,\n",
      "          8,  0,  8,  1,  8,  1,  8,  0,  8,  1]]), Start = tensor([[10,  0, 10,  0,  2,  0,  2,  0,  2,  0,  2,  0,  2,  1,  2,  0, 11,  0,\n",
      "         11,  1,  8,  1,  8,  1,  8,  1,  8,  0,  8,  1,  8,  1,  8,  1,  8,  1,\n",
      "          8,  1,  8,  1,  8,  1,  8,  1,  8,  1]])\n",
      "Predicted: 8 True: 8, Predicted with start: 8\n",
      "\n",
      "Tokens = tensor([[10,  0,  2,  0,  2,  1, 10,  0,  2,  0,  7,  0, 11,  1, 11,  0,  8,  1,\n",
      "          8,  1,  8,  1,  8,  1,  8,  1,  8,  1,  8,  1,  3,  0,  8,  1,  3,  0,\n",
      "          8,  0,  8,  1,  8,  1,  8,  0,  8,  1,  8]]), Start = tensor([[10,  0, 10,  0,  2,  0,  2,  0,  2,  0,  2,  0,  2,  1,  2,  0, 11,  0,\n",
      "         11,  1,  8,  1,  8,  1,  8,  1,  8,  0,  8,  1,  8,  1,  8,  1,  8,  1,\n",
      "          8,  1,  8,  1,  8,  1,  8,  1,  8,  1,  8]])\n",
      "Predicted: 1 True: 1, Predicted with start: 1\n",
      "\n",
      "Tokens = tensor([[10,  0,  2,  0,  2,  1, 10,  0,  2,  0,  7,  0, 11,  1, 11,  0,  8,  1,\n",
      "          8,  1,  8,  1,  8,  1,  8,  1,  8,  1,  8,  1,  3,  0,  8,  1,  3,  0,\n",
      "          8,  0,  8,  1,  8,  1,  8,  0,  8,  1,  8,  1]]), Start = tensor([[10,  0, 10,  0,  2,  0,  2,  0,  2,  0,  2,  0,  2,  1,  2,  0, 11,  0,\n",
      "         11,  1,  8,  1,  8,  1,  8,  1,  8,  0,  8,  1,  8,  1,  8,  1,  8,  1,\n",
      "          8,  1,  8,  1,  8,  1,  8,  1,  8,  1,  8,  1]])\n",
      "Predicted: 8 True: 8, Predicted with start: 8\n",
      "\n",
      "Tokens = tensor([[10,  0,  2,  0,  2,  1, 10,  0,  2,  0,  7,  0, 11,  1, 11,  0,  8,  1,\n",
      "          8,  1,  8,  1,  8,  1,  8,  1,  8,  1,  8,  1,  3,  0,  8,  1,  3,  0,\n",
      "          8,  0,  8,  1,  8,  1,  8,  0,  8,  1,  8,  1,  8]]), Start = tensor([[10,  0, 10,  0,  2,  0,  2,  0,  2,  0,  2,  0,  2,  1,  2,  0, 11,  0,\n",
      "         11,  1,  8,  1,  8,  1,  8,  1,  8,  0,  8,  1,  8,  1,  8,  1,  8,  1,\n",
      "          8,  1,  8,  1,  8,  1,  8,  1,  8,  1,  8,  1,  8]])\n",
      "Predicted: 1 True: 1, Predicted with start: 1\n",
      "\n",
      "Tokens = tensor([[10,  0,  2,  0,  2,  1, 10,  0,  2,  0,  7,  0, 11,  1, 11,  0,  8,  1,\n",
      "          8,  1,  8,  1,  8,  1,  8,  1,  8,  1,  8,  1,  3,  0,  8,  1,  3,  0,\n",
      "          8,  0,  8,  1,  8,  1,  8,  0,  8,  1,  8,  1,  8,  1]]), Start = tensor([[10,  0, 10,  0,  2,  0,  2,  0,  2,  0,  2,  0,  2,  1,  2,  0, 11,  0,\n",
      "         11,  1,  8,  1,  8,  1,  8,  1,  8,  0,  8,  1,  8,  1,  8,  1,  8,  1,\n",
      "          8,  1,  8,  1,  8,  1,  8,  1,  8,  1,  8,  1,  8,  0]])\n",
      "Predicted: 8 True: 8, Predicted with start: 8\n",
      "\n",
      "Tokens = tensor([[10,  0,  2,  0,  2,  1, 10,  0,  2,  0,  7,  0, 11,  1, 11,  0,  8,  1,\n",
      "          8,  1,  8,  1,  8,  1,  8,  1,  8,  1,  8,  1,  3,  0,  8,  1,  3,  0,\n",
      "          8,  0,  8,  1,  8,  1,  8,  0,  8,  1,  8,  1,  8,  1,  8]]), Start = tensor([[10,  0, 10,  0,  2,  0,  2,  0,  2,  0,  2,  0,  2,  1,  2,  0, 11,  0,\n",
      "         11,  1,  8,  1,  8,  1,  8,  1,  8,  0,  8,  1,  8,  1,  8,  1,  8,  1,\n",
      "          8,  1,  8,  1,  8,  1,  8,  1,  8,  1,  8,  1,  8,  0,  8]])\n",
      "Predicted: 1 True: 1, Predicted with start: 1\n",
      "\n",
      "Tokens = tensor([[10,  0,  2,  0,  2,  1, 10,  0,  2,  0,  7,  0, 11,  1, 11,  0,  8,  1,\n",
      "          8,  1,  8,  1,  8,  1,  8,  1,  8,  1,  8,  1,  3,  0,  8,  1,  3,  0,\n",
      "          8,  0,  8,  1,  8,  1,  8,  0,  8,  1,  8,  1,  8,  1,  8,  1]]), Start = tensor([[10,  0, 10,  0,  2,  0,  2,  0,  2,  0,  2,  0,  2,  1,  2,  0, 11,  0,\n",
      "         11,  1,  8,  1,  8,  1,  8,  1,  8,  0,  8,  1,  8,  1,  8,  1,  8,  1,\n",
      "          8,  1,  8,  1,  8,  1,  8,  1,  8,  1,  8,  1,  8,  0,  8,  1]])\n",
      "Predicted: 8 True: 8, Predicted with start: 8\n",
      "\n",
      "Tokens = tensor([[10,  0,  2,  0,  2,  1, 10,  0,  2,  0,  7,  0, 11,  1, 11,  0,  8,  1,\n",
      "          8,  1,  8,  1,  8,  1,  8,  1,  8,  1,  8,  1,  3,  0,  8,  1,  3,  0,\n",
      "          8,  0,  8,  1,  8,  1,  8,  0,  8,  1,  8,  1,  8,  1,  8,  1,  8]]), Start = tensor([[10,  0, 10,  0,  2,  0,  2,  0,  2,  0,  2,  0,  2,  1,  2,  0, 11,  0,\n",
      "         11,  1,  8,  1,  8,  1,  8,  1,  8,  0,  8,  1,  8,  1,  8,  1,  8,  1,\n",
      "          8,  1,  8,  1,  8,  1,  8,  1,  8,  1,  8,  1,  8,  0,  8,  1,  8]])\n",
      "Predicted: 1 True: 1, Predicted with start: 1\n",
      "\n",
      "Tokens = tensor([[10,  0,  2,  0,  2,  1, 10,  0,  2,  0,  7,  0, 11,  1, 11,  0,  8,  1,\n",
      "          8,  1,  8,  1,  8,  1,  8,  1,  8,  1,  8,  1,  3,  0,  8,  1,  3,  0,\n",
      "          8,  0,  8,  1,  8,  1,  8,  0,  8,  1,  8,  1,  8,  1,  8,  1,  8,  1]]), Start = tensor([[10,  0, 10,  0,  2,  0,  2,  0,  2,  0,  2,  0,  2,  1,  2,  0, 11,  0,\n",
      "         11,  1,  8,  1,  8,  1,  8,  1,  8,  0,  8,  1,  8,  1,  8,  1,  8,  1,\n",
      "          8,  1,  8,  1,  8,  1,  8,  1,  8,  1,  8,  1,  8,  0,  8,  1,  8,  1]])\n",
      "Predicted: 8 True: 8, Predicted with start: 8\n",
      "\n",
      "Tokens = tensor([[10,  0,  2,  0,  2,  1, 10,  0,  2,  0,  7,  0, 11,  1, 11,  0,  8,  1,\n",
      "          8,  1,  8,  1,  8,  1,  8,  1,  8,  1,  8,  1,  3,  0,  8,  1,  3,  0,\n",
      "          8,  0,  8,  1,  8,  1,  8,  0,  8,  1,  8,  1,  8,  1,  8,  1,  8,  1,\n",
      "          8]]), Start = tensor([[10,  0, 10,  0,  2,  0,  2,  0,  2,  0,  2,  0,  2,  1,  2,  0, 11,  0,\n",
      "         11,  1,  8,  1,  8,  1,  8,  1,  8,  0,  8,  1,  8,  1,  8,  1,  8,  1,\n",
      "          8,  1,  8,  1,  8,  1,  8,  1,  8,  1,  8,  1,  8,  0,  8,  1,  8,  1,\n",
      "          8]])\n",
      "Predicted: 1 True: 1, Predicted with start: 1\n",
      "\n",
      "Tokens = tensor([[10,  0,  2,  0,  2,  1, 10,  0,  2,  0,  7,  0, 11,  1, 11,  0,  8,  1,\n",
      "          8,  1,  8,  1,  8,  1,  8,  1,  8,  1,  8,  1,  3,  0,  8,  1,  3,  0,\n",
      "          8,  0,  8,  1,  8,  1,  8,  0,  8,  1,  8,  1,  8,  1,  8,  1,  8,  1,\n",
      "          8,  1]]), Start = tensor([[10,  0, 10,  0,  2,  0,  2,  0,  2,  0,  2,  0,  2,  1,  2,  0, 11,  0,\n",
      "         11,  1,  8,  1,  8,  1,  8,  1,  8,  0,  8,  1,  8,  1,  8,  1,  8,  1,\n",
      "          8,  1,  8,  1,  8,  1,  8,  1,  8,  1,  8,  1,  8,  0,  8,  1,  8,  1,\n",
      "          8,  1]])\n",
      "Predicted: 8 True: 8, Predicted with start: 8\n",
      "\n",
      "Tokens = tensor([[10,  0,  2,  0,  2,  1, 10,  0,  2,  0,  7,  0, 11,  1, 11,  0,  8,  1,\n",
      "          8,  1,  8,  1,  8,  1,  8,  1,  8,  1,  8,  1,  3,  0,  8,  1,  3,  0,\n",
      "          8,  0,  8,  1,  8,  1,  8,  0,  8,  1,  8,  1,  8,  1,  8,  1,  8,  1,\n",
      "          8,  1,  8]]), Start = tensor([[10,  0, 10,  0,  2,  0,  2,  0,  2,  0,  2,  0,  2,  1,  2,  0, 11,  0,\n",
      "         11,  1,  8,  1,  8,  1,  8,  1,  8,  0,  8,  1,  8,  1,  8,  1,  8,  1,\n",
      "          8,  1,  8,  1,  8,  1,  8,  1,  8,  1,  8,  1,  8,  0,  8,  1,  8,  1,\n",
      "          8,  1,  8]])\n",
      "Predicted: 1 True: 1, Predicted with start: 1\n",
      "\n",
      "Tokens = tensor([[10,  0,  2,  0,  2,  1, 10,  0,  2,  0,  7,  0, 11,  1, 11,  0,  8,  1,\n",
      "          8,  1,  8,  1,  8,  1,  8,  1,  8,  1,  8,  1,  3,  0,  8,  1,  3,  0,\n",
      "          8,  0,  8,  1,  8,  1,  8,  0,  8,  1,  8,  1,  8,  1,  8,  1,  8,  1,\n",
      "          8,  1,  8,  1]]), Start = tensor([[10,  0, 10,  0,  2,  0,  2,  0,  2,  0,  2,  0,  2,  1,  2,  0, 11,  0,\n",
      "         11,  1,  8,  1,  8,  1,  8,  1,  8,  0,  8,  1,  8,  1,  8,  1,  8,  1,\n",
      "          8,  1,  8,  1,  8,  1,  8,  1,  8,  1,  8,  1,  8,  0,  8,  1,  8,  1,\n",
      "          8,  1,  8,  1]])\n",
      "Predicted: 8 True: 2, Predicted with start: 8\n",
      "\n",
      "Tokens = tensor([[10,  0,  2,  0,  2,  1, 10,  0,  2,  0,  7,  0, 11,  1, 11,  0,  8,  1,\n",
      "          8,  1,  8,  1,  8,  1,  8,  1,  8,  1,  8,  1,  3,  0,  8,  1,  3,  0,\n",
      "          8,  0,  8,  1,  8,  1,  8,  0,  8,  1,  8,  1,  8,  1,  8,  1,  8,  1,\n",
      "          8,  1,  8,  1,  2]]), Start = tensor([[10,  0, 10,  0,  2,  0,  2,  0,  2,  0,  2,  0,  2,  1,  2,  0, 11,  0,\n",
      "         11,  1,  8,  1,  8,  1,  8,  1,  8,  0,  8,  1,  8,  1,  8,  1,  8,  1,\n",
      "          8,  1,  8,  1,  8,  1,  8,  1,  8,  1,  8,  1,  8,  0,  8,  1,  8,  1,\n",
      "          8,  1,  8,  1,  8]])\n",
      "Predicted: 0 True: 0, Predicted with start: 1\n",
      "\n",
      "Tokens = tensor([[10,  0,  2,  0,  2,  1, 10,  0,  2,  0,  7,  0, 11,  1, 11,  0,  8,  1,\n",
      "          8,  1,  8,  1,  8,  1,  8,  1,  8,  1,  8,  1,  3,  0,  8,  1,  3,  0,\n",
      "          8,  0,  8,  1,  8,  1,  8,  0,  8,  1,  8,  1,  8,  1,  8,  1,  8,  1,\n",
      "          8,  1,  8,  1,  2,  0]]), Start = tensor([[10,  0, 10,  0,  2,  0,  2,  0,  2,  0,  2,  0,  2,  1,  2,  0, 11,  0,\n",
      "         11,  1,  8,  1,  8,  1,  8,  1,  8,  0,  8,  1,  8,  1,  8,  1,  8,  1,\n",
      "          8,  1,  8,  1,  8,  1,  8,  1,  8,  1,  8,  1,  8,  0,  8,  1,  8,  1,\n",
      "          8,  1,  8,  1,  8,  1]])\n",
      "Predicted: 8 True: 8, Predicted with start: 8\n",
      "\n",
      "Tokens = tensor([[10,  0,  2,  0,  2,  1, 10,  0,  2,  0,  7,  0, 11,  1, 11,  0,  8,  1,\n",
      "          8,  1,  8,  1,  8,  1,  8,  1,  8,  1,  8,  1,  3,  0,  8,  1,  3,  0,\n",
      "          8,  0,  8,  1,  8,  1,  8,  0,  8,  1,  8,  1,  8,  1,  8,  1,  8,  1,\n",
      "          8,  1,  8,  1,  2,  0,  8]]), Start = tensor([[10,  0, 10,  0,  2,  0,  2,  0,  2,  0,  2,  0,  2,  1,  2,  0, 11,  0,\n",
      "         11,  1,  8,  1,  8,  1,  8,  1,  8,  0,  8,  1,  8,  1,  8,  1,  8,  1,\n",
      "          8,  1,  8,  1,  8,  1,  8,  1,  8,  1,  8,  1,  8,  0,  8,  1,  8,  1,\n",
      "          8,  1,  8,  1,  8,  1,  8]])\n",
      "Predicted: 1 True: 1, Predicted with start: 1\n",
      "\n",
      "Tokens = tensor([[10,  0,  2,  0,  2,  1, 10,  0,  2,  0,  7,  0, 11,  1, 11,  0,  8,  1,\n",
      "          8,  1,  8,  1,  8,  1,  8,  1,  8,  1,  8,  1,  3,  0,  8,  1,  3,  0,\n",
      "          8,  0,  8,  1,  8,  1,  8,  0,  8,  1,  8,  1,  8,  1,  8,  1,  8,  1,\n",
      "          8,  1,  8,  1,  2,  0,  8,  1]]), Start = tensor([[10,  0, 10,  0,  2,  0,  2,  0,  2,  0,  2,  0,  2,  1,  2,  0, 11,  0,\n",
      "         11,  1,  8,  1,  8,  1,  8,  1,  8,  0,  8,  1,  8,  1,  8,  1,  8,  1,\n",
      "          8,  1,  8,  1,  8,  1,  8,  1,  8,  1,  8,  1,  8,  0,  8,  1,  8,  1,\n",
      "          8,  1,  8,  1,  8,  1,  8,  1]])\n",
      "Predicted: 8 True: 8, Predicted with start: 8\n",
      "\n",
      "Tokens = tensor([[10,  0,  2,  0,  2,  1, 10,  0,  2,  0,  7,  0, 11,  1, 11,  0,  8,  1,\n",
      "          8,  1,  8,  1,  8,  1,  8,  1,  8,  1,  8,  1,  3,  0,  8,  1,  3,  0,\n",
      "          8,  0,  8,  1,  8,  1,  8,  0,  8,  1,  8,  1,  8,  1,  8,  1,  8,  1,\n",
      "          8,  1,  8,  1,  2,  0,  8,  1,  8]]), Start = tensor([[10,  0, 10,  0,  2,  0,  2,  0,  2,  0,  2,  0,  2,  1,  2,  0, 11,  0,\n",
      "         11,  1,  8,  1,  8,  1,  8,  1,  8,  0,  8,  1,  8,  1,  8,  1,  8,  1,\n",
      "          8,  1,  8,  1,  8,  1,  8,  1,  8,  1,  8,  1,  8,  0,  8,  1,  8,  1,\n",
      "          8,  1,  8,  1,  8,  1,  8,  1,  8]])\n",
      "Predicted: 1 True: 1, Predicted with start: 1\n",
      "\n",
      "Tokens = tensor([[10,  0,  2,  0,  2,  1, 10,  0,  2,  0,  7,  0, 11,  1, 11,  0,  8,  1,\n",
      "          8,  1,  8,  1,  8,  1,  8,  1,  8,  1,  8,  1,  3,  0,  8,  1,  3,  0,\n",
      "          8,  0,  8,  1,  8,  1,  8,  0,  8,  1,  8,  1,  8,  1,  8,  1,  8,  1,\n",
      "          8,  1,  8,  1,  2,  0,  8,  1,  8,  1]]), Start = tensor([[10,  0, 10,  0,  2,  0,  2,  0,  2,  0,  2,  0,  2,  1,  2,  0, 11,  0,\n",
      "         11,  1,  8,  1,  8,  1,  8,  1,  8,  0,  8,  1,  8,  1,  8,  1,  8,  1,\n",
      "          8,  1,  8,  1,  8,  1,  8,  1,  8,  1,  8,  1,  8,  0,  8,  1,  8,  1,\n",
      "          8,  1,  8,  1,  8,  1,  8,  1,  8,  0]])\n",
      "Predicted: 8 True: 8, Predicted with start: 8\n",
      "\n",
      "Tokens = tensor([[10,  0,  2,  0,  2,  1, 10,  0,  2,  0,  7,  0, 11,  1, 11,  0,  8,  1,\n",
      "          8,  1,  8,  1,  8,  1,  8,  1,  8,  1,  8,  1,  3,  0,  8,  1,  3,  0,\n",
      "          8,  0,  8,  1,  8,  1,  8,  0,  8,  1,  8,  1,  8,  1,  8,  1,  8,  1,\n",
      "          8,  1,  8,  1,  2,  0,  8,  1,  8,  1,  8]]), Start = tensor([[10,  0, 10,  0,  2,  0,  2,  0,  2,  0,  2,  0,  2,  1,  2,  0, 11,  0,\n",
      "         11,  1,  8,  1,  8,  1,  8,  1,  8,  0,  8,  1,  8,  1,  8,  1,  8,  1,\n",
      "          8,  1,  8,  1,  8,  1,  8,  1,  8,  1,  8,  1,  8,  0,  8,  1,  8,  1,\n",
      "          8,  1,  8,  1,  8,  1,  8,  1,  8,  0,  8]])\n",
      "Predicted: 1 True: 1, Predicted with start: 1\n",
      "\n",
      "Tokens = tensor([[10,  0,  2,  0,  2,  1, 10,  0,  2,  0,  7,  0, 11,  1, 11,  0,  8,  1,\n",
      "          8,  1,  8,  1,  8,  1,  8,  1,  8,  1,  8,  1,  3,  0,  8,  1,  3,  0,\n",
      "          8,  0,  8,  1,  8,  1,  8,  0,  8,  1,  8,  1,  8,  1,  8,  1,  8,  1,\n",
      "          8,  1,  8,  1,  2,  0,  8,  1,  8,  1,  8,  1]]), Start = tensor([[10,  0, 10,  0,  2,  0,  2,  0,  2,  0,  2,  0,  2,  1,  2,  0, 11,  0,\n",
      "         11,  1,  8,  1,  8,  1,  8,  1,  8,  0,  8,  1,  8,  1,  8,  1,  8,  1,\n",
      "          8,  1,  8,  1,  8,  1,  8,  1,  8,  1,  8,  1,  8,  0,  8,  1,  8,  1,\n",
      "          8,  1,  8,  1,  8,  1,  8,  1,  8,  0,  8,  1]])\n",
      "Predicted: 8 True: 8, Predicted with start: 8\n",
      "\n",
      "Tokens = tensor([[10,  0,  2,  0,  2,  1, 10,  0,  2,  0,  7,  0, 11,  1, 11,  0,  8,  1,\n",
      "          8,  1,  8,  1,  8,  1,  8,  1,  8,  1,  8,  1,  3,  0,  8,  1,  3,  0,\n",
      "          8,  0,  8,  1,  8,  1,  8,  0,  8,  1,  8,  1,  8,  1,  8,  1,  8,  1,\n",
      "          8,  1,  8,  1,  2,  0,  8,  1,  8,  1,  8,  1,  8]]), Start = tensor([[10,  0, 10,  0,  2,  0,  2,  0,  2,  0,  2,  0,  2,  1,  2,  0, 11,  0,\n",
      "         11,  1,  8,  1,  8,  1,  8,  1,  8,  0,  8,  1,  8,  1,  8,  1,  8,  1,\n",
      "          8,  1,  8,  1,  8,  1,  8,  1,  8,  1,  8,  1,  8,  0,  8,  1,  8,  1,\n",
      "          8,  1,  8,  1,  8,  1,  8,  1,  8,  0,  8,  1,  8]])\n",
      "Predicted: 1 True: 1, Predicted with start: 1\n",
      "\n",
      "Tokens = tensor([[10,  0,  2,  0,  2,  1, 10,  0,  2,  0,  7,  0, 11,  1, 11,  0,  8,  1,\n",
      "          8,  1,  8,  1,  8,  1,  8,  1,  8,  1,  8,  1,  3,  0,  8,  1,  3,  0,\n",
      "          8,  0,  8,  1,  8,  1,  8,  0,  8,  1,  8,  1,  8,  1,  8,  1,  8,  1,\n",
      "          8,  1,  8,  1,  2,  0,  8,  1,  8,  1,  8,  1,  8,  1]]), Start = tensor([[10,  0, 10,  0,  2,  0,  2,  0,  2,  0,  2,  0,  2,  1,  2,  0, 11,  0,\n",
      "         11,  1,  8,  1,  8,  1,  8,  1,  8,  0,  8,  1,  8,  1,  8,  1,  8,  1,\n",
      "          8,  1,  8,  1,  8,  1,  8,  1,  8,  1,  8,  1,  8,  0,  8,  1,  8,  1,\n",
      "          8,  1,  8,  1,  8,  1,  8,  1,  8,  0,  8,  1,  8,  1]])\n",
      "Predicted: 8 True: 4, Predicted with start: 8\n",
      "\n",
      "Tokens = tensor([[10,  0,  2,  0,  2,  1, 10,  0,  2,  0,  7,  0, 11,  1, 11,  0,  8,  1,\n",
      "          8,  1,  8,  1,  8,  1,  8,  1,  8,  1,  8,  1,  3,  0,  8,  1,  3,  0,\n",
      "          8,  0,  8,  1,  8,  1,  8,  0,  8,  1,  8,  1,  8,  1,  8,  1,  8,  1,\n",
      "          8,  1,  8,  1,  2,  0,  8,  1,  8,  1,  8,  1,  8,  1,  4]]), Start = tensor([[10,  0, 10,  0,  2,  0,  2,  0,  2,  0,  2,  0,  2,  1,  2,  0, 11,  0,\n",
      "         11,  1,  8,  1,  8,  1,  8,  1,  8,  0,  8,  1,  8,  1,  8,  1,  8,  1,\n",
      "          8,  1,  8,  1,  8,  1,  8,  1,  8,  1,  8,  1,  8,  0,  8,  1,  8,  1,\n",
      "          8,  1,  8,  1,  8,  1,  8,  1,  8,  0,  8,  1,  8,  1,  8]])\n",
      "Predicted: 0 True: 1, Predicted with start: 1\n",
      "\n",
      "Tokens = tensor([[10,  0,  2,  0,  2,  1, 10,  0,  2,  0,  7,  0, 11,  1, 11,  0,  8,  1,\n",
      "          8,  1,  8,  1,  8,  1,  8,  1,  8,  1,  8,  1,  3,  0,  8,  1,  3,  0,\n",
      "          8,  0,  8,  1,  8,  1,  8,  0,  8,  1,  8,  1,  8,  1,  8,  1,  8,  1,\n",
      "          8,  1,  8,  1,  2,  0,  8,  1,  8,  1,  8,  1,  8,  1,  4,  1]]), Start = tensor([[10,  0, 10,  0,  2,  0,  2,  0,  2,  0,  2,  0,  2,  1,  2,  0, 11,  0,\n",
      "         11,  1,  8,  1,  8,  1,  8,  1,  8,  0,  8,  1,  8,  1,  8,  1,  8,  1,\n",
      "          8,  1,  8,  1,  8,  1,  8,  1,  8,  1,  8,  1,  8,  0,  8,  1,  8,  1,\n",
      "          8,  1,  8,  1,  8,  1,  8,  1,  8,  0,  8,  1,  8,  1,  8,  1]])\n",
      "Predicted: 8 True: 4, Predicted with start: 8\n",
      "\n",
      "Tokens = tensor([[10,  0,  2,  0,  2,  1, 10,  0,  2,  0,  7,  0, 11,  1, 11,  0,  8,  1,\n",
      "          8,  1,  8,  1,  8,  1,  8,  1,  8,  1,  8,  1,  3,  0,  8,  1,  3,  0,\n",
      "          8,  0,  8,  1,  8,  1,  8,  0,  8,  1,  8,  1,  8,  1,  8,  1,  8,  1,\n",
      "          8,  1,  8,  1,  2,  0,  8,  1,  8,  1,  8,  1,  8,  1,  4,  1,  4]]), Start = tensor([[10,  0, 10,  0,  2,  0,  2,  0,  2,  0,  2,  0,  2,  1,  2,  0, 11,  0,\n",
      "         11,  1,  8,  1,  8,  1,  8,  1,  8,  0,  8,  1,  8,  1,  8,  1,  8,  1,\n",
      "          8,  1,  8,  1,  8,  1,  8,  1,  8,  1,  8,  1,  8,  0,  8,  1,  8,  1,\n",
      "          8,  1,  8,  1,  8,  1,  8,  1,  8,  0,  8,  1,  8,  1,  8,  1,  8]])\n",
      "Predicted: 0 True: 0, Predicted with start: 1\n",
      "\n",
      "Tokens = tensor([[10,  0,  2,  0,  2,  1, 10,  0,  2,  0,  7,  0, 11,  1, 11,  0,  8,  1,\n",
      "          8,  1,  8,  1,  8,  1,  8,  1,  8,  1,  8,  1,  3,  0,  8,  1,  3,  0,\n",
      "          8,  0,  8,  1,  8,  1,  8,  0,  8,  1,  8,  1,  8,  1,  8,  1,  8,  1,\n",
      "          8,  1,  8,  1,  2,  0,  8,  1,  8,  1,  8,  1,  8,  1,  4,  1,  4,  0]]), Start = tensor([[10,  0, 10,  0,  2,  0,  2,  0,  2,  0,  2,  0,  2,  1,  2,  0, 11,  0,\n",
      "         11,  1,  8,  1,  8,  1,  8,  1,  8,  0,  8,  1,  8,  1,  8,  1,  8,  1,\n",
      "          8,  1,  8,  1,  8,  1,  8,  1,  8,  1,  8,  1,  8,  0,  8,  1,  8,  1,\n",
      "          8,  1,  8,  1,  8,  1,  8,  1,  8,  0,  8,  1,  8,  1,  8,  1,  8,  1]])\n",
      "Predicted: 8 True: 8, Predicted with start: 8\n",
      "\n",
      "Tokens = tensor([[10,  0,  2,  0,  2,  1, 10,  0,  2,  0,  7,  0, 11,  1, 11,  0,  8,  1,\n",
      "          8,  1,  8,  1,  8,  1,  8,  1,  8,  1,  8,  1,  3,  0,  8,  1,  3,  0,\n",
      "          8,  0,  8,  1,  8,  1,  8,  0,  8,  1,  8,  1,  8,  1,  8,  1,  8,  1,\n",
      "          8,  1,  8,  1,  2,  0,  8,  1,  8,  1,  8,  1,  8,  1,  4,  1,  4,  0,\n",
      "          8]]), Start = tensor([[10,  0, 10,  0,  2,  0,  2,  0,  2,  0,  2,  0,  2,  1,  2,  0, 11,  0,\n",
      "         11,  1,  8,  1,  8,  1,  8,  1,  8,  0,  8,  1,  8,  1,  8,  1,  8,  1,\n",
      "          8,  1,  8,  1,  8,  1,  8,  1,  8,  1,  8,  1,  8,  0,  8,  1,  8,  1,\n",
      "          8,  1,  8,  1,  8,  1,  8,  1,  8,  0,  8,  1,  8,  1,  8,  1,  8,  1,\n",
      "          8]])\n",
      "Predicted: 1 True: 0, Predicted with start: 1\n",
      "\n",
      "Tokens = tensor([[10,  0,  2,  0,  2,  1, 10,  0,  2,  0,  7,  0, 11,  1, 11,  0,  8,  1,\n",
      "          8,  1,  8,  1,  8,  1,  8,  1,  8,  1,  8,  1,  3,  0,  8,  1,  3,  0,\n",
      "          8,  0,  8,  1,  8,  1,  8,  0,  8,  1,  8,  1,  8,  1,  8,  1,  8,  1,\n",
      "          8,  1,  8,  1,  2,  0,  8,  1,  8,  1,  8,  1,  8,  1,  4,  1,  4,  0,\n",
      "          8,  0]]), Start = tensor([[10,  0, 10,  0,  2,  0,  2,  0,  2,  0,  2,  0,  2,  1,  2,  0, 11,  0,\n",
      "         11,  1,  8,  1,  8,  1,  8,  1,  8,  0,  8,  1,  8,  1,  8,  1,  8,  1,\n",
      "          8,  1,  8,  1,  8,  1,  8,  1,  8,  1,  8,  1,  8,  0,  8,  1,  8,  1,\n",
      "          8,  1,  8,  1,  8,  1,  8,  1,  8,  0,  8,  1,  8,  1,  8,  1,  8,  1,\n",
      "          8,  1]])\n",
      "Predicted: 8 True: 8, Predicted with start: 8\n",
      "\n",
      "Tokens = tensor([[10,  0,  2,  0,  2,  1, 10,  0,  2,  0,  7,  0, 11,  1, 11,  0,  8,  1,\n",
      "          8,  1,  8,  1,  8,  1,  8,  1,  8,  1,  8,  1,  3,  0,  8,  1,  3,  0,\n",
      "          8,  0,  8,  1,  8,  1,  8,  0,  8,  1,  8,  1,  8,  1,  8,  1,  8,  1,\n",
      "          8,  1,  8,  1,  2,  0,  8,  1,  8,  1,  8,  1,  8,  1,  4,  1,  4,  0,\n",
      "          8,  0,  8]]), Start = tensor([[10,  0, 10,  0,  2,  0,  2,  0,  2,  0,  2,  0,  2,  1,  2,  0, 11,  0,\n",
      "         11,  1,  8,  1,  8,  1,  8,  1,  8,  0,  8,  1,  8,  1,  8,  1,  8,  1,\n",
      "          8,  1,  8,  1,  8,  1,  8,  1,  8,  1,  8,  1,  8,  0,  8,  1,  8,  1,\n",
      "          8,  1,  8,  1,  8,  1,  8,  1,  8,  0,  8,  1,  8,  1,  8,  1,  8,  1,\n",
      "          8,  1,  8]])\n",
      "Predicted: 1 True: 1, Predicted with start: 1\n",
      "\n",
      "Tokens = tensor([[10,  0,  2,  0,  2,  1, 10,  0,  2,  0,  7,  0, 11,  1, 11,  0,  8,  1,\n",
      "          8,  1,  8,  1,  8,  1,  8,  1,  8,  1,  8,  1,  3,  0,  8,  1,  3,  0,\n",
      "          8,  0,  8,  1,  8,  1,  8,  0,  8,  1,  8,  1,  8,  1,  8,  1,  8,  1,\n",
      "          8,  1,  8,  1,  2,  0,  8,  1,  8,  1,  8,  1,  8,  1,  4,  1,  4,  0,\n",
      "          8,  0,  8,  1]]), Start = tensor([[10,  0, 10,  0,  2,  0,  2,  0,  2,  0,  2,  0,  2,  1,  2,  0, 11,  0,\n",
      "         11,  1,  8,  1,  8,  1,  8,  1,  8,  0,  8,  1,  8,  1,  8,  1,  8,  1,\n",
      "          8,  1,  8,  1,  8,  1,  8,  1,  8,  1,  8,  1,  8,  0,  8,  1,  8,  1,\n",
      "          8,  1,  8,  1,  8,  1,  8,  1,  8,  0,  8,  1,  8,  1,  8,  1,  8,  1,\n",
      "          8,  1,  8,  1]])\n",
      "Predicted: 8 True: 8, Predicted with start: 8\n",
      "\n",
      "Tokens = tensor([[10,  0,  2,  0,  2,  1, 10,  0,  2,  0,  7,  0, 11,  1, 11,  0,  8,  1,\n",
      "          8,  1,  8,  1,  8,  1,  8,  1,  8,  1,  8,  1,  3,  0,  8,  1,  3,  0,\n",
      "          8,  0,  8,  1,  8,  1,  8,  0,  8,  1,  8,  1,  8,  1,  8,  1,  8,  1,\n",
      "          8,  1,  8,  1,  2,  0,  8,  1,  8,  1,  8,  1,  8,  1,  4,  1,  4,  0,\n",
      "          8,  0,  8,  1,  8]]), Start = tensor([[10,  0, 10,  0,  2,  0,  2,  0,  2,  0,  2,  0,  2,  1,  2,  0, 11,  0,\n",
      "         11,  1,  8,  1,  8,  1,  8,  1,  8,  0,  8,  1,  8,  1,  8,  1,  8,  1,\n",
      "          8,  1,  8,  1,  8,  1,  8,  1,  8,  1,  8,  1,  8,  0,  8,  1,  8,  1,\n",
      "          8,  1,  8,  1,  8,  1,  8,  1,  8,  0,  8,  1,  8,  1,  8,  1,  8,  1,\n",
      "          8,  1,  8,  1,  8]])\n",
      "Predicted: 1 True: 1, Predicted with start: 1\n",
      "\n",
      "Tokens = tensor([[10,  0,  2,  0,  2,  1, 10,  0,  2,  0,  7,  0, 11,  1, 11,  0,  8,  1,\n",
      "          8,  1,  8,  1,  8,  1,  8,  1,  8,  1,  8,  1,  3,  0,  8,  1,  3,  0,\n",
      "          8,  0,  8,  1,  8,  1,  8,  0,  8,  1,  8,  1,  8,  1,  8,  1,  8,  1,\n",
      "          8,  1,  8,  1,  2,  0,  8,  1,  8,  1,  8,  1,  8,  1,  4,  1,  4,  0,\n",
      "          8,  0,  8,  1,  8,  1]]), Start = tensor([[10,  0, 10,  0,  2,  0,  2,  0,  2,  0,  2,  0,  2,  1,  2,  0, 11,  0,\n",
      "         11,  1,  8,  1,  8,  1,  8,  1,  8,  0,  8,  1,  8,  1,  8,  1,  8,  1,\n",
      "          8,  1,  8,  1,  8,  1,  8,  1,  8,  1,  8,  1,  8,  0,  8,  1,  8,  1,\n",
      "          8,  1,  8,  1,  8,  1,  8,  1,  8,  0,  8,  1,  8,  1,  8,  1,  8,  1,\n",
      "          8,  1,  8,  1,  8,  1]])\n",
      "Predicted: 8 True: 8, Predicted with start: 8\n",
      "\n",
      "Tokens = tensor([[10,  0,  2,  0,  2,  1, 10,  0,  2,  0,  7,  0, 11,  1, 11,  0,  8,  1,\n",
      "          8,  1,  8,  1,  8,  1,  8,  1,  8,  1,  8,  1,  3,  0,  8,  1,  3,  0,\n",
      "          8,  0,  8,  1,  8,  1,  8,  0,  8,  1,  8,  1,  8,  1,  8,  1,  8,  1,\n",
      "          8,  1,  8,  1,  2,  0,  8,  1,  8,  1,  8,  1,  8,  1,  4,  1,  4,  0,\n",
      "          8,  0,  8,  1,  8,  1,  8]]), Start = tensor([[10,  0, 10,  0,  2,  0,  2,  0,  2,  0,  2,  0,  2,  1,  2,  0, 11,  0,\n",
      "         11,  1,  8,  1,  8,  1,  8,  1,  8,  0,  8,  1,  8,  1,  8,  1,  8,  1,\n",
      "          8,  1,  8,  1,  8,  1,  8,  1,  8,  1,  8,  1,  8,  0,  8,  1,  8,  1,\n",
      "          8,  1,  8,  1,  8,  1,  8,  1,  8,  0,  8,  1,  8,  1,  8,  1,  8,  1,\n",
      "          8,  1,  8,  1,  8,  1,  8]])\n",
      "Predicted: 1 True: 1, Predicted with start: 1\n",
      "\n",
      "Tokens = tensor([[10,  0,  2,  0,  2,  1, 10,  0,  2,  0,  7,  0, 11,  1, 11,  0,  8,  1,\n",
      "          8,  1,  8,  1,  8,  1,  8,  1,  8,  1,  8,  1,  3,  0,  8,  1,  3,  0,\n",
      "          8,  0,  8,  1,  8,  1,  8,  0,  8,  1,  8,  1,  8,  1,  8,  1,  8,  1,\n",
      "          8,  1,  8,  1,  2,  0,  8,  1,  8,  1,  8,  1,  8,  1,  4,  1,  4,  0,\n",
      "          8,  0,  8,  1,  8,  1,  8,  1]]), Start = tensor([[10,  0, 10,  0,  2,  0,  2,  0,  2,  0,  2,  0,  2,  1,  2,  0, 11,  0,\n",
      "         11,  1,  8,  1,  8,  1,  8,  1,  8,  0,  8,  1,  8,  1,  8,  1,  8,  1,\n",
      "          8,  1,  8,  1,  8,  1,  8,  1,  8,  1,  8,  1,  8,  0,  8,  1,  8,  1,\n",
      "          8,  1,  8,  1,  8,  1,  8,  1,  8,  0,  8,  1,  8,  1,  8,  1,  8,  1,\n",
      "          8,  1,  8,  1,  8,  1,  8,  1]])\n",
      "Predicted: 8 True: 8, Predicted with start: 8\n",
      "\n",
      "Tokens = tensor([[10,  0,  2,  0,  2,  1, 10,  0,  2,  0,  7,  0, 11,  1, 11,  0,  8,  1,\n",
      "          8,  1,  8,  1,  8,  1,  8,  1,  8,  1,  8,  1,  3,  0,  8,  1,  3,  0,\n",
      "          8,  0,  8,  1,  8,  1,  8,  0,  8,  1,  8,  1,  8,  1,  8,  1,  8,  1,\n",
      "          8,  1,  8,  1,  2,  0,  8,  1,  8,  1,  8,  1,  8,  1,  4,  1,  4,  0,\n",
      "          8,  0,  8,  1,  8,  1,  8,  1,  8]]), Start = tensor([[10,  0, 10,  0,  2,  0,  2,  0,  2,  0,  2,  0,  2,  1,  2,  0, 11,  0,\n",
      "         11,  1,  8,  1,  8,  1,  8,  1,  8,  0,  8,  1,  8,  1,  8,  1,  8,  1,\n",
      "          8,  1,  8,  1,  8,  1,  8,  1,  8,  1,  8,  1,  8,  0,  8,  1,  8,  1,\n",
      "          8,  1,  8,  1,  8,  1,  8,  1,  8,  0,  8,  1,  8,  1,  8,  1,  8,  1,\n",
      "          8,  1,  8,  1,  8,  1,  8,  1,  8]])\n",
      "Predicted: 1 True: 1, Predicted with start: 1\n",
      "\n",
      "Tokens = tensor([[10,  0,  2,  0,  2,  1, 10,  0,  2,  0,  7,  0, 11,  1, 11,  0,  8,  1,\n",
      "          8,  1,  8,  1,  8,  1,  8,  1,  8,  1,  8,  1,  3,  0,  8,  1,  3,  0,\n",
      "          8,  0,  8,  1,  8,  1,  8,  0,  8,  1,  8,  1,  8,  1,  8,  1,  8,  1,\n",
      "          8,  1,  8,  1,  2,  0,  8,  1,  8,  1,  8,  1,  8,  1,  4,  1,  4,  0,\n",
      "          8,  0,  8,  1,  8,  1,  8,  1,  8,  1]]), Start = tensor([[10,  0, 10,  0,  2,  0,  2,  0,  2,  0,  2,  0,  2,  1,  2,  0, 11,  0,\n",
      "         11,  1,  8,  1,  8,  1,  8,  1,  8,  0,  8,  1,  8,  1,  8,  1,  8,  1,\n",
      "          8,  1,  8,  1,  8,  1,  8,  1,  8,  1,  8,  1,  8,  0,  8,  1,  8,  1,\n",
      "          8,  1,  8,  1,  8,  1,  8,  1,  8,  0,  8,  1,  8,  1,  8,  1,  8,  1,\n",
      "          8,  1,  8,  1,  8,  1,  8,  1,  8,  1]])\n",
      "Predicted: 8 True: 8, Predicted with start: 8\n",
      "\n",
      "Tokens = tensor([[10,  0,  2,  0,  2,  1, 10,  0,  2,  0,  7,  0, 11,  1, 11,  0,  8,  1,\n",
      "          8,  1,  8,  1,  8,  1,  8,  1,  8,  1,  8,  1,  3,  0,  8,  1,  3,  0,\n",
      "          8,  0,  8,  1,  8,  1,  8,  0,  8,  1,  8,  1,  8,  1,  8,  1,  8,  1,\n",
      "          8,  1,  8,  1,  2,  0,  8,  1,  8,  1,  8,  1,  8,  1,  4,  1,  4,  0,\n",
      "          8,  0,  8,  1,  8,  1,  8,  1,  8,  1,  8]]), Start = tensor([[10,  0, 10,  0,  2,  0,  2,  0,  2,  0,  2,  0,  2,  1,  2,  0, 11,  0,\n",
      "         11,  1,  8,  1,  8,  1,  8,  1,  8,  0,  8,  1,  8,  1,  8,  1,  8,  1,\n",
      "          8,  1,  8,  1,  8,  1,  8,  1,  8,  1,  8,  1,  8,  0,  8,  1,  8,  1,\n",
      "          8,  1,  8,  1,  8,  1,  8,  1,  8,  0,  8,  1,  8,  1,  8,  1,  8,  1,\n",
      "          8,  1,  8,  1,  8,  1,  8,  1,  8,  1,  8]])\n",
      "Predicted: 1 True: 1, Predicted with start: 1\n",
      "\n",
      "Tokens = tensor([[10,  0,  2,  0,  2,  1, 10,  0,  2,  0,  7,  0, 11,  1, 11,  0,  8,  1,\n",
      "          8,  1,  8,  1,  8,  1,  8,  1,  8,  1,  8,  1,  3,  0,  8,  1,  3,  0,\n",
      "          8,  0,  8,  1,  8,  1,  8,  0,  8,  1,  8,  1,  8,  1,  8,  1,  8,  1,\n",
      "          8,  1,  8,  1,  2,  0,  8,  1,  8,  1,  8,  1,  8,  1,  4,  1,  4,  0,\n",
      "          8,  0,  8,  1,  8,  1,  8,  1,  8,  1,  8,  1]]), Start = tensor([[10,  0, 10,  0,  2,  0,  2,  0,  2,  0,  2,  0,  2,  1,  2,  0, 11,  0,\n",
      "         11,  1,  8,  1,  8,  1,  8,  1,  8,  0,  8,  1,  8,  1,  8,  1,  8,  1,\n",
      "          8,  1,  8,  1,  8,  1,  8,  1,  8,  1,  8,  1,  8,  0,  8,  1,  8,  1,\n",
      "          8,  1,  8,  1,  8,  1,  8,  1,  8,  0,  8,  1,  8,  1,  8,  1,  8,  1,\n",
      "          8,  1,  8,  1,  8,  1,  8,  1,  8,  1,  8,  1]])\n",
      "Predicted: 8 True: 8, Predicted with start: 8\n",
      "\n",
      "Tokens = tensor([[10,  0,  2,  0,  2,  1, 10,  0,  2,  0,  7,  0, 11,  1, 11,  0,  8,  1,\n",
      "          8,  1,  8,  1,  8,  1,  8,  1,  8,  1,  8,  1,  3,  0,  8,  1,  3,  0,\n",
      "          8,  0,  8,  1,  8,  1,  8,  0,  8,  1,  8,  1,  8,  1,  8,  1,  8,  1,\n",
      "          8,  1,  8,  1,  2,  0,  8,  1,  8,  1,  8,  1,  8,  1,  4,  1,  4,  0,\n",
      "          8,  0,  8,  1,  8,  1,  8,  1,  8,  1,  8,  1,  8]]), Start = tensor([[10,  0, 10,  0,  2,  0,  2,  0,  2,  0,  2,  0,  2,  1,  2,  0, 11,  0,\n",
      "         11,  1,  8,  1,  8,  1,  8,  1,  8,  0,  8,  1,  8,  1,  8,  1,  8,  1,\n",
      "          8,  1,  8,  1,  8,  1,  8,  1,  8,  1,  8,  1,  8,  0,  8,  1,  8,  1,\n",
      "          8,  1,  8,  1,  8,  1,  8,  1,  8,  0,  8,  1,  8,  1,  8,  1,  8,  1,\n",
      "          8,  1,  8,  1,  8,  1,  8,  1,  8,  1,  8,  1,  8]])\n",
      "Predicted: 1 True: 1, Predicted with start: 1\n",
      "\n",
      "Tokens = tensor([[10,  0,  2,  0,  2,  1, 10,  0,  2,  0,  7,  0, 11,  1, 11,  0,  8,  1,\n",
      "          8,  1,  8,  1,  8,  1,  8,  1,  8,  1,  8,  1,  3,  0,  8,  1,  3,  0,\n",
      "          8,  0,  8,  1,  8,  1,  8,  0,  8,  1,  8,  1,  8,  1,  8,  1,  8,  1,\n",
      "          8,  1,  8,  1,  2,  0,  8,  1,  8,  1,  8,  1,  8,  1,  4,  1,  4,  0,\n",
      "          8,  0,  8,  1,  8,  1,  8,  1,  8,  1,  8,  1,  8,  1]]), Start = tensor([[10,  0, 10,  0,  2,  0,  2,  0,  2,  0,  2,  0,  2,  1,  2,  0, 11,  0,\n",
      "         11,  1,  8,  1,  8,  1,  8,  1,  8,  0,  8,  1,  8,  1,  8,  1,  8,  1,\n",
      "          8,  1,  8,  1,  8,  1,  8,  1,  8,  1,  8,  1,  8,  0,  8,  1,  8,  1,\n",
      "          8,  1,  8,  1,  8,  1,  8,  1,  8,  0,  8,  1,  8,  1,  8,  1,  8,  1,\n",
      "          8,  1,  8,  1,  8,  1,  8,  1,  8,  1,  8,  1,  8,  1]])\n",
      "Predicted: 8 True: 10, Predicted with start: 8\n",
      "\n",
      "Tokens = tensor([[10,  0,  2,  0,  2,  1, 10,  0,  2,  0,  7,  0, 11,  1, 11,  0,  8,  1,\n",
      "          8,  1,  8,  1,  8,  1,  8,  1,  8,  1,  8,  1,  3,  0,  8,  1,  3,  0,\n",
      "          8,  0,  8,  1,  8,  1,  8,  0,  8,  1,  8,  1,  8,  1,  8,  1,  8,  1,\n",
      "          8,  1,  8,  1,  2,  0,  8,  1,  8,  1,  8,  1,  8,  1,  4,  1,  4,  0,\n",
      "          8,  0,  8,  1,  8,  1,  8,  1,  8,  1,  8,  1,  8,  1, 10]]), Start = tensor([[10,  0, 10,  0,  2,  0,  2,  0,  2,  0,  2,  0,  2,  1,  2,  0, 11,  0,\n",
      "         11,  1,  8,  1,  8,  1,  8,  1,  8,  0,  8,  1,  8,  1,  8,  1,  8,  1,\n",
      "          8,  1,  8,  1,  8,  1,  8,  1,  8,  1,  8,  1,  8,  0,  8,  1,  8,  1,\n",
      "          8,  1,  8,  1,  8,  1,  8,  1,  8,  0,  8,  1,  8,  1,  8,  1,  8,  1,\n",
      "          8,  1,  8,  1,  8,  1,  8,  1,  8,  1,  8,  1,  8,  1,  8]])\n",
      "Predicted: 0 True: 0, Predicted with start: 1\n",
      "\n",
      "Tokens = tensor([[10,  0,  2,  0,  2,  1, 10,  0,  2,  0,  7,  0, 11,  1, 11,  0,  8,  1,\n",
      "          8,  1,  8,  1,  8,  1,  8,  1,  8,  1,  8,  1,  3,  0,  8,  1,  3,  0,\n",
      "          8,  0,  8,  1,  8,  1,  8,  0,  8,  1,  8,  1,  8,  1,  8,  1,  8,  1,\n",
      "          8,  1,  8,  1,  2,  0,  8,  1,  8,  1,  8,  1,  8,  1,  4,  1,  4,  0,\n",
      "          8,  0,  8,  1,  8,  1,  8,  1,  8,  1,  8,  1,  8,  1, 10,  0]]), Start = tensor([[10,  0, 10,  0,  2,  0,  2,  0,  2,  0,  2,  0,  2,  1,  2,  0, 11,  0,\n",
      "         11,  1,  8,  1,  8,  1,  8,  1,  8,  0,  8,  1,  8,  1,  8,  1,  8,  1,\n",
      "          8,  1,  8,  1,  8,  1,  8,  1,  8,  1,  8,  1,  8,  0,  8,  1,  8,  1,\n",
      "          8,  1,  8,  1,  8,  1,  8,  1,  8,  0,  8,  1,  8,  1,  8,  1,  8,  1,\n",
      "          8,  1,  8,  1,  8,  1,  8,  1,  8,  1,  8,  1,  8,  1,  8,  1]])\n",
      "Predicted: 8 True: 8, Predicted with start: 8\n",
      "\n",
      "Tokens = tensor([[10,  0,  2,  0,  2,  1, 10,  0,  2,  0,  7,  0, 11,  1, 11,  0,  8,  1,\n",
      "          8,  1,  8,  1,  8,  1,  8,  1,  8,  1,  8,  1,  3,  0,  8,  1,  3,  0,\n",
      "          8,  0,  8,  1,  8,  1,  8,  0,  8,  1,  8,  1,  8,  1,  8,  1,  8,  1,\n",
      "          8,  1,  8,  1,  2,  0,  8,  1,  8,  1,  8,  1,  8,  1,  4,  1,  4,  0,\n",
      "          8,  0,  8,  1,  8,  1,  8,  1,  8,  1,  8,  1,  8,  1, 10,  0,  8]]), Start = tensor([[10,  0, 10,  0,  2,  0,  2,  0,  2,  0,  2,  0,  2,  1,  2,  0, 11,  0,\n",
      "         11,  1,  8,  1,  8,  1,  8,  1,  8,  0,  8,  1,  8,  1,  8,  1,  8,  1,\n",
      "          8,  1,  8,  1,  8,  1,  8,  1,  8,  1,  8,  1,  8,  0,  8,  1,  8,  1,\n",
      "          8,  1,  8,  1,  8,  1,  8,  1,  8,  0,  8,  1,  8,  1,  8,  1,  8,  1,\n",
      "          8,  1,  8,  1,  8,  1,  8,  1,  8,  1,  8,  1,  8,  1,  8,  1,  8]])\n",
      "Predicted: 1 True: 1, Predicted with start: 1\n",
      "\n",
      "Tokens = tensor([[10,  0,  2,  0,  2,  1, 10,  0,  2,  0,  7,  0, 11,  1, 11,  0,  8,  1,\n",
      "          8,  1,  8,  1,  8,  1,  8,  1,  8,  1,  8,  1,  3,  0,  8,  1,  3,  0,\n",
      "          8,  0,  8,  1,  8,  1,  8,  0,  8,  1,  8,  1,  8,  1,  8,  1,  8,  1,\n",
      "          8,  1,  8,  1,  2,  0,  8,  1,  8,  1,  8,  1,  8,  1,  4,  1,  4,  0,\n",
      "          8,  0,  8,  1,  8,  1,  8,  1,  8,  1,  8,  1,  8,  1, 10,  0,  8,  1]]), Start = tensor([[10,  0, 10,  0,  2,  0,  2,  0,  2,  0,  2,  0,  2,  1,  2,  0, 11,  0,\n",
      "         11,  1,  8,  1,  8,  1,  8,  1,  8,  0,  8,  1,  8,  1,  8,  1,  8,  1,\n",
      "          8,  1,  8,  1,  8,  1,  8,  1,  8,  1,  8,  1,  8,  0,  8,  1,  8,  1,\n",
      "          8,  1,  8,  1,  8,  1,  8,  1,  8,  0,  8,  1,  8,  1,  8,  1,  8,  1,\n",
      "          8,  1,  8,  1,  8,  1,  8,  1,  8,  1,  8,  1,  8,  1,  8,  1,  8,  1]])\n",
      "Predicted: 8 True: 8, Predicted with start: 8\n",
      "\n",
      "Tokens = tensor([[10,  0,  2,  0,  2,  1, 10,  0,  2,  0,  7,  0, 11,  1, 11,  0,  8,  1,\n",
      "          8,  1,  8,  1,  8,  1,  8,  1,  8,  1,  8,  1,  3,  0,  8,  1,  3,  0,\n",
      "          8,  0,  8,  1,  8,  1,  8,  0,  8,  1,  8,  1,  8,  1,  8,  1,  8,  1,\n",
      "          8,  1,  8,  1,  2,  0,  8,  1,  8,  1,  8,  1,  8,  1,  4,  1,  4,  0,\n",
      "          8,  0,  8,  1,  8,  1,  8,  1,  8,  1,  8,  1,  8,  1, 10,  0,  8,  1,\n",
      "          8]]), Start = tensor([[10,  0, 10,  0,  2,  0,  2,  0,  2,  0,  2,  0,  2,  1,  2,  0, 11,  0,\n",
      "         11,  1,  8,  1,  8,  1,  8,  1,  8,  0,  8,  1,  8,  1,  8,  1,  8,  1,\n",
      "          8,  1,  8,  1,  8,  1,  8,  1,  8,  1,  8,  1,  8,  0,  8,  1,  8,  1,\n",
      "          8,  1,  8,  1,  8,  1,  8,  1,  8,  0,  8,  1,  8,  1,  8,  1,  8,  1,\n",
      "          8,  1,  8,  1,  8,  1,  8,  1,  8,  1,  8,  1,  8,  1,  8,  1,  8,  1,\n",
      "          8]])\n",
      "Predicted: 1 True: 1, Predicted with start: 1\n",
      "\n",
      "Tokens = tensor([[10,  0,  2,  0,  2,  1, 10,  0,  2,  0,  7,  0, 11,  1, 11,  0,  8,  1,\n",
      "          8,  1,  8,  1,  8,  1,  8,  1,  8,  1,  8,  1,  3,  0,  8,  1,  3,  0,\n",
      "          8,  0,  8,  1,  8,  1,  8,  0,  8,  1,  8,  1,  8,  1,  8,  1,  8,  1,\n",
      "          8,  1,  8,  1,  2,  0,  8,  1,  8,  1,  8,  1,  8,  1,  4,  1,  4,  0,\n",
      "          8,  0,  8,  1,  8,  1,  8,  1,  8,  1,  8,  1,  8,  1, 10,  0,  8,  1,\n",
      "          8,  1]]), Start = tensor([[10,  0, 10,  0,  2,  0,  2,  0,  2,  0,  2,  0,  2,  1,  2,  0, 11,  0,\n",
      "         11,  1,  8,  1,  8,  1,  8,  1,  8,  0,  8,  1,  8,  1,  8,  1,  8,  1,\n",
      "          8,  1,  8,  1,  8,  1,  8,  1,  8,  1,  8,  1,  8,  0,  8,  1,  8,  1,\n",
      "          8,  1,  8,  1,  8,  1,  8,  1,  8,  0,  8,  1,  8,  1,  8,  1,  8,  1,\n",
      "          8,  1,  8,  1,  8,  1,  8,  1,  8,  1,  8,  1,  8,  1,  8,  1,  8,  1,\n",
      "          8,  1]])\n",
      "Predicted: 8 True: 8, Predicted with start: 8\n",
      "\n",
      "Tokens = tensor([[10,  0,  2,  0,  2,  1, 10,  0,  2,  0,  7,  0, 11,  1, 11,  0,  8,  1,\n",
      "          8,  1,  8,  1,  8,  1,  8,  1,  8,  1,  8,  1,  3,  0,  8,  1,  3,  0,\n",
      "          8,  0,  8,  1,  8,  1,  8,  0,  8,  1,  8,  1,  8,  1,  8,  1,  8,  1,\n",
      "          8,  1,  8,  1,  2,  0,  8,  1,  8,  1,  8,  1,  8,  1,  4,  1,  4,  0,\n",
      "          8,  0,  8,  1,  8,  1,  8,  1,  8,  1,  8,  1,  8,  1, 10,  0,  8,  1,\n",
      "          8,  1,  8]]), Start = tensor([[10,  0, 10,  0,  2,  0,  2,  0,  2,  0,  2,  0,  2,  1,  2,  0, 11,  0,\n",
      "         11,  1,  8,  1,  8,  1,  8,  1,  8,  0,  8,  1,  8,  1,  8,  1,  8,  1,\n",
      "          8,  1,  8,  1,  8,  1,  8,  1,  8,  1,  8,  1,  8,  0,  8,  1,  8,  1,\n",
      "          8,  1,  8,  1,  8,  1,  8,  1,  8,  0,  8,  1,  8,  1,  8,  1,  8,  1,\n",
      "          8,  1,  8,  1,  8,  1,  8,  1,  8,  1,  8,  1,  8,  1,  8,  1,  8,  1,\n",
      "          8,  1,  8]])\n",
      "Predicted: 1 True: 1, Predicted with start: 1\n",
      "\n",
      "Tokens = tensor([[10,  0,  2,  0,  2,  1, 10,  0,  2,  0,  7,  0, 11,  1, 11,  0,  8,  1,\n",
      "          8,  1,  8,  1,  8,  1,  8,  1,  8,  1,  8,  1,  3,  0,  8,  1,  3,  0,\n",
      "          8,  0,  8,  1,  8,  1,  8,  0,  8,  1,  8,  1,  8,  1,  8,  1,  8,  1,\n",
      "          8,  1,  8,  1,  2,  0,  8,  1,  8,  1,  8,  1,  8,  1,  4,  1,  4,  0,\n",
      "          8,  0,  8,  1,  8,  1,  8,  1,  8,  1,  8,  1,  8,  1, 10,  0,  8,  1,\n",
      "          8,  1,  8,  1]]), Start = tensor([[10,  0, 10,  0,  2,  0,  2,  0,  2,  0,  2,  0,  2,  1,  2,  0, 11,  0,\n",
      "         11,  1,  8,  1,  8,  1,  8,  1,  8,  0,  8,  1,  8,  1,  8,  1,  8,  1,\n",
      "          8,  1,  8,  1,  8,  1,  8,  1,  8,  1,  8,  1,  8,  0,  8,  1,  8,  1,\n",
      "          8,  1,  8,  1,  8,  1,  8,  1,  8,  0,  8,  1,  8,  1,  8,  1,  8,  1,\n",
      "          8,  1,  8,  1,  8,  1,  8,  1,  8,  1,  8,  1,  8,  1,  8,  1,  8,  1,\n",
      "          8,  1,  8,  1]])\n",
      "Predicted: 8 True: 8, Predicted with start: 8\n",
      "\n",
      "Tokens = tensor([[10,  0,  2,  0,  2,  1, 10,  0,  2,  0,  7,  0, 11,  1, 11,  0,  8,  1,\n",
      "          8,  1,  8,  1,  8,  1,  8,  1,  8,  1,  8,  1,  3,  0,  8,  1,  3,  0,\n",
      "          8,  0,  8,  1,  8,  1,  8,  0,  8,  1,  8,  1,  8,  1,  8,  1,  8,  1,\n",
      "          8,  1,  8,  1,  2,  0,  8,  1,  8,  1,  8,  1,  8,  1,  4,  1,  4,  0,\n",
      "          8,  0,  8,  1,  8,  1,  8,  1,  8,  1,  8,  1,  8,  1, 10,  0,  8,  1,\n",
      "          8,  1,  8,  1,  8]]), Start = tensor([[10,  0, 10,  0,  2,  0,  2,  0,  2,  0,  2,  0,  2,  1,  2,  0, 11,  0,\n",
      "         11,  1,  8,  1,  8,  1,  8,  1,  8,  0,  8,  1,  8,  1,  8,  1,  8,  1,\n",
      "          8,  1,  8,  1,  8,  1,  8,  1,  8,  1,  8,  1,  8,  0,  8,  1,  8,  1,\n",
      "          8,  1,  8,  1,  8,  1,  8,  1,  8,  0,  8,  1,  8,  1,  8,  1,  8,  1,\n",
      "          8,  1,  8,  1,  8,  1,  8,  1,  8,  1,  8,  1,  8,  1,  8,  1,  8,  1,\n",
      "          8,  1,  8,  1,  8]])\n",
      "Predicted: 1 True: 1, Predicted with start: 1\n",
      "\n",
      "Tokens = tensor([[10,  0,  2,  0,  2,  1, 10,  0,  2,  0,  7,  0, 11,  1, 11,  0,  8,  1,\n",
      "          8,  1,  8,  1,  8,  1,  8,  1,  8,  1,  8,  1,  3,  0,  8,  1,  3,  0,\n",
      "          8,  0,  8,  1,  8,  1,  8,  0,  8,  1,  8,  1,  8,  1,  8,  1,  8,  1,\n",
      "          8,  1,  8,  1,  2,  0,  8,  1,  8,  1,  8,  1,  8,  1,  4,  1,  4,  0,\n",
      "          8,  0,  8,  1,  8,  1,  8,  1,  8,  1,  8,  1,  8,  1, 10,  0,  8,  1,\n",
      "          8,  1,  8,  1,  8,  1]]), Start = tensor([[10,  0, 10,  0,  2,  0,  2,  0,  2,  0,  2,  0,  2,  1,  2,  0, 11,  0,\n",
      "         11,  1,  8,  1,  8,  1,  8,  1,  8,  0,  8,  1,  8,  1,  8,  1,  8,  1,\n",
      "          8,  1,  8,  1,  8,  1,  8,  1,  8,  1,  8,  1,  8,  0,  8,  1,  8,  1,\n",
      "          8,  1,  8,  1,  8,  1,  8,  1,  8,  0,  8,  1,  8,  1,  8,  1,  8,  1,\n",
      "          8,  1,  8,  1,  8,  1,  8,  1,  8,  1,  8,  1,  8,  1,  8,  1,  8,  1,\n",
      "          8,  1,  8,  1,  8,  1]])\n",
      "Predicted: 8 True: 8, Predicted with start: 8\n",
      "\n",
      "Tokens = tensor([[10,  0,  2,  0,  2,  1, 10,  0,  2,  0,  7,  0, 11,  1, 11,  0,  8,  1,\n",
      "          8,  1,  8,  1,  8,  1,  8,  1,  8,  1,  8,  1,  3,  0,  8,  1,  3,  0,\n",
      "          8,  0,  8,  1,  8,  1,  8,  0,  8,  1,  8,  1,  8,  1,  8,  1,  8,  1,\n",
      "          8,  1,  8,  1,  2,  0,  8,  1,  8,  1,  8,  1,  8,  1,  4,  1,  4,  0,\n",
      "          8,  0,  8,  1,  8,  1,  8,  1,  8,  1,  8,  1,  8,  1, 10,  0,  8,  1,\n",
      "          8,  1,  8,  1,  8,  1,  8]]), Start = tensor([[10,  0, 10,  0,  2,  0,  2,  0,  2,  0,  2,  0,  2,  1,  2,  0, 11,  0,\n",
      "         11,  1,  8,  1,  8,  1,  8,  1,  8,  0,  8,  1,  8,  1,  8,  1,  8,  1,\n",
      "          8,  1,  8,  1,  8,  1,  8,  1,  8,  1,  8,  1,  8,  0,  8,  1,  8,  1,\n",
      "          8,  1,  8,  1,  8,  1,  8,  1,  8,  0,  8,  1,  8,  1,  8,  1,  8,  1,\n",
      "          8,  1,  8,  1,  8,  1,  8,  1,  8,  1,  8,  1,  8,  1,  8,  1,  8,  1,\n",
      "          8,  1,  8,  1,  8,  1,  8]])\n",
      "Predicted: 1 True: 1, Predicted with start: 1\n",
      "\n",
      "Tokens = tensor([[10,  0,  2,  0,  2,  1, 10,  0,  2,  0,  7,  0, 11,  1, 11,  0,  8,  1,\n",
      "          8,  1,  8,  1,  8,  1,  8,  1,  8,  1,  8,  1,  3,  0,  8,  1,  3,  0,\n",
      "          8,  0,  8,  1,  8,  1,  8,  0,  8,  1,  8,  1,  8,  1,  8,  1,  8,  1,\n",
      "          8,  1,  8,  1,  2,  0,  8,  1,  8,  1,  8,  1,  8,  1,  4,  1,  4,  0,\n",
      "          8,  0,  8,  1,  8,  1,  8,  1,  8,  1,  8,  1,  8,  1, 10,  0,  8,  1,\n",
      "          8,  1,  8,  1,  8,  1,  8,  1]]), Start = tensor([[10,  0, 10,  0,  2,  0,  2,  0,  2,  0,  2,  0,  2,  1,  2,  0, 11,  0,\n",
      "         11,  1,  8,  1,  8,  1,  8,  1,  8,  0,  8,  1,  8,  1,  8,  1,  8,  1,\n",
      "          8,  1,  8,  1,  8,  1,  8,  1,  8,  1,  8,  1,  8,  0,  8,  1,  8,  1,\n",
      "          8,  1,  8,  1,  8,  1,  8,  1,  8,  0,  8,  1,  8,  1,  8,  1,  8,  1,\n",
      "          8,  1,  8,  1,  8,  1,  8,  1,  8,  1,  8,  1,  8,  1,  8,  1,  8,  1,\n",
      "          8,  1,  8,  1,  8,  1,  8,  1]])\n",
      "Predicted: 8 True: 10, Predicted with start: 8\n",
      "\n",
      "Tokens = tensor([[10,  0,  2,  0,  2,  1, 10,  0,  2,  0,  7,  0, 11,  1, 11,  0,  8,  1,\n",
      "          8,  1,  8,  1,  8,  1,  8,  1,  8,  1,  8,  1,  3,  0,  8,  1,  3,  0,\n",
      "          8,  0,  8,  1,  8,  1,  8,  0,  8,  1,  8,  1,  8,  1,  8,  1,  8,  1,\n",
      "          8,  1,  8,  1,  2,  0,  8,  1,  8,  1,  8,  1,  8,  1,  4,  1,  4,  0,\n",
      "          8,  0,  8,  1,  8,  1,  8,  1,  8,  1,  8,  1,  8,  1, 10,  0,  8,  1,\n",
      "          8,  1,  8,  1,  8,  1,  8,  1, 10]]), Start = tensor([[10,  0, 10,  0,  2,  0,  2,  0,  2,  0,  2,  0,  2,  1,  2,  0, 11,  0,\n",
      "         11,  1,  8,  1,  8,  1,  8,  1,  8,  0,  8,  1,  8,  1,  8,  1,  8,  1,\n",
      "          8,  1,  8,  1,  8,  1,  8,  1,  8,  1,  8,  1,  8,  0,  8,  1,  8,  1,\n",
      "          8,  1,  8,  1,  8,  1,  8,  1,  8,  0,  8,  1,  8,  1,  8,  1,  8,  1,\n",
      "          8,  1,  8,  1,  8,  1,  8,  1,  8,  1,  8,  1,  8,  1,  8,  1,  8,  1,\n",
      "          8,  1,  8,  1,  8,  1,  8,  1,  8]])\n",
      "Predicted: 0 True: 0, Predicted with start: 1\n",
      "\n",
      "Tokens = tensor([[10,  0,  2,  0,  2,  1, 10,  0,  2,  0,  7,  0, 11,  1, 11,  0,  8,  1,\n",
      "          8,  1,  8,  1,  8,  1,  8,  1,  8,  1,  8,  1,  3,  0,  8,  1,  3,  0,\n",
      "          8,  0,  8,  1,  8,  1,  8,  0,  8,  1,  8,  1,  8,  1,  8,  1,  8,  1,\n",
      "          8,  1,  8,  1,  2,  0,  8,  1,  8,  1,  8,  1,  8,  1,  4,  1,  4,  0,\n",
      "          8,  0,  8,  1,  8,  1,  8,  1,  8,  1,  8,  1,  8,  1, 10,  0,  8,  1,\n",
      "          8,  1,  8,  1,  8,  1,  8,  1, 10,  0]]), Start = tensor([[10,  0, 10,  0,  2,  0,  2,  0,  2,  0,  2,  0,  2,  1,  2,  0, 11,  0,\n",
      "         11,  1,  8,  1,  8,  1,  8,  1,  8,  0,  8,  1,  8,  1,  8,  1,  8,  1,\n",
      "          8,  1,  8,  1,  8,  1,  8,  1,  8,  1,  8,  1,  8,  0,  8,  1,  8,  1,\n",
      "          8,  1,  8,  1,  8,  1,  8,  1,  8,  0,  8,  1,  8,  1,  8,  1,  8,  1,\n",
      "          8,  1,  8,  1,  8,  1,  8,  1,  8,  1,  8,  1,  8,  1,  8,  1,  8,  1,\n",
      "          8,  1,  8,  1,  8,  1,  8,  1,  8,  1]])\n",
      "Predicted: 8 True: 8, Predicted with start: 8\n",
      "\n",
      "Tokens = tensor([[10,  0,  2,  0,  2,  1, 10,  0,  2,  0,  7,  0, 11,  1, 11,  0,  8,  1,\n",
      "          8,  1,  8,  1,  8,  1,  8,  1,  8,  1,  8,  1,  3,  0,  8,  1,  3,  0,\n",
      "          8,  0,  8,  1,  8,  1,  8,  0,  8,  1,  8,  1,  8,  1,  8,  1,  8,  1,\n",
      "          8,  1,  8,  1,  2,  0,  8,  1,  8,  1,  8,  1,  8,  1,  4,  1,  4,  0,\n",
      "          8,  0,  8,  1,  8,  1,  8,  1,  8,  1,  8,  1,  8,  1, 10,  0,  8,  1,\n",
      "          8,  1,  8,  1,  8,  1,  8,  1, 10,  0,  8]]), Start = tensor([[10,  0, 10,  0,  2,  0,  2,  0,  2,  0,  2,  0,  2,  1,  2,  0, 11,  0,\n",
      "         11,  1,  8,  1,  8,  1,  8,  1,  8,  0,  8,  1,  8,  1,  8,  1,  8,  1,\n",
      "          8,  1,  8,  1,  8,  1,  8,  1,  8,  1,  8,  1,  8,  0,  8,  1,  8,  1,\n",
      "          8,  1,  8,  1,  8,  1,  8,  1,  8,  0,  8,  1,  8,  1,  8,  1,  8,  1,\n",
      "          8,  1,  8,  1,  8,  1,  8,  1,  8,  1,  8,  1,  8,  1,  8,  1,  8,  1,\n",
      "          8,  1,  8,  1,  8,  1,  8,  1,  8,  1,  8]])\n",
      "Predicted: 1 True: 1, Predicted with start: 1\n",
      "\n",
      "Tokens = tensor([[10,  0,  2,  0,  2,  1, 10,  0,  2,  0,  7,  0, 11,  1, 11,  0,  8,  1,\n",
      "          8,  1,  8,  1,  8,  1,  8,  1,  8,  1,  8,  1,  3,  0,  8,  1,  3,  0,\n",
      "          8,  0,  8,  1,  8,  1,  8,  0,  8,  1,  8,  1,  8,  1,  8,  1,  8,  1,\n",
      "          8,  1,  8,  1,  2,  0,  8,  1,  8,  1,  8,  1,  8,  1,  4,  1,  4,  0,\n",
      "          8,  0,  8,  1,  8,  1,  8,  1,  8,  1,  8,  1,  8,  1, 10,  0,  8,  1,\n",
      "          8,  1,  8,  1,  8,  1,  8,  1, 10,  0,  8,  1]]), Start = tensor([[10,  0, 10,  0,  2,  0,  2,  0,  2,  0,  2,  0,  2,  1,  2,  0, 11,  0,\n",
      "         11,  1,  8,  1,  8,  1,  8,  1,  8,  0,  8,  1,  8,  1,  8,  1,  8,  1,\n",
      "          8,  1,  8,  1,  8,  1,  8,  1,  8,  1,  8,  1,  8,  0,  8,  1,  8,  1,\n",
      "          8,  1,  8,  1,  8,  1,  8,  1,  8,  0,  8,  1,  8,  1,  8,  1,  8,  1,\n",
      "          8,  1,  8,  1,  8,  1,  8,  1,  8,  1,  8,  1,  8,  1,  8,  1,  8,  1,\n",
      "          8,  1,  8,  1,  8,  1,  8,  1,  8,  1,  8,  1]])\n",
      "Predicted: 8 True: 8, Predicted with start: 8\n",
      "\n",
      "Tokens = tensor([[10,  0,  2,  0,  2,  1, 10,  0,  2,  0,  7,  0, 11,  1, 11,  0,  8,  1,\n",
      "          8,  1,  8,  1,  8,  1,  8,  1,  8,  1,  8,  1,  3,  0,  8,  1,  3,  0,\n",
      "          8,  0,  8,  1,  8,  1,  8,  0,  8,  1,  8,  1,  8,  1,  8,  1,  8,  1,\n",
      "          8,  1,  8,  1,  2,  0,  8,  1,  8,  1,  8,  1,  8,  1,  4,  1,  4,  0,\n",
      "          8,  0,  8,  1,  8,  1,  8,  1,  8,  1,  8,  1,  8,  1, 10,  0,  8,  1,\n",
      "          8,  1,  8,  1,  8,  1,  8,  1, 10,  0,  8,  1,  8]]), Start = tensor([[10,  0, 10,  0,  2,  0,  2,  0,  2,  0,  2,  0,  2,  1,  2,  0, 11,  0,\n",
      "         11,  1,  8,  1,  8,  1,  8,  1,  8,  0,  8,  1,  8,  1,  8,  1,  8,  1,\n",
      "          8,  1,  8,  1,  8,  1,  8,  1,  8,  1,  8,  1,  8,  0,  8,  1,  8,  1,\n",
      "          8,  1,  8,  1,  8,  1,  8,  1,  8,  0,  8,  1,  8,  1,  8,  1,  8,  1,\n",
      "          8,  1,  8,  1,  8,  1,  8,  1,  8,  1,  8,  1,  8,  1,  8,  1,  8,  1,\n",
      "          8,  1,  8,  1,  8,  1,  8,  1,  8,  1,  8,  1,  8]])\n",
      "Predicted: 1 True: 1, Predicted with start: 1\n",
      "\n",
      "Tokens = tensor([[10,  0,  2,  0,  2,  1, 10,  0,  2,  0,  7,  0, 11,  1, 11,  0,  8,  1,\n",
      "          8,  1,  8,  1,  8,  1,  8,  1,  8,  1,  8,  1,  3,  0,  8,  1,  3,  0,\n",
      "          8,  0,  8,  1,  8,  1,  8,  0,  8,  1,  8,  1,  8,  1,  8,  1,  8,  1,\n",
      "          8,  1,  8,  1,  2,  0,  8,  1,  8,  1,  8,  1,  8,  1,  4,  1,  4,  0,\n",
      "          8,  0,  8,  1,  8,  1,  8,  1,  8,  1,  8,  1,  8,  1, 10,  0,  8,  1,\n",
      "          8,  1,  8,  1,  8,  1,  8,  1, 10,  0,  8,  1,  8,  1]]), Start = tensor([[10,  0, 10,  0,  2,  0,  2,  0,  2,  0,  2,  0,  2,  1,  2,  0, 11,  0,\n",
      "         11,  1,  8,  1,  8,  1,  8,  1,  8,  0,  8,  1,  8,  1,  8,  1,  8,  1,\n",
      "          8,  1,  8,  1,  8,  1,  8,  1,  8,  1,  8,  1,  8,  0,  8,  1,  8,  1,\n",
      "          8,  1,  8,  1,  8,  1,  8,  1,  8,  0,  8,  1,  8,  1,  8,  1,  8,  1,\n",
      "          8,  1,  8,  1,  8,  1,  8,  1,  8,  1,  8,  1,  8,  1,  8,  1,  8,  1,\n",
      "          8,  1,  8,  1,  8,  1,  8,  1,  8,  1,  8,  1,  8,  1]])\n",
      "Predicted: 8 True: 4, Predicted with start: 8\n",
      "\n",
      "Tokens = tensor([[10,  0,  2,  0,  2,  1, 10,  0,  2,  0,  7,  0, 11,  1, 11,  0,  8,  1,\n",
      "          8,  1,  8,  1,  8,  1,  8,  1,  8,  1,  8,  1,  3,  0,  8,  1,  3,  0,\n",
      "          8,  0,  8,  1,  8,  1,  8,  0,  8,  1,  8,  1,  8,  1,  8,  1,  8,  1,\n",
      "          8,  1,  8,  1,  2,  0,  8,  1,  8,  1,  8,  1,  8,  1,  4,  1,  4,  0,\n",
      "          8,  0,  8,  1,  8,  1,  8,  1,  8,  1,  8,  1,  8,  1, 10,  0,  8,  1,\n",
      "          8,  1,  8,  1,  8,  1,  8,  1, 10,  0,  8,  1,  8,  1,  4]]), Start = tensor([[10,  0, 10,  0,  2,  0,  2,  0,  2,  0,  2,  0,  2,  1,  2,  0, 11,  0,\n",
      "         11,  1,  8,  1,  8,  1,  8,  1,  8,  0,  8,  1,  8,  1,  8,  1,  8,  1,\n",
      "          8,  1,  8,  1,  8,  1,  8,  1,  8,  1,  8,  1,  8,  0,  8,  1,  8,  1,\n",
      "          8,  1,  8,  1,  8,  1,  8,  1,  8,  0,  8,  1,  8,  1,  8,  1,  8,  1,\n",
      "          8,  1,  8,  1,  8,  1,  8,  1,  8,  1,  8,  1,  8,  1,  8,  1,  8,  1,\n",
      "          8,  1,  8,  1,  8,  1,  8,  1,  8,  1,  8,  1,  8,  1,  8]])\n",
      "Predicted: 0 True: 0, Predicted with start: 1\n",
      "\n",
      "Tokens = tensor([[10,  0,  2,  0,  2,  1, 10,  0,  2,  0,  7,  0, 11,  1, 11,  0,  8,  1,\n",
      "          8,  1,  8,  1,  8,  1,  8,  1,  8,  1,  8,  1,  3,  0,  8,  1,  3,  0,\n",
      "          8,  0,  8,  1,  8,  1,  8,  0,  8,  1,  8,  1,  8,  1,  8,  1,  8,  1,\n",
      "          8,  1,  8,  1,  2,  0,  8,  1,  8,  1,  8,  1,  8,  1,  4,  1,  4,  0,\n",
      "          8,  0,  8,  1,  8,  1,  8,  1,  8,  1,  8,  1,  8,  1, 10,  0,  8,  1,\n",
      "          8,  1,  8,  1,  8,  1,  8,  1, 10,  0,  8,  1,  8,  1,  4,  0]]), Start = tensor([[10,  0, 10,  0,  2,  0,  2,  0,  2,  0,  2,  0,  2,  1,  2,  0, 11,  0,\n",
      "         11,  1,  8,  1,  8,  1,  8,  1,  8,  0,  8,  1,  8,  1,  8,  1,  8,  1,\n",
      "          8,  1,  8,  1,  8,  1,  8,  1,  8,  1,  8,  1,  8,  0,  8,  1,  8,  1,\n",
      "          8,  1,  8,  1,  8,  1,  8,  1,  8,  0,  8,  1,  8,  1,  8,  1,  8,  1,\n",
      "          8,  1,  8,  1,  8,  1,  8,  1,  8,  1,  8,  1,  8,  1,  8,  1,  8,  1,\n",
      "          8,  1,  8,  1,  8,  1,  8,  1,  8,  1,  8,  1,  8,  1,  8,  1]])\n",
      "Predicted: 8 True: 8, Predicted with start: 8\n",
      "\n",
      "Tokens = tensor([[10,  0,  2,  0,  2,  1, 10,  0,  2,  0,  7,  0, 11,  1, 11,  0,  8,  1,\n",
      "          8,  1,  8,  1,  8,  1,  8,  1,  8,  1,  8,  1,  3,  0,  8,  1,  3,  0,\n",
      "          8,  0,  8,  1,  8,  1,  8,  0,  8,  1,  8,  1,  8,  1,  8,  1,  8,  1,\n",
      "          8,  1,  8,  1,  2,  0,  8,  1,  8,  1,  8,  1,  8,  1,  4,  1,  4,  0,\n",
      "          8,  0,  8,  1,  8,  1,  8,  1,  8,  1,  8,  1,  8,  1, 10,  0,  8,  1,\n",
      "          8,  1,  8,  1,  8,  1,  8,  1, 10,  0,  8,  1,  8,  1,  4,  0,  8]]), Start = tensor([[10,  0, 10,  0,  2,  0,  2,  0,  2,  0,  2,  0,  2,  1,  2,  0, 11,  0,\n",
      "         11,  1,  8,  1,  8,  1,  8,  1,  8,  0,  8,  1,  8,  1,  8,  1,  8,  1,\n",
      "          8,  1,  8,  1,  8,  1,  8,  1,  8,  1,  8,  1,  8,  0,  8,  1,  8,  1,\n",
      "          8,  1,  8,  1,  8,  1,  8,  1,  8,  0,  8,  1,  8,  1,  8,  1,  8,  1,\n",
      "          8,  1,  8,  1,  8,  1,  8,  1,  8,  1,  8,  1,  8,  1,  8,  1,  8,  1,\n",
      "          8,  1,  8,  1,  8,  1,  8,  1,  8,  1,  8,  1,  8,  1,  8,  1,  8]])\n",
      "Predicted: 1 True: 1, Predicted with start: 1\n",
      "\n",
      "Tokens = tensor([[10,  0,  2,  0,  2,  1, 10,  0,  2,  0,  7,  0, 11,  1, 11,  0,  8,  1,\n",
      "          8,  1,  8,  1,  8,  1,  8,  1,  8,  1,  8,  1,  3,  0,  8,  1,  3,  0,\n",
      "          8,  0,  8,  1,  8,  1,  8,  0,  8,  1,  8,  1,  8,  1,  8,  1,  8,  1,\n",
      "          8,  1,  8,  1,  2,  0,  8,  1,  8,  1,  8,  1,  8,  1,  4,  1,  4,  0,\n",
      "          8,  0,  8,  1,  8,  1,  8,  1,  8,  1,  8,  1,  8,  1, 10,  0,  8,  1,\n",
      "          8,  1,  8,  1,  8,  1,  8,  1, 10,  0,  8,  1,  8,  1,  4,  0,  8,  1]]), Start = tensor([[10,  0, 10,  0,  2,  0,  2,  0,  2,  0,  2,  0,  2,  1,  2,  0, 11,  0,\n",
      "         11,  1,  8,  1,  8,  1,  8,  1,  8,  0,  8,  1,  8,  1,  8,  1,  8,  1,\n",
      "          8,  1,  8,  1,  8,  1,  8,  1,  8,  1,  8,  1,  8,  0,  8,  1,  8,  1,\n",
      "          8,  1,  8,  1,  8,  1,  8,  1,  8,  0,  8,  1,  8,  1,  8,  1,  8,  1,\n",
      "          8,  1,  8,  1,  8,  1,  8,  1,  8,  1,  8,  1,  8,  1,  8,  1,  8,  1,\n",
      "          8,  1,  8,  1,  8,  1,  8,  1,  8,  1,  8,  1,  8,  1,  8,  1,  8,  1]])\n",
      "Predicted: 8 True: 8, Predicted with start: 8\n",
      "\n",
      "Tokens = tensor([[10,  0,  2,  0,  2,  1, 10,  0,  2,  0,  7,  0, 11,  1, 11,  0,  8,  1,\n",
      "          8,  1,  8,  1,  8,  1,  8,  1,  8,  1,  8,  1,  3,  0,  8,  1,  3,  0,\n",
      "          8,  0,  8,  1,  8,  1,  8,  0,  8,  1,  8,  1,  8,  1,  8,  1,  8,  1,\n",
      "          8,  1,  8,  1,  2,  0,  8,  1,  8,  1,  8,  1,  8,  1,  4,  1,  4,  0,\n",
      "          8,  0,  8,  1,  8,  1,  8,  1,  8,  1,  8,  1,  8,  1, 10,  0,  8,  1,\n",
      "          8,  1,  8,  1,  8,  1,  8,  1, 10,  0,  8,  1,  8,  1,  4,  0,  8,  1,\n",
      "          8]]), Start = tensor([[10,  0, 10,  0,  2,  0,  2,  0,  2,  0,  2,  0,  2,  1,  2,  0, 11,  0,\n",
      "         11,  1,  8,  1,  8,  1,  8,  1,  8,  0,  8,  1,  8,  1,  8,  1,  8,  1,\n",
      "          8,  1,  8,  1,  8,  1,  8,  1,  8,  1,  8,  1,  8,  0,  8,  1,  8,  1,\n",
      "          8,  1,  8,  1,  8,  1,  8,  1,  8,  0,  8,  1,  8,  1,  8,  1,  8,  1,\n",
      "          8,  1,  8,  1,  8,  1,  8,  1,  8,  1,  8,  1,  8,  1,  8,  1,  8,  1,\n",
      "          8,  1,  8,  1,  8,  1,  8,  1,  8,  1,  8,  1,  8,  1,  8,  1,  8,  1,\n",
      "          8]])\n",
      "Predicted: 1 True: 0, Predicted with start: 1\n",
      "\n",
      "Tokens = tensor([[10,  0,  2,  0,  2,  1, 10,  0,  2,  0,  7,  0, 11,  1, 11,  0,  8,  1,\n",
      "          8,  1,  8,  1,  8,  1,  8,  1,  8,  1,  8,  1,  3,  0,  8,  1,  3,  0,\n",
      "          8,  0,  8,  1,  8,  1,  8,  0,  8,  1,  8,  1,  8,  1,  8,  1,  8,  1,\n",
      "          8,  1,  8,  1,  2,  0,  8,  1,  8,  1,  8,  1,  8,  1,  4,  1,  4,  0,\n",
      "          8,  0,  8,  1,  8,  1,  8,  1,  8,  1,  8,  1,  8,  1, 10,  0,  8,  1,\n",
      "          8,  1,  8,  1,  8,  1,  8,  1, 10,  0,  8,  1,  8,  1,  4,  0,  8,  1,\n",
      "          8,  0]]), Start = tensor([[10,  0, 10,  0,  2,  0,  2,  0,  2,  0,  2,  0,  2,  1,  2,  0, 11,  0,\n",
      "         11,  1,  8,  1,  8,  1,  8,  1,  8,  0,  8,  1,  8,  1,  8,  1,  8,  1,\n",
      "          8,  1,  8,  1,  8,  1,  8,  1,  8,  1,  8,  1,  8,  0,  8,  1,  8,  1,\n",
      "          8,  1,  8,  1,  8,  1,  8,  1,  8,  0,  8,  1,  8,  1,  8,  1,  8,  1,\n",
      "          8,  1,  8,  1,  8,  1,  8,  1,  8,  1,  8,  1,  8,  1,  8,  1,  8,  1,\n",
      "          8,  1,  8,  1,  8,  1,  8,  1,  8,  1,  8,  1,  8,  1,  8,  1,  8,  1,\n",
      "          8,  1]])\n",
      "Predicted: 8 True: 10, Predicted with start: 8\n",
      "\n",
      "Tokens = tensor([[10,  0,  2,  0,  2,  1, 10,  0,  2,  0,  7,  0, 11,  1, 11,  0,  8,  1,\n",
      "          8,  1,  8,  1,  8,  1,  8,  1,  8,  1,  8,  1,  3,  0,  8,  1,  3,  0,\n",
      "          8,  0,  8,  1,  8,  1,  8,  0,  8,  1,  8,  1,  8,  1,  8,  1,  8,  1,\n",
      "          8,  1,  8,  1,  2,  0,  8,  1,  8,  1,  8,  1,  8,  1,  4,  1,  4,  0,\n",
      "          8,  0,  8,  1,  8,  1,  8,  1,  8,  1,  8,  1,  8,  1, 10,  0,  8,  1,\n",
      "          8,  1,  8,  1,  8,  1,  8,  1, 10,  0,  8,  1,  8,  1,  4,  0,  8,  1,\n",
      "          8,  0, 10]]), Start = tensor([[10,  0, 10,  0,  2,  0,  2,  0,  2,  0,  2,  0,  2,  1,  2,  0, 11,  0,\n",
      "         11,  1,  8,  1,  8,  1,  8,  1,  8,  0,  8,  1,  8,  1,  8,  1,  8,  1,\n",
      "          8,  1,  8,  1,  8,  1,  8,  1,  8,  1,  8,  1,  8,  0,  8,  1,  8,  1,\n",
      "          8,  1,  8,  1,  8,  1,  8,  1,  8,  0,  8,  1,  8,  1,  8,  1,  8,  1,\n",
      "          8,  1,  8,  1,  8,  1,  8,  1,  8,  1,  8,  1,  8,  1,  8,  1,  8,  1,\n",
      "          8,  1,  8,  1,  8,  1,  8,  1,  8,  1,  8,  1,  8,  1,  8,  1,  8,  1,\n",
      "          8,  1,  8]])\n",
      "Predicted: 0 True: 0, Predicted with start: 1\n",
      "\n",
      "Tokens = tensor([[10,  0,  2,  0,  2,  1, 10,  0,  2,  0,  7,  0, 11,  1, 11,  0,  8,  1,\n",
      "          8,  1,  8,  1,  8,  1,  8,  1,  8,  1,  8,  1,  3,  0,  8,  1,  3,  0,\n",
      "          8,  0,  8,  1,  8,  1,  8,  0,  8,  1,  8,  1,  8,  1,  8,  1,  8,  1,\n",
      "          8,  1,  8,  1,  2,  0,  8,  1,  8,  1,  8,  1,  8,  1,  4,  1,  4,  0,\n",
      "          8,  0,  8,  1,  8,  1,  8,  1,  8,  1,  8,  1,  8,  1, 10,  0,  8,  1,\n",
      "          8,  1,  8,  1,  8,  1,  8,  1, 10,  0,  8,  1,  8,  1,  4,  0,  8,  1,\n",
      "          8,  0, 10,  0]]), Start = tensor([[10,  0, 10,  0,  2,  0,  2,  0,  2,  0,  2,  0,  2,  1,  2,  0, 11,  0,\n",
      "         11,  1,  8,  1,  8,  1,  8,  1,  8,  0,  8,  1,  8,  1,  8,  1,  8,  1,\n",
      "          8,  1,  8,  1,  8,  1,  8,  1,  8,  1,  8,  1,  8,  0,  8,  1,  8,  1,\n",
      "          8,  1,  8,  1,  8,  1,  8,  1,  8,  0,  8,  1,  8,  1,  8,  1,  8,  1,\n",
      "          8,  1,  8,  1,  8,  1,  8,  1,  8,  1,  8,  1,  8,  1,  8,  1,  8,  1,\n",
      "          8,  1,  8,  1,  8,  1,  8,  1,  8,  1,  8,  1,  8,  1,  8,  1,  8,  1,\n",
      "          8,  1,  8,  1]])\n",
      "Predicted: 8 True: 8, Predicted with start: 8\n",
      "\n",
      "Tokens = tensor([[10,  0,  2,  0,  2,  1, 10,  0,  2,  0,  7,  0, 11,  1, 11,  0,  8,  1,\n",
      "          8,  1,  8,  1,  8,  1,  8,  1,  8,  1,  8,  1,  3,  0,  8,  1,  3,  0,\n",
      "          8,  0,  8,  1,  8,  1,  8,  0,  8,  1,  8,  1,  8,  1,  8,  1,  8,  1,\n",
      "          8,  1,  8,  1,  2,  0,  8,  1,  8,  1,  8,  1,  8,  1,  4,  1,  4,  0,\n",
      "          8,  0,  8,  1,  8,  1,  8,  1,  8,  1,  8,  1,  8,  1, 10,  0,  8,  1,\n",
      "          8,  1,  8,  1,  8,  1,  8,  1, 10,  0,  8,  1,  8,  1,  4,  0,  8,  1,\n",
      "          8,  0, 10,  0,  8]]), Start = tensor([[10,  0, 10,  0,  2,  0,  2,  0,  2,  0,  2,  0,  2,  1,  2,  0, 11,  0,\n",
      "         11,  1,  8,  1,  8,  1,  8,  1,  8,  0,  8,  1,  8,  1,  8,  1,  8,  1,\n",
      "          8,  1,  8,  1,  8,  1,  8,  1,  8,  1,  8,  1,  8,  0,  8,  1,  8,  1,\n",
      "          8,  1,  8,  1,  8,  1,  8,  1,  8,  0,  8,  1,  8,  1,  8,  1,  8,  1,\n",
      "          8,  1,  8,  1,  8,  1,  8,  1,  8,  1,  8,  1,  8,  1,  8,  1,  8,  1,\n",
      "          8,  1,  8,  1,  8,  1,  8,  1,  8,  1,  8,  1,  8,  1,  8,  1,  8,  1,\n",
      "          8,  1,  8,  1,  8]])\n",
      "Predicted: 1 True: 1, Predicted with start: 1\n",
      "\n",
      "Tokens = tensor([[10,  0,  2,  0,  2,  1, 10,  0,  2,  0,  7,  0, 11,  1, 11,  0,  8,  1,\n",
      "          8,  1,  8,  1,  8,  1,  8,  1,  8,  1,  8,  1,  3,  0,  8,  1,  3,  0,\n",
      "          8,  0,  8,  1,  8,  1,  8,  0,  8,  1,  8,  1,  8,  1,  8,  1,  8,  1,\n",
      "          8,  1,  8,  1,  2,  0,  8,  1,  8,  1,  8,  1,  8,  1,  4,  1,  4,  0,\n",
      "          8,  0,  8,  1,  8,  1,  8,  1,  8,  1,  8,  1,  8,  1, 10,  0,  8,  1,\n",
      "          8,  1,  8,  1,  8,  1,  8,  1, 10,  0,  8,  1,  8,  1,  4,  0,  8,  1,\n",
      "          8,  0, 10,  0,  8,  1]]), Start = tensor([[10,  0, 10,  0,  2,  0,  2,  0,  2,  0,  2,  0,  2,  1,  2,  0, 11,  0,\n",
      "         11,  1,  8,  1,  8,  1,  8,  1,  8,  0,  8,  1,  8,  1,  8,  1,  8,  1,\n",
      "          8,  1,  8,  1,  8,  1,  8,  1,  8,  1,  8,  1,  8,  0,  8,  1,  8,  1,\n",
      "          8,  1,  8,  1,  8,  1,  8,  1,  8,  0,  8,  1,  8,  1,  8,  1,  8,  1,\n",
      "          8,  1,  8,  1,  8,  1,  8,  1,  8,  1,  8,  1,  8,  1,  8,  1,  8,  1,\n",
      "          8,  1,  8,  1,  8,  1,  8,  1,  8,  1,  8,  1,  8,  1,  8,  1,  8,  1,\n",
      "          8,  1,  8,  1,  8,  1]])\n",
      "Predicted: 8 True: 8, Predicted with start: 8\n",
      "\n",
      "Tokens = tensor([[10,  0,  2,  0,  2,  1, 10,  0,  2,  0,  7,  0, 11,  1, 11,  0,  8,  1,\n",
      "          8,  1,  8,  1,  8,  1,  8,  1,  8,  1,  8,  1,  3,  0,  8,  1,  3,  0,\n",
      "          8,  0,  8,  1,  8,  1,  8,  0,  8,  1,  8,  1,  8,  1,  8,  1,  8,  1,\n",
      "          8,  1,  8,  1,  2,  0,  8,  1,  8,  1,  8,  1,  8,  1,  4,  1,  4,  0,\n",
      "          8,  0,  8,  1,  8,  1,  8,  1,  8,  1,  8,  1,  8,  1, 10,  0,  8,  1,\n",
      "          8,  1,  8,  1,  8,  1,  8,  1, 10,  0,  8,  1,  8,  1,  4,  0,  8,  1,\n",
      "          8,  0, 10,  0,  8,  1,  8]]), Start = tensor([[10,  0, 10,  0,  2,  0,  2,  0,  2,  0,  2,  0,  2,  1,  2,  0, 11,  0,\n",
      "         11,  1,  8,  1,  8,  1,  8,  1,  8,  0,  8,  1,  8,  1,  8,  1,  8,  1,\n",
      "          8,  1,  8,  1,  8,  1,  8,  1,  8,  1,  8,  1,  8,  0,  8,  1,  8,  1,\n",
      "          8,  1,  8,  1,  8,  1,  8,  1,  8,  0,  8,  1,  8,  1,  8,  1,  8,  1,\n",
      "          8,  1,  8,  1,  8,  1,  8,  1,  8,  1,  8,  1,  8,  1,  8,  1,  8,  1,\n",
      "          8,  1,  8,  1,  8,  1,  8,  1,  8,  1,  8,  1,  8,  1,  8,  1,  8,  1,\n",
      "          8,  1,  8,  1,  8,  1,  8]])\n",
      "Predicted: 1 True: 1, Predicted with start: 1\n",
      "\n",
      "Tokens = tensor([[10,  0,  2,  0,  2,  1, 10,  0,  2,  0,  7,  0, 11,  1, 11,  0,  8,  1,\n",
      "          8,  1,  8,  1,  8,  1,  8,  1,  8,  1,  8,  1,  3,  0,  8,  1,  3,  0,\n",
      "          8,  0,  8,  1,  8,  1,  8,  0,  8,  1,  8,  1,  8,  1,  8,  1,  8,  1,\n",
      "          8,  1,  8,  1,  2,  0,  8,  1,  8,  1,  8,  1,  8,  1,  4,  1,  4,  0,\n",
      "          8,  0,  8,  1,  8,  1,  8,  1,  8,  1,  8,  1,  8,  1, 10,  0,  8,  1,\n",
      "          8,  1,  8,  1,  8,  1,  8,  1, 10,  0,  8,  1,  8,  1,  4,  0,  8,  1,\n",
      "          8,  0, 10,  0,  8,  1,  8,  1]]), Start = tensor([[10,  0, 10,  0,  2,  0,  2,  0,  2,  0,  2,  0,  2,  1,  2,  0, 11,  0,\n",
      "         11,  1,  8,  1,  8,  1,  8,  1,  8,  0,  8,  1,  8,  1,  8,  1,  8,  1,\n",
      "          8,  1,  8,  1,  8,  1,  8,  1,  8,  1,  8,  1,  8,  0,  8,  1,  8,  1,\n",
      "          8,  1,  8,  1,  8,  1,  8,  1,  8,  0,  8,  1,  8,  1,  8,  1,  8,  1,\n",
      "          8,  1,  8,  1,  8,  1,  8,  1,  8,  1,  8,  1,  8,  1,  8,  1,  8,  1,\n",
      "          8,  1,  8,  1,  8,  1,  8,  1,  8,  1,  8,  1,  8,  1,  8,  1,  8,  1,\n",
      "          8,  1,  8,  1,  8,  1,  8,  1]])\n",
      "Predicted: 8 True: 8, Predicted with start: 8\n",
      "\n",
      "Tokens = tensor([[10,  0,  2,  0,  2,  1, 10,  0,  2,  0,  7,  0, 11,  1, 11,  0,  8,  1,\n",
      "          8,  1,  8,  1,  8,  1,  8,  1,  8,  1,  8,  1,  3,  0,  8,  1,  3,  0,\n",
      "          8,  0,  8,  1,  8,  1,  8,  0,  8,  1,  8,  1,  8,  1,  8,  1,  8,  1,\n",
      "          8,  1,  8,  1,  2,  0,  8,  1,  8,  1,  8,  1,  8,  1,  4,  1,  4,  0,\n",
      "          8,  0,  8,  1,  8,  1,  8,  1,  8,  1,  8,  1,  8,  1, 10,  0,  8,  1,\n",
      "          8,  1,  8,  1,  8,  1,  8,  1, 10,  0,  8,  1,  8,  1,  4,  0,  8,  1,\n",
      "          8,  0, 10,  0,  8,  1,  8,  1,  8]]), Start = tensor([[10,  0, 10,  0,  2,  0,  2,  0,  2,  0,  2,  0,  2,  1,  2,  0, 11,  0,\n",
      "         11,  1,  8,  1,  8,  1,  8,  1,  8,  0,  8,  1,  8,  1,  8,  1,  8,  1,\n",
      "          8,  1,  8,  1,  8,  1,  8,  1,  8,  1,  8,  1,  8,  0,  8,  1,  8,  1,\n",
      "          8,  1,  8,  1,  8,  1,  8,  1,  8,  0,  8,  1,  8,  1,  8,  1,  8,  1,\n",
      "          8,  1,  8,  1,  8,  1,  8,  1,  8,  1,  8,  1,  8,  1,  8,  1,  8,  1,\n",
      "          8,  1,  8,  1,  8,  1,  8,  1,  8,  1,  8,  1,  8,  1,  8,  1,  8,  1,\n",
      "          8,  1,  8,  1,  8,  1,  8,  1,  8]])\n",
      "Predicted: 1 True: 1, Predicted with start: 1\n",
      "\n",
      "Tokens = tensor([[10,  0,  2,  0,  2,  1, 10,  0,  2,  0,  7,  0, 11,  1, 11,  0,  8,  1,\n",
      "          8,  1,  8,  1,  8,  1,  8,  1,  8,  1,  8,  1,  3,  0,  8,  1,  3,  0,\n",
      "          8,  0,  8,  1,  8,  1,  8,  0,  8,  1,  8,  1,  8,  1,  8,  1,  8,  1,\n",
      "          8,  1,  8,  1,  2,  0,  8,  1,  8,  1,  8,  1,  8,  1,  4,  1,  4,  0,\n",
      "          8,  0,  8,  1,  8,  1,  8,  1,  8,  1,  8,  1,  8,  1, 10,  0,  8,  1,\n",
      "          8,  1,  8,  1,  8,  1,  8,  1, 10,  0,  8,  1,  8,  1,  4,  0,  8,  1,\n",
      "          8,  0, 10,  0,  8,  1,  8,  1,  8,  1]]), Start = tensor([[10,  0, 10,  0,  2,  0,  2,  0,  2,  0,  2,  0,  2,  1,  2,  0, 11,  0,\n",
      "         11,  1,  8,  1,  8,  1,  8,  1,  8,  0,  8,  1,  8,  1,  8,  1,  8,  1,\n",
      "          8,  1,  8,  1,  8,  1,  8,  1,  8,  1,  8,  1,  8,  0,  8,  1,  8,  1,\n",
      "          8,  1,  8,  1,  8,  1,  8,  1,  8,  0,  8,  1,  8,  1,  8,  1,  8,  1,\n",
      "          8,  1,  8,  1,  8,  1,  8,  1,  8,  1,  8,  1,  8,  1,  8,  1,  8,  1,\n",
      "          8,  1,  8,  1,  8,  1,  8,  1,  8,  1,  8,  1,  8,  1,  8,  1,  8,  1,\n",
      "          8,  1,  8,  1,  8,  1,  8,  1,  8,  1]])\n",
      "Predicted: 8 True: 11, Predicted with start: 8\n",
      "\n",
      "Tokens = tensor([[10,  0,  2,  0,  2,  1, 10,  0,  2,  0,  7,  0, 11,  1, 11,  0,  8,  1,\n",
      "          8,  1,  8,  1,  8,  1,  8,  1,  8,  1,  8,  1,  3,  0,  8,  1,  3,  0,\n",
      "          8,  0,  8,  1,  8,  1,  8,  0,  8,  1,  8,  1,  8,  1,  8,  1,  8,  1,\n",
      "          8,  1,  8,  1,  2,  0,  8,  1,  8,  1,  8,  1,  8,  1,  4,  1,  4,  0,\n",
      "          8,  0,  8,  1,  8,  1,  8,  1,  8,  1,  8,  1,  8,  1, 10,  0,  8,  1,\n",
      "          8,  1,  8,  1,  8,  1,  8,  1, 10,  0,  8,  1,  8,  1,  4,  0,  8,  1,\n",
      "          8,  0, 10,  0,  8,  1,  8,  1,  8,  1, 11]]), Start = tensor([[10,  0, 10,  0,  2,  0,  2,  0,  2,  0,  2,  0,  2,  1,  2,  0, 11,  0,\n",
      "         11,  1,  8,  1,  8,  1,  8,  1,  8,  0,  8,  1,  8,  1,  8,  1,  8,  1,\n",
      "          8,  1,  8,  1,  8,  1,  8,  1,  8,  1,  8,  1,  8,  0,  8,  1,  8,  1,\n",
      "          8,  1,  8,  1,  8,  1,  8,  1,  8,  0,  8,  1,  8,  1,  8,  1,  8,  1,\n",
      "          8,  1,  8,  1,  8,  1,  8,  1,  8,  1,  8,  1,  8,  1,  8,  1,  8,  1,\n",
      "          8,  1,  8,  1,  8,  1,  8,  1,  8,  1,  8,  1,  8,  1,  8,  1,  8,  1,\n",
      "          8,  1,  8,  1,  8,  1,  8,  1,  8,  1,  8]])\n",
      "Predicted: 0 True: 0, Predicted with start: 1\n",
      "\n",
      "Tokens = tensor([[10,  0,  2,  0,  2,  1, 10,  0,  2,  0,  7,  0, 11,  1, 11,  0,  8,  1,\n",
      "          8,  1,  8,  1,  8,  1,  8,  1,  8,  1,  8,  1,  3,  0,  8,  1,  3,  0,\n",
      "          8,  0,  8,  1,  8,  1,  8,  0,  8,  1,  8,  1,  8,  1,  8,  1,  8,  1,\n",
      "          8,  1,  8,  1,  2,  0,  8,  1,  8,  1,  8,  1,  8,  1,  4,  1,  4,  0,\n",
      "          8,  0,  8,  1,  8,  1,  8,  1,  8,  1,  8,  1,  8,  1, 10,  0,  8,  1,\n",
      "          8,  1,  8,  1,  8,  1,  8,  1, 10,  0,  8,  1,  8,  1,  4,  0,  8,  1,\n",
      "          8,  0, 10,  0,  8,  1,  8,  1,  8,  1, 11,  0]]), Start = tensor([[10,  0, 10,  0,  2,  0,  2,  0,  2,  0,  2,  0,  2,  1,  2,  0, 11,  0,\n",
      "         11,  1,  8,  1,  8,  1,  8,  1,  8,  0,  8,  1,  8,  1,  8,  1,  8,  1,\n",
      "          8,  1,  8,  1,  8,  1,  8,  1,  8,  1,  8,  1,  8,  0,  8,  1,  8,  1,\n",
      "          8,  1,  8,  1,  8,  1,  8,  1,  8,  0,  8,  1,  8,  1,  8,  1,  8,  1,\n",
      "          8,  1,  8,  1,  8,  1,  8,  1,  8,  1,  8,  1,  8,  1,  8,  1,  8,  1,\n",
      "          8,  1,  8,  1,  8,  1,  8,  1,  8,  1,  8,  1,  8,  1,  8,  1,  8,  1,\n",
      "          8,  1,  8,  1,  8,  1,  8,  1,  8,  1,  8,  1]])\n",
      "Predicted: 8 True: 11, Predicted with start: 8\n",
      "\n",
      "Tokens = tensor([[10,  0,  2,  0,  2,  1, 10,  0,  2,  0,  7,  0, 11,  1, 11,  0,  8,  1,\n",
      "          8,  1,  8,  1,  8,  1,  8,  1,  8,  1,  8,  1,  3,  0,  8,  1,  3,  0,\n",
      "          8,  0,  8,  1,  8,  1,  8,  0,  8,  1,  8,  1,  8,  1,  8,  1,  8,  1,\n",
      "          8,  1,  8,  1,  2,  0,  8,  1,  8,  1,  8,  1,  8,  1,  4,  1,  4,  0,\n",
      "          8,  0,  8,  1,  8,  1,  8,  1,  8,  1,  8,  1,  8,  1, 10,  0,  8,  1,\n",
      "          8,  1,  8,  1,  8,  1,  8,  1, 10,  0,  8,  1,  8,  1,  4,  0,  8,  1,\n",
      "          8,  0, 10,  0,  8,  1,  8,  1,  8,  1, 11,  0, 11]]), Start = tensor([[10,  0, 10,  0,  2,  0,  2,  0,  2,  0,  2,  0,  2,  1,  2,  0, 11,  0,\n",
      "         11,  1,  8,  1,  8,  1,  8,  1,  8,  0,  8,  1,  8,  1,  8,  1,  8,  1,\n",
      "          8,  1,  8,  1,  8,  1,  8,  1,  8,  1,  8,  1,  8,  0,  8,  1,  8,  1,\n",
      "          8,  1,  8,  1,  8,  1,  8,  1,  8,  0,  8,  1,  8,  1,  8,  1,  8,  1,\n",
      "          8,  1,  8,  1,  8,  1,  8,  1,  8,  1,  8,  1,  8,  1,  8,  1,  8,  1,\n",
      "          8,  1,  8,  1,  8,  1,  8,  1,  8,  1,  8,  1,  8,  1,  8,  1,  8,  1,\n",
      "          8,  1,  8,  1,  8,  1,  8,  1,  8,  1,  8,  1,  8]])\n",
      "Predicted: 0 True: 0, Predicted with start: 1\n",
      "\n",
      "Tokens = tensor([[10,  0,  2,  0,  2,  1, 10,  0,  2,  0,  7,  0, 11,  1, 11,  0,  8,  1,\n",
      "          8,  1,  8,  1,  8,  1,  8,  1,  8,  1,  8,  1,  3,  0,  8,  1,  3,  0,\n",
      "          8,  0,  8,  1,  8,  1,  8,  0,  8,  1,  8,  1,  8,  1,  8,  1,  8,  1,\n",
      "          8,  1,  8,  1,  2,  0,  8,  1,  8,  1,  8,  1,  8,  1,  4,  1,  4,  0,\n",
      "          8,  0,  8,  1,  8,  1,  8,  1,  8,  1,  8,  1,  8,  1, 10,  0,  8,  1,\n",
      "          8,  1,  8,  1,  8,  1,  8,  1, 10,  0,  8,  1,  8,  1,  4,  0,  8,  1,\n",
      "          8,  0, 10,  0,  8,  1,  8,  1,  8,  1, 11,  0, 11,  0]]), Start = tensor([[10,  0, 10,  0,  2,  0,  2,  0,  2,  0,  2,  0,  2,  1,  2,  0, 11,  0,\n",
      "         11,  1,  8,  1,  8,  1,  8,  1,  8,  0,  8,  1,  8,  1,  8,  1,  8,  1,\n",
      "          8,  1,  8,  1,  8,  1,  8,  1,  8,  1,  8,  1,  8,  0,  8,  1,  8,  1,\n",
      "          8,  1,  8,  1,  8,  1,  8,  1,  8,  0,  8,  1,  8,  1,  8,  1,  8,  1,\n",
      "          8,  1,  8,  1,  8,  1,  8,  1,  8,  1,  8,  1,  8,  1,  8,  1,  8,  1,\n",
      "          8,  1,  8,  1,  8,  1,  8,  1,  8,  1,  8,  1,  8,  1,  8,  1,  8,  1,\n",
      "          8,  1,  8,  1,  8,  1,  8,  1,  8,  1,  8,  1,  8,  1]])\n",
      "Predicted: 8 True: 8, Predicted with start: 8\n",
      "\n",
      "Tokens = tensor([[10,  0,  2,  0,  2,  1, 10,  0,  2,  0,  7,  0, 11,  1, 11,  0,  8,  1,\n",
      "          8,  1,  8,  1,  8,  1,  8,  1,  8,  1,  8,  1,  3,  0,  8,  1,  3,  0,\n",
      "          8,  0,  8,  1,  8,  1,  8,  0,  8,  1,  8,  1,  8,  1,  8,  1,  8,  1,\n",
      "          8,  1,  8,  1,  2,  0,  8,  1,  8,  1,  8,  1,  8,  1,  4,  1,  4,  0,\n",
      "          8,  0,  8,  1,  8,  1,  8,  1,  8,  1,  8,  1,  8,  1, 10,  0,  8,  1,\n",
      "          8,  1,  8,  1,  8,  1,  8,  1, 10,  0,  8,  1,  8,  1,  4,  0,  8,  1,\n",
      "          8,  0, 10,  0,  8,  1,  8,  1,  8,  1, 11,  0, 11,  0,  8]]), Start = tensor([[10,  0, 10,  0,  2,  0,  2,  0,  2,  0,  2,  0,  2,  1,  2,  0, 11,  0,\n",
      "         11,  1,  8,  1,  8,  1,  8,  1,  8,  0,  8,  1,  8,  1,  8,  1,  8,  1,\n",
      "          8,  1,  8,  1,  8,  1,  8,  1,  8,  1,  8,  1,  8,  0,  8,  1,  8,  1,\n",
      "          8,  1,  8,  1,  8,  1,  8,  1,  8,  0,  8,  1,  8,  1,  8,  1,  8,  1,\n",
      "          8,  1,  8,  1,  8,  1,  8,  1,  8,  1,  8,  1,  8,  1,  8,  1,  8,  1,\n",
      "          8,  1,  8,  1,  8,  1,  8,  1,  8,  1,  8,  1,  8,  1,  8,  1,  8,  1,\n",
      "          8,  1,  8,  1,  8,  1,  8,  1,  8,  1,  8,  1,  8,  1,  8]])\n",
      "Predicted: 1 True: 0, Predicted with start: 1\n",
      "\n",
      "Tokens = tensor([[10,  0,  2,  0,  2,  1, 10,  0,  2,  0,  7,  0, 11,  1, 11,  0,  8,  1,\n",
      "          8,  1,  8,  1,  8,  1,  8,  1,  8,  1,  8,  1,  3,  0,  8,  1,  3,  0,\n",
      "          8,  0,  8,  1,  8,  1,  8,  0,  8,  1,  8,  1,  8,  1,  8,  1,  8,  1,\n",
      "          8,  1,  8,  1,  2,  0,  8,  1,  8,  1,  8,  1,  8,  1,  4,  1,  4,  0,\n",
      "          8,  0,  8,  1,  8,  1,  8,  1,  8,  1,  8,  1,  8,  1, 10,  0,  8,  1,\n",
      "          8,  1,  8,  1,  8,  1,  8,  1, 10,  0,  8,  1,  8,  1,  4,  0,  8,  1,\n",
      "          8,  0, 10,  0,  8,  1,  8,  1,  8,  1, 11,  0, 11,  0,  8,  0]]), Start = tensor([[10,  0, 10,  0,  2,  0,  2,  0,  2,  0,  2,  0,  2,  1,  2,  0, 11,  0,\n",
      "         11,  1,  8,  1,  8,  1,  8,  1,  8,  0,  8,  1,  8,  1,  8,  1,  8,  1,\n",
      "          8,  1,  8,  1,  8,  1,  8,  1,  8,  1,  8,  1,  8,  0,  8,  1,  8,  1,\n",
      "          8,  1,  8,  1,  8,  1,  8,  1,  8,  0,  8,  1,  8,  1,  8,  1,  8,  1,\n",
      "          8,  1,  8,  1,  8,  1,  8,  1,  8,  1,  8,  1,  8,  1,  8,  1,  8,  1,\n",
      "          8,  1,  8,  1,  8,  1,  8,  1,  8,  1,  8,  1,  8,  1,  8,  1,  8,  1,\n",
      "          8,  1,  8,  1,  8,  1,  8,  1,  8,  1,  8,  1,  8,  1,  8,  1]])\n",
      "Predicted: 8 True: 8, Predicted with start: 8\n",
      "\n",
      "Tokens = tensor([[10,  0,  2,  0,  2,  1, 10,  0,  2,  0,  7,  0, 11,  1, 11,  0,  8,  1,\n",
      "          8,  1,  8,  1,  8,  1,  8,  1,  8,  1,  8,  1,  3,  0,  8,  1,  3,  0,\n",
      "          8,  0,  8,  1,  8,  1,  8,  0,  8,  1,  8,  1,  8,  1,  8,  1,  8,  1,\n",
      "          8,  1,  8,  1,  2,  0,  8,  1,  8,  1,  8,  1,  8,  1,  4,  1,  4,  0,\n",
      "          8,  0,  8,  1,  8,  1,  8,  1,  8,  1,  8,  1,  8,  1, 10,  0,  8,  1,\n",
      "          8,  1,  8,  1,  8,  1,  8,  1, 10,  0,  8,  1,  8,  1,  4,  0,  8,  1,\n",
      "          8,  0, 10,  0,  8,  1,  8,  1,  8,  1, 11,  0, 11,  0,  8,  0,  8]]), Start = tensor([[10,  0, 10,  0,  2,  0,  2,  0,  2,  0,  2,  0,  2,  1,  2,  0, 11,  0,\n",
      "         11,  1,  8,  1,  8,  1,  8,  1,  8,  0,  8,  1,  8,  1,  8,  1,  8,  1,\n",
      "          8,  1,  8,  1,  8,  1,  8,  1,  8,  1,  8,  1,  8,  0,  8,  1,  8,  1,\n",
      "          8,  1,  8,  1,  8,  1,  8,  1,  8,  0,  8,  1,  8,  1,  8,  1,  8,  1,\n",
      "          8,  1,  8,  1,  8,  1,  8,  1,  8,  1,  8,  1,  8,  1,  8,  1,  8,  1,\n",
      "          8,  1,  8,  1,  8,  1,  8,  1,  8,  1,  8,  1,  8,  1,  8,  1,  8,  1,\n",
      "          8,  1,  8,  1,  8,  1,  8,  1,  8,  1,  8,  1,  8,  1,  8,  1,  8]])\n",
      "Predicted: 1 True: 1, Predicted with start: 1\n",
      "\n",
      "Tokens = tensor([[10,  0,  2,  0,  2,  1, 10,  0,  2,  0,  7,  0, 11,  1, 11,  0,  8,  1,\n",
      "          8,  1,  8,  1,  8,  1,  8,  1,  8,  1,  8,  1,  3,  0,  8,  1,  3,  0,\n",
      "          8,  0,  8,  1,  8,  1,  8,  0,  8,  1,  8,  1,  8,  1,  8,  1,  8,  1,\n",
      "          8,  1,  8,  1,  2,  0,  8,  1,  8,  1,  8,  1,  8,  1,  4,  1,  4,  0,\n",
      "          8,  0,  8,  1,  8,  1,  8,  1,  8,  1,  8,  1,  8,  1, 10,  0,  8,  1,\n",
      "          8,  1,  8,  1,  8,  1,  8,  1, 10,  0,  8,  1,  8,  1,  4,  0,  8,  1,\n",
      "          8,  0, 10,  0,  8,  1,  8,  1,  8,  1, 11,  0, 11,  0,  8,  0,  8,  1]]), Start = tensor([[10,  0, 10,  0,  2,  0,  2,  0,  2,  0,  2,  0,  2,  1,  2,  0, 11,  0,\n",
      "         11,  1,  8,  1,  8,  1,  8,  1,  8,  0,  8,  1,  8,  1,  8,  1,  8,  1,\n",
      "          8,  1,  8,  1,  8,  1,  8,  1,  8,  1,  8,  1,  8,  0,  8,  1,  8,  1,\n",
      "          8,  1,  8,  1,  8,  1,  8,  1,  8,  0,  8,  1,  8,  1,  8,  1,  8,  1,\n",
      "          8,  1,  8,  1,  8,  1,  8,  1,  8,  1,  8,  1,  8,  1,  8,  1,  8,  1,\n",
      "          8,  1,  8,  1,  8,  1,  8,  1,  8,  1,  8,  1,  8,  1,  8,  1,  8,  1,\n",
      "          8,  1,  8,  1,  8,  1,  8,  1,  8,  1,  8,  1,  8,  1,  8,  1,  8,  1]])\n",
      "Predicted: 8 True: 8, Predicted with start: 8\n",
      "\n",
      "Tokens = tensor([[10,  0,  2,  0,  2,  1, 10,  0,  2,  0,  7,  0, 11,  1, 11,  0,  8,  1,\n",
      "          8,  1,  8,  1,  8,  1,  8,  1,  8,  1,  8,  1,  3,  0,  8,  1,  3,  0,\n",
      "          8,  0,  8,  1,  8,  1,  8,  0,  8,  1,  8,  1,  8,  1,  8,  1,  8,  1,\n",
      "          8,  1,  8,  1,  2,  0,  8,  1,  8,  1,  8,  1,  8,  1,  4,  1,  4,  0,\n",
      "          8,  0,  8,  1,  8,  1,  8,  1,  8,  1,  8,  1,  8,  1, 10,  0,  8,  1,\n",
      "          8,  1,  8,  1,  8,  1,  8,  1, 10,  0,  8,  1,  8,  1,  4,  0,  8,  1,\n",
      "          8,  0, 10,  0,  8,  1,  8,  1,  8,  1, 11,  0, 11,  0,  8,  0,  8,  1,\n",
      "          8]]), Start = tensor([[10,  0, 10,  0,  2,  0,  2,  0,  2,  0,  2,  0,  2,  1,  2,  0, 11,  0,\n",
      "         11,  1,  8,  1,  8,  1,  8,  1,  8,  0,  8,  1,  8,  1,  8,  1,  8,  1,\n",
      "          8,  1,  8,  1,  8,  1,  8,  1,  8,  1,  8,  1,  8,  0,  8,  1,  8,  1,\n",
      "          8,  1,  8,  1,  8,  1,  8,  1,  8,  0,  8,  1,  8,  1,  8,  1,  8,  1,\n",
      "          8,  1,  8,  1,  8,  1,  8,  1,  8,  1,  8,  1,  8,  1,  8,  1,  8,  1,\n",
      "          8,  1,  8,  1,  8,  1,  8,  1,  8,  1,  8,  1,  8,  1,  8,  1,  8,  1,\n",
      "          8,  1,  8,  1,  8,  1,  8,  1,  8,  1,  8,  1,  8,  1,  8,  1,  8,  1,\n",
      "          8]])\n",
      "Predicted: 1 True: 1, Predicted with start: 1\n",
      "\n",
      "Tokens = tensor([[10,  0,  2,  0,  2,  1, 10,  0,  2,  0,  7,  0, 11,  1, 11,  0,  8,  1,\n",
      "          8,  1,  8,  1,  8,  1,  8,  1,  8,  1,  8,  1,  3,  0,  8,  1,  3,  0,\n",
      "          8,  0,  8,  1,  8,  1,  8,  0,  8,  1,  8,  1,  8,  1,  8,  1,  8,  1,\n",
      "          8,  1,  8,  1,  2,  0,  8,  1,  8,  1,  8,  1,  8,  1,  4,  1,  4,  0,\n",
      "          8,  0,  8,  1,  8,  1,  8,  1,  8,  1,  8,  1,  8,  1, 10,  0,  8,  1,\n",
      "          8,  1,  8,  1,  8,  1,  8,  1, 10,  0,  8,  1,  8,  1,  4,  0,  8,  1,\n",
      "          8,  0, 10,  0,  8,  1,  8,  1,  8,  1, 11,  0, 11,  0,  8,  0,  8,  1,\n",
      "          8,  1]]), Start = tensor([[10,  0, 10,  0,  2,  0,  2,  0,  2,  0,  2,  0,  2,  1,  2,  0, 11,  0,\n",
      "         11,  1,  8,  1,  8,  1,  8,  1,  8,  0,  8,  1,  8,  1,  8,  1,  8,  1,\n",
      "          8,  1,  8,  1,  8,  1,  8,  1,  8,  1,  8,  1,  8,  0,  8,  1,  8,  1,\n",
      "          8,  1,  8,  1,  8,  1,  8,  1,  8,  0,  8,  1,  8,  1,  8,  1,  8,  1,\n",
      "          8,  1,  8,  1,  8,  1,  8,  1,  8,  1,  8,  1,  8,  1,  8,  1,  8,  1,\n",
      "          8,  1,  8,  1,  8,  1,  8,  1,  8,  1,  8,  1,  8,  1,  8,  1,  8,  1,\n",
      "          8,  1,  8,  1,  8,  1,  8,  1,  8,  1,  8,  1,  8,  1,  8,  1,  8,  1,\n",
      "          8,  1]])\n",
      "Predicted: 8 True: 8, Predicted with start: 8\n",
      "\n",
      "Tokens = tensor([[10,  0,  2,  0,  2,  1, 10,  0,  2,  0,  7,  0, 11,  1, 11,  0,  8,  1,\n",
      "          8,  1,  8,  1,  8,  1,  8,  1,  8,  1,  8,  1,  3,  0,  8,  1,  3,  0,\n",
      "          8,  0,  8,  1,  8,  1,  8,  0,  8,  1,  8,  1,  8,  1,  8,  1,  8,  1,\n",
      "          8,  1,  8,  1,  2,  0,  8,  1,  8,  1,  8,  1,  8,  1,  4,  1,  4,  0,\n",
      "          8,  0,  8,  1,  8,  1,  8,  1,  8,  1,  8,  1,  8,  1, 10,  0,  8,  1,\n",
      "          8,  1,  8,  1,  8,  1,  8,  1, 10,  0,  8,  1,  8,  1,  4,  0,  8,  1,\n",
      "          8,  0, 10,  0,  8,  1,  8,  1,  8,  1, 11,  0, 11,  0,  8,  0,  8,  1,\n",
      "          8,  1,  8]]), Start = tensor([[10,  0, 10,  0,  2,  0,  2,  0,  2,  0,  2,  0,  2,  1,  2,  0, 11,  0,\n",
      "         11,  1,  8,  1,  8,  1,  8,  1,  8,  0,  8,  1,  8,  1,  8,  1,  8,  1,\n",
      "          8,  1,  8,  1,  8,  1,  8,  1,  8,  1,  8,  1,  8,  0,  8,  1,  8,  1,\n",
      "          8,  1,  8,  1,  8,  1,  8,  1,  8,  0,  8,  1,  8,  1,  8,  1,  8,  1,\n",
      "          8,  1,  8,  1,  8,  1,  8,  1,  8,  1,  8,  1,  8,  1,  8,  1,  8,  1,\n",
      "          8,  1,  8,  1,  8,  1,  8,  1,  8,  1,  8,  1,  8,  1,  8,  1,  8,  1,\n",
      "          8,  1,  8,  1,  8,  1,  8,  1,  8,  1,  8,  1,  8,  1,  8,  1,  8,  1,\n",
      "          8,  1,  8]])\n",
      "Predicted: 1 True: 1, Predicted with start: 1\n",
      "\n",
      "Tokens = tensor([[10,  0,  2,  0,  2,  1, 10,  0,  2,  0,  7,  0, 11,  1, 11,  0,  8,  1,\n",
      "          8,  1,  8,  1,  8,  1,  8,  1,  8,  1,  8,  1,  3,  0,  8,  1,  3,  0,\n",
      "          8,  0,  8,  1,  8,  1,  8,  0,  8,  1,  8,  1,  8,  1,  8,  1,  8,  1,\n",
      "          8,  1,  8,  1,  2,  0,  8,  1,  8,  1,  8,  1,  8,  1,  4,  1,  4,  0,\n",
      "          8,  0,  8,  1,  8,  1,  8,  1,  8,  1,  8,  1,  8,  1, 10,  0,  8,  1,\n",
      "          8,  1,  8,  1,  8,  1,  8,  1, 10,  0,  8,  1,  8,  1,  4,  0,  8,  1,\n",
      "          8,  0, 10,  0,  8,  1,  8,  1,  8,  1, 11,  0, 11,  0,  8,  0,  8,  1,\n",
      "          8,  1,  8,  1]]), Start = tensor([[10,  0, 10,  0,  2,  0,  2,  0,  2,  0,  2,  0,  2,  1,  2,  0, 11,  0,\n",
      "         11,  1,  8,  1,  8,  1,  8,  1,  8,  0,  8,  1,  8,  1,  8,  1,  8,  1,\n",
      "          8,  1,  8,  1,  8,  1,  8,  1,  8,  1,  8,  1,  8,  0,  8,  1,  8,  1,\n",
      "          8,  1,  8,  1,  8,  1,  8,  1,  8,  0,  8,  1,  8,  1,  8,  1,  8,  1,\n",
      "          8,  1,  8,  1,  8,  1,  8,  1,  8,  1,  8,  1,  8,  1,  8,  1,  8,  1,\n",
      "          8,  1,  8,  1,  8,  1,  8,  1,  8,  1,  8,  1,  8,  1,  8,  1,  8,  1,\n",
      "          8,  1,  8,  1,  8,  1,  8,  1,  8,  1,  8,  1,  8,  1,  8,  1,  8,  1,\n",
      "          8,  1,  8,  1]])\n",
      "Predicted: 8 True: 8, Predicted with start: 8\n",
      "\n",
      "Tokens = tensor([[10,  0,  2,  0,  2,  1, 10,  0,  2,  0,  7,  0, 11,  1, 11,  0,  8,  1,\n",
      "          8,  1,  8,  1,  8,  1,  8,  1,  8,  1,  8,  1,  3,  0,  8,  1,  3,  0,\n",
      "          8,  0,  8,  1,  8,  1,  8,  0,  8,  1,  8,  1,  8,  1,  8,  1,  8,  1,\n",
      "          8,  1,  8,  1,  2,  0,  8,  1,  8,  1,  8,  1,  8,  1,  4,  1,  4,  0,\n",
      "          8,  0,  8,  1,  8,  1,  8,  1,  8,  1,  8,  1,  8,  1, 10,  0,  8,  1,\n",
      "          8,  1,  8,  1,  8,  1,  8,  1, 10,  0,  8,  1,  8,  1,  4,  0,  8,  1,\n",
      "          8,  0, 10,  0,  8,  1,  8,  1,  8,  1, 11,  0, 11,  0,  8,  0,  8,  1,\n",
      "          8,  1,  8,  1,  8]]), Start = tensor([[10,  0, 10,  0,  2,  0,  2,  0,  2,  0,  2,  0,  2,  1,  2,  0, 11,  0,\n",
      "         11,  1,  8,  1,  8,  1,  8,  1,  8,  0,  8,  1,  8,  1,  8,  1,  8,  1,\n",
      "          8,  1,  8,  1,  8,  1,  8,  1,  8,  1,  8,  1,  8,  0,  8,  1,  8,  1,\n",
      "          8,  1,  8,  1,  8,  1,  8,  1,  8,  0,  8,  1,  8,  1,  8,  1,  8,  1,\n",
      "          8,  1,  8,  1,  8,  1,  8,  1,  8,  1,  8,  1,  8,  1,  8,  1,  8,  1,\n",
      "          8,  1,  8,  1,  8,  1,  8,  1,  8,  1,  8,  1,  8,  1,  8,  1,  8,  1,\n",
      "          8,  1,  8,  1,  8,  1,  8,  1,  8,  1,  8,  1,  8,  1,  8,  1,  8,  1,\n",
      "          8,  1,  8,  1,  8]])\n",
      "Predicted: 1 True: 1, Predicted with start: 1\n",
      "\n",
      "Tokens = tensor([[10,  0,  2,  0,  2,  1, 10,  0,  2,  0,  7,  0, 11,  1, 11,  0,  8,  1,\n",
      "          8,  1,  8,  1,  8,  1,  8,  1,  8,  1,  8,  1,  3,  0,  8,  1,  3,  0,\n",
      "          8,  0,  8,  1,  8,  1,  8,  0,  8,  1,  8,  1,  8,  1,  8,  1,  8,  1,\n",
      "          8,  1,  8,  1,  2,  0,  8,  1,  8,  1,  8,  1,  8,  1,  4,  1,  4,  0,\n",
      "          8,  0,  8,  1,  8,  1,  8,  1,  8,  1,  8,  1,  8,  1, 10,  0,  8,  1,\n",
      "          8,  1,  8,  1,  8,  1,  8,  1, 10,  0,  8,  1,  8,  1,  4,  0,  8,  1,\n",
      "          8,  0, 10,  0,  8,  1,  8,  1,  8,  1, 11,  0, 11,  0,  8,  0,  8,  1,\n",
      "          8,  1,  8,  1,  8,  1]]), Start = tensor([[10,  0, 10,  0,  2,  0,  2,  0,  2,  0,  2,  0,  2,  1,  2,  0, 11,  0,\n",
      "         11,  1,  8,  1,  8,  1,  8,  1,  8,  0,  8,  1,  8,  1,  8,  1,  8,  1,\n",
      "          8,  1,  8,  1,  8,  1,  8,  1,  8,  1,  8,  1,  8,  0,  8,  1,  8,  1,\n",
      "          8,  1,  8,  1,  8,  1,  8,  1,  8,  0,  8,  1,  8,  1,  8,  1,  8,  1,\n",
      "          8,  1,  8,  1,  8,  1,  8,  1,  8,  1,  8,  1,  8,  1,  8,  1,  8,  1,\n",
      "          8,  1,  8,  1,  8,  1,  8,  1,  8,  1,  8,  1,  8,  1,  8,  1,  8,  1,\n",
      "          8,  1,  8,  1,  8,  1,  8,  1,  8,  1,  8,  1,  8,  1,  8,  1,  8,  1,\n",
      "          8,  1,  8,  1,  8,  1]])\n",
      "Predicted: 8 True: 8, Predicted with start: 8\n",
      "\n",
      "Tokens = tensor([[10,  0,  2,  0,  2,  1, 10,  0,  2,  0,  7,  0, 11,  1, 11,  0,  8,  1,\n",
      "          8,  1,  8,  1,  8,  1,  8,  1,  8,  1,  8,  1,  3,  0,  8,  1,  3,  0,\n",
      "          8,  0,  8,  1,  8,  1,  8,  0,  8,  1,  8,  1,  8,  1,  8,  1,  8,  1,\n",
      "          8,  1,  8,  1,  2,  0,  8,  1,  8,  1,  8,  1,  8,  1,  4,  1,  4,  0,\n",
      "          8,  0,  8,  1,  8,  1,  8,  1,  8,  1,  8,  1,  8,  1, 10,  0,  8,  1,\n",
      "          8,  1,  8,  1,  8,  1,  8,  1, 10,  0,  8,  1,  8,  1,  4,  0,  8,  1,\n",
      "          8,  0, 10,  0,  8,  1,  8,  1,  8,  1, 11,  0, 11,  0,  8,  0,  8,  1,\n",
      "          8,  1,  8,  1,  8,  1,  8]]), Start = tensor([[10,  0, 10,  0,  2,  0,  2,  0,  2,  0,  2,  0,  2,  1,  2,  0, 11,  0,\n",
      "         11,  1,  8,  1,  8,  1,  8,  1,  8,  0,  8,  1,  8,  1,  8,  1,  8,  1,\n",
      "          8,  1,  8,  1,  8,  1,  8,  1,  8,  1,  8,  1,  8,  0,  8,  1,  8,  1,\n",
      "          8,  1,  8,  1,  8,  1,  8,  1,  8,  0,  8,  1,  8,  1,  8,  1,  8,  1,\n",
      "          8,  1,  8,  1,  8,  1,  8,  1,  8,  1,  8,  1,  8,  1,  8,  1,  8,  1,\n",
      "          8,  1,  8,  1,  8,  1,  8,  1,  8,  1,  8,  1,  8,  1,  8,  1,  8,  1,\n",
      "          8,  1,  8,  1,  8,  1,  8,  1,  8,  1,  8,  1,  8,  1,  8,  1,  8,  1,\n",
      "          8,  1,  8,  1,  8,  1,  8]])\n",
      "Predicted: 1 True: 1, Predicted with start: 1\n",
      "\n",
      "Tokens = tensor([[10,  0,  2,  0,  2,  1, 10,  0,  2,  0,  7,  0, 11,  1, 11,  0,  8,  1,\n",
      "          8,  1,  8,  1,  8,  1,  8,  1,  8,  1,  8,  1,  3,  0,  8,  1,  3,  0,\n",
      "          8,  0,  8,  1,  8,  1,  8,  0,  8,  1,  8,  1,  8,  1,  8,  1,  8,  1,\n",
      "          8,  1,  8,  1,  2,  0,  8,  1,  8,  1,  8,  1,  8,  1,  4,  1,  4,  0,\n",
      "          8,  0,  8,  1,  8,  1,  8,  1,  8,  1,  8,  1,  8,  1, 10,  0,  8,  1,\n",
      "          8,  1,  8,  1,  8,  1,  8,  1, 10,  0,  8,  1,  8,  1,  4,  0,  8,  1,\n",
      "          8,  0, 10,  0,  8,  1,  8,  1,  8,  1, 11,  0, 11,  0,  8,  0,  8,  1,\n",
      "          8,  1,  8,  1,  8,  1,  8,  1]]), Start = tensor([[10,  0, 10,  0,  2,  0,  2,  0,  2,  0,  2,  0,  2,  1,  2,  0, 11,  0,\n",
      "         11,  1,  8,  1,  8,  1,  8,  1,  8,  0,  8,  1,  8,  1,  8,  1,  8,  1,\n",
      "          8,  1,  8,  1,  8,  1,  8,  1,  8,  1,  8,  1,  8,  0,  8,  1,  8,  1,\n",
      "          8,  1,  8,  1,  8,  1,  8,  1,  8,  0,  8,  1,  8,  1,  8,  1,  8,  1,\n",
      "          8,  1,  8,  1,  8,  1,  8,  1,  8,  1,  8,  1,  8,  1,  8,  1,  8,  1,\n",
      "          8,  1,  8,  1,  8,  1,  8,  1,  8,  1,  8,  1,  8,  1,  8,  1,  8,  1,\n",
      "          8,  1,  8,  1,  8,  1,  8,  1,  8,  1,  8,  1,  8,  1,  8,  1,  8,  1,\n",
      "          8,  1,  8,  1,  8,  1,  8,  1]])\n",
      "Predicted: 8 True: 8, Predicted with start: 8\n",
      "\n",
      "Tokens = tensor([[10,  0,  2,  0,  2,  1, 10,  0,  2,  0,  7,  0, 11,  1, 11,  0,  8,  1,\n",
      "          8,  1,  8,  1,  8,  1,  8,  1,  8,  1,  8,  1,  3,  0,  8,  1,  3,  0,\n",
      "          8,  0,  8,  1,  8,  1,  8,  0,  8,  1,  8,  1,  8,  1,  8,  1,  8,  1,\n",
      "          8,  1,  8,  1,  2,  0,  8,  1,  8,  1,  8,  1,  8,  1,  4,  1,  4,  0,\n",
      "          8,  0,  8,  1,  8,  1,  8,  1,  8,  1,  8,  1,  8,  1, 10,  0,  8,  1,\n",
      "          8,  1,  8,  1,  8,  1,  8,  1, 10,  0,  8,  1,  8,  1,  4,  0,  8,  1,\n",
      "          8,  0, 10,  0,  8,  1,  8,  1,  8,  1, 11,  0, 11,  0,  8,  0,  8,  1,\n",
      "          8,  1,  8,  1,  8,  1,  8,  1,  8]]), Start = tensor([[10,  0, 10,  0,  2,  0,  2,  0,  2,  0,  2,  0,  2,  1,  2,  0, 11,  0,\n",
      "         11,  1,  8,  1,  8,  1,  8,  1,  8,  0,  8,  1,  8,  1,  8,  1,  8,  1,\n",
      "          8,  1,  8,  1,  8,  1,  8,  1,  8,  1,  8,  1,  8,  0,  8,  1,  8,  1,\n",
      "          8,  1,  8,  1,  8,  1,  8,  1,  8,  0,  8,  1,  8,  1,  8,  1,  8,  1,\n",
      "          8,  1,  8,  1,  8,  1,  8,  1,  8,  1,  8,  1,  8,  1,  8,  1,  8,  1,\n",
      "          8,  1,  8,  1,  8,  1,  8,  1,  8,  1,  8,  1,  8,  1,  8,  1,  8,  1,\n",
      "          8,  1,  8,  1,  8,  1,  8,  1,  8,  1,  8,  1,  8,  1,  8,  1,  8,  1,\n",
      "          8,  1,  8,  1,  8,  1,  8,  1,  8]])\n",
      "Predicted: 1 True: 1, Predicted with start: 1\n",
      "\n",
      "Tokens = tensor([[10,  0,  2,  0,  2,  1, 10,  0,  2,  0,  7,  0, 11,  1, 11,  0,  8,  1,\n",
      "          8,  1,  8,  1,  8,  1,  8,  1,  8,  1,  8,  1,  3,  0,  8,  1,  3,  0,\n",
      "          8,  0,  8,  1,  8,  1,  8,  0,  8,  1,  8,  1,  8,  1,  8,  1,  8,  1,\n",
      "          8,  1,  8,  1,  2,  0,  8,  1,  8,  1,  8,  1,  8,  1,  4,  1,  4,  0,\n",
      "          8,  0,  8,  1,  8,  1,  8,  1,  8,  1,  8,  1,  8,  1, 10,  0,  8,  1,\n",
      "          8,  1,  8,  1,  8,  1,  8,  1, 10,  0,  8,  1,  8,  1,  4,  0,  8,  1,\n",
      "          8,  0, 10,  0,  8,  1,  8,  1,  8,  1, 11,  0, 11,  0,  8,  0,  8,  1,\n",
      "          8,  1,  8,  1,  8,  1,  8,  1,  8,  1]]), Start = tensor([[10,  0, 10,  0,  2,  0,  2,  0,  2,  0,  2,  0,  2,  1,  2,  0, 11,  0,\n",
      "         11,  1,  8,  1,  8,  1,  8,  1,  8,  0,  8,  1,  8,  1,  8,  1,  8,  1,\n",
      "          8,  1,  8,  1,  8,  1,  8,  1,  8,  1,  8,  1,  8,  0,  8,  1,  8,  1,\n",
      "          8,  1,  8,  1,  8,  1,  8,  1,  8,  0,  8,  1,  8,  1,  8,  1,  8,  1,\n",
      "          8,  1,  8,  1,  8,  1,  8,  1,  8,  1,  8,  1,  8,  1,  8,  1,  8,  1,\n",
      "          8,  1,  8,  1,  8,  1,  8,  1,  8,  1,  8,  1,  8,  1,  8,  1,  8,  1,\n",
      "          8,  1,  8,  1,  8,  1,  8,  1,  8,  1,  8,  1,  8,  1,  8,  1,  8,  1,\n",
      "          8,  1,  8,  1,  8,  1,  8,  1,  8,  1]])\n",
      "Predicted: 8 True: 8, Predicted with start: 8\n",
      "\n",
      "Tokens = tensor([[10,  0,  2,  0,  2,  1, 10,  0,  2,  0,  7,  0, 11,  1, 11,  0,  8,  1,\n",
      "          8,  1,  8,  1,  8,  1,  8,  1,  8,  1,  8,  1,  3,  0,  8,  1,  3,  0,\n",
      "          8,  0,  8,  1,  8,  1,  8,  0,  8,  1,  8,  1,  8,  1,  8,  1,  8,  1,\n",
      "          8,  1,  8,  1,  2,  0,  8,  1,  8,  1,  8,  1,  8,  1,  4,  1,  4,  0,\n",
      "          8,  0,  8,  1,  8,  1,  8,  1,  8,  1,  8,  1,  8,  1, 10,  0,  8,  1,\n",
      "          8,  1,  8,  1,  8,  1,  8,  1, 10,  0,  8,  1,  8,  1,  4,  0,  8,  1,\n",
      "          8,  0, 10,  0,  8,  1,  8,  1,  8,  1, 11,  0, 11,  0,  8,  0,  8,  1,\n",
      "          8,  1,  8,  1,  8,  1,  8,  1,  8,  1,  8]]), Start = tensor([[10,  0, 10,  0,  2,  0,  2,  0,  2,  0,  2,  0,  2,  1,  2,  0, 11,  0,\n",
      "         11,  1,  8,  1,  8,  1,  8,  1,  8,  0,  8,  1,  8,  1,  8,  1,  8,  1,\n",
      "          8,  1,  8,  1,  8,  1,  8,  1,  8,  1,  8,  1,  8,  0,  8,  1,  8,  1,\n",
      "          8,  1,  8,  1,  8,  1,  8,  1,  8,  0,  8,  1,  8,  1,  8,  1,  8,  1,\n",
      "          8,  1,  8,  1,  8,  1,  8,  1,  8,  1,  8,  1,  8,  1,  8,  1,  8,  1,\n",
      "          8,  1,  8,  1,  8,  1,  8,  1,  8,  1,  8,  1,  8,  1,  8,  1,  8,  1,\n",
      "          8,  1,  8,  1,  8,  1,  8,  1,  8,  1,  8,  1,  8,  1,  8,  1,  8,  1,\n",
      "          8,  1,  8,  1,  8,  1,  8,  1,  8,  1,  8]])\n",
      "Predicted: 1 True: 1, Predicted with start: 1\n",
      "\n",
      "Tokens = tensor([[10,  0,  2,  0,  2,  1, 10,  0,  2,  0,  7,  0, 11,  1, 11,  0,  8,  1,\n",
      "          8,  1,  8,  1,  8,  1,  8,  1,  8,  1,  8,  1,  3,  0,  8,  1,  3,  0,\n",
      "          8,  0,  8,  1,  8,  1,  8,  0,  8,  1,  8,  1,  8,  1,  8,  1,  8,  1,\n",
      "          8,  1,  8,  1,  2,  0,  8,  1,  8,  1,  8,  1,  8,  1,  4,  1,  4,  0,\n",
      "          8,  0,  8,  1,  8,  1,  8,  1,  8,  1,  8,  1,  8,  1, 10,  0,  8,  1,\n",
      "          8,  1,  8,  1,  8,  1,  8,  1, 10,  0,  8,  1,  8,  1,  4,  0,  8,  1,\n",
      "          8,  0, 10,  0,  8,  1,  8,  1,  8,  1, 11,  0, 11,  0,  8,  0,  8,  1,\n",
      "          8,  1,  8,  1,  8,  1,  8,  1,  8,  1,  8,  1]]), Start = tensor([[10,  0, 10,  0,  2,  0,  2,  0,  2,  0,  2,  0,  2,  1,  2,  0, 11,  0,\n",
      "         11,  1,  8,  1,  8,  1,  8,  1,  8,  0,  8,  1,  8,  1,  8,  1,  8,  1,\n",
      "          8,  1,  8,  1,  8,  1,  8,  1,  8,  1,  8,  1,  8,  0,  8,  1,  8,  1,\n",
      "          8,  1,  8,  1,  8,  1,  8,  1,  8,  0,  8,  1,  8,  1,  8,  1,  8,  1,\n",
      "          8,  1,  8,  1,  8,  1,  8,  1,  8,  1,  8,  1,  8,  1,  8,  1,  8,  1,\n",
      "          8,  1,  8,  1,  8,  1,  8,  1,  8,  1,  8,  1,  8,  1,  8,  1,  8,  1,\n",
      "          8,  1,  8,  1,  8,  1,  8,  1,  8,  1,  8,  1,  8,  1,  8,  1,  8,  1,\n",
      "          8,  1,  8,  1,  8,  1,  8,  1,  8,  1,  8,  1]])\n",
      "Predicted: 8 True: 7, Predicted with start: 8\n",
      "\n",
      "Tokens = tensor([[10,  0,  2,  0,  2,  1, 10,  0,  2,  0,  7,  0, 11,  1, 11,  0,  8,  1,\n",
      "          8,  1,  8,  1,  8,  1,  8,  1,  8,  1,  8,  1,  3,  0,  8,  1,  3,  0,\n",
      "          8,  0,  8,  1,  8,  1,  8,  0,  8,  1,  8,  1,  8,  1,  8,  1,  8,  1,\n",
      "          8,  1,  8,  1,  2,  0,  8,  1,  8,  1,  8,  1,  8,  1,  4,  1,  4,  0,\n",
      "          8,  0,  8,  1,  8,  1,  8,  1,  8,  1,  8,  1,  8,  1, 10,  0,  8,  1,\n",
      "          8,  1,  8,  1,  8,  1,  8,  1, 10,  0,  8,  1,  8,  1,  4,  0,  8,  1,\n",
      "          8,  0, 10,  0,  8,  1,  8,  1,  8,  1, 11,  0, 11,  0,  8,  0,  8,  1,\n",
      "          8,  1,  8,  1,  8,  1,  8,  1,  8,  1,  8,  1,  7]]), Start = tensor([[10,  0, 10,  0,  2,  0,  2,  0,  2,  0,  2,  0,  2,  1,  2,  0, 11,  0,\n",
      "         11,  1,  8,  1,  8,  1,  8,  1,  8,  0,  8,  1,  8,  1,  8,  1,  8,  1,\n",
      "          8,  1,  8,  1,  8,  1,  8,  1,  8,  1,  8,  1,  8,  0,  8,  1,  8,  1,\n",
      "          8,  1,  8,  1,  8,  1,  8,  1,  8,  0,  8,  1,  8,  1,  8,  1,  8,  1,\n",
      "          8,  1,  8,  1,  8,  1,  8,  1,  8,  1,  8,  1,  8,  1,  8,  1,  8,  1,\n",
      "          8,  1,  8,  1,  8,  1,  8,  1,  8,  1,  8,  1,  8,  1,  8,  1,  8,  1,\n",
      "          8,  1,  8,  1,  8,  1,  8,  1,  8,  1,  8,  1,  8,  1,  8,  1,  8,  1,\n",
      "          8,  1,  8,  1,  8,  1,  8,  1,  8,  1,  8,  1,  8]])\n",
      "Predicted: 0 True: 0, Predicted with start: 1\n",
      "\n",
      "Tokens = tensor([[10,  0,  2,  0,  2,  1, 10,  0,  2,  0,  7,  0, 11,  1, 11,  0,  8,  1,\n",
      "          8,  1,  8,  1,  8,  1,  8,  1,  8,  1,  8,  1,  3,  0,  8,  1,  3,  0,\n",
      "          8,  0,  8,  1,  8,  1,  8,  0,  8,  1,  8,  1,  8,  1,  8,  1,  8,  1,\n",
      "          8,  1,  8,  1,  2,  0,  8,  1,  8,  1,  8,  1,  8,  1,  4,  1,  4,  0,\n",
      "          8,  0,  8,  1,  8,  1,  8,  1,  8,  1,  8,  1,  8,  1, 10,  0,  8,  1,\n",
      "          8,  1,  8,  1,  8,  1,  8,  1, 10,  0,  8,  1,  8,  1,  4,  0,  8,  1,\n",
      "          8,  0, 10,  0,  8,  1,  8,  1,  8,  1, 11,  0, 11,  0,  8,  0,  8,  1,\n",
      "          8,  1,  8,  1,  8,  1,  8,  1,  8,  1,  8,  1,  7,  0]]), Start = tensor([[10,  0, 10,  0,  2,  0,  2,  0,  2,  0,  2,  0,  2,  1,  2,  0, 11,  0,\n",
      "         11,  1,  8,  1,  8,  1,  8,  1,  8,  0,  8,  1,  8,  1,  8,  1,  8,  1,\n",
      "          8,  1,  8,  1,  8,  1,  8,  1,  8,  1,  8,  1,  8,  0,  8,  1,  8,  1,\n",
      "          8,  1,  8,  1,  8,  1,  8,  1,  8,  0,  8,  1,  8,  1,  8,  1,  8,  1,\n",
      "          8,  1,  8,  1,  8,  1,  8,  1,  8,  1,  8,  1,  8,  1,  8,  1,  8,  1,\n",
      "          8,  1,  8,  1,  8,  1,  8,  1,  8,  1,  8,  1,  8,  1,  8,  1,  8,  1,\n",
      "          8,  1,  8,  1,  8,  1,  8,  1,  8,  1,  8,  1,  8,  1,  8,  1,  8,  1,\n",
      "          8,  1,  8,  1,  8,  1,  8,  1,  8,  1,  8,  1,  8,  1]])\n",
      "Predicted: 8 True: 8, Predicted with start: 8\n",
      "\n",
      "Tokens = tensor([[10,  0,  2,  0,  2,  1, 10,  0,  2,  0,  7,  0, 11,  1, 11,  0,  8,  1,\n",
      "          8,  1,  8,  1,  8,  1,  8,  1,  8,  1,  8,  1,  3,  0,  8,  1,  3,  0,\n",
      "          8,  0,  8,  1,  8,  1,  8,  0,  8,  1,  8,  1,  8,  1,  8,  1,  8,  1,\n",
      "          8,  1,  8,  1,  2,  0,  8,  1,  8,  1,  8,  1,  8,  1,  4,  1,  4,  0,\n",
      "          8,  0,  8,  1,  8,  1,  8,  1,  8,  1,  8,  1,  8,  1, 10,  0,  8,  1,\n",
      "          8,  1,  8,  1,  8,  1,  8,  1, 10,  0,  8,  1,  8,  1,  4,  0,  8,  1,\n",
      "          8,  0, 10,  0,  8,  1,  8,  1,  8,  1, 11,  0, 11,  0,  8,  0,  8,  1,\n",
      "          8,  1,  8,  1,  8,  1,  8,  1,  8,  1,  8,  1,  7,  0,  8]]), Start = tensor([[10,  0, 10,  0,  2,  0,  2,  0,  2,  0,  2,  0,  2,  1,  2,  0, 11,  0,\n",
      "         11,  1,  8,  1,  8,  1,  8,  1,  8,  0,  8,  1,  8,  1,  8,  1,  8,  1,\n",
      "          8,  1,  8,  1,  8,  1,  8,  1,  8,  1,  8,  1,  8,  0,  8,  1,  8,  1,\n",
      "          8,  1,  8,  1,  8,  1,  8,  1,  8,  0,  8,  1,  8,  1,  8,  1,  8,  1,\n",
      "          8,  1,  8,  1,  8,  1,  8,  1,  8,  1,  8,  1,  8,  1,  8,  1,  8,  1,\n",
      "          8,  1,  8,  1,  8,  1,  8,  1,  8,  1,  8,  1,  8,  1,  8,  1,  8,  1,\n",
      "          8,  1,  8,  1,  8,  1,  8,  1,  8,  1,  8,  1,  8,  1,  8,  1,  8,  1,\n",
      "          8,  1,  8,  1,  8,  1,  8,  1,  8,  1,  8,  1,  8,  1,  8]])\n",
      "Predicted: 1 True: 1, Predicted with start: 1\n",
      "\n",
      "Tokens = tensor([[10,  0,  2,  0,  2,  1, 10,  0,  2,  0,  7,  0, 11,  1, 11,  0,  8,  1,\n",
      "          8,  1,  8,  1,  8,  1,  8,  1,  8,  1,  8,  1,  3,  0,  8,  1,  3,  0,\n",
      "          8,  0,  8,  1,  8,  1,  8,  0,  8,  1,  8,  1,  8,  1,  8,  1,  8,  1,\n",
      "          8,  1,  8,  1,  2,  0,  8,  1,  8,  1,  8,  1,  8,  1,  4,  1,  4,  0,\n",
      "          8,  0,  8,  1,  8,  1,  8,  1,  8,  1,  8,  1,  8,  1, 10,  0,  8,  1,\n",
      "          8,  1,  8,  1,  8,  1,  8,  1, 10,  0,  8,  1,  8,  1,  4,  0,  8,  1,\n",
      "          8,  0, 10,  0,  8,  1,  8,  1,  8,  1, 11,  0, 11,  0,  8,  0,  8,  1,\n",
      "          8,  1,  8,  1,  8,  1,  8,  1,  8,  1,  8,  1,  7,  0,  8,  1]]), Start = tensor([[10,  0, 10,  0,  2,  0,  2,  0,  2,  0,  2,  0,  2,  1,  2,  0, 11,  0,\n",
      "         11,  1,  8,  1,  8,  1,  8,  1,  8,  0,  8,  1,  8,  1,  8,  1,  8,  1,\n",
      "          8,  1,  8,  1,  8,  1,  8,  1,  8,  1,  8,  1,  8,  0,  8,  1,  8,  1,\n",
      "          8,  1,  8,  1,  8,  1,  8,  1,  8,  0,  8,  1,  8,  1,  8,  1,  8,  1,\n",
      "          8,  1,  8,  1,  8,  1,  8,  1,  8,  1,  8,  1,  8,  1,  8,  1,  8,  1,\n",
      "          8,  1,  8,  1,  8,  1,  8,  1,  8,  1,  8,  1,  8,  1,  8,  1,  8,  1,\n",
      "          8,  1,  8,  1,  8,  1,  8,  1,  8,  1,  8,  1,  8,  1,  8,  1,  8,  1,\n",
      "          8,  1,  8,  1,  8,  1,  8,  1,  8,  1,  8,  1,  8,  1,  8,  1]])\n",
      "Predicted: 8 True: 8, Predicted with start: 8\n",
      "\n",
      "Tokens = tensor([[10,  0,  2,  0,  2,  1, 10,  0,  2,  0,  7,  0, 11,  1, 11,  0,  8,  1,\n",
      "          8,  1,  8,  1,  8,  1,  8,  1,  8,  1,  8,  1,  3,  0,  8,  1,  3,  0,\n",
      "          8,  0,  8,  1,  8,  1,  8,  0,  8,  1,  8,  1,  8,  1,  8,  1,  8,  1,\n",
      "          8,  1,  8,  1,  2,  0,  8,  1,  8,  1,  8,  1,  8,  1,  4,  1,  4,  0,\n",
      "          8,  0,  8,  1,  8,  1,  8,  1,  8,  1,  8,  1,  8,  1, 10,  0,  8,  1,\n",
      "          8,  1,  8,  1,  8,  1,  8,  1, 10,  0,  8,  1,  8,  1,  4,  0,  8,  1,\n",
      "          8,  0, 10,  0,  8,  1,  8,  1,  8,  1, 11,  0, 11,  0,  8,  0,  8,  1,\n",
      "          8,  1,  8,  1,  8,  1,  8,  1,  8,  1,  8,  1,  7,  0,  8,  1,  8]]), Start = tensor([[10,  0, 10,  0,  2,  0,  2,  0,  2,  0,  2,  0,  2,  1,  2,  0, 11,  0,\n",
      "         11,  1,  8,  1,  8,  1,  8,  1,  8,  0,  8,  1,  8,  1,  8,  1,  8,  1,\n",
      "          8,  1,  8,  1,  8,  1,  8,  1,  8,  1,  8,  1,  8,  0,  8,  1,  8,  1,\n",
      "          8,  1,  8,  1,  8,  1,  8,  1,  8,  0,  8,  1,  8,  1,  8,  1,  8,  1,\n",
      "          8,  1,  8,  1,  8,  1,  8,  1,  8,  1,  8,  1,  8,  1,  8,  1,  8,  1,\n",
      "          8,  1,  8,  1,  8,  1,  8,  1,  8,  1,  8,  1,  8,  1,  8,  1,  8,  1,\n",
      "          8,  1,  8,  1,  8,  1,  8,  1,  8,  1,  8,  1,  8,  1,  8,  1,  8,  1,\n",
      "          8,  1,  8,  1,  8,  1,  8,  1,  8,  1,  8,  1,  8,  1,  8,  1,  8]])\n",
      "Predicted: 1 True: 1, Predicted with start: 1\n",
      "\n",
      "Tokens = tensor([[10,  0,  2,  0,  2,  1, 10,  0,  2,  0,  7,  0, 11,  1, 11,  0,  8,  1,\n",
      "          8,  1,  8,  1,  8,  1,  8,  1,  8,  1,  8,  1,  3,  0,  8,  1,  3,  0,\n",
      "          8,  0,  8,  1,  8,  1,  8,  0,  8,  1,  8,  1,  8,  1,  8,  1,  8,  1,\n",
      "          8,  1,  8,  1,  2,  0,  8,  1,  8,  1,  8,  1,  8,  1,  4,  1,  4,  0,\n",
      "          8,  0,  8,  1,  8,  1,  8,  1,  8,  1,  8,  1,  8,  1, 10,  0,  8,  1,\n",
      "          8,  1,  8,  1,  8,  1,  8,  1, 10,  0,  8,  1,  8,  1,  4,  0,  8,  1,\n",
      "          8,  0, 10,  0,  8,  1,  8,  1,  8,  1, 11,  0, 11,  0,  8,  0,  8,  1,\n",
      "          8,  1,  8,  1,  8,  1,  8,  1,  8,  1,  8,  1,  7,  0,  8,  1,  8,  1]]), Start = tensor([[10,  0, 10,  0,  2,  0,  2,  0,  2,  0,  2,  0,  2,  1,  2,  0, 11,  0,\n",
      "         11,  1,  8,  1,  8,  1,  8,  1,  8,  0,  8,  1,  8,  1,  8,  1,  8,  1,\n",
      "          8,  1,  8,  1,  8,  1,  8,  1,  8,  1,  8,  1,  8,  0,  8,  1,  8,  1,\n",
      "          8,  1,  8,  1,  8,  1,  8,  1,  8,  0,  8,  1,  8,  1,  8,  1,  8,  1,\n",
      "          8,  1,  8,  1,  8,  1,  8,  1,  8,  1,  8,  1,  8,  1,  8,  1,  8,  1,\n",
      "          8,  1,  8,  1,  8,  1,  8,  1,  8,  1,  8,  1,  8,  1,  8,  1,  8,  1,\n",
      "          8,  1,  8,  1,  8,  1,  8,  1,  8,  1,  8,  1,  8,  1,  8,  1,  8,  1,\n",
      "          8,  1,  8,  1,  8,  1,  8,  1,  8,  1,  8,  1,  8,  1,  8,  1,  8,  1]])\n",
      "Predicted: 8 True: 8, Predicted with start: 8\n",
      "\n",
      "Tokens = tensor([[10,  0,  2,  0,  2,  1, 10,  0,  2,  0,  7,  0, 11,  1, 11,  0,  8,  1,\n",
      "          8,  1,  8,  1,  8,  1,  8,  1,  8,  1,  8,  1,  3,  0,  8,  1,  3,  0,\n",
      "          8,  0,  8,  1,  8,  1,  8,  0,  8,  1,  8,  1,  8,  1,  8,  1,  8,  1,\n",
      "          8,  1,  8,  1,  2,  0,  8,  1,  8,  1,  8,  1,  8,  1,  4,  1,  4,  0,\n",
      "          8,  0,  8,  1,  8,  1,  8,  1,  8,  1,  8,  1,  8,  1, 10,  0,  8,  1,\n",
      "          8,  1,  8,  1,  8,  1,  8,  1, 10,  0,  8,  1,  8,  1,  4,  0,  8,  1,\n",
      "          8,  0, 10,  0,  8,  1,  8,  1,  8,  1, 11,  0, 11,  0,  8,  0,  8,  1,\n",
      "          8,  1,  8,  1,  8,  1,  8,  1,  8,  1,  8,  1,  7,  0,  8,  1,  8,  1,\n",
      "          8]]), Start = tensor([[10,  0, 10,  0,  2,  0,  2,  0,  2,  0,  2,  0,  2,  1,  2,  0, 11,  0,\n",
      "         11,  1,  8,  1,  8,  1,  8,  1,  8,  0,  8,  1,  8,  1,  8,  1,  8,  1,\n",
      "          8,  1,  8,  1,  8,  1,  8,  1,  8,  1,  8,  1,  8,  0,  8,  1,  8,  1,\n",
      "          8,  1,  8,  1,  8,  1,  8,  1,  8,  0,  8,  1,  8,  1,  8,  1,  8,  1,\n",
      "          8,  1,  8,  1,  8,  1,  8,  1,  8,  1,  8,  1,  8,  1,  8,  1,  8,  1,\n",
      "          8,  1,  8,  1,  8,  1,  8,  1,  8,  1,  8,  1,  8,  1,  8,  1,  8,  1,\n",
      "          8,  1,  8,  1,  8,  1,  8,  1,  8,  1,  8,  1,  8,  1,  8,  1,  8,  1,\n",
      "          8,  1,  8,  1,  8,  1,  8,  1,  8,  1,  8,  1,  8,  1,  8,  1,  8,  1,\n",
      "          8]])\n",
      "Predicted: 1 True: 1, Predicted with start: 1\n",
      "\n",
      "Tokens = tensor([[10,  0,  2,  0,  2,  1, 10,  0,  2,  0,  7,  0, 11,  1, 11,  0,  8,  1,\n",
      "          8,  1,  8,  1,  8,  1,  8,  1,  8,  1,  8,  1,  3,  0,  8,  1,  3,  0,\n",
      "          8,  0,  8,  1,  8,  1,  8,  0,  8,  1,  8,  1,  8,  1,  8,  1,  8,  1,\n",
      "          8,  1,  8,  1,  2,  0,  8,  1,  8,  1,  8,  1,  8,  1,  4,  1,  4,  0,\n",
      "          8,  0,  8,  1,  8,  1,  8,  1,  8,  1,  8,  1,  8,  1, 10,  0,  8,  1,\n",
      "          8,  1,  8,  1,  8,  1,  8,  1, 10,  0,  8,  1,  8,  1,  4,  0,  8,  1,\n",
      "          8,  0, 10,  0,  8,  1,  8,  1,  8,  1, 11,  0, 11,  0,  8,  0,  8,  1,\n",
      "          8,  1,  8,  1,  8,  1,  8,  1,  8,  1,  8,  1,  7,  0,  8,  1,  8,  1,\n",
      "          8,  1]]), Start = tensor([[10,  0, 10,  0,  2,  0,  2,  0,  2,  0,  2,  0,  2,  1,  2,  0, 11,  0,\n",
      "         11,  1,  8,  1,  8,  1,  8,  1,  8,  0,  8,  1,  8,  1,  8,  1,  8,  1,\n",
      "          8,  1,  8,  1,  8,  1,  8,  1,  8,  1,  8,  1,  8,  0,  8,  1,  8,  1,\n",
      "          8,  1,  8,  1,  8,  1,  8,  1,  8,  0,  8,  1,  8,  1,  8,  1,  8,  1,\n",
      "          8,  1,  8,  1,  8,  1,  8,  1,  8,  1,  8,  1,  8,  1,  8,  1,  8,  1,\n",
      "          8,  1,  8,  1,  8,  1,  8,  1,  8,  1,  8,  1,  8,  1,  8,  1,  8,  1,\n",
      "          8,  1,  8,  1,  8,  1,  8,  1,  8,  1,  8,  1,  8,  1,  8,  1,  8,  1,\n",
      "          8,  1,  8,  1,  8,  1,  8,  1,  8,  1,  8,  1,  8,  1,  8,  1,  8,  1,\n",
      "          8,  1]])\n",
      "Predicted: 8 True: 8, Predicted with start: 8\n",
      "\n",
      "Tokens = tensor([[10,  0,  2,  0,  2,  1, 10,  0,  2,  0,  7,  0, 11,  1, 11,  0,  8,  1,\n",
      "          8,  1,  8,  1,  8,  1,  8,  1,  8,  1,  8,  1,  3,  0,  8,  1,  3,  0,\n",
      "          8,  0,  8,  1,  8,  1,  8,  0,  8,  1,  8,  1,  8,  1,  8,  1,  8,  1,\n",
      "          8,  1,  8,  1,  2,  0,  8,  1,  8,  1,  8,  1,  8,  1,  4,  1,  4,  0,\n",
      "          8,  0,  8,  1,  8,  1,  8,  1,  8,  1,  8,  1,  8,  1, 10,  0,  8,  1,\n",
      "          8,  1,  8,  1,  8,  1,  8,  1, 10,  0,  8,  1,  8,  1,  4,  0,  8,  1,\n",
      "          8,  0, 10,  0,  8,  1,  8,  1,  8,  1, 11,  0, 11,  0,  8,  0,  8,  1,\n",
      "          8,  1,  8,  1,  8,  1,  8,  1,  8,  1,  8,  1,  7,  0,  8,  1,  8,  1,\n",
      "          8,  1,  8]]), Start = tensor([[10,  0, 10,  0,  2,  0,  2,  0,  2,  0,  2,  0,  2,  1,  2,  0, 11,  0,\n",
      "         11,  1,  8,  1,  8,  1,  8,  1,  8,  0,  8,  1,  8,  1,  8,  1,  8,  1,\n",
      "          8,  1,  8,  1,  8,  1,  8,  1,  8,  1,  8,  1,  8,  0,  8,  1,  8,  1,\n",
      "          8,  1,  8,  1,  8,  1,  8,  1,  8,  0,  8,  1,  8,  1,  8,  1,  8,  1,\n",
      "          8,  1,  8,  1,  8,  1,  8,  1,  8,  1,  8,  1,  8,  1,  8,  1,  8,  1,\n",
      "          8,  1,  8,  1,  8,  1,  8,  1,  8,  1,  8,  1,  8,  1,  8,  1,  8,  1,\n",
      "          8,  1,  8,  1,  8,  1,  8,  1,  8,  1,  8,  1,  8,  1,  8,  1,  8,  1,\n",
      "          8,  1,  8,  1,  8,  1,  8,  1,  8,  1,  8,  1,  8,  1,  8,  1,  8,  1,\n",
      "          8,  1,  8]])\n",
      "Predicted: 1 True: 0, Predicted with start: 1\n",
      "\n",
      "Tokens = tensor([[10,  0,  2,  0,  2,  1, 10,  0,  2,  0,  7,  0, 11,  1, 11,  0,  8,  1,\n",
      "          8,  1,  8,  1,  8,  1,  8,  1,  8,  1,  8,  1,  3,  0,  8,  1,  3,  0,\n",
      "          8,  0,  8,  1,  8,  1,  8,  0,  8,  1,  8,  1,  8,  1,  8,  1,  8,  1,\n",
      "          8,  1,  8,  1,  2,  0,  8,  1,  8,  1,  8,  1,  8,  1,  4,  1,  4,  0,\n",
      "          8,  0,  8,  1,  8,  1,  8,  1,  8,  1,  8,  1,  8,  1, 10,  0,  8,  1,\n",
      "          8,  1,  8,  1,  8,  1,  8,  1, 10,  0,  8,  1,  8,  1,  4,  0,  8,  1,\n",
      "          8,  0, 10,  0,  8,  1,  8,  1,  8,  1, 11,  0, 11,  0,  8,  0,  8,  1,\n",
      "          8,  1,  8,  1,  8,  1,  8,  1,  8,  1,  8,  1,  7,  0,  8,  1,  8,  1,\n",
      "          8,  1,  8,  0]]), Start = tensor([[10,  0, 10,  0,  2,  0,  2,  0,  2,  0,  2,  0,  2,  1,  2,  0, 11,  0,\n",
      "         11,  1,  8,  1,  8,  1,  8,  1,  8,  0,  8,  1,  8,  1,  8,  1,  8,  1,\n",
      "          8,  1,  8,  1,  8,  1,  8,  1,  8,  1,  8,  1,  8,  0,  8,  1,  8,  1,\n",
      "          8,  1,  8,  1,  8,  1,  8,  1,  8,  0,  8,  1,  8,  1,  8,  1,  8,  1,\n",
      "          8,  1,  8,  1,  8,  1,  8,  1,  8,  1,  8,  1,  8,  1,  8,  1,  8,  1,\n",
      "          8,  1,  8,  1,  8,  1,  8,  1,  8,  1,  8,  1,  8,  1,  8,  1,  8,  1,\n",
      "          8,  1,  8,  1,  8,  1,  8,  1,  8,  1,  8,  1,  8,  1,  8,  1,  8,  1,\n",
      "          8,  1,  8,  1,  8,  1,  8,  1,  8,  1,  8,  1,  8,  1,  8,  1,  8,  1,\n",
      "          8,  1,  8,  1]])\n",
      "Predicted: 8 True: 8, Predicted with start: 8\n",
      "\n",
      "Tokens = tensor([[10,  0,  2,  0,  2,  1, 10,  0,  2,  0,  7,  0, 11,  1, 11,  0,  8,  1,\n",
      "          8,  1,  8,  1,  8,  1,  8,  1,  8,  1,  8,  1,  3,  0,  8,  1,  3,  0,\n",
      "          8,  0,  8,  1,  8,  1,  8,  0,  8,  1,  8,  1,  8,  1,  8,  1,  8,  1,\n",
      "          8,  1,  8,  1,  2,  0,  8,  1,  8,  1,  8,  1,  8,  1,  4,  1,  4,  0,\n",
      "          8,  0,  8,  1,  8,  1,  8,  1,  8,  1,  8,  1,  8,  1, 10,  0,  8,  1,\n",
      "          8,  1,  8,  1,  8,  1,  8,  1, 10,  0,  8,  1,  8,  1,  4,  0,  8,  1,\n",
      "          8,  0, 10,  0,  8,  1,  8,  1,  8,  1, 11,  0, 11,  0,  8,  0,  8,  1,\n",
      "          8,  1,  8,  1,  8,  1,  8,  1,  8,  1,  8,  1,  7,  0,  8,  1,  8,  1,\n",
      "          8,  1,  8,  0,  8]]), Start = tensor([[10,  0, 10,  0,  2,  0,  2,  0,  2,  0,  2,  0,  2,  1,  2,  0, 11,  0,\n",
      "         11,  1,  8,  1,  8,  1,  8,  1,  8,  0,  8,  1,  8,  1,  8,  1,  8,  1,\n",
      "          8,  1,  8,  1,  8,  1,  8,  1,  8,  1,  8,  1,  8,  0,  8,  1,  8,  1,\n",
      "          8,  1,  8,  1,  8,  1,  8,  1,  8,  0,  8,  1,  8,  1,  8,  1,  8,  1,\n",
      "          8,  1,  8,  1,  8,  1,  8,  1,  8,  1,  8,  1,  8,  1,  8,  1,  8,  1,\n",
      "          8,  1,  8,  1,  8,  1,  8,  1,  8,  1,  8,  1,  8,  1,  8,  1,  8,  1,\n",
      "          8,  1,  8,  1,  8,  1,  8,  1,  8,  1,  8,  1,  8,  1,  8,  1,  8,  1,\n",
      "          8,  1,  8,  1,  8,  1,  8,  1,  8,  1,  8,  1,  8,  1,  8,  1,  8,  1,\n",
      "          8,  1,  8,  1,  8]])\n",
      "Predicted: 1 True: 1, Predicted with start: 1\n",
      "\n",
      "Tokens = tensor([[10,  0,  2,  0,  2,  1, 10,  0,  2,  0,  7,  0, 11,  1, 11,  0,  8,  1,\n",
      "          8,  1,  8,  1,  8,  1,  8,  1,  8,  1,  8,  1,  3,  0,  8,  1,  3,  0,\n",
      "          8,  0,  8,  1,  8,  1,  8,  0,  8,  1,  8,  1,  8,  1,  8,  1,  8,  1,\n",
      "          8,  1,  8,  1,  2,  0,  8,  1,  8,  1,  8,  1,  8,  1,  4,  1,  4,  0,\n",
      "          8,  0,  8,  1,  8,  1,  8,  1,  8,  1,  8,  1,  8,  1, 10,  0,  8,  1,\n",
      "          8,  1,  8,  1,  8,  1,  8,  1, 10,  0,  8,  1,  8,  1,  4,  0,  8,  1,\n",
      "          8,  0, 10,  0,  8,  1,  8,  1,  8,  1, 11,  0, 11,  0,  8,  0,  8,  1,\n",
      "          8,  1,  8,  1,  8,  1,  8,  1,  8,  1,  8,  1,  7,  0,  8,  1,  8,  1,\n",
      "          8,  1,  8,  0,  8,  1]]), Start = tensor([[10,  0, 10,  0,  2,  0,  2,  0,  2,  0,  2,  0,  2,  1,  2,  0, 11,  0,\n",
      "         11,  1,  8,  1,  8,  1,  8,  1,  8,  0,  8,  1,  8,  1,  8,  1,  8,  1,\n",
      "          8,  1,  8,  1,  8,  1,  8,  1,  8,  1,  8,  1,  8,  0,  8,  1,  8,  1,\n",
      "          8,  1,  8,  1,  8,  1,  8,  1,  8,  0,  8,  1,  8,  1,  8,  1,  8,  1,\n",
      "          8,  1,  8,  1,  8,  1,  8,  1,  8,  1,  8,  1,  8,  1,  8,  1,  8,  1,\n",
      "          8,  1,  8,  1,  8,  1,  8,  1,  8,  1,  8,  1,  8,  1,  8,  1,  8,  1,\n",
      "          8,  1,  8,  1,  8,  1,  8,  1,  8,  1,  8,  1,  8,  1,  8,  1,  8,  1,\n",
      "          8,  1,  8,  1,  8,  1,  8,  1,  8,  1,  8,  1,  8,  1,  8,  1,  8,  1,\n",
      "          8,  1,  8,  1,  8,  0]])\n",
      "Predicted: 8 True: 8, Predicted with start: 8\n",
      "\n",
      "Tokens = tensor([[10,  0,  2,  0,  2,  1, 10,  0,  2,  0,  7,  0, 11,  1, 11,  0,  8,  1,\n",
      "          8,  1,  8,  1,  8,  1,  8,  1,  8,  1,  8,  1,  3,  0,  8,  1,  3,  0,\n",
      "          8,  0,  8,  1,  8,  1,  8,  0,  8,  1,  8,  1,  8,  1,  8,  1,  8,  1,\n",
      "          8,  1,  8,  1,  2,  0,  8,  1,  8,  1,  8,  1,  8,  1,  4,  1,  4,  0,\n",
      "          8,  0,  8,  1,  8,  1,  8,  1,  8,  1,  8,  1,  8,  1, 10,  0,  8,  1,\n",
      "          8,  1,  8,  1,  8,  1,  8,  1, 10,  0,  8,  1,  8,  1,  4,  0,  8,  1,\n",
      "          8,  0, 10,  0,  8,  1,  8,  1,  8,  1, 11,  0, 11,  0,  8,  0,  8,  1,\n",
      "          8,  1,  8,  1,  8,  1,  8,  1,  8,  1,  8,  1,  7,  0,  8,  1,  8,  1,\n",
      "          8,  1,  8,  0,  8,  1,  8]]), Start = tensor([[10,  0, 10,  0,  2,  0,  2,  0,  2,  0,  2,  0,  2,  1,  2,  0, 11,  0,\n",
      "         11,  1,  8,  1,  8,  1,  8,  1,  8,  0,  8,  1,  8,  1,  8,  1,  8,  1,\n",
      "          8,  1,  8,  1,  8,  1,  8,  1,  8,  1,  8,  1,  8,  0,  8,  1,  8,  1,\n",
      "          8,  1,  8,  1,  8,  1,  8,  1,  8,  0,  8,  1,  8,  1,  8,  1,  8,  1,\n",
      "          8,  1,  8,  1,  8,  1,  8,  1,  8,  1,  8,  1,  8,  1,  8,  1,  8,  1,\n",
      "          8,  1,  8,  1,  8,  1,  8,  1,  8,  1,  8,  1,  8,  1,  8,  1,  8,  1,\n",
      "          8,  1,  8,  1,  8,  1,  8,  1,  8,  1,  8,  1,  8,  1,  8,  1,  8,  1,\n",
      "          8,  1,  8,  1,  8,  1,  8,  1,  8,  1,  8,  1,  8,  1,  8,  1,  8,  1,\n",
      "          8,  1,  8,  1,  8,  0,  8]])\n",
      "Predicted: 1 True: 0, Predicted with start: 1\n",
      "\n",
      "Tokens = tensor([[10,  0,  2,  0,  2,  1, 10,  0,  2,  0,  7,  0, 11,  1, 11,  0,  8,  1,\n",
      "          8,  1,  8,  1,  8,  1,  8,  1,  8,  1,  8,  1,  3,  0,  8,  1,  3,  0,\n",
      "          8,  0,  8,  1,  8,  1,  8,  0,  8,  1,  8,  1,  8,  1,  8,  1,  8,  1,\n",
      "          8,  1,  8,  1,  2,  0,  8,  1,  8,  1,  8,  1,  8,  1,  4,  1,  4,  0,\n",
      "          8,  0,  8,  1,  8,  1,  8,  1,  8,  1,  8,  1,  8,  1, 10,  0,  8,  1,\n",
      "          8,  1,  8,  1,  8,  1,  8,  1, 10,  0,  8,  1,  8,  1,  4,  0,  8,  1,\n",
      "          8,  0, 10,  0,  8,  1,  8,  1,  8,  1, 11,  0, 11,  0,  8,  0,  8,  1,\n",
      "          8,  1,  8,  1,  8,  1,  8,  1,  8,  1,  8,  1,  7,  0,  8,  1,  8,  1,\n",
      "          8,  1,  8,  0,  8,  1,  8,  0]]), Start = tensor([[10,  0, 10,  0,  2,  0,  2,  0,  2,  0,  2,  0,  2,  1,  2,  0, 11,  0,\n",
      "         11,  1,  8,  1,  8,  1,  8,  1,  8,  0,  8,  1,  8,  1,  8,  1,  8,  1,\n",
      "          8,  1,  8,  1,  8,  1,  8,  1,  8,  1,  8,  1,  8,  0,  8,  1,  8,  1,\n",
      "          8,  1,  8,  1,  8,  1,  8,  1,  8,  0,  8,  1,  8,  1,  8,  1,  8,  1,\n",
      "          8,  1,  8,  1,  8,  1,  8,  1,  8,  1,  8,  1,  8,  1,  8,  1,  8,  1,\n",
      "          8,  1,  8,  1,  8,  1,  8,  1,  8,  1,  8,  1,  8,  1,  8,  1,  8,  1,\n",
      "          8,  1,  8,  1,  8,  1,  8,  1,  8,  1,  8,  1,  8,  1,  8,  1,  8,  1,\n",
      "          8,  1,  8,  1,  8,  1,  8,  1,  8,  1,  8,  1,  8,  1,  8,  1,  8,  1,\n",
      "          8,  1,  8,  1,  8,  0,  8,  1]])\n",
      "Predicted: 8 True: 8, Predicted with start: 8\n",
      "\n",
      "Tokens = tensor([[10,  0,  2,  0,  2,  1, 10,  0,  2,  0,  7,  0, 11,  1, 11,  0,  8,  1,\n",
      "          8,  1,  8,  1,  8,  1,  8,  1,  8,  1,  8,  1,  3,  0,  8,  1,  3,  0,\n",
      "          8,  0,  8,  1,  8,  1,  8,  0,  8,  1,  8,  1,  8,  1,  8,  1,  8,  1,\n",
      "          8,  1,  8,  1,  2,  0,  8,  1,  8,  1,  8,  1,  8,  1,  4,  1,  4,  0,\n",
      "          8,  0,  8,  1,  8,  1,  8,  1,  8,  1,  8,  1,  8,  1, 10,  0,  8,  1,\n",
      "          8,  1,  8,  1,  8,  1,  8,  1, 10,  0,  8,  1,  8,  1,  4,  0,  8,  1,\n",
      "          8,  0, 10,  0,  8,  1,  8,  1,  8,  1, 11,  0, 11,  0,  8,  0,  8,  1,\n",
      "          8,  1,  8,  1,  8,  1,  8,  1,  8,  1,  8,  1,  7,  0,  8,  1,  8,  1,\n",
      "          8,  1,  8,  0,  8,  1,  8,  0,  8]]), Start = tensor([[10,  0, 10,  0,  2,  0,  2,  0,  2,  0,  2,  0,  2,  1,  2,  0, 11,  0,\n",
      "         11,  1,  8,  1,  8,  1,  8,  1,  8,  0,  8,  1,  8,  1,  8,  1,  8,  1,\n",
      "          8,  1,  8,  1,  8,  1,  8,  1,  8,  1,  8,  1,  8,  0,  8,  1,  8,  1,\n",
      "          8,  1,  8,  1,  8,  1,  8,  1,  8,  0,  8,  1,  8,  1,  8,  1,  8,  1,\n",
      "          8,  1,  8,  1,  8,  1,  8,  1,  8,  1,  8,  1,  8,  1,  8,  1,  8,  1,\n",
      "          8,  1,  8,  1,  8,  1,  8,  1,  8,  1,  8,  1,  8,  1,  8,  1,  8,  1,\n",
      "          8,  1,  8,  1,  8,  1,  8,  1,  8,  1,  8,  1,  8,  1,  8,  1,  8,  1,\n",
      "          8,  1,  8,  1,  8,  1,  8,  1,  8,  1,  8,  1,  8,  1,  8,  1,  8,  1,\n",
      "          8,  1,  8,  1,  8,  0,  8,  1,  8]])\n",
      "Predicted: 1 True: 1, Predicted with start: 1\n",
      "\n",
      "Tokens = tensor([[10,  0,  2,  0,  2,  1, 10,  0,  2,  0,  7,  0, 11,  1, 11,  0,  8,  1,\n",
      "          8,  1,  8,  1,  8,  1,  8,  1,  8,  1,  8,  1,  3,  0,  8,  1,  3,  0,\n",
      "          8,  0,  8,  1,  8,  1,  8,  0,  8,  1,  8,  1,  8,  1,  8,  1,  8,  1,\n",
      "          8,  1,  8,  1,  2,  0,  8,  1,  8,  1,  8,  1,  8,  1,  4,  1,  4,  0,\n",
      "          8,  0,  8,  1,  8,  1,  8,  1,  8,  1,  8,  1,  8,  1, 10,  0,  8,  1,\n",
      "          8,  1,  8,  1,  8,  1,  8,  1, 10,  0,  8,  1,  8,  1,  4,  0,  8,  1,\n",
      "          8,  0, 10,  0,  8,  1,  8,  1,  8,  1, 11,  0, 11,  0,  8,  0,  8,  1,\n",
      "          8,  1,  8,  1,  8,  1,  8,  1,  8,  1,  8,  1,  7,  0,  8,  1,  8,  1,\n",
      "          8,  1,  8,  0,  8,  1,  8,  0,  8,  1]]), Start = tensor([[10,  0, 10,  0,  2,  0,  2,  0,  2,  0,  2,  0,  2,  1,  2,  0, 11,  0,\n",
      "         11,  1,  8,  1,  8,  1,  8,  1,  8,  0,  8,  1,  8,  1,  8,  1,  8,  1,\n",
      "          8,  1,  8,  1,  8,  1,  8,  1,  8,  1,  8,  1,  8,  0,  8,  1,  8,  1,\n",
      "          8,  1,  8,  1,  8,  1,  8,  1,  8,  0,  8,  1,  8,  1,  8,  1,  8,  1,\n",
      "          8,  1,  8,  1,  8,  1,  8,  1,  8,  1,  8,  1,  8,  1,  8,  1,  8,  1,\n",
      "          8,  1,  8,  1,  8,  1,  8,  1,  8,  1,  8,  1,  8,  1,  8,  1,  8,  1,\n",
      "          8,  1,  8,  1,  8,  1,  8,  1,  8,  1,  8,  1,  8,  1,  8,  1,  8,  1,\n",
      "          8,  1,  8,  1,  8,  1,  8,  1,  8,  1,  8,  1,  8,  1,  8,  1,  8,  1,\n",
      "          8,  1,  8,  1,  8,  0,  8,  1,  8,  1]])\n",
      "Predicted: 8 True: 8, Predicted with start: 8\n",
      "\n",
      "Tokens = tensor([[10,  0,  2,  0,  2,  1, 10,  0,  2,  0,  7,  0, 11,  1, 11,  0,  8,  1,\n",
      "          8,  1,  8,  1,  8,  1,  8,  1,  8,  1,  8,  1,  3,  0,  8,  1,  3,  0,\n",
      "          8,  0,  8,  1,  8,  1,  8,  0,  8,  1,  8,  1,  8,  1,  8,  1,  8,  1,\n",
      "          8,  1,  8,  1,  2,  0,  8,  1,  8,  1,  8,  1,  8,  1,  4,  1,  4,  0,\n",
      "          8,  0,  8,  1,  8,  1,  8,  1,  8,  1,  8,  1,  8,  1, 10,  0,  8,  1,\n",
      "          8,  1,  8,  1,  8,  1,  8,  1, 10,  0,  8,  1,  8,  1,  4,  0,  8,  1,\n",
      "          8,  0, 10,  0,  8,  1,  8,  1,  8,  1, 11,  0, 11,  0,  8,  0,  8,  1,\n",
      "          8,  1,  8,  1,  8,  1,  8,  1,  8,  1,  8,  1,  7,  0,  8,  1,  8,  1,\n",
      "          8,  1,  8,  0,  8,  1,  8,  0,  8,  1,  8]]), Start = tensor([[10,  0, 10,  0,  2,  0,  2,  0,  2,  0,  2,  0,  2,  1,  2,  0, 11,  0,\n",
      "         11,  1,  8,  1,  8,  1,  8,  1,  8,  0,  8,  1,  8,  1,  8,  1,  8,  1,\n",
      "          8,  1,  8,  1,  8,  1,  8,  1,  8,  1,  8,  1,  8,  0,  8,  1,  8,  1,\n",
      "          8,  1,  8,  1,  8,  1,  8,  1,  8,  0,  8,  1,  8,  1,  8,  1,  8,  1,\n",
      "          8,  1,  8,  1,  8,  1,  8,  1,  8,  1,  8,  1,  8,  1,  8,  1,  8,  1,\n",
      "          8,  1,  8,  1,  8,  1,  8,  1,  8,  1,  8,  1,  8,  1,  8,  1,  8,  1,\n",
      "          8,  1,  8,  1,  8,  1,  8,  1,  8,  1,  8,  1,  8,  1,  8,  1,  8,  1,\n",
      "          8,  1,  8,  1,  8,  1,  8,  1,  8,  1,  8,  1,  8,  1,  8,  1,  8,  1,\n",
      "          8,  1,  8,  1,  8,  0,  8,  1,  8,  1,  8]])\n",
      "Predicted: 1 True: 1, Predicted with start: 1\n",
      "\n",
      "Tokens = tensor([[10,  0,  2,  0,  2,  1, 10,  0,  2,  0,  7,  0, 11,  1, 11,  0,  8,  1,\n",
      "          8,  1,  8,  1,  8,  1,  8,  1,  8,  1,  8,  1,  3,  0,  8,  1,  3,  0,\n",
      "          8,  0,  8,  1,  8,  1,  8,  0,  8,  1,  8,  1,  8,  1,  8,  1,  8,  1,\n",
      "          8,  1,  8,  1,  2,  0,  8,  1,  8,  1,  8,  1,  8,  1,  4,  1,  4,  0,\n",
      "          8,  0,  8,  1,  8,  1,  8,  1,  8,  1,  8,  1,  8,  1, 10,  0,  8,  1,\n",
      "          8,  1,  8,  1,  8,  1,  8,  1, 10,  0,  8,  1,  8,  1,  4,  0,  8,  1,\n",
      "          8,  0, 10,  0,  8,  1,  8,  1,  8,  1, 11,  0, 11,  0,  8,  0,  8,  1,\n",
      "          8,  1,  8,  1,  8,  1,  8,  1,  8,  1,  8,  1,  7,  0,  8,  1,  8,  1,\n",
      "          8,  1,  8,  0,  8,  1,  8,  0,  8,  1,  8,  1]]), Start = tensor([[10,  0, 10,  0,  2,  0,  2,  0,  2,  0,  2,  0,  2,  1,  2,  0, 11,  0,\n",
      "         11,  1,  8,  1,  8,  1,  8,  1,  8,  0,  8,  1,  8,  1,  8,  1,  8,  1,\n",
      "          8,  1,  8,  1,  8,  1,  8,  1,  8,  1,  8,  1,  8,  0,  8,  1,  8,  1,\n",
      "          8,  1,  8,  1,  8,  1,  8,  1,  8,  0,  8,  1,  8,  1,  8,  1,  8,  1,\n",
      "          8,  1,  8,  1,  8,  1,  8,  1,  8,  1,  8,  1,  8,  1,  8,  1,  8,  1,\n",
      "          8,  1,  8,  1,  8,  1,  8,  1,  8,  1,  8,  1,  8,  1,  8,  1,  8,  1,\n",
      "          8,  1,  8,  1,  8,  1,  8,  1,  8,  1,  8,  1,  8,  1,  8,  1,  8,  1,\n",
      "          8,  1,  8,  1,  8,  1,  8,  1,  8,  1,  8,  1,  8,  1,  8,  1,  8,  1,\n",
      "          8,  1,  8,  1,  8,  0,  8,  1,  8,  1,  8,  1]])\n",
      "Predicted: 8 True: 8, Predicted with start: 8\n",
      "\n",
      "Tokens = tensor([[10,  0,  2,  0,  2,  1, 10,  0,  2,  0,  7,  0, 11,  1, 11,  0,  8,  1,\n",
      "          8,  1,  8,  1,  8,  1,  8,  1,  8,  1,  8,  1,  3,  0,  8,  1,  3,  0,\n",
      "          8,  0,  8,  1,  8,  1,  8,  0,  8,  1,  8,  1,  8,  1,  8,  1,  8,  1,\n",
      "          8,  1,  8,  1,  2,  0,  8,  1,  8,  1,  8,  1,  8,  1,  4,  1,  4,  0,\n",
      "          8,  0,  8,  1,  8,  1,  8,  1,  8,  1,  8,  1,  8,  1, 10,  0,  8,  1,\n",
      "          8,  1,  8,  1,  8,  1,  8,  1, 10,  0,  8,  1,  8,  1,  4,  0,  8,  1,\n",
      "          8,  0, 10,  0,  8,  1,  8,  1,  8,  1, 11,  0, 11,  0,  8,  0,  8,  1,\n",
      "          8,  1,  8,  1,  8,  1,  8,  1,  8,  1,  8,  1,  7,  0,  8,  1,  8,  1,\n",
      "          8,  1,  8,  0,  8,  1,  8,  0,  8,  1,  8,  1,  8]]), Start = tensor([[10,  0, 10,  0,  2,  0,  2,  0,  2,  0,  2,  0,  2,  1,  2,  0, 11,  0,\n",
      "         11,  1,  8,  1,  8,  1,  8,  1,  8,  0,  8,  1,  8,  1,  8,  1,  8,  1,\n",
      "          8,  1,  8,  1,  8,  1,  8,  1,  8,  1,  8,  1,  8,  0,  8,  1,  8,  1,\n",
      "          8,  1,  8,  1,  8,  1,  8,  1,  8,  0,  8,  1,  8,  1,  8,  1,  8,  1,\n",
      "          8,  1,  8,  1,  8,  1,  8,  1,  8,  1,  8,  1,  8,  1,  8,  1,  8,  1,\n",
      "          8,  1,  8,  1,  8,  1,  8,  1,  8,  1,  8,  1,  8,  1,  8,  1,  8,  1,\n",
      "          8,  1,  8,  1,  8,  1,  8,  1,  8,  1,  8,  1,  8,  1,  8,  1,  8,  1,\n",
      "          8,  1,  8,  1,  8,  1,  8,  1,  8,  1,  8,  1,  8,  1,  8,  1,  8,  1,\n",
      "          8,  1,  8,  1,  8,  0,  8,  1,  8,  1,  8,  1,  8]])\n",
      "Predicted: 1 True: 0, Predicted with start: 1\n",
      "\n",
      "Tokens = tensor([[10,  0,  2,  0,  2,  1, 10,  0,  2,  0,  7,  0, 11,  1, 11,  0,  8,  1,\n",
      "          8,  1,  8,  1,  8,  1,  8,  1,  8,  1,  8,  1,  3,  0,  8,  1,  3,  0,\n",
      "          8,  0,  8,  1,  8,  1,  8,  0,  8,  1,  8,  1,  8,  1,  8,  1,  8,  1,\n",
      "          8,  1,  8,  1,  2,  0,  8,  1,  8,  1,  8,  1,  8,  1,  4,  1,  4,  0,\n",
      "          8,  0,  8,  1,  8,  1,  8,  1,  8,  1,  8,  1,  8,  1, 10,  0,  8,  1,\n",
      "          8,  1,  8,  1,  8,  1,  8,  1, 10,  0,  8,  1,  8,  1,  4,  0,  8,  1,\n",
      "          8,  0, 10,  0,  8,  1,  8,  1,  8,  1, 11,  0, 11,  0,  8,  0,  8,  1,\n",
      "          8,  1,  8,  1,  8,  1,  8,  1,  8,  1,  8,  1,  7,  0,  8,  1,  8,  1,\n",
      "          8,  1,  8,  0,  8,  1,  8,  0,  8,  1,  8,  1,  8,  0]]), Start = tensor([[10,  0, 10,  0,  2,  0,  2,  0,  2,  0,  2,  0,  2,  1,  2,  0, 11,  0,\n",
      "         11,  1,  8,  1,  8,  1,  8,  1,  8,  0,  8,  1,  8,  1,  8,  1,  8,  1,\n",
      "          8,  1,  8,  1,  8,  1,  8,  1,  8,  1,  8,  1,  8,  0,  8,  1,  8,  1,\n",
      "          8,  1,  8,  1,  8,  1,  8,  1,  8,  0,  8,  1,  8,  1,  8,  1,  8,  1,\n",
      "          8,  1,  8,  1,  8,  1,  8,  1,  8,  1,  8,  1,  8,  1,  8,  1,  8,  1,\n",
      "          8,  1,  8,  1,  8,  1,  8,  1,  8,  1,  8,  1,  8,  1,  8,  1,  8,  1,\n",
      "          8,  1,  8,  1,  8,  1,  8,  1,  8,  1,  8,  1,  8,  1,  8,  1,  8,  1,\n",
      "          8,  1,  8,  1,  8,  1,  8,  1,  8,  1,  8,  1,  8,  1,  8,  1,  8,  1,\n",
      "          8,  1,  8,  1,  8,  0,  8,  1,  8,  1,  8,  1,  8,  1]])\n",
      "Predicted: 8 True: 8, Predicted with start: 8\n",
      "\n",
      "Tokens = tensor([[10,  0,  2,  0,  2,  1, 10,  0,  2,  0,  7,  0, 11,  1, 11,  0,  8,  1,\n",
      "          8,  1,  8,  1,  8,  1,  8,  1,  8,  1,  8,  1,  3,  0,  8,  1,  3,  0,\n",
      "          8,  0,  8,  1,  8,  1,  8,  0,  8,  1,  8,  1,  8,  1,  8,  1,  8,  1,\n",
      "          8,  1,  8,  1,  2,  0,  8,  1,  8,  1,  8,  1,  8,  1,  4,  1,  4,  0,\n",
      "          8,  0,  8,  1,  8,  1,  8,  1,  8,  1,  8,  1,  8,  1, 10,  0,  8,  1,\n",
      "          8,  1,  8,  1,  8,  1,  8,  1, 10,  0,  8,  1,  8,  1,  4,  0,  8,  1,\n",
      "          8,  0, 10,  0,  8,  1,  8,  1,  8,  1, 11,  0, 11,  0,  8,  0,  8,  1,\n",
      "          8,  1,  8,  1,  8,  1,  8,  1,  8,  1,  8,  1,  7,  0,  8,  1,  8,  1,\n",
      "          8,  1,  8,  0,  8,  1,  8,  0,  8,  1,  8,  1,  8,  0,  8]]), Start = tensor([[10,  0, 10,  0,  2,  0,  2,  0,  2,  0,  2,  0,  2,  1,  2,  0, 11,  0,\n",
      "         11,  1,  8,  1,  8,  1,  8,  1,  8,  0,  8,  1,  8,  1,  8,  1,  8,  1,\n",
      "          8,  1,  8,  1,  8,  1,  8,  1,  8,  1,  8,  1,  8,  0,  8,  1,  8,  1,\n",
      "          8,  1,  8,  1,  8,  1,  8,  1,  8,  0,  8,  1,  8,  1,  8,  1,  8,  1,\n",
      "          8,  1,  8,  1,  8,  1,  8,  1,  8,  1,  8,  1,  8,  1,  8,  1,  8,  1,\n",
      "          8,  1,  8,  1,  8,  1,  8,  1,  8,  1,  8,  1,  8,  1,  8,  1,  8,  1,\n",
      "          8,  1,  8,  1,  8,  1,  8,  1,  8,  1,  8,  1,  8,  1,  8,  1,  8,  1,\n",
      "          8,  1,  8,  1,  8,  1,  8,  1,  8,  1,  8,  1,  8,  1,  8,  1,  8,  1,\n",
      "          8,  1,  8,  1,  8,  0,  8,  1,  8,  1,  8,  1,  8,  1,  8]])\n",
      "Predicted: 1 True: 1, Predicted with start: 1\n",
      "\n",
      "Tokens = tensor([[10,  0,  2,  0,  2,  1, 10,  0,  2,  0,  7,  0, 11,  1, 11,  0,  8,  1,\n",
      "          8,  1,  8,  1,  8,  1,  8,  1,  8,  1,  8,  1,  3,  0,  8,  1,  3,  0,\n",
      "          8,  0,  8,  1,  8,  1,  8,  0,  8,  1,  8,  1,  8,  1,  8,  1,  8,  1,\n",
      "          8,  1,  8,  1,  2,  0,  8,  1,  8,  1,  8,  1,  8,  1,  4,  1,  4,  0,\n",
      "          8,  0,  8,  1,  8,  1,  8,  1,  8,  1,  8,  1,  8,  1, 10,  0,  8,  1,\n",
      "          8,  1,  8,  1,  8,  1,  8,  1, 10,  0,  8,  1,  8,  1,  4,  0,  8,  1,\n",
      "          8,  0, 10,  0,  8,  1,  8,  1,  8,  1, 11,  0, 11,  0,  8,  0,  8,  1,\n",
      "          8,  1,  8,  1,  8,  1,  8,  1,  8,  1,  8,  1,  7,  0,  8,  1,  8,  1,\n",
      "          8,  1,  8,  0,  8,  1,  8,  0,  8,  1,  8,  1,  8,  0,  8,  1]]), Start = tensor([[10,  0, 10,  0,  2,  0,  2,  0,  2,  0,  2,  0,  2,  1,  2,  0, 11,  0,\n",
      "         11,  1,  8,  1,  8,  1,  8,  1,  8,  0,  8,  1,  8,  1,  8,  1,  8,  1,\n",
      "          8,  1,  8,  1,  8,  1,  8,  1,  8,  1,  8,  1,  8,  0,  8,  1,  8,  1,\n",
      "          8,  1,  8,  1,  8,  1,  8,  1,  8,  0,  8,  1,  8,  1,  8,  1,  8,  1,\n",
      "          8,  1,  8,  1,  8,  1,  8,  1,  8,  1,  8,  1,  8,  1,  8,  1,  8,  1,\n",
      "          8,  1,  8,  1,  8,  1,  8,  1,  8,  1,  8,  1,  8,  1,  8,  1,  8,  1,\n",
      "          8,  1,  8,  1,  8,  1,  8,  1,  8,  1,  8,  1,  8,  1,  8,  1,  8,  1,\n",
      "          8,  1,  8,  1,  8,  1,  8,  1,  8,  1,  8,  1,  8,  1,  8,  1,  8,  1,\n",
      "          8,  1,  8,  1,  8,  0,  8,  1,  8,  1,  8,  1,  8,  1,  8,  1]])\n",
      "Predicted: 8 True: 8, Predicted with start: 8\n",
      "\n",
      "Tokens = tensor([[10,  0,  2,  0,  2,  1, 10,  0,  2,  0,  7,  0, 11,  1, 11,  0,  8,  1,\n",
      "          8,  1,  8,  1,  8,  1,  8,  1,  8,  1,  8,  1,  3,  0,  8,  1,  3,  0,\n",
      "          8,  0,  8,  1,  8,  1,  8,  0,  8,  1,  8,  1,  8,  1,  8,  1,  8,  1,\n",
      "          8,  1,  8,  1,  2,  0,  8,  1,  8,  1,  8,  1,  8,  1,  4,  1,  4,  0,\n",
      "          8,  0,  8,  1,  8,  1,  8,  1,  8,  1,  8,  1,  8,  1, 10,  0,  8,  1,\n",
      "          8,  1,  8,  1,  8,  1,  8,  1, 10,  0,  8,  1,  8,  1,  4,  0,  8,  1,\n",
      "          8,  0, 10,  0,  8,  1,  8,  1,  8,  1, 11,  0, 11,  0,  8,  0,  8,  1,\n",
      "          8,  1,  8,  1,  8,  1,  8,  1,  8,  1,  8,  1,  7,  0,  8,  1,  8,  1,\n",
      "          8,  1,  8,  0,  8,  1,  8,  0,  8,  1,  8,  1,  8,  0,  8,  1,  8]]), Start = tensor([[10,  0, 10,  0,  2,  0,  2,  0,  2,  0,  2,  0,  2,  1,  2,  0, 11,  0,\n",
      "         11,  1,  8,  1,  8,  1,  8,  1,  8,  0,  8,  1,  8,  1,  8,  1,  8,  1,\n",
      "          8,  1,  8,  1,  8,  1,  8,  1,  8,  1,  8,  1,  8,  0,  8,  1,  8,  1,\n",
      "          8,  1,  8,  1,  8,  1,  8,  1,  8,  0,  8,  1,  8,  1,  8,  1,  8,  1,\n",
      "          8,  1,  8,  1,  8,  1,  8,  1,  8,  1,  8,  1,  8,  1,  8,  1,  8,  1,\n",
      "          8,  1,  8,  1,  8,  1,  8,  1,  8,  1,  8,  1,  8,  1,  8,  1,  8,  1,\n",
      "          8,  1,  8,  1,  8,  1,  8,  1,  8,  1,  8,  1,  8,  1,  8,  1,  8,  1,\n",
      "          8,  1,  8,  1,  8,  1,  8,  1,  8,  1,  8,  1,  8,  1,  8,  1,  8,  1,\n",
      "          8,  1,  8,  1,  8,  0,  8,  1,  8,  1,  8,  1,  8,  1,  8,  1,  8]])\n",
      "Predicted: 1 True: 1, Predicted with start: 1\n",
      "\n",
      "Tokens = tensor([[10,  0,  2,  0,  2,  1, 10,  0,  2,  0,  7,  0, 11,  1, 11,  0,  8,  1,\n",
      "          8,  1,  8,  1,  8,  1,  8,  1,  8,  1,  8,  1,  3,  0,  8,  1,  3,  0,\n",
      "          8,  0,  8,  1,  8,  1,  8,  0,  8,  1,  8,  1,  8,  1,  8,  1,  8,  1,\n",
      "          8,  1,  8,  1,  2,  0,  8,  1,  8,  1,  8,  1,  8,  1,  4,  1,  4,  0,\n",
      "          8,  0,  8,  1,  8,  1,  8,  1,  8,  1,  8,  1,  8,  1, 10,  0,  8,  1,\n",
      "          8,  1,  8,  1,  8,  1,  8,  1, 10,  0,  8,  1,  8,  1,  4,  0,  8,  1,\n",
      "          8,  0, 10,  0,  8,  1,  8,  1,  8,  1, 11,  0, 11,  0,  8,  0,  8,  1,\n",
      "          8,  1,  8,  1,  8,  1,  8,  1,  8,  1,  8,  1,  7,  0,  8,  1,  8,  1,\n",
      "          8,  1,  8,  0,  8,  1,  8,  0,  8,  1,  8,  1,  8,  0,  8,  1,  8,  1]]), Start = tensor([[10,  0, 10,  0,  2,  0,  2,  0,  2,  0,  2,  0,  2,  1,  2,  0, 11,  0,\n",
      "         11,  1,  8,  1,  8,  1,  8,  1,  8,  0,  8,  1,  8,  1,  8,  1,  8,  1,\n",
      "          8,  1,  8,  1,  8,  1,  8,  1,  8,  1,  8,  1,  8,  0,  8,  1,  8,  1,\n",
      "          8,  1,  8,  1,  8,  1,  8,  1,  8,  0,  8,  1,  8,  1,  8,  1,  8,  1,\n",
      "          8,  1,  8,  1,  8,  1,  8,  1,  8,  1,  8,  1,  8,  1,  8,  1,  8,  1,\n",
      "          8,  1,  8,  1,  8,  1,  8,  1,  8,  1,  8,  1,  8,  1,  8,  1,  8,  1,\n",
      "          8,  1,  8,  1,  8,  1,  8,  1,  8,  1,  8,  1,  8,  1,  8,  1,  8,  1,\n",
      "          8,  1,  8,  1,  8,  1,  8,  1,  8,  1,  8,  1,  8,  1,  8,  1,  8,  1,\n",
      "          8,  1,  8,  1,  8,  0,  8,  1,  8,  1,  8,  1,  8,  1,  8,  1,  8,  0]])\n",
      "Predicted: 8 True: 6, Predicted with start: 8\n",
      "\n",
      "Tokens = tensor([[10,  0,  2,  0,  2,  1, 10,  0,  2,  0,  7,  0, 11,  1, 11,  0,  8,  1,\n",
      "          8,  1,  8,  1,  8,  1,  8,  1,  8,  1,  8,  1,  3,  0,  8,  1,  3,  0,\n",
      "          8,  0,  8,  1,  8,  1,  8,  0,  8,  1,  8,  1,  8,  1,  8,  1,  8,  1,\n",
      "          8,  1,  8,  1,  2,  0,  8,  1,  8,  1,  8,  1,  8,  1,  4,  1,  4,  0,\n",
      "          8,  0,  8,  1,  8,  1,  8,  1,  8,  1,  8,  1,  8,  1, 10,  0,  8,  1,\n",
      "          8,  1,  8,  1,  8,  1,  8,  1, 10,  0,  8,  1,  8,  1,  4,  0,  8,  1,\n",
      "          8,  0, 10,  0,  8,  1,  8,  1,  8,  1, 11,  0, 11,  0,  8,  0,  8,  1,\n",
      "          8,  1,  8,  1,  8,  1,  8,  1,  8,  1,  8,  1,  7,  0,  8,  1,  8,  1,\n",
      "          8,  1,  8,  0,  8,  1,  8,  0,  8,  1,  8,  1,  8,  0,  8,  1,  8,  1,\n",
      "          6]]), Start = tensor([[10,  0, 10,  0,  2,  0,  2,  0,  2,  0,  2,  0,  2,  1,  2,  0, 11,  0,\n",
      "         11,  1,  8,  1,  8,  1,  8,  1,  8,  0,  8,  1,  8,  1,  8,  1,  8,  1,\n",
      "          8,  1,  8,  1,  8,  1,  8,  1,  8,  1,  8,  1,  8,  0,  8,  1,  8,  1,\n",
      "          8,  1,  8,  1,  8,  1,  8,  1,  8,  0,  8,  1,  8,  1,  8,  1,  8,  1,\n",
      "          8,  1,  8,  1,  8,  1,  8,  1,  8,  1,  8,  1,  8,  1,  8,  1,  8,  1,\n",
      "          8,  1,  8,  1,  8,  1,  8,  1,  8,  1,  8,  1,  8,  1,  8,  1,  8,  1,\n",
      "          8,  1,  8,  1,  8,  1,  8,  1,  8,  1,  8,  1,  8,  1,  8,  1,  8,  1,\n",
      "          8,  1,  8,  1,  8,  1,  8,  1,  8,  1,  8,  1,  8,  1,  8,  1,  8,  1,\n",
      "          8,  1,  8,  1,  8,  0,  8,  1,  8,  1,  8,  1,  8,  1,  8,  1,  8,  0,\n",
      "          8]])\n",
      "Predicted: 0 True: 1, Predicted with start: 1\n",
      "\n",
      "Tokens = tensor([[10,  0,  2,  0,  2,  1, 10,  0,  2,  0,  7,  0, 11,  1, 11,  0,  8,  1,\n",
      "          8,  1,  8,  1,  8,  1,  8,  1,  8,  1,  8,  1,  3,  0,  8,  1,  3,  0,\n",
      "          8,  0,  8,  1,  8,  1,  8,  0,  8,  1,  8,  1,  8,  1,  8,  1,  8,  1,\n",
      "          8,  1,  8,  1,  2,  0,  8,  1,  8,  1,  8,  1,  8,  1,  4,  1,  4,  0,\n",
      "          8,  0,  8,  1,  8,  1,  8,  1,  8,  1,  8,  1,  8,  1, 10,  0,  8,  1,\n",
      "          8,  1,  8,  1,  8,  1,  8,  1, 10,  0,  8,  1,  8,  1,  4,  0,  8,  1,\n",
      "          8,  0, 10,  0,  8,  1,  8,  1,  8,  1, 11,  0, 11,  0,  8,  0,  8,  1,\n",
      "          8,  1,  8,  1,  8,  1,  8,  1,  8,  1,  8,  1,  7,  0,  8,  1,  8,  1,\n",
      "          8,  1,  8,  0,  8,  1,  8,  0,  8,  1,  8,  1,  8,  0,  8,  1,  8,  1,\n",
      "          6,  1]]), Start = tensor([[10,  0, 10,  0,  2,  0,  2,  0,  2,  0,  2,  0,  2,  1,  2,  0, 11,  0,\n",
      "         11,  1,  8,  1,  8,  1,  8,  1,  8,  0,  8,  1,  8,  1,  8,  1,  8,  1,\n",
      "          8,  1,  8,  1,  8,  1,  8,  1,  8,  1,  8,  1,  8,  0,  8,  1,  8,  1,\n",
      "          8,  1,  8,  1,  8,  1,  8,  1,  8,  0,  8,  1,  8,  1,  8,  1,  8,  1,\n",
      "          8,  1,  8,  1,  8,  1,  8,  1,  8,  1,  8,  1,  8,  1,  8,  1,  8,  1,\n",
      "          8,  1,  8,  1,  8,  1,  8,  1,  8,  1,  8,  1,  8,  1,  8,  1,  8,  1,\n",
      "          8,  1,  8,  1,  8,  1,  8,  1,  8,  1,  8,  1,  8,  1,  8,  1,  8,  1,\n",
      "          8,  1,  8,  1,  8,  1,  8,  1,  8,  1,  8,  1,  8,  1,  8,  1,  8,  1,\n",
      "          8,  1,  8,  1,  8,  0,  8,  1,  8,  1,  8,  1,  8,  1,  8,  1,  8,  0,\n",
      "          8,  1]])\n",
      "Predicted: 8 True: 6, Predicted with start: 8\n",
      "\n",
      "Tokens = tensor([[10,  0,  2,  0,  2,  1, 10,  0,  2,  0,  7,  0, 11,  1, 11,  0,  8,  1,\n",
      "          8,  1,  8,  1,  8,  1,  8,  1,  8,  1,  8,  1,  3,  0,  8,  1,  3,  0,\n",
      "          8,  0,  8,  1,  8,  1,  8,  0,  8,  1,  8,  1,  8,  1,  8,  1,  8,  1,\n",
      "          8,  1,  8,  1,  2,  0,  8,  1,  8,  1,  8,  1,  8,  1,  4,  1,  4,  0,\n",
      "          8,  0,  8,  1,  8,  1,  8,  1,  8,  1,  8,  1,  8,  1, 10,  0,  8,  1,\n",
      "          8,  1,  8,  1,  8,  1,  8,  1, 10,  0,  8,  1,  8,  1,  4,  0,  8,  1,\n",
      "          8,  0, 10,  0,  8,  1,  8,  1,  8,  1, 11,  0, 11,  0,  8,  0,  8,  1,\n",
      "          8,  1,  8,  1,  8,  1,  8,  1,  8,  1,  8,  1,  7,  0,  8,  1,  8,  1,\n",
      "          8,  1,  8,  0,  8,  1,  8,  0,  8,  1,  8,  1,  8,  0,  8,  1,  8,  1,\n",
      "          6,  1,  6]]), Start = tensor([[10,  0, 10,  0,  2,  0,  2,  0,  2,  0,  2,  0,  2,  1,  2,  0, 11,  0,\n",
      "         11,  1,  8,  1,  8,  1,  8,  1,  8,  0,  8,  1,  8,  1,  8,  1,  8,  1,\n",
      "          8,  1,  8,  1,  8,  1,  8,  1,  8,  1,  8,  1,  8,  0,  8,  1,  8,  1,\n",
      "          8,  1,  8,  1,  8,  1,  8,  1,  8,  0,  8,  1,  8,  1,  8,  1,  8,  1,\n",
      "          8,  1,  8,  1,  8,  1,  8,  1,  8,  1,  8,  1,  8,  1,  8,  1,  8,  1,\n",
      "          8,  1,  8,  1,  8,  1,  8,  1,  8,  1,  8,  1,  8,  1,  8,  1,  8,  1,\n",
      "          8,  1,  8,  1,  8,  1,  8,  1,  8,  1,  8,  1,  8,  1,  8,  1,  8,  1,\n",
      "          8,  1,  8,  1,  8,  1,  8,  1,  8,  1,  8,  1,  8,  1,  8,  1,  8,  1,\n",
      "          8,  1,  8,  1,  8,  0,  8,  1,  8,  1,  8,  1,  8,  1,  8,  1,  8,  0,\n",
      "          8,  1,  8]])\n",
      "Predicted: 0 True: 0, Predicted with start: 1\n",
      "\n",
      "Tokens = tensor([[10,  0,  2,  0,  2,  1, 10,  0,  2,  0,  7,  0, 11,  1, 11,  0,  8,  1,\n",
      "          8,  1,  8,  1,  8,  1,  8,  1,  8,  1,  8,  1,  3,  0,  8,  1,  3,  0,\n",
      "          8,  0,  8,  1,  8,  1,  8,  0,  8,  1,  8,  1,  8,  1,  8,  1,  8,  1,\n",
      "          8,  1,  8,  1,  2,  0,  8,  1,  8,  1,  8,  1,  8,  1,  4,  1,  4,  0,\n",
      "          8,  0,  8,  1,  8,  1,  8,  1,  8,  1,  8,  1,  8,  1, 10,  0,  8,  1,\n",
      "          8,  1,  8,  1,  8,  1,  8,  1, 10,  0,  8,  1,  8,  1,  4,  0,  8,  1,\n",
      "          8,  0, 10,  0,  8,  1,  8,  1,  8,  1, 11,  0, 11,  0,  8,  0,  8,  1,\n",
      "          8,  1,  8,  1,  8,  1,  8,  1,  8,  1,  8,  1,  7,  0,  8,  1,  8,  1,\n",
      "          8,  1,  8,  0,  8,  1,  8,  0,  8,  1,  8,  1,  8,  0,  8,  1,  8,  1,\n",
      "          6,  1,  6,  0]]), Start = tensor([[10,  0, 10,  0,  2,  0,  2,  0,  2,  0,  2,  0,  2,  1,  2,  0, 11,  0,\n",
      "         11,  1,  8,  1,  8,  1,  8,  1,  8,  0,  8,  1,  8,  1,  8,  1,  8,  1,\n",
      "          8,  1,  8,  1,  8,  1,  8,  1,  8,  1,  8,  1,  8,  0,  8,  1,  8,  1,\n",
      "          8,  1,  8,  1,  8,  1,  8,  1,  8,  0,  8,  1,  8,  1,  8,  1,  8,  1,\n",
      "          8,  1,  8,  1,  8,  1,  8,  1,  8,  1,  8,  1,  8,  1,  8,  1,  8,  1,\n",
      "          8,  1,  8,  1,  8,  1,  8,  1,  8,  1,  8,  1,  8,  1,  8,  1,  8,  1,\n",
      "          8,  1,  8,  1,  8,  1,  8,  1,  8,  1,  8,  1,  8,  1,  8,  1,  8,  1,\n",
      "          8,  1,  8,  1,  8,  1,  8,  1,  8,  1,  8,  1,  8,  1,  8,  1,  8,  1,\n",
      "          8,  1,  8,  1,  8,  0,  8,  1,  8,  1,  8,  1,  8,  1,  8,  1,  8,  0,\n",
      "          8,  1,  8,  1]])\n",
      "Predicted: 8 True: 8, Predicted with start: 8\n",
      "\n",
      "Tokens = tensor([[10,  0,  2,  0,  2,  1, 10,  0,  2,  0,  7,  0, 11,  1, 11,  0,  8,  1,\n",
      "          8,  1,  8,  1,  8,  1,  8,  1,  8,  1,  8,  1,  3,  0,  8,  1,  3,  0,\n",
      "          8,  0,  8,  1,  8,  1,  8,  0,  8,  1,  8,  1,  8,  1,  8,  1,  8,  1,\n",
      "          8,  1,  8,  1,  2,  0,  8,  1,  8,  1,  8,  1,  8,  1,  4,  1,  4,  0,\n",
      "          8,  0,  8,  1,  8,  1,  8,  1,  8,  1,  8,  1,  8,  1, 10,  0,  8,  1,\n",
      "          8,  1,  8,  1,  8,  1,  8,  1, 10,  0,  8,  1,  8,  1,  4,  0,  8,  1,\n",
      "          8,  0, 10,  0,  8,  1,  8,  1,  8,  1, 11,  0, 11,  0,  8,  0,  8,  1,\n",
      "          8,  1,  8,  1,  8,  1,  8,  1,  8,  1,  8,  1,  7,  0,  8,  1,  8,  1,\n",
      "          8,  1,  8,  0,  8,  1,  8,  0,  8,  1,  8,  1,  8,  0,  8,  1,  8,  1,\n",
      "          6,  1,  6,  0,  8]]), Start = tensor([[10,  0, 10,  0,  2,  0,  2,  0,  2,  0,  2,  0,  2,  1,  2,  0, 11,  0,\n",
      "         11,  1,  8,  1,  8,  1,  8,  1,  8,  0,  8,  1,  8,  1,  8,  1,  8,  1,\n",
      "          8,  1,  8,  1,  8,  1,  8,  1,  8,  1,  8,  1,  8,  0,  8,  1,  8,  1,\n",
      "          8,  1,  8,  1,  8,  1,  8,  1,  8,  0,  8,  1,  8,  1,  8,  1,  8,  1,\n",
      "          8,  1,  8,  1,  8,  1,  8,  1,  8,  1,  8,  1,  8,  1,  8,  1,  8,  1,\n",
      "          8,  1,  8,  1,  8,  1,  8,  1,  8,  1,  8,  1,  8,  1,  8,  1,  8,  1,\n",
      "          8,  1,  8,  1,  8,  1,  8,  1,  8,  1,  8,  1,  8,  1,  8,  1,  8,  1,\n",
      "          8,  1,  8,  1,  8,  1,  8,  1,  8,  1,  8,  1,  8,  1,  8,  1,  8,  1,\n",
      "          8,  1,  8,  1,  8,  0,  8,  1,  8,  1,  8,  1,  8,  1,  8,  1,  8,  0,\n",
      "          8,  1,  8,  1,  8]])\n",
      "Predicted: 1 True: 1, Predicted with start: 1\n",
      "\n",
      "Tokens = tensor([[10,  0,  2,  0,  2,  1, 10,  0,  2,  0,  7,  0, 11,  1, 11,  0,  8,  1,\n",
      "          8,  1,  8,  1,  8,  1,  8,  1,  8,  1,  8,  1,  3,  0,  8,  1,  3,  0,\n",
      "          8,  0,  8,  1,  8,  1,  8,  0,  8,  1,  8,  1,  8,  1,  8,  1,  8,  1,\n",
      "          8,  1,  8,  1,  2,  0,  8,  1,  8,  1,  8,  1,  8,  1,  4,  1,  4,  0,\n",
      "          8,  0,  8,  1,  8,  1,  8,  1,  8,  1,  8,  1,  8,  1, 10,  0,  8,  1,\n",
      "          8,  1,  8,  1,  8,  1,  8,  1, 10,  0,  8,  1,  8,  1,  4,  0,  8,  1,\n",
      "          8,  0, 10,  0,  8,  1,  8,  1,  8,  1, 11,  0, 11,  0,  8,  0,  8,  1,\n",
      "          8,  1,  8,  1,  8,  1,  8,  1,  8,  1,  8,  1,  7,  0,  8,  1,  8,  1,\n",
      "          8,  1,  8,  0,  8,  1,  8,  0,  8,  1,  8,  1,  8,  0,  8,  1,  8,  1,\n",
      "          6,  1,  6,  0,  8,  1]]), Start = tensor([[10,  0, 10,  0,  2,  0,  2,  0,  2,  0,  2,  0,  2,  1,  2,  0, 11,  0,\n",
      "         11,  1,  8,  1,  8,  1,  8,  1,  8,  0,  8,  1,  8,  1,  8,  1,  8,  1,\n",
      "          8,  1,  8,  1,  8,  1,  8,  1,  8,  1,  8,  1,  8,  0,  8,  1,  8,  1,\n",
      "          8,  1,  8,  1,  8,  1,  8,  1,  8,  0,  8,  1,  8,  1,  8,  1,  8,  1,\n",
      "          8,  1,  8,  1,  8,  1,  8,  1,  8,  1,  8,  1,  8,  1,  8,  1,  8,  1,\n",
      "          8,  1,  8,  1,  8,  1,  8,  1,  8,  1,  8,  1,  8,  1,  8,  1,  8,  1,\n",
      "          8,  1,  8,  1,  8,  1,  8,  1,  8,  1,  8,  1,  8,  1,  8,  1,  8,  1,\n",
      "          8,  1,  8,  1,  8,  1,  8,  1,  8,  1,  8,  1,  8,  1,  8,  1,  8,  1,\n",
      "          8,  1,  8,  1,  8,  0,  8,  1,  8,  1,  8,  1,  8,  1,  8,  1,  8,  0,\n",
      "          8,  1,  8,  1,  8,  1]])\n",
      "Predicted: 8 True: 8, Predicted with start: 8\n",
      "\n",
      "Tokens = tensor([[10,  0,  2,  0,  2,  1, 10,  0,  2,  0,  7,  0, 11,  1, 11,  0,  8,  1,\n",
      "          8,  1,  8,  1,  8,  1,  8,  1,  8,  1,  8,  1,  3,  0,  8,  1,  3,  0,\n",
      "          8,  0,  8,  1,  8,  1,  8,  0,  8,  1,  8,  1,  8,  1,  8,  1,  8,  1,\n",
      "          8,  1,  8,  1,  2,  0,  8,  1,  8,  1,  8,  1,  8,  1,  4,  1,  4,  0,\n",
      "          8,  0,  8,  1,  8,  1,  8,  1,  8,  1,  8,  1,  8,  1, 10,  0,  8,  1,\n",
      "          8,  1,  8,  1,  8,  1,  8,  1, 10,  0,  8,  1,  8,  1,  4,  0,  8,  1,\n",
      "          8,  0, 10,  0,  8,  1,  8,  1,  8,  1, 11,  0, 11,  0,  8,  0,  8,  1,\n",
      "          8,  1,  8,  1,  8,  1,  8,  1,  8,  1,  8,  1,  7,  0,  8,  1,  8,  1,\n",
      "          8,  1,  8,  0,  8,  1,  8,  0,  8,  1,  8,  1,  8,  0,  8,  1,  8,  1,\n",
      "          6,  1,  6,  0,  8,  1,  8]]), Start = tensor([[10,  0, 10,  0,  2,  0,  2,  0,  2,  0,  2,  0,  2,  1,  2,  0, 11,  0,\n",
      "         11,  1,  8,  1,  8,  1,  8,  1,  8,  0,  8,  1,  8,  1,  8,  1,  8,  1,\n",
      "          8,  1,  8,  1,  8,  1,  8,  1,  8,  1,  8,  1,  8,  0,  8,  1,  8,  1,\n",
      "          8,  1,  8,  1,  8,  1,  8,  1,  8,  0,  8,  1,  8,  1,  8,  1,  8,  1,\n",
      "          8,  1,  8,  1,  8,  1,  8,  1,  8,  1,  8,  1,  8,  1,  8,  1,  8,  1,\n",
      "          8,  1,  8,  1,  8,  1,  8,  1,  8,  1,  8,  1,  8,  1,  8,  1,  8,  1,\n",
      "          8,  1,  8,  1,  8,  1,  8,  1,  8,  1,  8,  1,  8,  1,  8,  1,  8,  1,\n",
      "          8,  1,  8,  1,  8,  1,  8,  1,  8,  1,  8,  1,  8,  1,  8,  1,  8,  1,\n",
      "          8,  1,  8,  1,  8,  0,  8,  1,  8,  1,  8,  1,  8,  1,  8,  1,  8,  0,\n",
      "          8,  1,  8,  1,  8,  1,  8]])\n",
      "Predicted: 1 True: 1, Predicted with start: 1\n",
      "\n",
      "Tokens = tensor([[10,  0,  2,  0,  2,  1, 10,  0,  2,  0,  7,  0, 11,  1, 11,  0,  8,  1,\n",
      "          8,  1,  8,  1,  8,  1,  8,  1,  8,  1,  8,  1,  3,  0,  8,  1,  3,  0,\n",
      "          8,  0,  8,  1,  8,  1,  8,  0,  8,  1,  8,  1,  8,  1,  8,  1,  8,  1,\n",
      "          8,  1,  8,  1,  2,  0,  8,  1,  8,  1,  8,  1,  8,  1,  4,  1,  4,  0,\n",
      "          8,  0,  8,  1,  8,  1,  8,  1,  8,  1,  8,  1,  8,  1, 10,  0,  8,  1,\n",
      "          8,  1,  8,  1,  8,  1,  8,  1, 10,  0,  8,  1,  8,  1,  4,  0,  8,  1,\n",
      "          8,  0, 10,  0,  8,  1,  8,  1,  8,  1, 11,  0, 11,  0,  8,  0,  8,  1,\n",
      "          8,  1,  8,  1,  8,  1,  8,  1,  8,  1,  8,  1,  7,  0,  8,  1,  8,  1,\n",
      "          8,  1,  8,  0,  8,  1,  8,  0,  8,  1,  8,  1,  8,  0,  8,  1,  8,  1,\n",
      "          6,  1,  6,  0,  8,  1,  8,  1]]), Start = tensor([[10,  0, 10,  0,  2,  0,  2,  0,  2,  0,  2,  0,  2,  1,  2,  0, 11,  0,\n",
      "         11,  1,  8,  1,  8,  1,  8,  1,  8,  0,  8,  1,  8,  1,  8,  1,  8,  1,\n",
      "          8,  1,  8,  1,  8,  1,  8,  1,  8,  1,  8,  1,  8,  0,  8,  1,  8,  1,\n",
      "          8,  1,  8,  1,  8,  1,  8,  1,  8,  0,  8,  1,  8,  1,  8,  1,  8,  1,\n",
      "          8,  1,  8,  1,  8,  1,  8,  1,  8,  1,  8,  1,  8,  1,  8,  1,  8,  1,\n",
      "          8,  1,  8,  1,  8,  1,  8,  1,  8,  1,  8,  1,  8,  1,  8,  1,  8,  1,\n",
      "          8,  1,  8,  1,  8,  1,  8,  1,  8,  1,  8,  1,  8,  1,  8,  1,  8,  1,\n",
      "          8,  1,  8,  1,  8,  1,  8,  1,  8,  1,  8,  1,  8,  1,  8,  1,  8,  1,\n",
      "          8,  1,  8,  1,  8,  0,  8,  1,  8,  1,  8,  1,  8,  1,  8,  1,  8,  0,\n",
      "          8,  1,  8,  1,  8,  1,  8,  1]])\n",
      "Predicted: 8 True: 8, Predicted with start: 8\n",
      "\n",
      "Tokens = tensor([[10,  0,  2,  0,  2,  1, 10,  0,  2,  0,  7,  0, 11,  1, 11,  0,  8,  1,\n",
      "          8,  1,  8,  1,  8,  1,  8,  1,  8,  1,  8,  1,  3,  0,  8,  1,  3,  0,\n",
      "          8,  0,  8,  1,  8,  1,  8,  0,  8,  1,  8,  1,  8,  1,  8,  1,  8,  1,\n",
      "          8,  1,  8,  1,  2,  0,  8,  1,  8,  1,  8,  1,  8,  1,  4,  1,  4,  0,\n",
      "          8,  0,  8,  1,  8,  1,  8,  1,  8,  1,  8,  1,  8,  1, 10,  0,  8,  1,\n",
      "          8,  1,  8,  1,  8,  1,  8,  1, 10,  0,  8,  1,  8,  1,  4,  0,  8,  1,\n",
      "          8,  0, 10,  0,  8,  1,  8,  1,  8,  1, 11,  0, 11,  0,  8,  0,  8,  1,\n",
      "          8,  1,  8,  1,  8,  1,  8,  1,  8,  1,  8,  1,  7,  0,  8,  1,  8,  1,\n",
      "          8,  1,  8,  0,  8,  1,  8,  0,  8,  1,  8,  1,  8,  0,  8,  1,  8,  1,\n",
      "          6,  1,  6,  0,  8,  1,  8,  1,  8]]), Start = tensor([[10,  0, 10,  0,  2,  0,  2,  0,  2,  0,  2,  0,  2,  1,  2,  0, 11,  0,\n",
      "         11,  1,  8,  1,  8,  1,  8,  1,  8,  0,  8,  1,  8,  1,  8,  1,  8,  1,\n",
      "          8,  1,  8,  1,  8,  1,  8,  1,  8,  1,  8,  1,  8,  0,  8,  1,  8,  1,\n",
      "          8,  1,  8,  1,  8,  1,  8,  1,  8,  0,  8,  1,  8,  1,  8,  1,  8,  1,\n",
      "          8,  1,  8,  1,  8,  1,  8,  1,  8,  1,  8,  1,  8,  1,  8,  1,  8,  1,\n",
      "          8,  1,  8,  1,  8,  1,  8,  1,  8,  1,  8,  1,  8,  1,  8,  1,  8,  1,\n",
      "          8,  1,  8,  1,  8,  1,  8,  1,  8,  1,  8,  1,  8,  1,  8,  1,  8,  1,\n",
      "          8,  1,  8,  1,  8,  1,  8,  1,  8,  1,  8,  1,  8,  1,  8,  1,  8,  1,\n",
      "          8,  1,  8,  1,  8,  0,  8,  1,  8,  1,  8,  1,  8,  1,  8,  1,  8,  0,\n",
      "          8,  1,  8,  1,  8,  1,  8,  1,  8]])\n",
      "Predicted: 1 True: 1, Predicted with start: 1\n",
      "\n",
      "Tokens = tensor([[10,  0,  2,  0,  2,  1, 10,  0,  2,  0,  7,  0, 11,  1, 11,  0,  8,  1,\n",
      "          8,  1,  8,  1,  8,  1,  8,  1,  8,  1,  8,  1,  3,  0,  8,  1,  3,  0,\n",
      "          8,  0,  8,  1,  8,  1,  8,  0,  8,  1,  8,  1,  8,  1,  8,  1,  8,  1,\n",
      "          8,  1,  8,  1,  2,  0,  8,  1,  8,  1,  8,  1,  8,  1,  4,  1,  4,  0,\n",
      "          8,  0,  8,  1,  8,  1,  8,  1,  8,  1,  8,  1,  8,  1, 10,  0,  8,  1,\n",
      "          8,  1,  8,  1,  8,  1,  8,  1, 10,  0,  8,  1,  8,  1,  4,  0,  8,  1,\n",
      "          8,  0, 10,  0,  8,  1,  8,  1,  8,  1, 11,  0, 11,  0,  8,  0,  8,  1,\n",
      "          8,  1,  8,  1,  8,  1,  8,  1,  8,  1,  8,  1,  7,  0,  8,  1,  8,  1,\n",
      "          8,  1,  8,  0,  8,  1,  8,  0,  8,  1,  8,  1,  8,  0,  8,  1,  8,  1,\n",
      "          6,  1,  6,  0,  8,  1,  8,  1,  8,  1]]), Start = tensor([[10,  0, 10,  0,  2,  0,  2,  0,  2,  0,  2,  0,  2,  1,  2,  0, 11,  0,\n",
      "         11,  1,  8,  1,  8,  1,  8,  1,  8,  0,  8,  1,  8,  1,  8,  1,  8,  1,\n",
      "          8,  1,  8,  1,  8,  1,  8,  1,  8,  1,  8,  1,  8,  0,  8,  1,  8,  1,\n",
      "          8,  1,  8,  1,  8,  1,  8,  1,  8,  0,  8,  1,  8,  1,  8,  1,  8,  1,\n",
      "          8,  1,  8,  1,  8,  1,  8,  1,  8,  1,  8,  1,  8,  1,  8,  1,  8,  1,\n",
      "          8,  1,  8,  1,  8,  1,  8,  1,  8,  1,  8,  1,  8,  1,  8,  1,  8,  1,\n",
      "          8,  1,  8,  1,  8,  1,  8,  1,  8,  1,  8,  1,  8,  1,  8,  1,  8,  1,\n",
      "          8,  1,  8,  1,  8,  1,  8,  1,  8,  1,  8,  1,  8,  1,  8,  1,  8,  1,\n",
      "          8,  1,  8,  1,  8,  0,  8,  1,  8,  1,  8,  1,  8,  1,  8,  1,  8,  0,\n",
      "          8,  1,  8,  1,  8,  1,  8,  1,  8,  1]])\n",
      "Predicted: 8 True: 8, Predicted with start: 8\n",
      "\n",
      "Tokens = tensor([[10,  0,  2,  0,  2,  1, 10,  0,  2,  0,  7,  0, 11,  1, 11,  0,  8,  1,\n",
      "          8,  1,  8,  1,  8,  1,  8,  1,  8,  1,  8,  1,  3,  0,  8,  1,  3,  0,\n",
      "          8,  0,  8,  1,  8,  1,  8,  0,  8,  1,  8,  1,  8,  1,  8,  1,  8,  1,\n",
      "          8,  1,  8,  1,  2,  0,  8,  1,  8,  1,  8,  1,  8,  1,  4,  1,  4,  0,\n",
      "          8,  0,  8,  1,  8,  1,  8,  1,  8,  1,  8,  1,  8,  1, 10,  0,  8,  1,\n",
      "          8,  1,  8,  1,  8,  1,  8,  1, 10,  0,  8,  1,  8,  1,  4,  0,  8,  1,\n",
      "          8,  0, 10,  0,  8,  1,  8,  1,  8,  1, 11,  0, 11,  0,  8,  0,  8,  1,\n",
      "          8,  1,  8,  1,  8,  1,  8,  1,  8,  1,  8,  1,  7,  0,  8,  1,  8,  1,\n",
      "          8,  1,  8,  0,  8,  1,  8,  0,  8,  1,  8,  1,  8,  0,  8,  1,  8,  1,\n",
      "          6,  1,  6,  0,  8,  1,  8,  1,  8,  1,  8]]), Start = tensor([[10,  0, 10,  0,  2,  0,  2,  0,  2,  0,  2,  0,  2,  1,  2,  0, 11,  0,\n",
      "         11,  1,  8,  1,  8,  1,  8,  1,  8,  0,  8,  1,  8,  1,  8,  1,  8,  1,\n",
      "          8,  1,  8,  1,  8,  1,  8,  1,  8,  1,  8,  1,  8,  0,  8,  1,  8,  1,\n",
      "          8,  1,  8,  1,  8,  1,  8,  1,  8,  0,  8,  1,  8,  1,  8,  1,  8,  1,\n",
      "          8,  1,  8,  1,  8,  1,  8,  1,  8,  1,  8,  1,  8,  1,  8,  1,  8,  1,\n",
      "          8,  1,  8,  1,  8,  1,  8,  1,  8,  1,  8,  1,  8,  1,  8,  1,  8,  1,\n",
      "          8,  1,  8,  1,  8,  1,  8,  1,  8,  1,  8,  1,  8,  1,  8,  1,  8,  1,\n",
      "          8,  1,  8,  1,  8,  1,  8,  1,  8,  1,  8,  1,  8,  1,  8,  1,  8,  1,\n",
      "          8,  1,  8,  1,  8,  0,  8,  1,  8,  1,  8,  1,  8,  1,  8,  1,  8,  0,\n",
      "          8,  1,  8,  1,  8,  1,  8,  1,  8,  1,  8]])\n",
      "Predicted: 1 True: 1, Predicted with start: 1\n",
      "\n",
      "Tokens = tensor([[10,  0,  2,  0,  2,  1, 10,  0,  2,  0,  7,  0, 11,  1, 11,  0,  8,  1,\n",
      "          8,  1,  8,  1,  8,  1,  8,  1,  8,  1,  8,  1,  3,  0,  8,  1,  3,  0,\n",
      "          8,  0,  8,  1,  8,  1,  8,  0,  8,  1,  8,  1,  8,  1,  8,  1,  8,  1,\n",
      "          8,  1,  8,  1,  2,  0,  8,  1,  8,  1,  8,  1,  8,  1,  4,  1,  4,  0,\n",
      "          8,  0,  8,  1,  8,  1,  8,  1,  8,  1,  8,  1,  8,  1, 10,  0,  8,  1,\n",
      "          8,  1,  8,  1,  8,  1,  8,  1, 10,  0,  8,  1,  8,  1,  4,  0,  8,  1,\n",
      "          8,  0, 10,  0,  8,  1,  8,  1,  8,  1, 11,  0, 11,  0,  8,  0,  8,  1,\n",
      "          8,  1,  8,  1,  8,  1,  8,  1,  8,  1,  8,  1,  7,  0,  8,  1,  8,  1,\n",
      "          8,  1,  8,  0,  8,  1,  8,  0,  8,  1,  8,  1,  8,  0,  8,  1,  8,  1,\n",
      "          6,  1,  6,  0,  8,  1,  8,  1,  8,  1,  8,  1]]), Start = tensor([[10,  0, 10,  0,  2,  0,  2,  0,  2,  0,  2,  0,  2,  1,  2,  0, 11,  0,\n",
      "         11,  1,  8,  1,  8,  1,  8,  1,  8,  0,  8,  1,  8,  1,  8,  1,  8,  1,\n",
      "          8,  1,  8,  1,  8,  1,  8,  1,  8,  1,  8,  1,  8,  0,  8,  1,  8,  1,\n",
      "          8,  1,  8,  1,  8,  1,  8,  1,  8,  0,  8,  1,  8,  1,  8,  1,  8,  1,\n",
      "          8,  1,  8,  1,  8,  1,  8,  1,  8,  1,  8,  1,  8,  1,  8,  1,  8,  1,\n",
      "          8,  1,  8,  1,  8,  1,  8,  1,  8,  1,  8,  1,  8,  1,  8,  1,  8,  1,\n",
      "          8,  1,  8,  1,  8,  1,  8,  1,  8,  1,  8,  1,  8,  1,  8,  1,  8,  1,\n",
      "          8,  1,  8,  1,  8,  1,  8,  1,  8,  1,  8,  1,  8,  1,  8,  1,  8,  1,\n",
      "          8,  1,  8,  1,  8,  0,  8,  1,  8,  1,  8,  1,  8,  1,  8,  1,  8,  0,\n",
      "          8,  1,  8,  1,  8,  1,  8,  1,  8,  1,  8,  1]])\n",
      "Predicted: 8 True: 11, Predicted with start: 8\n",
      "\n",
      "Tokens = tensor([[10,  0,  2,  0,  2,  1, 10,  0,  2,  0,  7,  0, 11,  1, 11,  0,  8,  1,\n",
      "          8,  1,  8,  1,  8,  1,  8,  1,  8,  1,  8,  1,  3,  0,  8,  1,  3,  0,\n",
      "          8,  0,  8,  1,  8,  1,  8,  0,  8,  1,  8,  1,  8,  1,  8,  1,  8,  1,\n",
      "          8,  1,  8,  1,  2,  0,  8,  1,  8,  1,  8,  1,  8,  1,  4,  1,  4,  0,\n",
      "          8,  0,  8,  1,  8,  1,  8,  1,  8,  1,  8,  1,  8,  1, 10,  0,  8,  1,\n",
      "          8,  1,  8,  1,  8,  1,  8,  1, 10,  0,  8,  1,  8,  1,  4,  0,  8,  1,\n",
      "          8,  0, 10,  0,  8,  1,  8,  1,  8,  1, 11,  0, 11,  0,  8,  0,  8,  1,\n",
      "          8,  1,  8,  1,  8,  1,  8,  1,  8,  1,  8,  1,  7,  0,  8,  1,  8,  1,\n",
      "          8,  1,  8,  0,  8,  1,  8,  0,  8,  1,  8,  1,  8,  0,  8,  1,  8,  1,\n",
      "          6,  1,  6,  0,  8,  1,  8,  1,  8,  1,  8,  1, 11]]), Start = tensor([[10,  0, 10,  0,  2,  0,  2,  0,  2,  0,  2,  0,  2,  1,  2,  0, 11,  0,\n",
      "         11,  1,  8,  1,  8,  1,  8,  1,  8,  0,  8,  1,  8,  1,  8,  1,  8,  1,\n",
      "          8,  1,  8,  1,  8,  1,  8,  1,  8,  1,  8,  1,  8,  0,  8,  1,  8,  1,\n",
      "          8,  1,  8,  1,  8,  1,  8,  1,  8,  0,  8,  1,  8,  1,  8,  1,  8,  1,\n",
      "          8,  1,  8,  1,  8,  1,  8,  1,  8,  1,  8,  1,  8,  1,  8,  1,  8,  1,\n",
      "          8,  1,  8,  1,  8,  1,  8,  1,  8,  1,  8,  1,  8,  1,  8,  1,  8,  1,\n",
      "          8,  1,  8,  1,  8,  1,  8,  1,  8,  1,  8,  1,  8,  1,  8,  1,  8,  1,\n",
      "          8,  1,  8,  1,  8,  1,  8,  1,  8,  1,  8,  1,  8,  1,  8,  1,  8,  1,\n",
      "          8,  1,  8,  1,  8,  0,  8,  1,  8,  1,  8,  1,  8,  1,  8,  1,  8,  0,\n",
      "          8,  1,  8,  1,  8,  1,  8,  1,  8,  1,  8,  1,  8]])\n",
      "Predicted: 0 True: 1, Predicted with start: 1\n",
      "\n",
      "Tokens = tensor([[10,  0,  2,  0,  2,  1, 10,  0,  2,  0,  7,  0, 11,  1, 11,  0,  8,  1,\n",
      "          8,  1,  8,  1,  8,  1,  8,  1,  8,  1,  8,  1,  3,  0,  8,  1,  3,  0,\n",
      "          8,  0,  8,  1,  8,  1,  8,  0,  8,  1,  8,  1,  8,  1,  8,  1,  8,  1,\n",
      "          8,  1,  8,  1,  2,  0,  8,  1,  8,  1,  8,  1,  8,  1,  4,  1,  4,  0,\n",
      "          8,  0,  8,  1,  8,  1,  8,  1,  8,  1,  8,  1,  8,  1, 10,  0,  8,  1,\n",
      "          8,  1,  8,  1,  8,  1,  8,  1, 10,  0,  8,  1,  8,  1,  4,  0,  8,  1,\n",
      "          8,  0, 10,  0,  8,  1,  8,  1,  8,  1, 11,  0, 11,  0,  8,  0,  8,  1,\n",
      "          8,  1,  8,  1,  8,  1,  8,  1,  8,  1,  8,  1,  7,  0,  8,  1,  8,  1,\n",
      "          8,  1,  8,  0,  8,  1,  8,  0,  8,  1,  8,  1,  8,  0,  8,  1,  8,  1,\n",
      "          6,  1,  6,  0,  8,  1,  8,  1,  8,  1,  8,  1, 11,  1]]), Start = tensor([[10,  0, 10,  0,  2,  0,  2,  0,  2,  0,  2,  0,  2,  1,  2,  0, 11,  0,\n",
      "         11,  1,  8,  1,  8,  1,  8,  1,  8,  0,  8,  1,  8,  1,  8,  1,  8,  1,\n",
      "          8,  1,  8,  1,  8,  1,  8,  1,  8,  1,  8,  1,  8,  0,  8,  1,  8,  1,\n",
      "          8,  1,  8,  1,  8,  1,  8,  1,  8,  0,  8,  1,  8,  1,  8,  1,  8,  1,\n",
      "          8,  1,  8,  1,  8,  1,  8,  1,  8,  1,  8,  1,  8,  1,  8,  1,  8,  1,\n",
      "          8,  1,  8,  1,  8,  1,  8,  1,  8,  1,  8,  1,  8,  1,  8,  1,  8,  1,\n",
      "          8,  1,  8,  1,  8,  1,  8,  1,  8,  1,  8,  1,  8,  1,  8,  1,  8,  1,\n",
      "          8,  1,  8,  1,  8,  1,  8,  1,  8,  1,  8,  1,  8,  1,  8,  1,  8,  1,\n",
      "          8,  1,  8,  1,  8,  0,  8,  1,  8,  1,  8,  1,  8,  1,  8,  1,  8,  0,\n",
      "          8,  1,  8,  1,  8,  1,  8,  1,  8,  1,  8,  1,  8,  1]])\n",
      "Predicted: 8 True: 8, Predicted with start: 8\n",
      "\n",
      "Tokens = tensor([[10,  0,  2,  0,  2,  1, 10,  0,  2,  0,  7,  0, 11,  1, 11,  0,  8,  1,\n",
      "          8,  1,  8,  1,  8,  1,  8,  1,  8,  1,  8,  1,  3,  0,  8,  1,  3,  0,\n",
      "          8,  0,  8,  1,  8,  1,  8,  0,  8,  1,  8,  1,  8,  1,  8,  1,  8,  1,\n",
      "          8,  1,  8,  1,  2,  0,  8,  1,  8,  1,  8,  1,  8,  1,  4,  1,  4,  0,\n",
      "          8,  0,  8,  1,  8,  1,  8,  1,  8,  1,  8,  1,  8,  1, 10,  0,  8,  1,\n",
      "          8,  1,  8,  1,  8,  1,  8,  1, 10,  0,  8,  1,  8,  1,  4,  0,  8,  1,\n",
      "          8,  0, 10,  0,  8,  1,  8,  1,  8,  1, 11,  0, 11,  0,  8,  0,  8,  1,\n",
      "          8,  1,  8,  1,  8,  1,  8,  1,  8,  1,  8,  1,  7,  0,  8,  1,  8,  1,\n",
      "          8,  1,  8,  0,  8,  1,  8,  0,  8,  1,  8,  1,  8,  0,  8,  1,  8,  1,\n",
      "          6,  1,  6,  0,  8,  1,  8,  1,  8,  1,  8,  1, 11,  1,  8]]), Start = tensor([[10,  0, 10,  0,  2,  0,  2,  0,  2,  0,  2,  0,  2,  1,  2,  0, 11,  0,\n",
      "         11,  1,  8,  1,  8,  1,  8,  1,  8,  0,  8,  1,  8,  1,  8,  1,  8,  1,\n",
      "          8,  1,  8,  1,  8,  1,  8,  1,  8,  1,  8,  1,  8,  0,  8,  1,  8,  1,\n",
      "          8,  1,  8,  1,  8,  1,  8,  1,  8,  0,  8,  1,  8,  1,  8,  1,  8,  1,\n",
      "          8,  1,  8,  1,  8,  1,  8,  1,  8,  1,  8,  1,  8,  1,  8,  1,  8,  1,\n",
      "          8,  1,  8,  1,  8,  1,  8,  1,  8,  1,  8,  1,  8,  1,  8,  1,  8,  1,\n",
      "          8,  1,  8,  1,  8,  1,  8,  1,  8,  1,  8,  1,  8,  1,  8,  1,  8,  1,\n",
      "          8,  1,  8,  1,  8,  1,  8,  1,  8,  1,  8,  1,  8,  1,  8,  1,  8,  1,\n",
      "          8,  1,  8,  1,  8,  0,  8,  1,  8,  1,  8,  1,  8,  1,  8,  1,  8,  0,\n",
      "          8,  1,  8,  1,  8,  1,  8,  1,  8,  1,  8,  1,  8,  1,  8]])\n",
      "Predicted: 1 True: 1, Predicted with start: 1\n",
      "\n",
      "Tokens = tensor([[10,  0,  2,  0,  2,  1, 10,  0,  2,  0,  7,  0, 11,  1, 11,  0,  8,  1,\n",
      "          8,  1,  8,  1,  8,  1,  8,  1,  8,  1,  8,  1,  3,  0,  8,  1,  3,  0,\n",
      "          8,  0,  8,  1,  8,  1,  8,  0,  8,  1,  8,  1,  8,  1,  8,  1,  8,  1,\n",
      "          8,  1,  8,  1,  2,  0,  8,  1,  8,  1,  8,  1,  8,  1,  4,  1,  4,  0,\n",
      "          8,  0,  8,  1,  8,  1,  8,  1,  8,  1,  8,  1,  8,  1, 10,  0,  8,  1,\n",
      "          8,  1,  8,  1,  8,  1,  8,  1, 10,  0,  8,  1,  8,  1,  4,  0,  8,  1,\n",
      "          8,  0, 10,  0,  8,  1,  8,  1,  8,  1, 11,  0, 11,  0,  8,  0,  8,  1,\n",
      "          8,  1,  8,  1,  8,  1,  8,  1,  8,  1,  8,  1,  7,  0,  8,  1,  8,  1,\n",
      "          8,  1,  8,  0,  8,  1,  8,  0,  8,  1,  8,  1,  8,  0,  8,  1,  8,  1,\n",
      "          6,  1,  6,  0,  8,  1,  8,  1,  8,  1,  8,  1, 11,  1,  8,  1]]), Start = tensor([[10,  0, 10,  0,  2,  0,  2,  0,  2,  0,  2,  0,  2,  1,  2,  0, 11,  0,\n",
      "         11,  1,  8,  1,  8,  1,  8,  1,  8,  0,  8,  1,  8,  1,  8,  1,  8,  1,\n",
      "          8,  1,  8,  1,  8,  1,  8,  1,  8,  1,  8,  1,  8,  0,  8,  1,  8,  1,\n",
      "          8,  1,  8,  1,  8,  1,  8,  1,  8,  0,  8,  1,  8,  1,  8,  1,  8,  1,\n",
      "          8,  1,  8,  1,  8,  1,  8,  1,  8,  1,  8,  1,  8,  1,  8,  1,  8,  1,\n",
      "          8,  1,  8,  1,  8,  1,  8,  1,  8,  1,  8,  1,  8,  1,  8,  1,  8,  1,\n",
      "          8,  1,  8,  1,  8,  1,  8,  1,  8,  1,  8,  1,  8,  1,  8,  1,  8,  1,\n",
      "          8,  1,  8,  1,  8,  1,  8,  1,  8,  1,  8,  1,  8,  1,  8,  1,  8,  1,\n",
      "          8,  1,  8,  1,  8,  0,  8,  1,  8,  1,  8,  1,  8,  1,  8,  1,  8,  0,\n",
      "          8,  1,  8,  1,  8,  1,  8,  1,  8,  1,  8,  1,  8,  1,  8,  1]])\n",
      "Predicted: 8 True: 8, Predicted with start: 8\n",
      "\n",
      "Tokens = tensor([[10,  0,  2,  0,  2,  1, 10,  0,  2,  0,  7,  0, 11,  1, 11,  0,  8,  1,\n",
      "          8,  1,  8,  1,  8,  1,  8,  1,  8,  1,  8,  1,  3,  0,  8,  1,  3,  0,\n",
      "          8,  0,  8,  1,  8,  1,  8,  0,  8,  1,  8,  1,  8,  1,  8,  1,  8,  1,\n",
      "          8,  1,  8,  1,  2,  0,  8,  1,  8,  1,  8,  1,  8,  1,  4,  1,  4,  0,\n",
      "          8,  0,  8,  1,  8,  1,  8,  1,  8,  1,  8,  1,  8,  1, 10,  0,  8,  1,\n",
      "          8,  1,  8,  1,  8,  1,  8,  1, 10,  0,  8,  1,  8,  1,  4,  0,  8,  1,\n",
      "          8,  0, 10,  0,  8,  1,  8,  1,  8,  1, 11,  0, 11,  0,  8,  0,  8,  1,\n",
      "          8,  1,  8,  1,  8,  1,  8,  1,  8,  1,  8,  1,  7,  0,  8,  1,  8,  1,\n",
      "          8,  1,  8,  0,  8,  1,  8,  0,  8,  1,  8,  1,  8,  0,  8,  1,  8,  1,\n",
      "          6,  1,  6,  0,  8,  1,  8,  1,  8,  1,  8,  1, 11,  1,  8,  1,  8]]), Start = tensor([[10,  0, 10,  0,  2,  0,  2,  0,  2,  0,  2,  0,  2,  1,  2,  0, 11,  0,\n",
      "         11,  1,  8,  1,  8,  1,  8,  1,  8,  0,  8,  1,  8,  1,  8,  1,  8,  1,\n",
      "          8,  1,  8,  1,  8,  1,  8,  1,  8,  1,  8,  1,  8,  0,  8,  1,  8,  1,\n",
      "          8,  1,  8,  1,  8,  1,  8,  1,  8,  0,  8,  1,  8,  1,  8,  1,  8,  1,\n",
      "          8,  1,  8,  1,  8,  1,  8,  1,  8,  1,  8,  1,  8,  1,  8,  1,  8,  1,\n",
      "          8,  1,  8,  1,  8,  1,  8,  1,  8,  1,  8,  1,  8,  1,  8,  1,  8,  1,\n",
      "          8,  1,  8,  1,  8,  1,  8,  1,  8,  1,  8,  1,  8,  1,  8,  1,  8,  1,\n",
      "          8,  1,  8,  1,  8,  1,  8,  1,  8,  1,  8,  1,  8,  1,  8,  1,  8,  1,\n",
      "          8,  1,  8,  1,  8,  0,  8,  1,  8,  1,  8,  1,  8,  1,  8,  1,  8,  0,\n",
      "          8,  1,  8,  1,  8,  1,  8,  1,  8,  1,  8,  1,  8,  1,  8,  1,  8]])\n",
      "Predicted: 1 True: 1, Predicted with start: 1\n",
      "\n",
      "Tokens = tensor([[10,  0,  2,  0,  2,  1, 10,  0,  2,  0,  7,  0, 11,  1, 11,  0,  8,  1,\n",
      "          8,  1,  8,  1,  8,  1,  8,  1,  8,  1,  8,  1,  3,  0,  8,  1,  3,  0,\n",
      "          8,  0,  8,  1,  8,  1,  8,  0,  8,  1,  8,  1,  8,  1,  8,  1,  8,  1,\n",
      "          8,  1,  8,  1,  2,  0,  8,  1,  8,  1,  8,  1,  8,  1,  4,  1,  4,  0,\n",
      "          8,  0,  8,  1,  8,  1,  8,  1,  8,  1,  8,  1,  8,  1, 10,  0,  8,  1,\n",
      "          8,  1,  8,  1,  8,  1,  8,  1, 10,  0,  8,  1,  8,  1,  4,  0,  8,  1,\n",
      "          8,  0, 10,  0,  8,  1,  8,  1,  8,  1, 11,  0, 11,  0,  8,  0,  8,  1,\n",
      "          8,  1,  8,  1,  8,  1,  8,  1,  8,  1,  8,  1,  7,  0,  8,  1,  8,  1,\n",
      "          8,  1,  8,  0,  8,  1,  8,  0,  8,  1,  8,  1,  8,  0,  8,  1,  8,  1,\n",
      "          6,  1,  6,  0,  8,  1,  8,  1,  8,  1,  8,  1, 11,  1,  8,  1,  8,  1]]), Start = tensor([[10,  0, 10,  0,  2,  0,  2,  0,  2,  0,  2,  0,  2,  1,  2,  0, 11,  0,\n",
      "         11,  1,  8,  1,  8,  1,  8,  1,  8,  0,  8,  1,  8,  1,  8,  1,  8,  1,\n",
      "          8,  1,  8,  1,  8,  1,  8,  1,  8,  1,  8,  1,  8,  0,  8,  1,  8,  1,\n",
      "          8,  1,  8,  1,  8,  1,  8,  1,  8,  0,  8,  1,  8,  1,  8,  1,  8,  1,\n",
      "          8,  1,  8,  1,  8,  1,  8,  1,  8,  1,  8,  1,  8,  1,  8,  1,  8,  1,\n",
      "          8,  1,  8,  1,  8,  1,  8,  1,  8,  1,  8,  1,  8,  1,  8,  1,  8,  1,\n",
      "          8,  1,  8,  1,  8,  1,  8,  1,  8,  1,  8,  1,  8,  1,  8,  1,  8,  1,\n",
      "          8,  1,  8,  1,  8,  1,  8,  1,  8,  1,  8,  1,  8,  1,  8,  1,  8,  1,\n",
      "          8,  1,  8,  1,  8,  0,  8,  1,  8,  1,  8,  1,  8,  1,  8,  1,  8,  0,\n",
      "          8,  1,  8,  1,  8,  1,  8,  1,  8,  1,  8,  1,  8,  1,  8,  1,  8,  0]])\n",
      "Predicted: 8 True: 8, Predicted with start: 8\n",
      "\n",
      "Tokens = tensor([[10,  0,  2,  0,  2,  1, 10,  0,  2,  0,  7,  0, 11,  1, 11,  0,  8,  1,\n",
      "          8,  1,  8,  1,  8,  1,  8,  1,  8,  1,  8,  1,  3,  0,  8,  1,  3,  0,\n",
      "          8,  0,  8,  1,  8,  1,  8,  0,  8,  1,  8,  1,  8,  1,  8,  1,  8,  1,\n",
      "          8,  1,  8,  1,  2,  0,  8,  1,  8,  1,  8,  1,  8,  1,  4,  1,  4,  0,\n",
      "          8,  0,  8,  1,  8,  1,  8,  1,  8,  1,  8,  1,  8,  1, 10,  0,  8,  1,\n",
      "          8,  1,  8,  1,  8,  1,  8,  1, 10,  0,  8,  1,  8,  1,  4,  0,  8,  1,\n",
      "          8,  0, 10,  0,  8,  1,  8,  1,  8,  1, 11,  0, 11,  0,  8,  0,  8,  1,\n",
      "          8,  1,  8,  1,  8,  1,  8,  1,  8,  1,  8,  1,  7,  0,  8,  1,  8,  1,\n",
      "          8,  1,  8,  0,  8,  1,  8,  0,  8,  1,  8,  1,  8,  0,  8,  1,  8,  1,\n",
      "          6,  1,  6,  0,  8,  1,  8,  1,  8,  1,  8,  1, 11,  1,  8,  1,  8,  1,\n",
      "          8]]), Start = tensor([[10,  0, 10,  0,  2,  0,  2,  0,  2,  0,  2,  0,  2,  1,  2,  0, 11,  0,\n",
      "         11,  1,  8,  1,  8,  1,  8,  1,  8,  0,  8,  1,  8,  1,  8,  1,  8,  1,\n",
      "          8,  1,  8,  1,  8,  1,  8,  1,  8,  1,  8,  1,  8,  0,  8,  1,  8,  1,\n",
      "          8,  1,  8,  1,  8,  1,  8,  1,  8,  0,  8,  1,  8,  1,  8,  1,  8,  1,\n",
      "          8,  1,  8,  1,  8,  1,  8,  1,  8,  1,  8,  1,  8,  1,  8,  1,  8,  1,\n",
      "          8,  1,  8,  1,  8,  1,  8,  1,  8,  1,  8,  1,  8,  1,  8,  1,  8,  1,\n",
      "          8,  1,  8,  1,  8,  1,  8,  1,  8,  1,  8,  1,  8,  1,  8,  1,  8,  1,\n",
      "          8,  1,  8,  1,  8,  1,  8,  1,  8,  1,  8,  1,  8,  1,  8,  1,  8,  1,\n",
      "          8,  1,  8,  1,  8,  0,  8,  1,  8,  1,  8,  1,  8,  1,  8,  1,  8,  0,\n",
      "          8,  1,  8,  1,  8,  1,  8,  1,  8,  1,  8,  1,  8,  1,  8,  1,  8,  0,\n",
      "          8]])\n",
      "Predicted: 1 True: 1, Predicted with start: 1\n",
      "\n",
      "Tokens = tensor([[10,  0,  2,  0,  2,  1, 10,  0,  2,  0,  7,  0, 11,  1, 11,  0,  8,  1,\n",
      "          8,  1,  8,  1,  8,  1,  8,  1,  8,  1,  8,  1,  3,  0,  8,  1,  3,  0,\n",
      "          8,  0,  8,  1,  8,  1,  8,  0,  8,  1,  8,  1,  8,  1,  8,  1,  8,  1,\n",
      "          8,  1,  8,  1,  2,  0,  8,  1,  8,  1,  8,  1,  8,  1,  4,  1,  4,  0,\n",
      "          8,  0,  8,  1,  8,  1,  8,  1,  8,  1,  8,  1,  8,  1, 10,  0,  8,  1,\n",
      "          8,  1,  8,  1,  8,  1,  8,  1, 10,  0,  8,  1,  8,  1,  4,  0,  8,  1,\n",
      "          8,  0, 10,  0,  8,  1,  8,  1,  8,  1, 11,  0, 11,  0,  8,  0,  8,  1,\n",
      "          8,  1,  8,  1,  8,  1,  8,  1,  8,  1,  8,  1,  7,  0,  8,  1,  8,  1,\n",
      "          8,  1,  8,  0,  8,  1,  8,  0,  8,  1,  8,  1,  8,  0,  8,  1,  8,  1,\n",
      "          6,  1,  6,  0,  8,  1,  8,  1,  8,  1,  8,  1, 11,  1,  8,  1,  8,  1,\n",
      "          8,  1]]), Start = tensor([[10,  0, 10,  0,  2,  0,  2,  0,  2,  0,  2,  0,  2,  1,  2,  0, 11,  0,\n",
      "         11,  1,  8,  1,  8,  1,  8,  1,  8,  0,  8,  1,  8,  1,  8,  1,  8,  1,\n",
      "          8,  1,  8,  1,  8,  1,  8,  1,  8,  1,  8,  1,  8,  0,  8,  1,  8,  1,\n",
      "          8,  1,  8,  1,  8,  1,  8,  1,  8,  0,  8,  1,  8,  1,  8,  1,  8,  1,\n",
      "          8,  1,  8,  1,  8,  1,  8,  1,  8,  1,  8,  1,  8,  1,  8,  1,  8,  1,\n",
      "          8,  1,  8,  1,  8,  1,  8,  1,  8,  1,  8,  1,  8,  1,  8,  1,  8,  1,\n",
      "          8,  1,  8,  1,  8,  1,  8,  1,  8,  1,  8,  1,  8,  1,  8,  1,  8,  1,\n",
      "          8,  1,  8,  1,  8,  1,  8,  1,  8,  1,  8,  1,  8,  1,  8,  1,  8,  1,\n",
      "          8,  1,  8,  1,  8,  0,  8,  1,  8,  1,  8,  1,  8,  1,  8,  1,  8,  0,\n",
      "          8,  1,  8,  1,  8,  1,  8,  1,  8,  1,  8,  1,  8,  1,  8,  1,  8,  0,\n",
      "          8,  1]])\n",
      "Predicted: 8 True: 11, Predicted with start: 8\n",
      "\n",
      "Tokens = tensor([[10,  0,  2,  0,  2,  1, 10,  0,  2,  0,  7,  0, 11,  1, 11,  0,  8,  1,\n",
      "          8,  1,  8,  1,  8,  1,  8,  1,  8,  1,  8,  1,  3,  0,  8,  1,  3,  0,\n",
      "          8,  0,  8,  1,  8,  1,  8,  0,  8,  1,  8,  1,  8,  1,  8,  1,  8,  1,\n",
      "          8,  1,  8,  1,  2,  0,  8,  1,  8,  1,  8,  1,  8,  1,  4,  1,  4,  0,\n",
      "          8,  0,  8,  1,  8,  1,  8,  1,  8,  1,  8,  1,  8,  1, 10,  0,  8,  1,\n",
      "          8,  1,  8,  1,  8,  1,  8,  1, 10,  0,  8,  1,  8,  1,  4,  0,  8,  1,\n",
      "          8,  0, 10,  0,  8,  1,  8,  1,  8,  1, 11,  0, 11,  0,  8,  0,  8,  1,\n",
      "          8,  1,  8,  1,  8,  1,  8,  1,  8,  1,  8,  1,  7,  0,  8,  1,  8,  1,\n",
      "          8,  1,  8,  0,  8,  1,  8,  0,  8,  1,  8,  1,  8,  0,  8,  1,  8,  1,\n",
      "          6,  1,  6,  0,  8,  1,  8,  1,  8,  1,  8,  1, 11,  1,  8,  1,  8,  1,\n",
      "          8,  1, 11]]), Start = tensor([[10,  0, 10,  0,  2,  0,  2,  0,  2,  0,  2,  0,  2,  1,  2,  0, 11,  0,\n",
      "         11,  1,  8,  1,  8,  1,  8,  1,  8,  0,  8,  1,  8,  1,  8,  1,  8,  1,\n",
      "          8,  1,  8,  1,  8,  1,  8,  1,  8,  1,  8,  1,  8,  0,  8,  1,  8,  1,\n",
      "          8,  1,  8,  1,  8,  1,  8,  1,  8,  0,  8,  1,  8,  1,  8,  1,  8,  1,\n",
      "          8,  1,  8,  1,  8,  1,  8,  1,  8,  1,  8,  1,  8,  1,  8,  1,  8,  1,\n",
      "          8,  1,  8,  1,  8,  1,  8,  1,  8,  1,  8,  1,  8,  1,  8,  1,  8,  1,\n",
      "          8,  1,  8,  1,  8,  1,  8,  1,  8,  1,  8,  1,  8,  1,  8,  1,  8,  1,\n",
      "          8,  1,  8,  1,  8,  1,  8,  1,  8,  1,  8,  1,  8,  1,  8,  1,  8,  1,\n",
      "          8,  1,  8,  1,  8,  0,  8,  1,  8,  1,  8,  1,  8,  1,  8,  1,  8,  0,\n",
      "          8,  1,  8,  1,  8,  1,  8,  1,  8,  1,  8,  1,  8,  1,  8,  1,  8,  0,\n",
      "          8,  1,  8]])\n",
      "Predicted: 0 True: 0, Predicted with start: 1\n",
      "\n",
      "Tokens = tensor([[10,  0,  2,  0,  2,  1, 10,  0,  2,  0,  7,  0, 11,  1, 11,  0,  8,  1,\n",
      "          8,  1,  8,  1,  8,  1,  8,  1,  8,  1,  8,  1,  3,  0,  8,  1,  3,  0,\n",
      "          8,  0,  8,  1,  8,  1,  8,  0,  8,  1,  8,  1,  8,  1,  8,  1,  8,  1,\n",
      "          8,  1,  8,  1,  2,  0,  8,  1,  8,  1,  8,  1,  8,  1,  4,  1,  4,  0,\n",
      "          8,  0,  8,  1,  8,  1,  8,  1,  8,  1,  8,  1,  8,  1, 10,  0,  8,  1,\n",
      "          8,  1,  8,  1,  8,  1,  8,  1, 10,  0,  8,  1,  8,  1,  4,  0,  8,  1,\n",
      "          8,  0, 10,  0,  8,  1,  8,  1,  8,  1, 11,  0, 11,  0,  8,  0,  8,  1,\n",
      "          8,  1,  8,  1,  8,  1,  8,  1,  8,  1,  8,  1,  7,  0,  8,  1,  8,  1,\n",
      "          8,  1,  8,  0,  8,  1,  8,  0,  8,  1,  8,  1,  8,  0,  8,  1,  8,  1,\n",
      "          6,  1,  6,  0,  8,  1,  8,  1,  8,  1,  8,  1, 11,  1,  8,  1,  8,  1,\n",
      "          8,  1, 11,  0]]), Start = tensor([[10,  0, 10,  0,  2,  0,  2,  0,  2,  0,  2,  0,  2,  1,  2,  0, 11,  0,\n",
      "         11,  1,  8,  1,  8,  1,  8,  1,  8,  0,  8,  1,  8,  1,  8,  1,  8,  1,\n",
      "          8,  1,  8,  1,  8,  1,  8,  1,  8,  1,  8,  1,  8,  0,  8,  1,  8,  1,\n",
      "          8,  1,  8,  1,  8,  1,  8,  1,  8,  0,  8,  1,  8,  1,  8,  1,  8,  1,\n",
      "          8,  1,  8,  1,  8,  1,  8,  1,  8,  1,  8,  1,  8,  1,  8,  1,  8,  1,\n",
      "          8,  1,  8,  1,  8,  1,  8,  1,  8,  1,  8,  1,  8,  1,  8,  1,  8,  1,\n",
      "          8,  1,  8,  1,  8,  1,  8,  1,  8,  1,  8,  1,  8,  1,  8,  1,  8,  1,\n",
      "          8,  1,  8,  1,  8,  1,  8,  1,  8,  1,  8,  1,  8,  1,  8,  1,  8,  1,\n",
      "          8,  1,  8,  1,  8,  0,  8,  1,  8,  1,  8,  1,  8,  1,  8,  1,  8,  0,\n",
      "          8,  1,  8,  1,  8,  1,  8,  1,  8,  1,  8,  1,  8,  1,  8,  1,  8,  0,\n",
      "          8,  1,  8,  1]])\n",
      "Predicted: 8 True: 8, Predicted with start: 8\n",
      "\n",
      "Tokens = tensor([[10,  0,  2,  0,  2,  1, 10,  0,  2,  0,  7,  0, 11,  1, 11,  0,  8,  1,\n",
      "          8,  1,  8,  1,  8,  1,  8,  1,  8,  1,  8,  1,  3,  0,  8,  1,  3,  0,\n",
      "          8,  0,  8,  1,  8,  1,  8,  0,  8,  1,  8,  1,  8,  1,  8,  1,  8,  1,\n",
      "          8,  1,  8,  1,  2,  0,  8,  1,  8,  1,  8,  1,  8,  1,  4,  1,  4,  0,\n",
      "          8,  0,  8,  1,  8,  1,  8,  1,  8,  1,  8,  1,  8,  1, 10,  0,  8,  1,\n",
      "          8,  1,  8,  1,  8,  1,  8,  1, 10,  0,  8,  1,  8,  1,  4,  0,  8,  1,\n",
      "          8,  0, 10,  0,  8,  1,  8,  1,  8,  1, 11,  0, 11,  0,  8,  0,  8,  1,\n",
      "          8,  1,  8,  1,  8,  1,  8,  1,  8,  1,  8,  1,  7,  0,  8,  1,  8,  1,\n",
      "          8,  1,  8,  0,  8,  1,  8,  0,  8,  1,  8,  1,  8,  0,  8,  1,  8,  1,\n",
      "          6,  1,  6,  0,  8,  1,  8,  1,  8,  1,  8,  1, 11,  1,  8,  1,  8,  1,\n",
      "          8,  1, 11,  0,  8]]), Start = tensor([[10,  0, 10,  0,  2,  0,  2,  0,  2,  0,  2,  0,  2,  1,  2,  0, 11,  0,\n",
      "         11,  1,  8,  1,  8,  1,  8,  1,  8,  0,  8,  1,  8,  1,  8,  1,  8,  1,\n",
      "          8,  1,  8,  1,  8,  1,  8,  1,  8,  1,  8,  1,  8,  0,  8,  1,  8,  1,\n",
      "          8,  1,  8,  1,  8,  1,  8,  1,  8,  0,  8,  1,  8,  1,  8,  1,  8,  1,\n",
      "          8,  1,  8,  1,  8,  1,  8,  1,  8,  1,  8,  1,  8,  1,  8,  1,  8,  1,\n",
      "          8,  1,  8,  1,  8,  1,  8,  1,  8,  1,  8,  1,  8,  1,  8,  1,  8,  1,\n",
      "          8,  1,  8,  1,  8,  1,  8,  1,  8,  1,  8,  1,  8,  1,  8,  1,  8,  1,\n",
      "          8,  1,  8,  1,  8,  1,  8,  1,  8,  1,  8,  1,  8,  1,  8,  1,  8,  1,\n",
      "          8,  1,  8,  1,  8,  0,  8,  1,  8,  1,  8,  1,  8,  1,  8,  1,  8,  0,\n",
      "          8,  1,  8,  1,  8,  1,  8,  1,  8,  1,  8,  1,  8,  1,  8,  1,  8,  0,\n",
      "          8,  1,  8,  1,  8]])\n",
      "Predicted: 1 True: 1, Predicted with start: 1\n",
      "\n",
      "Tokens = tensor([[10,  0,  2,  0,  2,  1, 10,  0,  2,  0,  7,  0, 11,  1, 11,  0,  8,  1,\n",
      "          8,  1,  8,  1,  8,  1,  8,  1,  8,  1,  8,  1,  3,  0,  8,  1,  3,  0,\n",
      "          8,  0,  8,  1,  8,  1,  8,  0,  8,  1,  8,  1,  8,  1,  8,  1,  8,  1,\n",
      "          8,  1,  8,  1,  2,  0,  8,  1,  8,  1,  8,  1,  8,  1,  4,  1,  4,  0,\n",
      "          8,  0,  8,  1,  8,  1,  8,  1,  8,  1,  8,  1,  8,  1, 10,  0,  8,  1,\n",
      "          8,  1,  8,  1,  8,  1,  8,  1, 10,  0,  8,  1,  8,  1,  4,  0,  8,  1,\n",
      "          8,  0, 10,  0,  8,  1,  8,  1,  8,  1, 11,  0, 11,  0,  8,  0,  8,  1,\n",
      "          8,  1,  8,  1,  8,  1,  8,  1,  8,  1,  8,  1,  7,  0,  8,  1,  8,  1,\n",
      "          8,  1,  8,  0,  8,  1,  8,  0,  8,  1,  8,  1,  8,  0,  8,  1,  8,  1,\n",
      "          6,  1,  6,  0,  8,  1,  8,  1,  8,  1,  8,  1, 11,  1,  8,  1,  8,  1,\n",
      "          8,  1, 11,  0,  8,  1]]), Start = tensor([[10,  0, 10,  0,  2,  0,  2,  0,  2,  0,  2,  0,  2,  1,  2,  0, 11,  0,\n",
      "         11,  1,  8,  1,  8,  1,  8,  1,  8,  0,  8,  1,  8,  1,  8,  1,  8,  1,\n",
      "          8,  1,  8,  1,  8,  1,  8,  1,  8,  1,  8,  1,  8,  0,  8,  1,  8,  1,\n",
      "          8,  1,  8,  1,  8,  1,  8,  1,  8,  0,  8,  1,  8,  1,  8,  1,  8,  1,\n",
      "          8,  1,  8,  1,  8,  1,  8,  1,  8,  1,  8,  1,  8,  1,  8,  1,  8,  1,\n",
      "          8,  1,  8,  1,  8,  1,  8,  1,  8,  1,  8,  1,  8,  1,  8,  1,  8,  1,\n",
      "          8,  1,  8,  1,  8,  1,  8,  1,  8,  1,  8,  1,  8,  1,  8,  1,  8,  1,\n",
      "          8,  1,  8,  1,  8,  1,  8,  1,  8,  1,  8,  1,  8,  1,  8,  1,  8,  1,\n",
      "          8,  1,  8,  1,  8,  0,  8,  1,  8,  1,  8,  1,  8,  1,  8,  1,  8,  0,\n",
      "          8,  1,  8,  1,  8,  1,  8,  1,  8,  1,  8,  1,  8,  1,  8,  1,  8,  0,\n",
      "          8,  1,  8,  1,  8,  1]])\n",
      "Predicted: 8 True: 8, Predicted with start: 8\n",
      "\n",
      "Tokens = tensor([[10,  0,  2,  0,  2,  1, 10,  0,  2,  0,  7,  0, 11,  1, 11,  0,  8,  1,\n",
      "          8,  1,  8,  1,  8,  1,  8,  1,  8,  1,  8,  1,  3,  0,  8,  1,  3,  0,\n",
      "          8,  0,  8,  1,  8,  1,  8,  0,  8,  1,  8,  1,  8,  1,  8,  1,  8,  1,\n",
      "          8,  1,  8,  1,  2,  0,  8,  1,  8,  1,  8,  1,  8,  1,  4,  1,  4,  0,\n",
      "          8,  0,  8,  1,  8,  1,  8,  1,  8,  1,  8,  1,  8,  1, 10,  0,  8,  1,\n",
      "          8,  1,  8,  1,  8,  1,  8,  1, 10,  0,  8,  1,  8,  1,  4,  0,  8,  1,\n",
      "          8,  0, 10,  0,  8,  1,  8,  1,  8,  1, 11,  0, 11,  0,  8,  0,  8,  1,\n",
      "          8,  1,  8,  1,  8,  1,  8,  1,  8,  1,  8,  1,  7,  0,  8,  1,  8,  1,\n",
      "          8,  1,  8,  0,  8,  1,  8,  0,  8,  1,  8,  1,  8,  0,  8,  1,  8,  1,\n",
      "          6,  1,  6,  0,  8,  1,  8,  1,  8,  1,  8,  1, 11,  1,  8,  1,  8,  1,\n",
      "          8,  1, 11,  0,  8,  1,  8]]), Start = tensor([[10,  0, 10,  0,  2,  0,  2,  0,  2,  0,  2,  0,  2,  1,  2,  0, 11,  0,\n",
      "         11,  1,  8,  1,  8,  1,  8,  1,  8,  0,  8,  1,  8,  1,  8,  1,  8,  1,\n",
      "          8,  1,  8,  1,  8,  1,  8,  1,  8,  1,  8,  1,  8,  0,  8,  1,  8,  1,\n",
      "          8,  1,  8,  1,  8,  1,  8,  1,  8,  0,  8,  1,  8,  1,  8,  1,  8,  1,\n",
      "          8,  1,  8,  1,  8,  1,  8,  1,  8,  1,  8,  1,  8,  1,  8,  1,  8,  1,\n",
      "          8,  1,  8,  1,  8,  1,  8,  1,  8,  1,  8,  1,  8,  1,  8,  1,  8,  1,\n",
      "          8,  1,  8,  1,  8,  1,  8,  1,  8,  1,  8,  1,  8,  1,  8,  1,  8,  1,\n",
      "          8,  1,  8,  1,  8,  1,  8,  1,  8,  1,  8,  1,  8,  1,  8,  1,  8,  1,\n",
      "          8,  1,  8,  1,  8,  0,  8,  1,  8,  1,  8,  1,  8,  1,  8,  1,  8,  0,\n",
      "          8,  1,  8,  1,  8,  1,  8,  1,  8,  1,  8,  1,  8,  1,  8,  1,  8,  0,\n",
      "          8,  1,  8,  1,  8,  1,  8]])\n",
      "Predicted: 1 True: 1, Predicted with start: 1\n",
      "\n",
      "Tokens = tensor([[10,  0,  2,  0,  2,  1, 10,  0,  2,  0,  7,  0, 11,  1, 11,  0,  8,  1,\n",
      "          8,  1,  8,  1,  8,  1,  8,  1,  8,  1,  8,  1,  3,  0,  8,  1,  3,  0,\n",
      "          8,  0,  8,  1,  8,  1,  8,  0,  8,  1,  8,  1,  8,  1,  8,  1,  8,  1,\n",
      "          8,  1,  8,  1,  2,  0,  8,  1,  8,  1,  8,  1,  8,  1,  4,  1,  4,  0,\n",
      "          8,  0,  8,  1,  8,  1,  8,  1,  8,  1,  8,  1,  8,  1, 10,  0,  8,  1,\n",
      "          8,  1,  8,  1,  8,  1,  8,  1, 10,  0,  8,  1,  8,  1,  4,  0,  8,  1,\n",
      "          8,  0, 10,  0,  8,  1,  8,  1,  8,  1, 11,  0, 11,  0,  8,  0,  8,  1,\n",
      "          8,  1,  8,  1,  8,  1,  8,  1,  8,  1,  8,  1,  7,  0,  8,  1,  8,  1,\n",
      "          8,  1,  8,  0,  8,  1,  8,  0,  8,  1,  8,  1,  8,  0,  8,  1,  8,  1,\n",
      "          6,  1,  6,  0,  8,  1,  8,  1,  8,  1,  8,  1, 11,  1,  8,  1,  8,  1,\n",
      "          8,  1, 11,  0,  8,  1,  8,  1]]), Start = tensor([[10,  0, 10,  0,  2,  0,  2,  0,  2,  0,  2,  0,  2,  1,  2,  0, 11,  0,\n",
      "         11,  1,  8,  1,  8,  1,  8,  1,  8,  0,  8,  1,  8,  1,  8,  1,  8,  1,\n",
      "          8,  1,  8,  1,  8,  1,  8,  1,  8,  1,  8,  1,  8,  0,  8,  1,  8,  1,\n",
      "          8,  1,  8,  1,  8,  1,  8,  1,  8,  0,  8,  1,  8,  1,  8,  1,  8,  1,\n",
      "          8,  1,  8,  1,  8,  1,  8,  1,  8,  1,  8,  1,  8,  1,  8,  1,  8,  1,\n",
      "          8,  1,  8,  1,  8,  1,  8,  1,  8,  1,  8,  1,  8,  1,  8,  1,  8,  1,\n",
      "          8,  1,  8,  1,  8,  1,  8,  1,  8,  1,  8,  1,  8,  1,  8,  1,  8,  1,\n",
      "          8,  1,  8,  1,  8,  1,  8,  1,  8,  1,  8,  1,  8,  1,  8,  1,  8,  1,\n",
      "          8,  1,  8,  1,  8,  0,  8,  1,  8,  1,  8,  1,  8,  1,  8,  1,  8,  0,\n",
      "          8,  1,  8,  1,  8,  1,  8,  1,  8,  1,  8,  1,  8,  1,  8,  1,  8,  0,\n",
      "          8,  1,  8,  1,  8,  1,  8,  1]])\n",
      "Predicted: 8 True: 8, Predicted with start: 8\n",
      "\n",
      "Tokens = tensor([[10,  0,  2,  0,  2,  1, 10,  0,  2,  0,  7,  0, 11,  1, 11,  0,  8,  1,\n",
      "          8,  1,  8,  1,  8,  1,  8,  1,  8,  1,  8,  1,  3,  0,  8,  1,  3,  0,\n",
      "          8,  0,  8,  1,  8,  1,  8,  0,  8,  1,  8,  1,  8,  1,  8,  1,  8,  1,\n",
      "          8,  1,  8,  1,  2,  0,  8,  1,  8,  1,  8,  1,  8,  1,  4,  1,  4,  0,\n",
      "          8,  0,  8,  1,  8,  1,  8,  1,  8,  1,  8,  1,  8,  1, 10,  0,  8,  1,\n",
      "          8,  1,  8,  1,  8,  1,  8,  1, 10,  0,  8,  1,  8,  1,  4,  0,  8,  1,\n",
      "          8,  0, 10,  0,  8,  1,  8,  1,  8,  1, 11,  0, 11,  0,  8,  0,  8,  1,\n",
      "          8,  1,  8,  1,  8,  1,  8,  1,  8,  1,  8,  1,  7,  0,  8,  1,  8,  1,\n",
      "          8,  1,  8,  0,  8,  1,  8,  0,  8,  1,  8,  1,  8,  0,  8,  1,  8,  1,\n",
      "          6,  1,  6,  0,  8,  1,  8,  1,  8,  1,  8,  1, 11,  1,  8,  1,  8,  1,\n",
      "          8,  1, 11,  0,  8,  1,  8,  1,  8]]), Start = tensor([[10,  0, 10,  0,  2,  0,  2,  0,  2,  0,  2,  0,  2,  1,  2,  0, 11,  0,\n",
      "         11,  1,  8,  1,  8,  1,  8,  1,  8,  0,  8,  1,  8,  1,  8,  1,  8,  1,\n",
      "          8,  1,  8,  1,  8,  1,  8,  1,  8,  1,  8,  1,  8,  0,  8,  1,  8,  1,\n",
      "          8,  1,  8,  1,  8,  1,  8,  1,  8,  0,  8,  1,  8,  1,  8,  1,  8,  1,\n",
      "          8,  1,  8,  1,  8,  1,  8,  1,  8,  1,  8,  1,  8,  1,  8,  1,  8,  1,\n",
      "          8,  1,  8,  1,  8,  1,  8,  1,  8,  1,  8,  1,  8,  1,  8,  1,  8,  1,\n",
      "          8,  1,  8,  1,  8,  1,  8,  1,  8,  1,  8,  1,  8,  1,  8,  1,  8,  1,\n",
      "          8,  1,  8,  1,  8,  1,  8,  1,  8,  1,  8,  1,  8,  1,  8,  1,  8,  1,\n",
      "          8,  1,  8,  1,  8,  0,  8,  1,  8,  1,  8,  1,  8,  1,  8,  1,  8,  0,\n",
      "          8,  1,  8,  1,  8,  1,  8,  1,  8,  1,  8,  1,  8,  1,  8,  1,  8,  0,\n",
      "          8,  1,  8,  1,  8,  1,  8,  1,  8]])\n",
      "Predicted: 1 True: 0, Predicted with start: 1\n",
      "\n",
      "Tokens = tensor([[10,  0,  2,  0,  2,  1, 10,  0,  2,  0,  7,  0, 11,  1, 11,  0,  8,  1,\n",
      "          8,  1,  8,  1,  8,  1,  8,  1,  8,  1,  8,  1,  3,  0,  8,  1,  3,  0,\n",
      "          8,  0,  8,  1,  8,  1,  8,  0,  8,  1,  8,  1,  8,  1,  8,  1,  8,  1,\n",
      "          8,  1,  8,  1,  2,  0,  8,  1,  8,  1,  8,  1,  8,  1,  4,  1,  4,  0,\n",
      "          8,  0,  8,  1,  8,  1,  8,  1,  8,  1,  8,  1,  8,  1, 10,  0,  8,  1,\n",
      "          8,  1,  8,  1,  8,  1,  8,  1, 10,  0,  8,  1,  8,  1,  4,  0,  8,  1,\n",
      "          8,  0, 10,  0,  8,  1,  8,  1,  8,  1, 11,  0, 11,  0,  8,  0,  8,  1,\n",
      "          8,  1,  8,  1,  8,  1,  8,  1,  8,  1,  8,  1,  7,  0,  8,  1,  8,  1,\n",
      "          8,  1,  8,  0,  8,  1,  8,  0,  8,  1,  8,  1,  8,  0,  8,  1,  8,  1,\n",
      "          6,  1,  6,  0,  8,  1,  8,  1,  8,  1,  8,  1, 11,  1,  8,  1,  8,  1,\n",
      "          8,  1, 11,  0,  8,  1,  8,  1,  8,  0]]), Start = tensor([[10,  0, 10,  0,  2,  0,  2,  0,  2,  0,  2,  0,  2,  1,  2,  0, 11,  0,\n",
      "         11,  1,  8,  1,  8,  1,  8,  1,  8,  0,  8,  1,  8,  1,  8,  1,  8,  1,\n",
      "          8,  1,  8,  1,  8,  1,  8,  1,  8,  1,  8,  1,  8,  0,  8,  1,  8,  1,\n",
      "          8,  1,  8,  1,  8,  1,  8,  1,  8,  0,  8,  1,  8,  1,  8,  1,  8,  1,\n",
      "          8,  1,  8,  1,  8,  1,  8,  1,  8,  1,  8,  1,  8,  1,  8,  1,  8,  1,\n",
      "          8,  1,  8,  1,  8,  1,  8,  1,  8,  1,  8,  1,  8,  1,  8,  1,  8,  1,\n",
      "          8,  1,  8,  1,  8,  1,  8,  1,  8,  1,  8,  1,  8,  1,  8,  1,  8,  1,\n",
      "          8,  1,  8,  1,  8,  1,  8,  1,  8,  1,  8,  1,  8,  1,  8,  1,  8,  1,\n",
      "          8,  1,  8,  1,  8,  0,  8,  1,  8,  1,  8,  1,  8,  1,  8,  1,  8,  0,\n",
      "          8,  1,  8,  1,  8,  1,  8,  1,  8,  1,  8,  1,  8,  1,  8,  1,  8,  0,\n",
      "          8,  1,  8,  1,  8,  1,  8,  1,  8,  1]])\n",
      "Predicted: 8 True: 8, Predicted with start: 8\n",
      "\n",
      "Tokens = tensor([[10,  0,  2,  0,  2,  1, 10,  0,  2,  0,  7,  0, 11,  1, 11,  0,  8,  1,\n",
      "          8,  1,  8,  1,  8,  1,  8,  1,  8,  1,  8,  1,  3,  0,  8,  1,  3,  0,\n",
      "          8,  0,  8,  1,  8,  1,  8,  0,  8,  1,  8,  1,  8,  1,  8,  1,  8,  1,\n",
      "          8,  1,  8,  1,  2,  0,  8,  1,  8,  1,  8,  1,  8,  1,  4,  1,  4,  0,\n",
      "          8,  0,  8,  1,  8,  1,  8,  1,  8,  1,  8,  1,  8,  1, 10,  0,  8,  1,\n",
      "          8,  1,  8,  1,  8,  1,  8,  1, 10,  0,  8,  1,  8,  1,  4,  0,  8,  1,\n",
      "          8,  0, 10,  0,  8,  1,  8,  1,  8,  1, 11,  0, 11,  0,  8,  0,  8,  1,\n",
      "          8,  1,  8,  1,  8,  1,  8,  1,  8,  1,  8,  1,  7,  0,  8,  1,  8,  1,\n",
      "          8,  1,  8,  0,  8,  1,  8,  0,  8,  1,  8,  1,  8,  0,  8,  1,  8,  1,\n",
      "          6,  1,  6,  0,  8,  1,  8,  1,  8,  1,  8,  1, 11,  1,  8,  1,  8,  1,\n",
      "          8,  1, 11,  0,  8,  1,  8,  1,  8,  0,  8]]), Start = tensor([[10,  0, 10,  0,  2,  0,  2,  0,  2,  0,  2,  0,  2,  1,  2,  0, 11,  0,\n",
      "         11,  1,  8,  1,  8,  1,  8,  1,  8,  0,  8,  1,  8,  1,  8,  1,  8,  1,\n",
      "          8,  1,  8,  1,  8,  1,  8,  1,  8,  1,  8,  1,  8,  0,  8,  1,  8,  1,\n",
      "          8,  1,  8,  1,  8,  1,  8,  1,  8,  0,  8,  1,  8,  1,  8,  1,  8,  1,\n",
      "          8,  1,  8,  1,  8,  1,  8,  1,  8,  1,  8,  1,  8,  1,  8,  1,  8,  1,\n",
      "          8,  1,  8,  1,  8,  1,  8,  1,  8,  1,  8,  1,  8,  1,  8,  1,  8,  1,\n",
      "          8,  1,  8,  1,  8,  1,  8,  1,  8,  1,  8,  1,  8,  1,  8,  1,  8,  1,\n",
      "          8,  1,  8,  1,  8,  1,  8,  1,  8,  1,  8,  1,  8,  1,  8,  1,  8,  1,\n",
      "          8,  1,  8,  1,  8,  0,  8,  1,  8,  1,  8,  1,  8,  1,  8,  1,  8,  0,\n",
      "          8,  1,  8,  1,  8,  1,  8,  1,  8,  1,  8,  1,  8,  1,  8,  1,  8,  0,\n",
      "          8,  1,  8,  1,  8,  1,  8,  1,  8,  1,  8]])\n",
      "Predicted: 1 True: 1, Predicted with start: 1\n",
      "\n",
      "Tokens = tensor([[10,  0,  2,  0,  2,  1, 10,  0,  2,  0,  7,  0, 11,  1, 11,  0,  8,  1,\n",
      "          8,  1,  8,  1,  8,  1,  8,  1,  8,  1,  8,  1,  3,  0,  8,  1,  3,  0,\n",
      "          8,  0,  8,  1,  8,  1,  8,  0,  8,  1,  8,  1,  8,  1,  8,  1,  8,  1,\n",
      "          8,  1,  8,  1,  2,  0,  8,  1,  8,  1,  8,  1,  8,  1,  4,  1,  4,  0,\n",
      "          8,  0,  8,  1,  8,  1,  8,  1,  8,  1,  8,  1,  8,  1, 10,  0,  8,  1,\n",
      "          8,  1,  8,  1,  8,  1,  8,  1, 10,  0,  8,  1,  8,  1,  4,  0,  8,  1,\n",
      "          8,  0, 10,  0,  8,  1,  8,  1,  8,  1, 11,  0, 11,  0,  8,  0,  8,  1,\n",
      "          8,  1,  8,  1,  8,  1,  8,  1,  8,  1,  8,  1,  7,  0,  8,  1,  8,  1,\n",
      "          8,  1,  8,  0,  8,  1,  8,  0,  8,  1,  8,  1,  8,  0,  8,  1,  8,  1,\n",
      "          6,  1,  6,  0,  8,  1,  8,  1,  8,  1,  8,  1, 11,  1,  8,  1,  8,  1,\n",
      "          8,  1, 11,  0,  8,  1,  8,  1,  8,  0,  8,  1]]), Start = tensor([[10,  0, 10,  0,  2,  0,  2,  0,  2,  0,  2,  0,  2,  1,  2,  0, 11,  0,\n",
      "         11,  1,  8,  1,  8,  1,  8,  1,  8,  0,  8,  1,  8,  1,  8,  1,  8,  1,\n",
      "          8,  1,  8,  1,  8,  1,  8,  1,  8,  1,  8,  1,  8,  0,  8,  1,  8,  1,\n",
      "          8,  1,  8,  1,  8,  1,  8,  1,  8,  0,  8,  1,  8,  1,  8,  1,  8,  1,\n",
      "          8,  1,  8,  1,  8,  1,  8,  1,  8,  1,  8,  1,  8,  1,  8,  1,  8,  1,\n",
      "          8,  1,  8,  1,  8,  1,  8,  1,  8,  1,  8,  1,  8,  1,  8,  1,  8,  1,\n",
      "          8,  1,  8,  1,  8,  1,  8,  1,  8,  1,  8,  1,  8,  1,  8,  1,  8,  1,\n",
      "          8,  1,  8,  1,  8,  1,  8,  1,  8,  1,  8,  1,  8,  1,  8,  1,  8,  1,\n",
      "          8,  1,  8,  1,  8,  0,  8,  1,  8,  1,  8,  1,  8,  1,  8,  1,  8,  0,\n",
      "          8,  1,  8,  1,  8,  1,  8,  1,  8,  1,  8,  1,  8,  1,  8,  1,  8,  0,\n",
      "          8,  1,  8,  1,  8,  1,  8,  1,  8,  1,  8,  1]])\n",
      "Predicted: 8 True: 8, Predicted with start: 8\n",
      "\n",
      "Tokens = tensor([[10,  0,  2,  0,  2,  1, 10,  0,  2,  0,  7,  0, 11,  1, 11,  0,  8,  1,\n",
      "          8,  1,  8,  1,  8,  1,  8,  1,  8,  1,  8,  1,  3,  0,  8,  1,  3,  0,\n",
      "          8,  0,  8,  1,  8,  1,  8,  0,  8,  1,  8,  1,  8,  1,  8,  1,  8,  1,\n",
      "          8,  1,  8,  1,  2,  0,  8,  1,  8,  1,  8,  1,  8,  1,  4,  1,  4,  0,\n",
      "          8,  0,  8,  1,  8,  1,  8,  1,  8,  1,  8,  1,  8,  1, 10,  0,  8,  1,\n",
      "          8,  1,  8,  1,  8,  1,  8,  1, 10,  0,  8,  1,  8,  1,  4,  0,  8,  1,\n",
      "          8,  0, 10,  0,  8,  1,  8,  1,  8,  1, 11,  0, 11,  0,  8,  0,  8,  1,\n",
      "          8,  1,  8,  1,  8,  1,  8,  1,  8,  1,  8,  1,  7,  0,  8,  1,  8,  1,\n",
      "          8,  1,  8,  0,  8,  1,  8,  0,  8,  1,  8,  1,  8,  0,  8,  1,  8,  1,\n",
      "          6,  1,  6,  0,  8,  1,  8,  1,  8,  1,  8,  1, 11,  1,  8,  1,  8,  1,\n",
      "          8,  1, 11,  0,  8,  1,  8,  1,  8,  0,  8,  1,  8]]), Start = tensor([[10,  0, 10,  0,  2,  0,  2,  0,  2,  0,  2,  0,  2,  1,  2,  0, 11,  0,\n",
      "         11,  1,  8,  1,  8,  1,  8,  1,  8,  0,  8,  1,  8,  1,  8,  1,  8,  1,\n",
      "          8,  1,  8,  1,  8,  1,  8,  1,  8,  1,  8,  1,  8,  0,  8,  1,  8,  1,\n",
      "          8,  1,  8,  1,  8,  1,  8,  1,  8,  0,  8,  1,  8,  1,  8,  1,  8,  1,\n",
      "          8,  1,  8,  1,  8,  1,  8,  1,  8,  1,  8,  1,  8,  1,  8,  1,  8,  1,\n",
      "          8,  1,  8,  1,  8,  1,  8,  1,  8,  1,  8,  1,  8,  1,  8,  1,  8,  1,\n",
      "          8,  1,  8,  1,  8,  1,  8,  1,  8,  1,  8,  1,  8,  1,  8,  1,  8,  1,\n",
      "          8,  1,  8,  1,  8,  1,  8,  1,  8,  1,  8,  1,  8,  1,  8,  1,  8,  1,\n",
      "          8,  1,  8,  1,  8,  0,  8,  1,  8,  1,  8,  1,  8,  1,  8,  1,  8,  0,\n",
      "          8,  1,  8,  1,  8,  1,  8,  1,  8,  1,  8,  1,  8,  1,  8,  1,  8,  0,\n",
      "          8,  1,  8,  1,  8,  1,  8,  1,  8,  1,  8,  1,  8]])\n",
      "Predicted: 1 True: 0, Predicted with start: 1\n",
      "\n",
      "Tokens = tensor([[10,  0,  2,  0,  2,  1, 10,  0,  2,  0,  7,  0, 11,  1, 11,  0,  8,  1,\n",
      "          8,  1,  8,  1,  8,  1,  8,  1,  8,  1,  8,  1,  3,  0,  8,  1,  3,  0,\n",
      "          8,  0,  8,  1,  8,  1,  8,  0,  8,  1,  8,  1,  8,  1,  8,  1,  8,  1,\n",
      "          8,  1,  8,  1,  2,  0,  8,  1,  8,  1,  8,  1,  8,  1,  4,  1,  4,  0,\n",
      "          8,  0,  8,  1,  8,  1,  8,  1,  8,  1,  8,  1,  8,  1, 10,  0,  8,  1,\n",
      "          8,  1,  8,  1,  8,  1,  8,  1, 10,  0,  8,  1,  8,  1,  4,  0,  8,  1,\n",
      "          8,  0, 10,  0,  8,  1,  8,  1,  8,  1, 11,  0, 11,  0,  8,  0,  8,  1,\n",
      "          8,  1,  8,  1,  8,  1,  8,  1,  8,  1,  8,  1,  7,  0,  8,  1,  8,  1,\n",
      "          8,  1,  8,  0,  8,  1,  8,  0,  8,  1,  8,  1,  8,  0,  8,  1,  8,  1,\n",
      "          6,  1,  6,  0,  8,  1,  8,  1,  8,  1,  8,  1, 11,  1,  8,  1,  8,  1,\n",
      "          8,  1, 11,  0,  8,  1,  8,  1,  8,  0,  8,  1,  8,  0]]), Start = tensor([[10,  0, 10,  0,  2,  0,  2,  0,  2,  0,  2,  0,  2,  1,  2,  0, 11,  0,\n",
      "         11,  1,  8,  1,  8,  1,  8,  1,  8,  0,  8,  1,  8,  1,  8,  1,  8,  1,\n",
      "          8,  1,  8,  1,  8,  1,  8,  1,  8,  1,  8,  1,  8,  0,  8,  1,  8,  1,\n",
      "          8,  1,  8,  1,  8,  1,  8,  1,  8,  0,  8,  1,  8,  1,  8,  1,  8,  1,\n",
      "          8,  1,  8,  1,  8,  1,  8,  1,  8,  1,  8,  1,  8,  1,  8,  1,  8,  1,\n",
      "          8,  1,  8,  1,  8,  1,  8,  1,  8,  1,  8,  1,  8,  1,  8,  1,  8,  1,\n",
      "          8,  1,  8,  1,  8,  1,  8,  1,  8,  1,  8,  1,  8,  1,  8,  1,  8,  1,\n",
      "          8,  1,  8,  1,  8,  1,  8,  1,  8,  1,  8,  1,  8,  1,  8,  1,  8,  1,\n",
      "          8,  1,  8,  1,  8,  0,  8,  1,  8,  1,  8,  1,  8,  1,  8,  1,  8,  0,\n",
      "          8,  1,  8,  1,  8,  1,  8,  1,  8,  1,  8,  1,  8,  1,  8,  1,  8,  0,\n",
      "          8,  1,  8,  1,  8,  1,  8,  1,  8,  1,  8,  1,  8,  1]])\n",
      "Predicted: 8 True: 2, Predicted with start: 8\n",
      "\n",
      "Tokens = tensor([[10,  0,  2,  0,  2,  1, 10,  0,  2,  0,  7,  0, 11,  1, 11,  0,  8,  1,\n",
      "          8,  1,  8,  1,  8,  1,  8,  1,  8,  1,  8,  1,  3,  0,  8,  1,  3,  0,\n",
      "          8,  0,  8,  1,  8,  1,  8,  0,  8,  1,  8,  1,  8,  1,  8,  1,  8,  1,\n",
      "          8,  1,  8,  1,  2,  0,  8,  1,  8,  1,  8,  1,  8,  1,  4,  1,  4,  0,\n",
      "          8,  0,  8,  1,  8,  1,  8,  1,  8,  1,  8,  1,  8,  1, 10,  0,  8,  1,\n",
      "          8,  1,  8,  1,  8,  1,  8,  1, 10,  0,  8,  1,  8,  1,  4,  0,  8,  1,\n",
      "          8,  0, 10,  0,  8,  1,  8,  1,  8,  1, 11,  0, 11,  0,  8,  0,  8,  1,\n",
      "          8,  1,  8,  1,  8,  1,  8,  1,  8,  1,  8,  1,  7,  0,  8,  1,  8,  1,\n",
      "          8,  1,  8,  0,  8,  1,  8,  0,  8,  1,  8,  1,  8,  0,  8,  1,  8,  1,\n",
      "          6,  1,  6,  0,  8,  1,  8,  1,  8,  1,  8,  1, 11,  1,  8,  1,  8,  1,\n",
      "          8,  1, 11,  0,  8,  1,  8,  1,  8,  0,  8,  1,  8,  0,  2]]), Start = tensor([[10,  0, 10,  0,  2,  0,  2,  0,  2,  0,  2,  0,  2,  1,  2,  0, 11,  0,\n",
      "         11,  1,  8,  1,  8,  1,  8,  1,  8,  0,  8,  1,  8,  1,  8,  1,  8,  1,\n",
      "          8,  1,  8,  1,  8,  1,  8,  1,  8,  1,  8,  1,  8,  0,  8,  1,  8,  1,\n",
      "          8,  1,  8,  1,  8,  1,  8,  1,  8,  0,  8,  1,  8,  1,  8,  1,  8,  1,\n",
      "          8,  1,  8,  1,  8,  1,  8,  1,  8,  1,  8,  1,  8,  1,  8,  1,  8,  1,\n",
      "          8,  1,  8,  1,  8,  1,  8,  1,  8,  1,  8,  1,  8,  1,  8,  1,  8,  1,\n",
      "          8,  1,  8,  1,  8,  1,  8,  1,  8,  1,  8,  1,  8,  1,  8,  1,  8,  1,\n",
      "          8,  1,  8,  1,  8,  1,  8,  1,  8,  1,  8,  1,  8,  1,  8,  1,  8,  1,\n",
      "          8,  1,  8,  1,  8,  0,  8,  1,  8,  1,  8,  1,  8,  1,  8,  1,  8,  0,\n",
      "          8,  1,  8,  1,  8,  1,  8,  1,  8,  1,  8,  1,  8,  1,  8,  1,  8,  0,\n",
      "          8,  1,  8,  1,  8,  1,  8,  1,  8,  1,  8,  1,  8,  1,  8]])\n",
      "Predicted: 0 True: 0, Predicted with start: 1\n",
      "\n",
      "Tokens = tensor([[10,  0,  2,  0,  2,  1, 10,  0,  2,  0,  7,  0, 11,  1, 11,  0,  8,  1,\n",
      "          8,  1,  8,  1,  8,  1,  8,  1,  8,  1,  8,  1,  3,  0,  8,  1,  3,  0,\n",
      "          8,  0,  8,  1,  8,  1,  8,  0,  8,  1,  8,  1,  8,  1,  8,  1,  8,  1,\n",
      "          8,  1,  8,  1,  2,  0,  8,  1,  8,  1,  8,  1,  8,  1,  4,  1,  4,  0,\n",
      "          8,  0,  8,  1,  8,  1,  8,  1,  8,  1,  8,  1,  8,  1, 10,  0,  8,  1,\n",
      "          8,  1,  8,  1,  8,  1,  8,  1, 10,  0,  8,  1,  8,  1,  4,  0,  8,  1,\n",
      "          8,  0, 10,  0,  8,  1,  8,  1,  8,  1, 11,  0, 11,  0,  8,  0,  8,  1,\n",
      "          8,  1,  8,  1,  8,  1,  8,  1,  8,  1,  8,  1,  7,  0,  8,  1,  8,  1,\n",
      "          8,  1,  8,  0,  8,  1,  8,  0,  8,  1,  8,  1,  8,  0,  8,  1,  8,  1,\n",
      "          6,  1,  6,  0,  8,  1,  8,  1,  8,  1,  8,  1, 11,  1,  8,  1,  8,  1,\n",
      "          8,  1, 11,  0,  8,  1,  8,  1,  8,  0,  8,  1,  8,  0,  2,  0]]), Start = tensor([[10,  0, 10,  0,  2,  0,  2,  0,  2,  0,  2,  0,  2,  1,  2,  0, 11,  0,\n",
      "         11,  1,  8,  1,  8,  1,  8,  1,  8,  0,  8,  1,  8,  1,  8,  1,  8,  1,\n",
      "          8,  1,  8,  1,  8,  1,  8,  1,  8,  1,  8,  1,  8,  0,  8,  1,  8,  1,\n",
      "          8,  1,  8,  1,  8,  1,  8,  1,  8,  0,  8,  1,  8,  1,  8,  1,  8,  1,\n",
      "          8,  1,  8,  1,  8,  1,  8,  1,  8,  1,  8,  1,  8,  1,  8,  1,  8,  1,\n",
      "          8,  1,  8,  1,  8,  1,  8,  1,  8,  1,  8,  1,  8,  1,  8,  1,  8,  1,\n",
      "          8,  1,  8,  1,  8,  1,  8,  1,  8,  1,  8,  1,  8,  1,  8,  1,  8,  1,\n",
      "          8,  1,  8,  1,  8,  1,  8,  1,  8,  1,  8,  1,  8,  1,  8,  1,  8,  1,\n",
      "          8,  1,  8,  1,  8,  0,  8,  1,  8,  1,  8,  1,  8,  1,  8,  1,  8,  0,\n",
      "          8,  1,  8,  1,  8,  1,  8,  1,  8,  1,  8,  1,  8,  1,  8,  1,  8,  0,\n",
      "          8,  1,  8,  1,  8,  1,  8,  1,  8,  1,  8,  1,  8,  1,  8,  1]])\n",
      "Predicted: 8 True: 8, Predicted with start: 8\n",
      "\n",
      "Tokens = tensor([[10,  0,  2,  0,  2,  1, 10,  0,  2,  0,  7,  0, 11,  1, 11,  0,  8,  1,\n",
      "          8,  1,  8,  1,  8,  1,  8,  1,  8,  1,  8,  1,  3,  0,  8,  1,  3,  0,\n",
      "          8,  0,  8,  1,  8,  1,  8,  0,  8,  1,  8,  1,  8,  1,  8,  1,  8,  1,\n",
      "          8,  1,  8,  1,  2,  0,  8,  1,  8,  1,  8,  1,  8,  1,  4,  1,  4,  0,\n",
      "          8,  0,  8,  1,  8,  1,  8,  1,  8,  1,  8,  1,  8,  1, 10,  0,  8,  1,\n",
      "          8,  1,  8,  1,  8,  1,  8,  1, 10,  0,  8,  1,  8,  1,  4,  0,  8,  1,\n",
      "          8,  0, 10,  0,  8,  1,  8,  1,  8,  1, 11,  0, 11,  0,  8,  0,  8,  1,\n",
      "          8,  1,  8,  1,  8,  1,  8,  1,  8,  1,  8,  1,  7,  0,  8,  1,  8,  1,\n",
      "          8,  1,  8,  0,  8,  1,  8,  0,  8,  1,  8,  1,  8,  0,  8,  1,  8,  1,\n",
      "          6,  1,  6,  0,  8,  1,  8,  1,  8,  1,  8,  1, 11,  1,  8,  1,  8,  1,\n",
      "          8,  1, 11,  0,  8,  1,  8,  1,  8,  0,  8,  1,  8,  0,  2,  0,  8]]), Start = tensor([[10,  0, 10,  0,  2,  0,  2,  0,  2,  0,  2,  0,  2,  1,  2,  0, 11,  0,\n",
      "         11,  1,  8,  1,  8,  1,  8,  1,  8,  0,  8,  1,  8,  1,  8,  1,  8,  1,\n",
      "          8,  1,  8,  1,  8,  1,  8,  1,  8,  1,  8,  1,  8,  0,  8,  1,  8,  1,\n",
      "          8,  1,  8,  1,  8,  1,  8,  1,  8,  0,  8,  1,  8,  1,  8,  1,  8,  1,\n",
      "          8,  1,  8,  1,  8,  1,  8,  1,  8,  1,  8,  1,  8,  1,  8,  1,  8,  1,\n",
      "          8,  1,  8,  1,  8,  1,  8,  1,  8,  1,  8,  1,  8,  1,  8,  1,  8,  1,\n",
      "          8,  1,  8,  1,  8,  1,  8,  1,  8,  1,  8,  1,  8,  1,  8,  1,  8,  1,\n",
      "          8,  1,  8,  1,  8,  1,  8,  1,  8,  1,  8,  1,  8,  1,  8,  1,  8,  1,\n",
      "          8,  1,  8,  1,  8,  0,  8,  1,  8,  1,  8,  1,  8,  1,  8,  1,  8,  0,\n",
      "          8,  1,  8,  1,  8,  1,  8,  1,  8,  1,  8,  1,  8,  1,  8,  1,  8,  0,\n",
      "          8,  1,  8,  1,  8,  1,  8,  1,  8,  1,  8,  1,  8,  1,  8,  1,  8]])\n",
      "Predicted: 1 True: 1, Predicted with start: 1\n",
      "\n",
      "Tokens = tensor([[10,  0,  2,  0,  2,  1, 10,  0,  2,  0,  7,  0, 11,  1, 11,  0,  8,  1,\n",
      "          8,  1,  8,  1,  8,  1,  8,  1,  8,  1,  8,  1,  3,  0,  8,  1,  3,  0,\n",
      "          8,  0,  8,  1,  8,  1,  8,  0,  8,  1,  8,  1,  8,  1,  8,  1,  8,  1,\n",
      "          8,  1,  8,  1,  2,  0,  8,  1,  8,  1,  8,  1,  8,  1,  4,  1,  4,  0,\n",
      "          8,  0,  8,  1,  8,  1,  8,  1,  8,  1,  8,  1,  8,  1, 10,  0,  8,  1,\n",
      "          8,  1,  8,  1,  8,  1,  8,  1, 10,  0,  8,  1,  8,  1,  4,  0,  8,  1,\n",
      "          8,  0, 10,  0,  8,  1,  8,  1,  8,  1, 11,  0, 11,  0,  8,  0,  8,  1,\n",
      "          8,  1,  8,  1,  8,  1,  8,  1,  8,  1,  8,  1,  7,  0,  8,  1,  8,  1,\n",
      "          8,  1,  8,  0,  8,  1,  8,  0,  8,  1,  8,  1,  8,  0,  8,  1,  8,  1,\n",
      "          6,  1,  6,  0,  8,  1,  8,  1,  8,  1,  8,  1, 11,  1,  8,  1,  8,  1,\n",
      "          8,  1, 11,  0,  8,  1,  8,  1,  8,  0,  8,  1,  8,  0,  2,  0,  8,  1]]), Start = tensor([[10,  0, 10,  0,  2,  0,  2,  0,  2,  0,  2,  0,  2,  1,  2,  0, 11,  0,\n",
      "         11,  1,  8,  1,  8,  1,  8,  1,  8,  0,  8,  1,  8,  1,  8,  1,  8,  1,\n",
      "          8,  1,  8,  1,  8,  1,  8,  1,  8,  1,  8,  1,  8,  0,  8,  1,  8,  1,\n",
      "          8,  1,  8,  1,  8,  1,  8,  1,  8,  0,  8,  1,  8,  1,  8,  1,  8,  1,\n",
      "          8,  1,  8,  1,  8,  1,  8,  1,  8,  1,  8,  1,  8,  1,  8,  1,  8,  1,\n",
      "          8,  1,  8,  1,  8,  1,  8,  1,  8,  1,  8,  1,  8,  1,  8,  1,  8,  1,\n",
      "          8,  1,  8,  1,  8,  1,  8,  1,  8,  1,  8,  1,  8,  1,  8,  1,  8,  1,\n",
      "          8,  1,  8,  1,  8,  1,  8,  1,  8,  1,  8,  1,  8,  1,  8,  1,  8,  1,\n",
      "          8,  1,  8,  1,  8,  0,  8,  1,  8,  1,  8,  1,  8,  1,  8,  1,  8,  0,\n",
      "          8,  1,  8,  1,  8,  1,  8,  1,  8,  1,  8,  1,  8,  1,  8,  1,  8,  0,\n",
      "          8,  1,  8,  1,  8,  1,  8,  1,  8,  1,  8,  1,  8,  1,  8,  1,  8,  1]])\n",
      "Predicted: 8 True: 4, Predicted with start: 8\n",
      "\n",
      "Tokens = tensor([[10,  0,  2,  0,  2,  1, 10,  0,  2,  0,  7,  0, 11,  1, 11,  0,  8,  1,\n",
      "          8,  1,  8,  1,  8,  1,  8,  1,  8,  1,  8,  1,  3,  0,  8,  1,  3,  0,\n",
      "          8,  0,  8,  1,  8,  1,  8,  0,  8,  1,  8,  1,  8,  1,  8,  1,  8,  1,\n",
      "          8,  1,  8,  1,  2,  0,  8,  1,  8,  1,  8,  1,  8,  1,  4,  1,  4,  0,\n",
      "          8,  0,  8,  1,  8,  1,  8,  1,  8,  1,  8,  1,  8,  1, 10,  0,  8,  1,\n",
      "          8,  1,  8,  1,  8,  1,  8,  1, 10,  0,  8,  1,  8,  1,  4,  0,  8,  1,\n",
      "          8,  0, 10,  0,  8,  1,  8,  1,  8,  1, 11,  0, 11,  0,  8,  0,  8,  1,\n",
      "          8,  1,  8,  1,  8,  1,  8,  1,  8,  1,  8,  1,  7,  0,  8,  1,  8,  1,\n",
      "          8,  1,  8,  0,  8,  1,  8,  0,  8,  1,  8,  1,  8,  0,  8,  1,  8,  1,\n",
      "          6,  1,  6,  0,  8,  1,  8,  1,  8,  1,  8,  1, 11,  1,  8,  1,  8,  1,\n",
      "          8,  1, 11,  0,  8,  1,  8,  1,  8,  0,  8,  1,  8,  0,  2,  0,  8,  1,\n",
      "          4]]), Start = tensor([[10,  0, 10,  0,  2,  0,  2,  0,  2,  0,  2,  0,  2,  1,  2,  0, 11,  0,\n",
      "         11,  1,  8,  1,  8,  1,  8,  1,  8,  0,  8,  1,  8,  1,  8,  1,  8,  1,\n",
      "          8,  1,  8,  1,  8,  1,  8,  1,  8,  1,  8,  1,  8,  0,  8,  1,  8,  1,\n",
      "          8,  1,  8,  1,  8,  1,  8,  1,  8,  0,  8,  1,  8,  1,  8,  1,  8,  1,\n",
      "          8,  1,  8,  1,  8,  1,  8,  1,  8,  1,  8,  1,  8,  1,  8,  1,  8,  1,\n",
      "          8,  1,  8,  1,  8,  1,  8,  1,  8,  1,  8,  1,  8,  1,  8,  1,  8,  1,\n",
      "          8,  1,  8,  1,  8,  1,  8,  1,  8,  1,  8,  1,  8,  1,  8,  1,  8,  1,\n",
      "          8,  1,  8,  1,  8,  1,  8,  1,  8,  1,  8,  1,  8,  1,  8,  1,  8,  1,\n",
      "          8,  1,  8,  1,  8,  0,  8,  1,  8,  1,  8,  1,  8,  1,  8,  1,  8,  0,\n",
      "          8,  1,  8,  1,  8,  1,  8,  1,  8,  1,  8,  1,  8,  1,  8,  1,  8,  0,\n",
      "          8,  1,  8,  1,  8,  1,  8,  1,  8,  1,  8,  1,  8,  1,  8,  1,  8,  1,\n",
      "          8]])\n",
      "Predicted: 0 True: 1, Predicted with start: 1\n",
      "\n",
      "\n",
      "Final tokens: tensor([[10,  0,  2,  0,  2,  1, 10,  0,  2,  0,  7,  0, 11,  1, 11,  0,  8,  1,\n",
      "          8,  1,  8,  1,  8,  1,  8,  1,  8,  1,  8,  1,  3,  0,  8,  1,  3,  0,\n",
      "          8,  0,  8,  1,  8,  1,  8,  0,  8,  1,  8,  1,  8,  1,  8,  1,  8,  1,\n",
      "          8,  1,  8,  1,  2,  0,  8,  1,  8,  1,  8,  1,  8,  1,  4,  1,  4,  0,\n",
      "          8,  0,  8,  1,  8,  1,  8,  1,  8,  1,  8,  1,  8,  1, 10,  0,  8,  1,\n",
      "          8,  1,  8,  1,  8,  1,  8,  1, 10,  0,  8,  1,  8,  1,  4,  0,  8,  1,\n",
      "          8,  0, 10,  0,  8,  1,  8,  1,  8,  1, 11,  0, 11,  0,  8,  0,  8,  1,\n",
      "          8,  1,  8,  1,  8,  1,  8,  1,  8,  1,  8,  1,  7,  0,  8,  1,  8,  1,\n",
      "          8,  1,  8,  0,  8,  1,  8,  0,  8,  1,  8,  1,  8,  0,  8,  1,  8,  1,\n",
      "          6,  1,  6,  0,  8,  1,  8,  1,  8,  1,  8,  1, 11,  1,  8,  1,  8,  1,\n",
      "          8,  1, 11,  0,  8,  1,  8,  1,  8,  0,  8,  1,  8,  0,  2,  0,  8,  1,\n",
      "          4,  1]])\n",
      "Final start: tensor([[10,  0, 10,  0,  2,  0,  2,  0,  2,  0,  2,  0,  2,  1,  2,  0, 11,  0,\n",
      "         11,  1,  8,  1,  8,  1,  8,  1,  8,  0,  8,  1,  8,  1,  8,  1,  8,  1,\n",
      "          8,  1,  8,  1,  8,  1,  8,  1,  8,  1,  8,  1,  8,  0,  8,  1,  8,  1,\n",
      "          8,  1,  8,  1,  8,  1,  8,  1,  8,  0,  8,  1,  8,  1,  8,  1,  8,  1,\n",
      "          8,  1,  8,  1,  8,  1,  8,  1,  8,  1,  8,  1,  8,  1,  8,  1,  8,  1,\n",
      "          8,  1,  8,  1,  8,  1,  8,  1,  8,  1,  8,  1,  8,  1,  8,  1,  8,  1,\n",
      "          8,  1,  8,  1,  8,  1,  8,  1,  8,  1,  8,  1,  8,  1,  8,  1,  8,  1,\n",
      "          8,  1,  8,  1,  8,  1,  8,  1,  8,  1,  8,  1,  8,  1,  8,  1,  8,  1,\n",
      "          8,  1,  8,  1,  8,  0,  8,  1,  8,  1,  8,  1,  8,  1,  8,  1,  8,  0,\n",
      "          8,  1,  8,  1,  8,  1,  8,  1,  8,  1,  8,  1,  8,  1,  8,  1,  8,  0,\n",
      "          8,  1,  8,  1,  8,  1,  8,  1,  8,  1,  8,  1,  8,  1,  8,  1,  8,  1,\n",
      "          8,  0]])\n"
     ]
    }
   ],
   "source": [
    "# Get one batch of tokens from the test loader\n",
    "#tokens = next(iter(test_loader))\n",
    "# tokens = trajectories_tensor[0, :].unsqueeze(0)\n",
    "# print(tokens.shape)\n",
    "\n",
    "# TO-DO: bug here with probs not lining up with tokens\n",
    "\n",
    "# idx = 103\n",
    "# tokens = trajectories_tensor[idx, :].unsqueeze(0)\n",
    "# probs = probabilities[idx]\n",
    "\n",
    "model.eval()\n",
    "with torch.no_grad():\n",
    "    # Go through tokens from just one to get the predictions\n",
    "    start = tokens[:, :1]\n",
    "    for i in range(tokens.shape[1]-1):\n",
    "        logits = model(tokens[:, :i+1])\n",
    "        logits_with_previous = model(start)\n",
    "        \n",
    "        # Get the next prediction\n",
    "        next_token = logits.argmax(-1)[:, -1]\n",
    "        next_token_with_previous = logits_with_previous.argmax(-1)[:, -1]   \n",
    "        # Get the true next token\n",
    "        true_next_token = tokens[:, i+1]\n",
    "        print(f\"Tokens = {tokens[:, :i+1]}, Start = {start}\")\n",
    "        print(f\"Predicted: {next_token.item()} True: {true_next_token.item()}, Predicted with start: {next_token_with_previous.item()}\\n\")\n",
    "\n",
    "        # Add to start\n",
    "        #if true_next_token > 1:\n",
    "        if (i+1) % 2 == 0:\n",
    "            start = torch.cat([start, next_token.unsqueeze(1)], dim=1)\n",
    "        else:\n",
    "            # Get reward from probs\n",
    "            rand_num = np.random.rand()\n",
    "            # Previous action\n",
    "            prev_action = start[:, -1]\n",
    "            #print(f\"Previous action: {prev_action.item()}\")\n",
    "            reward = 1 if rand_num < probs[prev_action-2] else 0\n",
    "            start = torch.cat([start, torch.tensor([reward]).unsqueeze(0)], dim=1)\n",
    "            #start = torch.cat([start, true_next_token.unsqueeze(1)], dim=1)\n",
    "\n",
    "print()\n",
    "print(f\"Final tokens: {tokens}\")\n",
    "print(f\"Final start: {start}\")"
   ]
  },
  {
   "cell_type": "code",
   "execution_count": 114,
   "metadata": {},
   "outputs": [
    {
     "data": {
      "text/plain": [
       "(85, 70)"
      ]
     },
     "execution_count": 114,
     "metadata": {},
     "output_type": "execute_result"
    }
   ],
   "source": [
    "def evaluate_trajectory(trajectory, original_seq):\n",
    "\n",
    "    # Calculate cumulative reward for both\n",
    "    cumulative_reward = 0\n",
    "    original_cumulative_reward = 0\n",
    "    for i in range(0, len(trajectory), 2):\n",
    "        cumulative_reward += trajectory[i + 1]\n",
    "        original_cumulative_reward += original_seq[i + 1]\n",
    "    \n",
    "    return cumulative_reward, original_cumulative_reward\n",
    "\n",
    "\n",
    "evaluate_trajectory(start.squeeze(0).tolist(), tokens.squeeze(0).tolist())"
   ]
  },
  {
   "cell_type": "code",
   "execution_count": 117,
   "metadata": {},
   "outputs": [
    {
     "name": "stdout",
     "output_type": "stream",
     "text": [
      "Previous action: tensor([ 3,  3,  7, 10,  9,  7,  9,  5, 10,  5,  5,  6, 11,  7, 10,  5,  9, 10,\n",
      "         8,  4,  2,  5,  3,  2,  6,  3,  9,  5,  7,  2, 10,  6])\n"
     ]
    },
    {
     "ename": "RuntimeError",
     "evalue": "Boolean value of Tensor with more than one value is ambiguous",
     "output_type": "error",
     "traceback": [
      "\u001b[0;31m---------------------------------------------------------------------------\u001b[0m",
      "\u001b[0;31mRuntimeError\u001b[0m                              Traceback (most recent call last)",
      "Cell \u001b[0;32mIn[117], line 31\u001b[0m\n\u001b[1;32m     29\u001b[0m             \u001b[38;5;28mprint\u001b[39m(\u001b[38;5;124mf\u001b[39m\u001b[38;5;124m\"\u001b[39m\u001b[38;5;124mPrevious action: \u001b[39m\u001b[38;5;132;01m{\u001b[39;00mprev_action\u001b[38;5;132;01m}\u001b[39;00m\u001b[38;5;124m\"\u001b[39m) \n\u001b[1;32m     30\u001b[0m             \u001b[38;5;66;03m#print(f\"Previous action: {prev_action.item()}\")\u001b[39;00m\n\u001b[0;32m---> 31\u001b[0m             reward \u001b[38;5;241m=\u001b[39m \u001b[38;5;241m1\u001b[39m \u001b[38;5;28;01mif\u001b[39;00m rand_num \u001b[38;5;241m<\u001b[39m probs[prev_action\u001b[38;5;241m-\u001b[39m\u001b[38;5;241m2\u001b[39m] \u001b[38;5;28;01melse\u001b[39;00m \u001b[38;5;241m0\u001b[39m\n\u001b[1;32m     32\u001b[0m             start \u001b[38;5;241m=\u001b[39m torch\u001b[38;5;241m.\u001b[39mcat([start, torch\u001b[38;5;241m.\u001b[39mtensor([reward])], dim\u001b[38;5;241m=\u001b[39m\u001b[38;5;241m1\u001b[39m)\n\u001b[1;32m     33\u001b[0m             \u001b[38;5;66;03m#start = torch.cat([start, true_next_token.unsqueeze(1)], dim=1)\u001b[39;00m\n\u001b[1;32m     34\u001b[0m \n\u001b[1;32m     35\u001b[0m \u001b[38;5;66;03m# print()\u001b[39;00m\n\u001b[1;32m     36\u001b[0m \u001b[38;5;66;03m# print(f\"Final tokens: {tokens}\")\u001b[39;00m\n\u001b[1;32m     37\u001b[0m \u001b[38;5;66;03m# print(f\"Final start: {start}\")\u001b[39;00m\n",
      "\u001b[0;31mRuntimeError\u001b[0m: Boolean value of Tensor with more than one value is ambiguous"
     ]
    }
   ],
   "source": [
    "# Get a random batch from the test loader\n",
    "tokens, probs = next(iter(test_loader))\n",
    "\n",
    "\n",
    "model.eval()\n",
    "with torch.no_grad():\n",
    "    # Go through tokens from just one to get the predictions\n",
    "    start = tokens[:, :1]\n",
    "    for i in range(tokens.shape[1]-1):\n",
    "        logits = model(tokens[:, :i+1])\n",
    "        logits_with_previous = model(start)\n",
    "        \n",
    "        # Get the next prediction\n",
    "        next_token = logits.argmax(-1)[:, -1]\n",
    "        next_token_with_previous = logits_with_previous.argmax(-1)[:, -1]   \n",
    "        # Get the true next token\n",
    "        true_next_token = tokens[:, i+1]\n",
    "        #print(f\"Tokens = {tokens[:, :i+1]}, Start = {start}\")\n",
    "        #print(f\"Predicted: {next_token.item()} True: {true_next_token.item()}, Predicted with start: {next_token_with_previous.item()}\\n\")\n",
    "\n",
    "        # Add to start\n",
    "        if (i+1) % 2 == 0:\n",
    "            start = torch.cat([start, next_token], dim=1)\n",
    "        else:\n",
    "            # Get reward from probs\n",
    "            rand_num = np.random.rand()\n",
    "            # Previous action\n",
    "            prev_action = start[:, -1]\n",
    "            print(f\"Previous action: {prev_action}\") \n",
    "            reward = 1 if rand_num < probs[prev_action-2] else 0\n",
    "            start = torch.cat([start, torch.tensor([reward])], dim=1)\n",
    "            #start = torch.cat([start, true_next_token.unsqueeze(1)], dim=1)\n",
    "\n",
    "# print()\n",
    "# print(f\"Final tokens: {tokens}\")\n",
    "# print(f\"Final start: {start}\")"
   ]
  },
  {
   "cell_type": "code",
   "execution_count": 118,
   "metadata": {},
   "outputs": [],
   "source": [
    "prev_action = torch.tensor([3,  3,  7, 10,  9,  7,  9,  5, 10,  5,  5,  6, 11,  7, 10,  5,  9, 10, \n",
    "                            8,  4,  2,  5,  3,  2,  6,  3,  9,  5,  7,  2, 10,  6])"
   ]
  },
  {
   "cell_type": "code",
   "execution_count": 624,
   "metadata": {},
   "outputs": [
    {
     "name": "stdout",
     "output_type": "stream",
     "text": [
      "[0.1 0.1 0.1 0.9 0.1 0.1 0.9 0.1 0.1 0.1]\n",
      "3\n",
      "0\n",
      "torch.Size([1, 2, 12])\n",
      "tensor([[-2.0954, -2.1159,  0.5268,  0.6583,  0.6008,  0.4590,  1.0056,  0.2833,\n",
      "          0.4402,  0.5252,  1.1907,  0.3881]])\n",
      "torch.Size([1, 4, 12])\n",
      "tensor([[-1.9039, -2.6054,  0.7114,  0.8786,  0.6053,  0.9363,  0.8407,  0.3091,\n",
      "          0.7437,  0.5741,  1.3829,  0.6372]])\n",
      "torch.Size([1, 6, 12])\n",
      "tensor([[-2.5277, -3.2695,  0.7161,  1.3218,  0.9452,  1.0653,  0.9351,  0.3008,\n",
      "          0.9261,  0.6255,  1.9129,  0.7582]])\n",
      "torch.Size([1, 8, 12])\n",
      "tensor([[-2.3159, -3.6037,  0.9554,  1.4340,  0.9950,  1.3485,  0.9444,  0.2678,\n",
      "          0.7177,  0.4380,  2.2705,  0.5800]])\n",
      "torch.Size([1, 10, 12])\n",
      "tensor([[-1.9962, -3.2587,  0.5809,  1.2515,  0.8739,  1.0422,  0.6572,  0.2181,\n",
      "          0.6376,  0.9095,  2.4841,  0.6176]])\n",
      "torch.Size([1, 12, 12])\n",
      "tensor([[-1.9197, -3.2313,  0.7977,  1.3682,  0.8981,  0.7755,  0.4315, -0.1561,\n",
      "          0.7240,  0.5988,  2.5332,  0.5654]])\n",
      "torch.Size([1, 14, 12])\n",
      "tensor([[-2.3106, -3.3401,  0.7551,  1.4109,  0.9103,  0.9907,  0.5768,  0.0665,\n",
      "          0.8139,  0.6793,  2.4204,  0.7263]])\n",
      "torch.Size([1, 16, 12])\n",
      "tensor([[-1.8547, -2.7134,  0.6994,  1.3095,  0.5184,  0.9010,  0.4011,  0.0787,\n",
      "          0.7299,  0.6211,  2.4451,  0.3649]])\n",
      "torch.Size([1, 18, 12])\n",
      "tensor([[-1.8693, -2.9442,  0.7775,  1.2958,  0.8983,  0.6808,  0.2766, -0.0965,\n",
      "          0.5474,  0.5776,  2.7571,  0.4007]])\n",
      "torch.Size([1, 20, 12])\n",
      "tensor([[-1.9449, -3.0674,  0.7023,  1.0808,  1.0639,  0.9092,  0.2821, -0.2160,\n",
      "          0.7665,  0.4291,  2.6505,  0.4255]])\n",
      "torch.Size([1, 22, 12])\n",
      "tensor([[-2.2345, -2.7488,  0.7560,  1.1015,  0.8386,  0.5537,  0.3567,  0.0234,\n",
      "          0.7684,  0.7275,  2.6869,  0.1066]])\n",
      "torch.Size([1, 24, 12])\n",
      "tensor([[-1.7264, -2.6267,  0.7195,  1.1485,  0.5656,  0.6924,  0.3159, -0.1650,\n",
      "          0.4826,  0.5035,  2.5888,  0.1509]])\n",
      "torch.Size([1, 26, 12])\n",
      "tensor([[-2.1515, -2.8150,  0.7359,  1.2208,  0.8354,  0.9731,  0.3949, -0.1363,\n",
      "          0.8948,  0.7972,  2.4316,  0.3856]])\n",
      "torch.Size([1, 28, 12])\n",
      "tensor([[-1.7168, -2.6065,  0.5899,  1.0592,  0.5982,  0.6179,  0.2512, -0.0987,\n",
      "          0.7504,  0.4548,  2.6918,  0.3267]])\n",
      "torch.Size([1, 30, 12])\n",
      "tensor([[-1.5267, -2.4757,  0.4168,  1.2587,  0.4490,  1.0176,  0.4554, -0.2210,\n",
      "          0.6686,  0.5706,  2.4694,  0.4109]])\n",
      "torch.Size([1, 32, 12])\n",
      "tensor([[-1.0042, -2.4756,  0.1602,  1.1786,  0.5392,  1.0579,  0.2602, -0.4241,\n",
      "          0.9015,  0.3285,  2.4193,  0.2266]])\n",
      "torch.Size([1, 34, 12])\n",
      "tensor([[-1.4004, -2.1998,  0.8172,  1.0034,  0.3164,  0.6682,  0.1726, -0.3492,\n",
      "          0.7487,  0.5929,  2.6219,  0.0408]])\n",
      "torch.Size([1, 36, 12])\n",
      "tensor([[-1.2288, -2.5070,  0.5605,  0.7119,  0.5297,  1.0449,  0.1124, -0.3916,\n",
      "          0.9072,  0.3312,  2.6858, -0.0814]])\n",
      "torch.Size([1, 38, 12])\n",
      "tensor([[-1.7416, -2.1405,  0.7252,  1.1432,  0.4851,  1.0489, -0.1422, -0.1919,\n",
      "          0.5703,  0.5178,  2.3011,  0.0248]])\n",
      "torch.Size([1, 40, 12])\n",
      "tensor([[-1.8882, -2.3657,  0.7607,  0.8742,  0.4226,  0.8937,  0.0870, -0.2537,\n",
      "          0.7725,  0.7301,  2.4538, -0.0778]])\n",
      "torch.Size([1, 42, 12])\n",
      "tensor([[-1.2007, -2.3791,  0.5200,  0.9084,  0.5068,  1.0397,  0.1662, -0.2880,\n",
      "          1.0912,  0.5525,  2.5091, -0.0922]])\n",
      "torch.Size([1, 44, 12])\n",
      "tensor([[-0.9540, -1.8432,  0.5679,  0.9673,  0.2089,  0.7733,  0.2509, -0.3059,\n",
      "          0.4171,  0.3486,  2.4483,  0.0515]])\n",
      "torch.Size([1, 46, 12])\n",
      "tensor([[ 0.2581, -1.9684, -0.0273,  0.3182,  0.5149,  0.4166,  0.6836, -0.6973,\n",
      "         -0.1694,  0.2242,  0.9655, -0.7217]])\n",
      "torch.Size([1, 48, 12])\n",
      "tensor([[-1.8769, -2.2316,  0.7732,  0.6859,  0.4545,  0.8145,  0.3979, -0.4127,\n",
      "          0.9385,  0.5338,  2.4674,  0.0039]])\n",
      "torch.Size([1, 50, 12])\n",
      "tensor([[-1.4660, -2.3725,  0.6322,  0.7718,  0.3438,  1.0405,  0.4917, -0.2820,\n",
      "          0.8031,  0.4357,  2.6743, -0.2060]])\n",
      "torch.Size([1, 52, 12])\n",
      "tensor([[-1.3183, -2.1071,  0.4645,  0.7261,  0.3490,  1.2103,  0.0663, -0.4934,\n",
      "          0.5993,  0.3854,  2.2596, -0.0856]])\n",
      "torch.Size([1, 54, 12])\n",
      "tensor([[-1.6801, -2.6103,  0.6937,  1.0377,  0.2571,  1.2162,  0.5240, -0.2583,\n",
      "          0.8630,  0.5281,  2.5879, -0.0532]])\n",
      "torch.Size([1, 56, 12])\n",
      "tensor([[-1.6804, -2.8028,  0.4949,  0.8746,  0.8007,  1.2544,  0.1564, -0.0254,\n",
      "          1.0817,  0.4647,  2.5890,  0.1834]])\n",
      "torch.Size([1, 58, 12])\n",
      "tensor([[-1.0202, -2.5546,  0.2458,  0.7922,  0.6370,  1.2740, -0.0540, -0.3320,\n",
      "          1.1689,  0.4811,  2.5515,  0.1075]])\n",
      "torch.Size([1, 60, 12])\n",
      "tensor([[-1.5427, -2.1070,  0.4899,  0.8045,  0.4840,  0.8717,  0.0097, -0.2583,\n",
      "          0.8590,  0.5278,  2.5320, -0.2092]])\n",
      "torch.Size([1, 62, 12])\n",
      "tensor([[-2.1297, -1.7769,  0.9055,  1.2055,  0.0532,  0.7480,  0.3202, -0.1648,\n",
      "          0.4599,  0.4049,  2.7965, -0.2537]])\n",
      "torch.Size([1, 64, 12])\n",
      "tensor([[-1.8858, -2.2339,  0.5214,  0.8121,  0.3485,  0.9955,  0.2121, -0.0654,\n",
      "          0.8105,  0.4200,  2.5534, -0.1465]])\n",
      "torch.Size([1, 66, 12])\n",
      "tensor([[-1.5260, -2.6450,  0.6054,  0.7093,  0.6141,  1.0346,  0.4767, -0.0163,\n",
      "          1.1126,  0.4491,  2.5957, -0.1457]])\n",
      "torch.Size([1, 68, 12])\n",
      "tensor([[-1.6402, -2.1488,  0.4257,  0.9670,  0.4982,  0.8899,  0.3041, -0.0272,\n",
      "          0.6582,  0.5227,  2.5604, -0.3762]])\n",
      "torch.Size([1, 70, 12])\n",
      "tensor([[-1.2222, -2.6126,  0.5571,  0.7970,  0.5920,  1.3513,  0.1690, -0.4026,\n",
      "          0.9297,  0.4337,  2.5169, -0.1419]])\n",
      "torch.Size([1, 72, 12])\n",
      "tensor([[-1.8782, -1.9405,  0.7363,  0.7332,  0.2977,  0.7353,  0.2010, -0.4223,\n",
      "          0.1049,  0.2560,  2.4256, -0.5899]])\n",
      "torch.Size([1, 74, 12])\n",
      "tensor([[-1.2417, -2.6400,  0.8234,  0.7820,  0.6609,  1.0776,  0.2606, -0.2173,\n",
      "          0.9494,  0.3238,  2.5668, -0.3104]])\n",
      "torch.Size([1, 76, 12])\n",
      "tensor([[-1.0898, -2.1372,  0.5810,  0.6940,  0.3789,  1.0101,  0.1925, -0.2304,\n",
      "          0.8989,  0.2037,  2.3692, -0.2040]])\n",
      "torch.Size([1, 78, 12])\n",
      "tensor([[ 0.4996, -1.9412,  0.0731, -0.0377,  0.1882,  0.5946,  0.4070, -0.6423,\n",
      "          0.3904, -0.1222,  1.8298, -0.4681]])\n",
      "torch.Size([1, 80, 12])\n",
      "tensor([[-0.0643, -1.4286, -0.1715,  0.4175,  0.3193,  0.4059,  0.2671, -0.8024,\n",
      "         -0.2994,  0.2989,  1.4360, -0.7655]])\n",
      "torch.Size([1, 82, 12])\n",
      "tensor([[-1.7544, -2.3263,  0.7650,  0.8425,  0.4510,  0.7740,  0.2385, -0.4675,\n",
      "          0.9788,  0.3254,  2.6292, -0.1277]])\n",
      "torch.Size([1, 84, 12])\n",
      "tensor([[-1.4733, -2.2129,  0.4761,  1.0276,  0.2555,  1.2569,  0.3718, -0.3762,\n",
      "          0.6285,  0.3501,  2.2699, -0.2424]])\n",
      "torch.Size([1, 86, 12])\n",
      "tensor([[-1.3970, -2.2183,  0.1179,  1.0094,  0.4784,  1.0771,  0.3626, -0.3273,\n",
      "          0.9118,  0.7219,  2.3056, -0.1215]])\n",
      "torch.Size([1, 88, 12])\n",
      "tensor([[-1.5214, -1.8954,  0.5498,  0.7083,  0.2886,  0.8589,  0.1035, -0.1933,\n",
      "          1.0014,  0.3261,  2.4566, -0.1534]])\n",
      "torch.Size([1, 90, 12])\n",
      "tensor([[ 0.8731, -1.7224, -0.1417, -0.2064,  0.3757,  0.5495,  0.3314, -0.5232,\n",
      "          0.1376,  0.1868,  0.9130, -1.0327]])\n",
      "torch.Size([1, 92, 12])\n",
      "tensor([[-1.9398, -1.7681,  0.7206,  0.9498,  0.0772,  0.6708,  0.1932,  0.0411,\n",
      "          0.5239,  0.3891,  2.7002, -0.0585]])\n",
      "torch.Size([1, 94, 12])\n",
      "tensor([[ 0.4898, -1.6445,  0.1570,  0.2616,  0.4790,  0.3748, -0.0417, -0.4755,\n",
      "          0.5398, -0.0823,  1.7803, -0.8191]])\n",
      "torch.Size([1, 96, 12])\n",
      "tensor([[-1.3023, -1.8673,  0.6541,  0.8686,  0.0399,  0.5680,  0.4735, -0.1930,\n",
      "          0.7028,  0.1534,  2.3830, -0.1471]])\n",
      "torch.Size([1, 98, 12])\n",
      "tensor([[-1.9803, -2.2779,  0.6090,  0.7992,  0.4485,  0.8589,  0.3995, -0.2141,\n",
      "          1.0489,  0.4948,  2.6258,  0.2553]])\n",
      "torch.Size([1, 100, 12])\n",
      "tensor([[-1.5709, -2.0467,  0.5344,  0.9363,  0.4990,  0.9177,  0.1782, -0.3975,\n",
      "          0.7598,  0.1843,  2.5024, -0.2573]])\n",
      "torch.Size([1, 102, 12])\n",
      "tensor([[-1.8765, -2.5780,  0.7309,  1.0981,  0.5036,  1.2404,  0.3347, -0.1099,\n",
      "          1.1840,  0.3924,  2.5945,  0.0951]])\n",
      "torch.Size([1, 104, 12])\n",
      "tensor([[-1.6534, -2.1488,  0.6499,  0.7674,  0.2327,  0.7894,  0.1506, -0.2338,\n",
      "          0.8037,  0.4622,  2.6830, -0.1302]])\n",
      "torch.Size([1, 106, 12])\n",
      "tensor([[-2.3056, -1.5298,  0.8680,  0.5426, -0.2463,  0.6277,  0.3631, -0.1477,\n",
      "          0.6520,  0.3014,  2.7410, -0.3047]])\n",
      "torch.Size([1, 108, 12])\n",
      "tensor([[-1.3104, -2.4838,  0.6032,  0.9572,  0.5278,  1.0474,  0.2281, -0.5983,\n",
      "          0.8152,  0.1890,  2.5210,  0.0683]])\n",
      "torch.Size([1, 110, 12])\n",
      "tensor([[-0.8940, -2.3255,  0.5796,  0.8532,  0.2215,  1.4987,  0.3953, -0.4810,\n",
      "          0.8270,  0.3027,  2.2748,  0.1086]])\n",
      "torch.Size([1, 112, 12])\n",
      "tensor([[-1.2022, -1.7520,  0.2417,  1.0968, -0.0613,  1.1577,  0.4822, -0.4596,\n",
      "          0.6222,  0.2830,  2.1098, -0.4465]])\n",
      "torch.Size([1, 114, 12])\n",
      "tensor([[-1.5698, -2.0135,  0.6251,  0.9542,  0.4697,  0.9063,  0.5122, -0.2719,\n",
      "          0.6399,  0.3834,  2.4215, -0.2381]])\n",
      "torch.Size([1, 116, 12])\n",
      "tensor([[-0.7869, -2.1590,  0.2649,  0.5895,  0.3852,  1.3295,  0.1479, -0.3473,\n",
      "          1.0763,  0.3105,  1.9928, -0.0385]])\n",
      "torch.Size([1, 118, 12])\n",
      "tensor([[-1.3763, -1.9709,  0.7918,  0.6506,  0.1981,  1.1012,  0.3117, -0.0911,\n",
      "          1.0883,  0.2957,  2.3668, -0.1345]])\n",
      "torch.Size([1, 120, 12])\n",
      "tensor([[-1.1826, -1.8939,  0.3262,  0.6932,  0.2232,  1.1210,  0.1786, -0.5691,\n",
      "          0.7948,  0.4986,  2.4030, -0.0161]])\n",
      "torch.Size([1, 122, 12])\n",
      "tensor([[-1.6875, -2.0587,  0.8771,  1.1775,  0.1398,  1.1051,  0.2562, -0.0670,\n",
      "          0.5363,  0.2145,  2.4436, -0.0059]])\n",
      "torch.Size([1, 124, 12])\n",
      "tensor([[-1.5282, -1.5409,  0.7183,  1.0447,  0.1566,  0.7279,  0.2557, -0.5370,\n",
      "          0.6659,  0.0444,  2.4084, -0.4419]])\n",
      "torch.Size([1, 126, 12])\n",
      "tensor([[-1.2641, -1.8622,  0.7146,  0.8510,  0.0514,  0.8287,  0.3374, -0.5057,\n",
      "          0.5681,  0.4078,  2.4566, -0.3717]])\n",
      "torch.Size([1, 128, 12])\n",
      "tensor([[-1.5437, -2.1480,  0.6883,  1.1465,  0.1720,  1.1172,  0.4635, -0.3191,\n",
      "          0.8190,  0.2068,  2.5271, -0.4589]])\n",
      "torch.Size([1, 130, 12])\n",
      "tensor([[-1.9585, -1.9679,  0.6910,  0.1383,  0.3577,  0.9161,  0.3393, -0.0607,\n",
      "          1.0116,  0.3689,  2.3209, -0.4346]])\n",
      "torch.Size([1, 132, 12])\n",
      "tensor([[-1.2094, -2.3898,  0.6733,  1.0457,  0.4615,  1.3830,  0.3546, -0.2989,\n",
      "          1.0547,  0.2908,  2.2689, -0.2148]])\n",
      "torch.Size([1, 134, 12])\n",
      "tensor([[-0.9292, -2.3100,  0.7788,  1.0568,  0.2180,  1.1846,  0.3625, -0.4611,\n",
      "          0.8261,  0.2099,  2.4430, -0.0824]])\n",
      "torch.Size([1, 136, 12])\n",
      "tensor([[-1.4489, -2.0710,  0.6825,  0.8821,  0.1825,  1.0827,  0.3253, -0.3650,\n",
      "          0.9747,  0.1799,  2.4758, -0.1060]])\n",
      "torch.Size([1, 138, 12])\n",
      "tensor([[-1.3020e+00, -2.0123e+00,  4.7070e-01,  8.2397e-01, -4.4129e-04,\n",
      "          1.2565e+00,  6.2579e-01, -2.4184e-01,  8.2908e-01,  2.3612e-01,\n",
      "          2.2500e+00, -2.5801e-01]])\n",
      "torch.Size([1, 140, 12])\n",
      "tensor([[-1.5152, -2.0481,  0.7171,  1.0039,  0.0793,  1.0673,  0.2710, -0.2719,\n",
      "          0.8371,  0.3410,  2.3930, -0.1295]])\n",
      "torch.Size([1, 142, 12])\n",
      "tensor([[-1.1001, -1.5477,  0.7553,  0.7845, -0.1619,  0.7131,  0.3370, -0.4177,\n",
      "          0.4685,  0.4003,  2.1994, -0.6574]])\n",
      "torch.Size([1, 144, 12])\n",
      "tensor([[-1.6364, -2.2172,  0.6199,  0.9679,  0.1992,  1.3018,  0.4613, -0.2681,\n",
      "          0.7897,  0.4950,  2.1214, -0.3420]])\n",
      "torch.Size([1, 146, 12])\n",
      "tensor([[-1.0666, -2.0650,  0.6461,  0.6867,  0.1282,  1.2924,  0.2229, -0.5631,\n",
      "          0.8723,  0.4419,  2.2033, -0.2502]])\n",
      "torch.Size([1, 148, 12])\n",
      "tensor([[-0.5027, -1.8479,  0.5825,  0.9415,  0.2929,  0.9691,  0.0221, -0.5409,\n",
      "          0.8578,  0.2556,  2.0948, -0.1360]])\n",
      "torch.Size([1, 150, 12])\n",
      "tensor([[ 1.2430e+00, -1.6387e+00, -1.0461e-03,  3.7856e-02, -2.3699e-02,\n",
      "          8.9902e-01,  3.7580e-01, -4.7828e-01, -7.9356e-02, -4.1922e-03,\n",
      "          1.1055e+00, -1.0166e+00]])\n",
      "torch.Size([1, 152, 12])\n",
      "tensor([[ 1.1150, -1.5074, -0.3842, -0.0227,  0.1220,  0.6161,  0.4293, -0.9203,\n",
      "         -0.1006,  0.1514,  0.8966, -1.0370]])\n",
      "torch.Size([1, 154, 12])\n",
      "tensor([[-0.6580, -2.0112,  0.4866,  0.8689,  0.0187,  1.1882,  0.1960, -0.3948,\n",
      "          0.8776,  0.2971,  1.8697, -0.3080]])\n",
      "torch.Size([1, 156, 12])\n",
      "tensor([[-1.8677, -2.0948,  0.7383,  1.0874,  0.0557,  0.9837,  0.5812, -0.1494,\n",
      "          0.6792,  0.1840,  2.5167, -0.1759]])\n",
      "torch.Size([1, 158, 12])\n",
      "tensor([[-1.1680, -1.6070,  0.6589,  0.6916,  0.0273,  0.8030,  0.4297, -0.6968,\n",
      "          0.7379,  0.1352,  2.1068, -0.1337]])\n",
      "torch.Size([1, 160, 12])\n",
      "tensor([[-1.2817, -1.8266,  0.4961,  0.9598,  0.1454,  1.0314,  0.4389, -0.4874,\n",
      "          0.7337,  0.0139,  2.4143, -0.3406]])\n",
      "torch.Size([1, 162, 12])\n",
      "tensor([[-1.6809, -1.9990,  0.8417,  0.6678,  0.3489,  1.0586,  0.3448, -0.3381,\n",
      "          0.8797,  0.3705,  2.2424, -0.2735]])\n",
      "torch.Size([1, 164, 12])\n",
      "tensor([[-1.3634, -2.0064,  0.7550,  0.0404,  0.5317,  0.8575,  0.2691, -0.5199,\n",
      "          0.5058,  0.0199,  2.3744, -0.3177]])\n",
      "torch.Size([1, 166, 12])\n",
      "tensor([[ 1.1179, -1.5997, -0.2994, -0.1209,  0.0276,  0.5379,  0.5513, -0.9405,\n",
      "         -0.0578,  0.1114,  1.0822, -0.9674]])\n",
      "torch.Size([1, 168, 12])\n",
      "tensor([[-1.1458, -2.0459,  0.5873,  0.8145,  0.0357,  0.8699,  0.6506, -0.3025,\n",
      "          0.7065,  0.3855,  2.3206, -0.1311]])\n",
      "torch.Size([1, 170, 12])\n",
      "tensor([[ 0.3763, -1.6069,  0.1097,  0.2439,  0.1024,  0.7412,  0.8052, -0.9187,\n",
      "          0.1703,  0.2775,  1.0024, -0.7101]])\n",
      "torch.Size([1, 172, 12])\n",
      "tensor([[-1.1246e+00, -1.6419e+00,  6.9384e-01,  1.0773e+00, -8.2246e-04,\n",
      "          9.6451e-01,  5.3403e-01, -2.6571e-01,  8.6332e-01,  3.1088e-01,\n",
      "          1.9673e+00, -3.8212e-01]])\n",
      "torch.Size([1, 174, 12])\n",
      "tensor([[-0.7617, -2.2440,  0.4517,  0.8540,  0.2135,  1.1432,  0.4863, -0.1581,\n",
      "          1.2471,  0.1427,  1.9785, -0.0816]])\n",
      "torch.Size([1, 176, 12])\n",
      "tensor([[-1.6603, -1.7861,  0.5356,  0.8687,  0.1419,  0.9556,  0.4379, -0.5349,\n",
      "          0.8387,  0.4587,  2.2879, -0.2555]])\n",
      "torch.Size([1, 178, 12])\n",
      "tensor([[-1.3050, -2.1775,  0.5021,  0.7142,  0.1563,  1.1945,  0.5761, -0.2088,\n",
      "          0.7905,  0.4558,  2.4010, -0.2328]])\n",
      "torch.Size([1, 180, 12])\n",
      "tensor([[-1.7366, -2.0388,  0.9434,  0.7529,  0.2063,  0.8937,  0.3661, -0.2918,\n",
      "          0.7886,  0.3453,  2.4006, -0.1188]])\n",
      "torch.Size([1, 182, 12])\n",
      "tensor([[-1.2363, -1.8066,  0.4892,  0.7126, -0.1926,  1.1053,  0.5861, -0.4310,\n",
      "          0.7426,  0.1343,  2.3142, -0.1623]])\n",
      "torch.Size([1, 184, 12])\n",
      "tensor([[-1.0579, -1.2539,  0.6984,  0.6606, -0.1824,  0.4267,  0.3494, -0.5365,\n",
      "          0.8602,  0.1588,  2.1920, -0.2799]])\n",
      "torch.Size([1, 186, 12])\n",
      "tensor([[-0.7436, -1.5128,  0.3246,  0.5850, -0.2017,  1.1117,  0.6482, -0.6090,\n",
      "          0.5992, -0.0907,  2.0587, -0.5398]])\n",
      "torch.Size([1, 188, 12])\n",
      "tensor([[-1.3993, -1.9717,  0.6640,  1.0485,  0.1032,  0.8851,  0.5377, -0.2748,\n",
      "          0.8509,  0.1532,  2.3290, -0.2853]])\n",
      "torch.Size([1, 190, 12])\n",
      "tensor([[-1.3352, -2.0002,  0.6519,  0.9315,  0.1201,  1.2583,  0.3722, -0.5039,\n",
      "          0.5487,  0.3481,  1.9990, -0.3566]])\n",
      "torch.Size([1, 192, 12])\n",
      "tensor([[-2.0918, -2.3360,  0.9109,  1.1148,  0.3821,  0.9963,  0.6227, -0.1466,\n",
      "          1.1209,  0.4197,  2.3231, -0.2094]])\n",
      "torch.Size([1, 194, 12])\n",
      "tensor([[-0.7672, -1.8457,  0.4590,  0.4464,  0.2907,  1.2494,  0.1450, -0.8316,\n",
      "          0.5666,  0.0778,  1.8225, -0.2494]])\n",
      "torch.Size([1, 196, 12])\n",
      "tensor([[-1.2621, -2.0190,  0.8478,  0.7698,  0.0451,  1.2876,  0.4113, -0.5807,\n",
      "          0.8833,  0.0447,  2.1285, -0.2500]])\n",
      "torch.Size([1, 198, 12])\n",
      "tensor([[ 1.4287, -1.8587,  0.2429,  0.1672,  0.0936,  0.5597,  0.1631, -0.5921,\n",
      "          0.0320, -0.1412,  1.0687, -0.9789]])\n"
     ]
    },
    {
     "data": {
      "text/plain": [
       "tensor([[10,  0, 10,  0, 10,  0, 10,  0, 10,  0, 10,  0, 10,  0, 10,  0, 10,  0,\n",
       "         10,  0, 10,  0, 10,  0, 10,  0, 10,  0, 10,  0, 10,  0, 10,  0, 10,  0,\n",
       "         10,  0, 10,  0, 10,  0, 10,  0, 10,  1, 10,  0, 10,  0, 10,  0, 10,  0,\n",
       "         10,  0, 10,  0, 10,  0, 10,  0, 10,  0, 10,  0, 10,  0, 10,  0, 10,  0,\n",
       "         10,  0, 10,  0, 10,  1, 10,  1, 10,  0, 10,  0, 10,  0, 10,  0, 10,  1,\n",
       "         10,  0, 10,  1, 10,  0, 10,  0, 10,  0, 10,  0, 10,  0, 10,  0, 10,  0,\n",
       "         10,  0, 10,  0, 10,  0, 10,  0, 10,  0, 10,  0, 10,  0, 10,  0, 10,  0,\n",
       "         10,  0, 10,  0, 10,  0, 10,  0, 10,  0, 10,  0, 10,  0, 10,  0, 10,  0,\n",
       "         10,  0, 10,  0, 10,  1,  0,  1,  0,  0, 10,  0, 10,  0, 10,  0, 10,  0,\n",
       "         10,  0, 10,  1,  0,  0, 10,  1, 10,  0, 10,  0, 10,  0, 10,  0, 10,  0,\n",
       "         10,  0, 10,  0, 10,  0, 10,  0, 10,  0, 10,  0, 10,  0, 10,  0, 10,  1,\n",
       "          0,  0]])"
      ]
     },
     "execution_count": 624,
     "metadata": {},
     "output_type": "execute_result"
    }
   ],
   "source": [
    "import numpy as np\n",
    "import torch\n",
    "\n",
    "def create_bandit_environment(n_arms=10, high_prob_indices=2, high_prob=0.9, low_prob=0.1):\n",
    "    \"\"\"Creates a multi-armed bandit environment with specified probabilities.\"\"\"\n",
    "    prob_high_value = np.ones(n_arms) * low_prob\n",
    "    indices = np.random.choice(n_arms, high_prob_indices, replace=False)\n",
    "    prob_high_value[indices] = high_prob\n",
    "    return prob_high_value\n",
    "\n",
    "def generate_reward(prob_high_value, arm, high_value=10, low_value=1):\n",
    "    \"\"\"Generates a reward based on the probability distribution of the bandit.\"\"\"\n",
    "    if np.random.random() < prob_high_value[arm]:\n",
    "        return high_value\n",
    "    else:\n",
    "        return low_value\n",
    "\n",
    "def predict_next_action(model, start, num_steps, prob_high_value, high_value=10, low_value=1):\n",
    "    \"\"\"Predicts the next action using the model and updates the trajectory accordingly.\"\"\"\n",
    "    trajectory = start\n",
    "\n",
    "    with torch.no_grad():\n",
    "        for _ in range(num_steps):\n",
    "            # Predict next action using the model\n",
    "            model.eval()\n",
    "            logits = model(trajectory)\n",
    "            print(logits.shape)\n",
    "            print(logits[:, -1, :])\n",
    "            next_action = logits[:, -1, :].argmax(-1)\n",
    "            # Multinomial sample from logits\n",
    "            #next_action = torch.multinomial(logits[:, -1, :].softmax(-1), num_samples=1)\n",
    "\n",
    "            # Get the reward based on the predicted action\n",
    "            reward = generate_reward(prob_high_value, next_action.item()-2, high_value, low_value)\n",
    "            reward_token = 0 if reward == low_value else 1\n",
    "\n",
    "            # Update trajectory with action and reward\n",
    "            trajectory = torch.cat([trajectory, torch.tensor([[next_action, reward_token]])], dim=1)\n",
    "    \n",
    "    return trajectory\n",
    "\n",
    "# Example usage\n",
    "n_arms = 10\n",
    "prob_high_value = create_bandit_environment(n_arms)\n",
    "print(prob_high_value)\n",
    "rand_start_choice = np.random.randint(0, n_arms) + 2\n",
    "print(rand_start_choice)\n",
    "rand_start_reward = generate_reward(prob_high_value, rand_start_choice-2)\n",
    "rand_start_reward = 0 if rand_start_reward == 1 else 1\n",
    "print(rand_start_reward)\n",
    "start = test_trajectory[:, :2] #torch.tensor([[rand_start_choice, rand_start_reward]])  # Example starting guess and reward\n",
    "num_steps = 99\n",
    "\n",
    "# Assuming 'model' is a trained transformer model\n",
    "generated_trajectory = predict_next_action(model, start, num_steps, prob_high_value)\n",
    "\n",
    "# The final generated trajectory will be in 'generated_trajectory'\n",
    "generated_trajectory"
   ]
  },
  {
   "cell_type": "code",
   "execution_count": 625,
   "metadata": {},
   "outputs": [],
   "source": [
    "def loss_fn(logits, tokens, per_token=False):\n",
    "    # logit shape: [batch, pos, vocab]\n",
    "    # token shape: [batch, pos]\n",
    "\n",
    "\n",
    "    # logits = logits[:, 1:]\n",
    "    # tokens = tokens[:, :-1].long()\n",
    "    logits = logits[:, :-1, :]\n",
    "    tokens = tokens[:, 1:].long()\n",
    "    log_probs = logits.log_softmax(-1)\n",
    "    correct_log_probs = log_probs.gather(-1, tokens[..., None])[..., 0]\n",
    "    if per_token:\n",
    "        return -correct_log_probs\n",
    "    else:\n",
    "        return -correct_log_probs.mean()"
   ]
  },
  {
   "cell_type": "code",
   "execution_count": 97,
   "metadata": {},
   "outputs": [],
   "source": [
    "test_trajectory, _ = next(iter(test_loader))\n",
    "test_trajectory = test_trajectory[0, :].unsqueeze(0)"
   ]
  },
  {
   "cell_type": "code",
   "execution_count": 102,
   "metadata": {},
   "outputs": [
    {
     "data": {
      "application/vnd.plotly.v1+json": {
       "config": {
        "plotlyServerURL": "https://plot.ly"
       },
       "data": [
        {
         "hovertemplate": "variable=0<br>index=%{x}<br>value=%{y}<extra></extra>",
         "legendgroup": "0",
         "line": {
          "color": "#636efa",
          "dash": "solid"
         },
         "marker": {
          "symbol": "circle"
         },
         "mode": "lines",
         "name": "0",
         "orientation": "v",
         "showlegend": true,
         "text": [
          3,
          0,
          7,
          1,
          4,
          1,
          5,
          0,
          4,
          0,
          7,
          0,
          4,
          1,
          4,
          1,
          4,
          1,
          4,
          1,
          4,
          1,
          4,
          0,
          6,
          1,
          6,
          1,
          4,
          1,
          6,
          1,
          6,
          1,
          2,
          0,
          10,
          0,
          6,
          0,
          6,
          1,
          6,
          1,
          10,
          0,
          6,
          0,
          4,
          1,
          4,
          1,
          4,
          1,
          4,
          1,
          4,
          1,
          2,
          0,
          4,
          1,
          4,
          1,
          4,
          1,
          3,
          0,
          4,
          1,
          4,
          1,
          4,
          1,
          7,
          0,
          4,
          1,
          6,
          1,
          4,
          1,
          10,
          0,
          4,
          1,
          4,
          1,
          4,
          1,
          10,
          0,
          4,
          1,
          4,
          1,
          3,
          0,
          4,
          1,
          4,
          1,
          10,
          0,
          10,
          0,
          4,
          1,
          4,
          1,
          4,
          1,
          4,
          1,
          5,
          0,
          4,
          1,
          4,
          1,
          4,
          1,
          10,
          0,
          4,
          1,
          4,
          1,
          6,
          1,
          4,
          1,
          4,
          0,
          4,
          0,
          4,
          1,
          4,
          1,
          4,
          1,
          9,
          0,
          4,
          0,
          8,
          0,
          4,
          1,
          11,
          0,
          4,
          1,
          4,
          1,
          4,
          1,
          10,
          0,
          4,
          0,
          4,
          1,
          4,
          1,
          4,
          1,
          3,
          0,
          4,
          0,
          4,
          1,
          4,
          1,
          4,
          1,
          4,
          1,
          4,
          1,
          4,
          1,
          4,
          1,
          4,
          1,
          4,
          1,
          10,
          0,
          4,
          1,
          10,
          0,
          4,
          1,
          4,
          1
         ],
         "textposition": "top right",
         "type": "scatter",
         "x": [
          0,
          1,
          2,
          3,
          4,
          5,
          6,
          7,
          8,
          9,
          10,
          11,
          12,
          13,
          14,
          15,
          16,
          17,
          18,
          19,
          20,
          21,
          22,
          23,
          24,
          25,
          26,
          27,
          28,
          29,
          30,
          31,
          32,
          33,
          34,
          35,
          36,
          37,
          38,
          39,
          40,
          41,
          42,
          43,
          44,
          45,
          46,
          47,
          48,
          49,
          50,
          51,
          52,
          53,
          54,
          55,
          56,
          57,
          58,
          59,
          60,
          61,
          62,
          63,
          64,
          65,
          66,
          67,
          68,
          69,
          70,
          71,
          72,
          73,
          74,
          75,
          76,
          77,
          78,
          79,
          80,
          81,
          82,
          83,
          84,
          85,
          86,
          87,
          88,
          89,
          90,
          91,
          92,
          93,
          94,
          95,
          96,
          97,
          98,
          99,
          100,
          101,
          102,
          103,
          104,
          105,
          106,
          107,
          108,
          109,
          110,
          111,
          112,
          113,
          114,
          115,
          116,
          117,
          118,
          119,
          120,
          121,
          122,
          123,
          124,
          125,
          126,
          127,
          128,
          129,
          130,
          131,
          132,
          133,
          134,
          135,
          136,
          137,
          138,
          139,
          140,
          141,
          142,
          143,
          144,
          145,
          146,
          147,
          148,
          149,
          150,
          151,
          152,
          153,
          154,
          155,
          156,
          157,
          158,
          159,
          160,
          161,
          162,
          163,
          164,
          165,
          166,
          167,
          168,
          169,
          170,
          171,
          172,
          173,
          174,
          175,
          176,
          177,
          178,
          179,
          180,
          181,
          182,
          183,
          184,
          185,
          186,
          187,
          188,
          189,
          190,
          191,
          192,
          193,
          194,
          195,
          196,
          197,
          198
         ],
         "xaxis": "x",
         "y": [
          0.30773255,
          2.7667646,
          1.4393908,
          2.5871272,
          1.3000925,
          2.6742606,
          0.3439475,
          2.08362,
          0.6946339,
          2.2104855,
          0.8888966,
          1.51418,
          0.50959116,
          0.88752985,
          0.47866857,
          0.62197834,
          0.34475127,
          0.62458396,
          0.13460398,
          0.5705393,
          0.31061178,
          0.5142175,
          1.1687644,
          3.4026296,
          1.8595912,
          2.6385837,
          1.142354,
          0.7493792,
          0.1129512,
          2.2428696,
          0.9854263,
          1.6410046,
          0.6942133,
          2.9427037,
          0.08473458,
          3.5817258,
          0.14128426,
          1.3085401,
          1.9026791,
          0.6766166,
          0.16932486,
          0.5127885,
          0.20471041,
          3.6205528,
          0.4414023,
          0.5765915,
          2.6888125,
          2.582687,
          0.15585048,
          2.572493,
          0.14390337,
          2.2078176,
          0.14806485,
          1.8873973,
          0.13755868,
          1.4099554,
          0.16999118,
          2.8872385,
          0.13572523,
          1.1569424,
          0.08125421,
          0.87498236,
          0.15278624,
          0.9708441,
          0.120632365,
          2.940557,
          0.13503578,
          0.5588259,
          0.08941018,
          0.7524823,
          0.06774214,
          0.5364616,
          0.11816549,
          3.5414548,
          0.3284151,
          0.51278406,
          0.104903735,
          2.0635767,
          0.72034174,
          0.6941901,
          0.09743831,
          4.0086927,
          0.23430681,
          0.4988965,
          0.11724427,
          0.5298995,
          0.09278846,
          0.42604476,
          0.09115015,
          3.505416,
          0.25254384,
          0.39907426,
          0.092215836,
          0.39390463,
          0.13531695,
          3.4919627,
          0.15496407,
          0.43435407,
          0.14046128,
          0.34101695,
          0.10684637,
          3.8598738,
          0.33652186,
          3.4010026,
          0.2514939,
          0.3523195,
          0.10387846,
          0.5078849,
          0.14996019,
          0.3616393,
          0.1315104,
          0.33196798,
          0.13339436,
          4.1707454,
          0.23561731,
          0.30012923,
          0.101866305,
          0.31910357,
          0.15508923,
          0.30729774,
          0.07077201,
          3.2725496,
          0.20543142,
          0.24996659,
          0.08893433,
          0.30624294,
          0.099853225,
          3.5546079,
          0.8399404,
          0.30091357,
          0.088380344,
          0.2705872,
          2.0680623,
          0.2833262,
          2.4007041,
          0.22015639,
          0.118899696,
          0.22727168,
          0.10089417,
          0.30152422,
          0.07668929,
          3.5344253,
          0.17187093,
          0.2431925,
          2.1636143,
          3.867429,
          0.19954215,
          0.21237747,
          0.11979982,
          3.667301,
          0.23994103,
          0.21724968,
          0.11092864,
          0.27310923,
          0.113246515,
          0.277416,
          0.07808025,
          4.047152,
          0.34639436,
          0.22623706,
          2.4872456,
          0.2457617,
          0.09801314,
          0.34012976,
          0.11350323,
          0.30406713,
          0.07164892,
          3.3307192,
          0.24711297,
          0.22449523,
          2.644735,
          0.24352875,
          0.072850406,
          0.31482032,
          0.06375775,
          0.22420663,
          0.080620944,
          0.23586611,
          0.09447517,
          0.25280237,
          0.07251198,
          0.25222525,
          0.1381512,
          0.3354746,
          0.08647144,
          0.29055688,
          0.0790812,
          0.25305998,
          0.077263586,
          3.9857461,
          0.17442708,
          0.23047677,
          0.07265466,
          3.8608632,
          0.19930515,
          0.21977131,
          0.10780086,
          0.2712171,
          0.06377206
         ],
         "yaxis": "y"
        },
        {
         "mode": "lines",
         "name": "Smoothed Loss",
         "type": "scatter",
         "y": [
          0.8996530175209045,
          0.8996530175209045,
          0.8996530175209045,
          0.8996530175209045,
          0.8996530175209045,
          0.8996530175209045,
          0.8996530175209045,
          0.8996530175209045,
          0.8996530175209045,
          0.8996530175209045
         ]
        }
       ],
       "layout": {
        "legend": {
         "title": {
          "text": "variable"
         },
         "tracegroupgap": 0
        },
        "template": {
         "data": {
          "bar": [
           {
            "error_x": {
             "color": "#2a3f5f"
            },
            "error_y": {
             "color": "#2a3f5f"
            },
            "marker": {
             "line": {
              "color": "#E5ECF6",
              "width": 0.5
             },
             "pattern": {
              "fillmode": "overlay",
              "size": 10,
              "solidity": 0.2
             }
            },
            "type": "bar"
           }
          ],
          "barpolar": [
           {
            "marker": {
             "line": {
              "color": "#E5ECF6",
              "width": 0.5
             },
             "pattern": {
              "fillmode": "overlay",
              "size": 10,
              "solidity": 0.2
             }
            },
            "type": "barpolar"
           }
          ],
          "carpet": [
           {
            "aaxis": {
             "endlinecolor": "#2a3f5f",
             "gridcolor": "white",
             "linecolor": "white",
             "minorgridcolor": "white",
             "startlinecolor": "#2a3f5f"
            },
            "baxis": {
             "endlinecolor": "#2a3f5f",
             "gridcolor": "white",
             "linecolor": "white",
             "minorgridcolor": "white",
             "startlinecolor": "#2a3f5f"
            },
            "type": "carpet"
           }
          ],
          "choropleth": [
           {
            "colorbar": {
             "outlinewidth": 0,
             "ticks": ""
            },
            "type": "choropleth"
           }
          ],
          "contour": [
           {
            "colorbar": {
             "outlinewidth": 0,
             "ticks": ""
            },
            "colorscale": [
             [
              0,
              "#0d0887"
             ],
             [
              0.1111111111111111,
              "#46039f"
             ],
             [
              0.2222222222222222,
              "#7201a8"
             ],
             [
              0.3333333333333333,
              "#9c179e"
             ],
             [
              0.4444444444444444,
              "#bd3786"
             ],
             [
              0.5555555555555556,
              "#d8576b"
             ],
             [
              0.6666666666666666,
              "#ed7953"
             ],
             [
              0.7777777777777778,
              "#fb9f3a"
             ],
             [
              0.8888888888888888,
              "#fdca26"
             ],
             [
              1,
              "#f0f921"
             ]
            ],
            "type": "contour"
           }
          ],
          "contourcarpet": [
           {
            "colorbar": {
             "outlinewidth": 0,
             "ticks": ""
            },
            "type": "contourcarpet"
           }
          ],
          "heatmap": [
           {
            "colorbar": {
             "outlinewidth": 0,
             "ticks": ""
            },
            "colorscale": [
             [
              0,
              "#0d0887"
             ],
             [
              0.1111111111111111,
              "#46039f"
             ],
             [
              0.2222222222222222,
              "#7201a8"
             ],
             [
              0.3333333333333333,
              "#9c179e"
             ],
             [
              0.4444444444444444,
              "#bd3786"
             ],
             [
              0.5555555555555556,
              "#d8576b"
             ],
             [
              0.6666666666666666,
              "#ed7953"
             ],
             [
              0.7777777777777778,
              "#fb9f3a"
             ],
             [
              0.8888888888888888,
              "#fdca26"
             ],
             [
              1,
              "#f0f921"
             ]
            ],
            "type": "heatmap"
           }
          ],
          "heatmapgl": [
           {
            "colorbar": {
             "outlinewidth": 0,
             "ticks": ""
            },
            "colorscale": [
             [
              0,
              "#0d0887"
             ],
             [
              0.1111111111111111,
              "#46039f"
             ],
             [
              0.2222222222222222,
              "#7201a8"
             ],
             [
              0.3333333333333333,
              "#9c179e"
             ],
             [
              0.4444444444444444,
              "#bd3786"
             ],
             [
              0.5555555555555556,
              "#d8576b"
             ],
             [
              0.6666666666666666,
              "#ed7953"
             ],
             [
              0.7777777777777778,
              "#fb9f3a"
             ],
             [
              0.8888888888888888,
              "#fdca26"
             ],
             [
              1,
              "#f0f921"
             ]
            ],
            "type": "heatmapgl"
           }
          ],
          "histogram": [
           {
            "marker": {
             "pattern": {
              "fillmode": "overlay",
              "size": 10,
              "solidity": 0.2
             }
            },
            "type": "histogram"
           }
          ],
          "histogram2d": [
           {
            "colorbar": {
             "outlinewidth": 0,
             "ticks": ""
            },
            "colorscale": [
             [
              0,
              "#0d0887"
             ],
             [
              0.1111111111111111,
              "#46039f"
             ],
             [
              0.2222222222222222,
              "#7201a8"
             ],
             [
              0.3333333333333333,
              "#9c179e"
             ],
             [
              0.4444444444444444,
              "#bd3786"
             ],
             [
              0.5555555555555556,
              "#d8576b"
             ],
             [
              0.6666666666666666,
              "#ed7953"
             ],
             [
              0.7777777777777778,
              "#fb9f3a"
             ],
             [
              0.8888888888888888,
              "#fdca26"
             ],
             [
              1,
              "#f0f921"
             ]
            ],
            "type": "histogram2d"
           }
          ],
          "histogram2dcontour": [
           {
            "colorbar": {
             "outlinewidth": 0,
             "ticks": ""
            },
            "colorscale": [
             [
              0,
              "#0d0887"
             ],
             [
              0.1111111111111111,
              "#46039f"
             ],
             [
              0.2222222222222222,
              "#7201a8"
             ],
             [
              0.3333333333333333,
              "#9c179e"
             ],
             [
              0.4444444444444444,
              "#bd3786"
             ],
             [
              0.5555555555555556,
              "#d8576b"
             ],
             [
              0.6666666666666666,
              "#ed7953"
             ],
             [
              0.7777777777777778,
              "#fb9f3a"
             ],
             [
              0.8888888888888888,
              "#fdca26"
             ],
             [
              1,
              "#f0f921"
             ]
            ],
            "type": "histogram2dcontour"
           }
          ],
          "mesh3d": [
           {
            "colorbar": {
             "outlinewidth": 0,
             "ticks": ""
            },
            "type": "mesh3d"
           }
          ],
          "parcoords": [
           {
            "line": {
             "colorbar": {
              "outlinewidth": 0,
              "ticks": ""
             }
            },
            "type": "parcoords"
           }
          ],
          "pie": [
           {
            "automargin": true,
            "type": "pie"
           }
          ],
          "scatter": [
           {
            "fillpattern": {
             "fillmode": "overlay",
             "size": 10,
             "solidity": 0.2
            },
            "type": "scatter"
           }
          ],
          "scatter3d": [
           {
            "line": {
             "colorbar": {
              "outlinewidth": 0,
              "ticks": ""
             }
            },
            "marker": {
             "colorbar": {
              "outlinewidth": 0,
              "ticks": ""
             }
            },
            "type": "scatter3d"
           }
          ],
          "scattercarpet": [
           {
            "marker": {
             "colorbar": {
              "outlinewidth": 0,
              "ticks": ""
             }
            },
            "type": "scattercarpet"
           }
          ],
          "scattergeo": [
           {
            "marker": {
             "colorbar": {
              "outlinewidth": 0,
              "ticks": ""
             }
            },
            "type": "scattergeo"
           }
          ],
          "scattergl": [
           {
            "marker": {
             "colorbar": {
              "outlinewidth": 0,
              "ticks": ""
             }
            },
            "type": "scattergl"
           }
          ],
          "scattermapbox": [
           {
            "marker": {
             "colorbar": {
              "outlinewidth": 0,
              "ticks": ""
             }
            },
            "type": "scattermapbox"
           }
          ],
          "scatterpolar": [
           {
            "marker": {
             "colorbar": {
              "outlinewidth": 0,
              "ticks": ""
             }
            },
            "type": "scatterpolar"
           }
          ],
          "scatterpolargl": [
           {
            "marker": {
             "colorbar": {
              "outlinewidth": 0,
              "ticks": ""
             }
            },
            "type": "scatterpolargl"
           }
          ],
          "scatterternary": [
           {
            "marker": {
             "colorbar": {
              "outlinewidth": 0,
              "ticks": ""
             }
            },
            "type": "scatterternary"
           }
          ],
          "surface": [
           {
            "colorbar": {
             "outlinewidth": 0,
             "ticks": ""
            },
            "colorscale": [
             [
              0,
              "#0d0887"
             ],
             [
              0.1111111111111111,
              "#46039f"
             ],
             [
              0.2222222222222222,
              "#7201a8"
             ],
             [
              0.3333333333333333,
              "#9c179e"
             ],
             [
              0.4444444444444444,
              "#bd3786"
             ],
             [
              0.5555555555555556,
              "#d8576b"
             ],
             [
              0.6666666666666666,
              "#ed7953"
             ],
             [
              0.7777777777777778,
              "#fb9f3a"
             ],
             [
              0.8888888888888888,
              "#fdca26"
             ],
             [
              1,
              "#f0f921"
             ]
            ],
            "type": "surface"
           }
          ],
          "table": [
           {
            "cells": {
             "fill": {
              "color": "#EBF0F8"
             },
             "line": {
              "color": "white"
             }
            },
            "header": {
             "fill": {
              "color": "#C8D4E3"
             },
             "line": {
              "color": "white"
             }
            },
            "type": "table"
           }
          ]
         },
         "layout": {
          "annotationdefaults": {
           "arrowcolor": "#2a3f5f",
           "arrowhead": 0,
           "arrowwidth": 1
          },
          "autotypenumbers": "strict",
          "coloraxis": {
           "colorbar": {
            "outlinewidth": 0,
            "ticks": ""
           }
          },
          "colorscale": {
           "diverging": [
            [
             0,
             "#8e0152"
            ],
            [
             0.1,
             "#c51b7d"
            ],
            [
             0.2,
             "#de77ae"
            ],
            [
             0.3,
             "#f1b6da"
            ],
            [
             0.4,
             "#fde0ef"
            ],
            [
             0.5,
             "#f7f7f7"
            ],
            [
             0.6,
             "#e6f5d0"
            ],
            [
             0.7,
             "#b8e186"
            ],
            [
             0.8,
             "#7fbc41"
            ],
            [
             0.9,
             "#4d9221"
            ],
            [
             1,
             "#276419"
            ]
           ],
           "sequential": [
            [
             0,
             "#0d0887"
            ],
            [
             0.1111111111111111,
             "#46039f"
            ],
            [
             0.2222222222222222,
             "#7201a8"
            ],
            [
             0.3333333333333333,
             "#9c179e"
            ],
            [
             0.4444444444444444,
             "#bd3786"
            ],
            [
             0.5555555555555556,
             "#d8576b"
            ],
            [
             0.6666666666666666,
             "#ed7953"
            ],
            [
             0.7777777777777778,
             "#fb9f3a"
            ],
            [
             0.8888888888888888,
             "#fdca26"
            ],
            [
             1,
             "#f0f921"
            ]
           ],
           "sequentialminus": [
            [
             0,
             "#0d0887"
            ],
            [
             0.1111111111111111,
             "#46039f"
            ],
            [
             0.2222222222222222,
             "#7201a8"
            ],
            [
             0.3333333333333333,
             "#9c179e"
            ],
            [
             0.4444444444444444,
             "#bd3786"
            ],
            [
             0.5555555555555556,
             "#d8576b"
            ],
            [
             0.6666666666666666,
             "#ed7953"
            ],
            [
             0.7777777777777778,
             "#fb9f3a"
            ],
            [
             0.8888888888888888,
             "#fdca26"
            ],
            [
             1,
             "#f0f921"
            ]
           ]
          },
          "colorway": [
           "#636efa",
           "#EF553B",
           "#00cc96",
           "#ab63fa",
           "#FFA15A",
           "#19d3f3",
           "#FF6692",
           "#B6E880",
           "#FF97FF",
           "#FECB52"
          ],
          "font": {
           "color": "#2a3f5f"
          },
          "geo": {
           "bgcolor": "white",
           "lakecolor": "white",
           "landcolor": "#E5ECF6",
           "showlakes": true,
           "showland": true,
           "subunitcolor": "white"
          },
          "hoverlabel": {
           "align": "left"
          },
          "hovermode": "closest",
          "mapbox": {
           "style": "light"
          },
          "paper_bgcolor": "white",
          "plot_bgcolor": "#E5ECF6",
          "polar": {
           "angularaxis": {
            "gridcolor": "white",
            "linecolor": "white",
            "ticks": ""
           },
           "bgcolor": "#E5ECF6",
           "radialaxis": {
            "gridcolor": "white",
            "linecolor": "white",
            "ticks": ""
           }
          },
          "scene": {
           "xaxis": {
            "backgroundcolor": "#E5ECF6",
            "gridcolor": "white",
            "gridwidth": 2,
            "linecolor": "white",
            "showbackground": true,
            "ticks": "",
            "zerolinecolor": "white"
           },
           "yaxis": {
            "backgroundcolor": "#E5ECF6",
            "gridcolor": "white",
            "gridwidth": 2,
            "linecolor": "white",
            "showbackground": true,
            "ticks": "",
            "zerolinecolor": "white"
           },
           "zaxis": {
            "backgroundcolor": "#E5ECF6",
            "gridcolor": "white",
            "gridwidth": 2,
            "linecolor": "white",
            "showbackground": true,
            "ticks": "",
            "zerolinecolor": "white"
           }
          },
          "shapedefaults": {
           "line": {
            "color": "#2a3f5f"
           }
          },
          "ternary": {
           "aaxis": {
            "gridcolor": "white",
            "linecolor": "white",
            "ticks": ""
           },
           "baxis": {
            "gridcolor": "white",
            "linecolor": "white",
            "ticks": ""
           },
           "bgcolor": "#E5ECF6",
           "caxis": {
            "gridcolor": "white",
            "linecolor": "white",
            "ticks": ""
           }
          },
          "title": {
           "x": 0.05
          },
          "xaxis": {
           "automargin": true,
           "gridcolor": "white",
           "linecolor": "white",
           "ticks": "",
           "title": {
            "standoff": 15
           },
           "zerolinecolor": "white",
           "zerolinewidth": 2
          },
          "yaxis": {
           "automargin": true,
           "gridcolor": "white",
           "linecolor": "white",
           "ticks": "",
           "title": {
            "standoff": 15
           },
           "zerolinecolor": "white",
           "zerolinewidth": 2
          }
         }
        },
        "title": {
         "text": "Loss at Each Position"
        },
        "xaxis": {
         "anchor": "y",
         "domain": [
          0,
          1
         ],
         "title": {
          "text": "index"
         }
        },
        "yaxis": {
         "anchor": "x",
         "domain": [
          0,
          1
         ],
         "title": {
          "text": "value"
         }
        }
       }
      }
     },
     "metadata": {},
     "output_type": "display_data"
    }
   ],
   "source": [
    "logits = model(test_trajectory)\n",
    "# Calculate loss\n",
    "loss = loss_fn(logits, test_trajectory, per_token=True)\n",
    "# Plotly lineplot\n",
    "fig = px.line(loss.detach().cpu().squeeze().numpy(), labels={'x': 'Position', 'y': 'Loss'}, title='Loss at Each Position')\n",
    "# Label each point on the line with the correct token from test_trajectory\n",
    "fig.update_traces(text=test_trajectory.squeeze().numpy(), textposition='top right')\n",
    "# Do the rolling mean\n",
    "smoothed_loss = loss.detach().cpu().squeeze().numpy().reshape(-1, 199).mean(1)\n",
    "smoothed_loss = np.concatenate([np.ones(9)*smoothed_loss[0], smoothed_loss])\n",
    "# Add smoothed loss to the plot\n",
    "fig.add_scatter(y=smoothed_loss, mode='lines', name='Smoothed Loss')\n",
    "fig.show()"
   ]
  },
  {
   "cell_type": "code",
   "execution_count": 627,
   "metadata": {},
   "outputs": [
    {
     "data": {
      "application/vnd.plotly.v1+json": {
       "config": {
        "plotlyServerURL": "https://plot.ly"
       },
       "data": [
        {
         "hovertemplate": "Position=%{x}<br>Reward=%{y}<extra></extra>",
         "legendgroup": "",
         "line": {
          "color": "#636efa",
          "dash": "solid"
         },
         "marker": {
          "symbol": "circle"
         },
         "mode": "lines",
         "name": "",
         "orientation": "v",
         "showlegend": false,
         "type": "scatter",
         "x": [
          0,
          1,
          2,
          3,
          4,
          5,
          6,
          7,
          8,
          9,
          10,
          11,
          12,
          13,
          14,
          15,
          16,
          17,
          18,
          19,
          20,
          21,
          22,
          23,
          24,
          25,
          26,
          27,
          28,
          29,
          30,
          31,
          32,
          33,
          34,
          35,
          36,
          37,
          38,
          39,
          40,
          41,
          42,
          43,
          44,
          45,
          46,
          47,
          48,
          49,
          50,
          51,
          52,
          53,
          54,
          55,
          56,
          57,
          58,
          59,
          60,
          61,
          62,
          63,
          64,
          65,
          66,
          67,
          68,
          69,
          70,
          71,
          72,
          73,
          74,
          75,
          76,
          77,
          78,
          79,
          80,
          81,
          82,
          83,
          84,
          85,
          86,
          87,
          88,
          89
         ],
         "xaxis": "x",
         "y": [
          0,
          0,
          0,
          0,
          0,
          0,
          0,
          0,
          0,
          0,
          0,
          0,
          0.10000000149011612,
          0.10000000149011612,
          0.10000000149011612,
          0.10000000149011612,
          0.10000000149011612,
          0.10000000149011612,
          0.10000000149011612,
          0.10000000149011612,
          0.10000000149011612,
          0.10000000149011612,
          0,
          0,
          0,
          0,
          0,
          0,
          0.10000000149011612,
          0.20000000298023224,
          0.20000000298023224,
          0.20000000298023224,
          0.20000000298023224,
          0.20000000298023224,
          0.30000001192092896,
          0.30000001192092896,
          0.4000000059604645,
          0.4000000059604645,
          0.30000001192092896,
          0.20000000298023224,
          0.20000000298023224,
          0.20000000298023224,
          0.20000000298023224,
          0.20000000298023224,
          0.10000000149011612,
          0.10000000149011612,
          0,
          0,
          0,
          0,
          0,
          0,
          0,
          0,
          0,
          0,
          0,
          0,
          0,
          0,
          0,
          0,
          0,
          0,
          0.10000000149011612,
          0.20000000298023224,
          0.20000000298023224,
          0.20000000298023224,
          0.20000000298023224,
          0.20000000298023224,
          0.20000000298023224,
          0.20000000298023224,
          0.30000001192092896,
          0.30000001192092896,
          0.30000001192092896,
          0.20000000298023224,
          0.20000000298023224,
          0.20000000298023224,
          0.20000000298023224,
          0.20000000298023224,
          0.20000000298023224,
          0.20000000298023224,
          0.10000000149011612,
          0.10000000149011612,
          0,
          0,
          0,
          0,
          0.10000000149011612,
          0.10000000149011612
         ],
         "yaxis": "y"
        }
       ],
       "layout": {
        "legend": {
         "tracegroupgap": 0
        },
        "template": {
         "data": {
          "bar": [
           {
            "error_x": {
             "color": "#2a3f5f"
            },
            "error_y": {
             "color": "#2a3f5f"
            },
            "marker": {
             "line": {
              "color": "#E5ECF6",
              "width": 0.5
             },
             "pattern": {
              "fillmode": "overlay",
              "size": 10,
              "solidity": 0.2
             }
            },
            "type": "bar"
           }
          ],
          "barpolar": [
           {
            "marker": {
             "line": {
              "color": "#E5ECF6",
              "width": 0.5
             },
             "pattern": {
              "fillmode": "overlay",
              "size": 10,
              "solidity": 0.2
             }
            },
            "type": "barpolar"
           }
          ],
          "carpet": [
           {
            "aaxis": {
             "endlinecolor": "#2a3f5f",
             "gridcolor": "white",
             "linecolor": "white",
             "minorgridcolor": "white",
             "startlinecolor": "#2a3f5f"
            },
            "baxis": {
             "endlinecolor": "#2a3f5f",
             "gridcolor": "white",
             "linecolor": "white",
             "minorgridcolor": "white",
             "startlinecolor": "#2a3f5f"
            },
            "type": "carpet"
           }
          ],
          "choropleth": [
           {
            "colorbar": {
             "outlinewidth": 0,
             "ticks": ""
            },
            "type": "choropleth"
           }
          ],
          "contour": [
           {
            "colorbar": {
             "outlinewidth": 0,
             "ticks": ""
            },
            "colorscale": [
             [
              0,
              "#0d0887"
             ],
             [
              0.1111111111111111,
              "#46039f"
             ],
             [
              0.2222222222222222,
              "#7201a8"
             ],
             [
              0.3333333333333333,
              "#9c179e"
             ],
             [
              0.4444444444444444,
              "#bd3786"
             ],
             [
              0.5555555555555556,
              "#d8576b"
             ],
             [
              0.6666666666666666,
              "#ed7953"
             ],
             [
              0.7777777777777778,
              "#fb9f3a"
             ],
             [
              0.8888888888888888,
              "#fdca26"
             ],
             [
              1,
              "#f0f921"
             ]
            ],
            "type": "contour"
           }
          ],
          "contourcarpet": [
           {
            "colorbar": {
             "outlinewidth": 0,
             "ticks": ""
            },
            "type": "contourcarpet"
           }
          ],
          "heatmap": [
           {
            "colorbar": {
             "outlinewidth": 0,
             "ticks": ""
            },
            "colorscale": [
             [
              0,
              "#0d0887"
             ],
             [
              0.1111111111111111,
              "#46039f"
             ],
             [
              0.2222222222222222,
              "#7201a8"
             ],
             [
              0.3333333333333333,
              "#9c179e"
             ],
             [
              0.4444444444444444,
              "#bd3786"
             ],
             [
              0.5555555555555556,
              "#d8576b"
             ],
             [
              0.6666666666666666,
              "#ed7953"
             ],
             [
              0.7777777777777778,
              "#fb9f3a"
             ],
             [
              0.8888888888888888,
              "#fdca26"
             ],
             [
              1,
              "#f0f921"
             ]
            ],
            "type": "heatmap"
           }
          ],
          "heatmapgl": [
           {
            "colorbar": {
             "outlinewidth": 0,
             "ticks": ""
            },
            "colorscale": [
             [
              0,
              "#0d0887"
             ],
             [
              0.1111111111111111,
              "#46039f"
             ],
             [
              0.2222222222222222,
              "#7201a8"
             ],
             [
              0.3333333333333333,
              "#9c179e"
             ],
             [
              0.4444444444444444,
              "#bd3786"
             ],
             [
              0.5555555555555556,
              "#d8576b"
             ],
             [
              0.6666666666666666,
              "#ed7953"
             ],
             [
              0.7777777777777778,
              "#fb9f3a"
             ],
             [
              0.8888888888888888,
              "#fdca26"
             ],
             [
              1,
              "#f0f921"
             ]
            ],
            "type": "heatmapgl"
           }
          ],
          "histogram": [
           {
            "marker": {
             "pattern": {
              "fillmode": "overlay",
              "size": 10,
              "solidity": 0.2
             }
            },
            "type": "histogram"
           }
          ],
          "histogram2d": [
           {
            "colorbar": {
             "outlinewidth": 0,
             "ticks": ""
            },
            "colorscale": [
             [
              0,
              "#0d0887"
             ],
             [
              0.1111111111111111,
              "#46039f"
             ],
             [
              0.2222222222222222,
              "#7201a8"
             ],
             [
              0.3333333333333333,
              "#9c179e"
             ],
             [
              0.4444444444444444,
              "#bd3786"
             ],
             [
              0.5555555555555556,
              "#d8576b"
             ],
             [
              0.6666666666666666,
              "#ed7953"
             ],
             [
              0.7777777777777778,
              "#fb9f3a"
             ],
             [
              0.8888888888888888,
              "#fdca26"
             ],
             [
              1,
              "#f0f921"
             ]
            ],
            "type": "histogram2d"
           }
          ],
          "histogram2dcontour": [
           {
            "colorbar": {
             "outlinewidth": 0,
             "ticks": ""
            },
            "colorscale": [
             [
              0,
              "#0d0887"
             ],
             [
              0.1111111111111111,
              "#46039f"
             ],
             [
              0.2222222222222222,
              "#7201a8"
             ],
             [
              0.3333333333333333,
              "#9c179e"
             ],
             [
              0.4444444444444444,
              "#bd3786"
             ],
             [
              0.5555555555555556,
              "#d8576b"
             ],
             [
              0.6666666666666666,
              "#ed7953"
             ],
             [
              0.7777777777777778,
              "#fb9f3a"
             ],
             [
              0.8888888888888888,
              "#fdca26"
             ],
             [
              1,
              "#f0f921"
             ]
            ],
            "type": "histogram2dcontour"
           }
          ],
          "mesh3d": [
           {
            "colorbar": {
             "outlinewidth": 0,
             "ticks": ""
            },
            "type": "mesh3d"
           }
          ],
          "parcoords": [
           {
            "line": {
             "colorbar": {
              "outlinewidth": 0,
              "ticks": ""
             }
            },
            "type": "parcoords"
           }
          ],
          "pie": [
           {
            "automargin": true,
            "type": "pie"
           }
          ],
          "scatter": [
           {
            "fillpattern": {
             "fillmode": "overlay",
             "size": 10,
             "solidity": 0.2
            },
            "type": "scatter"
           }
          ],
          "scatter3d": [
           {
            "line": {
             "colorbar": {
              "outlinewidth": 0,
              "ticks": ""
             }
            },
            "marker": {
             "colorbar": {
              "outlinewidth": 0,
              "ticks": ""
             }
            },
            "type": "scatter3d"
           }
          ],
          "scattercarpet": [
           {
            "marker": {
             "colorbar": {
              "outlinewidth": 0,
              "ticks": ""
             }
            },
            "type": "scattercarpet"
           }
          ],
          "scattergeo": [
           {
            "marker": {
             "colorbar": {
              "outlinewidth": 0,
              "ticks": ""
             }
            },
            "type": "scattergeo"
           }
          ],
          "scattergl": [
           {
            "marker": {
             "colorbar": {
              "outlinewidth": 0,
              "ticks": ""
             }
            },
            "type": "scattergl"
           }
          ],
          "scattermapbox": [
           {
            "marker": {
             "colorbar": {
              "outlinewidth": 0,
              "ticks": ""
             }
            },
            "type": "scattermapbox"
           }
          ],
          "scatterpolar": [
           {
            "marker": {
             "colorbar": {
              "outlinewidth": 0,
              "ticks": ""
             }
            },
            "type": "scatterpolar"
           }
          ],
          "scatterpolargl": [
           {
            "marker": {
             "colorbar": {
              "outlinewidth": 0,
              "ticks": ""
             }
            },
            "type": "scatterpolargl"
           }
          ],
          "scatterternary": [
           {
            "marker": {
             "colorbar": {
              "outlinewidth": 0,
              "ticks": ""
             }
            },
            "type": "scatterternary"
           }
          ],
          "surface": [
           {
            "colorbar": {
             "outlinewidth": 0,
             "ticks": ""
            },
            "colorscale": [
             [
              0,
              "#0d0887"
             ],
             [
              0.1111111111111111,
              "#46039f"
             ],
             [
              0.2222222222222222,
              "#7201a8"
             ],
             [
              0.3333333333333333,
              "#9c179e"
             ],
             [
              0.4444444444444444,
              "#bd3786"
             ],
             [
              0.5555555555555556,
              "#d8576b"
             ],
             [
              0.6666666666666666,
              "#ed7953"
             ],
             [
              0.7777777777777778,
              "#fb9f3a"
             ],
             [
              0.8888888888888888,
              "#fdca26"
             ],
             [
              1,
              "#f0f921"
             ]
            ],
            "type": "surface"
           }
          ],
          "table": [
           {
            "cells": {
             "fill": {
              "color": "#EBF0F8"
             },
             "line": {
              "color": "white"
             }
            },
            "header": {
             "fill": {
              "color": "#C8D4E3"
             },
             "line": {
              "color": "white"
             }
            },
            "type": "table"
           }
          ]
         },
         "layout": {
          "annotationdefaults": {
           "arrowcolor": "#2a3f5f",
           "arrowhead": 0,
           "arrowwidth": 1
          },
          "autotypenumbers": "strict",
          "coloraxis": {
           "colorbar": {
            "outlinewidth": 0,
            "ticks": ""
           }
          },
          "colorscale": {
           "diverging": [
            [
             0,
             "#8e0152"
            ],
            [
             0.1,
             "#c51b7d"
            ],
            [
             0.2,
             "#de77ae"
            ],
            [
             0.3,
             "#f1b6da"
            ],
            [
             0.4,
             "#fde0ef"
            ],
            [
             0.5,
             "#f7f7f7"
            ],
            [
             0.6,
             "#e6f5d0"
            ],
            [
             0.7,
             "#b8e186"
            ],
            [
             0.8,
             "#7fbc41"
            ],
            [
             0.9,
             "#4d9221"
            ],
            [
             1,
             "#276419"
            ]
           ],
           "sequential": [
            [
             0,
             "#0d0887"
            ],
            [
             0.1111111111111111,
             "#46039f"
            ],
            [
             0.2222222222222222,
             "#7201a8"
            ],
            [
             0.3333333333333333,
             "#9c179e"
            ],
            [
             0.4444444444444444,
             "#bd3786"
            ],
            [
             0.5555555555555556,
             "#d8576b"
            ],
            [
             0.6666666666666666,
             "#ed7953"
            ],
            [
             0.7777777777777778,
             "#fb9f3a"
            ],
            [
             0.8888888888888888,
             "#fdca26"
            ],
            [
             1,
             "#f0f921"
            ]
           ],
           "sequentialminus": [
            [
             0,
             "#0d0887"
            ],
            [
             0.1111111111111111,
             "#46039f"
            ],
            [
             0.2222222222222222,
             "#7201a8"
            ],
            [
             0.3333333333333333,
             "#9c179e"
            ],
            [
             0.4444444444444444,
             "#bd3786"
            ],
            [
             0.5555555555555556,
             "#d8576b"
            ],
            [
             0.6666666666666666,
             "#ed7953"
            ],
            [
             0.7777777777777778,
             "#fb9f3a"
            ],
            [
             0.8888888888888888,
             "#fdca26"
            ],
            [
             1,
             "#f0f921"
            ]
           ]
          },
          "colorway": [
           "#636efa",
           "#EF553B",
           "#00cc96",
           "#ab63fa",
           "#FFA15A",
           "#19d3f3",
           "#FF6692",
           "#B6E880",
           "#FF97FF",
           "#FECB52"
          ],
          "font": {
           "color": "#2a3f5f"
          },
          "geo": {
           "bgcolor": "white",
           "lakecolor": "white",
           "landcolor": "#E5ECF6",
           "showlakes": true,
           "showland": true,
           "subunitcolor": "white"
          },
          "hoverlabel": {
           "align": "left"
          },
          "hovermode": "closest",
          "mapbox": {
           "style": "light"
          },
          "paper_bgcolor": "white",
          "plot_bgcolor": "#E5ECF6",
          "polar": {
           "angularaxis": {
            "gridcolor": "white",
            "linecolor": "white",
            "ticks": ""
           },
           "bgcolor": "#E5ECF6",
           "radialaxis": {
            "gridcolor": "white",
            "linecolor": "white",
            "ticks": ""
           }
          },
          "scene": {
           "xaxis": {
            "backgroundcolor": "#E5ECF6",
            "gridcolor": "white",
            "gridwidth": 2,
            "linecolor": "white",
            "showbackground": true,
            "ticks": "",
            "zerolinecolor": "white"
           },
           "yaxis": {
            "backgroundcolor": "#E5ECF6",
            "gridcolor": "white",
            "gridwidth": 2,
            "linecolor": "white",
            "showbackground": true,
            "ticks": "",
            "zerolinecolor": "white"
           },
           "zaxis": {
            "backgroundcolor": "#E5ECF6",
            "gridcolor": "white",
            "gridwidth": 2,
            "linecolor": "white",
            "showbackground": true,
            "ticks": "",
            "zerolinecolor": "white"
           }
          },
          "shapedefaults": {
           "line": {
            "color": "#2a3f5f"
           }
          },
          "ternary": {
           "aaxis": {
            "gridcolor": "white",
            "linecolor": "white",
            "ticks": ""
           },
           "baxis": {
            "gridcolor": "white",
            "linecolor": "white",
            "ticks": ""
           },
           "bgcolor": "#E5ECF6",
           "caxis": {
            "gridcolor": "white",
            "linecolor": "white",
            "ticks": ""
           }
          },
          "title": {
           "x": 0.05
          },
          "xaxis": {
           "automargin": true,
           "gridcolor": "white",
           "linecolor": "white",
           "ticks": "",
           "title": {
            "standoff": 15
           },
           "zerolinecolor": "white",
           "zerolinewidth": 2
          },
          "yaxis": {
           "automargin": true,
           "gridcolor": "white",
           "linecolor": "white",
           "ticks": "",
           "title": {
            "standoff": 15
           },
           "zerolinecolor": "white",
           "zerolinewidth": 2
          }
         }
        },
        "title": {
         "text": "Rewards in Generated Trajectory"
        },
        "xaxis": {
         "anchor": "y",
         "domain": [
          0,
          1
         ],
         "title": {
          "text": "Position"
         }
        },
        "yaxis": {
         "anchor": "x",
         "domain": [
          0,
          1
         ],
         "title": {
          "text": "Reward"
         }
        }
       }
      }
     },
     "metadata": {},
     "output_type": "display_data"
    }
   ],
   "source": [
    "# Get rewards from the generated trajectory\n",
    "rewards = generated_trajectory[:, 1::2].float()\n",
    "# Moving average of rewards\n",
    "moving_avg_rewards = [rewards.squeeze()[i-10:i].mean() for i in range(11, len(rewards.squeeze())+1)]\n",
    "# Plotly line plot\n",
    "fig = px.line(y=moving_avg_rewards, labels={'x': 'Position', 'y': 'Reward'}, title='Rewards in Generated Trajectory')\n",
    "fig.show()"
   ]
  },
  {
   "cell_type": "code",
   "execution_count": null,
   "metadata": {},
   "outputs": [],
   "source": []
  }
 ],
 "metadata": {
  "kernelspec": {
   "display_name": "anu",
   "language": "python",
   "name": "python3"
  },
  "language_info": {
   "codemirror_mode": {
    "name": "ipython",
    "version": 3
   },
   "file_extension": ".py",
   "mimetype": "text/x-python",
   "name": "python",
   "nbconvert_exporter": "python",
   "pygments_lexer": "ipython3",
   "version": "3.12.1"
  }
 },
 "nbformat": 4,
 "nbformat_minor": 2
}
